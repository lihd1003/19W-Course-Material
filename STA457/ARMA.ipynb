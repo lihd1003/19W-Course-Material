{
 "cells": [
  {
   "cell_type": "markdown",
   "metadata": {},
   "source": [
    "#### Autoregressive(AR) and moving average(MA) model \n",
    "A process $\\{X_t\\}$ is said to be an ARMA(p,q) process if \n",
    " - $\\{X_t\\}$ is stationary\n",
    " - $\\forall t. X_t - \\phi_1X_{t-1}-...-\\phi_qX_{t-p} = a_t + \\theta_1a_{t-1}+...+\\theta_qa_{t-q}$  \n",
    " using backward shift operation notation $B^h=x_{t-h}$:  \n",
    " $\\Phi(B)x_t = (1-\\phi_1B - ... - \\phi_p B^p)x_t = (1+\\theta_1B + ...+\\theta_qB^q)a_t = \\Theta(B)a_t$\n",
    " where $a_t \\sim NID(0, \\sigma^2)$  \n",
    " \n",
    "$\\{X_t\\}$ is an ARMA(p,q) process with mean $\\mu$ if $\\{X_t-\\mu\\}$ is an ARMA(p,q) process. "
   ]
  },
  {
   "cell_type": "markdown",
   "metadata": {},
   "source": [
    "#### Moving average model(MA(q))\n",
    "__MA($\\infty$)__ If $\\{a_t\\}\\sim NID(0, \\sigma^2)$ then we say that $\\{X_t\\}$ is a MA($\\infty$) process of $\\{a_t\\}$ if $\\exists\\{\\psi_n\\}, \\sum^\\infty |\\psi_j|<\\infty$ and $X_t = \\sum^\\infty \\phi_j a_{t-j}$ where $t\\in\\mathbb{Z}$.  \n",
    "\n",
    "We can calculate ACF of a stochastic process $\\{X_t\\}$ a.l.s. $\\{X_t\\}$ can be writtin in the form of a MA($\\infty$) process\n",
    "\n",
    "Also, MA($\\infty$) is a required condition for $\\{X_t\\}$ to be stationary. \n",
    "\n",
    "__Theorem__  The MA($\\infty$) process is stationary with 0 mean and autocovariance function $\\gamma(k) = \\sigma^2 \\sum^\\infty \\psi_j\\psi_{j+|k|}$ \n",
    "\n",
    "__MA(q)__ $X_t = \\sum_{i=0}^q \\theta_i a_{t-i} = \\Theta(B)a_t$  $\\theta_0 = 1, B$ is the backward shift operator, $B^hX_t = X_{t-h}$ and $a_t\\sim NID(0, \\sigma^2)$"
   ]
  },
  {
   "cell_type": "markdown",
   "metadata": {},
   "source": [
    "Under MA(q) model  \n",
    "$\\gamma(1) = cov(X_t, X_{t+1})$  \n",
    "$=cov(\\sum_{i=0}^q\\theta_i a_{t-i}, \\sum_{i=0}^q \\theta_ia_{t+1-i})$  \n",
    "$=E(\\sum_{i=0}^{q-1}\\theta_i\\theta_{i+1}a_{t-i}a_{t-i})$ since $a\\sim NID, cov(a_i,a_j) =0$  \n",
    "$=\\sigma^2(\\sum_{i=0}^{q-1}\\theta_i\\theta_{i+1})$\n",
    "\n",
    "Similarly,  \n",
    "$\\gamma(k)=cov(X_t, X_{t+k})$  \n",
    "$=cov(\\sum_{i=0}^q \\theta_t a_{t-i}, \\sum_{i=0}^q \\theta_i a_{t+k - i})$  \n",
    "$=\\sigma^2 \\sum_{i=0}^{q-k}\\theta_i\\theta_{i+k}\\mathbb{I}(|k|\\leq q)$\n",
    "\n",
    "Then, the autocorrelation function (ACF) will be  \n",
    "$\\rho_k = \\gamma_k/\\sqrt{var(X_t)var(X_{t+k})}$  \n",
    "$ = \\gamma_k / \\sigma^2\\sum_{i=0}^{q} \\theta_i^2$  \n",
    "$=\\sigma^2 \\sum_{i=0}^{q-k}\\theta_i\\theta_{i+k}\\mathbb{I}(|k|\\leq q) / \\sigma^2\\sum_{i=0}^{q} \\theta_i^2$  \n",
    "$= \\sum_{i=0}^{q-k}\\theta_i\\theta_{i+k}\\mathbb{I}(k\\leq q) / \\sum_{i=0}^{q} \\theta_i^2$"
   ]
  },
  {
   "cell_type": "markdown",
   "metadata": {},
   "source": [
    "#### Autoregressive model of order p (AR(p))\n",
    "$X_t - \\phi_1X_{t-1}-...-\\phi_pX_{t-p} = \\Phi(B)X_t = a_t$  \n",
    "where $a_t\\sim NID(0, \\sigma^2), B^hX_t = X_{t-h}, h\\in\\mathbb{Z}, \\Phi(B)=(1-\\phi_1B-...-\\phi_p B^p)$"
   ]
  },
  {
   "cell_type": "markdown",
   "metadata": {},
   "source": [
    "#### AR(1)\n",
    "Notice that for a $AR(1)$ process, $a\\sim NID(0, \\sigma^2)$ and $a_t$ is uncorrelated with all previous $X_s, s<t$\n",
    "\n",
    "$X_t = \\phi X_{t-1} + a_t$  \n",
    "$=\\phi(\\phi X_{t-2}+a_{t-1})+a_t$ replace $X_{t-1}$  \n",
    "$...$ repeated replacing   \n",
    "$=\\sum_0^\\infty \\phi^i a_{t-i}$\n",
    "is a $MA(\\infty)$ process"
   ]
  },
  {
   "cell_type": "markdown",
   "metadata": {},
   "source": [
    "$\\gamma(k) = cov(X_t, X_{t+k})$  \n",
    "$=cov(\\sum_0^\\infty \\phi^i a_{t-i}, \\sum_0^\\infty \\phi^i a_{t+k-i})$  \n",
    "$=cov(\\sum_0^\\infty \\phi^i a_{t-i}, \\sum_0^\\infty \\phi^{i+k} a_{t-i} + \\sum_0^{k-1} \\phi^i a_{t+k-i})$  \n",
    "$= \\phi^k\\sum_0^\\infty (\\phi^ia_{t-i})^2$  \n",
    "$=\\phi^k \\gamma(0)=\\phi^k var(X_t)$\n",
    "\n",
    "$\\gamma(0)=var(X_t)=\\sum^\\infty \\phi^{2i}a^2_{t-i}$  \n",
    "$=\\sigma^2(\\sum^\\infty (\\phi^2)^i)$ since $a\\sim NID(0,\\sigma^2)$  \n",
    "$=\\sigma^2(1-\\phi^2)^{-1}$ when $\\phi^2<1$ by Maclaurin's series\n",
    "\n",
    "__Causal__ or future independent AR process when $|\\phi|< 1$ for an $AR(1)$"
   ]
  },
  {
   "cell_type": "markdown",
   "metadata": {},
   "source": [
    "#### Checking stationarity of AR(p)\n",
    "$\\Phi(B) = 1-\\phi_1B-...-\\phi_pB^p=0$ must have all the roots line outside the unit circle. \n"
   ]
  },
  {
   "cell_type": "markdown",
   "metadata": {},
   "source": [
    "#### ACF \n",
    "__AR(1)__ case  \n",
    "$X_t = \\phi X_{t-1} + a_t, a_t\\sim NID(0,\\sigma^2)$  \n",
    "For $k\\in\\mathbb{Z}^+$, multiply $X_{t-k}$ on both sides  \n",
    "$X_t X_{t-k} = \\phi X_{t-1}X_{t-k} + a_t X_{t-k}$   \n",
    "Taking expectation  \n",
    " - consider $E(a_tX_{t-k})$  \n",
    " $cov(a_t, X_{t-k}) = E(a_t X_{t-k})-E(a_t)E(X_{t-k})$  \n",
    " $cov(a_t, X_{t-k}) = E(a_t X_{t-k}) - 0$  \n",
    " $cov(a_t, X_{t-k}) = cov(a_t, \\sum_0^\\infty \\phi^i a_{t-k-i}) = 0$ $a_t$ is uncorrelated with previous $a$'s. \n",
    " \n",
    "$E(X_t X_{t-k}) = \\phi E(X_{t-1}X_{t-k})$  \n",
    "since $cov(X_t,X_{t-k}) = E(X_tX_{t-k})-0$  \n",
    "$\\gamma(k)=\\phi\\gamma(k-1)$  \n",
    "By induction, $\\gamma(k)=\\phi^k\\gamma(0)$\n",
    "\n"
   ]
  },
  {
   "cell_type": "markdown",
   "metadata": {},
   "source": [
    "__AR(2)__ case  \n",
    "$X_t = \\phi_1 X_{t-1} + \\phi_2 X_{t-2} + a_t$  \n"
   ]
  }
 ],
 "metadata": {
  "kernelspec": {
   "display_name": "R",
   "language": "R",
   "name": "ir"
  },
  "language_info": {
   "codemirror_mode": {
    "name": "ipython",
    "version": 3
   },
   "file_extension": ".py",
   "mimetype": "text/x-python",
   "name": "python",
   "nbconvert_exporter": "python",
   "pygments_lexer": "ipython3",
   "version": "3.7.3"
  }
 },
 "nbformat": 4,
 "nbformat_minor": 2
}
