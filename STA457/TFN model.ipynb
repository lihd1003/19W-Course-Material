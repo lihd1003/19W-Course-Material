{
 "cells": [
  {
   "cell_type": "markdown",
   "metadata": {},
   "source": [
    "#### Transfer Function Noise model\n",
    "Consider the model that \n",
    "$X_t = f(X_{t-1}, X_{t-2}, ... , Z_t, Z_{t-1},...)$, $X_t$ is a linear combination of past observations and an external variable.\n",
    "\n",
    "A TFN model is a time series regression that predict values of a dependent variable based on both the current and lagged values of one or more explanatory variables."
   ]
  },
  {
   "cell_type": "markdown",
   "metadata": {},
   "source": [
    "#### Procedure of building the single input TFN model\n",
    "1. Preliminary identification of the impulse response coefficients $v_i$ (prewhitening)\n",
    "2. Specification of the noise term $n_t$\n",
    "3. Specification of the transfer function using a rational polynomial in B if necessary\n",
    "4. Estimation of the TFN specified \n",
    "5. Model diagnostic checks"
   ]
  },
  {
   "cell_type": "markdown",
   "metadata": {},
   "source": [
    "__Rational distributed lag model__\n",
    "$v(B)$ can be approximated by a ratio of polynomials  \n",
    "$$v(B)=\\frac{\\sum_0^r\\delta B^i}{1-\\sum_1^s\\theta_i B^i} = \\delta(B)/\\theta(B)$$\n",
    "and then, $y_t = \\delta(B)x_t / \\theta(B) + n_t$"
   ]
  },
  {
   "cell_type": "markdown",
   "metadata": {},
   "source": [
    "#### ARMAX\n",
    "$y_t = v(B)x_t + n_t = v_0 x_t + v_1 x_{t-1}+v_2 x_{t-2}+...+n_t$  \n",
    "where $v(B) = \\sum^\\infty v_j B^j$, and $x_t,n_t$ are independent. \n",
    "\n",
    "The coefficient $v_0, v_1,...$ are referred as the impulse response function of the system.\n",
    "\n",
    "To make such equation to be meaningful, $\\sum^\\infty |v_j| = g<\\infty$, which the system is stable and $g$ is called the stead-state gain. $g$ represents the impact on $Y$ when $X_{t-j}$ are held constant over time.  "
   ]
  },
  {
   "cell_type": "markdown",
   "metadata": {},
   "source": [
    "__Properties__   \n",
    "$x_t \\sim ARMA(p,q)$, $v_i = \\phi^i (1-\\phi)$, $y_t = \\sum^\\infty v_i x_{t-i}+a_t$"
   ]
  },
  {
   "cell_type": "markdown",
   "metadata": {},
   "source": [
    "#### Pre-whitening\n",
    "Consider $x\\sim $ARMA, i.e. $\\Phi_x(B)x_t = \\Theta_x(B)a_t$  \n",
    "Apply $\\Phi_x(B)/\\Theta_x(B)$ on TFN model  \n",
    "$\\frac{\\Phi_x(B)}{\\Theta_x(B)}y_t = v(B)\\frac{\\Phi_x(B)}{\\Theta_x(B)} x_t + \\frac{\\Phi_x(B)}{\\Theta_x(B)}\\epsilon_t$  \n",
    "Let $\\tau_t = \\frac{\\Phi_x(B)}{\\Theta_x(B)} y_t, n_t = \\frac{\\Phi_x(B)}{\\Theta_x(B)} \\epsilon_t$, we get   \n",
    "$\\tau_t = v(B)a_t + n_t$ and $n_t$ is independent of $a_t$  "
   ]
  },
  {
   "cell_type": "markdown",
   "metadata": {},
   "source": [
    "To get $\\gamma_{a\\tau}(0)$, multiply both sides by $a_t$ and take the expectations. \n",
    "$\\gamma_{a\\tau}(0)=E(a_t\\tau_t) = E(a_tv(B)a_t) + E(a_tn_t)$  \n",
    "$=E((v_0a_t + v_1e_{t-1}+...+v_ma_{t-m})a_t)$  \n",
    "$=E(v_0a_ta_t)=v_o\\gamma_a(0) = v_0\\sigma^2$"
   ]
  },
  {
   "cell_type": "markdown",
   "metadata": {},
   "source": [
    "To get $\\gamma_{a\\tau}(1)$, multiply both sides by $a_{t-1}$  \n",
    "$\\gamma_{a\\tau}(1)=E(a_{t-1}\\tau_t) =E(a_{t-1}v(B)a_t) + E(a_{t-1}n_t)$   \n",
    "$=E(a_{t-1}(v_0a_t + v_1 a_{t-1} + v_2 a_{t-2}+...+v_m a_{t-m}))$  \n",
    "$= E(a_{t-1}v_1 a_{t-1})=v_1\\gamma_a(0) = v_1\\sigma^2$"
   ]
  },
  {
   "cell_type": "markdown",
   "metadata": {},
   "source": [
    "Therefore, $\\gamma_{a\\tau(k)} = v_k\\sigma^2$"
   ]
  },
  {
   "cell_type": "markdown",
   "metadata": {},
   "source": [
    "Since $\\rho_{a\\tau}(k) = \\gamma_{a\\tau}(k) / \\sigma_a\\sigma_\\tau$  \n",
    "$\\rho_{a\\tau}(k) = \\frac{v_k \\sigma_a^2}{\\sigma_a\\sigma_\\tau} = \\frac{v_k \\sigma_a}{\\sigma_\\tau}$  \n",
    "and $v_k = \\rho_{a\\tau}(k)\\frac{\\sigma_\\tau}{\\sigma_a}\\propto \\rho_{a\\tau}(k)$"
   ]
  },
  {
   "cell_type": "markdown",
   "metadata": {},
   "source": [
    "#### Box-Tiao Transformation\n"
   ]
  }
 ],
 "metadata": {
  "hide_input": false,
  "kernelspec": {
   "display_name": "Python 3",
   "language": "python",
   "name": "python3"
  },
  "language_info": {
   "codemirror_mode": {
    "name": "ipython",
    "version": 3
   },
   "file_extension": ".py",
   "mimetype": "text/x-python",
   "name": "python",
   "nbconvert_exporter": "python",
   "pygments_lexer": "ipython3",
   "version": "3.6.8"
  }
 },
 "nbformat": 4,
 "nbformat_minor": 2
}
