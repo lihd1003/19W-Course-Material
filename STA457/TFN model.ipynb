{
 "cells": [
  {
   "cell_type": "markdown",
   "metadata": {},
   "source": [
    "#### Transfer Function Noise model\n",
    "Consider the model that \n",
    "$X_t = f(X_{t-1}, X_{t-2}, ... , Z_t, Z_{t-1},...)$, $X_t$ is a linear combination of past observations and an external variable.\n",
    "\n",
    "A TFN model is a time series regression that predict values of a dependent variable based on both the current and lagged values of one or more explanatory variables."
   ]
  },
  {
   "cell_type": "markdown",
   "metadata": {},
   "source": [
    "#### ARMAX\n",
    "$y_t = v(B)x_t + n_t = v_0 x_t + v_1 x_{t-1}+v_2 x_{t-2}+...+n_t$  \n",
    "where $v(B) = \\sum^\\infty v_j B^j$, and $x_t,n_t$ are independent. \n",
    "\n",
    "The coefficient $v_0, v_1,...$ are referred as the impulse response function of the system.\n",
    "\n",
    "To make such equation to be meaningful, $\\sum^\\infty |v_j| = g<\\infty$, which the system is stable and $g$ is called the stead-state gain. $g$ represents the impact on $Y$ when $X_{t-j}$ are held constant over time.  "
   ]
  },
  {
   "cell_type": "markdown",
   "metadata": {},
   "source": [
    "__Properties__   \n",
    "$x_t \\sim ARMA(p,q)$, $v_i = \\phi^i (1-\\phi)$, $y_t = \\sum^\\infty v_i x_{t-i}+a_t$"
   ]
  },
  {
   "cell_type": "markdown",
   "metadata": {},
   "source": [
    "#### Pre-whitening\n",
    "$y_t = \\sum^m v_i x_{t-i}a_t$  \n",
    "$\\Phi(B)x_t = \\Theta(B)e_t$ where $e_t$ is the white noise corresponding to $x_t$, $cov(a_t,e_s)=0, \\forall a_t,e_s$"
   ]
  }
 ],
 "metadata": {
  "hide_input": false,
  "kernelspec": {
   "display_name": "Python 3",
   "language": "python",
   "name": "python3"
  },
  "language_info": {
   "codemirror_mode": {
    "name": "ipython",
    "version": 3
   },
   "file_extension": ".py",
   "mimetype": "text/x-python",
   "name": "python",
   "nbconvert_exporter": "python",
   "pygments_lexer": "ipython3",
   "version": "3.6.8"
  }
 },
 "nbformat": 4,
 "nbformat_minor": 2
}
