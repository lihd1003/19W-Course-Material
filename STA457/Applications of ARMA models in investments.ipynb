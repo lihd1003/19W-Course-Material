{
 "cells": [
  {
   "cell_type": "markdown",
   "metadata": {},
   "source": [
    "#### Alternative assets modeling\n",
    "$y_t$ and $r_t$ denote observable appraisal and latent economic returns. \n",
    "\n",
    "__Goal__ to infer unobservable economic returns using appraisal returns "
   ]
  },
  {
   "cell_type": "markdown",
   "metadata": {},
   "source": [
    "__Geltner method__ commercial real state \n",
    "$$y_t = \\phi y_{t-1} + (1-\\phi)r_t = \\sum^\\infty \\phi^j(1-\\phi)r_{t-j} = \\sum^\\infty w_jr_{t-j}$$ \n",
    "(by substitute $y_{t-1}$) where $\\phi\\in (0,1), w_j := \\phi^j (1-\\phi)$ is the weight   \n",
    "$$y_t = \\hat\\phi y_{t-1}+\\hat a_t , \\hat r_t = \\frac{\\hat a_t}{1-\\hat\\phi}$$  \n",
    "$$var(\\hat r_t)=\\frac{\\sigma^2}{(1-\\hat\\phi)^2} $$"
   ]
  },
  {
   "cell_type": "markdown",
   "metadata": {},
   "source": [
    "__Gertmansky, Low, & Markorov__ \n",
    "$$y_t = \\sum^q w_i r_{t-i}$$ \n",
    "where $w_i\\in(0,1), \\sum w_i = 1$  \n",
    "Since $y_t$ is a linear combination of white noise\n",
    "$$y_t = \\sum^q \\theta_i a_{t-i} = \\sum_i^q \\left(\\frac{\\theta_i}{\\sum_j^q \\theta_j}\\sum_j^q \\theta_j a_{t-i}\\right) = \\sum^q w_i r_{t-i}$$"
   ]
  },
  {
   "cell_type": "markdown",
   "metadata": {},
   "source": [
    "__Factor Modeling__  \n",
    "The economic returns can be regressed by the market returns\n",
    "$$r_t = \\alpha + \\beta r_{Mt} + e_t$$\n",
    "$$y_t = \\sum^q w_i (\\alpha + \\beta r_{M_,t-i} + e_{t-i}) $$\n",
    "$$= \\sum^q w_i a + \\beta \\sum^q w_i r_{M,t-i} + \\sum^q w_i e_{t-i} =\\alpha + \\beta \\sum^q w_i r_{M,t-i} + \\sum^q w_i e_{t-i}$$"
   ]
  }
 ],
 "metadata": {
  "hide_input": false,
  "kernelspec": {
   "display_name": "R",
   "language": "R",
   "name": "ir"
  },
  "language_info": {
   "codemirror_mode": "r",
   "file_extension": ".r",
   "mimetype": "text/x-r-source",
   "name": "R",
   "pygments_lexer": "r",
   "version": "3.5.2"
  }
 },
 "nbformat": 4,
 "nbformat_minor": 2
}
