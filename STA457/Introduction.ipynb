{
 "cells": [
  {
   "cell_type": "markdown",
   "metadata": {},
   "source": [
    "#### Stochastic Process\n",
    "A family of time indexed r.v. $Z(w,t)$ where $w$ belongs to a sample space and $t$ belongs to an index set. \n",
    "\n",
    "For a fixed $t$, $Z(w,t)$ is a r.v.  \n",
    "For a given $w$, $Z(w,t)$ is a function of $t$, and is __sample function or realization__."
   ]
  },
  {
   "cell_type": "markdown",
   "metadata": {},
   "source": [
    "#### Strongly stationary \n",
    "Consider a finite set of r.v. $\\{Z_{t_1},...,Z_{t_n}\\}$ from a stochastic process $\\{Z(w,t): t=0,\\pm 1, \\pm 2, ...\\}$. The n-dimensional distribution function is defined by $$F_{Z_{t_1},...,Z_{t_n}}(x_1,...,x_n) = P\\{w:Z_{t_1}\\leq x_1,...,Z_{t_n}\\leq x_n\\}$$\n",
    "\n",
    "A process is __strictly stationary__ if \n",
    "$$F_{Z_{t_1},...,Z_{t_k}}(x_1,...,x_n) = F_{Z_{t_1+k},...,Z_{t_k+k}}(x_1,...,x_n)$$\n",
    "for any set of $\\{Z_{t_1},...,Z_{t_n}\\}$"
   ]
  },
  {
   "cell_type": "markdown",
   "metadata": {},
   "source": [
    "#### Auto-covariance Function\n",
    "$\\gamma_X(r,s) = cov(X_r, X_s)$  \n",
    "$\\rho(r,s) = \\gamma_X(r,s)/\\sqrt{var(X_r)var(X_s)}$\n",
    "\n",
    "#### Cross-covariance Function\n",
    "$\\gamma_{XY}(r,s)=cov(X_r, Y_s)$  \n",
    "$\\rho_{XY}(r,s) = \\gamma_{XY}(r,s)/\\sqrt{var(X_r)var(Y_s)}$\n"
   ]
  },
  {
   "cell_type": "markdown",
   "metadata": {},
   "source": [
    "#### Weakly stationary\n",
    "The time series $\\{X_t, t\\in \\mathbb{Z}\\}$ is said to be stationary if \n",
    "\n",
    "- $var(X_t)=z<\\infty$ for all $t\\in Z$  \n",
    "- $E(X_t) = m$ for all $t\\in Z$\n",
    "- $y_X(r,s) = y_X(t+r, t+s)$ for all $t,r,s\\in Z$  \n",
    "the covariance being functions of the time difference alone. "
   ]
  },
  {
   "cell_type": "markdown",
   "metadata": {},
   "source": [
    "#### Classical decomposition model\n",
    "decompose a time series into \n",
    " - trend: loosely defined as \"long-term change in the mean level\"\n",
    " - seasonal variation: exhibit variation that is annual in period.\n",
    " - cyclic variation: exhibit variation at a fixed period due to some other cause. \n",
    " - irregular fluctuations"
   ]
  },
  {
   "cell_type": "markdown",
   "metadata": {},
   "source": [
    "#### Steps to time series modeling\n",
    "\n",
    " - plot the time series and check for trend, seasonal and other cyclic components, any apparent sharp changes in behavior, as well as any outlying observations. \n",
    " - remove trend and seasonal components to get residuals\n",
    " - choose a model to fit residuals\n",
    " - forecasting can be carried out by forecasting residual and then inverting the transformation carried out in step 2. "
   ]
  }
 ],
 "metadata": {
  "kernelspec": {
   "display_name": "Python 3",
   "language": "python",
   "name": "python3"
  },
  "language_info": {
   "codemirror_mode": {
    "name": "ipython",
    "version": 3
   },
   "file_extension": ".py",
   "mimetype": "text/x-python",
   "name": "python",
   "nbconvert_exporter": "python",
   "pygments_lexer": "ipython3",
   "version": "3.6.8"
  }
 },
 "nbformat": 4,
 "nbformat_minor": 2
}
