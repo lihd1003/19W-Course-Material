{
 "cells": [
  {
   "cell_type": "markdown",
   "metadata": {},
   "source": [
    "### Basic Query "
   ]
  },
  {
   "cell_type": "markdown",
   "metadata": {},
   "source": [
    "Any query need SELECT FROM WHERE <br> $\\Pi_{column}$($\\sigma_{condition} Relation$)\n",
    "```SQL\n",
    "SELECT column names\n",
    "FROM Relation\n",
    "WHERE condition;\n",
    "```\n",
    "With Multiple relationsA $\\times $ B\n",
    "```SQL\n",
    "From A, B\n",
    "```\n",
    "\n"
   ]
  },
  {
   "cell_type": "markdown",
   "metadata": {},
   "source": [
    "Temporarily renaming\n",
    "```SQL\n",
    "SELECT e.name, d.name\n",
    "FROM Employee e, department d\n",
    "WHERE d.name = 'marketing' AND e.name = 'Horton';\n",
    "```\n",
    "\n",
    "Self joins requires renaming\n",
    "```SQL\n",
    "SELECT e1.name, e2.name\n",
    "FROM Employee e1, Employee e2\n",
    "WHERE e1.salary < e2.salary;\n",
    "```\n",
    "\n",
    "\\* in SELECT means all attributes of this relation\n",
    "```SQL\n",
    "SELECT *\n",
    "```\n",
    "\n",
    "Rename attributes \n",
    "```SQL\n",
    "SELECT name AS new_name\n",
    "```\n"
   ]
  },
  {
   "cell_type": "markdown",
   "metadata": {},
   "source": [
    "Conditions allowed, note != is <> \n",
    "```SQL\n",
    "| = | <> | < | > | <= | >= |\n",
    "AND | OR | NOT\n",
    "```"
   ]
  },
  {
   "cell_type": "markdown",
   "metadata": {},
   "source": [
    "Put tuples in order, add this as the final clause, default in ascending order, add DESC to force descending\n",
    "```SQL\n",
    "ORDER BY <<attribute list>> ;\n",
    "ORDER BY <<attribute list>> [DESC];\n",
    "```\n",
    "The attribute list can include expressions:\n",
    "```SQL\n",
    "ORDER BY attribute_a + attribute_b;\n",
    "```"
   ]
  },
  {
   "cell_type": "markdown",
   "metadata": {},
   "source": [
    "Keywords and identifiers are not case-sensitive and white space are ignored\n"
   ]
  },
  {
   "cell_type": "markdown",
   "metadata": {},
   "source": [
    "Expressions can be used in SELECT clauses, <br>\n",
    "operands: attributes, constants\n",
    "operators: arithmetic ops, string ops\n",
    "```SQL\n",
    "SELECT, sid, grade+10 as adjusted\n",
    "FROM Took;\n",
    "\n",
    "SELECT dept|| cNum\n",
    "From Course;\n",
    "```\n",
    "\n",
    "Expressions that are a constant\n",
    "```SQL\n",
    "SELECT, dept, cNum, 'satisfies' AS breadthRequirement\n",
    "FROM Course\n",
    "WHERE breadth;"
   ]
  },
  {
   "cell_type": "markdown",
   "metadata": {},
   "source": [
    "Pattern operators\n",
    "```SQL\n",
    "<<attribute>> LIKE <<pattern>>\n",
    "<<attribute>> NOT LIKE <<pattern>>\n",
    "```\n",
    "`%` any string <br>\n",
    "`_` any string char\n",
    "```SQL\n",
    "SELECT *\n",
    "FROM Course\n",
    "Where name LIKE '%Comp%';\n",
    "```"
   ]
  },
  {
   "cell_type": "markdown",
   "metadata": {},
   "source": [
    "### Aggregation"
   ]
  },
  {
   "cell_type": "markdown",
   "metadata": {},
   "source": [
    "`SUM, AVG, COUNT, MIN, MAX` can be applied to a column in a `SELECT`\n",
    "\n",
    "`COUNT(*)` counts the number of tuples \n",
    "\n",
    "`DISTINCT` inside the brackets can stop duplicates from contributing to the aggregation. \n",
    "\n"
   ]
  },
  {
   "cell_type": "markdown",
   "metadata": {},
   "source": [
    "`GROUP BY <attributes>` The tuples are grouped according to the values of those attributes and any aggregation give us a single value per group"
   ]
  },
  {
   "cell_type": "markdown",
   "metadata": {},
   "source": [
    "If any aggregation is used, then each element of the SELECT list must be aggregated or an attribute on the GROUP BY list. "
   ]
  },
  {
   "cell_type": "markdown",
   "metadata": {},
   "source": [
    "`HAVING` decide which groups to keep. \n",
    "```SQL\n",
    "...\n",
    "GROUP BY <<attributes>>\n",
    "HAVING <<condition>>\n",
    "```\n",
    "\n",
    "Outside subqueries, HAVING may refer to attributes only if they are either aggregated or an attribute on the GROUP BY list. "
   ]
  },
  {
   "cell_type": "markdown",
   "metadata": {},
   "source": [
    "Order of execution of a query <br>\n",
    "Writing query (execution order): \n",
    "```SQL \n",
    "SELECT (5)\n",
    "FROM (1)\n",
    "WHERE (2)\n",
    "GROUP BY (3)\n",
    "HAVING (4)\n",
    "ORDER BY (6)\n",
    "```"
   ]
  },
  {
   "cell_type": "markdown",
   "metadata": {},
   "source": [
    "### Set operations"
   ]
  },
  {
   "cell_type": "markdown",
   "metadata": {},
   "source": [
    "A table can have duplicate tuples, unless it violate an integrity constraint. \n",
    "\n",
    "**Set operations with Bags** <br>\n",
    "Using Multiset operations rather than set operations\n",
    "```SQL\n",
    "(<subquery>)\n",
    "UNION / INTERSECT / EXCEPT\n",
    "(<subquery>)\n",
    "```\n",
    "brackets are mandatory\n",
    "\n",
    "To force the result of a query to be a set, use `SELECT DISTINCT`\n",
    "\n",
    "To force the set operations to be a bag, use `UNION/INTERSECT/EXCEPT ALL`\n",
    "\n"
   ]
  },
  {
   "cell_type": "markdown",
   "metadata": {},
   "source": [
    "### Views"
   ]
  },
  {
   "cell_type": "markdown",
   "metadata": {},
   "source": [
    "Use virtual views to temporarily refer to the result of a query\n",
    "\n",
    "```SQL\n",
    "CREATE VIEW xxx AS\n",
    "SELECT ...\n",
    "FROM ...\n",
    "WHERE ...\n",
    "```\n",
    "\n",
    "Break down a large query"
   ]
  },
  {
   "cell_type": "markdown",
   "metadata": {},
   "source": [
    "### Joins"
   ]
  },
  {
   "cell_type": "markdown",
   "metadata": {},
   "source": [
    "Joins allowed in `FROM`\n",
    "```SQL\n",
    "R, S  == R CROSS JOIN \n",
    "R NATURAL JOIN\n",
    "R JOIN S ON <CONDITION>\n",
    "```"
   ]
  },
  {
   "cell_type": "markdown",
   "metadata": {},
   "source": [
    "Inner join is not the best practice since a working query can be broken by adding a column to a schema.\n"
   ]
  },
  {
   "cell_type": "markdown",
   "metadata": {},
   "source": [
    "#### Outer Join\n",
    "preserves dangling tuples by padding them with `NULL` in the other relation\n",
    "```SQL\n",
    "R LEFT OUTER JOIN S\n",
    "R RIGHT OUTER JOIN S\n",
    "R FULL OUTER JOIN S\n",
    "```"
   ]
  },
  {
   "cell_type": "markdown",
   "metadata": {},
   "source": [
    "When use `LEFT, RIGHT, FULL` it will be outer join, if not added, then inner"
   ]
  },
  {
   "cell_type": "markdown",
   "metadata": {},
   "source": [
    "#### NULL\n",
    "Used for indicating missing value or inapplicable attribute\n",
    "\n",
    "Cant be checked by `IS NULL` and `IS NOT NULL`, e.x.\n",
    "```SQL\n",
    "SELECT *\n",
    "FROM Course\n",
    "WHERE br IS NULL;\n",
    "```\n",
    "\n",
    "Also, if one or both operands to a comparison is `NULL`, the truth value will always be `UNKNOWN`\n",
    "\n",
    "NULL can be imagined to have value 0.5, compared to TRUE = 1, FALSE = 0 when consider logical operations\n",
    "\n",
    "Notice that `WHERE` will only pick rows with `TRUE`"
   ]
  },
  {
   "cell_type": "markdown",
   "metadata": {},
   "source": [
    "#### Subqueries\n",
    "`FROM` clause, but you must name the result and parenthesized. Hence can refer to it in the outer query\n",
    "\n",
    "```SQL\n",
    "SELECT ...\n",
    "FROM A, \n",
    "   (SELECT *\n",
    "    FROM Offering\n",
    "    WHERE instructor='Horton') B\n",
    "WHERE A.oid = B.oid;\n",
    "```"
   ]
  },
  {
   "cell_type": "markdown",
   "metadata": {},
   "source": [
    "`WHERE` clause if the subquery guaranteed to produce exactly one tuple. \n",
    "\n",
    "However, we can also use keywords `ANY/SOME` for existence, `ALL` for for all\n",
    "\n",
    "```SQL\n",
    "x <<comparison>> ANY|ALL (<<subquery>>)\n",
    "```\n",
    "\n",
    "`IN, NOT IN, EXISTS` is some syntax sugar\n",
    "\n",
    "```SQL\n",
    "x IN (<<subquery>>) === x = SOME (<<subquery>>)\n",
    "x NOT IN (<<subquery>>) === x <> ALL (<<subquery>>)\n",
    "EXISTS (<<subquery>>) \\exists y\\in (<<subquery>>)\n",
    "```\n"
   ]
  }
 ],
 "metadata": {
  "kernelspec": {
   "display_name": "Python 3",
   "language": "python",
   "name": "python3"
  },
  "language_info": {
   "codemirror_mode": {
    "name": "ipython",
    "version": 3
   },
   "file_extension": ".py",
   "mimetype": "text/x-python",
   "name": "python",
   "nbconvert_exporter": "python",
   "pygments_lexer": "ipython3",
   "version": "3.6.8"
  }
 },
 "nbformat": 4,
 "nbformat_minor": 2
}
