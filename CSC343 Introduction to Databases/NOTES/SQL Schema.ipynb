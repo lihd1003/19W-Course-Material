{
 "cells": [
  {
   "cell_type": "markdown",
   "metadata": {},
   "source": [
    "Schemas let you create different name spaces. For logical organization and for avoiding name clashes\n",
    "\n",
    "A default schema `public` is available"
   ]
  },
  {
   "cell_type": "markdown",
   "metadata": {},
   "source": [
    "To create additional schema:\n",
    "\n",
    "```SQL\n",
    "CREATE SCHEMA University;\n",
    "```\n",
    "\n",
    "To refer to things inside a schema\n",
    "\n",
    "```SQL\n",
    "CREATE SCHEMA University.Student (...);\n",
    "SELECT * FROM University.student\n",
    "```"
   ]
  }
 ],
 "metadata": {
  "hide_input": false,
  "kernelspec": {
   "display_name": "Python 3",
   "language": "python",
   "name": "python3"
  },
  "language_info": {
   "codemirror_mode": {
    "name": "ipython",
    "version": 3
   },
   "file_extension": ".py",
   "mimetype": "text/x-python",
   "name": "python",
   "nbconvert_exporter": "python",
   "pygments_lexer": "ipython3",
   "version": "3.6.8"
  }
 },
 "nbformat": 4,
 "nbformat_minor": 2
}
