{
 "cells": [
  {
   "cell_type": "markdown",
   "metadata": {},
   "source": [
    "## Define the type of each attribute"
   ]
  },
  {
   "cell_type": "markdown",
   "metadata": {},
   "source": [
    "#### Build in data types\n",
    "`CHAR(n)` fixed-length string of n char. Padd with blanks if necessary\n",
    "`VARCHAR(n)` variable length string of up to n characters  \n",
    "`TEXT` variable-length, unlimited (not SQL standard)  \n",
    "`INT`  \n",
    "`FLOAT`  \n",
    "`BOOLEAN`  \n",
    "`DATA; TIME; TIMESTAMP`\n",
    "\n",
    "`'string'` must be surround by single quotes"
   ]
  },
  {
   "cell_type": "markdown",
   "metadata": {},
   "source": [
    "#### User-defined types\n",
    "```SQL\n",
    "create domain Grade AS int\n",
    "    default null\n",
    "    check (value >= 0 and value <= 100);\n",
    "    \n",
    "create domain Campus as varchar(4)\n",
    "    default 'StG'\n",
    "    check (value in ('StG', 'UTM', 'UTSC'))\n",
    "```\n",
    "\n",
    "Constraints on a type are checked every time a value is assigned to an attribute of that type.\n",
    "\n",
    "Fault value when no value has been specified.  \n",
    "We can run a query and insert the resulting tuples into a relation even if the query does not give values for all the attributes in the relation if the types of the missing attributes have default values.\n",
    "\n",
    "Table attributes can also have default values.\n",
    "\n",
    "The difference\n",
    " - attribute default: for that one attribute in that one table\n",
    " - type default: for every attribute defined to be of that type"
   ]
  },
  {
   "cell_type": "markdown",
   "metadata": {},
   "source": [
    "## Keys and Foreign Keys\n",
    "#### key\n",
    "`PRIMARY KEY` for one or more attributes in a relation means\n",
    " - the attributes form a key\n",
    " - their values will never be null\n",
    "\n",
    "Every table must have 0 or 1 primary key\n",
    "\n",
    "example\n",
    "```SQL\n",
    "create table T1 (\n",
    "    ID integer primary key,\n",
    "    name varchar(25)\n",
    ");\n",
    "\n",
    "===\n",
    "\n",
    "# only way for multi-attribute keys\n",
    "create table Blah(\n",
    "    ID integer,\n",
    "    name varchar(25),\n",
    "    primary key(ID)\n",
    ");\n",
    "```"
   ]
  },
  {
   "cell_type": "markdown",
   "metadata": {},
   "source": [
    "`unique` for one or more attributes \n",
    "- form a key\n",
    "- value can be null (different from `primary key`)\n",
    "\n",
    "Can declare more than one set of attributes to be `unique`\n",
    "\n",
    "```SQL\n",
    "create table T1 (\n",
    "    ID integer unique,\n",
    "    name varchar(25)\n",
    ");\n",
    "\n",
    "===\n",
    "\n",
    "# only way for multi-attribute keys\n",
    "create table Blah(\n",
    "    ID integer,\n",
    "    name varchar(25),\n",
    "    unique (ID)\n",
    ");\n",
    "```\n",
    "\n",
    "For uniqueness constraints, no two nulls are considered equal\n",
    "\n",
    "- Set the attributes by unique, then you can't insert two `('A', 'B')`, but you can insert two `(null, 'B')`"
   ]
  },
  {
   "cell_type": "markdown",
   "metadata": {},
   "source": [
    "#### foreign key\n",
    "```SQL\n",
    "foreign key (sID) references Student\n",
    "```\n",
    "\n",
    "every value for sID in this table must actually occur in the Student table and sID must be `primary key` or `unique`\n",
    "\n",
    "Can be declare with the attribute or as a separate table element.  \n",
    "Can reference attributes that are not the primary key as long as they are unique; just name them\n",
    "\n",
    "```SQL\n",
    "create table People (\n",
    "    SIN int primary key,\n",
    "    name text, \n",
    "    OHIP text unique\n",
    ");\n",
    "\n",
    "create table Volunteers (\n",
    "    email text primary key,\n",
    "    OHIPnum text references People(OHIP)\n",
    ");\n",
    "```"
   ]
  },
  {
   "cell_type": "markdown",
   "metadata": {},
   "source": [
    "#### Enforce foreign-key constraints\n"
   ]
  },
  {
   "cell_type": "markdown",
   "metadata": {},
   "source": [
    "#### \"check\" constraints\n",
    "```SQL\n",
    "create domain Grade as smallint\n",
    "    default null\n",
    "    check (value >= 0 and value <= 100)\n",
    "```\n",
    "\n",
    "define on attribute, tuples of a relation, and across relations.\n",
    "\n",
    "**Attribute-based**  \n",
    "\n",
    "- Defined with a single attributes. constrains its value in every tuple\n",
    "- can only refer to that attribute\n",
    "- can include a subquery\n",
    "\n",
    "```SQL\n",
    "create table Student (\n",
    "    sin int,\n",
    "    program varchar(5) check (program in (select post from O)),\n",
    "    firstName varchar(15) not null\n",
    ");\n",
    "```\n",
    "\n",
    "checked only when insert a tuple, or update attribute value\n",
    "\n",
    "`not null` is very commonly used"
   ]
  },
  {
   "cell_type": "markdown",
   "metadata": {},
   "source": [
    "**Tuple-based**  \n",
    "- defined as a separate element of the table schema, so can refer to any attributes of the table\n",
    "- The condition to be checked can be anything that could go in a `WHERE`, and can include a subquery\n",
    "\n",
    "```SQL\n",
    "create table Student (\n",
    "    sID int,\n",
    "    age int, \n",
    "    year int,\n",
    "    college varchar(4),\n",
    "    \n",
    "    check (year = age - 18),\n",
    "    check college in (select name from Collges)\n",
    ");\n",
    "```\n",
    "\n",
    "Only when a tuple is inserted, or it updated "
   ]
  },
  {
   "cell_type": "markdown",
   "metadata": {},
   "source": [
    "`check` only fails if it evaluates to `false`, (different from `where` which only evaluates to `true`)\n",
    "\n",
    "Problem with `null`, the only way to prevent `null` is `not null`"
   ]
  },
  {
   "cell_type": "markdown",
   "metadata": {},
   "source": [
    "name constraint\n",
    "```SQL\n",
    "constraint XXX check (...);\n",
    "constraint XXX foreign key (cNum, dept) references Course\n",
    "```"
   ]
  },
  {
   "cell_type": "markdown",
   "metadata": {},
   "source": [
    "#### Assertions\n",
    "`check` constraints apply to an attribute or table but they can't express constraints across tables  \n",
    "\n",
    "`assertions` can express cross-table constraints\n",
    "`create assertion (<name>) check (<predicate>);`\n",
    "\n",
    "`assertions` are costly because they have to be checked upon every database update and each check can be expensive"
   ]
  },
  {
   "cell_type": "markdown",
   "metadata": {},
   "source": [
    "#### Triggers\n",
    "cross-table constraints, as powerful as assertions, but can control the cost by having control over when they are applied\n",
    "\n",
    "specify\n",
    "- event: some type of database action \n",
    "```SQL\n",
    "after delete on Courses \n",
    "# or\n",
    "before update of grade on Took\n",
    "```\n",
    "- condition: bool-valued expression\n",
    "```SQL\n",
    "when grade > 95\n",
    "```\n",
    "\n",
    "- action: any SQL statements\n",
    "```SQL\n",
    "insert into Winners values (sID)\n",
    "```\n",
    "\n"
   ]
  },
  {
   "cell_type": "markdown",
   "metadata": {},
   "source": [
    "## Reaction Policies\n",
    "`cascade` propagate the change to the referring table\n",
    "`set null` set the referring attribute(s) to null\n",
    "\n",
    "Suppose table R refers to table S  \n",
    "We can define \"fixes\" that propagate changes backwards from S to R  \n",
    "We cannot define fixes that propagate forward from R to S\n",
    "\n",
    "Add your reaction policy where you specify the foreign key constraint\n",
    "\n",
    "```SQL\n",
    "create table Took (\n",
    "    ...\n",
    "    foreign key (sID) references Student on delete cascade\n",
    "    ...\n",
    ");\n",
    "```\n",
    "\n",
    "You can react to ...\n",
    "- `on delete`\n",
    "- `on update`\n",
    "- or both\n",
    "\n",
    "Policy can specify \n",
    "- `restrict`: Don't allow deletion/update\n",
    "- `cascade`: make the same deletion/update in the referring tuple\n",
    "- `set null`: Set the corresponding value in the referring tuple to `null`"
   ]
  },
  {
   "cell_type": "markdown",
   "metadata": {},
   "source": [
    "## Update Schema\n",
    "- Alter: alter a domain or table\n",
    "\n",
    "```SQL\n",
    "alter table Course\n",
    "    add column numSections int;\n",
    "   \n",
    "alter table Course\n",
    "    drop column breadth;\n",
    "```\n",
    "\n",
    "- Drop: remove a domain, table, or whole schema\n",
    "```SQL\n",
    "drop table Course;\n",
    "# Course still exists, but no content in it\n",
    "```\n",
    "\n",
    "-Delete:\n",
    "```SQL\n",
    "delete from Course\n",
    "# Course does not exist\n",
    "```"
   ]
  }
 ],
 "metadata": {
  "hide_input": false,
  "kernelspec": {
   "display_name": "Python 3",
   "language": "python",
   "name": "python3"
  },
  "language_info": {
   "codemirror_mode": {
    "name": "ipython",
    "version": 3
   },
   "file_extension": ".py",
   "mimetype": "text/x-python",
   "name": "python",
   "nbconvert_exporter": "python",
   "pygments_lexer": "ipython3",
   "version": "3.6.8"
  }
 },
 "nbformat": 4,
 "nbformat_minor": 2
}
