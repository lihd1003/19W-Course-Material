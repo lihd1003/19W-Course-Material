{
 "cells": [
  {
   "cell_type": "markdown",
   "metadata": {},
   "source": [
    "2. minimize $\\{ABF\\rightarrow G, BC\\rightarrow H, BCH\\rightarrow EG, BE\\rightarrow GH\\}$  \n",
    "  split $S_1=$\n",
    "  $ABF\\rightarrow G \\\\\n",
    "  BC\\rightarrow H \\\\\n",
    "  BCH\\rightarrow E\\\\\n",
    "  BCH\\rightarrow G\\\\ \n",
    "  BE\\rightarrow G\\\\\n",
    "  BE\\rightarrow H$  \n",
    "  try to remove LHS:  \n",
    "  $ABF$ nothing can be done here  \n",
    "  $BC$ nothing can be done here  \n",
    "  $BC^+=BCHEG\\rightarrow BC$  \n",
    "  $BE$ nothing can be done here  \n",
    "  result $S_2 = $ $ABF\\rightarrow G \\\\\n",
    "  BC\\rightarrow H \\\\\n",
    "  BC\\rightarrow E\\\\\n",
    "  BC\\rightarrow G\\\\ \n",
    "  BE\\rightarrow G\\\\\n",
    "  BE\\rightarrow H$  \n",
    "  try to remove FDs:  \n",
    "  $ABF^+_{S_2 - ABF\\rightarrow G}=ABF$ cannot retrieve $G$ \n",
    "  $BC^+_{S_2-BC\\rightarrow H} = BCEGH$ remove  \n",
    "  $BC^+_{S_2-BC\\rightarrow E}=BCGH$ can't remove  \n",
    "  $BC^+_{S_2-BC\\rightarrow G}=BCEGH$ remove\n",
    "  $BE^+_{S_2-BE\\rightarrow G}=BEH$ can't remove  \n",
    "  $BE^+_{S_2-BE\\rightarrow H}=BEG$ can't remove\n",
    "  \n",
    "  result: $ABF\\rightarrow G, BC\\rightarrow E, BE\\rightarrow G, BE\\rightarrow H$"
   ]
  }
 ],
 "metadata": {
  "hide_input": false,
  "kernelspec": {
   "display_name": "Python 3",
   "language": "python",
   "name": "python3"
  },
  "language_info": {
   "codemirror_mode": {
    "name": "ipython",
    "version": 3
   },
   "file_extension": ".py",
   "mimetype": "text/x-python",
   "name": "python",
   "nbconvert_exporter": "python",
   "pygments_lexer": "ipython3",
   "version": "3.6.8"
  }
 },
 "nbformat": 4,
 "nbformat_minor": 2
}
