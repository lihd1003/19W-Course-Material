{
 "cells": [
  {
   "cell_type": "markdown",
   "metadata": {},
   "source": [
    "Suppose we have a relation R with attributes ABCD"
   ]
  },
  {
   "cell_type": "markdown",
   "metadata": {},
   "source": [
    "1. What an FD means.  \n",
    "Suppose the functional dependency $BC\\rightarrow D$ holds in R. Create an instance of R that violates this FD.\n",
    "<table>\n",
    "        <tr>\n",
    "                <th>A</th><th>B</th><th>C</th><th>D</th>\n",
    "        </tr>\n",
    "        <tr>\n",
    "                <td>1</td><td>2</td><td>6</td><td>4</td>\n",
    "        </tr>\n",
    "        <tr>\n",
    "                <td>2</td><td>3</td><td>6</td><td>5</td>\n",
    "        </tr>\n",
    "</table>\n",
    "  The following not violates this FD\n",
    "<table>\n",
    "        <tr>\n",
    "                <th>A</th><th>B</th><th>C</th><th>D</th>\n",
    "        </tr>\n",
    "        <tr>\n",
    "                <td>1</td><td>2</td><td>6</td><td>4</td>\n",
    "        </tr>\n",
    "        <tr>\n",
    "                <td>2</td><td>2</td><td>6</td><td>4</td>\n",
    "        </tr>\n",
    "</table>\n",
    "\n"
   ]
  },
  {
   "cell_type": "markdown",
   "metadata": {},
   "source": [
    "2. a) $A\\rightarrow BC === A\\rightarrow B, A\\rightarrow C$?\n",
    "\n",
    "$$A\\rightarrow BC\\Rightarrow A^+ = ABC\\Rightarrow A\\rightarrow B, A\\rightarrow C$$"
   ]
  },
  {
   "cell_type": "markdown",
   "metadata": {},
   "source": [
    "2. b) $AB\\rightarrow C === A\\rightarrow C \\land B\\rightarrow C$?  \n",
    "No\n",
    "<table>\n",
    "        <tr>\n",
    "                <th>A</th><th>B</th><th>C</th><th>D</th>\n",
    "        </tr>\n",
    "        <tr>\n",
    "                <td>1</td><td>1</td><td>2</td><td>3</td>\n",
    "        </tr>\n",
    "        <tr>\n",
    "                <td>1</td><td>1</td><td>2</td><td>3</td>\n",
    "        </tr>\n",
    "        <tr>\n",
    "                <td>1</td><td>2</td><td>3</td><td>3</td>\n",
    "        </tr>\n",
    "        <tr>\n",
    "                <td>2</td><td>1</td><td>3</td><td>3</td>\n",
    "        </tr>\n",
    "</table>\n",
    "\n"
   ]
  },
  {
   "cell_type": "markdown",
   "metadata": {},
   "source": [
    "2. b) $AB\\rightarrow C === A\\rightarrow B \\land B\\rightarrow C$?  \n",
    "No\n",
    "<table>\n",
    "        <tr>\n",
    "                <th>A</th><th>B</th><th>C</th>\n",
    "        </tr>\n",
    "        <tr>\n",
    "                <td>1</td><td>2</td><td>4</td>\n",
    "        </tr>\n",
    "        <tr>\n",
    "                <td>1</td><td>8</td><td>9</td>\n",
    "        </tr>\n",
    "</table>"
   ]
  },
  {
   "cell_type": "markdown",
   "metadata": {},
   "source": [
    "\n",
    "4. Suppose we have a relation on attributes $ABCDEF$ with FDs\n",
    "$$AC\\rightarrow F, CEF\\rightarrow B, C\\rightarrow D, CD\\rightarrow A$$\n",
    "  a) $C\\rightarrow F$? **YES**\n",
    "  $$C^+ = CDAF\\Rightarrow C\\rightarrow F$$\n",
    "  b) $ACD\\rightarrow B$? **NO**\n",
    "  $$ACD^+=ACDF\\Rightarrow ACD\\not\\rightarrow B$$</i>"
   ]
  },
  {
   "cell_type": "markdown",
   "metadata": {},
   "source": [
    "5. Attributes $ABCDE$, FDs: $A\\rightarrow C, C\\rightarrow E, E\\rightarrow BD$  \n",
    "  a) Project FDs onto attribute ABC\n",
    "  $A^+=ACEBD\\Rightarrow A\\rightarrow BC$  \n",
    "  $B^+=B$  \n",
    "  $C^+ = CEBD\\Rightarrow C\\rightarrow B$  \n",
    "  We don't need to look $AB,AC$ since $A\\rightarrow BC$, \n",
    "  $BC^+=BCDE$  \n",
    "  don't need to look at $\\emptyset$ and full set \n",
    "  \n",
    "  Result: $A\\rightarrow BC, C\\rightarrow B$"
   ]
  }
 ],
 "metadata": {
  "hide_input": false,
  "kernelspec": {
   "display_name": "Python 3",
   "language": "python",
   "name": "python3"
  },
  "language_info": {
   "codemirror_mode": {
    "name": "ipython",
    "version": 3
   },
   "file_extension": ".py",
   "mimetype": "text/x-python",
   "name": "python",
   "nbconvert_exporter": "python",
   "pygments_lexer": "ipython3",
   "version": "3.6.8"
  }
 },
 "nbformat": 4,
 "nbformat_minor": 2
}
