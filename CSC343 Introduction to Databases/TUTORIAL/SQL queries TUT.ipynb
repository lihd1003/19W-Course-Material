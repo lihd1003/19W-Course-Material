{
 "cells": [
  {
   "cell_type": "markdown",
   "metadata": {},
   "source": [
    "## Schema\n",
    "Student(**sID**, sur, first, campus, email, cgpa)\n",
    "\n",
    "Course (**dept, cNum**, name, br)\n",
    "\n",
    "Offering(**oID**, dept, cNum, term, instructor)\n",
    "\n",
    "Took (**sID, oID**, grade)\n",
    "\n",
    "Offering[dept, cNum] $\\subseteq$ Course[dept, cNum]\n",
    "\n",
    "Took[sID]$\\subseteq$ Student[sID]\n",
    "\n",
    "Took[oID]$\\subseteq$ Offering[oID]"
   ]
  },
  {
   "cell_type": "markdown",
   "metadata": {},
   "source": [
    "#### Groupby-having.pdf"
   ]
  },
  {
   "cell_type": "markdown",
   "metadata": {},
   "source": [
    "1. Find the average, min, max grade for each offerings.\n",
    "```SQL\n",
    "SELECT ave(grade), min(grade), max(grade)\n",
    "FROM Took\n",
    "GROUP BY oID\n",
    "```"
   ]
  },
  {
   "cell_type": "markdown",
   "metadata": {},
   "source": [
    "2. \n",
    "<table>\n",
    "    <tr>\n",
    "        <td>Invalid</td><td>Valid</td>\n",
    "    </tr>\n",
    "    <tr>\n",
    "        <td>Invalid</td><td>Valid</td>\n",
    "    </tr>\n",
    "</table>\n",
    "        \n",
    "    \n",
    "   "
   ]
  },
  {
   "cell_type": "markdown",
   "metadata": {},
   "source": [
    "3. find the sid and min grade of each student with an average over 80\n",
    "\n",
    "```SQL\n",
    "SELECT sid, min(grade)\n",
    "FROM Took\n",
    "GROUP BY sID\n",
    "HAVING avg(grade) > 80\n",
    "```"
   ]
  },
  {
   "cell_type": "markdown",
   "metadata": {},
   "source": [
    "4. find the sID, sur, and ave grade of each student, but keep the data only for those students who have taken at least 10 courses.\n",
    "\n",
    "```SQL\n",
    "SELECT sID, sur, ave(grade)\n",
    "FROM Student, Took\n",
    "WHERE Student.sID = Took.sID\n",
    "GROUP BY Student.sID\n",
    "HAVING count(Took) >= 10\n",
    "```"
   ]
  },
  {
   "cell_type": "markdown",
   "metadata": {},
   "source": [
    "5. For each student who has passed at least 10 courses, report their sid and average grade on the course that they passed. \n",
    "\n",
    "```SQL\n",
    "SELECT sid, ave(grade)\n",
    "FROM Took\n",
    "WHERE grade >= 50 \n",
    "GROUP BY sid\n",
    "HAVING count(*) >= 10 \n",
    "```"
   ]
  },
  {
   "cell_type": "markdown",
   "metadata": {},
   "source": [
    "6. For each student who has passed at least 10 courses, report their sID and average grade on all of their courses.\n",
    "\n",
    "```SQL\n",
    "CREATE VIEW Seniors AS\n",
    "SELECT sID\n",
    "FROM Took\n",
    "WHERE grade >= 50\n",
    "GROUP BY sID\n",
    "HAVING count(*) >= 10\n",
    "\n",
    "SELECT ave(grade)\n",
    "FROM Took, Seniors\n",
    "WHERE Took.sID = Seniors.sID\n",
    "GROUP BY Seniors.sID\n",
    "```"
   ]
  },
  {
   "cell_type": "markdown",
   "metadata": {},
   "source": [
    "7. <table>\n",
    "    <tr>\n",
    "        <td>Valid</td><td>Valid</td>\n",
    "    </tr>\n",
    "    <tr>\n",
    "        <td>Invalid</td><td>Invalid</td>\n",
    "    </tr>\n",
    "</table>\n",
    "        \n",
    "    "
   ]
  },
  {
   "cell_type": "markdown",
   "metadata": {},
   "source": [
    "#### Joins.pdf"
   ]
  },
  {
   "cell_type": "markdown",
   "metadata": {},
   "source": [
    "1. \n",
    "(a) Valid <br>\n",
    "(b) Invalid (can't have two distinct together in select)<br>\n",
    "(c) Valid"
   ]
  },
  {
   "cell_type": "markdown",
   "metadata": {},
   "source": [
    "3. For each student who has taken a course, report their sid and the number of different department they have taken a course in. \n",
    "\n",
    "```SQL\n",
    "SELECT sID, count(distinct dept)\n",
    "FROM Took t, Offering o\n",
    "WHERE t.oID = o.oID\n",
    "GROUP BY sID\n",
    "```"
   ]
  },
  {
   "cell_type": "markdown",
   "metadata": {},
   "source": [
    "4. One\n",
    "<table>\n",
    "        <tr>\n",
    "                <th>a</th><th>b</th>\n",
    "        </tr>\n",
    "        <tr>\n",
    "                <td>1</td><td>2</td>\n",
    "        </tr>\n",
    "        <tr>\n",
    "                <td>6</td><td>12</td>\n",
    "        </tr>\n",
    "        <tr>\n",
    "                <td>/</td><td>100</td>\n",
    "        </tr>\n",
    "        <tr>\n",
    "                <td>20</td><td>/</td>\n",
    "        </tr>\n",
    "</table>\n",
    "Two\n",
    "<table>\n",
    "        <tr>\n",
    "                <th>b</th><th>c</th>\n",
    "        </tr>\n",
    "        <tr>\n",
    "                <td>2</td><td>3</td>\n",
    "        </tr>\n",
    "        <tr>\n",
    "                <td>100</td><td>101</td>\n",
    "        </tr>\n",
    "        <tr>\n",
    "                <td>20</td><td>21</td>\n",
    "        </tr>\n",
    "        <tr>\n",
    "                <td>2</td><td>4</td>\n",
    "        </tr>\n",
    "        <tr>\n",
    "                <td>2</td><td>5</td>\n",
    "        </tr>\n",
    "</table>"
   ]
  },
  {
   "cell_type": "markdown",
   "metadata": {},
   "source": [
    "a) For what query could produce this result?\n",
    "<table>\n",
    "        <tr>\n",
    "                <th>a</th><th>b</th><th>c</th><th></th>\n",
    "        </tr>\n",
    "        <tr>\n",
    "                <td>1</td><td>2</td><td>3</td>\n",
    "        </tr>\n",
    "        <tr>\n",
    "                <td>1</td><td>2</td><td>4</td>\n",
    "        </tr>\n",
    "        <tr>\n",
    "                <td>1</td><td>2</td><td>5</td>\n",
    "        </tr>\n",
    "        <tr>\n",
    "                <td>/</td><td>20</td><td>21</td>\n",
    "        </tr>\n",
    "        <tr>\n",
    "                <td>/</td><td>100</td><td>101</td>\n",
    "        </tr>\n",
    "</table>\n",
    "\n",
    "```SQL\n",
    "SELECT *\n",
    "FROM One NATURAL RIGHT JOIN Two\n",
    "```"
   ]
  },
  {
   "cell_type": "markdown",
   "metadata": {},
   "source": [
    "b) <table>\n",
    "        <tr>\n",
    "                <th>a</th><th>b</th><th>c</th>\n",
    "        </tr>\n",
    "        <tr>\n",
    "                <td>1</td><td>2</td><td>3</td>\n",
    "        </tr>\n",
    "        <tr>\n",
    "                <td>1</td><td>2</td><td>4</td>\n",
    "        </tr>\n",
    "        <tr>\n",
    "                <td>1</td><td>2</td><td>5</td>\n",
    "        </tr>\n",
    "        <tr>\n",
    "                <td>6</td><td>12</td><td>/</td>\n",
    "        </tr>\n",
    "        <tr>\n",
    "                <td>/</td><td>100</td><td>101</td>\n",
    "        </tr>\n",
    "        <tr>\n",
    "                <td>20</td><td>/</td><td>/</td>\n",
    "        </tr>\n",
    "</table>\n",
    "\n",
    "```SQL\n",
    "SELECT *\n",
    "FROM One NATURAL LEFT JOIN Two\n",
    "```"
   ]
  },
  {
   "cell_type": "markdown",
   "metadata": {},
   "source": [
    "#### Subqueries.pdf"
   ]
  },
  {
   "cell_type": "markdown",
   "metadata": {},
   "source": [
    "1. \n",
    "\n",
    "```SQL\n",
    "# \"||\" concatenate strings\n",
    "SELECT sid, dept || cum as course, grade \n",
    "FROM Took, \n",
    "    (SELECT *\n",
    "     FROM Offering\n",
    "     WHERE instructor = 'Horton') Hoffering\n",
    "WHERE Took.oid = Hoffering.oid\n",
    "```\n",
    "\n",
    "This query: report the id and course of students who took courses taught by Horton"
   ]
  },
  {
   "cell_type": "markdown",
   "metadata": {},
   "source": [
    "2. \n",
    "```SQL\n",
    "SELECT sid, surname\n",
    "FROM Student\n",
    "WHERE cgpa > \n",
    "    (SELECT cgpa\n",
    "    FROM Student\n",
    "    WHERE sid = 99999);\n",
    "```\n",
    "Find all students having cgpa higher than student with ID 99999, and report their ID and surname"
   ]
  },
  {
   "cell_type": "markdown",
   "metadata": {},
   "source": [
    "3. ```SQL\n",
    "SELECT sid, dept||cum AS course, grade\n",
    "FROM Took JOIN Offering ON Took.oid = Offering.oid\n",
    "WHERE grade >= 80 AND\n",
    "    (cNum, dept) IN (\n",
    "        SELECT cNum, dept\n",
    "        FROM Took JOIN Offering ON Took.oid=OFfering.oid \n",
    "        JOIN Student ON Took.sid = Student.oid\n",
    "        WHERE surname = \"Lakemeyer\")\n",
    "```\n",
    "find students who took a course Lakemeyer ever took and had mark over 80, report their sid and courses.\n"
   ]
  },
  {
   "cell_type": "markdown",
   "metadata": {},
   "source": [
    "4. ```SQL\n",
    "SELECT a\n",
    "FROM R\n",
    "WHERE b in (SELECT b FROM s)\n",
    "```\n",
    "is equivalent to \n",
    "\n",
    "```SQL\n",
    "SELECT a \n",
    "FROM R, S\n",
    "WHERE R.b = S.b\n",
    "```"
   ]
  },
  {
   "cell_type": "markdown",
   "metadata": {},
   "source": [
    "5. ```SQL\n",
    "SELECT instructor\n",
    "FROM OFfering O1\n",
    "WHERE NOT EXISTS (\n",
    "    SELECT *\n",
    "    FROM Offering\n",
    "    WHERE  oid <> O1.oid \n",
    "    AND instructor = O1.instructor);\n",
    "```\n",
    "\n",
    "Select all instructor that only teach exactly one course"
   ]
  },
  {
   "cell_type": "markdown",
   "metadata": {},
   "source": [
    "6. ```SQL\n",
    "SELECT DISTINCT oid\n",
    "FROM Took\n",
    "WHERE EXISTS (\n",
    "    SELECT *\n",
    "    FROM Took t, Offering o\n",
    "    WHERE\n",
    "        t.oid = o.oid AND\n",
    "        t.pod <> Took.oid AND\n",
    "        o.dept = 'CSC' AND\n",
    "        Took.sid = t.sid )\n",
    "ORDER BY oid;\n",
    "```\n",
    "\n",
    "It finds course offerings that include a student who has taken something else that is a CSC course.\n"
   ]
  },
  {
   "cell_type": "markdown",
   "metadata": {},
   "source": [
    "7. \n",
    "```SQL\n",
    "CREATE VIEW Counts AS\n",
    "SELECT dept, cNum, instructor, count(oID)\n",
    "FROM Offering\n",
    "GROUP BY dept, cNum, instructor\n",
    "```"
   ]
  }
 ],
 "metadata": {
  "hide_input": false,
  "kernelspec": {
   "display_name": "Python 3",
   "language": "python",
   "name": "python3"
  },
  "language_info": {
   "codemirror_mode": {
    "name": "ipython",
    "version": 3
   },
   "file_extension": ".py",
   "mimetype": "text/x-python",
   "name": "python",
   "nbconvert_exporter": "python",
   "pygments_lexer": "ipython3",
   "version": "3.6.8"
  }
 },
 "nbformat": 4,
 "nbformat_minor": 2
}
