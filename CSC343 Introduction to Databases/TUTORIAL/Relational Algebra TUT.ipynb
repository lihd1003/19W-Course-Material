{
 "cells": [
  {
   "cell_type": "markdown",
   "metadata": {},
   "source": [
    "ROSI.pdf"
   ]
  },
  {
   "cell_type": "markdown",
   "metadata": {},
   "source": [
    "## Schema\n",
    "Student(**sID**, sur, first, campus, email, cgpa)\n",
    "\n",
    "Course (**dept, cNum**, name, br)\n",
    "\n",
    "Offering(**oID**, dept, cNum, term, instructor)\n",
    "\n",
    "Took (**sID, oID**, grade)\n",
    "\n",
    "Offering[dept, cNum] $\\subseteq$ Course[dept, cNum]\n",
    "\n",
    "Took[sID]$\\subseteq$ Student[sID]\n",
    "\n",
    "Took[oID]$\\subseteq$ Offering[oID]"
   ]
  },
  {
   "cell_type": "markdown",
   "metadata": {},
   "source": [
    "## Queries"
   ]
  },
  {
   "cell_type": "markdown",
   "metadata": {},
   "source": [
    "1. Student number of all students who have taken csc343 \n",
    "\n",
    "$sIDcsc343:=\\\\\n",
    "\\pi_{sID}(Took \\bowtie(\\sigma_{dept=csc\\land cNum=343}(Offering)))$\n"
   ]
  },
  {
   "cell_type": "markdown",
   "metadata": {},
   "source": [
    "2. Student number of all students who have taken csc343 and earned an A+ in it\n",
    "\n",
    "$sIDA^+:=\\pi_{sID}(\\sigma_{grade= A+}(sIDcsc343\\bowtie Took))$"
   ]
  },
  {
   "cell_type": "markdown",
   "metadata": {},
   "source": [
    "3. The name of all such students\n",
    "\n",
    "$\\pi_{sur, first}(Student\\bowtie sIDA^+)$"
   ]
  },
  {
   "cell_type": "markdown",
   "metadata": {},
   "source": [
    "4. The names of all students who have passed a br course with Professor Picky\n",
    "\n",
    "$PickyBroID:=\\\\\n",
    "\\pi_{oID}(\\sigma_{instrucot=\"Picky\"}(Offering\\bowtie(\\sigma_{br=TRUE}(Course))))$\n",
    "\n",
    "$\\pi_{sur, first}(Student\\bowtie(\\sigma_{grade\\geq D-}(Took\\bowtie PickyBroID)))$"
   ]
  },
  {
   "cell_type": "markdown",
   "metadata": {},
   "source": [
    "5. sID of all students who have earned some grade over 80 and some grade below 50.\n",
    "\n",
    "$\\pi_{sID}(\\sigma_{grade\\geq 80 \\lor grade\\leq 50}Took)$"
   ]
  },
  {
   "cell_type": "markdown",
   "metadata": {},
   "source": [
    "6. Terms when Cook and Pitassi were both teaching something.\n",
    "\n",
    "$\\pi_{term}((\\rho_{O1}Offering)\\bowtie_{O1.instructor=Cook\\land \\\\O2.instructor=Pitassi \\land\\\\\n",
    "O1.term=O2.term}(\\rho_{O2}Offering))$\n",
    "\n",
    "Better\n",
    "\n",
    "$(\\pi_{term}\\sigma_{instructor=Cook}Offering)\\cap (\\pi_{term}\\sigma_{instructor=Pitassi}Offering)$"
   ]
  },
  {
   "cell_type": "markdown",
   "metadata": {},
   "source": [
    "7. Terms when either of them was teaching csc463\n",
    "\n",
    "$\\pi_{term}(\\sigma_{(instructor=Cook\\lor instructor=Pitassi)\\land\\\\\n",
    "(dept=csc\\land cNum=463)}Offering)$"
   ]
  },
  {
   "cell_type": "markdown",
   "metadata": {},
   "source": [
    "8. sID of students who have earned a grade of 85 or more, or who have passed a course taught by Atwood. \n",
    "\n",
    "$sIDA:=\\pi_{sID}(\\sigma_{grade>=85}Took) \\\\\n",
    "sIDPass:=\\pi_{sID}(\\sigma_{grade\\geq 50\\land instructor=Atwood}(Took\\bowtie Offering)) \\\\ sIDA\\cup sIDPass$"
   ]
  },
  {
   "cell_type": "markdown",
   "metadata": {},
   "source": [
    "9. Terms when csc369 was not offered\n",
    "\n",
    "$(\\pi_{term}Offering) - (\\pi_{term}(\\sigma_{dept=csc\\land cNum=369}Offering))$"
   ]
  },
  {
   "cell_type": "markdown",
   "metadata": {},
   "source": [
    "10. Dept and course number of courses that have never been offered.\n",
    "\n",
    "$(\\pi_{dept, cNum}Course) - (\\pi_{dept, cNum} Offering)$"
   ]
  },
  {
   "cell_type": "markdown",
   "metadata": {},
   "source": [
    "11. sID and surnames of all pairs of students who've taken a course together\n",
    "\n",
    "$PairsID(sID1,sID2):=\\\\\n",
    "\\pi_{T1.sID, T2.sID}(\\rho_{T1}Took \\bowtie_{T1.sID<T2.sID\\\\T1.oID=T2.oID} \\rho_{T2}Took)\\\\\n",
    "\\pi_{sID1, S1.sur, sID2, S2.sur}\\\\\n",
    "(PairsID\\bowtie_{S1.sID=sID1}(\\rho_{S1} Student) \\bowtie_{S2.sID=sID2} (\\rho_{S2} Student))$"
   ]
  },
  {
   "cell_type": "markdown",
   "metadata": {},
   "source": [
    "12. sID of student with the highest grade in csc343 in term 2009\n",
    "\n",
    "$Took343:=\\\\\n",
    "(\\sigma_{dept=csc\\land cNum=343\\land term=2009}Offering)\\bowtie Took \\\\\n",
    "\\pi_{sID}(Took) - \\pi_{sID}(\\rho_{T1}Took343\\bowtie_{T1.grade<T2.grade} \\rho_{T2}Took343)$"
   ]
  },
  {
   "cell_type": "markdown",
   "metadata": {},
   "source": [
    "13. sID of students who have have a grade of 100 at least twice\n",
    "\n",
    "$AtLeastTwice:= \\\\\n",
    "\\pi_{sID}(\\rho_{T1}Took \\bowtie_{T1.sID=T2.sID \\land T1.oID<T2.oID\\land\\\\T1.grade=100\\land T2.grade=100} \\rho_{T2}Took)$"
   ]
  },
  {
   "cell_type": "markdown",
   "metadata": {},
   "source": [
    "14. sID of students who have a grade of 100 exactly twice\n",
    "\n",
    "$AtLeastThree:= \\\\\n",
    "\\pi_{sID}(\\sigma_{T1.sID=T2.sID=T3.sID\\land\\\\T1.grade=T2.grade=T3.grade=100\\land\\\\\n",
    "T1.oID<T2.oID<T3.oID}(\\rho_{T1}Took \\times \\rho_{T2}Took \\times\\rho_{T3}Took))\n",
    "$\n",
    "\n",
    "$Twice:= AtLeastTwice-AtLeastThree$"
   ]
  },
  {
   "cell_type": "markdown",
   "metadata": {},
   "source": [
    "15. sID of students who have a grade of 100 at most twice\n",
    "\n",
    "$\\pi_{sID}(Student)-AtLeastThree$"
   ]
  },
  {
   "cell_type": "markdown",
   "metadata": {},
   "source": [
    "16. Dept and cNum of all courses that have been taught in every term when csc448 was taught\n",
    "\n",
    "$Term448:= \\pi_{term}(\\sigma_{dept=csc\\land cNum=448}(Offering))\\\\\n",
    "AllPossible:= \\pi_{dept, cNum}Offering \\times Term448 \\\\\n",
    "NotThere:= AllPossible - \\pi_{dept, cNum, term} Offering \\\\\n",
    "\\pi_{dept, cNum} Offering - \\pi_{dept, cNum}NotThere\n",
    "$"
   ]
  },
  {
   "cell_type": "markdown",
   "metadata": {},
   "source": [
    "17. Name of all students who have taken every course Cries has taught\n",
    "\n",
    "$GriesCourse:= \\pi_{dept, cNum}(\\sigma_{instructor=Gries}Offering)\\\\\n",
    "AllPossible:=(\\pi_{sID} Student)\\times GriesCourse\\\\\n",
    "NotThere := AllPossible - \\pi_{sID, dept, cNum} (Took\\bowtie Offering) \\\\\n",
    "\\pi_{sID}Student - \\pi_{sID}NotThere\n",
    "$"
   ]
  },
  {
   "cell_type": "markdown",
   "metadata": {},
   "source": [
    "## Integrity Constraints"
   ]
  },
  {
   "cell_type": "markdown",
   "metadata": {},
   "source": [
    "1. Courses at the 400-level cannot count for breadth\n",
    "\n",
    "$\\sigma_{cNum\\geq 400\\land br=True}Course = \\emptyset$"
   ]
  },
  {
   "cell_type": "markdown",
   "metadata": {},
   "source": [
    "2. CSC490 can only be offered at the same time as CSC454\n",
    "\n",
    "$\\pi_{term}(\\sigma_{dept=csc\\land cNum=490}Offering) \\subseteq \\pi_{term}(\\sigma_{dept=csc\\land cNum=454}Offering)$"
   ]
  }
 ],
 "metadata": {
  "hide_input": false,
  "kernelspec": {
   "display_name": "Python 3",
   "language": "python",
   "name": "python3"
  },
  "language_info": {
   "codemirror_mode": {
    "name": "ipython",
    "version": 3
   },
   "file_extension": ".py",
   "mimetype": "text/x-python",
   "name": "python",
   "nbconvert_exporter": "python",
   "pygments_lexer": "ipython3",
   "version": "3.6.8"
  }
 },
 "nbformat": 4,
 "nbformat_minor": 2
}
