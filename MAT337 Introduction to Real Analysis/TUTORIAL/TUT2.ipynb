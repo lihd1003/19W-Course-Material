{
 "cells": [
  {
   "cell_type": "markdown",
   "metadata": {},
   "source": [
    "1. Let $x_n = \\sqrt{1+\\sqrt{2 + ...\\sqrt{n}}}$, prove $x_n\\rightarrow L < \\infty$. \n",
    " - monotone increasing  \n",
    " - $x^2_{n+1} = 1 + \\sqrt{2 + \\sqrt{3 + ...\\sqrt{n+1}}}$  \n",
    " use the fact that $\\forall n \\geq 4. \\sqrt{2n}\\leq n- 1$  \n",
    " $ \\leq 1 + \\sqrt{2 + \\sqrt{3 + ...\\sqrt{n + \\sqrt{2(n+1)}}}}$  \n",
    " $\\leq 1 + \\sqrt{2 + \\sqrt{3 + ...\\sqrt{2n}}}$  \n",
    " Do this repeatedly ...  \n",
    " $\\leq 1 + \\sqrt2 x_n$\n",
    " - solve $x^2 - \\sqrt2 x - 1< 0\\Rightarrow x\\in \\frac{\\sqrt{2}\\pm \\sqrt{6}}{2}$"
   ]
  },
  {
   "cell_type": "markdown",
   "metadata": {},
   "source": [
    "2. For a sequence, if all subsequence has a subsubsequence that converges to $L$, then the sequence converges to $L$ as well. \n",
    "\n",
    "_proof._ Prove by contradiction.  \n",
    "Let $(x_n)$ be a sequence in $\\mathbb{R}$, assume $\\lim x_n \\neq L$.  \n",
    "Take $\\epsilon > 0$ s.t. $\\forall N > 0. \\exists m \\geq N. |x_m - L|\\geq \\epsilon$.  \n",
    "\n",
    "Then, define a sequence recursively  \n",
    "$y_1 = 1, y_{n+1}$ by taking $y_{n+1}\\geq y_n$ s.t. $|y_{n+1}-L|\\geq \\epsilon$. \n",
    "\n",
    "Then, $(x_{y_n})$ is a subsequence of $(x_n)$ and since each number is at least $\\epsilon$ away from $L$, its subsequence can never converge to $L$. \n"
   ]
  },
  {
   "cell_type": "markdown",
   "metadata": {},
   "source": [
    "3. Let $(a_n)$ satisfy $\\lim_{n\\rightarrow \\infty} |a_n - a_{n+1}| = L < \\infty$. Show that $(a_n)$ is Cauchy. \n",
    "\n",
    "_proof_. Let $\\epsilon > 0$.  \n",
    "take $M > 0$ s.t. $\\forall N \\geq M. |\\sum_{n=1}^N |a_n - a_{n+1}|- L| < \\epsilon/2$.  \n",
    "Then, $\\forall n, m > M. $  \n",
    "$|a_n - a_m| = |a_n - a_{n+1}+ a_{n+1} - ...+a_{m-1}+a_{m-1}-a_m|$  \n",
    "$\\leq |a_n - a_{n+1}|+ |a_{n+1} - a_{n+2}| + ...+|a_{m-1}-a_m|$ by tri-ineq  \n",
    "$=\\sum_n^{m-1} |a_i - a_{i+1}|$  \n",
    "$= \\sum_1^{m-1} |a_i -a_{i+1}| - \\sum_1^n |a_i-a_{i+1}|$  \n",
    "$< L + \\epsilon/2 - L + \\epsilon/2$\n",
    "$ < \\epsilon$"
   ]
  }
 ],
 "metadata": {
  "hide_input": false,
  "kernelspec": {
   "display_name": "Python 2",
   "language": "python",
   "name": "python2"
  },
  "language_info": {
   "codemirror_mode": {
    "name": "ipython",
    "version": 2
   },
   "file_extension": ".py",
   "mimetype": "text/x-python",
   "name": "python",
   "nbconvert_exporter": "python",
   "pygments_lexer": "ipython2",
   "version": "2.7.16"
  }
 },
 "nbformat": 4,
 "nbformat_minor": 2
}
