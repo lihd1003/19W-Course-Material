{
 "cells": [
  {
   "cell_type": "markdown",
   "metadata": {},
   "source": [
    "### Monotone Convergence Theorem"
   ]
  },
  {
   "cell_type": "markdown",
   "metadata": {},
   "source": [
    "Monotone increasing and bounded above $\\Rightarrow$ converges to supremum. \n",
    "\n",
    "__Monotonic__ A sequence $(a_n)$ is (strictly) monotone increasing is $a_n\\leq a_{n+1}(a_n<a_{n+1}), \\forall n\\geq 1$. \n",
    "\n",
    "\n",
    "WTS $\\lim_{n\\rightarrow\\infty}a_n = \\inf(a_n)$. i.e.  \n",
    "$\\forall \\epsilon. \\exists N. \\forall n \\geq N. |a_n - L| \\leq \\epsilon$\n",
    "\n",
    "_proof._  Let $L=\\inf(a_n)$. Let $\\epsilon > 0$, take $a_N \\in (a_n)$ s.t. $L-\\epsilon < a_N$.  \n",
    "Then $L-\\epsilon < a_N \\leq a_n \\leq L$ for all $n\\geq N. \\Rightarrow \\forall n\\geq N. |a_n-L|<\\epsilon$"
   ]
  },
  {
   "cell_type": "markdown",
   "metadata": {},
   "source": [
    "__Corollary__ consider closed, non-empty nested intervals $I_n\\supseteq I_{n+1}\\supseteq I_{n+2}...$, then then $\\cap^\\infty_n I_n\\neq \\emptyset$\n",
    "\n",
    "_proof._ Let $I_n=[a_n,b_n]$, then we have two monotone sequence $(a_n)$ is increasing, $(b_n)$ is decreasing. Then, $\\forall k\\geq 1. a_k \\leq \\lim_\\infty a_n\\leq \\lim_\\infty b_n \\leq b_k$\n",
    "\n",
    "Then, we can show $\\Rightarrow [lim_\\infty a_n, \\lim_\\infty b_n]=[\\sup(a_n),\\inf(b_n)]\\subseteq \\cap_{n\\geq 1} I_n$"
   ]
  },
  {
   "cell_type": "markdown",
   "metadata": {},
   "source": [
    "__Example__(D\\&D 2.6.B) Let $a_1 = 0, a_{n+1}=\\sqrt{5 + a_n}$, find whether it's convergent and if convergent what's the limit. \n",
    "\n",
    "__Monotone__  \n",
    "_proof_.  \n",
    "$a_2 = \\sqrt 5 > 0 = a_1$  \n",
    "$a_{n+1} = \\sqrt{5 + a_n} > \\sqrt{5 + a_{n-1}}=a_n$\n",
    "\n",
    "__Bounded above__   \n",
    "$a^2_{n+1} =5 + a_n < 5 + a_{n+1}$. Let $x = a_{n+1}\\Rightarrow x^2 < 5 + x\\Rightarrow x^2 -x -5 < 0$.  \n",
    "$x\\in [\\frac{1-\\sqrt{21}}{2}, \\frac{1+\\sqrt{21}}{2}]\\Rightarrow a_{n+1}=x$ is bounded above.  \n",
    "\n",
    "In fact, $L = \\lim\\sqrt{5 + a_{n-1}}=\\sqrt{5+L} \\Rightarrow L^2 = L - 5$. solve and take $L > 0$ since monotone increasing, then $L=\\frac{1+\\sqrt{21}}{2}$"
   ]
  },
  {
   "cell_type": "markdown",
   "metadata": {},
   "source": [
    "__Example__(D\\&D 2.6.I) Let $(a_n)$ be bounded, define $\\lim\\sup a_n = b_n = \\sup\\{a_k: k\\geq n\\}$ for $n\\geq 1$. Prove that $(b_n)$ converges. \n",
    "\n",
    "__Monotone__ $b_n\\leq b_{n+1}$  \n",
    "since $b_n = \\max(a_n, \\sup\\{a_k: k\\geq n+1\\})=\\max(a_n,b_{n+1})\\geq b_{n+1}$\n",
    "\n",
    "__Bounded below__ $\\forall n \\geq 1. a_n\\geq M, b_n = \\sup(a_k:k\\geq n )\\geq M$\n",
    "\n",
    "$$\\exists L<\\infty.  \\lim b_n = \\lim_{n\\rightarrow\\infty}\\sup_{k\\geq n} a_nL$$.\n",
    "\n",
    "__Remark__ $L_u = \\lim\\sup a_k \\geq \\lim\\inf a_k = L_l$, if $L_u = L_l = L\\Rightarrow \\lim a_k = L$\n"
   ]
  },
  {
   "cell_type": "markdown",
   "metadata": {},
   "source": [
    "### Bolzano-Weierstrass Theorem \n",
    "Every bounded sequence of real numbers has a convergent subsequence\n",
    "\n",
    "__Subsequence__ a subsequence of $(a_n)$ is a sequence $(a_{n_k})$ where $n_1<n_2<...$\n",
    "\n",
    "_proof._ Let $(a_n)\\subseteq [-M, M]$.  \n",
    "Construct the subsequence by \n",
    "- picking $I_1\\subset [-M,M]$ that contains infinitely many $a_n$ s.t. $|I_1|\\leq M/2$\n",
    "- ...\n",
    "- picking $I_n\\subset I_{n-1}$ that contains infinitely many $a_n$ s.t. $|I_n| \\leq |I_{n-1}|/2 \\leq M/2^n$. \n",
    "\n",
    "By Nested interval lemma, $\\cap_{n\\geq 1}I_n \\neq\\emptyset$, take $L\\in \\cap I_n$. \n",
    "\n",
    "Pick $a_n\\in I_n, \\forall n \\geq 1$ Since $L\\in I_n\\Rightarrow |a_n - L|\\leq |I_n|<M/2^n$. \n",
    "\n",
    "Then $\\forall \\epsilon > 0$, take $N_\\epsilon$ s.t. $\\epsilon > M/2^{N_\\epsilon} > |a_{N_\\epsilon} - L|$  \n",
    "but $|a_n - L | \\leq |I_n|\\leq |I_{N_\\epsilon}| / 2^{n-N_\\epsilon}, \\forall n\\geq N_\\epsilon$\n",
    "\n",
    "$\\epsilon > M / 2^{N_\\epsilon} > |a_n - L|. \\forall n\\geq N_\\epsilon\\Rightarrow \\lim{a_n} = L$"
   ]
  }
 ],
 "metadata": {
  "hide_input": false,
  "kernelspec": {
   "display_name": "Python 3",
   "language": "python",
   "name": "python3"
  },
  "language_info": {
   "codemirror_mode": {
    "name": "ipython",
    "version": 3
   },
   "file_extension": ".py",
   "mimetype": "text/x-python",
   "name": "python",
   "nbconvert_exporter": "python",
   "pygments_lexer": "ipython3",
   "version": "3.7.3"
  }
 },
 "nbformat": 4,
 "nbformat_minor": 2
}
