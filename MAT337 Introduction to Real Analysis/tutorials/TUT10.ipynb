{
 "cells": [
  {
   "cell_type": "markdown",
   "metadata": {},
   "source": [
    "__Claim__ $\\sum x^k e^{-kx}$ converges uniformly for $x\\in\\mathbb R^+$.  \n",
    "\n",
    "__lemma__ $\\|x^k e^{-kx}\\|_{\\infty} \\leq e^{-k}$  \n",
    "_proof_. Consider $f(x):=x^k e^{-kx}$, by critical points, $f'(x) = kx^{k-1}e^{-kx} -k x^ke^{-kx} = ke^{-kx}(x^{k-1} - x^k)$ has critical point at $1$ for any $k \\geq 1$, (0 cannot hold for $0^0 - 0^1 = 1$). So that $\\sup |x^k e^{-kx}| \\leq e^{-k}$. By M-test, converges uniformly.  \n"
   ]
  },
  {
   "cell_type": "markdown",
   "metadata": {},
   "source": [
    "__Claim__ $\\sum (x^2 + n^2)^{-1}$   \n",
    "_proof_. Since $\\sup(x^2 + n^2)^{-1} \\leq n^{-2}$ and $\\sum n^{-2} = \\pi^2 / 6 < \\infty$, by M-test, converges uniformly. \n"
   ]
  },
  {
   "cell_type": "markdown",
   "metadata": {},
   "source": [
    "__Example__ $\\sum k^3 x^k$  \n",
    "_proof_. \n",
    "$\\lim |\\frac{(k+1)^3}{k^3}| = 1\\Rightarrow \\lim |k^3|^{1/k} = 1\\Rightarrow R = 1$"
   ]
  },
  {
   "cell_type": "markdown",
   "metadata": {},
   "source": [
    "__Example__ $\\sum \\frac{(-1)^k}{(2k)!}x^{2k}$  \n",
    "_proof_. $\\lim |(\\frac{(2(k+1))!)^{-1}}{(2k!)^{-1}}|= \\lim((2k+1)(2k+2))^{-1} = 0\\Rightarrow R = \\infty$"
   ]
  },
  {
   "cell_type": "markdown",
   "metadata": {},
   "source": [
    "__Example__ $\\sum \\frac{k!}{k^k}x^k$  \n",
    "\\begin{align*}\n",
    "\\lim\\sup |\\frac{k!}{k^k}|^{1/k} &\\sim \\lim\\sup |\\frac{\\sqrt{2\\pi k}(\\frac{k}{e})^k}{k^k}|^{1/k} \\\\\n",
    "&= \\lim\\sup (2\\pi k)^{1/2k}e^{-1} \\\\\n",
    "&= e^{-1} \\lim\\sup (2\\pi k)^{\\frac{1}{2k}} \\\\\n",
    "\\lim\\sup\\frac 1{2k}\\log(2\\pi k) = 0 &\\Rightarrow \\lim\\sup(2\\pi k)^{1/2k} = 1 \\\\\n",
    "R^{-1} = e^{-1}&\\Rightarrow R = e\n",
    "\\end{align*}"
   ]
  },
  {
   "cell_type": "markdown",
   "metadata": {},
   "source": [
    "__Example__ $f(x) = \\sum (\\frac{1}{(k-1)!} + k)x^{k-1}$  \n",
    "_proof_. Consider $F(x) :=\\int_0^x f(t)dt = \\sum (\\frac{1}{k!} + 1)x^k$.  \n",
    "\\begin{align*}\n",
    "R_1 &= \\lim |\\frac{((k+1)!)^{-1}}{(k!)^{-1}}| \\\\\n",
    "&= \\lim (k+1)^{-1} \\\\\n",
    "&= 0  \\\\\n",
    "R_2 &= \\lim 1 = 1\n",
    "\\end{align*}"
   ]
  }
 ],
 "metadata": {
  "hide_input": false,
  "kernelspec": {
   "display_name": "Python 3",
   "language": "python",
   "name": "python3"
  },
  "language_info": {
   "codemirror_mode": {
    "name": "ipython",
    "version": 3
   },
   "file_extension": ".py",
   "mimetype": "text/x-python",
   "name": "python",
   "nbconvert_exporter": "python",
   "pygments_lexer": "ipython3",
   "version": "3.7.3"
  }
 },
 "nbformat": 4,
 "nbformat_minor": 2
}
