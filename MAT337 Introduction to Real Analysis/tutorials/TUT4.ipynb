{
 "cells": [
  {
   "cell_type": "markdown",
   "metadata": {},
   "source": [
    "$f(x)=-(1+|x|^2)^{-1}, x\\in\\mathbb{R}$ is bounded by $(0,1]$ and continous, but not attain its minimum. "
   ]
  },
  {
   "cell_type": "markdown",
   "metadata": {},
   "source": [
    "a) Any continuous function on a closed and bounded set.   \n",
    "Yes, by Heine-Cantar THeorem\n",
    "\n",
    "b) $f(x)=ax+b, a,b\\in\\mathbb{R}, x\\in\\mathbb{R}$ is uniform continuous.  \n",
    "_proof_. Let $\\epsilon > 0$, then take $\\delta = |\\epsilon / a|$  \n",
    "$|ax+b - (ay+b)|=|a||x-y| \\leq |a||\\epsilon/a|=\\epsilon$\n",
    "\n",
    "c) $f(x)=ax^2 + b, a,b\\in\\mathbb{R}, x\\in\\mathbb{R}$ is uniform continuous.  \n",
    "_proof_. Take $x_n = n, y_n = n + n^{-1}$. $|x_n-y_n| = 1/n \\rightarrow 0$, but $an^2 + b - (a(n+n^{-1})^2 + b) \\rightarrow 2a$\n",
    "\n",
    "d) $f(x): x^{-2}, x\\in(0,1]$ is not uniform continuous  \n",
    "_proof_. take $x_n = n^{-1}, y_n = (n+n^{-1})^{-1}$.  \n",
    "$n^{{-1}(-2)} - (n+n^{-1})^{-1(-2)}=|n^2 - (n^2 + 2 -n^{-2})|\\rightarrow 2$\n",
    "\n",
    "e) $f=x^{-2}, x\\in[1,\\infty)$ is uniform continous  \n",
    "_proof_. Let $\\epsilon > 0$, take $\\delta = \\epsilon/2$.  \n",
    "$|x^{-2} - y^{-2}| = |x-y||\\frac{x+y}{x^2y^2}| \\leq |x-y|2<\\epsilon$\n",
    "\n",
    "f),g) $\\sqrt x = x^{1/2}$ is 1/2 Holder, hence uniform continuous"
   ]
  }
 ],
 "metadata": {
  "hide_input": false,
  "kernelspec": {
   "display_name": "Python 3",
   "language": "python",
   "name": "python3"
  },
  "language_info": {
   "codemirror_mode": {
    "name": "ipython",
    "version": 3
   },
   "file_extension": ".py",
   "mimetype": "text/x-python",
   "name": "python",
   "nbconvert_exporter": "python",
   "pygments_lexer": "ipython3",
   "version": "3.6.8"
  }
 },
 "nbformat": 4,
 "nbformat_minor": 2
}
