{
 "cells": [
  {
   "cell_type": "markdown",
   "metadata": {},
   "source": [
    "Block elements \n",
    " - height and width can be specified and changed\n",
    "  - default: width = match parent, height =  wrap content\n",
    " - Forces creation of new lines\n",
    "\n",
    "Inline elements\n",
    " - Don't have defined width/height\n",
    "  - Inline-block can have a height/width (e.x. img)\n",
    " - Can't have block element inside it\n",
    " \n",
    "Non-semantic elements\n",
    "- generic - no specific purpose\n",
    "- used more for creating natural divisions (while not visually divide anything themselves)"
   ]
  },
  {
   "cell_type": "markdown",
   "metadata": {},
   "source": [
    "class and ID selectors\n",
    "\n",
    "descendant selector: p strong select all strong in p\n",
    "\n",
    "element.class: to all element that have class highlight\n",
    "\n",
    "multiple element: a, b, c\n",
    " "
   ]
  }
 ],
 "metadata": {
  "hide_input": false,
  "kernelspec": {
   "display_name": "Python 3",
   "language": "python",
   "name": "python3"
  },
  "language_info": {
   "codemirror_mode": {
    "name": "ipython",
    "version": 3
   },
   "file_extension": ".py",
   "mimetype": "text/x-python",
   "name": "python",
   "nbconvert_exporter": "python",
   "pygments_lexer": "ipython3",
   "version": "3.6.8"
  }
 },
 "nbformat": 4,
 "nbformat_minor": 2
}
