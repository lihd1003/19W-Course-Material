{
 "cells": [
  {
   "cell_type": "markdown",
   "metadata": {},
   "source": [
    "## Event and interaction\n",
    "- All the events occur on HTML elements in the browser\n",
    "- JS is used to define the action that needs to be taken when an event occurs\n",
    "(when [HTML Event]. do [JS action])\n",
    "\n"
   ]
  },
  {
   "cell_type": "markdown",
   "metadata": {},
   "source": [
    "#### Setting up listeners in JS\n",
    "`element.addEventListener(event, function)`\n",
    "the function is a callback function\n",
    "\n",
    "**Callback function** is designated to be \"called back\" at an appropriate time"
   ]
  },
  {
   "cell_type": "markdown",
   "metadata": {},
   "source": [
    "#### Event objects\n",
    "- All events that occur create a JS object with info about the event\n",
    " - target: event origin element\n",
    " - type: type of event\n",
    "- Pass this object to the callback function as argument\n",
    "```javascript\n",
    "function myCallBack(event){\n",
    "    // figure out where e came from\n",
    "    // execute proper code\n",
    "}\n",
    "```\n",
    "\n",
    "\n"
   ]
  },
  {
   "cell_type": "markdown",
   "metadata": {},
   "source": [
    "#### Non-blocking JS\n",
    "Allow JS continue executing while we wait for some blocking code to complete. For example, `setTimeout(function, time_in_ms)`\n",
    "\n",
    "JS is \"Asynchronous\" (allowing respond to several events at the \"same time\")\n",
    "\n",
    "JS is still single threaded and use Event loop in the runtime engine to schedule event one after another\n"
   ]
  }
 ],
 "metadata": {
  "hide_input": false,
  "kernelspec": {
   "display_name": "Python 3",
   "language": "python",
   "name": "python3"
  },
  "language_info": {
   "codemirror_mode": {
    "name": "ipython",
    "version": 3
   },
   "file_extension": ".py",
   "mimetype": "text/x-python",
   "name": "python",
   "nbconvert_exporter": "python",
   "pygments_lexer": "ipython3",
   "version": "3.6.8"
  }
 },
 "nbformat": 4,
 "nbformat_minor": 2
}
