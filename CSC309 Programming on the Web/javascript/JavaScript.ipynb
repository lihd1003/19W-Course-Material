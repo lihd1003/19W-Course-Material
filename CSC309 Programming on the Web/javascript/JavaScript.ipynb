{
 "cells": [
  {
   "cell_type": "markdown",
   "metadata": {},
   "source": [
    "## Variables and Scope"
   ]
  },
  {
   "cell_type": "markdown",
   "metadata": {},
   "source": [
    "#### $<$ES6\n",
    "- __function scope__ you can declare a variable by `var variance = ...` anywhere of the function and it will be hoisted, it can be access anywhere in the function. \n",
    "\n",
    "- __Hoisting__ declaration is hoisted to the top while assign to be undefined\n",
    "\n",
    "- __global scope__ when just do `variable = ...`, then the variable goes to global scope, and can be accessed anywhere in the script\n",
    "\n",
    "- `\"use strict\"` will strict you from declaring global scope variables by `variable = ...`\n",
    "\n",
    "- __Lexical scope__ the inner loop can access the declared value. Both `var` and global assignment are in lexical scope."
   ]
  },
  {
   "cell_type": "markdown",
   "metadata": {},
   "source": [
    "#### ES6\n",
    "- `let` have block scope. They can be only access in the block it declared\n",
    " - Lexical scope still apply\n",
    "\n",
    "- `const` same scope as let while cannot be reassigned\n",
    " - default to using `const` unless know you will have to re-assign a variable\n",
    "\n",
    "- Generally, don't use `var`\n"
   ]
  },
  {
   "cell_type": "markdown",
   "metadata": {},
   "source": [
    "## Functions"
   ]
  },
  {
   "cell_type": "markdown",
   "metadata": {},
   "source": [
    "#### Anonymous functions\n",
    "- Functions can be passed around without names\n",
    "\n",
    "- Call them using Immediately invoked functioned expressions \n",
    "```javascript\n",
    "(function() {\n",
    "    log('anonymous');\n",
    "})();\n",
    "// anonymous\n",
    "```\n",
    "- Can give it a name when possible for stack trace and self-documentation\n",
    "```javascript\n",
    "(function foo() {\n",
    "    let a = 7;\n",
    "    log(a);\n",
    "}) (); \n",
    "// 7\n",
    "```\n",
    "\n",
    "\n"
   ]
  },
  {
   "cell_type": "markdown",
   "metadata": {},
   "source": [
    "#### Closures\n",
    "- References to scopes that can be passed around\n",
    "- Allow function/block scopes to be preserved even after they finish executing\n",
    "- \"carry baggage\" with it from where it was created\n",
    "```javascript\n",
    "function foo() {\n",
    "    let a = 2; \n",
    "    function inner() {\n",
    "        log(a); // 2\n",
    "    }\n",
    "    return inner;\n",
    "}\n",
    "let bar = foo(); // now bar is the inner function\n",
    "bar(); // do log(a), output 2\n",
    "```\n",
    "Note that the function pointer being returned will is just the script, and the information being carried can still accept change\n",
    "```javascript\n",
    "function foo() {\n",
    "    let a = 2; \n",
    "    function inner() {\n",
    "        log(a); // 2\n",
    "    }\n",
    "    a = 5;\n",
    "    return inner;\n",
    "}\n",
    "let bar = foo(); // now bar is the inner function\n",
    "bar(); // do log(a), output 5\n",
    "```"
   ]
  },
  {
   "cell_type": "markdown",
   "metadata": {},
   "source": [
    "## Objects\n",
    "- Set of key-value pairs\n",
    "- the keys are \"properties\", can be strings and the value can be any type\n"
   ]
  },
  {
   "cell_type": "markdown",
   "metadata": {},
   "source": [
    "#### Simple creation\n",
    "```javascript\n",
    "const object_name = {\n",
    "    // the property can be strings\n",
    "    // will be influence the result\n",
    "    property1: value1, \n",
    "    property2: value2,\n",
    "    ...\n",
    "}\n",
    "```\n",
    "Can add or change properties by \n",
    "`object_name.property_name = new_value`\n"
   ]
  },
  {
   "cell_type": "markdown",
   "metadata": {},
   "source": [
    "#### Function properties\n",
    "```javascript\n",
    "object.property = function() {\n",
    " ...\n",
    "}\n",
    "object.property() // run the function\n",
    "```\n",
    "In the function, you can use `this` refers to the containing object of the call-site of a function, can be changed by using `bind, call, apply`\n",
    "\n",
    "`function.bind(object)` binds the function's `this` refers to the `object`\n",
    "\n",
    "`function.call(object, [parameters])` call the function with `this` refers to the `object`"
   ]
  },
  {
   "cell_type": "markdown",
   "metadata": {},
   "source": [
    "## Object creation\n",
    "- Delegation framework\n",
    " - if a property can't be found in an object, JS looks for that property in a delegate object\n",
    "- Prototypes are objects that are used by other objects to add delegate properties\n",
    " - Not superclasses, no instances are created, an object will just have a reference to its prototype and multi objects can have the same prototype object reference."
   ]
  },
  {
   "cell_type": "markdown",
   "metadata": {},
   "source": [
    "#### Create with new keyword\n",
    "`new` keyword:\n",
    " 1. create an empty object\n",
    " 2. adds the constructor prototype to that object\n",
    " 3. call the constructor function with `this` set to the new object\n",
    " 4. return the object\n",
    " \n",
    "`__proto__` is the property of an object that points to the object's prototype\n",
    "\n",
    "`prototype` is the property of a function that is used as the prototype to add to the new object when that function is called as a constructor"
   ]
  },
  {
   "cell_type": "markdown",
   "metadata": {},
   "source": [
    "#### Create with `Object.create()`\n",
    "- `Object.create(o)` create an object with `o` as the prototype\n",
    "- Can create multi objects with same prototype but all of their prototypes will points to the same reference\n",
    "\n"
   ]
  },
  {
   "cell_type": "markdown",
   "metadata": {},
   "source": [
    "#### Create with class (ES6)\n",
    "- it's not \"really\" a class\n",
    "- No private variables. "
   ]
  }
 ],
 "metadata": {
  "hide_input": false,
  "kernelspec": {
   "display_name": "Python 3",
   "language": "python",
   "name": "python3"
  },
  "language_info": {
   "codemirror_mode": {
    "name": "ipython",
    "version": 3
   },
   "file_extension": ".py",
   "mimetype": "text/x-python",
   "name": "python",
   "nbconvert_exporter": "python",
   "pygments_lexer": "ipython3",
   "version": "3.6.8"
  }
 },
 "nbformat": 4,
 "nbformat_minor": 2
}
