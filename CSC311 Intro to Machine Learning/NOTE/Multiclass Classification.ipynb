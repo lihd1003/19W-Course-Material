{
 "cells": [
  {
   "cell_type": "markdown",
   "metadata": {},
   "source": [
    "#### One-hot vector/ one-of-K encoding Target\n",
    "Targets from a discrete set $\\{1,...,K\\}$  \n",
    "For convenience, let $t\\in\\mathbb R^K, t_i= \\mathbb I(i=k)$ where $k$ is the classification. "
   ]
  },
  {
   "cell_type": "markdown",
   "metadata": {},
   "source": [
    "#### Linear predictions\n",
    "$D$ input, $K$ output, hence we need a weight matrix $W$  \n",
    "$$\\vec z_{K\\times 1} = W_{K\\times D}\\vec x_{D\\times 1} + \\vec b_{K\\times 1}$$\n",
    "\n"
   ]
  }
 ],
 "metadata": {
  "hide_input": false,
  "kernelspec": {
   "display_name": "Python 3",
   "language": "python",
   "name": "python3"
  },
  "language_info": {
   "codemirror_mode": {
    "name": "ipython",
    "version": 3
   },
   "file_extension": ".py",
   "mimetype": "text/x-python",
   "name": "python",
   "nbconvert_exporter": "python",
   "pygments_lexer": "ipython3",
   "version": "3.7.4"
  }
 },
 "nbformat": 4,
 "nbformat_minor": 2
}
