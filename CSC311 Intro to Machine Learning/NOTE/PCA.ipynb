{
 "cells": [
  {
   "cell_type": "markdown",
   "metadata": {},
   "source": [
    "Let $\\mathcal D = \\{x^{(1)},...,x^{(N)}\\}\\subset \\mathbb R^D$, so that $N$ instances will form matrix \n",
    "$$X = \\begin{bmatrix}[\\vec x^{(1)}]^T\\\\...\\\\ [\\vec x^{(N)}]^T\\end{bmatrix}$$\n",
    "each row will be one observation of $D$ faetures,  \n",
    "Let $x^{(i)}\\sim N(\\mu, \\Sigma)$"
   ]
  },
  {
   "cell_type": "markdown",
   "metadata": {},
   "source": [
    "## Dimension Reduction\n",
    "Loss some information (e.g. spread / $\\sigma$) by projecting higher dimensions onto lower ones. IN practice, the important features can be accurately captured in a low dimensional subspace."
   ]
  },
  {
   "cell_type": "markdown",
   "metadata": {},
   "source": [
    "### Projection onto a subspace\n",
    "Given $\\mathcal D, \\hat\\mu=N^{-1}\\sum^N x^{(i)}$ be the sample mean.  \n",
    "\n",
    "Want to find a $K <D $ dimensional subspace $S\\subset \\mathcal R^D$ s.t. $x^{(n)}-\\hat\\mu$ is \"well represented\" by a projection onto $K$-dimensional $S$. \n",
    "\n",
    "Where __projection__ is to find the closest point $\\tilde x$ on $S$ s.t. $\\|x-\\tilde x\\|$ is minimized. \n",
    "\n",
    "In a 2-dimensional problem, we are looking dor direction $u_1$ along with the data is well-represented, such as direction of higher variance or the direction of min difference after projection, which turns to be the same. "
   ]
  },
  {
   "cell_type": "markdown",
   "metadata": {},
   "source": [
    "#### Euclidean Projection\n",
    "\n",
    "$Proj_S(x):=$ projection of $x$ on $S$. \n",
    "\n",
    "In 2D case, $S$ is the line along the unit vector $u$ (1-D subspace). $u$ is a basis for $S$. \n",
    "\n",
    "Since $x^Tu = \\|x\\|\\|u\\|\\cos\\theta =\\|x\\|\\cos\\theta$\n",
    "$$Proj_S(x) = x^Tu\\cdot u = \\|\\tilde x\\|u$$\n",
    "\n",
    "In K-D case, we have $K$ basis $u_1,...,u_K \\in \\mathcal R^D$. and the projection will be \n",
    "$$Proj_S(x) = \\sum^K (x^Tu_i) u_i = \\sum^K z_i u_i$$"
   ]
  },
  {
   "cell_type": "markdown",
   "metadata": {},
   "source": [
    "### Algorithm\n",
    "#### Center data\n",
    "Centering by subtract the mean. i.e. the mean (center) be the origin. We need to center the data since we don't want location of data to influence the calculations. "
   ]
  }
 ],
 "metadata": {
  "hide_input": false,
  "kernelspec": {
   "display_name": "Python 3",
   "language": "python",
   "name": "python3"
  },
  "language_info": {
   "codemirror_mode": {
    "name": "ipython",
    "version": 3
   },
   "file_extension": ".py",
   "mimetype": "text/x-python",
   "name": "python",
   "nbconvert_exporter": "python",
   "pygments_lexer": "ipython3",
   "version": "3.7.4"
  }
 },
 "nbformat": 4,
 "nbformat_minor": 2
}
