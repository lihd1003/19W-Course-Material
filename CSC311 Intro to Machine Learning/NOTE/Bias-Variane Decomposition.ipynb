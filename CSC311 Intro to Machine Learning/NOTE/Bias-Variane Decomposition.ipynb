{
 "cells": [
  {
   "cell_type": "code",
   "execution_count": 2,
   "metadata": {},
   "outputs": [],
   "source": [
    "import numpy as np\n",
    "import sklearn as sk\n",
    "import matplotlib.pyplot as plt"
   ]
  },
  {
   "cell_type": "markdown",
   "metadata": {},
   "source": [
    "## Loss function\n",
    "A loss function $L(y,t)$ defines how bad it is if, for some example $x$, the algorithm predicts $y$, but the target is actually $t$"
   ]
  },
  {
   "cell_type": "markdown",
   "metadata": {},
   "source": [
    "## Bias-Variance Decomposition\n",
    "Suppose the training set $\\mathcal D$ consists of $N$ pairs sampled IID from a sample generating distribution, i.e. $(x^{(i)}, t^{(i)})\\sim p_{sample}$  \n",
    "Let $p_{\\mathcal D}$ denote the induced distribution over training set $i.e. \\mathcal D\\sim p_{\\mathcal D}$ \n",
    "\n",
    "Pick a fixed query point $\\vec x$, then consider an experiment where we sample lots of (say $m$ times) training datasets IID from $p_{\\mathcal D}$\n",
    "\n",
    "Then, we can produce $h_{k,\\mathcal D}, k\\in\\{1,2,...,m\\}$ and we compute each classifier's prediction $h_{k,\\mathcal D}(\\vec x) = y$ at the chosen query point $\\vec x$\n",
    "\n",
    "Therefore, $y$ is a random variable, i.e. $D\\Rightarrow h_{\\mathcal D}\\Rightarrow h_{\\mathcal D}(\\vec x)=y, \\mathcal D$ is randomly chosen."
   ]
  },
  {
   "cell_type": "markdown",
   "metadata": {},
   "source": [
    "### Basic setup\n",
    "Assume $t$ is deterministic given $x$  \n",
    "There is a distribution over the loss at $\\vec x$, with $E_{\\mathcal D\\sim p_{\\mathcal D}}(L(h_{\\mathcal D}(x), t))$  \n",
    "For each query point, the expected loss is different. We are interested in quantifying how well our classifier does over $p_{sample}$ average over training set $E_{\\vec x\\sim p_{sample}, \\mathcal D\\sim p_{\\mathcal D}}(L(h_{\\mathcal D}(\\vec x), t))$  \n",
    "Then, we can decompose the expected loss \n",
    "\n",
    "$$\\begin{align}\n",
    "E_{x,D}[(h_D(x) - t)^2] &= E_{x,D}\\bigg[\\big(h_D(x) - E_D(h_D(x)\\mid x) +E_D(h_D(x)\\mid x)-t\\big)^2\\bigg]\\\\\n",
    "&= \\quad E_{x,D}\\bigg[\\big(h_D(x) - E_D(h_D(x)\\mid x)\\big)^2\\bigg] \\\\\n",
    "&\\quad+2E_{x,D}\\bigg[\\big(h_D(x) - E_D(h_D(x)\\mid x)\\big)\\big(E_D(h_D(x)\\mid x)-t\\big)\\bigg]\\\\\n",
    "&\\quad + E_{x,D}\\bigg[\\big(E_D(h_D(x)\\mid x)-t\\big)^2\\bigg]\\\\\n",
    "&= E_x\\bigg[E_D\\big[\\big(h_D(x) - E_D(h_D(x)\\mid x)\\big)^2 \\\\\n",
    "&\\qquad\\quad +2E_D\\bigg[\\big(h_D(x) - E_D(h_D(x)\\mid x)\\big)\\big(E_D(h_D(x)\\mid x)-t\\big)\\mid x \\bigg] &(*)\\\\\n",
    "&\\qquad\\quad + \\big(E_D(h_D(x)\\mid x)-t\\big)^2\\mid x\\big]\\bigg]\\\\\n",
    "&= E_{x,D}\\bigg[\\big(h_D(x)-E_D[h_D(x)\\mid x]\\big)^2\\bigg] + E_{x}\\bigg[\\big(E_D[h_D(x)\\mid x] -t\\big)^2\\bigg]\\\\\n",
    "&= variance + bias\n",
    "\\end{align}$$"
   ]
  },
  {
   "cell_type": "markdown",
   "metadata": {},
   "source": [
    "$$\\begin{align}\n",
    "(*) \\quad &= (E_D(h_D(x)\\mid x)-t\\big)&\\text{indep. of }D\\\\\n",
    "&\\qquad \\times 2E_D\\bigg[\\mid x \\bigg] & (**)\\\\\n",
    "(**) &= E_{D,x}\\big(h_D(x) - E_{D_x}[h_D(x)]\\big) = 0\\\\\n",
    "(*) &= 0\n",
    "\\end{align}$$\n",
    "__Bias__ defines on average, how close is the classifier to true target\n",
    "\n",
    "__Variance__ defines how widely dispersed are the prediction as we generate new datasets"
   ]
  },
  {
   "cell_type": "markdown",
   "metadata": {},
   "source": [
    "### Bayes Optimality\n",
    "What if $t$ is not deterministic given $\\vec x$, i.e. $p(t\\mid \\vec x)$. \n",
    "\n",
    "Since there is a distribution over targets, we measure distance from $y_*(x) = E(t\\mid \\vec x)$  \n",
    "$$\\begin{align}\n",
    "E[(y-t)^2 \\mid \\vec x] &= E(y^2\\mid x) - 2E(yt\\mid x) + E(t^2\\mid x)\\\\\n",
    "&= y^2 - 2yE(t\\mid x) + E(t\\mid x)^2 + var(t\\mid x)\\\\\n",
    "&= y^2 - 2yy_*(x) + y_*(x)^2 + var(t\\mid x)\\\\\n",
    "&=(y - y_*(\\vec x))^2 + var[t\\mid \\vec x]\n",
    "\\end{align}$$  \n",
    "The first term show that s $y=y_*(\\vec x)$ is the minimized value  \n",
    "\n",
    "__Bayes error / irreducible error__ The second term is the inherent unpredicatability, or noise, of the target. \n",
    "\n",
    "If $Var[t|x] = 0$, the algorithm is __Bayes optimal__. "
   ]
  },
  {
   "cell_type": "markdown",
   "metadata": {},
   "source": [
    "We can then decompose the non-deterministic form\n",
    "\n",
    "$$\\begin{align}\n",
    "E_{x,D,t|x}\\bigg[(h_D(x) - t)^2\\bigg] &= E_D\\bigg[E_{x,t|x}\\big[(h_D(x)-y)^2 \\mid D\\big]\\bigg]\\\\\n",
    "&= \\quad E_{x,D}\\big[(h_D(x) - E_t[t|x])^2\\big] \\\\\n",
    "&\\quad\\quad + E_{x,t|x}\\big[(E_{t|x}[t|x] - t)^2\\big]\\\\\n",
    "&= \\quad E_{x,D}\\big[(h_D(x) - E_t[t|x])^2\\big]  + E_x\\big[var(t\\mid x)\\big]\n",
    "\\end{align}$$\n",
    "Hence we decompose out the __Bayes error__, where the first two terms are identical to the deterministic case, and will be decomposed into bias and variance"
   ]
  },
  {
   "cell_type": "markdown",
   "metadata": {},
   "source": [
    "## Bagging\n",
    "### Intuition\n",
    "Suppose we sample $m$ indep. training set $D_i$ from $p_d$, we could then learn a predictor $h_i := h_{D_i}$ based on each one, then take the average $h = \\sum^m h_i /m$ \n",
    "\n",
    "Bias unchanged\n",
    "$$E_{D_1,...,D_m \\sim p_d}h(x) = \\frac{1}{m} \\sum^m E_{D_i\\sim p_{d}}h_i(x) = E_{D\\sim p_d} h_D(x)$$\n",
    "\n",
    "Variance becomes $1/m$ of the original \n",
    "$$var_{D_1,...,D_m}(h(x)) = \\frac{1}{m^2}var_{D_i}(h_i(x)) = \\frac{1}{m}var_D(h_D(x))$$\n",
    "\n",
    "However, we don't such iid datasets from $p_d$\n",
    "\n",
    "So we have to take a single dataset $D$ with $n$ examples  \n",
    "Generate $m$ new datasets by sampling $n$ training examples from $D$, with replacement  \n",
    "Average the predictions of models trained on each of these"
   ]
  },
  {
   "cell_type": "markdown",
   "metadata": {},
   "source": [
    "#### Problem with independence\n",
    "Let correlation be $\\rho$, the variance with correlated datasets is \n",
    "$$var(h(x)) = \\frac{1}{m}(1-\\rho)\\sigma^2 + \\rho\\sigma^2$$\n",
    "\n",
    "Ironically, introduce additional variability reduces correlation between samples  \n",
    " - invest a diversified portfolio, not just one stock\n",
    " - help to use average over multiple algorithms, or multiple configurations"
   ]
  },
  {
   "cell_type": "markdown",
   "metadata": {},
   "source": [
    "### Random Forests\n",
    "\n",
    "#### General Idea\n",
    "When choose each node of the decision tree, choose a random set of $d$ features, and only consider splits on those features\n",
    "\n",
    "The main idea is to improve the variance reduction of bagging by reducing the correlation between the trees\n",
    "\n",
    "One of the example for black-box ML algorithm"
   ]
  }
 ],
 "metadata": {
  "hide_input": false,
  "kernelspec": {
   "display_name": "Python 3",
   "language": "python",
   "name": "python3"
  },
  "language_info": {
   "codemirror_mode": {
    "name": "ipython",
    "version": 3
   },
   "file_extension": ".py",
   "mimetype": "text/x-python",
   "name": "python",
   "nbconvert_exporter": "python",
   "pygments_lexer": "ipython3",
   "version": "3.7.3"
  }
 },
 "nbformat": 4,
 "nbformat_minor": 2
}
