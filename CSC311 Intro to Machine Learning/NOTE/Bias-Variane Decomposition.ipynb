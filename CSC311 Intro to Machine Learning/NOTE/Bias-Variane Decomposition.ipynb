{
 "cells": [
  {
   "cell_type": "markdown",
   "metadata": {},
   "source": [
    "### Loss function\n",
    "A loss function $L(y,t)$ defines how bad it is if, for some example $x$, the algorithm predicts $y$, but the target is actually $t$"
   ]
  },
  {
   "cell_type": "markdown",
   "metadata": {},
   "source": [
    "### Bias-Variance Decomposition\n",
    "Suppose the training set $\\mathcal D$ consists of $N$ pairs sampled IID from a sample generating distribution, i.e. $(x^{(i)}, t^{(i)})\\sim p_{sample}$  \n",
    "Let $p_{\\mathcal D}$ denote the induced distribution over training set $i.e. \\mathcal D\\sim p_{\\mathcal D}$ \n",
    "\n",
    "Pick a fixed query point $\\vec x$, then consider an experiment where we sample lots of (say $m$ times) training datasets IID from $p_{\\mathcal D}$\n",
    "\n",
    "Then, we can produce $h_{k,\\mathcal D}, k\\in\\{1,2,...,m\\}$ and we compute each classifier's prediction $h_{k,\\mathcal D}(\\vec x) = y$ at the chosen query point $\\vec x$\n",
    "\n",
    "Therefore, $y$ is a random variable, i.e. $D\\Rightarrow h_{\\mathcal D}\\Rightarrow h_{\\mathcal D}(\\vec x)=y, \\mathcal D$ is randomly chosen."
   ]
  },
  {
   "cell_type": "markdown",
   "metadata": {},
   "source": [
    "#### Basic setup\n",
    "Assume $t$ is deterministic given $x$  \n",
    "There is a distribution over the loss at $\\vec x$, with $E_{\\mathcal D\\sim p_{\\mathcal D}}(L(h_{\\mathcal D}(x), t))$  \n",
    "For each query point, the expected loss is different. We are interested in quantifying how well our classifier does over $p_{sample}$ average over training set $E_{\\vec x\\sim p_{sample}, \\mathcal D\\sim p_{\\mathcal D}}(L(h_{\\mathcal D}(\\vec x), t))$  \n",
    "Then, we can decompose the expected loss "
   ]
  }
 ],
 "metadata": {
  "hide_input": false,
  "kernelspec": {
   "display_name": "Python 3",
   "language": "python",
   "name": "python3"
  },
  "language_info": {
   "codemirror_mode": {
    "name": "ipython",
    "version": 3
   },
   "file_extension": ".py",
   "mimetype": "text/x-python",
   "name": "python",
   "nbconvert_exporter": "python",
   "pygments_lexer": "ipython3",
   "version": "3.7.4"
  }
 },
 "nbformat": 4,
 "nbformat_minor": 2
}
