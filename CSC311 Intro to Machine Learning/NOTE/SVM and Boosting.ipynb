{
 "cells": [
  {
   "cell_type": "code",
   "execution_count": 2,
   "metadata": {
    "ExecuteTime": {
     "end_time": "2019-10-17T21:46:50.741894Z",
     "start_time": "2019-10-17T21:46:49.913164Z"
    }
   },
   "outputs": [],
   "source": [
    "import numpy as np\n",
    "import matplotlib.pyplot as plt"
   ]
  },
  {
   "cell_type": "markdown",
   "metadata": {},
   "source": [
    "### General Setting\n",
    "If we use $t\\in\\{-1, 1\\}$ instead of $\\{0,1\\}$, i.e. the model is \n",
    "$$z=\\vec w^T\\vec x + b, y = sign(z)$$\n",
    "\n",
    "### Hinge Loss\n",
    "$$\\mathcal L_H(z,t) =\\max\\{0,1-zt\\}$$"
   ]
  },
  {
   "cell_type": "code",
   "execution_count": 3,
   "metadata": {
    "ExecuteTime": {
     "end_time": "2019-10-17T21:46:51.522729Z",
     "start_time": "2019-10-17T21:46:51.292309Z"
    }
   },
   "outputs": [
    {
     "data": {
      "image/png": "[encoded data removed]",
      "text/plain": [
       "<Figure size 576x288 with 1 Axes>"
      ]
     },
     "metadata": {
      "needs_background": "light"
     },
     "output_type": "display_data"
    }
   ],
   "source": [
    "z = np.arange(-3, 3, 0.01)\n",
    "plt.figure(figsize=(8, 4))\n",
    "plt.plot(z, np.maximum(0, 1 - z), label=\"y=1\")\n",
    "plt.plot(z, np.maximum(0, 1 + z), label=\"y=-1\")\n",
    "plt.title(\"Hinge Loss\")\n",
    "plt.xlabel(\"z\")\n",
    "plt.ylabel(\"Loss\")\n",
    "plt.legend();"
   ]
  },
  {
   "cell_type": "markdown",
   "metadata": {},
   "source": [
    "If we use a linear classifier and write $z^{(i)}(w,b)=\\vec w^T\\vec x + b$, then we want to minimize the training loss \n",
    "$$\\min_{\\vec w, b} \\sum_{i=1}^NL_H(z^{(i)}, t^{(i)}) = \\min_{\\vec w, b} \\sum_{i=1}^N \\max\\{0, 1 - t^(i)z^{(i)}(\\vec w, b)\\}$$\n",
    "This formulation is called __support vector machines__.\n",
    "\n",
    "Generally used with $L_2$ regularization\n",
    "$$\\min_{\\vec w, b} \\sum_{i=1}^N \\max\\{0, 1 - t^(i)z^{(i)}(\\vec w, b)\\} + \\frac{\\lambda\\|\\vec w\\|_2^2}{2}$$"
   ]
  },
  {
   "cell_type": "markdown",
   "metadata": {},
   "source": [
    "### Optimal Separating Hyperplane\n",
    "\n",
    "Suppose we want to find a linear classifier that separates a set of data points. In $\\mathbb R^2$, this will looks like a line $y=wx+b$; in $\\mathbb R^{D>2}$, that will be a hyperplane. \n",
    "\n",
    "Note that there are multiple separating hyperplanes, i.e. different $w,b$'s\n",
    "\n",
    "A hyperplane that separates two classes and maximizes the distance to the closest point from either class, i.e. maximize the margin of the classifier. "
   ]
  },
  {
   "cell_type": "markdown",
   "metadata": {},
   "source": [
    "### Boosting\n",
    "Train classifiers sequentially, each time focusing on training data points that were previously misclassified.\n",
    "\n",
    "#### Key Idea\n",
    "learn a classifier using different costs (by applying different weights). Intuitively, \"tries harder\" on examples with higher cost. \n",
    "\n",
    "Let misclassification rate be and change cost function\n",
    "$$\\frac{1}{N}\\sum_{n=1}^N \\mathbb I[h(x^{(n)})\\neq t^{(n)}] \\Rightarrow \\frac{1}{N}\\sum_{n=1}^N w^{(n)}\\mathbb I[h(x^{(n)})\\neq t^{(n)}]$$\n",
    "\n",
    "$w^{(n)}$ is normalized so that the overall weights does not change the overall loss. \n",
    "$$\\forall n. w^{(n)} > 0, \\sum_{n=1}^N w^(n)=1$$"
   ]
  },
  {
   "cell_type": "markdown",
   "metadata": {},
   "source": [
    "#### Weak Learner / Classifier\n",
    "Weak learner is a learning algorithm that outputs a hypothesis that performs slightly better than chance i.e. error rate $>0.5$\n",
    "\n",
    "We want such classifiers for they are __computationally efficient__. \n",
    "\n",
    "For example, __Decision Stump__: A decision tree with a single split. \n",
    "\n",
    "One single weak classifier is not capable of making the training error small. so that \n",
    "$$err = \\sum_{n=1}^N w^{(n)}\\mathbb I[h(x^{(n)})\\neq t^{(n)}] \\leq \\frac{1}{2} -\\gamma, \\gamma > 0 \\text{ is small}$$\n",
    "Then, we want to combine many weak classifiers to get a better ensemble of classifiers. "
   ]
  },
  {
   "cell_type": "markdown",
   "metadata": {},
   "source": [
    "### Adaptive Boosting (AdaBoost)\n",
    "\n",
    "#### Key steps\n",
    "- At each iteration, re-weight the training samples by assigning larger weights to samples that were classified incorrectly. \n",
    "- We train a new weak classifier based on the re-weighted samples\n",
    "- We add this weak classifier to the ensemble of weak classifiers. This ensemble is the new classifier\n",
    "- Repeat the process\n",
    "\n",
    "#### Boosting vs. Bootstrap\n",
    "__Boosting__ reduces bias by making each classifier focus on previous mistakes.  \n",
    "__Bootstrap__ reduces variance, while keeping bias the same "
   ]
  },
  {
   "cell_type": "markdown",
   "metadata": {},
   "source": [
    "#### Algorithm  \n",
    "data $D_N = \\{x^{(n)}, t^{(n)}\\}_{n=1}^N, t^{(n)}\\in\\{-1,1\\}$  \n",
    "A classifier or _hypothesis_ $h: \\vec x \\rightarrow \\{-1, 1\\}$  \n",
    "0 - 1 loss: $\\mathbb I(h(x^{(n)}\\neq t^{(n)})) = \\frac{(1-h(x^{(n)})t^{(n)})}{2}$  \n",
    "WeakLearn$:D_N\\times \\vec w\\rightarrow h$ be a function that returns a classifier\n",
    "\n",
    "\n",
    "AdaBoost($D_N$, WeakLearn):  \n",
    " - init $w^{(n)} = N^{-1}, \\forall n$  \n",
    " - For $t = 1, ..., T$  \n",
    "   - $h_t\\leftarrow \\text{WeakLearn}(D_N, \\vec w)$\n",
    "   - compute weighted error $err_t = \\frac{\\sum_1^N w^{(n)\\mathbb I(h_t(x^{(n)})\\neq t^{(n)})}}{\\sum_{n=1}^Nw^{(n)}}$\n",
    "   - compute classifier coefficient $\\alpha_t = \\frac{1}{2}\\log(\\frac{1-err_t}{err_t}), a_t \\in (0, \\infty)$\n",
    "   - update data weights $w^{(n)}\\leftarrow w^{(n)}\\exp(-\\alpha_tt^{(n)}h_t(\\vec x^{(n)}))$\n",
    "   \n",
    "- return $H(x) = sign(\\sum_{t=1}^T \\alpha_t h_t(\\vec x))$"
   ]
  },
  {
   "cell_type": "markdown",
   "metadata": {},
   "source": [
    "#### Intuition\n",
    "Weak classifiers which get lower weighted error get more weight in the final classifier.  \n",
    "Consider the shape of $\\alpha_t$\n",
    " - If $err\\approx 0, a_t$ high so misclassified examples get more attention\n",
    " - If $err\\approx 0.5, a_t$ low so misclassified examples are not emphasized "
   ]
  },
  {
   "cell_type": "code",
   "execution_count": 7,
   "metadata": {
    "ExecuteTime": {
     "end_time": "2019-10-17T21:47:55.294539Z",
     "start_time": "2019-10-17T21:47:55.160865Z"
    }
   },
   "outputs": [
    {
     "data": {
      "image/png": "[encoded data removed]",
      "text/plain": [
       "<Figure size 432x288 with 1 Axes>"
      ]
     },
     "metadata": {
      "needs_background": "light"
     },
     "output_type": "display_data"
    }
   ],
   "source": [
    "err = np.arange(0.001, 0.999, 0.001)\n",
    "a = np.log((1 - err) / err) / 2\n",
    "plt.plot(err, a)\n",
    "plt.xlabel(\"err, weighted error\")\n",
    "plt.ylabel(\"classifier coefficient\");"
   ]
  },
  {
   "cell_type": "markdown",
   "metadata": {},
   "source": [
    "### Geometric converge\n",
    "Assume that at each iteration of AdaBoost the WeakLearn returns a hypothesis with error $err\\leq \\frac{1}{2} - \\gamma$ for all $t = 1, ..., T$ with $\\gamma > 0$. The training error of the output hypothesis \n",
    "$H(\\vec x) = sign(\\sum^T a_th_x(\\vec x))$ is at most \n",
    "$$L_N(H) = \\frac{1}{N} \\sum^N \\mathbb I\\{H(\\vec x^{(i)}\\neq t^{(i)})\\}\\leq \\exp(-2\\gamma^2T)$$\n",
    "__under the assumption__ that weak learner is $\\gamma$-better than a random predictor. "
   ]
  },
  {
   "cell_type": "markdown",
   "metadata": {},
   "source": [
    "### Additive Model\n",
    "With a more complex $H$ by adding more weak classifiers, we expect more complex classifiers overfit. However, this is not often true, sometimes the test error decreases even after the training error is zero.\n",
    "\n",
    "#### General Setting\n",
    "Consider a hypothesis class $\\mathcal H$ with each $h_i\\in\\mathcal H:\\vec x\\rightarrow \\{-1,1\\}$ being \"weak learners\", or __bases__. \n",
    "\n",
    "Define an __additive model__ with $m$ terms to be \n",
    "$$H_m(x) = \\sum_{i=1}^m \\alpha_ih_i(\\vec x)$$\n",
    "where $(\\alpha_1, ..., \\alpha_m) \\in \\mathbb R^m$ and generally $a_i\\in\\mathbb R^+, \\sum a_i = 1$. So that $H_m$ is a linear combination of bases classifiers, like in boosting. "
   ]
  },
  {
   "cell_type": "markdown",
   "metadata": {},
   "source": [
    "#### Stage-wise Training\n",
    "Consider a greedy approach to fitting additive models, known as __stagewise training__\n",
    "\n",
    "- init $H_0(x)= 0$\n",
    "- For $m=1,..., T$\n",
    "  - compute the $m$-th hypothesis $H_m = H_{m-1} + a_mh_m$ so that the loss is minimized, i.e.\n",
    "  $$h_m,\\alpha_m \\rightarrow arg\\min_{h\\in\\mathcal H, \\alpha\\in\\mathbb R}\\sum_{i=1}^N \\mathcal L(H_{m-1}(x^{(i)}) + \\alpha h(x^{(i)}, t^{(i)}))$$\n",
    "  - $H_m = H_{m-1} + \\alpha_mh_m$"
   ]
  },
  {
   "cell_type": "markdown",
   "metadata": {},
   "source": [
    "Then consider the exponential loss, as a smooth simulation to Hinge loss. "
   ]
  },
  {
   "cell_type": "code",
   "execution_count": 18,
   "metadata": {
    "ExecuteTime": {
     "end_time": "2019-10-18T02:38:20.238233Z",
     "start_time": "2019-10-18T02:38:20.074636Z"
    }
   },
   "outputs": [
    {
     "data": {
      "image/png": "[encoded data removed]",
      "text/plain": [
       "<Figure size 576x288 with 1 Axes>"
      ]
     },
     "metadata": {
      "needs_background": "light"
     },
     "output_type": "display_data"
    }
   ],
   "source": [
    "z = np.arange(-2, 3, 0.01)\n",
    "plt.figure(figsize=(8, 4))\n",
    "plt.plot(z, np.maximum(0, 1-z), label=\"Hinge\")\n",
    "plt.plot(z, np.exp(-z), label=\"exponential\")\n",
    "plt.title(\"Hinge Loss vs. Exponential Loss\")\n",
    "plt.xlabel(\"z\")\n",
    "plt.ylabel(\"Loss\")\n",
    "plt.ylim(0, 3)\n",
    "plt.legend();"
   ]
  },
  {
   "cell_type": "markdown",
   "metadata": {},
   "source": [
    "$$\\begin{align*}\n",
    "(h_m,a_m)\\leftarrow arg\\min &\\sum_{i=1}^N \\exp(-\\bigg[H_{m-1}(x^{(i)} + ah(x^{(i)}))\\bigg]t^{(i)})\\\\\n",
    "= &\\sum_{i=1}^N \\exp(-H_{m-1}(x^{(i)}t^{(i)}))\\exp(-ah(x^{(i)}t^{(i)}))\\\\\n",
    "= &\\sum_{i=1}^N w_i^{(m)}\\exp(-ah(x^{(i)}t^{(i)}))\n",
    "\\end{align*}$$\n",
    "where $w_i^{(m)}:= \\exp(-H_{m-1}(x^{(i)})t^{(i)})$\n",
    "\n",
    "Then, notice that $h(x)\\in \\{-1, 1\\}$ is the classifier so that\n",
    "\n",
    "$$h(x^{(i)}) = t^{(i)}, \\exp(-ah(x^{(i)})t^{(i)}) = \\exp(-a)$$\n",
    "$$h(x^{(i)}) \\neq t^{(i)}, \\exp(-ah(x^{(i)})t^{(i)}) = \\exp(a)$$\n",
    "Then, our additive model is equivalent to \n",
    "\\begin{align*}\n",
    "\\sum_{i=1}^N w_i^{(m)} \\exp(-ah(x^{(i)})t^{(i)}) &= e^{-a} \\sum^N w_i^{(m)}\\mathbb I\\{h(x^{(i)})=t^{(i)}\\} \\\\\n",
    "&+e^a \\sum_{i=1}^N w_i^{(m)}\\mathbb I(h(x^{(i)})\\neq t^{(i)})\\\\\n",
    "&= \\text{correct predictions + incorrect predictions}\n",
    "\\end{align*}"
   ]
  },
  {
   "cell_type": "markdown",
   "metadata": {},
   "source": [
    "Thne, define $I_{t}=\\mathbb I(h(x^{(i)}) = t^{(i)}), I_{f}=\\mathbb I(h(x^{(i)}) \\neq t^{(i)})$, and consider of summation above, we can further group them by \n",
    "\\begin{align*}\n",
    "&e^{-a}\\sum^N w_i^{(m)} I_t + e^a\\sum^N w_i^{(m)}I_f - e^{-a}\\sum^N w_i^{(m)}I_f + e^{-a}\\sum^N w_i^{(m)}I_f\\\\\n",
    "&= (e^a - e^{-a})\\sum_{i=1}^N w_i^{(m)}I_f + e^{-a}\\sum_{i=1}^N w_i^{(m)}(I_f+I_t)\\\\\n",
    "&= (e^a - e^{-a})\\sum_{i=1}^N w_i^{(m)}I_f + e^{-a}\\sum_{i=1}^N w_i^{(m)}\n",
    "\\end{align*}"
   ]
  },
  {
   "cell_type": "markdown",
   "metadata": {},
   "source": [
    "To optimize $h$, is equivalent to minimize \n",
    "$$ (e^a - e^{-a})\\sum_{i=1}^N w_i^{(m)}\\mathbb I(h(x^{(i)})\\neq t^{(i)})$$\n",
    "\n",
    "To optimize $\\alpha$, define weighted classification error: \n",
    "$$err_m = \\frac{\\sum^N w_i^{(m)}\\mathbb I(h_m(x^{(i)})\\neq t^{(i)})}{\\sum w_i^{(m)}}$$\n",
    "and with of minimization on $h$ \n",
    "\\begin{align*}\n",
    "&\\min_a\\min_{h\\in\\mathcal H} \\sum_{i=1}^N w_i^{(m)}\\exp(-ah(x^{(i)})t^{(i)})\\\\\\\n",
    "=&\\min_a\\bigg\\{(e^a-e^{-a})\\sum^N w_i^{(m)}I_f + e^{-a}\\sum^N w_i^{(m)}\\bigg\\}\\\\\n",
    "\\mathcal L=&\\min_a\\bigg\\{(e^a-e^{-a})err_m\\sum^N w_i^{(m)} + e^{-a}\\sum^N w_i^{(m)}\\bigg\\}\n",
    "\\end{align*}\n",
    "Then consider the derivative, where $W = \\sum^N w_i^{(m)}$, \n",
    "$$\\frac{d\\mathcal L}{da} = (e^a + e^{-a})err_m W - e^{-a} W$$\n",
    "Set to 0\n",
    "$$\\begin{align*}\n",
    "(e^a + e^{-a})err_m &= e^{-a}\\\\\n",
    "(e^{2a} + 1)err_m &= 1\\\\\n",
    "e^{2a} &= \\frac{1-err_m}{err_m}\\\\\n",
    "a &= \\frac{1}{2}\\log(\\frac{1-err_m}{err_m})\n",
    "\\end{align*}$$"
   ]
  },
  {
   "cell_type": "markdown",
   "metadata": {},
   "source": [
    "And for each iteration, \n",
    "$$\\begin{align*}\n",
    "w_i^{(m+1)} &= \\exp(-H_m(x^{(i)})t^{(i)})\\\\\n",
    "&= \\exp(-\\big[H_{m-1}(x^{(i)} + a_m h_m(x^{(i)}))\\big]t^{(i)})\\\\\n",
    "&= \\exp(-H_{m-1}(x^{(i)})t^{(i)})\\exp(-a_mh_m(x^{(i)}t^{(i)}))\\\\\n",
    "&= w_i^{(m)}\\exp(-a_mh_m(x^{(i)}t^{(i)}))\n",
    "\\end{align*}$$"
   ]
  }
 ],
 "metadata": {
  "hide_input": false,
  "kernelspec": {
   "display_name": "Python 3",
   "language": "python",
   "name": "python3"
  },
  "language_info": {
   "codemirror_mode": {
    "name": "ipython",
    "version": 3
   },
   "file_extension": ".py",
   "mimetype": "text/x-python",
   "name": "python",
   "nbconvert_exporter": "python",
   "pygments_lexer": "ipython3",
   "version": "3.7.4"
  }
 },
 "nbformat": 4,
 "nbformat_minor": 2
}
