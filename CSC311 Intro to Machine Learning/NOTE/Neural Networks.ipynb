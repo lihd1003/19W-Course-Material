{
 "cells": [
  {
   "cell_type": "markdown",
   "metadata": {},
   "source": [
    "### Inspiration\n",
    "\n",
    "__Unit__ simulates a model neuron by \n",
    "$$y = \\phi(\\vec w^T \\vec x + b)$$\n",
    "$$\\text{output} = \\text{Activation function}(\\text{weights}^T\\cdot \\text{inputs}) + \\text{bias}$$\n",
    "\n",
    "The, by throwing together lots of processing unit, we can form a neural net. "
   ]
  },
  {
   "cell_type": "markdown",
   "metadata": {},
   "source": [
    "#### Feed-forward neural network \n",
    "A directed acyclic graph of connected neurons, starts from input layer, and ends with output layer.  \n",
    "Each layer is consisted of many units.  \n",
    "\n",
    "__Recurrent neural networks__ allows cycles"
   ]
  }
 ],
 "metadata": {
  "hide_input": false,
  "kernelspec": {
   "display_name": "Python 3",
   "language": "python",
   "name": "python3"
  },
  "language_info": {
   "codemirror_mode": {
    "name": "ipython",
    "version": 3
   },
   "file_extension": ".py",
   "mimetype": "text/x-python",
   "name": "python",
   "nbconvert_exporter": "python",
   "pygments_lexer": "ipython3",
   "version": "3.7.4"
  }
 },
 "nbformat": 4,
 "nbformat_minor": 2
}
