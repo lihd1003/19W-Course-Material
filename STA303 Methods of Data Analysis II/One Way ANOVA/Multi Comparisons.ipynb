{
 "cells": [
  {
   "cell_type": "markdown",
   "metadata": {},
   "source": [
    "### Multiple Comparisons\n",
    "- post hoc procedure: further comparisons after significant result from overall One-way ANOVA\n",
    "- If the result for One-way ANOVA is good enough, i.e.some pairs are evidently true, we may omit some pairs to remove the number of tests\n",
    "- Max of $G \\choose 2$ pairwise comparisons\n",
    "- Major issue: increased chance of making at least one Type I error when carrying out many tests, $E(\\#errors)=\\#tests \\times \\alpha$\n",
    "- Two common solutions: based on controlling family Type I error rate, choose \n",
    " - Bonferroni\n",
    " - Tukey's"
   ]
  },
  {
   "cell_type": "markdown",
   "metadata": {},
   "source": [
    "_**Example**_\n",
    "$P(\\text{committing at least 1 Type I error})$ ?\n",
    "- For n independent tests: $P = 1-(1-\\alpha)^n$"
   ]
  },
  {
   "cell_type": "markdown",
   "metadata": {},
   "source": [
    "#### Bonferroni's Method\n",
    "- Based on Bonferroni's inequality $P(A\\cup B) \\leq P(A)+P(B)$, hence $P(\\cup A_i)\\leq \\sum P(A_i), A_i:=$ the event that $i$th test results in a Type I error. \n",
    "- Method: conduct each of $k=G \\choose 2$ pairwise tests at level $\\alpha / k$\n",
    "- CI: $|\\bar{y}_i - \\bar{y}_j|\\pm t_{\\alpha/2k} S_p \\sqrt{n_i^{-1} + n_j^{-1}}$ \n",
    "- Conservative: overall Type I error rate is usually much less than $\\alpha$ if tests are not mutually independent. \n",
    "- Type II error inflation."
   ]
  },
  {
   "cell_type": "markdown",
   "metadata": {},
   "source": [
    "#### Tukey's Approach\n",
    "- Usually less conservative than Bonferroni, particularly if group sample size are similar. Controls the overall Type I error rate of $\\alpha$, simultaneous CI converage rate is $1-\\alpha$. "
   ]
  },
  {
   "cell_type": "markdown",
   "metadata": {},
   "source": [
    "_**Studentized Range distribution**_ <br>\n",
    "- $\\mathcal{X}= \\{X_1,...,X_n\\}, X_i\\in N(\\mu,\\sigma^2)$. Determine the distribution of the max and min of $\\mathcal{X}$. \n",
    "- $X_{(n)}:=\\max{\\mathcal{X}}, X_{(1)};=\\min{\\mathcal{X}}$, Range $:= X_{(n)}-X{(1)}$\n",
    "- Based on $n$ observations from $X$, the Studentized range statistic is $Q_{stat} = Range / s, s=$ sample std. \n",
    "- Based on $G$ group means, with $n$ observations per group: $$\\bar{Q}_g = \\frac{\\sqrt{n}(\\bar{y}_{(g)} - \\bar{y}_{(1)})}{s_v}$$\n",
    "$s_v$ estimator of the pooled std. $v=N-G=G(n-1)$ d.f. "
   ]
  },
  {
   "cell_type": "markdown",
   "metadata": {},
   "source": [
    "- If there are $G$ groups, then there is a max of $k$ pairwise differences\n",
    "- Controlling overall simultaneous Type I error rate v.s. Individual Type I error rate\n",
    "- Find a pairwise significant difference\n",
    " - Compare method-wise significant difference, $c(\\alpha)$ with $|\\bar{y}_i - \\bar{y}_j|$ OR \n",
    " - determine whether CI contains 0 OR \n",
    " - Compare $p$ with $\\alpha$\n",
    "- $s=\\sqrt{MSE}$ with d.f. $=v=d.f.Error$"
   ]
  },
  {
   "cell_type": "markdown",
   "metadata": {},
   "source": [
    "_**Tukey's Honestly Significant Difference (HSD)**_\n",
    "- let $q(G,v,\\alpha)/t^*:=$ the critical value from the Studentized Range distribution. \n",
    "- Family rate $=\\alpha$\n",
    "- Tukey's HSD $=q(G,v,\\alpha) \\frac{s}{\\sqrt{n}}$"
   ]
  },
  {
   "cell_type": "markdown",
   "metadata": {},
   "source": [
    "#### Case Study\n",
    "Bonferroni\n",
    " - $H_0:\\mu_i - \\mu_j = 0, H_a: \\mu_i\\neq \\mu_j$  \n",
    " - $t = \\frac{\\bar{x}_i - \\bar{x}_j}{S_p \\sqrt{n_i^{-1} + n_j^{-1}}}$\n",
    " - $p = 2P(T_{\\alpha/2k}> |t|)$"
   ]
  },
  {
   "cell_type": "code",
   "execution_count": 1,
   "metadata": {},
   "outputs": [],
   "source": [
    "# import data\n",
    "library(Sleuth2)\n",
    "jury = case0502\n",
    "percent = case0502$Percent\n",
    "judge = case0502$Judge"
   ]
  },
  {
   "cell_type": "code",
   "execution_count": 2,
   "metadata": {},
   "outputs": [
    {
     "data": {
      "text/plain": [
       "\n",
       "\tPairwise comparisons using t tests with pooled SD \n",
       "\n",
       "data:  percent and judge \n",
       "\n",
       "  Spock's A       B       C       D       E      \n",
       "A 0.00022 -       -       -       -       -      \n",
       "B 0.00013 1.00000 -       -       -       -      \n",
       "C 0.00150 1.00000 1.00000 -       -       -      \n",
       "D 0.57777 1.00000 1.00000 1.00000 -       -      \n",
       "E 0.03408 1.00000 1.00000 1.00000 1.00000 -      \n",
       "F 0.01254 1.00000 1.00000 1.00000 1.00000 1.00000\n",
       "\n",
       "P value adjustment method: bonferroni "
      ]
     },
     "metadata": {},
     "output_type": "display_data"
    }
   ],
   "source": [
    "judge = relevel(judge, ref=\"Spock's\")\n",
    "pairwise.t.test(percent, judge, p.adj='bonf')"
   ]
  },
  {
   "cell_type": "code",
   "execution_count": 3,
   "metadata": {},
   "outputs": [
    {
     "data": {
      "text/html": [
       "<table>\n",
       "<thead><tr><th></th><th scope=col>0.357 %</th><th scope=col>99.643 %</th></tr></thead>\n",
       "<tbody>\n",
       "\t<tr><th scope=row>(Intercept)</th><td> 8.078085</td><td>21.16636 </td></tr>\n",
       "\t<tr><th scope=row>judgeA</th><td> 8.547341</td><td>30.44821 </td></tr>\n",
       "\t<tr><th scope=row>judgeB</th><td> 8.647254</td><td>29.34163 </td></tr>\n",
       "\t<tr><th scope=row>judgeC</th><td> 5.222969</td><td>23.73259 </td></tr>\n",
       "\t<tr><th scope=row>judgeD</th><td>-2.969585</td><td>27.72514 </td></tr>\n",
       "\t<tr><th scope=row>judgeE</th><td> 1.997255</td><td>22.69163 </td></tr>\n",
       "\t<tr><th scope=row>judgeF</th><td> 2.922970</td><td>21.43259 </td></tr>\n",
       "</tbody>\n",
       "</table>\n"
      ],
      "text/latex": [
       "\\begin{tabular}{r|ll}\n",
       "  & 0.357 \\% & 99.643 \\%\\\\\n",
       "\\hline\n",
       "\t(Intercept) &  8.078085 & 21.16636 \\\\\n",
       "\tjudgeA &  8.547341 & 30.44821 \\\\\n",
       "\tjudgeB &  8.647254 & 29.34163 \\\\\n",
       "\tjudgeC &  5.222969 & 23.73259 \\\\\n",
       "\tjudgeD & -2.969585 & 27.72514 \\\\\n",
       "\tjudgeE &  1.997255 & 22.69163 \\\\\n",
       "\tjudgeF &  2.922970 & 21.43259 \\\\\n",
       "\\end{tabular}\n"
      ],
      "text/markdown": [
       "\n",
       "| <!--/--> | 0.357 % | 99.643 % |\n",
       "|---|---|---|\n",
       "| (Intercept) |  8.078085 | 21.16636  |\n",
       "| judgeA |  8.547341 | 30.44821  |\n",
       "| judgeB |  8.647254 | 29.34163  |\n",
       "| judgeC |  5.222969 | 23.73259  |\n",
       "| judgeD | -2.969585 | 27.72514  |\n",
       "| judgeE |  1.997255 | 22.69163  |\n",
       "| judgeF |  2.922970 | 21.43259  |\n",
       "\n"
      ],
      "text/plain": [
       "            0.357 %   99.643 %\n",
       "(Intercept)  8.078085 21.16636\n",
       "judgeA       8.547341 30.44821\n",
       "judgeB       8.647254 29.34163\n",
       "judgeC       5.222969 23.73259\n",
       "judgeD      -2.969585 27.72514\n",
       "judgeE       1.997255 22.69163\n",
       "judgeF       2.922970 21.43259"
      ]
     },
     "metadata": {},
     "output_type": "display_data"
    }
   ],
   "source": [
    "# CI\n",
    "lmod=lm(percent~judge)\n",
    "confint(lmod, level = 1- 0.05/nlevels(judge))"
   ]
  },
  {
   "cell_type": "code",
   "execution_count": 4,
   "metadata": {},
   "outputs": [
    {
     "data": {
      "text/plain": [
       "  Tukey multiple comparisons of means\n",
       "    95% family-wise confidence level\n",
       "\n",
       "Fit: aov(formula = percent ~ judge)\n",
       "\n",
       "$judge\n",
       "                 diff        lwr       upr     p adj\n",
       "A-Spock's 19.49777727   7.514685 31.480870 0.0001992\n",
       "B-Spock's 18.99444405   7.671486 30.317402 0.0001224\n",
       "C-Spock's 14.47777732   4.350216 24.605339 0.0012936\n",
       "D-Spock's 12.37777758  -4.416883 29.172438 0.2744263\n",
       "E-Spock's 12.34444443   1.021486 23.667402 0.0248789\n",
       "F-Spock's 12.17777766   2.050216 22.305339 0.0098340\n",
       "B-A       -0.50333322 -13.512422 12.505755 0.9999997\n",
       "C-A       -5.01999995 -17.003092  6.963092 0.8470098\n",
       "D-A       -7.11999969 -25.094638 10.854639 0.8777485\n",
       "E-A       -7.15333284 -20.162421  5.855755 0.6146239\n",
       "F-A       -7.31999961 -19.303092  4.663093 0.4936380\n",
       "C-B       -4.51666673 -15.839625  6.806291 0.8742030\n",
       "D-B       -6.61666648 -24.158118 10.924785 0.9003280\n",
       "E-B       -6.64999962 -19.053679  5.753679 0.6418003\n",
       "F-B       -6.81666639 -18.139624  4.506292 0.5109582\n",
       "D-C       -2.09999975 -18.894661 14.694661 0.9996956\n",
       "E-C       -2.13333289 -13.456291  9.189625 0.9968973\n",
       "F-C       -2.29999966 -12.427561  7.827562 0.9914731\n",
       "E-D       -0.03333314 -17.574784 17.508118 1.0000000\n",
       "F-D       -0.19999992 -16.994661 16.594661 1.0000000\n",
       "F-E       -0.16666677 -11.489625 11.156291 1.0000000\n"
      ]
     },
     "metadata": {},
     "output_type": "display_data"
    }
   ],
   "source": [
    "amod = aov(percent~judge)\n",
    "hsd = TukeyHSD(amod, 'judge')\n",
    "hsd"
   ]
  },
  {
   "cell_type": "code",
   "execution_count": 5,
   "metadata": {},
   "outputs": [
    {
     "data": {
      "image/png": "[encoded data removed]",
      "text/plain": [
       "Plot with title \"95% family-wise confidence level\n",
       "\""
      ]
     },
     "metadata": {},
     "output_type": "display_data"
    }
   ],
   "source": [
    "plot(hsd)"
   ]
  }
 ],
 "metadata": {
  "hide_input": false,
  "kernelspec": {
   "display_name": "R",
   "language": "R",
   "name": "ir"
  },
  "language_info": {
   "codemirror_mode": "r",
   "file_extension": ".r",
   "mimetype": "text/x-r-source",
   "name": "R",
   "pygments_lexer": "r",
   "version": "3.5.2"
  }
 },
 "nbformat": 4,
 "nbformat_minor": 2
}
