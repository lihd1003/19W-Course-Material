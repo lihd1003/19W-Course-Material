{
 "cells": [
  {
   "cell_type": "markdown",
   "metadata": {},
   "source": [
    "## Case Study: Framingham Heart Study\n",
    "\n",
    "Data considered:\n",
    "- n = 1329 men\n",
    "- X = Cholesterol measurement in 1948 (mg/dl)\n",
    "- Y = after 10 years, did they developed CVD (present/absernt)"
   ]
  },
  {
   "cell_type": "markdown",
   "metadata": {},
   "source": [
    "#### Binomial Sampling\n",
    "Let $\\pi_H=p(present\\mid high),\\pi_L = P(present\\mid low)$.\n",
    "\n",
    "Hypothese: $H_0: \\pi_H = \\pi_L, H_a: \\pi_H \\neq \\pi_L$\n",
    "\n",
    "Assumptions: \n",
    " - depending on level of cholesterol, each person is a Bernoulli trial with chance of developing CVD as $n_H = 284, n_L = 1043$. \n",
    " - Then for fixed $n_H, n_L$, the count of the number of people who develop CVD $y_H\\sim Binomial(n_H=286,\\pi_H)$ $y_L\\sim Binomial(n_L=1043,\\pi_L)$\n",
    " - Then estimate of $\\pi_H-\\pi_L$ is $\\hat\\pi_H-\\hat\\pi_L$ where $\\hat\\pi_H = y_H/n_H, \\hat\\pi_L = y_L/n_L$ are the sample proportions.\n",
    " - $var(\\hat\\pi_H-\\hat\\pi_L) = var(\\hat\\pi_H) + var(\\hat\\pi_L)\\\\=n_H\\pi_H(1-\\pi_H)/n^2_H + n_L\\pi_L(1-\\pi_L)/n^2_L\\\\= \\pi_H(1-\\pi_H)/n_H+\\pi_L(1-\\pi_L)/n_L$\n",
    " - $se(\\hat\\pi_H-\\hat\\pi_L) = \\sqrt{\\hat\\pi_c(1-\\hat\\pi_c)(n_H^{-1}+n_L^{-1})}$ where $\\hat\\pi_c=\\frac{y_L+y_H}{n+L + n_H}$ is the combined sample proportion\n",
    " - By CLT, the test statistic $\\sim N(0,1)$"
   ]
  },
  {
   "cell_type": "markdown",
   "metadata": {},
   "source": [
    "Test statistic: $\\frac{\\hat\\pi_H-\\hat\\pi_L}{se(\\hat\\pi_H-\\hat\\pi_L)}=5.575$\n",
    "\n",
    "p-value $2P(Z\\geq 5.575)<0.05$\n",
    "\n",
    "Conclusion: We have strong evidence that the probability of developing CVD is not the same for High and Low cholesterol groups.\n"
   ]
  },
  {
   "cell_type": "code",
   "execution_count": 5,
   "metadata": {
    "ExecuteTime": {
     "end_time": "2019-03-19T19:46:27.636574Z",
     "start_time": "2019-03-19T19:46:27.512Z"
    }
   },
   "outputs": [
    {
     "name": "stdout",
     "output_type": "stream",
     "text": [
      "           Cardio Vascular Disease\n",
      "Cholesterol Present Absent\n",
      "       High      41    245\n",
      "       Low       51    992\n"
     ]
    }
   ],
   "source": [
    "cvd<-matrix(c(41,245,51,992), nrow=2,byrow=TRUE)\n",
    "dimnames(cvd)<-list(c(\"High\",\"Low\"), c(\"Present\",\"Absent\"))\n",
    "names(dimnames(cvd))<-c(\"Cholesterol\",\"Cardio Vascular Disease\")\n",
    "print(cvd)"
   ]
  },
  {
   "cell_type": "code",
   "execution_count": 8,
   "metadata": {
    "ExecuteTime": {
     "end_time": "2019-03-19T19:47:40.228645Z",
     "start_time": "2019-03-19T19:47:40.099Z"
    }
   },
   "outputs": [
    {
     "name": "stdout",
     "output_type": "stream",
     "text": [
      "[1] 0.1433566\n",
      "[1] 0.04889741\n"
     ]
    }
   ],
   "source": [
    "# estimate for pi\n",
    "pi_h = 41/(41+245)\n",
    "pi_l = 51/(51+992)\n",
    "print(pi_h)\n",
    "print(pi_l)"
   ]
  },
  {
   "cell_type": "code",
   "execution_count": 10,
   "metadata": {
    "ExecuteTime": {
     "end_time": "2019-03-19T19:48:23.613073Z",
     "start_time": "2019-03-19T19:48:23.486Z"
    },
    "scrolled": true
   },
   "outputs": [
    {
     "data": {
      "text/html": [
       "1.95996398454005"
      ],
      "text/latex": [
       "1.95996398454005"
      ],
      "text/markdown": [
       "1.95996398454005"
      ],
      "text/plain": [
       "[1] 1.959964"
      ]
     },
     "metadata": {},
     "output_type": "display_data"
    }
   ],
   "source": [
    "# sample size \n",
    "n_h = 41 + 245\n",
    "n_l = 51 + 992\n",
    "conf.level = 0.95\n",
    "crit.val = qnorm(1-(1-conf.level)/2)\n",
    "crit.val"
   ]
  },
  {
   "cell_type": "code",
   "execution_count": 16,
   "metadata": {
    "ExecuteTime": {
     "end_time": "2019-03-19T19:50:40.389805Z",
     "start_time": "2019-03-19T19:50:40.275Z"
    }
   },
   "outputs": [
    {
     "data": {
      "text/html": [
       "0.0217710596635901"
      ],
      "text/latex": [
       "0.0217710596635901"
      ],
      "text/markdown": [
       "0.0217710596635901"
      ],
      "text/plain": [
       "[1] 0.02177106"
      ]
     },
     "metadata": {},
     "output_type": "display_data"
    }
   ],
   "source": [
    "# standard error\n",
    "se.hat = sqrt(pi_h * (1 - pi_h)/n_h + pi_l * (1 - pi_l)/n_l)\n",
    "se.hat"
   ]
  },
  {
   "cell_type": "code",
   "execution_count": 17,
   "metadata": {
    "ExecuteTime": {
     "end_time": "2019-03-19T19:51:43.917281Z",
     "start_time": "2019-03-19T19:51:43.805Z"
    },
    "code_folding": [],
    "scrolled": true
   },
   "outputs": [
    {
     "data": {
      "text/html": [
       "<ol class=list-inline>\n",
       "\t<li>0.0517887391972153</li>\n",
       "\t<li>0.137129724889034</li>\n",
       "</ol>\n"
      ],
      "text/latex": [
       "\\begin{enumerate*}\n",
       "\\item 0.0517887391972153\n",
       "\\item 0.137129724889034\n",
       "\\end{enumerate*}\n"
      ],
      "text/markdown": [
       "1. 0.0517887391972153\n",
       "2. 0.137129724889034\n",
       "\n",
       "\n"
      ],
      "text/plain": [
       "[1] 0.05178874 0.13712972"
      ]
     },
     "metadata": {},
     "output_type": "display_data"
    }
   ],
   "source": [
    "# 95% CI\n",
    "c((pi_h-pi_l)-crit.val*se.hat, (pi_h-pi_l)+crit.val*se.hat)"
   ]
  },
  {
   "cell_type": "code",
   "execution_count": 19,
   "metadata": {
    "ExecuteTime": {
     "end_time": "2019-03-19T20:05:50.294798Z",
     "start_time": "2019-03-19T20:05:50.165Z"
    }
   },
   "outputs": [
    {
     "data": {
      "text/plain": [
       "\n",
       "\t2-sample test for equality of proportions without continuity\n",
       "\tcorrection\n",
       "\n",
       "data:  cvd\n",
       "X-squared = 31.082, df = 1, p-value = 2.474e-08\n",
       "alternative hypothesis: two.sided\n",
       "95 percent confidence interval:\n",
       " 0.05178874 0.13712972\n",
       "sample estimates:\n",
       "    prop 1     prop 2 \n",
       "0.14335664 0.04889741 \n"
      ]
     },
     "metadata": {},
     "output_type": "display_data"
    }
   ],
   "source": [
    "# easier way for bonimial sampling\n",
    "prop.test(cvd, correct=FALSE)"
   ]
  },
  {
   "cell_type": "code",
   "execution_count": 21,
   "metadata": {
    "ExecuteTime": {
     "end_time": "2019-03-19T20:07:55.091763Z",
     "start_time": "2019-03-19T20:07:54.979Z"
    }
   },
   "outputs": [
    {
     "data": {
      "text/plain": [
       "\n",
       "\tPearson's Chi-squared test\n",
       "\n",
       "data:  cvd\n",
       "X-squared = 31.082, df = 1, p-value = 2.474e-08\n"
      ]
     },
     "metadata": {},
     "output_type": "display_data"
    }
   ],
   "source": [
    "# or chisq test\n",
    "chisq.test(cvd, correct=F)"
   ]
  },
  {
   "cell_type": "code",
   "execution_count": 20,
   "metadata": {
    "ExecuteTime": {
     "end_time": "2019-03-19T20:06:44.532434Z",
     "start_time": "2019-03-19T20:06:44.419Z"
    }
   },
   "outputs": [
    {
     "data": {
      "text/plain": [
       "\n",
       "\t2-sample test for equality of proportions with continuity correction\n",
       "\n",
       "data:  cvd\n",
       "X-squared = 29.633, df = 1, p-value = 5.221e-08\n",
       "alternative hypothesis: two.sided\n",
       "95 percent confidence interval:\n",
       " 0.0495611 0.1393574\n",
       "sample estimates:\n",
       "    prop 1     prop 2 \n",
       "0.14335664 0.04889741 \n"
      ]
     },
     "metadata": {},
     "output_type": "display_data"
    }
   ],
   "source": [
    "# Don't use this, provide different result from the manual way\n",
    "prop.test(cvd)"
   ]
  },
  {
   "cell_type": "markdown",
   "metadata": {},
   "source": [
    "The CI does not include 0. "
   ]
  },
  {
   "cell_type": "markdown",
   "metadata": {},
   "source": [
    "#### Contingency Table\n",
    "Have a row factor with $I$ levels and a column factor with $J$ levels\n",
    "\n",
    "Then, define $P(C=i,R=j)=\\pi_{ij}, P(C=i)=\\pi_{i\\cdot}, P(R=j)=\\pi_{\\cdot j}$\n",
    "\n",
    "Hypothesis: $H_0: \\pi_{ij} = \\pi_{i\\cdot}\\pi_{\\cdot j}, H_a: \\pi_{ij} \\neq\\pi_{i\\cdot}\\pi_{\\cdot j}$\n",
    "null: there is no relationship between the two factors"
   ]
  },
  {
   "cell_type": "markdown",
   "metadata": {},
   "source": [
    "For each cell, estimated expected cell count $\\hat\\mu_{ij} = n\\hat\\pi_i\\hat\\pi_j = y_{i\\cdot}y_{\\cdot j}/n$\n",
    "\n",
    "Test statistic: $X^2 = \\sum_{j=1}^J\\sum_{i=1}^I \\frac{(y_{ij}-\\hat\\mu_{ij})^2}{\\hat\\mu_{ij}}\\sim \\chi^2_{(I-1)(J-1)} $"
   ]
  },
  {
   "cell_type": "markdown",
   "metadata": {},
   "source": [
    "If $var(y)=E(y)=\\mu\\Rightarrow y\\sim Poisson(\\mu)$"
   ]
  },
  {
   "cell_type": "markdown",
   "metadata": {},
   "source": [
    "For this case, test statistic: $ 31.08\\sim \\chi^2_{(2-1)(2-1)}$, p-value $<0.0001$\n",
    "\n",
    "Strong evidence that the two factors are not independent, CVD status depends on cholesterol level."
   ]
  },
  {
   "cell_type": "markdown",
   "metadata": {},
   "source": [
    "When $I=J=2$, the chi-square test of independence is equivalent to comparing two proportions."
   ]
  },
  {
   "cell_type": "markdown",
   "metadata": {},
   "source": [
    "**Formal approach**  \n",
    "Let $Y_{ij}$ be r.v. representing the number of observations in cell $(i,j)$.\n",
    "\n",
    "Observe $y_{ij}$ be observed cell counts\n",
    "\n",
    "Then multinomial $$P(Y=y)=\\frac{n!\\pi_{11}^{y_{11}}\\pi_{12}^{y_{12}}\\pi_{21}^{y_{21}}\\pi_{22}^{y_{22}}} {y_{11}!y_{12}!y_{21}!y_{22}!}\\sim Multinomial(n,\\pi_{11},\\pi_{12},\\pi_{21},\\pi_{22})$$\n",
    "\n",
    "Log-likelihood is \n",
    "$$\\log\\mathcal{L}=\\sum_{j=1}^2\\sum_{i=1}^2 y_{ij}\\log\\pi_{ij}+\\log{n\\choose y_{11}y_{12}y_{21}y_{22}}$$\n",
    "\n",
    "Maximize $\\log\\mathcal{L}$ w.r.t. $\\pi$'s and $\\sum\\sum\\pi_{ij}=1$, then $\\hat\\pi_{ij}=y_{ij}/n$\n",
    "\n",
    "Under $H_0: \\pi_{ij}=\\pi_{i\\cdot}\\pi_{\\cdot j}$, can substitute $\\pi_{ij}$ and maximize the column and row $\\pi$'s. \n",
    "\n",
    "$$G^2 = -2\\log(\\mathcal{L}_R/\\mathcal{L}_F)\\sim\\chi^2_{(I-1)(J-1)}$$\n",
    "\n",
    "To obtain the d.f. \n",
    "df(Unrestrcited / FULL)-df(Independence/REDUCED)  \n",
    "=#parameters in FULL($\\pi_{ij}$) - #parameters in REDUCED($\\pi_{i\\cdot},\\pi_{\\cdot j}$)  \n",
    "= $IJ-1-(I+J-2)$  \n",
    "$-1$ because constraint $\\sum\\sum\\pi_{ij}=1$  \n",
    "$-2$ because constraint $\\sum\\pi_{i\\cdot}=1,\\sum\\pi_{\\cdot j}=1$"
   ]
  }
 ],
 "metadata": {
  "kernelspec": {
   "display_name": "R",
   "language": "R",
   "name": "ir"
  },
  "language_info": {
   "codemirror_mode": "r",
   "file_extension": ".r",
   "mimetype": "text/x-r-source",
   "name": "R",
   "pygments_lexer": "r",
   "version": "3.5.2"
  }
 },
 "nbformat": 4,
 "nbformat_minor": 2
}
