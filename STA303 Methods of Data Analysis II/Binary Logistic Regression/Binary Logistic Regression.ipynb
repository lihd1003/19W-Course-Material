{
 "cells": [
  {
   "cell_type": "markdown",
   "metadata": {},
   "source": [
    "## Case Study: Donner Party"
   ]
  },
  {
   "cell_type": "code",
   "execution_count": 1,
   "metadata": {
    "scrolled": true
   },
   "outputs": [],
   "source": [
    "library(Sleuth2)\n",
    "donner = case2001\n",
    "Age = donner$Age\n",
    "Sex = donner$Sex\n",
    "Status = donner$Status"
   ]
  },
  {
   "cell_type": "code",
   "execution_count": 2,
   "metadata": {},
   "outputs": [
    {
     "data": {
      "text/plain": [
       "          Sex\n",
       "Status     Male Female\n",
       "  Died       20      5\n",
       "  Survived   10     10"
      ]
     },
     "metadata": {},
     "output_type": "display_data"
    }
   ],
   "source": [
    "# contingency table\n",
    "xtabs(~Status+Sex, data=donner)"
   ]
  },
  {
   "cell_type": "code",
   "execution_count": 3,
   "metadata": {},
   "outputs": [
    {
     "data": {
      "text/plain": [
       "   Min. 1st Qu.  Median    Mean 3rd Qu.    Max. \n",
       "   15.0    24.0    28.0    31.8    40.0    65.0 "
      ]
     },
     "metadata": {},
     "output_type": "display_data"
    }
   ],
   "source": [
    "summary(Age)"
   ]
  },
  {
   "cell_type": "markdown",
   "metadata": {},
   "source": [
    "Response $Y_i=\\{0,1\\}$ survived or died <br>\n",
    "Predictor: $X_i$ age/sex\n",
    "\n",
    "#### Model\n",
    "$Y_i\\mid X_i=\\mathbb{I}$(response is in category of interest)$\\sim Bernoulli(\\pi_i)$ <br>\n",
    "$E(Y_i\\mid X_i)=\\pi_i, var(Y_i\\mid X_i)=\\pi_1(1-\\pi_i)$"
   ]
  },
  {
   "cell_type": "markdown",
   "metadata": {},
   "source": [
    "## Generalized Linear Models\n",
    "Having response $Y$ can a set of explanatory variables $X_1,...,X_p$\n",
    "\n",
    "Want $E(Y)$ as a linear function in the parameters, ie. $$g(E(Y))=X\\beta$$\n",
    "\n",
    "Key idea: find the link function $g$ such that the model is true\n",
    "\n",
    "Some link functions\n",
    "<table>\n",
    "        <tr>\n",
    "                <th>link</th><th>function</th><th>usual distribution of $Y\\mid X$</th>\n",
    "        </tr>\n",
    "        <tr>\n",
    "                <td>identity</td><td>$$g(\\mu)=\\mu$$</td><td>Normal</td>\n",
    "        </tr>\n",
    "        <tr>\n",
    "                <td>log</td><td>$$g(\\mu)=\\log\\mu,\\mu>0$$</td><td>Poisson(count data)</td>\n",
    "        </tr>\n",
    "        <tr>\n",
    "                <td>logistic</td><td> $$g(\\mu)=\\log(\\mu/(1-\\mu)),0<\\mu<1$$</td><td>Bernoulli(binary),Binomial </td>\n",
    "        </tr>\n",
    "        \n",
    "</table>"
   ]
  },
  {
   "cell_type": "markdown",
   "metadata": {},
   "source": [
    "#### GLM vs. Transformation\n",
    "\n",
    "- For transformation, transforming $Y$ so it has an approximate normal distribution with constant variance\n",
    "- For GLM, distribution of $Y$ not restricted to Normal\n",
    "- Model parameters describe $g(E(Y))$ rather than $E(g(Y))$\n",
    "- GLM provide a unified theory of modeling that encompasses the most important models for continuous and discrete variables"
   ]
  },
  {
   "cell_type": "markdown",
   "metadata": {},
   "source": [
    "## Binary Logistic Regression\n",
    "\n",
    "- Let $\\pi=P(\"success\"),0<\\pi<1$\n",
    "- The **odds** in favor of success is $\\frac{\\pi}{1-\\pi}$\n",
    "- The **log odds** is $\\log(\\frac{\\pi}{1-\\pi})$\n",
    "\n",
    "### Model\n",
    "$\\log(\\frac{\\pi}{1-\\pi}) = \\beta_0 + \\beta_1X_1+...+\\beta_pX_p$\n",
    "\n",
    "Let the linear predictor $\\eta=\\beta_0 + \\beta_1X_1+...+\\beta_pX_p$, then **Logistic function** is $\\pi(\\eta)=\\frac{e^{\\eta}}{1+e^\\eta}$"
   ]
  },
  {
   "cell_type": "code",
   "execution_count": 4,
   "metadata": {},
   "outputs": [
    {
     "data": {
      "image/png": "[encoded data removed]",
      "text/plain": [
       "plot without title"
      ]
     },
     "metadata": {},
     "output_type": "display_data"
    }
   ],
   "source": [
    "eq <- function(x){exp(x)/(1+exp(x))}\n",
    "plot(eq(-10:10), type='l')"
   ]
  },
  {
   "cell_type": "markdown",
   "metadata": {},
   "source": [
    "- log-odds $\\log(\\frac{\\pi}{1-\\pi})\\in(-\\infty, \\infty)$, is increasing function.\n",
    "- Predicts the natural log of the odds for a subject bing in one category or another\n",
    "- Regression coefficients can be used to estimate odds ratio for each of the independent variables\n",
    "- Tell which predictors can be used to determine if a subject was in a category of interest"
   ]
  },
  {
   "cell_type": "markdown",
   "metadata": {},
   "source": [
    "### MLE\n",
    "- Date: $Y_i=\\mathbb{I}(\\text{if response is in category of interest})$\n",
    "- Model: $P(Y_i=y_1)=\\pi_i^{y_{i}}(1-\\pi_i)^{1-y_{i}}$\n",
    "- Assumption: The observations are independent.\n",
    "- Joint density: $P(Y_1=y_1,...,Y_n=y_n)=\\prod_1^n \\pi_i^{y_{i}}(1-\\pi_i)^{1-y_{i}}$ where $\\pi_i = \\frac{\\exp(\\beta_0+\\beta_1X_{i1}+...+\\beta_pX_{ip})}{1+\\exp(\\beta_0+\\beta_1X_{i1}+...+\\beta_pX_{ip})}$\n",
    "\n",
    "Likelihood function: plug in observed data and think of the joint density as a function of $\\beta$'s\n",
    "$$\\mathcal{L}(\\beta_0,...,\\beta_p)=\\prod_{1^n}\\pi_i\\vec\\beta^{y_i}(1-\\pi_i{\\vec\\beta})^{1-y_i}$$\n",
    "\n",
    "There is no explicit expression for the max likelihood estimators. Two iterative numerical solution methods are Newton-Raphson algorithm and Fisher scoring or IWLS (In R, **glm()**)"
   ]
  },
  {
   "cell_type": "code",
   "execution_count": 5,
   "metadata": {},
   "outputs": [
    {
     "data": {
      "text/plain": [
       "\n",
       "Call:\n",
       "glm(formula = Status ~ Age + Sex, family = binomial, data = donner)\n",
       "\n",
       "Deviance Residuals: \n",
       "    Min       1Q   Median       3Q      Max  \n",
       "-1.7445  -1.0441  -0.3029   0.8877   2.0472  \n",
       "\n",
       "Coefficients:\n",
       "            Estimate Std. Error z value Pr(>|z|)  \n",
       "(Intercept)  1.63312    1.11018   1.471   0.1413  \n",
       "Age         -0.07820    0.03728  -2.097   0.0359 *\n",
       "SexFemale    1.59729    0.75547   2.114   0.0345 *\n",
       "---\n",
       "Signif. codes:  0 '***' 0.001 '**' 0.01 '*' 0.05 '.' 0.1 ' ' 1\n",
       "\n",
       "(Dispersion parameter for binomial family taken to be 1)\n",
       "\n",
       "    Null deviance: 61.827  on 44  degrees of freedom\n",
       "Residual deviance: 51.256  on 42  degrees of freedom\n",
       "AIC: 57.256\n",
       "\n",
       "Number of Fisher Scoring iterations: 4\n"
      ]
     },
     "metadata": {},
     "output_type": "display_data"
    }
   ],
   "source": [
    "# additive\n",
    "fita<-glm(Status~Age+Sex, family=binomial, data=donner)\n",
    "summary(fita)"
   ]
  },
  {
   "cell_type": "code",
   "execution_count": 6,
   "metadata": {},
   "outputs": [
    {
     "data": {
      "text/html": [
       "<table>\n",
       "<thead><tr><th></th><th scope=col>Df</th><th scope=col>Deviance</th><th scope=col>Resid. Df</th><th scope=col>Resid. Dev</th></tr></thead>\n",
       "<tbody>\n",
       "\t<tr><th scope=row>NULL</th><td>NA      </td><td>      NA</td><td>44      </td><td>61.82654</td></tr>\n",
       "\t<tr><th scope=row>Age</th><td> 1      </td><td>5.535820</td><td>43      </td><td>56.29072</td></tr>\n",
       "\t<tr><th scope=row>Sex</th><td> 1      </td><td>5.034437</td><td>42      </td><td>51.25628</td></tr>\n",
       "</tbody>\n",
       "</table>\n"
      ],
      "text/latex": [
       "\\begin{tabular}{r|llll}\n",
       "  & Df & Deviance & Resid. Df & Resid. Dev\\\\\n",
       "\\hline\n",
       "\tNULL & NA       &       NA & 44       & 61.82654\\\\\n",
       "\tAge &  1       & 5.535820 & 43       & 56.29072\\\\\n",
       "\tSex &  1       & 5.034437 & 42       & 51.25628\\\\\n",
       "\\end{tabular}\n"
      ],
      "text/markdown": [
       "\n",
       "| <!--/--> | Df | Deviance | Resid. Df | Resid. Dev |\n",
       "|---|---|---|---|---|\n",
       "| NULL | NA       |       NA | 44       | 61.82654 |\n",
       "| Age |  1       | 5.535820 | 43       | 56.29072 |\n",
       "| Sex |  1       | 5.034437 | 42       | 51.25628 |\n",
       "\n"
      ],
      "text/plain": [
       "     Df Deviance Resid. Df Resid. Dev\n",
       "NULL NA       NA 44        61.82654  \n",
       "Age   1 5.535820 43        56.29072  \n",
       "Sex   1 5.034437 42        51.25628  "
      ]
     },
     "metadata": {},
     "output_type": "display_data"
    }
   ],
   "source": [
    "anova(fita)"
   ]
  },
  {
   "cell_type": "code",
   "execution_count": 7,
   "metadata": {},
   "outputs": [
    {
     "data": {
      "text/plain": [
       "\n",
       "Call:\n",
       "glm(formula = Status2 ~ Age + Sex, family = binomial, data = donner)\n",
       "\n",
       "Deviance Residuals: \n",
       "    Min       1Q   Median       3Q      Max  \n",
       "-2.0472  -0.8877   0.3029   1.0441   1.7445  \n",
       "\n",
       "Coefficients:\n",
       "            Estimate Std. Error z value Pr(>|z|)  \n",
       "(Intercept) -1.63312    1.11018  -1.471   0.1413  \n",
       "Age          0.07820    0.03728   2.097   0.0359 *\n",
       "SexFemale   -1.59729    0.75547  -2.114   0.0345 *\n",
       "---\n",
       "Signif. codes:  0 '***' 0.001 '**' 0.01 '*' 0.05 '.' 0.1 ' ' 1\n",
       "\n",
       "(Dispersion parameter for binomial family taken to be 1)\n",
       "\n",
       "    Null deviance: 61.827  on 44  degrees of freedom\n",
       "Residual deviance: 51.256  on 42  degrees of freedom\n",
       "AIC: 57.256\n",
       "\n",
       "Number of Fisher Scoring iterations: 4\n"
      ]
     },
     "metadata": {},
     "output_type": "display_data"
    }
   ],
   "source": [
    "# modelling \"Died\"\n",
    "Status2 = relevel(Status, ref=\"Survived\")\n",
    "fitad <- glm(Status2 ~ Age + Sex, family=binomial, data=donner)\n",
    "summary(fitad)"
   ]
  },
  {
   "cell_type": "code",
   "execution_count": 8,
   "metadata": {},
   "outputs": [
    {
     "data": {
      "text/plain": [
       "\n",
       "Call:\n",
       "glm(formula = Status2 ~ Age + Sex2, family = binomial, data = donner)\n",
       "\n",
       "Deviance Residuals: \n",
       "    Min       1Q   Median       3Q      Max  \n",
       "-2.0472  -0.8877   0.3029   1.0441   1.7445  \n",
       "\n",
       "Coefficients:\n",
       "            Estimate Std. Error z value Pr(>|z|)  \n",
       "(Intercept) -1.63312    1.11018  -1.471   0.1413  \n",
       "Age          0.07820    0.03728   2.097   0.0359 *\n",
       "Sex2Female  -1.59729    0.75547  -2.114   0.0345 *\n",
       "---\n",
       "Signif. codes:  0 '***' 0.001 '**' 0.01 '*' 0.05 '.' 0.1 ' ' 1\n",
       "\n",
       "(Dispersion parameter for binomial family taken to be 1)\n",
       "\n",
       "    Null deviance: 61.827  on 44  degrees of freedom\n",
       "Residual deviance: 51.256  on 42  degrees of freedom\n",
       "AIC: 57.256\n",
       "\n",
       "Number of Fisher Scoring iterations: 4\n"
      ]
     },
     "metadata": {},
     "output_type": "display_data"
    }
   ],
   "source": [
    "# Reference group as \"Male\"\n",
    "Sex2 = relevel(Sex, ref=\"Male\")\n",
    "fitadf <- glm(Status2~Age + Sex2, family=binomial, data=donner)\n",
    "summary(fitadf)"
   ]
  },
  {
   "cell_type": "code",
   "execution_count": 9,
   "metadata": {},
   "outputs": [
    {
     "data": {
      "text/plain": [
       "\n",
       "Call:\n",
       "glm(formula = Status ~ Age + Sex2, family = binomial, data = donner)\n",
       "\n",
       "Deviance Residuals: \n",
       "    Min       1Q   Median       3Q      Max  \n",
       "-1.7445  -1.0441  -0.3029   0.8877   2.0472  \n",
       "\n",
       "Coefficients:\n",
       "            Estimate Std. Error z value Pr(>|z|)  \n",
       "(Intercept)  1.63312    1.11018   1.471   0.1413  \n",
       "Age         -0.07820    0.03728  -2.097   0.0359 *\n",
       "Sex2Female   1.59729    0.75547   2.114   0.0345 *\n",
       "---\n",
       "Signif. codes:  0 '***' 0.001 '**' 0.01 '*' 0.05 '.' 0.1 ' ' 1\n",
       "\n",
       "(Dispersion parameter for binomial family taken to be 1)\n",
       "\n",
       "    Null deviance: 61.827  on 44  degrees of freedom\n",
       "Residual deviance: 51.256  on 42  degrees of freedom\n",
       "AIC: 57.256\n",
       "\n",
       "Number of Fisher Scoring iterations: 4\n"
      ]
     },
     "metadata": {},
     "output_type": "display_data"
    }
   ],
   "source": [
    "# Additive model for survived\n",
    "fitasf <- glm(Status~Age + Sex2, family=binomial, data=donner)\n",
    "summary(fitasf)"
   ]
  },
  {
   "cell_type": "code",
   "execution_count": 10,
   "metadata": {},
   "outputs": [
    {
     "data": {
      "text/plain": [
       "\n",
       "Call:\n",
       "glm(formula = Status ~ Sex2 + Age, family = binomial, data = donner)\n",
       "\n",
       "Deviance Residuals: \n",
       "    Min       1Q   Median       3Q      Max  \n",
       "-1.7445  -1.0441  -0.3029   0.8877   2.0472  \n",
       "\n",
       "Coefficients:\n",
       "            Estimate Std. Error z value Pr(>|z|)  \n",
       "(Intercept)  1.63312    1.11018   1.471   0.1413  \n",
       "Sex2Female   1.59729    0.75547   2.114   0.0345 *\n",
       "Age         -0.07820    0.03728  -2.097   0.0359 *\n",
       "---\n",
       "Signif. codes:  0 '***' 0.001 '**' 0.01 '*' 0.05 '.' 0.1 ' ' 1\n",
       "\n",
       "(Dispersion parameter for binomial family taken to be 1)\n",
       "\n",
       "    Null deviance: 61.827  on 44  degrees of freedom\n",
       "Residual deviance: 51.256  on 42  degrees of freedom\n",
       "AIC: 57.256\n",
       "\n",
       "Number of Fisher Scoring iterations: 4\n"
      ]
     },
     "metadata": {},
     "output_type": "display_data"
    }
   ],
   "source": [
    "# the order of independent variable does not metter\n",
    "fitsaf <- glm(Status~ Sex2+Age, family=binomial, data=donner)\n",
    "summary(fitsaf)"
   ]
  },
  {
   "cell_type": "code",
   "execution_count": 11,
   "metadata": {},
   "outputs": [
    {
     "data": {
      "text/html": [
       "<table>\n",
       "<thead><tr><th></th><th scope=col>Df</th><th scope=col>Deviance</th><th scope=col>Resid. Df</th><th scope=col>Resid. Dev</th></tr></thead>\n",
       "<tbody>\n",
       "\t<tr><th scope=row>NULL</th><td>NA      </td><td>      NA</td><td>44      </td><td>61.82654</td></tr>\n",
       "\t<tr><th scope=row>Age</th><td> 1      </td><td>5.535820</td><td>43      </td><td>56.29072</td></tr>\n",
       "\t<tr><th scope=row>Sex2</th><td> 1      </td><td>5.034437</td><td>42      </td><td>51.25628</td></tr>\n",
       "</tbody>\n",
       "</table>\n"
      ],
      "text/latex": [
       "\\begin{tabular}{r|llll}\n",
       "  & Df & Deviance & Resid. Df & Resid. Dev\\\\\n",
       "\\hline\n",
       "\tNULL & NA       &       NA & 44       & 61.82654\\\\\n",
       "\tAge &  1       & 5.535820 & 43       & 56.29072\\\\\n",
       "\tSex2 &  1       & 5.034437 & 42       & 51.25628\\\\\n",
       "\\end{tabular}\n"
      ],
      "text/markdown": [
       "\n",
       "| <!--/--> | Df | Deviance | Resid. Df | Resid. Dev |\n",
       "|---|---|---|---|---|\n",
       "| NULL | NA       |       NA | 44       | 61.82654 |\n",
       "| Age |  1       | 5.535820 | 43       | 56.29072 |\n",
       "| Sex2 |  1       | 5.034437 | 42       | 51.25628 |\n",
       "\n"
      ],
      "text/plain": [
       "     Df Deviance Resid. Df Resid. Dev\n",
       "NULL NA       NA 44        61.82654  \n",
       "Age   1 5.535820 43        56.29072  \n",
       "Sex2  1 5.034437 42        51.25628  "
      ]
     },
     "metadata": {},
     "output_type": "display_data"
    }
   ],
   "source": [
    "anova(fitasf)"
   ]
  },
  {
   "cell_type": "code",
   "execution_count": 12,
   "metadata": {},
   "outputs": [
    {
     "data": {
      "text/html": [
       "<table>\n",
       "<thead><tr><th></th><th scope=col>Df</th><th scope=col>Deviance</th><th scope=col>Resid. Df</th><th scope=col>Resid. Dev</th></tr></thead>\n",
       "<tbody>\n",
       "\t<tr><th scope=row>NULL</th><td>NA      </td><td>      NA</td><td>44      </td><td>61.82654</td></tr>\n",
       "\t<tr><th scope=row>Sex2</th><td> 1      </td><td>4.540267</td><td>43      </td><td>57.28628</td></tr>\n",
       "\t<tr><th scope=row>Age</th><td> 1      </td><td>6.029991</td><td>42      </td><td>51.25628</td></tr>\n",
       "</tbody>\n",
       "</table>\n"
      ],
      "text/latex": [
       "\\begin{tabular}{r|llll}\n",
       "  & Df & Deviance & Resid. Df & Resid. Dev\\\\\n",
       "\\hline\n",
       "\tNULL & NA       &       NA & 44       & 61.82654\\\\\n",
       "\tSex2 &  1       & 4.540267 & 43       & 57.28628\\\\\n",
       "\tAge &  1       & 6.029991 & 42       & 51.25628\\\\\n",
       "\\end{tabular}\n"
      ],
      "text/markdown": [
       "\n",
       "| <!--/--> | Df | Deviance | Resid. Df | Resid. Dev |\n",
       "|---|---|---|---|---|\n",
       "| NULL | NA       |       NA | 44       | 61.82654 |\n",
       "| Sex2 |  1       | 4.540267 | 43       | 57.28628 |\n",
       "| Age |  1       | 6.029991 | 42       | 51.25628 |\n",
       "\n"
      ],
      "text/plain": [
       "     Df Deviance Resid. Df Resid. Dev\n",
       "NULL NA       NA 44        61.82654  \n",
       "Sex2  1 4.540267 43        57.28628  \n",
       "Age   1 6.029991 42        51.25628  "
      ]
     },
     "metadata": {},
     "output_type": "display_data"
    }
   ],
   "source": [
    "anova(fitsaf)"
   ]
  },
  {
   "cell_type": "code",
   "execution_count": 13,
   "metadata": {},
   "outputs": [
    {
     "data": {
      "text/plain": [
       "\n",
       "Call:\n",
       "glm(formula = Status ~ Age + Sex2 + Age:Sex2 + I(Age^2) + I(Age^2):Sex2, \n",
       "    family = binomial, data = donner)\n",
       "\n",
       "Deviance Residuals: \n",
       "    Min       1Q   Median       3Q      Max  \n",
       "-2.3396  -0.9757  -0.3438   0.5269   1.5901  \n",
       "\n",
       "Coefficients:\n",
       "                     Estimate Std. Error z value Pr(>|z|)\n",
       "(Intercept)         -3.318484   3.940184  -0.842    0.400\n",
       "Age                  0.183031   0.226632   0.808    0.419\n",
       "Sex2Female           0.265286  10.455222   0.025    0.980\n",
       "I(Age^2)            -0.002803   0.002985  -0.939    0.348\n",
       "Age:Sex2Female       0.299877   0.696050   0.431    0.667\n",
       "Sex2Female:I(Age^2) -0.007356   0.010689  -0.688    0.491\n",
       "\n",
       "(Dispersion parameter for binomial family taken to be 1)\n",
       "\n",
       "    Null deviance: 61.827  on 44  degrees of freedom\n",
       "Residual deviance: 45.361  on 39  degrees of freedom\n",
       "AIC: 57.361\n",
       "\n",
       "Number of Fisher Scoring iterations: 5\n"
      ]
     },
     "metadata": {},
     "output_type": "display_data"
    }
   ],
   "source": [
    "# Higher order model with 3 higher order/interaction terms\n",
    "fitfull <- glm(Status~Age + Sex2 + Age:Sex2+I(Age^2)+I(Age^2):Sex2, family=binomial, data=donner)\n",
    "summary(fitfull)"
   ]
  },
  {
   "cell_type": "code",
   "execution_count": 14,
   "metadata": {},
   "outputs": [
    {
     "data": {
      "text/plain": [
       "\n",
       "Call:\n",
       "glm(formula = Status ~ Age * Sex2, family = binomial, data = donner)\n",
       "\n",
       "Deviance Residuals: \n",
       "    Min       1Q   Median       3Q      Max  \n",
       "-2.2279  -0.9388  -0.5550   0.7794   1.6998  \n",
       "\n",
       "Coefficients:\n",
       "               Estimate Std. Error z value Pr(>|z|)  \n",
       "(Intercept)     0.31834    1.13103   0.281   0.7784  \n",
       "Age            -0.03248    0.03527  -0.921   0.3571  \n",
       "Sex2Female      6.92805    3.39887   2.038   0.0415 *\n",
       "Age:Sex2Female -0.16160    0.09426  -1.714   0.0865 .\n",
       "---\n",
       "Signif. codes:  0 '***' 0.001 '**' 0.01 '*' 0.05 '.' 0.1 ' ' 1\n",
       "\n",
       "(Dispersion parameter for binomial family taken to be 1)\n",
       "\n",
       "    Null deviance: 61.827  on 44  degrees of freedom\n",
       "Residual deviance: 47.346  on 41  degrees of freedom\n",
       "AIC: 55.346\n",
       "\n",
       "Number of Fisher Scoring iterations: 5\n"
      ]
     },
     "metadata": {},
     "output_type": "display_data"
    }
   ],
   "source": [
    "# interaction model\n",
    "fitas <- glm(Status~Age*Sex2, family=binomial,data=donner)\n",
    "summary(fitas)"
   ]
  },
  {
   "cell_type": "code",
   "execution_count": 15,
   "metadata": {},
   "outputs": [
    {
     "data": {
      "text/html": [
       "<table>\n",
       "<thead><tr><th></th><th scope=col>Df</th><th scope=col>Deviance</th><th scope=col>Resid. Df</th><th scope=col>Resid. Dev</th><th scope=col>Pr(&gt;Chi)</th></tr></thead>\n",
       "<tbody>\n",
       "\t<tr><th scope=row>NULL</th><td>NA        </td><td>      NA  </td><td>44        </td><td>61.82654  </td><td>        NA</td></tr>\n",
       "\t<tr><th scope=row>Age</th><td> 1        </td><td>5.535820  </td><td>43        </td><td>56.29072  </td><td>0.01863103</td></tr>\n",
       "\t<tr><th scope=row>Sex2</th><td> 1        </td><td>5.034437  </td><td>42        </td><td>51.25628  </td><td>0.02484816</td></tr>\n",
       "</tbody>\n",
       "</table>\n"
      ],
      "text/latex": [
       "\\begin{tabular}{r|lllll}\n",
       "  & Df & Deviance & Resid. Df & Resid. Dev & Pr(>Chi)\\\\\n",
       "\\hline\n",
       "\tNULL & NA         &       NA   & 44         & 61.82654   &         NA\\\\\n",
       "\tAge &  1         & 5.535820   & 43         & 56.29072   & 0.01863103\\\\\n",
       "\tSex2 &  1         & 5.034437   & 42         & 51.25628   & 0.02484816\\\\\n",
       "\\end{tabular}\n"
      ],
      "text/markdown": [
       "\n",
       "| <!--/--> | Df | Deviance | Resid. Df | Resid. Dev | Pr(>Chi) |\n",
       "|---|---|---|---|---|---|\n",
       "| NULL | NA         |       NA   | 44         | 61.82654   |         NA |\n",
       "| Age |  1         | 5.535820   | 43         | 56.29072   | 0.01863103 |\n",
       "| Sex2 |  1         | 5.034437   | 42         | 51.25628   | 0.02484816 |\n",
       "\n"
      ],
      "text/plain": [
       "     Df Deviance Resid. Df Resid. Dev Pr(>Chi)  \n",
       "NULL NA       NA 44        61.82654           NA\n",
       "Age   1 5.535820 43        56.29072   0.01863103\n",
       "Sex2  1 5.034437 42        51.25628   0.02484816"
      ]
     },
     "metadata": {},
     "output_type": "display_data"
    }
   ],
   "source": [
    "anova(fitasf, test=\"Chisq\")"
   ]
  },
  {
   "cell_type": "code",
   "execution_count": 16,
   "metadata": {},
   "outputs": [
    {
     "data": {
      "text/html": [
       "<table>\n",
       "<thead><tr><th></th><th scope=col>(Intercept)</th><th scope=col>Age</th><th scope=col>Sex2Female</th></tr></thead>\n",
       "<tbody>\n",
       "\t<tr><th scope=row>(Intercept)</th><td> 1.23250837 </td><td>-0.038472741</td><td> 0.06007099 </td></tr>\n",
       "\t<tr><th scope=row>Age</th><td>-0.03847274 </td><td> 0.001390134</td><td>-0.00823197 </td></tr>\n",
       "\t<tr><th scope=row>Sex2Female</th><td> 0.06007099 </td><td>-0.008231970</td><td> 0.57073339 </td></tr>\n",
       "</tbody>\n",
       "</table>\n"
      ],
      "text/latex": [
       "\\begin{tabular}{r|lll}\n",
       "  & (Intercept) & Age & Sex2Female\\\\\n",
       "\\hline\n",
       "\t(Intercept) &  1.23250837  & -0.038472741 &  0.06007099 \\\\\n",
       "\tAge & -0.03847274  &  0.001390134 & -0.00823197 \\\\\n",
       "\tSex2Female &  0.06007099  & -0.008231970 &  0.57073339 \\\\\n",
       "\\end{tabular}\n"
      ],
      "text/markdown": [
       "\n",
       "| <!--/--> | (Intercept) | Age | Sex2Female |\n",
       "|---|---|---|---|\n",
       "| (Intercept) |  1.23250837  | -0.038472741 |  0.06007099  |\n",
       "| Age | -0.03847274  |  0.001390134 | -0.00823197  |\n",
       "| Sex2Female |  0.06007099  | -0.008231970 |  0.57073339  |\n",
       "\n"
      ],
      "text/plain": [
       "            (Intercept) Age          Sex2Female \n",
       "(Intercept)  1.23250837 -0.038472741  0.06007099\n",
       "Age         -0.03847274  0.001390134 -0.00823197\n",
       "Sex2Female   0.06007099 -0.008231970  0.57073339"
      ]
     },
     "metadata": {},
     "output_type": "display_data"
    }
   ],
   "source": [
    "vcov(fitasf, digits=3)"
   ]
  },
  {
   "cell_type": "code",
   "execution_count": 17,
   "metadata": {},
   "outputs": [
    {
     "data": {
      "text/html": [
       "<table>\n",
       "<thead><tr><th></th><th scope=col>bhat</th><th scope=col>2.5 %</th><th scope=col>97.5 %</th></tr></thead>\n",
       "<tbody>\n",
       "\t<tr><th scope=row>(Intercept)</th><td> 1.63312031 </td><td>-0.5428002  </td><td> 3.809040837</td></tr>\n",
       "\t<tr><th scope=row>Age</th><td>-0.07820407 </td><td>-0.1512803  </td><td>-0.005127799</td></tr>\n",
       "\t<tr><th scope=row>Sex2Female</th><td> 1.59729350 </td><td> 0.1166015  </td><td> 3.077985503</td></tr>\n",
       "</tbody>\n",
       "</table>\n"
      ],
      "text/latex": [
       "\\begin{tabular}{r|lll}\n",
       "  & bhat & 2.5 \\% & 97.5 \\%\\\\\n",
       "\\hline\n",
       "\t(Intercept) &  1.63312031  & -0.5428002   &  3.809040837\\\\\n",
       "\tAge & -0.07820407  & -0.1512803   & -0.005127799\\\\\n",
       "\tSex2Female &  1.59729350  &  0.1166015   &  3.077985503\\\\\n",
       "\\end{tabular}\n"
      ],
      "text/markdown": [
       "\n",
       "| <!--/--> | bhat | 2.5 % | 97.5 % |\n",
       "|---|---|---|---|\n",
       "| (Intercept) |  1.63312031  | -0.5428002   |  3.809040837 |\n",
       "| Age | -0.07820407  | -0.1512803   | -0.005127799 |\n",
       "| Sex2Female |  1.59729350  |  0.1166015   |  3.077985503 |\n",
       "\n"
      ],
      "text/plain": [
       "            bhat        2.5 %      97.5 %      \n",
       "(Intercept)  1.63312031 -0.5428002  3.809040837\n",
       "Age         -0.07820407 -0.1512803 -0.005127799\n",
       "Sex2Female   1.59729350  0.1166015  3.077985503"
      ]
     },
     "metadata": {},
     "output_type": "display_data"
    }
   ],
   "source": [
    "cbind(bhat=coef(fitasf), confint.default(fitasf)) # CI for beta's"
   ]
  },
  {
   "cell_type": "code",
   "execution_count": 18,
   "metadata": {},
   "outputs": [
    {
     "data": {
      "text/html": [
       "<dl class=dl-horizontal>\n",
       "\t<dt>(Intercept)</dt>\n",
       "\t\t<dd>5.11982524825608</dd>\n",
       "\t<dt>Age</dt>\n",
       "\t\t<dd>0.924775685984312</dd>\n",
       "\t<dt>Sex2Female</dt>\n",
       "\t\t<dd>4.93964517580916</dd>\n",
       "</dl>\n"
      ],
      "text/latex": [
       "\\begin{description*}\n",
       "\\item[(Intercept)] 5.11982524825608\n",
       "\\item[Age] 0.924775685984312\n",
       "\\item[Sex2Female] 4.93964517580916\n",
       "\\end{description*}\n"
      ],
      "text/markdown": [
       "(Intercept)\n",
       ":   5.11982524825608Age\n",
       ":   0.924775685984312Sex2Female\n",
       ":   4.93964517580916\n",
       "\n"
      ],
      "text/plain": [
       "(Intercept)         Age  Sex2Female \n",
       "  5.1198252   0.9247757   4.9396452 "
      ]
     },
     "metadata": {},
     "output_type": "display_data"
    }
   ],
   "source": [
    "exp(coef(fitasf)) # odd ratios"
   ]
  },
  {
   "cell_type": "code",
   "execution_count": 19,
   "metadata": {},
   "outputs": [
    {
     "data": {
      "text/html": [
       "<table>\n",
       "<thead><tr><th></th><th scope=col>OR</th><th scope=col>2.5 %</th><th scope=col>97.5 %</th></tr></thead>\n",
       "<tbody>\n",
       "\t<tr><th scope=row>(Intercept)</th><td>5.1198252 </td><td>0.5811187 </td><td>45.1071530</td></tr>\n",
       "\t<tr><th scope=row>Age</th><td>0.9247757 </td><td>0.8596067 </td><td> 0.9948853</td></tr>\n",
       "\t<tr><th scope=row>Sex2Female</th><td>4.9396452 </td><td>1.1236716 </td><td>21.7146143</td></tr>\n",
       "</tbody>\n",
       "</table>\n"
      ],
      "text/latex": [
       "\\begin{tabular}{r|lll}\n",
       "  & OR & 2.5 \\% & 97.5 \\%\\\\\n",
       "\\hline\n",
       "\t(Intercept) & 5.1198252  & 0.5811187  & 45.1071530\\\\\n",
       "\tAge & 0.9247757  & 0.8596067  &  0.9948853\\\\\n",
       "\tSex2Female & 4.9396452  & 1.1236716  & 21.7146143\\\\\n",
       "\\end{tabular}\n"
      ],
      "text/markdown": [
       "\n",
       "| <!--/--> | OR | 2.5 % | 97.5 % |\n",
       "|---|---|---|---|\n",
       "| (Intercept) | 5.1198252  | 0.5811187  | 45.1071530 |\n",
       "| Age | 0.9247757  | 0.8596067  |  0.9948853 |\n",
       "| Sex2Female | 4.9396452  | 1.1236716  | 21.7146143 |\n",
       "\n"
      ],
      "text/plain": [
       "            OR        2.5 %     97.5 %    \n",
       "(Intercept) 5.1198252 0.5811187 45.1071530\n",
       "Age         0.9247757 0.8596067  0.9948853\n",
       "Sex2Female  4.9396452 1.1236716 21.7146143"
      ]
     },
     "metadata": {},
     "output_type": "display_data"
    }
   ],
   "source": [
    "exp(cbind(OR=coef(fitasf), confint.default(fitasf))) # Ci for odd ratios"
   ]
  },
  {
   "cell_type": "markdown",
   "metadata": {},
   "source": [
    "### Wald Chi-sq Procedures\n",
    "logistic regression inference on a single $\\beta$  \n",
    "- Hypotheses: $H_0:\\beta_j=0,H_a:\\beta_j\\neq 0$\n",
    "- Test statistic: $z=\\hat\\beta_j/se(\\hat\\beta_j)$, $\\hat\\beta_j$ is MLE for $\\beta_j$\n",
    "- By standard large-sample results, MLE's are normally distributed. Thus, for large $n$, under $H_0$, z is an observation from an approx. $N(0,1)$. Note that $Z^2\\sim \\chi_1$, we can use chisq for p-value\n",
    "- 95% CI: $\\hat\\beta_j \\pm 1.96se(\\hat\\beta_j)$\n",
    "\n",
    "Since the logistic function is monotonic, we can expand CI by doing monotonic transformation (e.x. multiplication and exp)"
   ]
  },
  {
   "cell_type": "code",
   "execution_count": 20,
   "metadata": {},
   "outputs": [
    {
     "data": {
      "text/plain": [
       "Wald test:\n",
       "----------\n",
       "\n",
       "Chi-squared test:\n",
       "X2 = 6.9, df = 2, P(> X2) = 0.032"
      ]
     },
     "metadata": {},
     "output_type": "display_data"
    }
   ],
   "source": [
    "# Wald test\n",
    "library(aod)\n",
    "wald.test(Sigma=vcov(fitasf), b=coef(fitasf), Terms=2:3)"
   ]
  },
  {
   "cell_type": "code",
   "execution_count": 21,
   "metadata": {},
   "outputs": [
    {
     "data": {
      "text/plain": [
       "Wald test:\n",
       "----------\n",
       "\n",
       "Chi-squared test:\n",
       "X2 = 2.9, df = 1, P(> X2) = 0.086"
      ]
     },
     "metadata": {},
     "output_type": "display_data"
    }
   ],
   "source": [
    "wald.test(Sigma=vcov(fitas), b=coef(fitas), Terms=4)"
   ]
  },
  {
   "cell_type": "markdown",
   "metadata": {},
   "source": [
    "### Model Assumptions\n",
    "- Underlying probability model for response is Bernoulli\n",
    "- Observations are independent\n",
    "- The form of the model is correct\n",
    " - Linear relationship between logits and explanatory variables\n",
    " - All relevant variables are included; irrelevant ones excluded\n",
    "- Sample size is large enough for valid inference\n",
    "\n",
    "B Logistic R vs. Linear R\n",
    "- both utilize MLR's for the $\\beta$'s\n",
    "- Less assumption to check for than in linear regression\n",
    " - No need to check for outliers\n",
    " - No residual plots\n",
    " - Variance is not constant\n",
    " \n",
    "Need to test\n",
    "- (designing aspect) Independence of observations \n",
    "- (inference) Form of the model: test higher-order terms such as non-linear in X, interaction, and higher order interaction"
   ]
  },
  {
   "cell_type": "markdown",
   "metadata": {},
   "source": [
    "**Wald cs. LRT test**\n",
    "- Walk test on single $\\beta = 0$, LRT find $k\\geq 1$ $\\beta$'s. \n",
    "- LRT compares nested models\n",
    "- LRT allow small to moderate sample sizes $\\beta$ near boundary of parameter space"
   ]
  },
  {
   "cell_type": "markdown",
   "metadata": {},
   "source": [
    "#### Comparing models: Likelihood Ratio Test\n",
    "- Idea: compare likelihood of data under Full model, $\\mathcal{L}_F$ to likelihood under REDUCED model $\\mathcal{L}_R$ of same data. the likelihood ratio $\\mathcal{L}_R/\\mathcal{L}F$ where $\\mathcal{L}_R\\leq \\mathcal{L}_F$\n",
    "- Hypothesis: $H_0:\\beta_1=...\\beta_k=0$ (Reduced model is appropriate, fits data as swll as Full model)$H_a:$ at least one of betas is not 0 (full model is better)\n",
    "- Test statistic: Deviance (residual)\n",
    "$$G^2 = -2\\log\\mathcal{L}_R - (-2\\log\\mathcal{L}_F)=-2\\log(\\mathcal{L}_R/\\mathcal{L}_F)\\sim \\chi^2_k$$\n",
    "For large $n$, under $H_0$, $G^2$ is an observation from a chi-square distribution with $k$ d.f."
   ]
  },
  {
   "cell_type": "markdown",
   "metadata": {},
   "source": [
    "#### Exercise\n",
    "Models \n",
    "\n",
    "$$log(\\frac{\\pi_i}{1-\\pi_i}) = \\\\(1) a_0+a_1Age_i+a_2I_{Female, i}\\\\ (2) \\beta_0 +\\beta_1Age_i+\\beta_2 I_{female_i,i} + \\beta_3Age_i*I_{female,i}+\\beta_4Age_i^2 + \\beta_5Age_i^2*I_{Female, i} \\\\(3) \\gamma_0 + \\gamma_1Age_i + \\gamma_2I_{Female, i} + \\gamma_3Age_i *I_{Female, i}$$"
   ]
  },
  {
   "cell_type": "code",
   "execution_count": 28,
   "metadata": {
    "scrolled": false
   },
   "outputs": [
    {
     "data": {
      "text/plain": [
       "\n",
       "Call:\n",
       "glm(formula = Status ~ Age + Sex, family = binomial, data = donner)\n",
       "\n",
       "Deviance Residuals: \n",
       "    Min       1Q   Median       3Q      Max  \n",
       "-1.7445  -1.0441  -0.3029   0.8877   2.0472  \n",
       "\n",
       "Coefficients:\n",
       "            Estimate Std. Error z value Pr(>|z|)  \n",
       "(Intercept)  1.63312    1.11018   1.471   0.1413  \n",
       "Age         -0.07820    0.03728  -2.097   0.0359 *\n",
       "SexFemale    1.59729    0.75547   2.114   0.0345 *\n",
       "---\n",
       "Signif. codes:  0 '***' 0.001 '**' 0.01 '*' 0.05 '.' 0.1 ' ' 1\n",
       "\n",
       "(Dispersion parameter for binomial family taken to be 1)\n",
       "\n",
       "    Null deviance: 61.827  on 44  degrees of freedom\n",
       "Residual deviance: 51.256  on 42  degrees of freedom\n",
       "AIC: 57.256\n",
       "\n",
       "Number of Fisher Scoring iterations: 4\n"
      ]
     },
     "metadata": {},
     "output_type": "display_data"
    }
   ],
   "source": [
    "# additive model (model 1)\n",
    "fitadd <- glm(Status~Age + Sex, family=binomial, donner)\n",
    "summary(fitadd)"
   ]
  },
  {
   "cell_type": "code",
   "execution_count": 27,
   "metadata": {
    "scrolled": false
   },
   "outputs": [
    {
     "data": {
      "text/plain": [
       "\n",
       "Call:\n",
       "glm(formula = Status ~ Age + Sex + Age:Sex + I(Age^2) + I(Age^2):Sex, \n",
       "    family = binomial, data = donner)\n",
       "\n",
       "Deviance Residuals: \n",
       "    Min       1Q   Median       3Q      Max  \n",
       "-2.3396  -0.9757  -0.3438   0.5269   1.5901  \n",
       "\n",
       "Coefficients:\n",
       "                    Estimate Std. Error z value Pr(>|z|)\n",
       "(Intercept)        -3.318484   3.940184  -0.842    0.400\n",
       "Age                 0.183031   0.226632   0.808    0.419\n",
       "SexFemale           0.265286  10.455222   0.025    0.980\n",
       "I(Age^2)           -0.002803   0.002985  -0.939    0.348\n",
       "Age:SexFemale       0.299877   0.696050   0.431    0.667\n",
       "SexFemale:I(Age^2) -0.007356   0.010689  -0.688    0.491\n",
       "\n",
       "(Dispersion parameter for binomial family taken to be 1)\n",
       "\n",
       "    Null deviance: 61.827  on 44  degrees of freedom\n",
       "Residual deviance: 45.361  on 39  degrees of freedom\n",
       "AIC: 57.361\n",
       "\n",
       "Number of Fisher Scoring iterations: 5\n"
      ]
     },
     "metadata": {},
     "output_type": "display_data"
    }
   ],
   "source": [
    "# full model (model 2)\n",
    "fitfull <- glm(Status~Age + Sex + Age: Sex + I(Age^2) + I(Age^2):Sex, \n",
    "               family=binomial, donner)\n",
    "summary(fitfull)"
   ]
  },
  {
   "cell_type": "code",
   "execution_count": 34,
   "metadata": {},
   "outputs": [
    {
     "data": {
      "text/plain": [
       "\n",
       "Call:\n",
       "glm(formula = Status ~ Age * Sex, family = binomial, data = donner)\n",
       "\n",
       "Deviance Residuals: \n",
       "    Min       1Q   Median       3Q      Max  \n",
       "-2.2279  -0.9388  -0.5550   0.7794   1.6998  \n",
       "\n",
       "Coefficients:\n",
       "              Estimate Std. Error z value Pr(>|z|)  \n",
       "(Intercept)    0.31834    1.13103   0.281   0.7784  \n",
       "Age           -0.03248    0.03527  -0.921   0.3571  \n",
       "SexFemale      6.92805    3.39887   2.038   0.0415 *\n",
       "Age:SexFemale -0.16160    0.09426  -1.714   0.0865 .\n",
       "---\n",
       "Signif. codes:  0 '***' 0.001 '**' 0.01 '*' 0.05 '.' 0.1 ' ' 1\n",
       "\n",
       "(Dispersion parameter for binomial family taken to be 1)\n",
       "\n",
       "    Null deviance: 61.827  on 44  degrees of freedom\n",
       "Residual deviance: 47.346  on 41  degrees of freedom\n",
       "AIC: 55.346\n",
       "\n",
       "Number of Fisher Scoring iterations: 5\n"
      ]
     },
     "metadata": {},
     "output_type": "display_data"
    }
   ],
   "source": [
    "# interative model (model 3)\n",
    "fitint <- glm(Status~Age*Sex, family=binomial, donner)\n",
    "summary(fitint)"
   ]
  },
  {
   "cell_type": "code",
   "execution_count": 32,
   "metadata": {},
   "outputs": [
    {
     "data": {
      "text/html": [
       "0.11683196297711"
      ],
      "text/latex": [
       "0.11683196297711"
      ],
      "text/markdown": [
       "0.11683196297711"
      ],
      "text/plain": [
       "[1] 0.116832"
      ]
     },
     "metadata": {},
     "output_type": "display_data"
    }
   ],
   "source": [
    "# p-value for model2 vs. model1\n",
    "1 - pchisq(5.895, 3)"
   ]
  },
  {
   "cell_type": "markdown",
   "metadata": {},
   "source": [
    "Q1 - Using R output determine whether a model with the 3 higher order polynomial terms and interaction term is an improvement over the additive model\n",
    "\n",
    "\n",
    "Higher order interaction vs. additive\n",
    "Hypotheses: $H_0:\\beta_3=\\beta_4=\\beta_5 = 0$\n",
    "\n",
    "Test statistic $G^2 = 51.256 - 45.361 = 5.895\\sim \\chi^2_3$\n",
    "\n",
    "p-value: 0.12\n",
    "\n",
    "Conclusion: There is some evidence that the additive model is better than the higher order model\n"
   ]
  },
  {
   "cell_type": "markdown",
   "metadata": {},
   "source": [
    "Q2 - determine whether the effect of Age on the odds of survival differ with Sex\n",
    "\n",
    "Hypothesis: $H_0: \\gamma_3 = 0$\n",
    "\n",
    "Test statistic (LRT): $51.256 - 47.346 = 3.91\\sim \\chi^2_1$\n",
    "\n",
    "p-value(LRT): 0.048\n",
    "\n",
    "Test statistic (Wald): $-0.16160/0.09426 = -1.71\\sim N(0,1)$\n",
    "\n",
    "p-value(Wald): 0.0865\n",
    " \n",
    "(Shown in R-output)\n",
    "\n",
    "Conclusion: There is inconclusive evidence that the interactive model is better than the additive model"
   ]
  },
  {
   "cell_type": "code",
   "execution_count": 43,
   "metadata": {},
   "outputs": [
    {
     "data": {
      "text/html": [
       "0.0479995973077516"
      ],
      "text/latex": [
       "0.0479995973077516"
      ],
      "text/markdown": [
       "0.0479995973077516"
      ],
      "text/plain": [
       "[1] 0.0479996"
      ]
     },
     "metadata": {},
     "output_type": "display_data"
    }
   ],
   "source": [
    "# p-value for Q2 LRT\n",
    "1 - pchisq(51.256-47.346, 1)"
   ]
  },
  {
   "cell_type": "markdown",
   "metadata": {},
   "source": [
    "Q3 - determine whether or not the additive model fits better then the Null model\n",
    "\n",
    "Hypothesis: $H_0: a_i = 0, i\\neq 0$\n",
    "\n",
    "Test statistic: $G^2 = 61.827 - 51.256=10.571\\sim \\chi_2^2$\n",
    "\n",
    "p-value: 0.005\n",
    "\n",
    "Conclusion: There is strong evidence that age and sex are relevant factors for estimating the odds of survival"
   ]
  },
  {
   "cell_type": "code",
   "execution_count": 46,
   "metadata": {},
   "outputs": [
    {
     "data": {
      "text/html": [
       "0.00506449930534014"
      ],
      "text/latex": [
       "0.00506449930534014"
      ],
      "text/markdown": [
       "0.00506449930534014"
      ],
      "text/plain": [
       "[1] 0.005064499"
      ]
     },
     "metadata": {},
     "output_type": "display_data"
    }
   ],
   "source": [
    "# p-value for Q3\n",
    "1 - pchisq(61.827-51.256, 2)"
   ]
  },
  {
   "cell_type": "markdown",
   "metadata": {},
   "source": [
    "#### AIC & BIC\n",
    "Akaike's Information Criterion  \n",
    "$AIC=-2log\\mathcal{L}+2(p+1)$  \n",
    "Schwarz's (Bayesian Information) Criterion  \n",
    "$-2log\\mathcal{L}+(p+1)\\log N$  \n",
    "$p$ number of variables, $N$ sample size\n",
    "\n",
    "Smaller means better model fit  \n",
    "BIC applies stronger penalty for model complexity than AIC\n",
    "\n",
    "AIC Rule of Thumb: one model fits better if $diff(AIC) > 10$, equivalent if $diff(AIC)<2$\n",
    "\n",
    "For the example, we can choose the simplest additive model\n",
    "\n"
   ]
  },
  {
   "cell_type": "markdown",
   "metadata": {},
   "source": [
    "#### Estimated probability of survival"
   ]
  },
  {
   "cell_type": "code",
   "execution_count": 49,
   "metadata": {},
   "outputs": [
    {
     "data": {
      "text/html": [
       "<dl class=dl-horizontal>\n",
       "\t<dt>1</dt>\n",
       "\t\t<dd>0.458700966259221</dd>\n",
       "\t<dt>2</dt>\n",
       "\t\t<dd>0.525540478323231</dd>\n",
       "\t<dt>3</dt>\n",
       "\t\t<dd>0.183166067768785</dd>\n",
       "\t<dt>4</dt>\n",
       "\t\t<dd>0.328935876664949</dd>\n",
       "\t<dt>5</dt>\n",
       "\t\t<dd>0.364335972178779</dd>\n",
       "</dl>\n"
      ],
      "text/latex": [
       "\\begin{description*}\n",
       "\\item[1] 0.458700966259221\n",
       "\\item[2] 0.525540478323231\n",
       "\\item[3] 0.183166067768785\n",
       "\\item[4] 0.328935876664949\n",
       "\\item[5] 0.364335972178779\n",
       "\\end{description*}\n"
      ],
      "text/markdown": [
       "1\n",
       ":   0.4587009662592212\n",
       ":   0.5255404783232313\n",
       ":   0.1831660677687854\n",
       ":   0.3289358766649495\n",
       ":   0.364335972178779\n",
       "\n"
      ],
      "text/plain": [
       "        1         2         3         4         5 \n",
       "0.4587010 0.5255405 0.1831661 0.3289359 0.3643360 "
      ]
     },
     "metadata": {},
     "output_type": "display_data"
    }
   ],
   "source": [
    "phats <- predict.glm(fitasf, type=\"response\")\n",
    "phats[1:5]"
   ]
  },
  {
   "cell_type": "code",
   "execution_count": 57,
   "metadata": {},
   "outputs": [
    {
     "data": {
      "image/png": "[encoded data removed]",
      "text/plain": [
       "plot without title"
      ]
     },
     "metadata": {},
     "output_type": "display_data"
    }
   ],
   "source": [
    "library(ggplot2)\n",
    "ggplot(donner, aes(x=Age, y=Status, color=Sex))+geom_point()"
   ]
  },
  {
   "cell_type": "code",
   "execution_count": 59,
   "metadata": {
    "scrolled": true
   },
   "outputs": [
    {
     "data": {
      "image/png": "[encoded data removed]",
      "text/plain": [
       "plot without title"
      ]
     },
     "metadata": {},
     "output_type": "display_data"
    }
   ],
   "source": [
    "ggplot(donner, aes(x=Age, y=phats)) + ylab(\"Estimated Probablities\")+geom_line(aes(color=Sex), size=1)"
   ]
  }
 ],
 "metadata": {
  "hide_input": false,
  "kernelspec": {
   "display_name": "R",
   "language": "R",
   "name": "ir"
  },
  "language_info": {
   "codemirror_mode": "r",
   "file_extension": ".r",
   "mimetype": "text/x-r-source",
   "name": "R",
   "pygments_lexer": "r",
   "version": "3.5.2"
  }
 },
 "nbformat": 4,
 "nbformat_minor": 2
}
