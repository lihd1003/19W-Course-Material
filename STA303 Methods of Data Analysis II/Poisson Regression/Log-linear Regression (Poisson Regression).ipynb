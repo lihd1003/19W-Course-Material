{
 "cells": [
  {
   "cell_type": "markdown",
   "metadata": {},
   "source": [
    "#### Case Study: Mating Success of Elephants\n",
    "Predictor: Age: age at beginning in years (range from 27-52)  \n",
    "Outcome: Matings: #successful matings\n",
    "\n",
    "Question: \n",
    "- What's the relationship between mating success and age?\n",
    "- Do males have diminished success after reaching some optimal age?"
   ]
  },
  {
   "cell_type": "code",
   "execution_count": 4,
   "metadata": {},
   "outputs": [],
   "source": [
    "# load data\n",
    "library(Sleuth3)\n",
    "elmasu = case2201\n",
    "Age = elmasu$Age\n",
    "Matings = elmasu$Matings"
   ]
  },
  {
   "cell_type": "code",
   "execution_count": 5,
   "metadata": {
    "scrolled": false
   },
   "outputs": [
    {
     "data": {
      "image/png": "[encoded data removed]",
      "text/plain": [
       "plot without title"
      ]
     },
     "metadata": {},
     "output_type": "display_data"
    }
   ],
   "source": [
    "plot(Age, Matings)"
   ]
  },
  {
   "cell_type": "markdown",
   "metadata": {},
   "source": [
    "**Why not Linear Regression**\n",
    "- outcome is counts and small numbers\n",
    "- won't have a normal distribution conditional on age"
   ]
  },
  {
   "cell_type": "markdown",
   "metadata": {},
   "source": [
    "#### Poisson distribution\n",
    "Useful for counts of rare events\n",
    "\n",
    "Poisson link function: $g(\\mu)=log(\\mu)$, also called a log-linear model\n",
    "\n",
    "Interpretation of $\\beta$'s: Increase $x_j$ by one unit, and holding other predictors constant, $\\mu_j$ changes by a factor of $e^{\\beta_j}$\n",
    "\n",
    "Then, $\\mu = e^{X\\beta}$\n",
    "\n",
    "Estimation method: MLE by IRLS algorithm\n",
    "\n",
    "Inference: Wald procedures and likelihood ratio test (as in logistic regression)"
   ]
  },
  {
   "cell_type": "markdown",
   "metadata": {},
   "source": [
    "**Checking Model Adequacy**\n",
    "(similar to binomial logistic regression)\n",
    "- Linear in $\\beta$'s: Plot $\\log(y_i)$ vs. $x$'s to see if linear relationship is appropriate. Jitter if many $y_i = 0$ (by using $\\log(y_i+k),k$ is a small positive value)\n",
    "- Outliers: Deviance and Pearson residuals \n",
    "- Correct form: Wald $(\\hat\\beta_j/se(\\hat\\beta_j)^2\\sim \\chi^2_{p+1})$ and LRT tests\n",
    "- Adequate: Deviance GOF test\n",
    "\n",
    "Common problem: $var(Y_i) > E(Y_i)$  \n",
    "Solution: add an extra dispersion\n"
   ]
  },
  {
   "cell_type": "markdown",
   "metadata": {},
   "source": [
    "**Model log likelihood**\n",
    "$$\\mathcal{L} = \\prod_1^n P(Y_i=y_i)=\\prod_1^n \\frac{e^{-\\mu_i}\\mu_i^{y_i}}{y_i!}$$\n",
    "\n",
    "$$\\log\\mathcal{L}=\\sum_1^n (-\\mu_i + y_i\\log(\\mu_i)-\\log(y_i!))$$\n",
    "\n",
    "Since $\\log(y_i)$ is a constant for $\\mu_i$, we can drop it when maximizing likelihood.\n"
   ]
  },
  {
   "cell_type": "code",
   "execution_count": 8,
   "metadata": {},
   "outputs": [
    {
     "data": {
      "text/plain": [
       "\n",
       "Call:\n",
       "glm(formula = Matings ~ Age, family = poisson)\n",
       "\n",
       "Deviance Residuals: \n",
       "     Min        1Q    Median        3Q       Max  \n",
       "-2.80798  -0.86137  -0.08629   0.60087   2.17777  \n",
       "\n",
       "Coefficients:\n",
       "            Estimate Std. Error z value Pr(>|z|)    \n",
       "(Intercept) -1.58201    0.54462  -2.905  0.00368 ** \n",
       "Age          0.06869    0.01375   4.997 5.81e-07 ***\n",
       "---\n",
       "Signif. codes:  0 '***' 0.001 '**' 0.01 '*' 0.05 '.' 0.1 ' ' 1\n",
       "\n",
       "(Dispersion parameter for poisson family taken to be 1)\n",
       "\n",
       "    Null deviance: 75.372  on 40  degrees of freedom\n",
       "Residual deviance: 51.012  on 39  degrees of freedom\n",
       "AIC: 156.46\n",
       "\n",
       "Number of Fisher Scoring iterations: 5\n"
      ]
     },
     "metadata": {},
     "output_type": "display_data"
    }
   ],
   "source": [
    "fitllm = glm(Matings~Age, family=poisson)\n",
    "summary(fitllm)"
   ]
  },
  {
   "cell_type": "code",
   "execution_count": 9,
   "metadata": {},
   "outputs": [
    {
     "data": {
      "image/png": "[encoded data removed]",
      "text/plain": [
       "plot without title"
      ]
     },
     "metadata": {},
     "output_type": "display_data"
    }
   ],
   "source": [
    "plot(Age, log(Matings + 1))\n",
    "abline(fitllm$coefficients[1], fitllm$coefficients[2])"
   ]
  },
  {
   "cell_type": "code",
   "execution_count": 10,
   "metadata": {
    "scrolled": false
   },
   "outputs": [
    {
     "data": {
      "text/plain": [
       "\n",
       "Call:\n",
       "glm(formula = Matings ~ Age + I(Age^2), family = poisson)\n",
       "\n",
       "Deviance Residuals: \n",
       "    Min       1Q   Median       3Q      Max  \n",
       "-2.8470  -0.8848  -0.1122   0.6580   2.1134  \n",
       "\n",
       "Coefficients:\n",
       "              Estimate Std. Error z value Pr(>|z|)\n",
       "(Intercept) -2.8574060  3.0356383  -0.941    0.347\n",
       "Age          0.1359544  0.1580095   0.860    0.390\n",
       "I(Age^2)    -0.0008595  0.0020124  -0.427    0.669\n",
       "\n",
       "(Dispersion parameter for poisson family taken to be 1)\n",
       "\n",
       "    Null deviance: 75.372  on 40  degrees of freedom\n",
       "Residual deviance: 50.826  on 38  degrees of freedom\n",
       "AIC: 158.27\n",
       "\n",
       "Number of Fisher Scoring iterations: 5\n"
      ]
     },
     "metadata": {},
     "output_type": "display_data"
    }
   ],
   "source": [
    "fitllm2 = glm(Matings~Age+I(Age^2), family=poisson)\n",
    "summary(fitllm2)"
   ]
  },
  {
   "cell_type": "code",
   "execution_count": 11,
   "metadata": {},
   "outputs": [
    {
     "name": "stdout",
     "output_type": "stream",
     "text": [
      "[1] 156.4578\n",
      "[1] 159.8849\n",
      "[1] 158.2723\n",
      "[1] 163.4131\n"
     ]
    }
   ],
   "source": [
    "print(AIC(fitllm))\n",
    "print(BIC(fitllm))\n",
    "print(AIC(fitllm2))\n",
    "print(BIC(fitllm2))"
   ]
  },
  {
   "cell_type": "code",
   "execution_count": 39,
   "metadata": {
    "scrolled": true
   },
   "outputs": [
    {
     "data": {
      "text/html": [
       "<table>\n",
       "<thead><tr><th scope=col>Matings</th><th scope=col>yhats</th><th scope=col>rres</th></tr></thead>\n",
       "<tbody>\n",
       "\t<tr><td>0          </td><td>1.313503   </td><td>-1.31350336</td></tr>\n",
       "\t<tr><td>1          </td><td>1.406903   </td><td>-0.40690281</td></tr>\n",
       "\t<tr><td>1          </td><td>1.406903   </td><td>-0.40690281</td></tr>\n",
       "\t<tr><td>1          </td><td>1.406903   </td><td>-0.40690281</td></tr>\n",
       "\t<tr><td>3          </td><td>1.406903   </td><td> 1.59309719</td></tr>\n",
       "\t<tr><td>0          </td><td>1.506944   </td><td>-1.50694362</td></tr>\n",
       "\t<tr><td>0          </td><td>1.506944   </td><td>-1.50694362</td></tr>\n",
       "\t<tr><td>0          </td><td>1.506944   </td><td>-1.50694362</td></tr>\n",
       "\t<tr><td>2          </td><td>1.506944   </td><td> 0.49305638</td></tr>\n",
       "\t<tr><td>2          </td><td>1.506944   </td><td> 0.49305638</td></tr>\n",
       "\t<tr><td>2          </td><td>1.506944   </td><td> 0.49305638</td></tr>\n",
       "\t<tr><td>1          </td><td>1.614098   </td><td>-0.61409805</td></tr>\n",
       "\t<tr><td>2          </td><td>1.851807   </td><td> 0.14819297</td></tr>\n",
       "\t<tr><td>4          </td><td>1.983484   </td><td> 2.01651630</td></tr>\n",
       "\t<tr><td>3          </td><td>1.983484   </td><td> 1.01651630</td></tr>\n",
       "\t<tr><td>3          </td><td>1.983484   </td><td> 1.01651630</td></tr>\n",
       "\t<tr><td>3          </td><td>1.983484   </td><td> 1.01651630</td></tr>\n",
       "\t<tr><td>2          </td><td>1.983484   </td><td> 0.01651630</td></tr>\n",
       "\t<tr><td>1          </td><td>2.124524   </td><td>-1.12452352</td></tr>\n",
       "\t<tr><td>1          </td><td>2.124524   </td><td>-1.12452352</td></tr>\n",
       "\t<tr><td>2          </td><td>2.124524   </td><td>-0.12452352</td></tr>\n",
       "\t<tr><td>3          </td><td>2.124524   </td><td> 0.87547648</td></tr>\n",
       "\t<tr><td>5          </td><td>2.437403   </td><td> 2.56259689</td></tr>\n",
       "\t<tr><td>6          </td><td>2.437403   </td><td> 3.56259689</td></tr>\n",
       "\t<tr><td>1          </td><td>2.610720   </td><td>-1.61071983</td></tr>\n",
       "\t<tr><td>1          </td><td>2.610720   </td><td>-1.61071983</td></tr>\n",
       "\t<tr><td>6          </td><td>2.610720   </td><td> 3.38928017</td></tr>\n",
       "\t<tr><td>2          </td><td>2.796361   </td><td>-0.79636061</td></tr>\n",
       "\t<tr><td>1          </td><td>2.995202   </td><td>-1.99520177</td></tr>\n",
       "\t<tr><td>3          </td><td>3.436307   </td><td>-0.43630655</td></tr>\n",
       "\t<tr><td>4          </td><td>3.680652   </td><td> 0.31934757</td></tr>\n",
       "\t<tr><td>0          </td><td>3.942373   </td><td>-3.94237304</td></tr>\n",
       "\t<tr><td>2          </td><td>3.942373   </td><td>-1.94237304</td></tr>\n",
       "\t<tr><td>3          </td><td>3.942373   </td><td>-0.94237304</td></tr>\n",
       "\t<tr><td>4          </td><td>3.942373   </td><td> 0.05762696</td></tr>\n",
       "\t<tr><td>9          </td><td>3.942373   </td><td> 5.05762696</td></tr>\n",
       "\t<tr><td>3          </td><td>4.222704   </td><td>-1.22270385</td></tr>\n",
       "\t<tr><td>5          </td><td>4.522968   </td><td> 0.47703182</td></tr>\n",
       "\t<tr><td>7          </td><td>5.189068   </td><td> 1.81093216</td></tr>\n",
       "\t<tr><td>2          </td><td>5.558048   </td><td>-3.55804753</td></tr>\n",
       "\t<tr><td>9          </td><td>7.315666   </td><td> 1.68433367</td></tr>\n",
       "</tbody>\n",
       "</table>\n"
      ],
      "text/latex": [
       "\\begin{tabular}{r|lll}\n",
       " Matings & yhats & rres\\\\\n",
       "\\hline\n",
       "\t 0           & 1.313503    & -1.31350336\\\\\n",
       "\t 1           & 1.406903    & -0.40690281\\\\\n",
       "\t 1           & 1.406903    & -0.40690281\\\\\n",
       "\t 1           & 1.406903    & -0.40690281\\\\\n",
       "\t 3           & 1.406903    &  1.59309719\\\\\n",
       "\t 0           & 1.506944    & -1.50694362\\\\\n",
       "\t 0           & 1.506944    & -1.50694362\\\\\n",
       "\t 0           & 1.506944    & -1.50694362\\\\\n",
       "\t 2           & 1.506944    &  0.49305638\\\\\n",
       "\t 2           & 1.506944    &  0.49305638\\\\\n",
       "\t 2           & 1.506944    &  0.49305638\\\\\n",
       "\t 1           & 1.614098    & -0.61409805\\\\\n",
       "\t 2           & 1.851807    &  0.14819297\\\\\n",
       "\t 4           & 1.983484    &  2.01651630\\\\\n",
       "\t 3           & 1.983484    &  1.01651630\\\\\n",
       "\t 3           & 1.983484    &  1.01651630\\\\\n",
       "\t 3           & 1.983484    &  1.01651630\\\\\n",
       "\t 2           & 1.983484    &  0.01651630\\\\\n",
       "\t 1           & 2.124524    & -1.12452352\\\\\n",
       "\t 1           & 2.124524    & -1.12452352\\\\\n",
       "\t 2           & 2.124524    & -0.12452352\\\\\n",
       "\t 3           & 2.124524    &  0.87547648\\\\\n",
       "\t 5           & 2.437403    &  2.56259689\\\\\n",
       "\t 6           & 2.437403    &  3.56259689\\\\\n",
       "\t 1           & 2.610720    & -1.61071983\\\\\n",
       "\t 1           & 2.610720    & -1.61071983\\\\\n",
       "\t 6           & 2.610720    &  3.38928017\\\\\n",
       "\t 2           & 2.796361    & -0.79636061\\\\\n",
       "\t 1           & 2.995202    & -1.99520177\\\\\n",
       "\t 3           & 3.436307    & -0.43630655\\\\\n",
       "\t 4           & 3.680652    &  0.31934757\\\\\n",
       "\t 0           & 3.942373    & -3.94237304\\\\\n",
       "\t 2           & 3.942373    & -1.94237304\\\\\n",
       "\t 3           & 3.942373    & -0.94237304\\\\\n",
       "\t 4           & 3.942373    &  0.05762696\\\\\n",
       "\t 9           & 3.942373    &  5.05762696\\\\\n",
       "\t 3           & 4.222704    & -1.22270385\\\\\n",
       "\t 5           & 4.522968    &  0.47703182\\\\\n",
       "\t 7           & 5.189068    &  1.81093216\\\\\n",
       "\t 2           & 5.558048    & -3.55804753\\\\\n",
       "\t 9           & 7.315666    &  1.68433367\\\\\n",
       "\\end{tabular}\n"
      ],
      "text/markdown": [
       "\n",
       "| Matings | yhats | rres |\n",
       "|---|---|---|\n",
       "| 0           | 1.313503    | -1.31350336 |\n",
       "| 1           | 1.406903    | -0.40690281 |\n",
       "| 1           | 1.406903    | -0.40690281 |\n",
       "| 1           | 1.406903    | -0.40690281 |\n",
       "| 3           | 1.406903    |  1.59309719 |\n",
       "| 0           | 1.506944    | -1.50694362 |\n",
       "| 0           | 1.506944    | -1.50694362 |\n",
       "| 0           | 1.506944    | -1.50694362 |\n",
       "| 2           | 1.506944    |  0.49305638 |\n",
       "| 2           | 1.506944    |  0.49305638 |\n",
       "| 2           | 1.506944    |  0.49305638 |\n",
       "| 1           | 1.614098    | -0.61409805 |\n",
       "| 2           | 1.851807    |  0.14819297 |\n",
       "| 4           | 1.983484    |  2.01651630 |\n",
       "| 3           | 1.983484    |  1.01651630 |\n",
       "| 3           | 1.983484    |  1.01651630 |\n",
       "| 3           | 1.983484    |  1.01651630 |\n",
       "| 2           | 1.983484    |  0.01651630 |\n",
       "| 1           | 2.124524    | -1.12452352 |\n",
       "| 1           | 2.124524    | -1.12452352 |\n",
       "| 2           | 2.124524    | -0.12452352 |\n",
       "| 3           | 2.124524    |  0.87547648 |\n",
       "| 5           | 2.437403    |  2.56259689 |\n",
       "| 6           | 2.437403    |  3.56259689 |\n",
       "| 1           | 2.610720    | -1.61071983 |\n",
       "| 1           | 2.610720    | -1.61071983 |\n",
       "| 6           | 2.610720    |  3.38928017 |\n",
       "| 2           | 2.796361    | -0.79636061 |\n",
       "| 1           | 2.995202    | -1.99520177 |\n",
       "| 3           | 3.436307    | -0.43630655 |\n",
       "| 4           | 3.680652    |  0.31934757 |\n",
       "| 0           | 3.942373    | -3.94237304 |\n",
       "| 2           | 3.942373    | -1.94237304 |\n",
       "| 3           | 3.942373    | -0.94237304 |\n",
       "| 4           | 3.942373    |  0.05762696 |\n",
       "| 9           | 3.942373    |  5.05762696 |\n",
       "| 3           | 4.222704    | -1.22270385 |\n",
       "| 5           | 4.522968    |  0.47703182 |\n",
       "| 7           | 5.189068    |  1.81093216 |\n",
       "| 2           | 5.558048    | -3.55804753 |\n",
       "| 9           | 7.315666    |  1.68433367 |\n",
       "\n"
      ],
      "text/plain": [
       "   Matings yhats    rres       \n",
       "1  0       1.313503 -1.31350336\n",
       "2  1       1.406903 -0.40690281\n",
       "3  1       1.406903 -0.40690281\n",
       "4  1       1.406903 -0.40690281\n",
       "5  3       1.406903  1.59309719\n",
       "6  0       1.506944 -1.50694362\n",
       "7  0       1.506944 -1.50694362\n",
       "8  0       1.506944 -1.50694362\n",
       "9  2       1.506944  0.49305638\n",
       "10 2       1.506944  0.49305638\n",
       "11 2       1.506944  0.49305638\n",
       "12 1       1.614098 -0.61409805\n",
       "13 2       1.851807  0.14819297\n",
       "14 4       1.983484  2.01651630\n",
       "15 3       1.983484  1.01651630\n",
       "16 3       1.983484  1.01651630\n",
       "17 3       1.983484  1.01651630\n",
       "18 2       1.983484  0.01651630\n",
       "19 1       2.124524 -1.12452352\n",
       "20 1       2.124524 -1.12452352\n",
       "21 2       2.124524 -0.12452352\n",
       "22 3       2.124524  0.87547648\n",
       "23 5       2.437403  2.56259689\n",
       "24 6       2.437403  3.56259689\n",
       "25 1       2.610720 -1.61071983\n",
       "26 1       2.610720 -1.61071983\n",
       "27 6       2.610720  3.38928017\n",
       "28 2       2.796361 -0.79636061\n",
       "29 1       2.995202 -1.99520177\n",
       "30 3       3.436307 -0.43630655\n",
       "31 4       3.680652  0.31934757\n",
       "32 0       3.942373 -3.94237304\n",
       "33 2       3.942373 -1.94237304\n",
       "34 3       3.942373 -0.94237304\n",
       "35 4       3.942373  0.05762696\n",
       "36 9       3.942373  5.05762696\n",
       "37 3       4.222704 -1.22270385\n",
       "38 5       4.522968  0.47703182\n",
       "39 7       5.189068  1.81093216\n",
       "40 2       5.558048 -3.55804753\n",
       "41 9       7.315666  1.68433367"
      ]
     },
     "metadata": {},
     "output_type": "display_data"
    }
   ],
   "source": [
    "yhats = predict.glm(fitllm, type=\"response\")\n",
    "rres = residuals(fitllm, type=\"response\")\n",
    "pres = residuals(fitllm, type=\"pearson\")\n",
    "dres = residuals(fitllm, type=\"deviance\")\n",
    "cbind(Matings, yhats, rres)"
   ]
  },
  {
   "cell_type": "code",
   "execution_count": 20,
   "metadata": {
    "scrolled": false
   },
   "outputs": [
    {
     "data": {
      "image/png": "[encoded data removed]",
      "text/plain": [
       "Plot with title \"Deviance Residuals\""
      ]
     },
     "metadata": {},
     "output_type": "display_data"
    }
   ],
   "source": [
    "par(mfrow=c(1,2))\n",
    "plot(Age, pres, main=\"Pearson Residuals\")\n",
    "plot(Age, dres, main=\"Deviance Residuals\")"
   ]
  },
  {
   "cell_type": "code",
   "execution_count": 22,
   "metadata": {},
   "outputs": [
    {
     "data": {
      "text/plain": [
       "\n",
       "Call:\n",
       "glm(formula = Matings ~ Age, family = poisson)\n",
       "\n",
       "Deviance Residuals: \n",
       "     Min        1Q    Median        3Q       Max  \n",
       "-2.80798  -0.86137  -0.08629   0.60087   2.17777  \n",
       "\n",
       "Coefficients:\n",
       "            Estimate Std. Error z value Pr(>|z|)    \n",
       "(Intercept) -1.58201    0.58590  -2.700  0.00693 ** \n",
       "Age          0.06869    0.01479   4.645  3.4e-06 ***\n",
       "---\n",
       "Signif. codes:  0 '***' 0.001 '**' 0.01 '*' 0.05 '.' 0.1 ' ' 1\n",
       "\n",
       "(Dispersion parameter for poisson family taken to be 1.157334)\n",
       "\n",
       "    Null deviance: 75.372  on 40  degrees of freedom\n",
       "Residual deviance: 51.012  on 39  degrees of freedom\n",
       "AIC: 156.46\n",
       "\n",
       "Number of Fisher Scoring iterations: 5\n"
      ]
     },
     "metadata": {},
     "output_type": "display_data"
    }
   ],
   "source": [
    "psihat = sum(pres^2 / fitllm$df.residual)\n",
    "summary(fitllm, dispersion=psihat)"
   ]
  },
  {
   "cell_type": "code",
   "execution_count": 23,
   "metadata": {},
   "outputs": [
    {
     "data": {
      "text/plain": [
       "\n",
       "Call:\n",
       "lm(formula = Matings ~ Age)\n",
       "\n",
       "Residuals:\n",
       "    Min      1Q  Median      3Q     Max \n",
       "-4.1158 -1.3087 -0.1082  0.8892  4.8842 \n",
       "\n",
       "Coefficients:\n",
       "            Estimate Std. Error t value Pr(>|t|)    \n",
       "(Intercept) -4.50589    1.61899  -2.783  0.00826 ** \n",
       "Age          0.20050    0.04443   4.513 5.75e-05 ***\n",
       "---\n",
       "Signif. codes:  0 '***' 0.001 '**' 0.01 '*' 0.05 '.' 0.1 ' ' 1\n",
       "\n",
       "Residual standard error: 1.849 on 39 degrees of freedom\n",
       "Multiple R-squared:  0.343,\tAdjusted R-squared:  0.3262 \n",
       "F-statistic: 20.36 on 1 and 39 DF,  p-value: 5.749e-05\n"
      ]
     },
     "metadata": {},
     "output_type": "display_data"
    }
   ],
   "source": [
    "fitlm = lm(Matings~Age)\n",
    "summary(fitlm)"
   ]
  },
  {
   "cell_type": "code",
   "execution_count": 28,
   "metadata": {},
   "outputs": [
    {
     "data": {
      "text/plain": [
       "\n",
       "Call:\n",
       "lm(formula = log(Matings + 1) ~ Age)\n",
       "\n",
       "Residuals:\n",
       "     Min       1Q   Median       3Q      Max \n",
       "-1.49087 -0.33939  0.06607  0.35376  0.81171 \n",
       "\n",
       "Coefficients:\n",
       "            Estimate Std. Error t value Pr(>|t|)    \n",
       "(Intercept) -0.69893    0.45861  -1.524 0.135567    \n",
       "Age          0.05093    0.01259   4.046 0.000238 ***\n",
       "---\n",
       "Signif. codes:  0 '***' 0.001 '**' 0.01 '*' 0.05 '.' 0.1 ' ' 1\n",
       "\n",
       "Residual standard error: 0.5237 on 39 degrees of freedom\n",
       "Multiple R-squared:  0.2957,\tAdjusted R-squared:  0.2776 \n",
       "F-statistic: 16.37 on 1 and 39 DF,  p-value: 0.0002385\n"
      ]
     },
     "metadata": {},
     "output_type": "display_data"
    }
   ],
   "source": [
    "fitlml = lm(log(Matings+1)~Age)\n",
    "summary(fitlml)"
   ]
  },
  {
   "cell_type": "code",
   "execution_count": 32,
   "metadata": {},
   "outputs": [
    {
     "data": {
      "image/png": "[encoded data removed]",
      "text/plain": [
       "Plot with title \"log trans\""
      ]
     },
     "metadata": {},
     "output_type": "display_data"
    }
   ],
   "source": [
    "par(mfrow=c(3,2))\n",
    "plot(fitllm, which=1:2, main=\"Poisson\")\n",
    "plot(fitlm, which=1:2, main=\"SLR\")\n",
    "plot(fitlml, which=1:2, main=\"log trans\")"
   ]
  },
  {
   "cell_type": "markdown",
   "metadata": {},
   "source": [
    "#### Deviance GOF Test"
   ]
  },
  {
   "cell_type": "code",
   "execution_count": 36,
   "metadata": {},
   "outputs": [
    {
     "data": {
      "text/html": [
       "51.0116278635223"
      ],
      "text/latex": [
       "51.0116278635223"
      ],
      "text/markdown": [
       "51.0116278635223"
      ],
      "text/plain": [
       "[1] 51.01163"
      ]
     },
     "metadata": {},
     "output_type": "display_data"
    }
   ],
   "source": [
    "# test statistic\n",
    "fitllm$deviance"
   ]
  },
  {
   "cell_type": "code",
   "execution_count": 37,
   "metadata": {
    "scrolled": true
   },
   "outputs": [
    {
     "data": {
      "text/html": [
       "0.0942563842711481"
      ],
      "text/latex": [
       "0.0942563842711481"
      ],
      "text/markdown": [
       "0.0942563842711481"
      ],
      "text/plain": [
       "[1] 0.09425638"
      ]
     },
     "metadata": {},
     "output_type": "display_data"
    }
   ],
   "source": [
    "# p-value\n",
    "1 - pchisq(51.012, 39)"
   ]
  },
  {
   "cell_type": "markdown",
   "metadata": {},
   "source": [
    "Question: determine whether the fitted model fits as well as the saturated model\n",
    "\n",
    "Hypotheses: \n",
    "$H_0: $ fitted model fits as well as saturated model  \n",
    "$H_a: $ Saturated model fits better\n",
    "\n",
    "Test Statistic: $51.012\\sim \\chi^2_{41-2}$\n",
    "\n",
    "p-value: 0.094\n",
    "\n",
    "Conclusion: weak evidence that fitted model is adequate. "
   ]
  },
  {
   "cell_type": "markdown",
   "metadata": {},
   "source": [
    "#### Wald or LRT"
   ]
  },
  {
   "cell_type": "code",
   "execution_count": 41,
   "metadata": {},
   "outputs": [
    {
     "data": {
      "text/plain": [
       "\n",
       "Call:\n",
       "glm(formula = Matings ~ Age, family = poisson)\n",
       "\n",
       "Deviance Residuals: \n",
       "     Min        1Q    Median        3Q       Max  \n",
       "-2.80798  -0.86137  -0.08629   0.60087   2.17777  \n",
       "\n",
       "Coefficients:\n",
       "            Estimate Std. Error z value Pr(>|z|)    \n",
       "(Intercept) -1.58201    0.54462  -2.905  0.00368 ** \n",
       "Age          0.06869    0.01375   4.997 5.81e-07 ***\n",
       "---\n",
       "Signif. codes:  0 '***' 0.001 '**' 0.01 '*' 0.05 '.' 0.1 ' ' 1\n",
       "\n",
       "(Dispersion parameter for poisson family taken to be 1)\n",
       "\n",
       "    Null deviance: 75.372  on 40  degrees of freedom\n",
       "Residual deviance: 51.012  on 39  degrees of freedom\n",
       "AIC: 156.46\n",
       "\n",
       "Number of Fisher Scoring iterations: 5\n"
      ]
     },
     "metadata": {},
     "output_type": "display_data"
    }
   ],
   "source": [
    "summary(fitllm)"
   ]
  },
  {
   "cell_type": "code",
   "execution_count": 40,
   "metadata": {},
   "outputs": [
    {
     "data": {
      "text/plain": [
       "\n",
       "Call:\n",
       "glm(formula = Matings ~ Age + I(Age^2), family = poisson)\n",
       "\n",
       "Deviance Residuals: \n",
       "    Min       1Q   Median       3Q      Max  \n",
       "-2.8470  -0.8848  -0.1122   0.6580   2.1134  \n",
       "\n",
       "Coefficients:\n",
       "              Estimate Std. Error z value Pr(>|z|)\n",
       "(Intercept) -2.8574060  3.0356383  -0.941    0.347\n",
       "Age          0.1359544  0.1580095   0.860    0.390\n",
       "I(Age^2)    -0.0008595  0.0020124  -0.427    0.669\n",
       "\n",
       "(Dispersion parameter for poisson family taken to be 1)\n",
       "\n",
       "    Null deviance: 75.372  on 40  degrees of freedom\n",
       "Residual deviance: 50.826  on 38  degrees of freedom\n",
       "AIC: 158.27\n",
       "\n",
       "Number of Fisher Scoring iterations: 5\n"
      ]
     },
     "metadata": {},
     "output_type": "display_data"
    }
   ],
   "source": [
    "summary(fitllm2)"
   ]
  },
  {
   "cell_type": "markdown",
   "metadata": {},
   "source": [
    "\n",
    "Question: determine whether the mean number of successful matings tends to peak at some age and then decrease or whether the mean continues to increase with age\n",
    "\n",
    "**Wald**  \n",
    "Hypotheses: $H_0: \\beta_2 = 0, H_a:\\beta_3\\neq 0$\n",
    "\n",
    "Test Statistic: $-0.427\\sim N(0,1)$\n",
    "\n",
    "p-value: $0.669$\n",
    "\n",
    "**LRT**  \n",
    "Hypothesis: $H_0: $ the model without higher order term is better. $H_a: $ the model with higher order term is better.\n",
    "\n",
    "Test statistic: $51.012 - 50.826 = 0.186\\sim \\chi^2_1$\n",
    "\n",
    "p-value: $0.667$\n",
    "\n",
    "Conclusion: There is strong evidence that the quadratic term does not contribute to the model. The data provides no evidence that the mean number of successful matings peak at some age"
   ]
  }
 ],
 "metadata": {
  "hide_input": false,
  "kernelspec": {
   "display_name": "R",
   "language": "R",
   "name": "ir"
  },
  "language_info": {
   "codemirror_mode": "r",
   "file_extension": ".r",
   "mimetype": "text/x-r-source",
   "name": "R",
   "pygments_lexer": "r",
   "version": "3.5.2"
  }
 },
 "nbformat": 4,
 "nbformat_minor": 2
}
