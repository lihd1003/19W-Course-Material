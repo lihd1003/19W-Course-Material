{
 "cells": [
  {
   "cell_type": "markdown",
   "metadata": {},
   "source": [
    "## Selection Bias\n",
    "\n",
    "Let $y = 50 - 10 x + \\epsilon$ be the true model, assume the clinical trails is tested on factor `rx`. "
   ]
  },
  {
   "cell_type": "code",
   "execution_count": 1,
   "metadata": {},
   "outputs": [
    {
     "data": {
      "text/plain": [
       "rx\n",
       "  0   1 \n",
       "243 257 "
      ]
     },
     "metadata": {},
     "output_type": "display_data"
    }
   ],
   "source": [
    "# x is the one factor \n",
    "x = rbinom(500, 1, 0.5)\n",
    "\n",
    "# apply selection bias\n",
    "rx = sapply(x, function(x) if (x==0) rbinom(1, 1, 0.8) else rbinom(1,1,0.2))\n",
    "\n",
    "eps = rnorm(500, 0, 15) # error term\n",
    "y = 50 - 10 * x + eps # assign the underlying true model\n",
    "\n",
    "# without selection bias\n",
    "rx1 = rbinom(500, 1, 0.5)\n",
    "\n",
    "table(rx)"
   ]
  },
  {
   "cell_type": "code",
   "execution_count": 2,
   "metadata": {},
   "outputs": [
    {
     "data": {
      "text/plain": [
       "\n",
       "Call:\n",
       "lm(formula = y ~ rx)\n",
       "\n",
       "Residuals:\n",
       "    Min      1Q  Median      3Q     Max \n",
       "-37.934  -9.408  -0.839   9.869  46.083 \n",
       "\n",
       "Coefficients:\n",
       "            Estimate Std. Error t value Pr(>|t|)    \n",
       "(Intercept)   40.819      0.971   42.04  < 2e-16 ***\n",
       "rx             9.412      1.354    6.95 1.15e-11 ***\n",
       "---\n",
       "Signif. codes:  0 '***' 0.001 '**' 0.01 '*' 0.05 '.' 0.1 ' ' 1\n",
       "\n",
       "Residual standard error: 15.14 on 498 degrees of freedom\n",
       "Multiple R-squared:  0.08841,\tAdjusted R-squared:  0.08658 \n",
       "F-statistic:  48.3 on 1 and 498 DF,  p-value: 1.153e-11\n"
      ]
     },
     "metadata": {},
     "output_type": "display_data"
    },
    {
     "data": {
      "text/html": [
       "<table>\n",
       "<caption>A matrix: 2 × 2 of type dbl</caption>\n",
       "<thead>\n",
       "\t<tr><th></th><th scope=col>2.5 %</th><th scope=col>97.5 %</th></tr>\n",
       "</thead>\n",
       "<tbody>\n",
       "\t<tr><th scope=row>(Intercept)</th><td>38.910954</td><td>42.72649</td></tr>\n",
       "\t<tr><th scope=row>rx</th><td> 6.751287</td><td>12.07328</td></tr>\n",
       "</tbody>\n",
       "</table>\n"
      ],
      "text/latex": [
       "A matrix: 2 × 2 of type dbl\n",
       "\\begin{tabular}{r|ll}\n",
       "  & 2.5 \\% & 97.5 \\%\\\\\n",
       "\\hline\n",
       "\t(Intercept) & 38.910954 & 42.72649\\\\\n",
       "\trx &  6.751287 & 12.07328\\\\\n",
       "\\end{tabular}\n"
      ],
      "text/markdown": [
       "\n",
       "A matrix: 2 × 2 of type dbl\n",
       "\n",
       "| <!--/--> | 2.5 % | 97.5 % |\n",
       "|---|---|---|\n",
       "| (Intercept) | 38.910954 | 42.72649 |\n",
       "| rx |  6.751287 | 12.07328 |\n",
       "\n"
      ],
      "text/plain": [
       "            2.5 %     97.5 %  \n",
       "(Intercept) 38.910954 42.72649\n",
       "rx           6.751287 12.07328"
      ]
     },
     "metadata": {},
     "output_type": "display_data"
    }
   ],
   "source": [
    "# observational analysis\n",
    "model = lm(y~rx)\n",
    "summary(model)\n",
    "confint(model)"
   ]
  },
  {
   "cell_type": "code",
   "execution_count": 3,
   "metadata": {},
   "outputs": [
    {
     "data": {
      "text/plain": [
       "\n",
       "Call:\n",
       "lm(formula = y ~ rx + x)\n",
       "\n",
       "Residuals:\n",
       "    Min      1Q  Median      3Q     Max \n",
       "-36.153  -9.235  -0.414   9.069  44.736 \n",
       "\n",
       "Coefficients:\n",
       "            Estimate Std. Error t value Pr(>|t|)    \n",
       "(Intercept)   46.906      1.603  29.267  < 2e-16 ***\n",
       "rx             4.672      1.664   2.808  0.00518 ** \n",
       "x             -7.868      1.668  -4.719 3.09e-06 ***\n",
       "---\n",
       "Signif. codes:  0 '***' 0.001 '**' 0.01 '*' 0.05 '.' 0.1 ' ' 1\n",
       "\n",
       "Residual standard error: 14.82 on 497 degrees of freedom\n",
       "Multiple R-squared:  0.1275,\tAdjusted R-squared:  0.124 \n",
       "F-statistic: 36.31 on 2 and 497 DF,  p-value: 1.91e-15\n"
      ]
     },
     "metadata": {},
     "output_type": "display_data"
    },
    {
     "data": {
      "text/html": [
       "<table>\n",
       "<caption>A matrix: 3 × 2 of type dbl</caption>\n",
       "<thead>\n",
       "\t<tr><th></th><th scope=col>2.5 %</th><th scope=col>97.5 %</th></tr>\n",
       "</thead>\n",
       "<tbody>\n",
       "\t<tr><th scope=row>(Intercept)</th><td> 43.757302</td><td>50.055124</td></tr>\n",
       "\t<tr><th scope=row>rx</th><td>  1.402806</td><td> 7.941018</td></tr>\n",
       "\t<tr><th scope=row>x</th><td>-11.144733</td><td>-4.592078</td></tr>\n",
       "</tbody>\n",
       "</table>\n"
      ],
      "text/latex": [
       "A matrix: 3 × 2 of type dbl\n",
       "\\begin{tabular}{r|ll}\n",
       "  & 2.5 \\% & 97.5 \\%\\\\\n",
       "\\hline\n",
       "\t(Intercept) &  43.757302 & 50.055124\\\\\n",
       "\trx &   1.402806 &  7.941018\\\\\n",
       "\tx & -11.144733 & -4.592078\\\\\n",
       "\\end{tabular}\n"
      ],
      "text/markdown": [
       "\n",
       "A matrix: 3 × 2 of type dbl\n",
       "\n",
       "| <!--/--> | 2.5 % | 97.5 % |\n",
       "|---|---|---|\n",
       "| (Intercept) |  43.757302 | 50.055124 |\n",
       "| rx |   1.402806 |  7.941018 |\n",
       "| x | -11.144733 | -4.592078 |\n",
       "\n"
      ],
      "text/plain": [
       "            2.5 %      97.5 %   \n",
       "(Intercept)  43.757302 50.055124\n",
       "rx            1.402806  7.941018\n",
       "x           -11.144733 -4.592078"
      ]
     },
     "metadata": {},
     "output_type": "display_data"
    }
   ],
   "source": [
    "# adjusted \n",
    "model_2 = lm(y~rx + x)\n",
    "summary(model_2)\n",
    "confint(model_2)"
   ]
  },
  {
   "cell_type": "code",
   "execution_count": 4,
   "metadata": {},
   "outputs": [
    {
     "data": {
      "text/plain": [
       "   rx\n",
       "x     0   1\n",
       "  0  55 213\n",
       "  1 188  44"
      ]
     },
     "metadata": {},
     "output_type": "display_data"
    }
   ],
   "source": [
    "xtabs(~x+rx)"
   ]
  },
  {
   "cell_type": "code",
   "execution_count": 5,
   "metadata": {},
   "outputs": [
    {
     "data": {
      "text/plain": [
       "\n",
       "Call:\n",
       "lm(formula = y ~ rx1)\n",
       "\n",
       "Residuals:\n",
       "    Min      1Q  Median      3Q     Max \n",
       "-43.154 -10.117  -0.166   9.937  50.276 \n",
       "\n",
       "Coefficients:\n",
       "            Estimate Std. Error t value Pr(>|t|)    \n",
       "(Intercept)  45.2360     1.0273  44.034   <2e-16 ***\n",
       "rx1           0.8028     1.4192   0.566    0.572    \n",
       "---\n",
       "Signif. codes:  0 '***' 0.001 '**' 0.01 '*' 0.05 '.' 0.1 ' ' 1\n",
       "\n",
       "Residual standard error: 15.85 on 498 degrees of freedom\n",
       "Multiple R-squared:  0.0006421,\tAdjusted R-squared:  -0.001365 \n",
       "F-statistic:  0.32 on 1 and 498 DF,  p-value: 0.5719\n"
      ]
     },
     "metadata": {},
     "output_type": "display_data"
    },
    {
     "data": {
      "text/html": [
       "<table>\n",
       "<caption>A matrix: 2 × 2 of type dbl</caption>\n",
       "<thead>\n",
       "\t<tr><th></th><th scope=col>2.5 %</th><th scope=col>97.5 %</th></tr>\n",
       "</thead>\n",
       "<tbody>\n",
       "\t<tr><th scope=row>(Intercept)</th><td>43.217626</td><td>47.254362</td></tr>\n",
       "\t<tr><th scope=row>rx1</th><td>-1.985517</td><td> 3.591021</td></tr>\n",
       "</tbody>\n",
       "</table>\n"
      ],
      "text/latex": [
       "A matrix: 2 × 2 of type dbl\n",
       "\\begin{tabular}{r|ll}\n",
       "  & 2.5 \\% & 97.5 \\%\\\\\n",
       "\\hline\n",
       "\t(Intercept) & 43.217626 & 47.254362\\\\\n",
       "\trx1 & -1.985517 &  3.591021\\\\\n",
       "\\end{tabular}\n"
      ],
      "text/markdown": [
       "\n",
       "A matrix: 2 × 2 of type dbl\n",
       "\n",
       "| <!--/--> | 2.5 % | 97.5 % |\n",
       "|---|---|---|\n",
       "| (Intercept) | 43.217626 | 47.254362 |\n",
       "| rx1 | -1.985517 |  3.591021 |\n",
       "\n"
      ],
      "text/plain": [
       "            2.5 %     97.5 %   \n",
       "(Intercept) 43.217626 47.254362\n",
       "rx1         -1.985517  3.591021"
      ]
     },
     "metadata": {},
     "output_type": "display_data"
    }
   ],
   "source": [
    "# RCT analysis\n",
    "model_rct = lm(y ~ rx1)\n",
    "summary(model_rct)\n",
    "confint(model_rct)"
   ]
  },
  {
   "cell_type": "code",
   "execution_count": 6,
   "metadata": {},
   "outputs": [
    {
     "data": {
      "text/plain": [
       "\n",
       "Call:\n",
       "lm(formula = y ~ rx1 + x)\n",
       "\n",
       "Residuals:\n",
       "    Min      1Q  Median      3Q     Max \n",
       "-37.474  -9.440  -0.575   9.243  45.250 \n",
       "\n",
       "Coefficients:\n",
       "            Estimate Std. Error t value Pr(>|t|)    \n",
       "(Intercept)  50.1392     1.1459  43.754  < 2e-16 ***\n",
       "rx1           0.9257     1.3373   0.692    0.489    \n",
       "x           -10.7061     1.3392  -7.994  9.2e-15 ***\n",
       "---\n",
       "Signif. codes:  0 '***' 0.001 '**' 0.01 '*' 0.05 '.' 0.1 ' ' 1\n",
       "\n",
       "Residual standard error: 14.93 on 497 degrees of freedom\n",
       "Multiple R-squared:  0.1145,\tAdjusted R-squared:  0.1109 \n",
       "F-statistic: 32.13 on 2 and 497 DF,  p-value: 7.51e-14\n"
      ]
     },
     "metadata": {},
     "output_type": "display_data"
    },
    {
     "data": {
      "text/html": [
       "<table>\n",
       "<caption>A matrix: 3 × 2 of type dbl</caption>\n",
       "<thead>\n",
       "\t<tr><th></th><th scope=col>2.5 %</th><th scope=col>97.5 %</th></tr>\n",
       "</thead>\n",
       "<tbody>\n",
       "\t<tr><th scope=row>(Intercept)</th><td> 47.887750</td><td>52.390700</td></tr>\n",
       "\t<tr><th scope=row>rx1</th><td> -1.701764</td><td> 3.553134</td></tr>\n",
       "\t<tr><th scope=row>x</th><td>-13.337387</td><td>-8.074888</td></tr>\n",
       "</tbody>\n",
       "</table>\n"
      ],
      "text/latex": [
       "A matrix: 3 × 2 of type dbl\n",
       "\\begin{tabular}{r|ll}\n",
       "  & 2.5 \\% & 97.5 \\%\\\\\n",
       "\\hline\n",
       "\t(Intercept) &  47.887750 & 52.390700\\\\\n",
       "\trx1 &  -1.701764 &  3.553134\\\\\n",
       "\tx & -13.337387 & -8.074888\\\\\n",
       "\\end{tabular}\n"
      ],
      "text/markdown": [
       "\n",
       "A matrix: 3 × 2 of type dbl\n",
       "\n",
       "| <!--/--> | 2.5 % | 97.5 % |\n",
       "|---|---|---|\n",
       "| (Intercept) |  47.887750 | 52.390700 |\n",
       "| rx1 |  -1.701764 |  3.553134 |\n",
       "| x | -13.337387 | -8.074888 |\n",
       "\n"
      ],
      "text/plain": [
       "            2.5 %      97.5 %   \n",
       "(Intercept)  47.887750 52.390700\n",
       "rx1          -1.701764  3.553134\n",
       "x           -13.337387 -8.074888"
      ]
     },
     "metadata": {},
     "output_type": "display_data"
    }
   ],
   "source": [
    "# Adjusted\n",
    "model_rct_2 = lm(y ~ rx1 + x)\n",
    "summary(model_rct_2)\n",
    "confint(model_rct_2)"
   ]
  },
  {
   "cell_type": "code",
   "execution_count": 7,
   "metadata": {},
   "outputs": [],
   "source": [
    "# Simulation 2,  True model\n",
    "y1 = 50 + 5 * rx - 10 * x + eps # Obserational\n",
    "y2 = 50 + 5 * rx1 - 10 * x + eps # RCT"
   ]
  },
  {
   "cell_type": "code",
   "execution_count": 8,
   "metadata": {},
   "outputs": [
    {
     "data": {
      "text/plain": [
       "\n",
       "Call:\n",
       "lm(formula = y1 ~ rx)\n",
       "\n",
       "Residuals:\n",
       "    Min      1Q  Median      3Q     Max \n",
       "-37.934  -9.408  -0.839   9.869  46.083 \n",
       "\n",
       "Coefficients:\n",
       "            Estimate Std. Error t value Pr(>|t|)    \n",
       "(Intercept)   40.819      0.971   42.04   <2e-16 ***\n",
       "rx            14.412      1.354   10.64   <2e-16 ***\n",
       "---\n",
       "Signif. codes:  0 '***' 0.001 '**' 0.01 '*' 0.05 '.' 0.1 ' ' 1\n",
       "\n",
       "Residual standard error: 15.14 on 498 degrees of freedom\n",
       "Multiple R-squared:  0.1853,\tAdjusted R-squared:  0.1836 \n",
       "F-statistic: 113.2 on 1 and 498 DF,  p-value: < 2.2e-16\n"
      ]
     },
     "metadata": {},
     "output_type": "display_data"
    },
    {
     "data": {
      "text/html": [
       "<table>\n",
       "<caption>A matrix: 2 × 2 of type dbl</caption>\n",
       "<thead>\n",
       "\t<tr><th></th><th scope=col>2.5 %</th><th scope=col>97.5 %</th></tr>\n",
       "</thead>\n",
       "<tbody>\n",
       "\t<tr><th scope=row>(Intercept)</th><td>38.91095</td><td>42.72649</td></tr>\n",
       "\t<tr><th scope=row>rx</th><td>11.75129</td><td>17.07328</td></tr>\n",
       "</tbody>\n",
       "</table>\n"
      ],
      "text/latex": [
       "A matrix: 2 × 2 of type dbl\n",
       "\\begin{tabular}{r|ll}\n",
       "  & 2.5 \\% & 97.5 \\%\\\\\n",
       "\\hline\n",
       "\t(Intercept) & 38.91095 & 42.72649\\\\\n",
       "\trx & 11.75129 & 17.07328\\\\\n",
       "\\end{tabular}\n"
      ],
      "text/markdown": [
       "\n",
       "A matrix: 2 × 2 of type dbl\n",
       "\n",
       "| <!--/--> | 2.5 % | 97.5 % |\n",
       "|---|---|---|\n",
       "| (Intercept) | 38.91095 | 42.72649 |\n",
       "| rx | 11.75129 | 17.07328 |\n",
       "\n"
      ],
      "text/plain": [
       "            2.5 %    97.5 %  \n",
       "(Intercept) 38.91095 42.72649\n",
       "rx          11.75129 17.07328"
      ]
     },
     "metadata": {},
     "output_type": "display_data"
    },
    {
     "data": {
      "text/plain": [
       "\n",
       "Call:\n",
       "lm(formula = y1 ~ rx + x)\n",
       "\n",
       "Residuals:\n",
       "    Min      1Q  Median      3Q     Max \n",
       "-36.153  -9.235  -0.414   9.069  44.736 \n",
       "\n",
       "Coefficients:\n",
       "            Estimate Std. Error t value Pr(>|t|)    \n",
       "(Intercept)   46.906      1.603  29.267  < 2e-16 ***\n",
       "rx             9.672      1.664   5.813 1.10e-08 ***\n",
       "x             -7.868      1.668  -4.719 3.09e-06 ***\n",
       "---\n",
       "Signif. codes:  0 '***' 0.001 '**' 0.01 '*' 0.05 '.' 0.1 ' ' 1\n",
       "\n",
       "Residual standard error: 14.82 on 497 degrees of freedom\n",
       "Multiple R-squared:  0.2202,\tAdjusted R-squared:  0.2171 \n",
       "F-statistic: 70.17 on 2 and 497 DF,  p-value: < 2.2e-16\n"
      ]
     },
     "metadata": {},
     "output_type": "display_data"
    },
    {
     "data": {
      "text/html": [
       "<table>\n",
       "<caption>A matrix: 3 × 2 of type dbl</caption>\n",
       "<thead>\n",
       "\t<tr><th></th><th scope=col>2.5 %</th><th scope=col>97.5 %</th></tr>\n",
       "</thead>\n",
       "<tbody>\n",
       "\t<tr><th scope=row>(Intercept)</th><td> 43.757302</td><td>50.055124</td></tr>\n",
       "\t<tr><th scope=row>rx</th><td>  6.402806</td><td>12.941018</td></tr>\n",
       "\t<tr><th scope=row>x</th><td>-11.144733</td><td>-4.592078</td></tr>\n",
       "</tbody>\n",
       "</table>\n"
      ],
      "text/latex": [
       "A matrix: 3 × 2 of type dbl\n",
       "\\begin{tabular}{r|ll}\n",
       "  & 2.5 \\% & 97.5 \\%\\\\\n",
       "\\hline\n",
       "\t(Intercept) &  43.757302 & 50.055124\\\\\n",
       "\trx &   6.402806 & 12.941018\\\\\n",
       "\tx & -11.144733 & -4.592078\\\\\n",
       "\\end{tabular}\n"
      ],
      "text/markdown": [
       "\n",
       "A matrix: 3 × 2 of type dbl\n",
       "\n",
       "| <!--/--> | 2.5 % | 97.5 % |\n",
       "|---|---|---|\n",
       "| (Intercept) |  43.757302 | 50.055124 |\n",
       "| rx |   6.402806 | 12.941018 |\n",
       "| x | -11.144733 | -4.592078 |\n",
       "\n"
      ],
      "text/plain": [
       "            2.5 %      97.5 %   \n",
       "(Intercept)  43.757302 50.055124\n",
       "rx            6.402806 12.941018\n",
       "x           -11.144733 -4.592078"
      ]
     },
     "metadata": {},
     "output_type": "display_data"
    }
   ],
   "source": [
    "## Observational \n",
    "summary(lm(y1~rx))\n",
    "confint(lm(y1~rx))\n",
    "\n",
    "# adjusted \n",
    "summary(lm(y1~rx + x))\n",
    "confint(lm(y1~rx + x))"
   ]
  },
  {
   "cell_type": "code",
   "execution_count": 9,
   "metadata": {},
   "outputs": [
    {
     "data": {
      "text/plain": [
       "\n",
       "Call:\n",
       "lm(formula = y2 ~ rx1)\n",
       "\n",
       "Residuals:\n",
       "    Min      1Q  Median      3Q     Max \n",
       "-43.154 -10.117  -0.166   9.937  50.276 \n",
       "\n",
       "Coefficients:\n",
       "            Estimate Std. Error t value Pr(>|t|)    \n",
       "(Intercept)   45.236      1.027  44.034  < 2e-16 ***\n",
       "rx1            5.803      1.419   4.089 5.05e-05 ***\n",
       "---\n",
       "Signif. codes:  0 '***' 0.001 '**' 0.01 '*' 0.05 '.' 0.1 ' ' 1\n",
       "\n",
       "Residual standard error: 15.85 on 498 degrees of freedom\n",
       "Multiple R-squared:  0.03248,\tAdjusted R-squared:  0.03054 \n",
       "F-statistic: 16.72 on 1 and 498 DF,  p-value: 5.053e-05\n"
      ]
     },
     "metadata": {},
     "output_type": "display_data"
    },
    {
     "data": {
      "text/html": [
       "<table>\n",
       "<caption>A matrix: 2 × 2 of type dbl</caption>\n",
       "<thead>\n",
       "\t<tr><th></th><th scope=col>2.5 %</th><th scope=col>97.5 %</th></tr>\n",
       "</thead>\n",
       "<tbody>\n",
       "\t<tr><th scope=row>(Intercept)</th><td>43.217626</td><td>47.254362</td></tr>\n",
       "\t<tr><th scope=row>rx1</th><td> 3.014483</td><td> 8.591021</td></tr>\n",
       "</tbody>\n",
       "</table>\n"
      ],
      "text/latex": [
       "A matrix: 2 × 2 of type dbl\n",
       "\\begin{tabular}{r|ll}\n",
       "  & 2.5 \\% & 97.5 \\%\\\\\n",
       "\\hline\n",
       "\t(Intercept) & 43.217626 & 47.254362\\\\\n",
       "\trx1 &  3.014483 &  8.591021\\\\\n",
       "\\end{tabular}\n"
      ],
      "text/markdown": [
       "\n",
       "A matrix: 2 × 2 of type dbl\n",
       "\n",
       "| <!--/--> | 2.5 % | 97.5 % |\n",
       "|---|---|---|\n",
       "| (Intercept) | 43.217626 | 47.254362 |\n",
       "| rx1 |  3.014483 |  8.591021 |\n",
       "\n"
      ],
      "text/plain": [
       "            2.5 %     97.5 %   \n",
       "(Intercept) 43.217626 47.254362\n",
       "rx1          3.014483  8.591021"
      ]
     },
     "metadata": {},
     "output_type": "display_data"
    },
    {
     "data": {
      "text/plain": [
       "\n",
       "Call:\n",
       "lm(formula = y2 ~ rx1 + x)\n",
       "\n",
       "Residuals:\n",
       "    Min      1Q  Median      3Q     Max \n",
       "-37.474  -9.440  -0.575   9.243  45.250 \n",
       "\n",
       "Coefficients:\n",
       "            Estimate Std. Error t value Pr(>|t|)    \n",
       "(Intercept)   50.139      1.146  43.754  < 2e-16 ***\n",
       "rx1            5.926      1.337   4.431 1.15e-05 ***\n",
       "x            -10.706      1.339  -7.994 9.20e-15 ***\n",
       "---\n",
       "Signif. codes:  0 '***' 0.001 '**' 0.01 '*' 0.05 '.' 0.1 ' ' 1\n",
       "\n",
       "Residual standard error: 14.93 on 497 degrees of freedom\n",
       "Multiple R-squared:  0.1427,\tAdjusted R-squared:  0.1393 \n",
       "F-statistic: 41.37 on 2 and 497 DF,  p-value: < 2.2e-16\n"
      ]
     },
     "metadata": {},
     "output_type": "display_data"
    },
    {
     "data": {
      "text/html": [
       "<table>\n",
       "<caption>A matrix: 3 × 2 of type dbl</caption>\n",
       "<thead>\n",
       "\t<tr><th></th><th scope=col>2.5 %</th><th scope=col>97.5 %</th></tr>\n",
       "</thead>\n",
       "<tbody>\n",
       "\t<tr><th scope=row>(Intercept)</th><td> 47.887750</td><td>52.390700</td></tr>\n",
       "\t<tr><th scope=row>rx1</th><td>  3.298236</td><td> 8.553134</td></tr>\n",
       "\t<tr><th scope=row>x</th><td>-13.337387</td><td>-8.074888</td></tr>\n",
       "</tbody>\n",
       "</table>\n"
      ],
      "text/latex": [
       "A matrix: 3 × 2 of type dbl\n",
       "\\begin{tabular}{r|ll}\n",
       "  & 2.5 \\% & 97.5 \\%\\\\\n",
       "\\hline\n",
       "\t(Intercept) &  47.887750 & 52.390700\\\\\n",
       "\trx1 &   3.298236 &  8.553134\\\\\n",
       "\tx & -13.337387 & -8.074888\\\\\n",
       "\\end{tabular}\n"
      ],
      "text/markdown": [
       "\n",
       "A matrix: 3 × 2 of type dbl\n",
       "\n",
       "| <!--/--> | 2.5 % | 97.5 % |\n",
       "|---|---|---|\n",
       "| (Intercept) |  47.887750 | 52.390700 |\n",
       "| rx1 |   3.298236 |  8.553134 |\n",
       "| x | -13.337387 | -8.074888 |\n",
       "\n"
      ],
      "text/plain": [
       "            2.5 %      97.5 %   \n",
       "(Intercept)  47.887750 52.390700\n",
       "rx1           3.298236  8.553134\n",
       "x           -13.337387 -8.074888"
      ]
     },
     "metadata": {},
     "output_type": "display_data"
    }
   ],
   "source": [
    "## Observational \n",
    "summary(lm(y2~rx1))\n",
    "confint(lm(y2~rx1))\n",
    "\n",
    "# adjusted \n",
    "summary(lm(y2~rx1 + x))\n",
    "confint(lm(y2~rx1 + x))"
   ]
  },
  {
   "cell_type": "code",
   "execution_count": 16,
   "metadata": {},
   "outputs": [],
   "source": [
    "# Simulation 3, True model\n",
    "y3 = 50 - 5 * rx - 10 * x + eps # Obserational\n",
    "y4 = 50 - 5 * rx1 - 10 * x + eps # RCT"
   ]
  },
  {
   "cell_type": "code",
   "execution_count": 15,
   "metadata": {},
   "outputs": [
    {
     "data": {
      "text/plain": [
       "\n",
       "Call:\n",
       "lm(formula = y3 ~ rx)\n",
       "\n",
       "Residuals:\n",
       "    Min      1Q  Median      3Q     Max \n",
       "-38.605 -10.392  -0.481  10.341  48.126 \n",
       "\n",
       "Coefficients:\n",
       "            Estimate Std. Error t value Pr(>|t|)    \n",
       "(Intercept)  56.2920     0.9993  56.334  < 2e-16 ***\n",
       "rx           -7.6368     1.3938  -5.479 6.79e-08 ***\n",
       "---\n",
       "Signif. codes:  0 '***' 0.001 '**' 0.01 '*' 0.05 '.' 0.1 ' ' 1\n",
       "\n",
       "Residual standard error: 15.58 on 498 degrees of freedom\n",
       "Multiple R-squared:  0.05686,\tAdjusted R-squared:  0.05496 \n",
       "F-statistic: 30.02 on 1 and 498 DF,  p-value: 6.795e-08\n"
      ]
     },
     "metadata": {},
     "output_type": "display_data"
    },
    {
     "data": {
      "text/html": [
       "<table>\n",
       "<caption>A matrix: 2 × 2 of type dbl</caption>\n",
       "<thead>\n",
       "\t<tr><th></th><th scope=col>2.5 %</th><th scope=col>97.5 %</th></tr>\n",
       "</thead>\n",
       "<tbody>\n",
       "\t<tr><th scope=row>(Intercept)</th><td> 54.32869</td><td>58.25526</td></tr>\n",
       "\t<tr><th scope=row>rx</th><td>-10.37528</td><td>-4.89841</td></tr>\n",
       "</tbody>\n",
       "</table>\n"
      ],
      "text/latex": [
       "A matrix: 2 × 2 of type dbl\n",
       "\\begin{tabular}{r|ll}\n",
       "  & 2.5 \\% & 97.5 \\%\\\\\n",
       "\\hline\n",
       "\t(Intercept) &  54.32869 & 58.25526\\\\\n",
       "\trx & -10.37528 & -4.89841\\\\\n",
       "\\end{tabular}\n"
      ],
      "text/markdown": [
       "\n",
       "A matrix: 2 × 2 of type dbl\n",
       "\n",
       "| <!--/--> | 2.5 % | 97.5 % |\n",
       "|---|---|---|\n",
       "| (Intercept) |  54.32869 | 58.25526 |\n",
       "| rx | -10.37528 | -4.89841 |\n",
       "\n"
      ],
      "text/plain": [
       "            2.5 %     97.5 %  \n",
       "(Intercept)  54.32869 58.25526\n",
       "rx          -10.37528 -4.89841"
      ]
     },
     "metadata": {},
     "output_type": "display_data"
    },
    {
     "data": {
      "text/plain": [
       "\n",
       "Call:\n",
       "lm(formula = y3 ~ rx + x)\n",
       "\n",
       "Residuals:\n",
       "    Min      1Q  Median      3Q     Max \n",
       "-36.153  -9.235  -0.414   9.069  44.736 \n",
       "\n",
       "Coefficients:\n",
       "            Estimate Std. Error t value Pr(>|t|)    \n",
       "(Intercept)  46.9062     1.6027  29.267  < 2e-16 ***\n",
       "rx           -0.3281     1.6639  -0.197    0.844    \n",
       "x            12.1316     1.6676   7.275 1.36e-12 ***\n",
       "---\n",
       "Signif. codes:  0 '***' 0.001 '**' 0.01 '*' 0.05 '.' 0.1 ' ' 1\n",
       "\n",
       "Residual standard error: 14.82 on 497 degrees of freedom\n",
       "Multiple R-squared:  0.1476,\tAdjusted R-squared:  0.1442 \n",
       "F-statistic: 43.04 on 2 and 497 DF,  p-value: < 2.2e-16\n"
      ]
     },
     "metadata": {},
     "output_type": "display_data"
    },
    {
     "data": {
      "text/html": [
       "<table>\n",
       "<caption>A matrix: 3 × 2 of type dbl</caption>\n",
       "<thead>\n",
       "\t<tr><th></th><th scope=col>2.5 %</th><th scope=col>97.5 %</th></tr>\n",
       "</thead>\n",
       "<tbody>\n",
       "\t<tr><th scope=row>(Intercept)</th><td>43.757302</td><td>50.055124</td></tr>\n",
       "\t<tr><th scope=row>rx</th><td>-3.597194</td><td> 2.941018</td></tr>\n",
       "\t<tr><th scope=row>x</th><td> 8.855267</td><td>15.407922</td></tr>\n",
       "</tbody>\n",
       "</table>\n"
      ],
      "text/latex": [
       "A matrix: 3 × 2 of type dbl\n",
       "\\begin{tabular}{r|ll}\n",
       "  & 2.5 \\% & 97.5 \\%\\\\\n",
       "\\hline\n",
       "\t(Intercept) & 43.757302 & 50.055124\\\\\n",
       "\trx & -3.597194 &  2.941018\\\\\n",
       "\tx &  8.855267 & 15.407922\\\\\n",
       "\\end{tabular}\n"
      ],
      "text/markdown": [
       "\n",
       "A matrix: 3 × 2 of type dbl\n",
       "\n",
       "| <!--/--> | 2.5 % | 97.5 % |\n",
       "|---|---|---|\n",
       "| (Intercept) | 43.757302 | 50.055124 |\n",
       "| rx | -3.597194 |  2.941018 |\n",
       "| x |  8.855267 | 15.407922 |\n",
       "\n"
      ],
      "text/plain": [
       "            2.5 %     97.5 %   \n",
       "(Intercept) 43.757302 50.055124\n",
       "rx          -3.597194  2.941018\n",
       "x            8.855267 15.407922"
      ]
     },
     "metadata": {},
     "output_type": "display_data"
    }
   ],
   "source": [
    "## Observational \n",
    "summary(lm(y3~rx))\n",
    "confint(lm(y3~rx))\n",
    "\n",
    "# adjusted \n",
    "summary(lm(y3~rx + x))\n",
    "confint(lm(y3~rx + x))"
   ]
  },
  {
   "cell_type": "code",
   "execution_count": 17,
   "metadata": {},
   "outputs": [
    {
     "data": {
      "text/plain": [
       "\n",
       "Call:\n",
       "lm(formula = y4 ~ rx1)\n",
       "\n",
       "Residuals:\n",
       "    Min      1Q  Median      3Q     Max \n",
       "-43.154 -10.117  -0.166   9.937  50.276 \n",
       "\n",
       "Coefficients:\n",
       "            Estimate Std. Error t value Pr(>|t|)    \n",
       "(Intercept)   45.236      1.027  44.034  < 2e-16 ***\n",
       "rx1           -4.197      1.419  -2.958  0.00325 ** \n",
       "---\n",
       "Signif. codes:  0 '***' 0.001 '**' 0.01 '*' 0.05 '.' 0.1 ' ' 1\n",
       "\n",
       "Residual standard error: 15.85 on 498 degrees of freedom\n",
       "Multiple R-squared:  0.01726,\tAdjusted R-squared:  0.01529 \n",
       "F-statistic: 8.747 on 1 and 498 DF,  p-value: 0.003248\n"
      ]
     },
     "metadata": {},
     "output_type": "display_data"
    },
    {
     "data": {
      "text/html": [
       "<table>\n",
       "<caption>A matrix: 2 × 2 of type dbl</caption>\n",
       "<thead>\n",
       "\t<tr><th></th><th scope=col>2.5 %</th><th scope=col>97.5 %</th></tr>\n",
       "</thead>\n",
       "<tbody>\n",
       "\t<tr><th scope=row>(Intercept)</th><td>43.217626</td><td>47.254362</td></tr>\n",
       "\t<tr><th scope=row>rx1</th><td>-6.985517</td><td>-1.408979</td></tr>\n",
       "</tbody>\n",
       "</table>\n"
      ],
      "text/latex": [
       "A matrix: 2 × 2 of type dbl\n",
       "\\begin{tabular}{r|ll}\n",
       "  & 2.5 \\% & 97.5 \\%\\\\\n",
       "\\hline\n",
       "\t(Intercept) & 43.217626 & 47.254362\\\\\n",
       "\trx1 & -6.985517 & -1.408979\\\\\n",
       "\\end{tabular}\n"
      ],
      "text/markdown": [
       "\n",
       "A matrix: 2 × 2 of type dbl\n",
       "\n",
       "| <!--/--> | 2.5 % | 97.5 % |\n",
       "|---|---|---|\n",
       "| (Intercept) | 43.217626 | 47.254362 |\n",
       "| rx1 | -6.985517 | -1.408979 |\n",
       "\n"
      ],
      "text/plain": [
       "            2.5 %     97.5 %   \n",
       "(Intercept) 43.217626 47.254362\n",
       "rx1         -6.985517 -1.408979"
      ]
     },
     "metadata": {},
     "output_type": "display_data"
    },
    {
     "data": {
      "text/plain": [
       "\n",
       "Call:\n",
       "lm(formula = y4 ~ rx1 + x)\n",
       "\n",
       "Residuals:\n",
       "    Min      1Q  Median      3Q     Max \n",
       "-37.474  -9.440  -0.575   9.243  45.250 \n",
       "\n",
       "Coefficients:\n",
       "            Estimate Std. Error t value Pr(>|t|)    \n",
       "(Intercept)   50.139      1.146  43.754  < 2e-16 ***\n",
       "rx1           -4.074      1.337  -3.047  0.00244 ** \n",
       "x            -10.706      1.339  -7.994  9.2e-15 ***\n",
       "---\n",
       "Signif. codes:  0 '***' 0.001 '**' 0.01 '*' 0.05 '.' 0.1 ' ' 1\n",
       "\n",
       "Residual standard error: 14.93 on 497 degrees of freedom\n",
       "Multiple R-squared:  0.1292,\tAdjusted R-squared:  0.1257 \n",
       "F-statistic: 36.88 on 2 and 497 DF,  p-value: 1.164e-15\n"
      ]
     },
     "metadata": {},
     "output_type": "display_data"
    },
    {
     "data": {
      "text/html": [
       "<table>\n",
       "<caption>A matrix: 3 × 2 of type dbl</caption>\n",
       "<thead>\n",
       "\t<tr><th></th><th scope=col>2.5 %</th><th scope=col>97.5 %</th></tr>\n",
       "</thead>\n",
       "<tbody>\n",
       "\t<tr><th scope=row>(Intercept)</th><td> 47.887750</td><td>52.390700</td></tr>\n",
       "\t<tr><th scope=row>rx1</th><td> -6.701764</td><td>-1.446866</td></tr>\n",
       "\t<tr><th scope=row>x</th><td>-13.337387</td><td>-8.074888</td></tr>\n",
       "</tbody>\n",
       "</table>\n"
      ],
      "text/latex": [
       "A matrix: 3 × 2 of type dbl\n",
       "\\begin{tabular}{r|ll}\n",
       "  & 2.5 \\% & 97.5 \\%\\\\\n",
       "\\hline\n",
       "\t(Intercept) &  47.887750 & 52.390700\\\\\n",
       "\trx1 &  -6.701764 & -1.446866\\\\\n",
       "\tx & -13.337387 & -8.074888\\\\\n",
       "\\end{tabular}\n"
      ],
      "text/markdown": [
       "\n",
       "A matrix: 3 × 2 of type dbl\n",
       "\n",
       "| <!--/--> | 2.5 % | 97.5 % |\n",
       "|---|---|---|\n",
       "| (Intercept) |  47.887750 | 52.390700 |\n",
       "| rx1 |  -6.701764 | -1.446866 |\n",
       "| x | -13.337387 | -8.074888 |\n",
       "\n"
      ],
      "text/plain": [
       "            2.5 %      97.5 %   \n",
       "(Intercept)  47.887750 52.390700\n",
       "rx1          -6.701764 -1.446866\n",
       "x           -13.337387 -8.074888"
      ]
     },
     "metadata": {},
     "output_type": "display_data"
    }
   ],
   "source": [
    "## Observational \n",
    "summary(lm(y4~rx1))\n",
    "confint(lm(y4~rx1))\n",
    "\n",
    "# adjusted \n",
    "summary(lm(y4~rx1 + x))\n",
    "confint(lm(y4~rx1 + x))"
   ]
  },
  {
   "cell_type": "markdown",
   "metadata": {},
   "source": [
    "#### Problem with selection bias\n",
    "We don't know the true model, the confounding variable may not be discovered, or cannot be measured. \n",
    "\n",
    "https://www.ahajournals.org/doi/full/10.1161/01.str.30.9.1751"
   ]
  }
 ],
 "metadata": {
  "kernelspec": {
   "display_name": "R",
   "language": "R",
   "name": "ir"
  },
  "language_info": {
   "codemirror_mode": "r",
   "file_extension": ".r",
   "mimetype": "text/x-r-source",
   "name": "R",
   "pygments_lexer": "r",
   "version": "3.6.2"
  }
 },
 "nbformat": 4,
 "nbformat_minor": 2
}
