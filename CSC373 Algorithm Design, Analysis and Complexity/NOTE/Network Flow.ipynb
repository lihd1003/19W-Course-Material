{
 "cells": [
  {
   "cell_type": "markdown",
   "metadata": {},
   "source": [
    "**network** $N=(V,E)$ is a directed, connected with:\n",
    " - **source** $s\\in V$ no incoming edge\n",
    " - **sink** $t\\in V$ no outgoing edge\n",
    " - **capacity** $c:E\\rightarrow \\mathbb{N}$\n"
   ]
  },
  {
   "cell_type": "markdown",
   "metadata": {},
   "source": [
    "#### Question\n",
    "Assign **flow** $f(e)\\in\\mathbb{R}^{\\geq 0}$ s.t. \n",
    " - $\\forall e\\in E. 0\\leq f(e)\\leq c(e)$\n",
    " - $\\forall v\\in V-\\{s,t\\}, f^{in}(v)=f^{out}(v)$, where $f^{in}(v)=\\sum_{(u,v)\\in E}f(u,v), f^{out}(v)=\\sum_{(u,v)\\in E}f(v,u)$\n",
    " - Maximize flow in $N$: $|f|=f^{out}(s)=f^{in}(t)$"
   ]
  },
  {
   "cell_type": "markdown",
   "metadata": {},
   "source": [
    "#### Discussion\n",
    "Start with any feasible solution (one that satisfies the basic constraints)\n",
    "\n",
    "Make incremental improvements, until this is no longer possible"
   ]
  },
  {
   "cell_type": "markdown",
   "metadata": {},
   "source": [
    "#### Ford-Fulkerson Algorithm\n",
    "start with any valid flow $f$, e.g. $f(e)=0$ <br>\n",
    " while there is some augmenting path $P$ in $N$: augment $f$ along $P$\n",
    " \n",
    "path $P=s\\rightarrow v_1\\sim v_k\\rightarrow t$ is augmenting IFF $f(e)<c(e), \\forall e\\in P$\n",
    "\n",
    "**First step**<br> \n",
    "For every edge on $P$, define residual capacity of the edge $\\Delta(u,v)=c(u,v)-f(u,v)$, define residual capacity of the path $\\Delta(P)=\\min\\{\\Delta(u,v)\\mid (u,v)\\in P\\}$, then augmenting $f$ along $P$ simply add $\\Delta(P)$ to $f(e)$ for each $e\\in P$\n",
    "\n",
    "After the augmentation, the graph will end up with non-maximum \n",
    "\n",
    "**Second step**<br>\n",
    "Extend the notion of augmenting path. For each path, regardless direction.\n",
    "- send flow on a \"backward edge\" to somewhere else. Call its residual capacity $\\Delta(e)=f(e)$\n",
    "- All other edges are \"forward\" remains unchanged. \n",
    "- To augment $f$, increase $f(e)$ for forward edges, decrease $f(e)$ for backward edges. "
   ]
  },
  {
   "cell_type": "markdown",
   "metadata": {},
   "source": [
    "#### Residual Network\n",
    "For network $N$, flow $f$, create a residual network $N'=(V,E')$. For each edge, change it to dual directions with weights $w(u,v)=\\Delta(u,v)$ on the unchanged direction, $w(v,u)=f(u,v)$ on the reversed direction.\n",
    "\n",
    "Therefore, augment path in $N$ is equivalent to augment path in $N'$"
   ]
  },
  {
   "cell_type": "markdown",
   "metadata": {},
   "source": [
    "#### Correctness of the strategy\n",
    "**Cut** a partition of $V=\\{V_s,V_t\\},s\\in V_s, t\\in V_t$ <br>\n",
    "$\\forall X=\\{V_s,V_t\\}$ cut. <br> \n",
    "Define capacity $c(X)=\\sum_{u\\in V_s, v\\in V_t\\\\(u,v)\\in E} c(u,v)$, we say such path is forward in respect to $X$. <br>\n",
    "Define flow $f(X)=\\sum_{u\\in V_s, v\\in V_t\\\\(u,v)\\in E} f(u,v)-\\sum_{u\\in V_t, v\\in V_s\\\\(u,v)\\in E} f(u,v)$\n",
    "\n",
    "**Observations**\n",
    "- $\\forall N, f \\text{ valid}, X. f(X)\\leq c(X)$\n",
    "- $\\forall N,f,X. f(X)=|f|$\n",
    "\n",
    "**Theorem** $\\forall N, f \\text{ valid}. |f| $ is maximized IFF $N$ has no augmenting path. \n",
    "\n",
    "**Proof** $\\Rightarrow$ Suppose $N$ contains an augmenting path. then current $|f|$ is no maximized. Proven by contradiction. \n",
    "\n",
    "$\\Leftarrow$ Assume $N$ does not contain an augmenting path, construct cut $X$ as: \n",
    "\n",
    "- start with $V_s=\\{s\\}, V_t=V-V_s$ \n",
    "- for any edge $(u,v), u\\in V_s, v\\in V_t, f(u,v)<c(u,v), V_t = V_t-\\{v\\}, V_s = V_s\\cup \\{v\\}$\n",
    "- for any $(u,v), u\\in V_t, v\\in V_s, f(u,v)>0, V_t=V_t - \\{u\\}, V_s=V_s\\cup \\{u\\}$\n",
    "\n",
    "repeat as long as possible. Equivalently, $V_s = $ all vertices reachable from $s$ in $N'$, $V_t=V-V_s$\n",
    "\n",
    "Then, $t\\not\\in V_s$, $X=(V_s,V_t)$ is valid and $\\forall (u,v)\\in E, u\\in V_s, v\\in V_t. f(u,v)=c(u,v). \\forall (u,v)\\in E, u\\in V_t, v\\in V_s, f(u,v)=0$.\n",
    "\n",
    "Therefore $|f|=f(X)=c(X)$"
   ]
  },
  {
   "cell_type": "markdown",
   "metadata": {},
   "source": [
    "#### Complexity\n",
    "possible for runtime depend on the smallest capacity\n",
    "$V=\\{s,t,a,b\\}, E=\\{(s,a,10^{100}), (a,t,10^{100}), (a,b,1), (s,b,10^{100}, (b,c,10^{100})\\}$\n",
    "Consider the loop $s\\rightarrow a\\rightarrow b\\rightarrow t,s\\rightarrow a\\leftarrow b\\rightarrow t$\n",
    "\n",
    "To improve\n",
    "1. use BFS to find augmented paths: $O(|V||E|)$ augmentations required. Since BFS runs in $O(|E|)$ the total is $O(|V||E|^2)$\n",
    "2. since we will rerun BFS sometimes, with each execution of BFS, use all augmented path found before running BFS again. Possible to improve to $O(|V|^2|E|)$\n",
    "3. $O(n^3)$ possible using a different tech called preflow algorithms. \n"
   ]
  },
  {
   "cell_type": "markdown",
   "metadata": {},
   "source": [
    "#### Reduction\n",
    "In practice, solving problems through Network flow involves transforming the original problem into network flow. \n",
    "\n",
    "1. input \n",
    " - Describe how to create $N_X$\n",
    "2. network $N_X$\n",
    " - Use F-F algorithm ...\n",
    "3. find max-flow $f$ or min-cut $X$\n",
    " - Describe how to construct a solution from the $N_X$ result\n",
    "4. construct solution to original problem\n",
    "\n",
    "**Correctness**\n",
    " - Argue that every solution to original problem corresponds to some valid flow/cut in $N_X$\n",
    " - Argue that every flow in $N_X$ (or every cut) corresponds to some solution for original problem\n"
   ]
  },
  {
   "cell_type": "markdown",
   "metadata": {},
   "source": [
    "#### Max bipartite matching Problem\n",
    "Input: $G=(V_1,V_2, E)$ undirected, bipartite ($\\forall (u,v)\\in E. u\\in V_1, v\\in V_2$)\n",
    "\n",
    "Output: a matching $M\\subseteq E$ s.t. no two edges in $M$ shares endpoints. max $|M|$\n",
    "\n",
    "Solution: add $s$ to $V_1$, add all edges from $s$ to all vertices in $V_1$, make all edges in $E$ directed from $V_1$ to $V_2$. Add $t$ to $V_2$, add all edges from all vetices in $V_2$ to $t$. Then do network flow (integer). output $M=\\{(u,v)\\in E\\mid f(u,v)=1\\}$\n",
    "\n",
    "**Correctness** <br>\n",
    "for any matching $M$ in $G$, $\\exists$ a corresponding flow $f(u,v)=\\mathbb{I}$((u,v) matching),$f(s,u)=\\mathbb{I}$(u matched), $f(v,t)=\\mathbb{I}$(if v matched). Then, $\\max|f|\\geq $max matching size\n",
    "\n",
    "for any valid flow $f$, $\\exists M = \\{(u,v)\\in E\\mid f(u,v)=1\\}$ because of the capacity constraint, no edges in $M$ can share an endpoint. Then max matching size $\\geq \\max|f|$"
   ]
  },
  {
   "cell_type": "markdown",
   "metadata": {},
   "source": [
    "#### Max independent set for bipartite graphs\n",
    "Input: $G=(V_1,V_2,E)$ bipartite \n",
    "\n",
    "Output: an independent set $S\\subseteq V_1\\cup V_2$ with no edge having both endpoints in $S$. max $|S|$.\n",
    "\n",
    "Solution: \n",
    "1. add $s$ to $V_1$, add all edges from $s$ to all vertices in $V_1$ and has capacity 1, make all edges in $E$ directed from $V_1$ to $V_2$ and have capacity $\\infty$. Add $t$ to $V_2$, add all edges from all vetices in $V_2$ to $t$ have capacity 1.\n",
    "2. Find cut $X$ in $N$ with min capacity (first, find max flow, then let $X=$connected component of $s$ in $N'$)\n",
    "3. Let $X=(V_s,V_t)$, )Output $S=(V_1\\cap V_s) \\cup (V_2\\cap V_t)$\n",
    "\n",
    "**Correctness**\n",
    "- Given any independent set $S\\subseteq V_1\\cup V_2$, consider the cut $X=(V_s,V_t)$ where $V_s=\\{s\\}\\cup (V_1\\cap S)\\cup(V_2-S)$. Then, $c(X)=\\sum_{u\\in V_1,u\\not\\in S} c(s,u) + \\sum_{v\\in V_2, v\\not\\in S}c(v,t) = |V_1-S|+|V_2-S|=|V_1\\cup V_2|-|S|$. So min cut capacity $\\geq |V_1|+|V_2|$ (max independent set size)\n",
    "\n",
    "- For any cut $X=(V_s,V_t)$ with $c(X)<\\infty$, then $S=(V_1\\cap V_s)\\cup(V_2\\cap V_t)$ is an independent set since the cut has a finite capacity (else, there would be an edge with infinity capacity), then similarly $c(X)|=|V_1\\cup V_2|-|S|$\n",
    "\n",
    "Therefore, the cuts is equivalent to the independent set. Hence, the max independent set size $=|V_1+V_2|-\\text{min cup capacity}$"
   ]
  }
 ],
 "metadata": {
  "hide_input": false,
  "kernelspec": {
   "display_name": "Python 3",
   "language": "python",
   "name": "python3"
  },
  "language_info": {
   "codemirror_mode": {
    "name": "ipython",
    "version": 3
   },
   "file_extension": ".py",
   "mimetype": "text/x-python",
   "name": "python",
   "nbconvert_exporter": "python",
   "pygments_lexer": "ipython3",
   "version": "3.6.8"
  }
 },
 "nbformat": 4,
 "nbformat_minor": 2
}
