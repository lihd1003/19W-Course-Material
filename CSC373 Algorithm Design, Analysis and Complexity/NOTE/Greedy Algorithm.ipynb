{
 "cells": [
  {
   "cell_type": "markdown",
   "metadata": {},
   "source": [
    "## Greedy Algorithm\n",
    "****\n",
    "#### Activity Schedule \n",
    "$A = \\{a_1,...,a_n\\}$ set of tasks, $|A|=n$, $a_i = (s_1,f_i), s_i=$ start time, $f_i=$ finish time. $S \\subseteq A. S=$ set of tasks without overlap. Maximize $|S|$. <br>\n"
   ]
  },
  {
   "cell_type": "markdown",
   "metadata": {},
   "source": [
    "_**Implementation**_ Greedy based on finish time <br>\n",
    "```python\n",
    "1  sort A by the finishing time\n",
    "2  f = 0 # finishing time\n",
    "3  S = []\n",
    "4  for ai in A: \n",
    "5      if f <= ai.s: # the start time of the ith activity\n",
    "6          S.append(si)\n",
    "7          f = ai.f\n",
    "8  return S\n",
    "```"
   ]
  },
  {
   "cell_type": "markdown",
   "metadata": {},
   "source": [
    "_**Correctness**_  Thrm 16.1 CLRS<br>\n",
    "Define $OPT\\subseteq A$ be an optimal solution of the problem, in which $|OPT|$ is maximized and there is no overlapping in $OPT$.<br>\n",
    "Define $S_k$ be the state of $S$ after the $k$th iteration of the for loop (4-7), $S_0$ be the state before entering the loop.<br>\n",
    "__*Claim*__ $\\exists OPT. \\forall k\\in\\mathbb{N}.S_k\\subseteq OPT\\subseteq S_k\\cup\\{A_{k+1},...,A_n\\}$. (loop invariant)<br> \n",
    "__*Proof*__ prove by induction <br>\n",
    "_Base case_ $S_0=\\emptyset\\subseteq OPT\\subseteq \\{A_1,...,A_n\\}$ <br>\n",
    "_Inductive step_ Take $OPT$ be some optimal solution,assume the inductive hypothesis. Consider the two cases\n",
    " - $S_{i+1} = S_i$, a.k.a. $A_{k+1}$ overlaps with some activity in $S_{i}$. By induction hypothesis, $S_{i+1}\\subseteq OPT\\subseteq S_k \\cup \\{A_{k+1},..., A_n\\}=S_{k+1}\\cup \\{A_{k+1},..., A_n\\}$. Moreover, $A_{k+1}\\not\\in OPT$ because $A_{k+1}$ would overlap with some activity in $OPT$, hence $S_{i+1}\\subseteq OPT\\subseteq S_{k+1}\\cup \\{A_{k+1},..., A_n\\} - \\{A_{k+1}\\} = S_{k+1}\\cup \\{A_{k+2},..., A_n\\}$. \n",
    " \n",
    "- $S_{i+1} = S_{i}\\cup \\{A_{k+1}\\}$. <br>\n",
    "  If $A_{k+1}\\in OPT$, then the claim is proven. <br>\n",
    "  If $A_{k+1}\\not\\in OPT$, then consider $A_m\\in OPT, m > i+1$ is the smallest index that is greater than $i+1$, then $A_m$ has greater finishing time than $A_{k+1}$, let $OPT' = OPT - {A_m} \\cup \\{A_{i+1}\\}, |OPT'|=|OPT|$, $A_{k+1}$ will not overlap with any other activities in $OPT'$ since it will not overlap with any activities before $A_m$ by its starting time property, and it will not overlap with any activity after $A_m$ since it even finishes earlier than $A_m$, then $OPT'$ is a optimal solution, and $S_{k+1}\\subseteq OPT'$ since $m > i+1, A_m\\not\\in S_{k+1}$, and $OPT' \\subseteq S_{k+1}\\cup\\{A_{k+2},...,A_n\\}$ since $A_{k+1}\\in S_{k+1}$"
   ]
  },
  {
   "cell_type": "markdown",
   "metadata": {},
   "source": [
    "__*General strategy for proving Greedy correctness*__ every _partial solution_ generated can be _extended_ to an _optimal solution_ <br>\n",
    "\n",
    "Proof of sub-case 2.2 is called _exchange lemma_"
   ]
  },
  {
   "cell_type": "markdown",
   "metadata": {},
   "source": [
    "#### Minimal Spanning Tree\n",
    "Let $G=(V,E)$ be a connected graph with weight function $w(e)\\in\\mathbb{N}. \\forall e\\in E$. <br>\n",
    "A Spanning tree $S = (V,T)$ is an acyclic, connected subgraph (tree) of $G$.<br>\n",
    "minimize $w(T)=\\sum_{e\\in T}w(e)$ \n"
   ]
  },
  {
   "cell_type": "markdown",
   "metadata": {},
   "source": [
    "_**Implementation**_\n",
    " - _Prim's Algorithm_ Start with an arbitrary vertex $v$, let $C = \\{v\\}$ be the connected component. For each iteration, add the shortest edge attaches to $C$ and some $u\\not\\in C$, until $C = V$. \n",
    " - _Kruskal's Algorithm_ Start with $T = \\emptyset$, let $E'$ be $E$ sorted in non-increasing order of weight. Iterate over $E'$, if $e$ connects two different connected component (implement with disjoint set), adds to $T$. \n",
    " ```python\n",
    "krustal_mst():\n",
    "1 sort E by non-increasing order\n",
    "2 T = [] #empty disjoint set\n",
    "3 for e in range(1,m):\n",
    "4     if e connects two disjoint sets:\n",
    "5         T.append(e) \n",
    " ```\n",
    " - _Reverse remove Algorithm_ Starts with $T = E$, let $E'$ be $E$ sorted in non-decreasing order of weight, iterate over $E'$, remove $e$ from $T$ if the two vertices are still connected. \n",
    " \n"
   ]
  },
  {
   "cell_type": "markdown",
   "metadata": {},
   "source": [
    "_**Correctness (Krustal's)**_ <br>\n",
    "Define $T_i$ be the state of $T$ after the $i$th iteration of the for loop (line 3-5), $T_0=\\emptyset$. Define $T^*$ be the optimal solution.<br>\n",
    "**Claim** $\\forall n\\in\\mathbb{N}. T_n\\subseteq T^*\\subseteq T_n\\cup\\{e_{n+1},...,e_{m}\\}$ <br>\n",
    "**Proof** Let $n\\in\\mathbb{N}$.<br>\n",
    "Suppose $n = 0$, $\\emptyset\\subseteq T^* \\subseteq E$. <br>\n",
    "Suppose $n > 0$, assume $P(n)$. <br>\n",
    " - Suppose $T_{n+1} = T_{n}$, then by the if condition (line 4), $e_{n+1}$ will create a cycle in $T_n$, hence $e_{n+1}\\not\\in T^*$. Therefore, $T_{n+1} = T_n \\subseteq T^* \\subseteq T_{n+1}\\cup\\{e_{n+2},...,e_m\\}$\n",
    " - Suppose $T_{n+1} = T_{n}\\cup\\{e_{n+1}\\}$ <br>\n",
    "  If $e_{n+1} \\in T^*$, then proven <br>\n",
    "  If $e_{n+1}\\not\\in T^*$, say $e_{n+1} = (u, v),u\\in T_n, v\\not\\in T_n$, then consider some $e_i\\in T^*$ with one endpoint being $v$, $e_i\\not\\in T_n$ since $T_n$ does not connect $v$. Then, $w(e_i)\\geq w(e_{n+1})$ by the sorting property. Then consider $T^{**} = T^* - \\{e_i\\}\\cup\\{e_{k+1}\\}, w(T^{**})\\leq w(T^*)$. Also, $T^{**}$ is connected, acyclic by the MST property of $T^*$. Hence $T^{**}$ is a MST. $T_{n+1}\\subseteq T^{**}\\subseteq T^{**}\\cup \\{e_{n+2},...,e_m\\}$. "
   ]
  },
  {
   "cell_type": "markdown",
   "metadata": {},
   "source": [
    "#### Shortest Path\n",
    "**Precondition** $G = (V,E)$ connected, with $w:E\\rightarrow \\mathbb{Z}^+$. $s,t\\in V$ <br>\n",
    "**Postcondition** return $u\\sim v$ with minimized $w(u\\sim v) = \\sum_{e\\in u \\sim v} w(e)$"
   ]
  },
  {
   "cell_type": "markdown",
   "metadata": {},
   "source": [
    "_**Implementations**_\n",
    "- Brute force: worst case $O(c^n)$\n",
    "- Special Case: $\\forall e\\in E. w(e) = 1\\Rightarrow $ BFS $\\in O(|E|)$\n",
    "- Dijkstra's Algorithm\n",
    "```python\n",
    "    dijkstra(G, w, s, t):\n",
    "    1     P = [] # list of edges of the shortest paths tree\n",
    "    2     Q = empty min-priority queue of vertices v, prioritize on v.d\n",
    "    3     for all v in V:\n",
    "    4         v.parent = Nil\n",
    "    5         v.d = Infinity\n",
    "    6         Q.enqueue(v)\n",
    "    7     s.d = 0\n",
    "    8     Q.update()\n",
    "    \n",
    "    9     while Q is not empty:\n",
    "    10        v = Q.dequeue()\n",
    "    11        P.append((v,v.parent))\n",
    "    12        for (u,v) in all paths containing v:\n",
    "    13            if u in Q and v.d + w(v,u) < u.d:\n",
    "    14                u.parent = v\n",
    "    15                u.d = v.d + w(u,v)\n",
    "    16                Q.update()\n",
    "    17    P.remove((Nil, s))\n",
    "    18    return p\n",
    "```\n",
    " - Similar to BFS, use a priority queue (prioritized by best distance so far) instead of an array\n",
    " - Similar to Prim's, but with different priorities"
   ]
  },
  {
   "cell_type": "markdown",
   "metadata": {},
   "source": [
    "_**Runtime**_ <br>\n",
    "$O((m+n)\\log n) = O(m \\log n)$ since connected\n",
    "Initialization takes (1-8) $O(n)$ time <br>\n",
    "Consider the while loop (9-16), in each iteration, $v$ is dequeued from $Q$ and no nodes are enqueued, hence the while loop will execute $O(n)$ time. <br>\n",
    "Consider the inner for loop, consider $G$ implemented as an adjacency list. Over all iterations, each edge generates at most one queue update and are examined at most twice. For each queue update, it takes $O(\\log n)$ time. Therefore, the total is $O(m\\log n)$\n",
    "Since the graph is connected, the total time is $O(m \\log n)$"
   ]
  },
  {
   "cell_type": "markdown",
   "metadata": {},
   "source": [
    "_**Properties**_<br>\n",
    "Define $\\forall v\\in V. \\delta (s,v)=\\min\\{w(s\\sim v)\\mid s\\sim v\\text{ is a path in }G\\}$ <br>\n",
    "\n",
    "**Lemma 1** $\\forall v\\in V$. in any iteration, $v.d\\geq \\delta(s,v)$.<br>\n",
    "**Proof** by induction on the number of iteration, based on the algorithm, $u.d=\\infty$ or weight of some particular path.<br>\n",
    "\n",
    "**Lemma 2** (Triangular property) $\\forall u,v,w\\in V. \\delta(u,v)\\leq \\delta(u,w)+\\delta(w,v)$.<br>\n",
    "**Proof** Otherwise $u\\sim w\\sim v$ is the shortest path. \n",
    "\n",
    "**Lemma 3** (sub-path property) Any sub-path of a shortest path is shortest. <br>\n",
    "**Proof** prove by contradiction, a shorter sub-path will shorten the path. \n",
    "\n",
    "\n",
    "\n"
   ]
  },
  {
   "cell_type": "markdown",
   "metadata": {},
   "source": [
    "_**Discussion**_<br>\n",
    "Show $P_k$ the value of $P$ after the $k$th iteration of the loop, can be extend to some optimal shortest path tree.\n",
    " - Core of inductive step: show that $\\forall v\\in P_k. v.d=\\delta(s,v)$\n",
    " - Consider one iteration $P_{k+1}=P_k\\cup\\{v'.parent, v'\\}$ which $v'$ is just being connected. Then it follows $v'.d=\\delta(s,v')$. <br>\n",
    " By lemma 1, we only need to prove $u.d \\leq \\delta(s,v)$ by contradiction. <br>\n",
    " Assume $v.d>\\delta(s,v)$. Consider $s\\sim v\\in P_{k+1}$, consider $(s\\sim v)^*$ be the shortest path, let $(x,y)\\in(s\\sim v)^*$ be the first edge such that $x\\in P_k, y\\not\\in P_k$. <br>\n",
    "If $y\\neq v$, then \n",
    "$y.d \\leq x.d + w(x,y)\\leq \\delta(s,x)+w(x,y)<\\delta(s,x)+w(x,y)+\\delta(y,v)=\\delta(s,v)<v.d$, contradict to $v.d$ is the min in $Q$<br>\n",
    "If $y=v,v.d\\leq x.d+w(x,v)=\\delta(s,v)<v.d$"
   ]
  },
  {
   "cell_type": "markdown",
   "metadata": {},
   "source": [
    "_**Correctness**_ <br>\n",
    "Let $k\\in\\mathbb{N}. k < n$. Let $P(k)$ be such that \"$\\exists P^*$ be the optimal solution s.t. $P_k\\subseteq P^*$ and $P^*-P_k$ contains only edges without both endpoints in $P_k$ and $\\forall u\\in P_k.\\forall v\\not\\in P_k. u.d=\\delta(s,u)\\leq \\delta(s,v)\\leq v.d$\".\n",
    "\n",
    "Suppose $k = 0$, $P_0=\\emptyset\\subseteq P^*$.\n",
    "\n",
    "Suppose $k > 0$, assume $P(k)$. consider $P_{k+1} = P_k \\cup \\{(u,v)\\}, u\\in P_k, v\\not\\in P_k$.\n",
    " - Suppose $(u,v)\\in P^*$. Then $P_{k+1}\\subseteq P^*$. Also $\\delta(s,v)=\\delta(s,u)+w(u,v)=\\delta(s,v)$. By the priority of $Q$, $v.d$ is the smallest among vertices not connected by $P_k$, hence $\\forall x\\in P_{k+1}.\\forall w\\not\\in P_{k+1}. x.d\\leq \\delta(s,x)\\leq \\delta(s,w)\\leq w.d$.\n",
    " - Suppose $(u,v)\\not\\in P^*$. Then take $(s\\sim v)^* \\in P^*$, $(w,v)$ be the last edge in the path $(s\\sim v)^*$. <br>\n",
    " I claim that $w\\in P_k$. <br>\n",
    "  - Let $(x,y)\\in(s\\sim v)^*$ be the first edge such that $x\\in P_k, y\\not\\in P_k$. Then $y.d\\le \\delta(s,v) \\leq v.d$ because $w((s,v)^*)=\\delta(s,v)$ and $w(s\\sim y) < w((s,v)^*)$ since $y$ is on the path. However this contradict with the fact that $v.d$ has the minimum priority. \n",
    " - Therefore, $\\delta(s,v) = w.d + w(w,v)$. Then, since $v.d$ is the shortest distance, $v.d \\leq w.d + w(w,v) = \\delta(s,v)$. By Lemma 1, $v.d = \\delta(s,v)$ <br>.\n",
    " Take $P^{**} = P^* - \\{(w,v)\\}\\cup\\{(u,v)\\}$ is a shortest path tree and $\\forall x\\in P_k. \\forall y\\not\\in P_k. x.d = \\delta(s,x)\\leq \\delta(s,y) \\leq y.d$\n",
    " \n",
    "  "
   ]
  }
 ],
 "metadata": {
  "hide_input": false,
  "kernelspec": {
   "display_name": "Python 3",
   "language": "python",
   "name": "python3"
  },
  "language_info": {
   "codemirror_mode": {
    "name": "ipython",
    "version": 3
   },
   "file_extension": ".py",
   "mimetype": "text/x-python",
   "name": "python",
   "nbconvert_exporter": "python",
   "pygments_lexer": "ipython3",
   "version": "3.6.8"
  }
 },
 "nbformat": 4,
 "nbformat_minor": 2
}
