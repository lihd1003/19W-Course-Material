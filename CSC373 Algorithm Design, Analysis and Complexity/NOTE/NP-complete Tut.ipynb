{
 "cells": [
  {
   "cell_type": "markdown",
   "metadata": {},
   "source": [
    "2. Show the problems are NP-complete\n",
    "\n",
    "Subgraph Isomorphism:\n",
    "Input $G,H$ be two graphs  \n",
    "Output whether $G\\subseteq H$ (every vertex and edge in $G$ can be projected to some vertex and edge in $H$). \n",
    "\n",
    "SI$\\in$ NP  \n",
    "verifier certificate $C$ as a subgraph of $H$, output $C=G$. \n",
    "\n",
    "$Clique\\rightarrow_p SI$ Given $G,k$, output a k-clique $k$ and see whether it is in $G$. \n",
    "\n"
   ]
  },
  {
   "cell_type": "markdown",
   "metadata": {},
   "source": [
    "MaxSAT: Given a CNF $\\phi$ and $k\\in\\mathbb{Z}^+$. Output whether exists a  truth assignment that satisfies at least k clauses of $\\phi$. \n",
    "\n",
    "$3SAT\\rightarrow_p MaxSAT$ Given $\\phi$ in 3CNF, output $\\phi$ and $k=$ #clauses\n"
   ]
  },
  {
   "cell_type": "markdown",
   "metadata": {},
   "source": [
    "SparseSubgraph: Given $G$ undirected, $a,b\\in\\mathbb{Z}^+$. Output whether exists $S\\subseteq V, |S|=a$ with $|E'|\\leq b$.\n",
    "\n",
    "IndependentSet $\\rightarrow_p$ SparseSubgraph. Given $G,k$, output $G,k,0$.\n"
   ]
  },
  {
   "cell_type": "markdown",
   "metadata": {},
   "source": [
    "SetCover: Given $S, S_1,...,S_m\\subseteq S,k\\in\\mathbb{Z}^+$. Is there a collection of $k$ subsets whose union is equal to $S$. \n",
    "\n",
    "VertexCover $\\rightarrow_p$ SetCover. Given $G=(V,E), k$. Output $E_1,...,E_n$ where $E_i$ is the edges attach to $v_i$, and $k$. "
   ]
  },
  {
   "cell_type": "markdown",
   "metadata": {},
   "source": [
    "Vertex Cover $\\rightarrow_p$ Independent Set.  \n",
    "\n",
    "Given $G=(V,E), k\\in\\mathbb{Z}^+$.  \n",
    "**Claim** $(G,k)\\in VC $ IFF $(G,n-k)\\in IS$.  \n",
    "_proof_  $\\Rightarrow$: Suppose $C\\subseteq V$ is a vertex cover $|C|=k$, then consider $V-C, |V-C|=n-k$ have no edge between two vertices in $V-C$, otherwise $C$ does not cover all edges in $E$. Therefore, $V-C$ is an independent set.  \n",
    "$\\Leftarrow$: Suppose $(G,n-k)\\in IS$, take $S\\subseteq V$ be the independent set $|S|=n-k$, then $V-C$ is a vertex cover since all edges must have one end point in $V-C$, if not, then both end points are in $C$, contradicts with the fact that $C$ is an independent set. "
   ]
  },
  {
   "cell_type": "markdown",
   "metadata": {},
   "source": [
    "Clique $\\rightarrow_p$ Independent Set\n",
    "\n",
    "**Claim** $(G,k)\\in Clique$ IFF $(G',k)\\in IS$ where $G'=(V,E^c)$  \n",
    "_proof_ $\\Rightarrow$: A k-clique exists IFF the graph compliment contains no edge between the vertices. "
   ]
  },
  {
   "cell_type": "markdown",
   "metadata": {},
   "source": [
    "Hamiltonian cycle $\\rightarrow_p$ H Path\n",
    "\n",
    "make one vertex into two copy\n",
    "\n"
   ]
  }
 ],
 "metadata": {
  "kernelspec": {
   "display_name": "Python 3",
   "language": "python",
   "name": "python3"
  },
  "language_info": {
   "codemirror_mode": {
    "name": "ipython",
    "version": 3
   },
   "file_extension": ".py",
   "mimetype": "text/x-python",
   "name": "python",
   "nbconvert_exporter": "python",
   "pygments_lexer": "ipython3",
   "version": "3.6.8"
  }
 },
 "nbformat": 4,
 "nbformat_minor": 2
}
