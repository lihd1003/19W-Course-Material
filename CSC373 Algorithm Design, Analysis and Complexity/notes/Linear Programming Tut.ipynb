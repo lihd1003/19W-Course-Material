{
 "cells": [
  {
   "cell_type": "markdown",
   "metadata": {},
   "source": [
    "1. \"Duckwheat\" is produced in Kansas and Mexico and consumed in New York    and California. Each month, Kansas produces 15 \"shnupells\" of duckwheat    and Mexico, 8, while New York consumes 10 shnupells and California, 13.    The monthly transportation costs per shnupell are \\\\$4 from Mexico to New York, \\\\$1 from Mexico to California, \\\\$2 from Kansas to New York, and \\\\$3 from Kansas to California.\n",
    "\n",
    "**Variables** $x_1,x_2,x_3,x_4$ be the amount of Duckwheat from \n",
    " - $x_1$ K to N\n",
    " - $x_2$ K to C\n",
    " - $x_3$ M to N\n",
    " - $x_4$ M to C  \n",
    " \n",
    "**Objective** minimize $2x_1 + 3x_2 + 4x_3 + x_4$\n",
    "\n",
    "**Constraint** \n",
    " - $x_1 + x_2 = 15$\n",
    " - $x_3+x_4 = 8$\n",
    " - $x_1 + x_3 = 10$\n",
    " - $x_2+ x_4 = 13$\n",
    " - $x_1,x_2,x_3,x_4 \\geq 0$\n",
    " \n",
    " Then it equals to maximize\n",
    " $$2x + 3(15-x)+4(10-x)+(x-2)=-4x+93$$\n",
    " where $2\\leq x\\leq 10$, hence $x=2$"
   ]
  },
  {
   "cell_type": "markdown",
   "metadata": {},
   "source": [
    "2. Consider a set of mobile computing clients in a certain town who each need to be connected to one of several possible \"base stations\". We'll suppose there are $n$ clients, with the position of each client specified by its $(x,y)$ coordinates in the plane. There are also m base stations, each of whose position is specified by $(x,y)$ coordinates as well.  \n",
    "We wish to connect each client to exactly one base station. Our choice of connections is constrained in the following ways. There is a \"range parameter\" r −− a client can only be connected to a base station that is    within distance r. There is also a \"load parameter\" L −− no more than L clients can be connected to any single base station.   \n",
    "Show how to represent this problem as a linear program, and how to solve    it using linear programming algorithms. Justify carefully that your    solution is correct. Can you guarantee that your algorithm runs in    polytime?"
   ]
  },
  {
   "cell_type": "markdown",
   "metadata": {},
   "source": [
    "**Variables** $I_{11},...,I_{nn}$ where $I_{ij}$ is the indicator that there is a connection between client $i$ and base station $j$.  \n",
    "**Objective function** minimize $\\sum_{i=1}^n\\sum_{j=1}^n d_{ij}I_{ij}$ where $d_{ij}$ is the distance between client $i$ and base station $j$.  \n",
    "**Constraint** \n",
    "- $\\forall i\\in\\{1,2,...,n\\}. \\sum_{j=1}^n I_{ij} = 1$\n",
    "- $\\forall i,j. d_{ij}I_{ij}\\leq r_{ij}$\n",
    "- $\\forall j. \\sum_{i=1}^n I_{ij}\\leq L_j$\n",
    "\n",
    "Since $I_{ij}$ is a indicator function, this is an integer problem\n"
   ]
  }
 ],
 "metadata": {
  "kernelspec": {
   "display_name": "Python 3",
   "language": "python",
   "name": "python3"
  },
  "language_info": {
   "codemirror_mode": {
    "name": "ipython",
    "version": 3
   },
   "file_extension": ".py",
   "mimetype": "text/x-python",
   "name": "python",
   "nbconvert_exporter": "python",
   "pygments_lexer": "ipython3",
   "version": "3.6.8"
  }
 },
 "nbformat": 4,
 "nbformat_minor": 2
}
