{
 "cells": [
  {
   "cell_type": "markdown",
   "metadata": {},
   "source": [
    "## TUT4 KnapSack "
   ]
  },
  {
   "cell_type": "markdown",
   "metadata": {},
   "source": [
    "#### Question\n",
    "Given $W\\in\\mathbb{Z}^+, I = \\{(w_1, v_1),...,(w_n,v_n)\\}$, $w_i,v_i\\in\\mathbb{Z}^+$. Maximize for set $S$ s.t. $\\sum_{i\\in S} w_i \\leq W \\land \\sum_{i\\in S} v_i$ maximized. "
   ]
  },
  {
   "cell_type": "markdown",
   "metadata": {},
   "source": [
    "_**0. Recurrence**_ <br>\n",
    "Let $v_k\\in S$ having the maximum value, then $S-\\{k\\}$ must be the optimal set for $W-w_k$, otherwise will cause contradiction. "
   ]
  },
  {
   "cell_type": "markdown",
   "metadata": {},
   "source": [
    "_**1. Table**_\n"
   ]
  },
  {
   "cell_type": "markdown",
   "metadata": {},
   "source": [
    "$T(k, i) = $ maximum value of items with weight $i$ and item $1,...,k$. \n"
   ]
  },
  {
   "cell_type": "markdown",
   "metadata": {},
   "source": [
    "```python\n",
    "for i in range(W):\n",
    "    T[0, i] = 0\n",
    "for i in range(W):\n",
    "    for k in range(n):\n",
    "        T[i, k] = max(T[i - 1, k], \n",
    "                      T[i, k - 1])\n",
    "```"
   ]
  },
  {
   "cell_type": "markdown",
   "metadata": {},
   "source": [
    "## TUT5 "
   ]
  },
  {
   "cell_type": "markdown",
   "metadata": {},
   "source": [
    "#### Question\n",
    "Input a list of strictly increasing positive integers $D=\\{d_1,...,d_m\\}$, a positive integer $A$. Output a count set $C$ of $D$ s.t. $\\sum_C = A$, or Null if cannot solve"
   ]
  },
  {
   "cell_type": "markdown",
   "metadata": {},
   "source": [
    "#### Recurrence\n",
    "The optimal set either\n",
    "\n",
    " - includes $d_m$, then $T(A, m) = T(A-d_m, m) \\cup\\{d_m\\}$\n",
    " - not includes $d_m$, then $T(A, m) = T(A, m-1)$\n",
    " \n",
    "The relation\n",
    " - $T(a, 0) = None$ since there's no coin\n",
    " - $T(0, m) = 0$ since there's no value\n",
    " - $T(a, m) = T(a, m-1)$ if $d[m]>a$\n",
    " - $T(a, m) = \\min\\{T(a, m -1), 1 + T(a-d[m], m)\\})$"
   ]
  },
  {
   "cell_type": "code",
   "execution_count": 26,
   "metadata": {},
   "outputs": [
    {
     "name": "stdout",
     "output_type": "stream",
     "text": [
      "9334\n"
     ]
    },
    {
     "data": {
      "text/plain": [
       "0.9999981439010643"
      ]
     },
     "execution_count": 26,
     "metadata": {},
     "output_type": "execute_result"
    }
   ],
   "source": [
    "from random import randint\n",
    "a = [1]*3 + [0] * 10\n",
    "x = 1\n",
    "r = 10\n",
    "\n",
    "all = 0\n",
    "for k in range(10000):\n",
    "    sum_it = 0\n",
    "    for i in range(r):\n",
    "        sum_it += a[randint(0, 12)] == x\n",
    "    all += sum_it > 0\n",
    "print(all)\n",
    "1 - (3/13)**(r-1)"
   ]
  }
 ],
 "metadata": {
  "hide_input": false,
  "kernelspec": {
   "display_name": "Python 3",
   "language": "python",
   "name": "python3"
  },
  "language_info": {
   "codemirror_mode": {
    "name": "ipython",
    "version": 3
   },
   "file_extension": ".py",
   "mimetype": "text/x-python",
   "name": "python",
   "nbconvert_exporter": "python",
   "pygments_lexer": "ipython3",
   "version": "3.6.8"
  }
 },
 "nbformat": 4,
 "nbformat_minor": 2
}
