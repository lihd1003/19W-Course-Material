{
 "cells": [
  {
   "cell_type": "markdown",
   "metadata": {},
   "source": [
    "#### Activity Scheduling with Profits\n",
    "- Input: $A =\\{A_1,...,A_n\\}$ where $A_i=(s_i,f_i,w_i)$ where $w_i\\in\\mathbb{N}$ is the profit\n",
    "- Output: $S\\subseteq A, S$ has no conflct and $w(S)=\\sum_{A_i\\in S} w_i$ is maximized"
   ]
  },
  {
   "cell_type": "markdown",
   "metadata": {},
   "source": [
    "_**Discussion**_\n",
    " - Note that Greedy won't work (finish time, profit, unit-profit)\n",
    " - Assume the activity are sorted by finish time. Consider $S^*$ optimal, consider $A_n$ which is the activity with the largest finishing time. \n",
    "  - If $A_n\\in S^*$, then $S^*-A_n$ must be optimal for $A'=\\{A_1,...,A_k\\}$ where $k$ is the last activity that does not overlap with $A_n$, a.k.a. $\\{A_{k+1},...,A_{n-1}\\}$ each overlap with $A_n$\n",
    "  - If $A_n\\not\\in S^*$, then $S^*$ is optimal for $A-\\{A_n\\}$\n",
    " - **Recursive substructure** when an optimal solution of a problem is made up of optimal solutions of the sub-problems."
   ]
  },
  {
   "cell_type": "markdown",
   "metadata": {},
   "source": [
    "_**Recursive Implementation**_ <br>\n",
    "`initialization(A)`compute $P = p[1],...,p[n]$ where $p[i]=$index of the last activity that does not overlap with $A_i$, note $p[i]\\leq i-1$\n",
    "\n",
    "```python\n",
    "solution(A):\n",
    "    P = initialization(A)\n",
    "    return RecOpt(n, P)\n",
    "\n",
    "RecOpt(n, P):\n",
    "    if n = 0;\n",
    "        return 0\n",
    "    return max(RecOpt(n-1), w_n + RecOpt(p[n]))\n",
    "```\n",
    "Note that the runtime has combinatorial explosion due to the repeated calls of `RecOpt(i)` for small `i` for exponentially many times. THe runtime is exponential only because it is recursive, To solve it\n",
    " - memorization: memorize the output of RecOpt(i) and record for later usage\n",
    " - Instead, compute values bottom-up\n",
    " \n",
    "```python\n",
    "IterOpt(A):\n",
    "    initialization(A)\n",
    "    OPT = []\n",
    "    OPT[0] = 0\n",
    "    for i in range(1, n):\n",
    "        OPT[i] = max(OPT[i-1], w_i + OPT[p[i]])\n",
    "    return OPT # note that OPT is useful to get S\n",
    "```\n"
   ]
  },
  {
   "cell_type": "markdown",
   "metadata": {},
   "source": [
    "_**Dynamic Programming**_\n",
    " - For optimization problems where global optimum is obtained from optimum to subproblems\n",
    " - The subproblems need to be simple Each subproblem can be characterized using a fixed number of indexes or other information\n",
    " - Subproblem overlap: smaller subproblems repeated in solutions to larger problems\n",
    " \n",
    "_**\"Process\"**_\n",
    "0. Understand the recursive structure of the optimum solutions\n",
    "1. Define a table (iterative data structure) to store the optimum value for all subproblems\n",
    "2. Give a recurrence for the table values, with justification\n",
    "3. Write iterative algorithm to compute the value bottom-up (solve the recurrence)\n",
    "4. Use the table values to compute an actual solution"
   ]
  },
  {
   "cell_type": "markdown",
   "metadata": {},
   "source": [
    "#### Matrix Chain Multiplication\n",
    "Input: $(d_0,...,d_n), d_i\\in\\mathbb{Z}^+$ representing matrix dimensions, since the inner dimension are same, we don't store it twice, a.k.a. $A_0=[d_0\\times d_1], A_1 = [d_1\\times d_2],..., A_{n-1}=[d_{n-1}\\times d_n]$ <br>\n",
    "Output: fully parenthesized expression for $\\prod_1^{n-1} A_i$ that minimize total #flips to computer the product"
   ]
  },
  {
   "cell_type": "markdown",
   "metadata": {},
   "source": [
    "_**Example**_ <br>\n",
    "$A_{1\\times 10}, B_{10\\times 10}, C_{10\\times 100}$ are matrices. We can compute it by $A(BC)$ or $(AB)C$, note that multiplication are associative.\n",
    " - $A(BC)$: Consider $BC$, #flips = $10^2 \\times 100$, then $A(BC)$ #flips = $1\\times 10\\times 100$. sum: $11,000$\n",
    " - $(AB)C$: $AB$: $1\\times 10\\times 10 = 100$, $(AB)C=1\\times 10\\times 100 = 1000$, sum: $1100$"
   ]
  },
  {
   "cell_type": "markdown",
   "metadata": {},
   "source": [
    "_**Discussion**_\n",
    "- Brutal force # ways to parenthesize is called a Catalan number $\\in\\Omega(4^n)$\n",
    "- Greedy ? consider input $(10, 1, 10, 100), (1, 10, 100, 1000)$, try greedy strategies and consider the counter example above. \n"
   ]
  },
  {
   "cell_type": "markdown",
   "metadata": {},
   "source": [
    "_**\"Process\"**_ <br>\n",
    "0. Recursive Structure: \n",
    " - imagine OPT, the last product will be like $(A_1\\times A_{k-1})\\times (A_k\\times A_{n-1})$, note the inner product won't influence the number of operations of this product, hence to minimize, the inner product need to be optimal. \n",
    " - Subproblems will all have the form \"find the best parenthesizing of $A_i\\times ...\\times A_j, i\\leq j$\". Then let $N[i,j]=$ min #flips required to multiple $A_i\\times ...\\times A_j, 0\\leq i\\leq j\\leq n-1$\n",
    " - For $i<j$, for any one pair of parenthesis, the number of operations is $N[i,k-1] + N[k,j] + d_id_kd_{j+1}$ where $N(p,q)$ is the min number of operations taken for $A_p\\times...\\times A_q$. $N[i,j]=\\min\\{N[i,k-1] + N[k,j] + d_id_kd_{j+1}\\mid i+1\\leq k\\leq j\\}$\n",
    "1. Table:\n",
    "Consider the table with entry $N[i,j]$, the matrix is strictly upper triangular (since we can interchange i,j, the lower triangle is not needed), and the diagonal $N[i,i]$ is filled with $0$. "
   ]
  },
  {
   "cell_type": "markdown",
   "metadata": {},
   "source": [
    "2. Table Implementation\n",
    "\n",
    "```python\n",
    "    N = empty (n-1)*(n-1) matrix\n",
    "    for i in range(m-1, 0, -1):\n",
    "        N[i,i] = 0\n",
    "        (B[i,i] = -1)\n",
    "        for j in range(i+1, n-1):\n",
    "            N[i,j] = Infinity\n",
    "            (B[i,j] = -1)\n",
    "            for k in range(i+1, j):\n",
    "                if N[i,k-1] + N[k,j] + d_i*d_k*d_j < N[i,j]:\n",
    "                    N[i,j] = N[i,k-1] + N[k,j] + d_i*d_k*d_j\n",
    "                    (B[i,j] = k)\n",
    "    return N[0, n-1]\n",
    "```\n",
    "\n",
    " - Reconstruct solution:\n",
    "  - Use $B[i,j] = $value of $k$ that makes $N[i,j] = N[i,k+1] + N[k,j] + d_i d_k d_{j+1}$ and add into the table\n",
    "  - For parenthesis\n",
    "  \n",
    "```python\n",
    "paren(B,i,j):\n",
    "    if i == j:\n",
    "        print 'A_i'\n",
    "    else:\n",
    "        print '(' + paren(B, i, B[i,j]-1) + '*' + paren(B,B[i,j], j) + ')'\n",
    "```"
   ]
  },
  {
   "cell_type": "markdown",
   "metadata": {},
   "source": [
    "#### Shortest Paths - All-Pairs\n",
    "- Input: directed $G=(V,E), w(v)\\in \\mathbb{Z}$, no cycle with negative weight.  \n",
    "- Output: $\\forall u,v \\in V, \\min\\{w(u\\sim v)\\mid u\\sim v\\text{ is a path}\\}$"
   ]
  },
  {
   "cell_type": "markdown",
   "metadata": {},
   "source": [
    "_**0. Recursive Structure**_ <br>\n",
    "Consider a shortest $u\\sim v$ path,let $k=$ max index of vertices on $u\\sim v$ excluding $u,v$. <br>\n",
    "Claim: both $u\\sim k, k\\sim v$ are shortest paths with all intermediate vertices $<k$ <br>\n",
    "Proof: by contradiction, if $P_1$ is a shorter path from $u$ to $k$, then $P_1 + k\\sim v$ would be shorter than $u \\sim v$, even if $P_1$ had vertices in common with $k\\sim v$, say vertex $j$, then $P_1+ k \\sim v$ contains a cycle, by assumption, the cycle must have weight $\\geq 0$, then we have a better path by removing the cycle. "
   ]
  },
  {
   "cell_type": "markdown",
   "metadata": {},
   "source": [
    "_**1. Table**_ <br>\n",
    "$A[k,u,v]=$ min weight of all $u\\sim v$ using only vertices from $1,...,k$ as intermediate for $u,v\\in \\{1,...,n\\}. k\\in\\{0,...,n\\}$"
   ]
  },
  {
   "cell_type": "markdown",
   "metadata": {},
   "source": [
    "_**2. Recurrence**_<br>\n",
    "\n",
    "```python\n",
    "A[0,u,v]= { 0         if u = v, \n",
    "            w(u,v)    if u != v (u,v) in E,\n",
    "            Infinity  if u != v, (u,v) not in E\n",
    "           }\n",
    "for k > 0：\n",
    "    A[k,u,v] = min(A[k-1,u,v], # don't use k\n",
    "                   A[k-1,u,k]+A[k-1,k,v] # use k\n",
    "                  )\n",
    "```"
   ]
  },
  {
   "cell_type": "markdown",
   "metadata": {},
   "source": [
    "_**3. Iterative (Floyd-Warshall)**_<br>\n",
    "```python\n",
    "for u in range(n):\n",
    "    for v in range(n):\n",
    "        if u == v: \n",
    "            A[0,u,v] = 0\n",
    "            B[0,u,v] = -1 # not exist\n",
    "        elif (u,v) in E:\n",
    "            A[0,u,v] = w(u,v)\n",
    "            B[0,u,v] = 0 # directly\n",
    "        else:\n",
    "            A[0,u,v] = Infinity\n",
    "            B[0,u,v] = -1\n",
    "\n",
    "for k in range(n):\n",
    "    for u in range(n):\n",
    "        for v in range(n):\n",
    "            if A[k-1, u, k] + A[k-1, k, v] < A[k-1, u, v] \n",
    "                A[k, u, v] = A[k-1, u, k] + A[k-1, k, v] \n",
    "                B[k, u, v] = k\n",
    "            else:\n",
    "                A[k, u, v] = A[k-1, u, v]\n",
    "                B[k, u, v] = B[k-1, u, v]\n",
    "```"
   ]
  },
  {
   "cell_type": "markdown",
   "metadata": {},
   "source": [
    "_**4. Reconstruct the actual solution**_ <br>\n",
    "Use $B[k, u, v]$ to track max vertex on any $u\\sim v$ path that has total weight $A[k, u, b]$\n",
    "\n",
    "```python \n",
    "Path(u,v, B, n):\n",
    "    # find the intermediate index\n",
    "    \n",
    "    # recursively find the weights\n",
    "```"
   ]
  },
  {
   "cell_type": "markdown",
   "metadata": {},
   "source": [
    "_**Observation**_ <br>\n",
    "In practice, runtime $\\in \\Theta(n^3)$, space $\\in\\Theta(n^3)$. <br>\n",
    "To improve the space, notice that $\\forall k, u, v. A[k, u, k] = A[k-1, u, k], A[k ,k, v] = A[k-1, k, v]$. Therefore, we don't need a 3-D array, we can keep updating on a 2-D array. We can simply get rid of all index $k$, then the body of the triple for loop becomes: \n",
    "```python\n",
    "if A[u, k] + A[k, v] < A[u, v]:\n",
    "    A[u, v] = A[u, k] + A[k, v] \n",
    "    B[u, v] = k\n",
    "# omit the else since nothing changed\n",
    "```\n",
    "The space then is $O(n^2)$"
   ]
  },
  {
   "cell_type": "markdown",
   "metadata": {},
   "source": [
    "#### Transite Closure\n",
    "$G$ directed, $\\forall u,v\\in V$ is there a path $u\\sim v$?"
   ]
  },
  {
   "cell_type": "markdown",
   "metadata": {},
   "source": [
    "_**Discussion**_ <br>\n",
    "Use adjacency matrix<br>\n",
    "Example let $A = $\n",
    "<table>\n",
    "        <tr>\n",
    "                <th></th><th>1</th><th>2</th><th>3</th><th>4</th>\n",
    "        </tr>\n",
    "        <tr>\n",
    "                <td>1</td><td>1</td><td>0</td><td>0</td><td>1</td>\n",
    "        </tr>\n",
    "        <tr>\n",
    "                <td>2</td><td>1</td><td>1</td><td>0</td><td>0</td>\n",
    "        </tr>\n",
    "        <tr>\n",
    "                <td>3</td><td>1</td><td>1</td><td>1</td><td>0</td>\n",
    "        </tr>\n",
    "        <tr>\n",
    "                <td>4</td><td>0</td><td>0</td><td>0</td><td>1</td>\n",
    "        </tr>\n",
    "</table>\n",
    "Note: $\\pi(u,v) = 1$, u is the row index, v is the column index, if $u\\rightarrow v$\n",
    "\n",
    "Notice that $A^2 = $\n",
    "<table>\n",
    "        <tr>\n",
    "                <th></th><th>1</th><th>2</th><th>3</th><th>4</th>\n",
    "        </tr>\n",
    "        <tr>\n",
    "                <td>1</td><td>1</td><td>0</td><td>0</td><td>2</td>\n",
    "        </tr>\n",
    "        <tr>\n",
    "                <td>2</td><td>2</td><td>1</td><td>0</td><td>1</td>\n",
    "        </tr>\n",
    "        <tr>\n",
    "                <td>3</td><td>3</td><td>2</td><td>1</td><td>1</td>\n",
    "        </tr>\n",
    "        <tr>\n",
    "                <td>4</td><td>0</td><td>0</td><td>0</td><td>1</td>\n",
    "        </tr>\n",
    "</table>\n",
    "Notice that \n",
    "$$A^2[2,4]=\\sum_{i=1}^4 A[2,i]\\times A[i,4]$$\n",
    "Each term of the summation above represents one possible path of length $\\leq 2$ between 2 and 4"
   ]
  },
  {
   "cell_type": "markdown",
   "metadata": {},
   "source": [
    "**Trick 1** switch $\\times\\rightarrow\\land, +\\rightarrow\\lor$. <br>\n",
    "Generally, $A^k[u,v] = \\mathbb{I}$ there is some path of length $\\leq k$ from $u$ to $v$, wanted $A^n$ using boolean ops. \n",
    "\n",
    "**Trick 2** square the resulted matrix for each matrix multiplication. $A^1, A^2, A^4, ..., A^{\\lfloor \\lg(n) \\rfloor^2}$"
   ]
  },
  {
   "cell_type": "markdown",
   "metadata": {},
   "source": [
    "_**Recursive**_\n",
    "```python\n",
    "pow(A, n):\n",
    "    if n = 1: \n",
    "        return A\n",
    "    elif n is odd:\n",
    "        return pow(A,floor(n,2))*pow(A,floor(n,2))* A\n",
    "    else:\n",
    "        return pow(A,floor(n,2))*pow(A,floor(n,2))\n",
    "```\n",
    "Runtime $O(n^3\\log n)$"
   ]
  },
  {
   "cell_type": "markdown",
   "metadata": {},
   "source": [
    "**Trick 3** divide and conquer algorithm for matrix product in $O(n^{\\lg 7})$, then the runtime is $O(n^{\\lg 7}\\log n)\\in O(n^3)$"
   ]
  }
 ],
 "metadata": {
  "hide_input": false,
  "kernelspec": {
   "display_name": "Python 3",
   "language": "python",
   "name": "python3"
  },
  "language_info": {
   "codemirror_mode": {
    "name": "ipython",
    "version": 3
   },
   "file_extension": ".py",
   "mimetype": "text/x-python",
   "name": "python",
   "nbconvert_exporter": "python",
   "pygments_lexer": "ipython3",
   "version": "3.6.8"
  }
 },
 "nbformat": 4,
 "nbformat_minor": 2
}
