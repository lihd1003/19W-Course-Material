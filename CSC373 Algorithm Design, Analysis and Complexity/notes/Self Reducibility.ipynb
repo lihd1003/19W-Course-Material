{
 "cells": [
  {
   "cell_type": "markdown",
   "metadata": {},
   "source": [
    "#### \"Self-reducibility\"\n",
    "\n",
    "| Problem  |Devision   | Search  |Optimization |\n",
    "| -------- | --------- | -------- | ------------- |\n",
    "|SAT     | Given $\\phi$, is it satisfiable | Given $\\phi$, find values that makes $\\phi$ true | - |\n",
    "|Vertex Cover | Given $G,k$, is there a vertex cover of size $k$ | Given $G,k$, find a vertex cover of size $k$ | Given $G$, find a smallest vertex cover | \n",
    "\n",
    "**Turing Reducible** For problems $A,B$ (search, opt, decision) $A$ is Turing reducible to B IFF \n",
    " - Assuming a constant time algorithm for $B$, then we can write a polynomial time algorithm for $A$. "
   ]
  },
  {
   "cell_type": "markdown",
   "metadata": {},
   "source": [
    "**Example**   \n",
    "**Clique** Given $G$ undirected, $k\\in\\mathbb{Z}^+$ does $G$ contains a $k$-clique which $S\\subseteq G, |S|=k$ with each possible edges between them.  \n",
    "**Clique Search** Given $G$ undirected, $k\\in\\mathbb{Z}^+$, return a $k$-clique or null for non-existence. \n",
    "\n",
    "Claim: Clique-search Turing reducible to Clique  \n",
    "\n",
    "Implicit assumption problem: solving decision problems require finding certificate. (Therefore, must treat the algorithm for B as a black box, no assumption allowed, other than it solves clique)\n",
    "\n",
    "```python\n",
    "cs(G,k):\n",
    "    if not cd(G,k):\n",
    "        return Nil\n",
    "    for v in V:\n",
    "        G = G - v if cd(G-v,k) \n",
    "    return V\n",
    "```\n",
    "runs in $O(n T(n) + n(n+m))$ where $T(n)$ is the runtime of `cd` is poly time compare to $T(n)$. \n",
    "\n",
    "**Correctness**  \n",
    "G in each iteration contains a k-clique (by `cd(G,k)`).  \n",
    "For each vertex that is not in the k-clique, it will be removed. \n",
    "\n",
    "            "
   ]
  },
  {
   "cell_type": "markdown",
   "metadata": {},
   "source": [
    "In general, to show self reducibility\n",
    "1. Assume algorithm solves decision problem\n",
    "2. Write algorithm for the search problem, making calls to $D$ as a black box. \n",
    "3. argue correctness and runtime.\n",
    "\n",
    "Note this shows that search problem is Turing reducible to decision problem."
   ]
  },
  {
   "cell_type": "markdown",
   "metadata": {},
   "source": [
    "**Example** Hamiltonian Path search: given $G$, find a simple path that goes through every vertex. \n",
    "```python\n",
    "hs(G):\n",
    "    if not hd(G):\n",
    "        return Nil\n",
    "    for e in E:\n",
    "        E = E - e if hd(G-e) \n",
    "    return E\n",
    "```\n"
   ]
  },
  {
   "cell_type": "markdown",
   "metadata": {},
   "source": [
    "**Example** Vertex Cover\n",
    "```python\n",
    "vcs(G,k):\n",
    "    if not vcd(G,k):\n",
    "        return Nil\n",
    "    C = []\n",
    "    for v in V and while k > 0:\n",
    "        if vcd(G-v, k-1):\n",
    "            C.append(v)\n",
    "            G = G - v\n",
    "            k -= 1\n",
    "    return c\n",
    "```\n",
    "runs in $O(nt(n)+n(M+n))$\n",
    "\n",
    "**Correctness** $v$ belongs to a vertex cover of size $k$ IFF `vcd(G-v, k-1) == True`  \n",
    "If C is a vertex cover of size $k$ and $v\\in C$, then $C-\\{v\\}$ is a vertex vover of size $k-1$ in $G-v$.  \n",
    "If `vcd(G-v, k-1) == True` then there is some vertex cover $C$ of size $k-1$ in $G-v$, then $C\\cup\\{v\\}$ is a vertex cover of size $k$ since when we put $v$ back, all added edges are connected to $v$.  \n"
   ]
  },
  {
   "cell_type": "markdown",
   "metadata": {},
   "source": [
    "#### Optimization\n",
    "\n",
    "**Example** Max clique  \n",
    "find the largest clique in $G$.  \n",
    "\n",
    "find the largest $k$ s.t. `cd(G,k) == True` (Using binary search, takes $O(\\log n t(n))$). Then return `cs(G,k)`"
   ]
  }
 ],
 "metadata": {
  "kernelspec": {
   "display_name": "Python 3",
   "language": "python",
   "name": "python3"
  },
  "language_info": {
   "codemirror_mode": {
    "name": "ipython",
    "version": 3
   },
   "file_extension": ".py",
   "mimetype": "text/x-python",
   "name": "python",
   "nbconvert_exporter": "python",
   "pygments_lexer": "ipython3",
   "version": "3.6.8"
  }
 },
 "nbformat": 4,
 "nbformat_minor": 2
}
