{
 "cells": [
  {
   "cell_type": "markdown",
   "metadata": {},
   "source": [
    "# Sampling\n",
    "A sample from a distribution $p(x)$ is a single realization $x$ whose probability distribution is $p(x)$"
   ]
  },
  {
   "cell_type": "markdown",
   "metadata": {},
   "source": [
    "## Ancestral Sampling\n",
    "Given a DAG and the ability to sample from each of its factors given parents, we can then sample from the join distribution over all the nodes by ancestral sampling, i.e. start with some root, at each step, sample from any conditional distribution that haven't visited yet, whose parents have all been sampled. "
   ]
  },
  {
   "cell_type": "markdown",
   "metadata": {},
   "source": [
    "## Simple Monte Carlo\n",
    "Given $\\{x^{(r)}\\}^R \\sim p(x)$, then we can define $\\hat E = R^{-1}\\sum^R f(x^{(r)}) \\approx E_{x\\sim p}[f(x)]$. \n",
    "\n",
    "$\\hat E$ is an unbiased estimator as \n",
    "\\begin{align*}\n",
    "\\hat E &= E[R^{-1} \\sum^R f(x^{(r)})]\\\\\n",
    "&= R^{-1}\\sum^R E[f(x^{(r)})]\\\\\n",
    "&= R^{-1}\\sum^R E[f(x)]\\\\\n",
    "&= E\n",
    "\\end{align*}\n",
    "\n",
    "and the variance decreases as $R$ increases\n",
    "\\begin{align*}\n",
    "var(\\hat E) &= var\\bigg[R^{-1}\\sum^R f(x^{(r)})\\bigg]\\\\\n",
    "&= R^{-2}var\\bigg[\\sum^R f(x^{(r)})\\bigg]\\\\\n",
    "&= R^{-2}\\sum^R var[f(x^{(r)})] &\\text{samples are indep.}\\\\\n",
    "&= R^{-1}var(f(x))\n",
    "\\end{align*}"
   ]
  }
 ],
 "metadata": {
  "hide_input": false,
  "kernelspec": {
   "display_name": "Python 3",
   "language": "python",
   "name": "python3"
  },
  "language_info": {
   "codemirror_mode": {
    "name": "ipython",
    "version": 3
   },
   "file_extension": ".py",
   "mimetype": "text/x-python",
   "name": "python",
   "nbconvert_exporter": "python",
   "pygments_lexer": "ipython3",
   "version": "3.7.4"
  }
 },
 "nbformat": 4,
 "nbformat_minor": 4
}
