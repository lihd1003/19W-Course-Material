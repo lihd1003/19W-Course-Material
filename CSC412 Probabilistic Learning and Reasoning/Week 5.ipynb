{
 "cells": [
  {
   "cell_type": "markdown",
   "metadata": {},
   "source": [
    "Let $X_{1:T} = \\{x_1,...,x_T\\}$\n",
    "$$p(x_{1:T}) = \\prod^T p(x_i \\mid x_1,..., x_{i-1})\\sim \\text{exponential params}$$\n",
    "\n",
    "Define 1st-order Markov Chain \n",
    "$$p(x_{1:T}) = \\prod^T p(x_i\\mid x_{i-1}) \\sim k(k-1)$$"
   ]
  }
 ],
 "metadata": {
  "hide_input": false,
  "kernelspec": {
   "display_name": "Python 3",
   "language": "python",
   "name": "python3"
  },
  "language_info": {
   "codemirror_mode": {
    "name": "ipython",
    "version": 3
   },
   "file_extension": ".py",
   "mimetype": "text/x-python",
   "name": "python",
   "nbconvert_exporter": "python",
   "pygments_lexer": "ipython3",
   "version": "3.7.4"
  }
 },
 "nbformat": 4,
 "nbformat_minor": 2
}
