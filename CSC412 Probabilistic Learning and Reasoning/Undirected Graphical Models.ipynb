{
 "cells": [
  {
   "cell_type": "markdown",
   "metadata": {},
   "source": [
    "## Undirected Graphical Models\n",
    "\n",
    "A set of r.v. described by an undirected graph. The edges (undirected) represent __probabilistic interactions__ between neighboring variables (as opposed to conditional dependence in DAGM). "
   ]
  },
  {
   "cell_type": "markdown",
   "metadata": {},
   "source": [
    "### Definitions\n",
    "__Global Markov Property $G$__ - $X_A\\perp X_B \\mid X_C$ IFF $X_C$ separated $X_A$ from $X_B$, i.e. there is no path in the graph between $A$ and $B$ that doesn't go through $X_C$\n",
    "\n",
    "__Local Markov Property (Markov Blanket) $L$__ - The set of nodes that renders a node $t$ conditionally dependent all the other nodes in the graph \n",
    "$$t\\perp (V-cl(t)) | mv(t)$$\n",
    "where $cl(t) = mb(t)\\cup t$ is the closure.\n",
    "\n",
    "__Pairwise (Markov) Property $P$__ - The set of nodes that renders two nodes, $s,t$, conditionally independent of each other. \n",
    "$$s\\perp t \\mid (V - \\{s,t\\}) \\Leftrightarrow G(s,t)=0$$\n",
    "$G$ is the number of edges between two nodes"
   ]
  },
  {
   "cell_type": "markdown",
   "metadata": {},
   "source": [
    "# Exact Inference\n",
    "\n",
    "## Problem Setting\n",
    "Let $X_E$ be the observed evident, $X_F$ be the unobserved variable we want to infer, $X_R = X - \\{X_F, X_E\\}$ be all the remaining variables. \n",
    "\n",
    "Then, in a probabilistic graphical models, we need to marginalize out all $X_R$, focusing on the joint distribution over evidence and subject of inference.\n",
    "$$p(X_F, X_E) = \\sum_{X_R} p(X_F, X_E, X_R)$$\n",
    "and the inference will be \n",
    "$$p(X_F|X_E) = p(\\frac{X_F, X_E}{X_E}) = \\frac{p(X_F, X_E)}{\\sum_{X_F}p(X_F, X_E)}$$\n",
    "and the conditional distribution \n",
    "$$p(X_E) = \\sum_{X_F, X_R} p(X_F, X_E, X_R)$$\n",
    "However, if $|X_R|$ are large, then this computing is huge, for continuous variables, integrating is even more computational intensive. "
   ]
  },
  {
   "cell_type": "markdown",
   "metadata": {},
   "source": [
    "## Variable Elimination\n",
    "### Simple Example: Chain\n",
    "Consider a chain $A\\rightarrow B \\rightarrow C\\rightarrow D$ and $X_F = \\{D\\}, X_E = \\{\\}, X_R = \\{A,B,C\\}$\n",
    "Note that $p(A,B,C,D) = p(A)p(B|A)p(C|B)p(D|C)$ so that \n",
    "\\begin{align*}\n",
    "p(D) &= \\sum_{A,B,C}p(A,B,C,D) \\\\\n",
    "&= \\sum_C\\sum_B\\sum_A p(A)p(B|A)p(C|B)p(D|C)&\\sim O(k^3)\\\\\n",
    "&= \\sum_Cp(D|C)\\sum_Bp(C|B)\\sum_Ap(A)p(B|A)\\\\\n",
    "&= \\sum_C p(D|C)\\sum_Bp(C|B)p(B)\\\\\n",
    "&= \\sum_C p(D|C)p(C)&\\sim O(nk^2)\n",
    "\\end{align*}"
   ]
  },
  {
   "cell_type": "markdown",
   "metadata": {},
   "source": [
    "### Intermediate Factors\n",
    "Consider the distribution given by \n",
    "$$p(X,A,B,C) = p(X)p(A|X)p(B|A)p(C|B,X)$$\n",
    "\n",
    "Define __factor__ $\\phi$ which are not necessarily normalized distributions, but which describes the local relationship between r.v.'s. \n",
    "\\begin{align*}\n",
    "p(A,B,C) &= \\sum_X p(X)p(A|X)p(B|A)p(C|B,X)\\\\\n",
    "&= \\sum_{X}\\phi(X) \\phi(A,X)\\phi(A,B)\\phi(X,B,C)\\\\\n",
    "&= \\phi(A,B)\\sum_X \\phi(X)\\phi(A,X)\\phi(X,B,C)\\\\\n",
    "&= \\phi(A,B) \\tau(A,B,C)\n",
    "\\end{align*}"
   ]
  },
  {
   "cell_type": "markdown",
   "metadata": {},
   "source": [
    "### Sum-product Inference\n",
    "Computing $P(Y)$ for directed and undirected models is given by __sum-product__ inference algorithm \n",
    "$$\\tau(Y) = \\sum_z\\prod_{\\phi\\in \\Phi}\\phi(z_{Scope[\\phi]\\cap Z}, y_{Scope[\\phi]\\cap Y}), \\forall Y$$\n",
    "where $\\Phi$ is a set of potential factors. "
   ]
  },
  {
   "cell_type": "markdown",
   "metadata": {},
   "source": [
    "### Complexity of Variable Elimination Ordering\n",
    "The complexity is \n",
    "$$O(mk^{N_{max}})$$\n",
    "- $m = |X_R|$ is the number of initial factors\n",
    "- $k$ is the number of states each random variable takes (assuming equal)\n",
    "- $N_{max} = \\arg\\max_i N_i$ where $N_i$ is the number of r.v. inside each sum $\\sum_i$"
   ]
  }
 ],
 "metadata": {
  "hide_input": false,
  "kernelspec": {
   "display_name": "Python 3",
   "language": "python",
   "name": "python3"
  },
  "language_info": {
   "codemirror_mode": {
    "name": "ipython",
    "version": 3
   },
   "file_extension": ".py",
   "mimetype": "text/x-python",
   "name": "python",
   "nbconvert_exporter": "python",
   "pygments_lexer": "ipython3",
   "version": "3.7.4"
  }
 },
 "nbformat": 4,
 "nbformat_minor": 2
}
