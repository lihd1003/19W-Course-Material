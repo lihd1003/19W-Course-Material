{
 "cells": [
  {
   "cell_type": "markdown",
   "metadata": {},
   "source": [
    "# Part I"
   ]
  },
  {
   "cell_type": "markdown",
   "metadata": {},
   "source": [
    "## Top 10 Lists from criterion.com\n",
    " https://www.criterion.com/current/category/8-top-10-lists\n",
    "- Loop through all the links and extract the 24 top 10 lists on the webpage and store in a csv file `top10lists.csv`.\n",
    "- Read the csv file into a pandas DataFrame.\n",
    "- Which films and film directors make the top 10 lists most frequently?\n",
    "\n",
    "__Exercises__: <br>\n",
    "(a) Extend the program above to extract the 24 top 10 lists on the first page into a pandas dataframe; <br>\n",
    " - Done\n",
    "\n",
    "(b) Extend part (a) to extract all the top 10 lists on the website (195)\n"
   ]
  },
  {
   "cell_type": "code",
   "execution_count": 1,
   "metadata": {},
   "outputs": [
    {
     "name": "stdout",
     "output_type": "stream",
     "text": [
      "The number of links extracted: 24\n"
     ]
    }
   ],
   "source": [
    "from urllib.request import urlopen\n",
    "from bs4 import BeautifulSoup\n",
    "\n",
    "webpage = 'https://www.criterion.com/current/category/8-top-10-lists'\n",
    "page = urlopen(webpage)\n",
    "soup = BeautifulSoup(page, 'html.parser')\n",
    "\n",
    "# find all the links\n",
    "# extract all the <a> with class attribute \"more-article more-article-small\" \n",
    "all_links = [div.a for div in \n",
    "        soup.find_all(\"div\", class_=\"more-article more-article-small\")]\n",
    "all_links.extend([div.a for div in soup.find_all(\"div\", class_=\"more-article more-article-small is-newly-loaded is-ready-to-animate-in is-in\")])\n",
    "print('The number of links extracted:', len(all_links))"
   ]
  },
  {
   "cell_type": "code",
   "execution_count": 2,
   "metadata": {},
   "outputs": [
    {
     "ename": "NameError",
     "evalue": "name 're' is not defined",
     "output_type": "error",
     "traceback": [
      "\u001b[1;31m---------------------------------------------------------------------------\u001b[0m",
      "\u001b[1;31mNameError\u001b[0m                                 Traceback (most recent call last)",
      "\u001b[1;32m<ipython-input-2-22363d23386b>\u001b[0m in \u001b[0;36m<module>\u001b[1;34m\u001b[0m\n\u001b[0;32m     14\u001b[0m     \u001b[1;31m# clean up ranking, since top 10 sometimes has ties\u001b[0m\u001b[1;33m\u001b[0m\u001b[1;33m\u001b[0m\u001b[1;33m\u001b[0m\u001b[0m\n\u001b[0;32m     15\u001b[0m     \u001b[1;32mfor\u001b[0m \u001b[0mi\u001b[0m \u001b[1;32min\u001b[0m \u001b[0mrange\u001b[0m\u001b[1;33m(\u001b[0m\u001b[0mlen\u001b[0m\u001b[1;33m(\u001b[0m\u001b[0mranks\u001b[0m\u001b[1;33m)\u001b[0m\u001b[1;33m)\u001b[0m\u001b[1;33m:\u001b[0m\u001b[1;33m\u001b[0m\u001b[1;33m\u001b[0m\u001b[0m\n\u001b[1;32m---> 16\u001b[1;33m         \u001b[0mp\u001b[0m \u001b[1;33m=\u001b[0m \u001b[0mre\u001b[0m\u001b[1;33m.\u001b[0m\u001b[0mcompile\u001b[0m\u001b[1;33m(\u001b[0m\u001b[1;34m'\\(tie\\)'\u001b[0m\u001b[1;33m)\u001b[0m\u001b[1;33m\u001b[0m\u001b[1;33m\u001b[0m\u001b[0m\n\u001b[0m\u001b[0;32m     17\u001b[0m         \u001b[0mranks\u001b[0m\u001b[1;33m[\u001b[0m\u001b[0mi\u001b[0m\u001b[1;33m]\u001b[0m \u001b[1;33m=\u001b[0m \u001b[0mint\u001b[0m\u001b[1;33m(\u001b[0m\u001b[0mp\u001b[0m\u001b[1;33m.\u001b[0m\u001b[0msub\u001b[0m\u001b[1;33m(\u001b[0m\u001b[1;34m''\u001b[0m\u001b[1;33m,\u001b[0m\u001b[0mranks\u001b[0m\u001b[1;33m[\u001b[0m\u001b[0mi\u001b[0m\u001b[1;33m]\u001b[0m\u001b[1;33m)\u001b[0m\u001b[1;33m.\u001b[0m\u001b[0mstrip\u001b[0m\u001b[1;33m(\u001b[0m\u001b[1;33m)\u001b[0m \u001b[1;32mor\u001b[0m \u001b[1;36m0\u001b[0m\u001b[1;33m)\u001b[0m\u001b[1;33m\u001b[0m\u001b[1;33m\u001b[0m\u001b[0m\n\u001b[0;32m     18\u001b[0m         \u001b[1;32mif\u001b[0m \u001b[0mranks\u001b[0m\u001b[1;33m[\u001b[0m\u001b[0mi\u001b[0m\u001b[1;33m]\u001b[0m \u001b[1;33m==\u001b[0m \u001b[1;36m0\u001b[0m\u001b[1;33m:\u001b[0m \u001b[0mranks\u001b[0m\u001b[1;33m[\u001b[0m\u001b[0mi\u001b[0m\u001b[1;33m]\u001b[0m \u001b[1;33m=\u001b[0m \u001b[0mranks\u001b[0m\u001b[1;33m[\u001b[0m\u001b[0mi\u001b[0m\u001b[1;33m-\u001b[0m\u001b[1;36m1\u001b[0m\u001b[1;33m]\u001b[0m\u001b[1;33m\u001b[0m\u001b[1;33m\u001b[0m\u001b[0m\n",
      "\u001b[1;31mNameError\u001b[0m: name 're' is not defined"
     ]
    }
   ],
   "source": [
    "# import re\n",
    "import pandas as pd\n",
    "\n",
    "# create a dict to store data\n",
    "d = {'actor': [], 'author':[], 'ranks': [], 'title': []} \n",
    "for link in all_links:\n",
    "    # open the webpage\n",
    "    p1 = urlopen(link['href'])\n",
    "    # parse the html\n",
    "    s1 = BeautifulSoup(p1,'html.parser')\n",
    "    \n",
    "    # extract ranking of each movie using css selection\n",
    "    ranks = [r.text for r in s1.select('p.count')]\n",
    "    # clean up ranking, since top 10 sometimes has ties\n",
    "    for i in range(len(ranks)):\n",
    "        p = re.compile('\\(tie\\)')\n",
    "        ranks[i] = int(p.sub('',ranks[i]).strip() or 0)\n",
    "        if ranks[i] == 0: ranks[i] = ranks[i-1]\n",
    "\n",
    "    # extract director, movie, actor name\n",
    "    author = [a.text for a in s1.select('p.who')]\n",
    "    title = [t.text for t in s1.select('div.what h3')]\n",
    "\n",
    "    actor = s1.select('div.content-block h1') \n",
    "    str = (actor[0].text + ',')*len(ranks)\n",
    "    actor = str.split(',')[0:len(ranks)]\n",
    "    actor = [s[:-8] for s in actor]\n",
    "      \n",
    "    # add into the dict \n",
    "    d['actor'].extend(actor)\n",
    "    d['author'].extend(author)\n",
    "    d['ranks'].extend(ranks)\n",
    "    d['title'].extend(title)\n",
    "\n",
    "# store dict in pandas data frame\n",
    "df1 = pd.DataFrame(d)\n",
    "df1.head(20)"
   ]
  },
  {
   "cell_type": "code",
   "execution_count": null,
   "metadata": {},
   "outputs": [],
   "source": [
    "counts = df1.author.value_counts() # \n",
    "counts[0:10].plot(kind='barh',x = 'Frequency of Appearance on Top 10 Lists')"
   ]
  },
  {
   "cell_type": "code",
   "execution_count": null,
   "metadata": {},
   "outputs": [],
   "source": [
    "df1.title.value_counts()[0:10].plot(kind='barh', x = 'Frequency of Appearance on Top 10 Lists')"
   ]
  },
  {
   "cell_type": "markdown",
   "metadata": {},
   "source": [
    "# Part II"
   ]
  },
  {
   "cell_type": "code",
   "execution_count": null,
   "metadata": {},
   "outputs": [],
   "source": [
    "import pandas as pd\n",
    "import seaborn as sns\n",
    "import matplotlib.pyplot as plt\n",
    "import numpy as np\n",
    "\n",
    "sns.set(style = \"ticks\", color_codes = True)"
   ]
  },
  {
   "cell_type": "code",
   "execution_count": null,
   "metadata": {},
   "outputs": [],
   "source": [
    "# import data\n",
    "# The data can be found in https://github.com/rudeboybert/JSE_OkCupid/blob/master/profiles.csv.zip\n",
    "df = pd.read_csv('./profiles.csv')"
   ]
  },
  {
   "cell_type": "code",
   "execution_count": null,
   "metadata": {},
   "outputs": [],
   "source": [
    "# see whats the catagories are\n",
    "print(df.columns)"
   ]
  },
  {
   "cell_type": "code",
   "execution_count": null,
   "metadata": {},
   "outputs": [],
   "source": [
    "print(df.head())"
   ]
  },
  {
   "cell_type": "code",
   "execution_count": null,
   "metadata": {},
   "outputs": [],
   "source": [
    "print(df[0:10])"
   ]
  },
  {
   "cell_type": "code",
   "execution_count": null,
   "metadata": {},
   "outputs": [],
   "source": [
    "print(df.hist('age'))"
   ]
  },
  {
   "cell_type": "code",
   "execution_count": null,
   "metadata": {},
   "outputs": [],
   "source": [
    "print(df.hist('age', bins = range(18, 110, 1)))"
   ]
  },
  {
   "cell_type": "code",
   "execution_count": null,
   "metadata": {},
   "outputs": [],
   "source": [
    "df.age.unique()\n",
    "# The 110 109 data looks strange"
   ]
  },
  {
   "cell_type": "code",
   "execution_count": null,
   "metadata": {},
   "outputs": [],
   "source": [
    "df.loc[df[ 'age' ] == 110]"
   ]
  },
  {
   "cell_type": "code",
   "execution_count": null,
   "metadata": {},
   "outputs": [],
   "source": [
    "df.loc[df[ 'age' ] == 109]"
   ]
  },
  {
   "cell_type": "code",
   "execution_count": null,
   "metadata": {},
   "outputs": [],
   "source": [
    "# Mean of age and the 95% level \n",
    "print(np.mean(df['age']))\n",
    "print(np.percentile(df['age'], 95))"
   ]
  },
  {
   "cell_type": "code",
   "execution_count": null,
   "metadata": {},
   "outputs": [],
   "source": [
    "any(g < 18 for g in df['age'])"
   ]
  },
  {
   "cell_type": "code",
   "execution_count": null,
   "metadata": {},
   "outputs": [],
   "source": [
    "all(g >= 18 for g in df['age'])"
   ]
  },
  {
   "cell_type": "code",
   "execution_count": null,
   "metadata": {},
   "outputs": [],
   "source": [
    "females = df.loc[df['sex'] == 'f']\n",
    "males = df.loc[df['sex'] == 'm']\n",
    "males['age'].hist(bins=range(10, 100, 5), alpha = 0.4, color='green', label = 'M')\n",
    "females['age'].hist(bins=range(10, 100, 5), alpha = 0.4, color='red', label = 'F')"
   ]
  },
  {
   "cell_type": "code",
   "execution_count": null,
   "metadata": {},
   "outputs": [],
   "source": [
    "df.drugs.unique()"
   ]
  },
  {
   "cell_type": "code",
   "execution_count": null,
   "metadata": {},
   "outputs": [],
   "source": [
    "sns.catplot(x = 'drugs', kind = 'count', hue = 'sex', data = df)"
   ]
  },
  {
   "cell_type": "code",
   "execution_count": null,
   "metadata": {},
   "outputs": [],
   "source": []
  }
 ],
 "metadata": {
  "kernelspec": {
   "display_name": "Python 3",
   "language": "python",
   "name": "python3"
  },
  "language_info": {
   "codemirror_mode": {
    "name": "ipython",
    "version": 3
   },
   "file_extension": ".py",
   "mimetype": "text/x-python",
   "name": "python",
   "nbconvert_exporter": "python",
   "pygments_lexer": "ipython3",
   "version": "3.6.7"
  }
 },
 "nbformat": 4,
 "nbformat_minor": 2
}
