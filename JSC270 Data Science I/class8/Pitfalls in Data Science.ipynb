{
 "cells": [
  {
   "cell_type": "markdown",
   "metadata": {},
   "source": [
    "## Data Pitfalls\n"
   ]
  },
  {
   "cell_type": "markdown",
   "metadata": {},
   "source": [
    "#### Data\n",
    "- survivorship bias\n",
    "- sampling group\n",
    "- data accuracy (cleaning, outliers)\n",
    "- limitations and problems with data collection"
   ]
  },
  {
   "cell_type": "markdown",
   "metadata": {},
   "source": [
    "**Construct** something that can't be directly measured  \n",
    "**Operational definition** a set of procedures for quantifying a construct\n",
    "\n",
    "For standardized measurement, consider the underlying meaning when doing statistical analysis. \n",
    "\n",
    "response bias (use reverse phrasing to indicate the careless data)\n",
    "\n",
    "**validity** what is sets out to measure\n",
    "\n",
    "**reliability** interpreted constantly\n"
   ]
  }
 ],
 "metadata": {
  "hide_input": false,
  "kernelspec": {
   "display_name": "Python 3",
   "language": "python",
   "name": "python3"
  },
  "language_info": {
   "codemirror_mode": {
    "name": "ipython",
    "version": 3
   },
   "file_extension": ".py",
   "mimetype": "text/x-python",
   "name": "python",
   "nbconvert_exporter": "python",
   "pygments_lexer": "ipython3",
   "version": "3.6.8"
  }
 },
 "nbformat": 4,
 "nbformat_minor": 2
}
