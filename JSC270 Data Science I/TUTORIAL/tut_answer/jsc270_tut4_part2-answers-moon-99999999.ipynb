{
 "cells": [
  {
   "cell_type": "markdown",
   "metadata": {},
   "source": [
    "## Notes\n",
    "---\n",
    "+  Avoid hard-coding values when possible. You worked hard to scrape the data and save it to a dataframe. Use that dataframe in you code to retrieve values.\n",
    "\n",
    "\\*\\*\\*\\*\\**__Be aware of the difference between two-sided and one-sided tests__*\\*\\*\\*\\*\\*\n",
    "+  ONLY use two-sided tests when the alternate hypothesis is in the form of $\\mu\\neq a$\n",
    "+  Use one-sided test when the alternate hypothesis in the form of $\\mu \\ge a$ or $\\mu \\le a$\n",
    "+  You can use two-sided tests for the case of testing $\\mu \\ge a$ or $\\mu \\le a$; think about the conclusions you can draw\n",
    "\n",
    "### Extra tips/info\n",
    "+  I found the permutation for contingency table (Question 2) quite slow using nested loops. Using `np.bincount` helped accelerate the task. Lesson _re_-learned: use built-in `numpy`/`scipy`/`panda` functions when possible.\n",
    "\n",
    "---"
   ]
  },
  {
   "cell_type": "markdown",
   "metadata": {},
   "source": [
    "### Setup\n",
    "Data collection steps adapted from Tutorial 2."
   ]
  },
  {
   "cell_type": "code",
   "execution_count": 1,
   "metadata": {},
   "outputs": [],
   "source": [
    "import numpy as np\n",
    "import pandas as pd\n",
    "import matplotlib.pyplot as plt\n",
    "from scipy import stats\n",
    "# reading data for Manitoba and New Brunswick\n",
    "# url for the report page\n",
    "report_page = 'https://www.canada.ca/en/public-health/services/' + \\\n",
    "    'surveillance/respiratory-virus-detections-canada/' + \\\n",
    "    '2018-2019/respiratory-virus-detections-isolations-' + \\\n",
    "    'week-01-ending-january-5-2019.html'\n",
    "\n",
    "# using pandas `read_html` \n",
    "df = pd.read_html(report_page) # returns a list of tables \n",
    "df[1] # by inspection we see that Table 2 is the second table\n",
    "\n",
    "# select. rows corresponding to prov and territory\n",
    "fludat = df[1].iloc[[\n",
    "    0, 1, 2, 3, 11, \n",
    "    28, 29, 32, 33, 35, \n",
    "    36, 37, 38\n",
    "],[0,1,2,3,4,5]]\n",
    "fludat.columns = [\n",
    "    'prov', 'total_tested',\n",
    "    'H1N1_positive',\n",
    "    'H3_positive',\n",
    "    'other_positive',\n",
    "    'total_positive'\n",
    "]\n",
    "fludat.iloc[:, 1:] = fludat.iloc[:, 1:].astype('int')\n",
    "# Change province names so they match the names in the Wiki table\n",
    "# `regex=True` allows you to use regular expressions\n",
    "fludat = (\n",
    "    fludat\n",
    "    .replace('Province of', '', regex = True)\n",
    "    .replace('Québec', 'Quebec', regex = True)\n",
    ")\n",
    "# Alberta, Ontario, Quebec, Sask have extra white space \n",
    "# in their names so remove\n",
    "fludat['prov'] = fludat['prov'].str.strip()\n",
    "# table for question 1\n",
    "q1data = fludat.set_index('prov').loc[['New Brunswick', 'Manitoba']][[\n",
    "    'total_tested', 'total_positive'\n",
    "]]\n",
    "q1data['flu_A_negative'] = (\n",
    "    q1data['total_tested'] - q1data['total_positive']\n",
    ").astype('int')"
   ]
  },
  {
   "cell_type": "code",
   "execution_count": 2,
   "metadata": {},
   "outputs": [],
   "source": [
    "# read wiki page from the web store the table\n",
    "wiki_page = 'https://en.wikipedia.org/wiki/List_of_regions_of_Canada'\n",
    "df = pd.read_html(\n",
    "    wiki_page, \n",
    "    header=0, # since the html does not tag (<th>) \n",
    "              # the first row as column, \n",
    "              # you need to manually specify it\n",
    "    attrs = {\"class\":\"wikitable\"} # when you know specific html attributes \n",
    "                                  # of the table you want you can specify \n",
    "                                  # them here for a more specific query\n",
    ")\n",
    "# read the six region columns and prov/territories\n",
    "regions = df[0][[\n",
    "    'All provinces and territories', \n",
    "    'Six-region model[1]'\n",
    "]].fillna(\n",
    "    # propogate non-null values forward\n",
    "    method = 'ffill', axis = 0 \n",
    ").rename(columns={\n",
    "    # rename columns\n",
    "    \"All provinces and territories\": \"prov\", \n",
    "    \"Six-region model[1]\": \"region\"\n",
    "}).replace(\n",
    "    # rename the province name to match the other table\n",
    "    ['Newfoundland and Labrador'], ['Newfoundland']\n",
    ")\n",
    "# Merge regions with flu data and only keep required columns\n",
    "q2data = pd.merge(\n",
    "    fludat, regions, on = 'prov'\n",
    ")"
   ]
  },
  {
   "cell_type": "markdown",
   "metadata": {},
   "source": [
    "# Question 1\n",
    "\n",
    "Use the influnenza data from tutorial 2 to answer the following questions.\n",
    "\n",
    "Is the proportion of of influenza cases in Manitoba different compared to New Brunswick?\n",
    "\n",
    "(a) Conduct a permutation test to evaluate this question. What are the assumptions behind this test? What is the P-value?  What do you conclude?"
   ]
  },
  {
   "cell_type": "code",
   "execution_count": 3,
   "metadata": {},
   "outputs": [
    {
     "name": "stdout",
     "output_type": "stream",
     "text": [
      "NB sample prop:\t 0.1775 \n",
      "MB sample prop:\t 0.1387 \n",
      "Observed diff:\t 0.0388\n"
     ]
    }
   ],
   "source": [
    "# create arrays for each province \n",
    "# with positive cases coded as '1' \n",
    "# and negative cases as '0'\n",
    "NB_cases = np.concatenate((\n",
    "    np.repeat(1, q1data.iloc[0,1]), # positive cases for NB\n",
    "    np.repeat(0, q1data.iloc[0,2])  # negative cases for NB\n",
    "))\n",
    "MB_cases = np.concatenate((\n",
    "    np.repeat(1, q1data.iloc[1,1]), # positive cases for MB\n",
    "    np.repeat(0, q1data.iloc[1,2])  # negative cases for MB\n",
    "))\n",
    "cases = np.concatenate((\n",
    "    NB_cases, MB_cases\n",
    "))\n",
    "# label provinces (length should match the total tested)\n",
    "provl = np.concatenate((\n",
    "    np.repeat('NB', q1data.iloc[0,0]), \n",
    "    np.repeat('MB', q1data.iloc[1,0])\n",
    "))\n",
    "\n",
    "# sanity check (-:\n",
    "NB_obs_p = sum(cases[provl=='NB'])/q1data.iloc[0,0]\n",
    "MB_obs_p = sum(cases[provl=='MB'])/q1data.iloc[1,0]\n",
    "diff = NB_obs_p - MB_obs_p # observed difference\n",
    "\n",
    "print(\n",
    "    'NB sample prop:\\t', np.round(NB_obs_p,4), '\\n' +\n",
    "    'MB sample prop:\\t', np.round(MB_obs_p,4), '\\n' +\n",
    "    'Observed diff:\\t', np.round(diff,4)\n",
    ")"
   ]
  },
  {
   "cell_type": "code",
   "execution_count": 4,
   "metadata": {},
   "outputs": [],
   "source": [
    "# Part (a)\n",
    "def prop_perm_test(data):\n",
    "    \"\"\"\n",
    "    return a single difference in proportion \n",
    "    from a random suffle of cases\n",
    "    \"\"\"\n",
    "    shuffled = np.random.permutation(data) \n",
    "    # random.permutation returns the shuffled array \n",
    "    # vs. random.shuffle shuffles the array inplace\n",
    "    prop_NB = shuffled[provl=='NB']      \n",
    "    prop_MB = shuffled[provl =='MB']\n",
    "    return prop_NB.mean() - prop_MB.mean()\n",
    "\n",
    "N = 1000\n",
    "np.random.seed(1234)\n",
    "null_dist = [prop_perm_test(cases) for x in range(N)] \n",
    "\n",
    "tbar = np.mean(null_dist)\n",
    "p_value2 = sum(\n",
    "    np.absolute(null_dist - tbar) \n",
    "    >= np.absolute(diff - tbar)\n",
    ")/N"
   ]
  },
  {
   "cell_type": "code",
   "execution_count": 5,
   "metadata": {},
   "outputs": [
    {
     "name": "stdout",
     "output_type": "stream",
     "text": [
      "The two-sided p-value is: 0.0\n"
     ]
    },
    {
     "data": {
      "image/png": "[encoded data removed]",
      "text/plain": [
       "<Figure size 432x288 with 1 Axes>"
      ]
     },
     "metadata": {
      "needs_background": "light"
     },
     "output_type": "display_data"
    }
   ],
   "source": [
    "print('The two-sided p-value is:', np.round(p_value2,3))\n",
    "# plot the distribution\n",
    "fig = plt.figure()\n",
    "plt.hist(\n",
    "    null_dist,\n",
    "    bins = 20, \n",
    "    color = '#e9a3c9',\n",
    "    ec='white'\n",
    ")\n",
    "ax = fig.get_axes()[0]\n",
    "ax.spines['top'].set_visible(False)\n",
    "ax.spines['right'].set_visible(False)\n",
    "observed = plt.axvline(\n",
    "    x=diff, color='darkgreen', linestyle=':', \n",
    "    label='Observed'\n",
    ")\n",
    "plt.xlabel('Difference in Proportions')\n",
    "plt.title('Randomization Distribution of Proportion Differences')\n",
    "plt.legend(loc='upper left');"
   ]
  },
  {
   "cell_type": "markdown",
   "metadata": {},
   "source": [
    "(b) Conduct a Z-test to evaluate this question.  What are the assumptions behind this test? What is the P-value?  What do you conclude?"
   ]
  },
  {
   "cell_type": "code",
   "execution_count": 6,
   "metadata": {},
   "outputs": [
    {
     "name": "stdout",
     "output_type": "stream",
     "text": [
      "The observed Z-value is: 5.102\n",
      "The two-sided p-value is: 0.0\n"
     ]
    }
   ],
   "source": [
    "# Part (b)\n",
    "from statsmodels.stats.proportion import proportions_ztest\n",
    "\n",
    "nobs = np.array([q1data.iloc[0,0], q1data.iloc[1,0]]) #n_1, n_2\n",
    "count = np.array([q1data.iloc[0,1], q1data.iloc[1,1]]) #X_1, X_2\n",
    "\n",
    "obsZ, pval = proportions_ztest(\n",
    "    count, nobs, alternative='two-sided'\n",
    ")\n",
    "print('The observed Z-value is:', np.round(obsZ,3))\n",
    "print('The two-sided p-value is:', np.round(pval,3))"
   ]
  },
  {
   "cell_type": "markdown",
   "metadata": {},
   "source": [
    "#### Assumptions\n",
    "For both tests, we assume the flu test result for each individual within each province are independent and identically distributed - i.e., exchangeable between individuals for permutation test. The proportional Z-test further assumes they are from binomial distributions.\n",
    "\n",
    "#### Interpretation\n",
    "The reported p-values are `0.0` for both tests and the null hypothesis is rejected based on 95% confidence level. That is, we conclude that the two proportions are different (in fact, we may conclude NB has higher proportion than Manitoba) 19 out of 20 times. "
   ]
  },
  {
   "cell_type": "markdown",
   "metadata": {},
   "source": [
    "# Question 2\n",
    "\n",
    "In class 5 we discussed this example.\n",
    "\n",
    "$$\\begin{align*}\n",
    "H_0 &: \\text{region and and subtype of influenza are independent,} \\\\ \n",
    "H_a &: \\text{region and subtype of influenza are dependent}.\n",
    "\\end{align*}$$\n",
    "\n",
    "\n",
    "(a) Write a Python program to calculate the permutation distribution to test of independence of region and subtype of influenza. Create an appropriate visualization of this distribution. "
   ]
  },
  {
   "cell_type": "code",
   "execution_count": 7,
   "metadata": {},
   "outputs": [
    {
     "name": "stdout",
     "output_type": "stream",
     "text": [
      "Observed contingency table.\n"
     ]
    },
    {
     "data": {
      "text/html": [
       "<div>\n",
       "<style scoped>\n",
       "    .dataframe tbody tr th:only-of-type {\n",
       "        vertical-align: middle;\n",
       "    }\n",
       "\n",
       "    .dataframe tbody tr th {\n",
       "        vertical-align: top;\n",
       "    }\n",
       "\n",
       "    .dataframe thead th {\n",
       "        text-align: right;\n",
       "    }\n",
       "</style>\n",
       "<table border=\"1\" class=\"dataframe\">\n",
       "  <thead>\n",
       "    <tr style=\"text-align: right;\">\n",
       "      <th></th>\n",
       "      <th>H1N1_positive</th>\n",
       "      <th>H3_positive</th>\n",
       "      <th>other_positive</th>\n",
       "    </tr>\n",
       "    <tr>\n",
       "      <th>region</th>\n",
       "      <th></th>\n",
       "      <th></th>\n",
       "      <th></th>\n",
       "    </tr>\n",
       "  </thead>\n",
       "  <tbody>\n",
       "    <tr>\n",
       "      <th>Atlantic</th>\n",
       "      <td>81</td>\n",
       "      <td>1</td>\n",
       "      <td>880</td>\n",
       "    </tr>\n",
       "    <tr>\n",
       "      <th>British Columbia</th>\n",
       "      <td>1010</td>\n",
       "      <td>75</td>\n",
       "      <td>755</td>\n",
       "    </tr>\n",
       "    <tr>\n",
       "      <th>Ontario</th>\n",
       "      <td>752</td>\n",
       "      <td>180</td>\n",
       "      <td>546</td>\n",
       "    </tr>\n",
       "    <tr>\n",
       "      <th>Prairies</th>\n",
       "      <td>4604</td>\n",
       "      <td>136</td>\n",
       "      <td>2775</td>\n",
       "    </tr>\n",
       "    <tr>\n",
       "      <th>Quebec</th>\n",
       "      <td>0</td>\n",
       "      <td>0</td>\n",
       "      <td>5974</td>\n",
       "    </tr>\n",
       "    <tr>\n",
       "      <th>Territories</th>\n",
       "      <td>162</td>\n",
       "      <td>3</td>\n",
       "      <td>6</td>\n",
       "    </tr>\n",
       "  </tbody>\n",
       "</table>\n",
       "</div>"
      ],
      "text/plain": [
       "                  H1N1_positive  H3_positive  other_positive\n",
       "region                                                      \n",
       "Atlantic                     81            1             880\n",
       "British Columbia           1010           75             755\n",
       "Ontario                     752          180             546\n",
       "Prairies                   4604          136            2775\n",
       "Quebec                        0            0            5974\n",
       "Territories                 162            3               6"
      ]
     },
     "metadata": {},
     "output_type": "display_data"
    },
    {
     "name": "stdout",
     "output_type": "stream",
     "text": [
      "Expected contingency table.\n"
     ]
    },
    {
     "data": {
      "text/html": [
       "<div>\n",
       "<style scoped>\n",
       "    .dataframe tbody tr th:only-of-type {\n",
       "        vertical-align: middle;\n",
       "    }\n",
       "\n",
       "    .dataframe tbody tr th {\n",
       "        vertical-align: top;\n",
       "    }\n",
       "\n",
       "    .dataframe thead th {\n",
       "        text-align: right;\n",
       "    }\n",
       "</style>\n",
       "<table border=\"1\" class=\"dataframe\">\n",
       "  <thead>\n",
       "    <tr style=\"text-align: right;\">\n",
       "      <th></th>\n",
       "      <th>H1N1_positive</th>\n",
       "      <th>H3_positive</th>\n",
       "      <th>other_positive</th>\n",
       "    </tr>\n",
       "    <tr>\n",
       "      <th>region</th>\n",
       "      <th></th>\n",
       "      <th></th>\n",
       "      <th></th>\n",
       "    </tr>\n",
       "  </thead>\n",
       "  <tbody>\n",
       "    <tr>\n",
       "      <th>Atlantic</th>\n",
       "      <td>354</td>\n",
       "      <td>21</td>\n",
       "      <td>586</td>\n",
       "    </tr>\n",
       "    <tr>\n",
       "      <th>British Columbia</th>\n",
       "      <td>678</td>\n",
       "      <td>41</td>\n",
       "      <td>1122</td>\n",
       "    </tr>\n",
       "    <tr>\n",
       "      <th>Ontario</th>\n",
       "      <td>544</td>\n",
       "      <td>33</td>\n",
       "      <td>901</td>\n",
       "    </tr>\n",
       "    <tr>\n",
       "      <th>Prairies</th>\n",
       "      <td>2768</td>\n",
       "      <td>165</td>\n",
       "      <td>4581</td>\n",
       "    </tr>\n",
       "    <tr>\n",
       "      <th>Quebec</th>\n",
       "      <td>2201</td>\n",
       "      <td>132</td>\n",
       "      <td>3642</td>\n",
       "    </tr>\n",
       "    <tr>\n",
       "      <th>Territories</th>\n",
       "      <td>63</td>\n",
       "      <td>4</td>\n",
       "      <td>104</td>\n",
       "    </tr>\n",
       "  </tbody>\n",
       "</table>\n",
       "</div>"
      ],
      "text/plain": [
       "                  H1N1_positive  H3_positive  other_positive\n",
       "region                                                      \n",
       "Atlantic                    354           21             586\n",
       "British Columbia            678           41            1122\n",
       "Ontario                     544           33             901\n",
       "Prairies                   2768          165            4581\n",
       "Quebec                     2201          132            3642\n",
       "Territories                  63            4             104"
      ]
     },
     "metadata": {},
     "output_type": "display_data"
    },
    {
     "name": "stdout",
     "output_type": "stream",
     "text": [
      "Observed test statistic: 7584.81\n"
     ]
    }
   ],
   "source": [
    "# Part (a)\n",
    "from scipy.stats.contingency import expected_freq\n",
    "fludat_region = q2data.iloc[:,[2,3,4,6]].groupby('region').sum()\n",
    "print('Observed contingency table.')\n",
    "display(fludat_region)\n",
    "expected = expected_freq(fludat_region)\n",
    "print('Expected contingency table.')\n",
    "display(pd.DataFrame(\n",
    "    np.rint(expected).astype('int'),\n",
    "    columns=fludat_region.columns,\n",
    "    index=fludat_region.index\n",
    "))\n",
    "\n",
    "def get_chisq_test(data, expected=None):\n",
    "    \"\"\"\n",
    "    return the value test statistic value\n",
    "    \"\"\"\n",
    "    if expected is None:\n",
    "        expected = expected_freq(data)\n",
    "    return np.array(\n",
    "        pow(data - expected, 2)/expected\n",
    "    ).sum()\n",
    "# print observed test statistic\n",
    "observed_chisq = get_chisq_test(fludat_region)\n",
    "print(\n",
    "    'Observed test statistic:', \n",
    "    round(observed_chisq, 2)\n",
    ")"
   ]
  },
  {
   "cell_type": "code",
   "execution_count": 8,
   "metadata": {},
   "outputs": [],
   "source": [
    "# permutation distribution of the test statistic\n",
    "def chisq_perm_shuffle(array1, array2, expected):\n",
    "    \"\"\"\n",
    "    return a single value of chi squared test statistic\n",
    "    from a single random shuffle\n",
    "    \"\"\"\n",
    "    # shuffle\n",
    "    np.random.shuffle(array1)\n",
    "    # count\n",
    "    counts = np.zeros((array2.max()+1, array1.max()+1))\n",
    "    for arr1 in np.unique(array1):\n",
    "        freq = np.bincount(array2[array1==arr1])\n",
    "        counts[:len(freq), arr1] = freq # in case there is no region 5 \n",
    "                                        # (the lengths would differ)\n",
    "    return get_chisq_test(counts, expected)\n",
    "    \n",
    "    \n",
    "def chisq_perm_test(data, expected, N=1000):\n",
    "    \"\"\"\n",
    "    return a list of chi squared test statistics\n",
    "    from random suffles\n",
    "    \"\"\"\n",
    "    # create array of 0,1,2 for subtypes\n",
    "    cases_by_subtype = []\n",
    "    for ind, sub_positive in enumerate(data.sum(axis=0)):\n",
    "        cases_by_subtype += list(np.repeat(ind, sub_positive))\n",
    "    cases_by_subtype = np.array(cases_by_subtype)\n",
    "    # create array of 0,1,...,5 for regions\n",
    "    cases_by_region = []\n",
    "    for ind, reg_positive in enumerate(data.sum(axis=1)):\n",
    "        cases_by_region += list(np.repeat(ind, reg_positive))\n",
    "    cases_by_region = np.array(cases_by_region)\n",
    "    return [\n",
    "        chisq_perm_shuffle(\n",
    "            cases_by_subtype,\n",
    "            cases_by_region, \n",
    "            expected\n",
    "        ) \n",
    "        for x in range(N)\n",
    "    ]\n",
    "\n",
    "# randomly pemutate for N=1000 iterations\n",
    "N = 1000\n",
    "np.random.seed(1234)\n",
    "null_dist_2 = chisq_perm_test(fludat_region, expected, N)"
   ]
  },
  {
   "cell_type": "code",
   "execution_count": 9,
   "metadata": {},
   "outputs": [
    {
     "data": {
      "image/png": "[encoded data removed]",
      "text/plain": [
       "<Figure size 432x288 with 1 Axes>"
      ]
     },
     "metadata": {
      "needs_background": "light"
     },
     "output_type": "display_data"
    }
   ],
   "source": [
    "# plot the distribution\n",
    "fig = plt.figure()\n",
    "plt.hist(\n",
    "    null_dist_2,\n",
    "    bins = 20, \n",
    "    color = '#e9a3c9',\n",
    "    ec='white'\n",
    ")\n",
    "ax = fig.get_axes()[0]\n",
    "ax.spines['top'].set_visible(False)\n",
    "ax.spines['right'].set_visible(False)\n",
    "plt.xlabel('Chi-squared Test Statistic')\n",
    "plt.title('Permutation Distribution of Region '+\n",
    "          'and Influenza Test of Independence');"
   ]
  },
  {
   "cell_type": "markdown",
   "metadata": {},
   "source": [
    "(b) Use the permutation distribution in (a) calculate the p-value of the test."
   ]
  },
  {
   "cell_type": "code",
   "execution_count": 10,
   "metadata": {},
   "outputs": [
    {
     "name": "stdout",
     "output_type": "stream",
     "text": [
      "The p-value is: 0.001\n"
     ]
    }
   ],
   "source": [
    "# Part (b)\n",
    "p_value2 = (sum(\n",
    "    (null_dist_2)\n",
    "        >= np.absolute(observed_chisq)\n",
    ")+1/(N+1))\n",
    "print('The p-value is:', np.round(p_value2,3))"
   ]
  },
  {
   "cell_type": "markdown",
   "metadata": {},
   "source": [
    "(c) What can you conclude about region and subtype of influenza based on the results in part (b)? "
   ]
  },
  {
   "cell_type": "markdown",
   "metadata": {},
   "source": [
    "### Answer for Q2c\n",
    "With p-value < `0.05`, the null hypothesis is rejected at 95% confidence level. In words, we conclude that the distribution of subtypes among positive influenza cases is not independent of the regions 19 out of 20 times."
   ]
  },
  {
   "cell_type": "markdown",
   "metadata": {},
   "source": [
    "# Question 3\n",
    "\n",
    "This question involves investigating type I and II error rates for testing two proportions.  \n",
    "\n",
    "(a) Explain how to simulate the type I error rate for a Z-test of two proportions."
   ]
  },
  {
   "cell_type": "markdown",
   "metadata": {},
   "source": [
    "### Answer for Q3a\n",
    "1.  Simulate two independent sequence of `n` Bernoulli random variables from a common Bernoulli distribution.\n",
    "2.  Perform Z-test and calculate the p-value based on a confidence level, `alpha`.\n",
    "3.  Repeat `N` times and calculate proportion of times the p-value is less than `alpha`.\n",
    "\n",
    "The simulation gives the proportion of time the null hypothesis (`p1=p2`) is rejected under null hypothesis (Type I error)."
   ]
  },
  {
   "cell_type": "markdown",
   "metadata": {},
   "source": [
    "(b) Write a program in Python to simulate the type I error rate of the Z-test for two proportions.  What is your type I error rate for your simulation?  Assume the sample size in each group is 200 and $\\alpha=0.05$."
   ]
  },
  {
   "cell_type": "code",
   "execution_count": 11,
   "metadata": {},
   "outputs": [
    {
     "name": "stdout",
     "output_type": "stream",
     "text": [
      "The simulated type I error rate is 0.044.\n"
     ]
    }
   ],
   "source": [
    "from scipy.stats import bernoulli\n",
    "np.random.seed(1234) #set random seed for replicability\n",
    "alpha = 0.05 # alpha\n",
    "p1 = 0.5 # Probability for population 1\n",
    "p2 = 0.5 # Probability for population 2\n",
    "\n",
    "nsamples = 200 #each test will use nsamples\n",
    "nsims = 1000 #number of simulations from which to draw average\n",
    "\n",
    "def sim_prop_test(p1,p2):\n",
    "    testA = bernoulli(p1).rvs(nsamples)\n",
    "    testB = bernoulli(p2).rvs(nsamples)\n",
    "    count = np.array([testA.sum(), testB.sum()])\n",
    "    nobs = np.array([nsamples, nsamples])\n",
    "    rejected = (proportions_ztest(count, nobs)[1] <= 0.05)\n",
    "    return rejected\n",
    "\n",
    "print(\n",
    "    'The simulated type I error rate is',\n",
    "    str(np.round(np.mean([\n",
    "        sim_prop_test(p1, p2) \n",
    "        for k in range(nsims)\n",
    "    ]),3)) + '.'\n",
    ")"
   ]
  },
  {
   "cell_type": "markdown",
   "metadata": {},
   "source": [
    "(c) Explain how to simulate the power for testing two proportions."
   ]
  },
  {
   "cell_type": "markdown",
   "metadata": {},
   "source": [
    "### Answer for Q3c\n",
    "1.  Simulate two independent sequence of `n` Bernoulli random variables from two different Bernoulli distributions.\n",
    "2.  Perform Z-test and calculate the p-value based on a confidence level, `alpha`.\n",
    "3.  Repeat `N` times and calculate proportion of times the p-value is less than `alpha`.\n",
    "\n",
    "The simulation gives the proportion of time the null hypothesis (`p1=p2`) is rejected under alternate hypothesis."
   ]
  },
  {
   "cell_type": "markdown",
   "metadata": {},
   "source": [
    "(d) Write a program in Python to simulate the power of the Z-test for two proportions. What is the power and type II error rate for your simulation? Assume the sample size in each group is 200, $\\alpha=0.05$, and the true proportion in one group is 0.45 and the true proportion in the other group is 0.57."
   ]
  },
  {
   "cell_type": "code",
   "execution_count": 12,
   "metadata": {},
   "outputs": [
    {
     "name": "stdout",
     "output_type": "stream",
     "text": [
      "The simulated power is 0.687.\n",
      "The simulated power is 0.313.\n"
     ]
    }
   ],
   "source": [
    "np.random.seed(1234)\n",
    "p1 = 0.45 # Probability for population 1\n",
    "p2 = 0.57 # Probability for population 2\n",
    "\n",
    "rejected = [\n",
    "        sim_prop_test(p1, p2) \n",
    "        for k in range(nsims)\n",
    "    ]\n",
    "print(\n",
    "    'The simulated power is',\n",
    "    str(np.round(np.mean(rejected),3)) + '.'\n",
    ")\n",
    "print(\n",
    "    'The simulated power is',\n",
    "    str(np.round(1-np.mean(rejected),3)) + '.'\n",
    ")"
   ]
  },
  {
   "cell_type": "markdown",
   "metadata": {},
   "source": [
    "# Question 4\n",
    "\n",
    "Let $X$ be the number of purchases from and $n$ the number of visitors to the website.  The website owner is testing two versions of a web page on her site.  In a one-week period: 1874 visitors were randomized to page A, and 52 visitors made a purchase; and 1871 visitors were randomized to page B and 55 made a purchase. \n",
    "\n",
    "\n",
    "(a) Assume that the probability of a purchase is uniformly distributed.  Calculate the probability that the proportion of visitors to page B that make a purchase is greater than the proportion of visitors to page A.  "
   ]
  },
  {
   "cell_type": "code",
   "execution_count": 13,
   "metadata": {},
   "outputs": [
    {
     "name": "stdout",
     "output_type": "stream",
     "text": [
      "The estimated probability is 0.62.\n"
     ]
    }
   ],
   "source": [
    "np.random.seed(1234)\n",
    "nsim = 10000\n",
    "purchased_A = np.random.beta(\n",
    "    52+1,1874-52+1,nsim) # page A posterior dist\n",
    "purchased_B = np.random.beta(\n",
    "    55+1,1871-55+1,nsim) # page B posterior dist\n",
    "\n",
    "print('The estimated probability is',\n",
    "      str(np.round(\n",
    "          sum(purchased_B > purchased_A)/nsim, # prob pB > pA\n",
    "      3)) + '.')"
   ]
  },
  {
   "cell_type": "markdown",
   "metadata": {},
   "source": [
    "(b) Compare your result in (a) to a statistical hypothesis test.  Which test is more informative? Briefly explain.  "
   ]
  },
  {
   "cell_type": "code",
   "execution_count": 14,
   "metadata": {},
   "outputs": [
    {
     "name": "stdout",
     "output_type": "stream",
     "text": [
      "The observed Z-value is: -0.303\n",
      "The two-sided p-value is: 0.762\n"
     ]
    }
   ],
   "source": [
    "count = np.array([52, 55])\n",
    "nobs = np.array([1874, 1871])\n",
    "obsZ, pval = proportions_ztest(\n",
    "    count, nobs, alternative='two-sided'\n",
    ")\n",
    "print('The observed Z-value is:', np.round(obsZ,3))\n",
    "print('The two-sided p-value is:', np.round(pval,3))"
   ]
  },
  {
   "cell_type": "markdown",
   "metadata": {},
   "source": [
    "The Z-test for two proportions is conducted to test whether the difference between the two proportions is significant. \n",
    "$$ H_0: p_1=p_2 $$\n",
    "$$ H_1: p_a\\neq p_2$$\n",
    "\n",
    "Based on the p-value, we fail to reject the null hypothesis at 95% confidence level and conclude that there isn't strong enough evidence that the two web pages promote sales differently."
   ]
  },
  {
   "cell_type": "markdown",
   "metadata": {},
   "source": [
    "#### Reasons why one would prefer one method over the other\n",
    "\n",
    "##### Method (a) \n",
    "+  Assumes the difference between the two proportions is random. \n",
    "+  Thus, gives a probability over a binary decision. \n",
    "\n",
    "##### Method (b)\n",
    "+  Assumes the _true_ difference is fixed.\n",
    "+ Does not require a prior distribution - the uniform distribution assumed for making a purchase may not be realistic."
   ]
  }
 ],
 "metadata": {
  "kernelspec": {
   "display_name": "Python 3",
   "language": "python",
   "name": "python3"
  },
  "language_info": {
   "codemirror_mode": {
    "name": "ipython",
    "version": 3
   },
   "file_extension": ".py",
   "mimetype": "text/x-python",
   "name": "python",
   "nbconvert_exporter": "python",
   "pygments_lexer": "ipython3",
   "version": "3.7.2"
  }
 },
 "nbformat": 4,
 "nbformat_minor": 2
}
