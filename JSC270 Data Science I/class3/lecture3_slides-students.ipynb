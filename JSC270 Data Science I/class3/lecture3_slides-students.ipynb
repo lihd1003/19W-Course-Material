{
 "cells": [
  {
   "cell_type": "markdown",
   "metadata": {
    "slideshow": {
     "slide_type": "slide"
    }
   },
   "source": [
    "# JSC270 - Class \\#3\n",
    "\n",
    "## Prof. Chevalier\n",
    "\n",
    "# Today's Class\n",
    "\n",
    "- Descriptive statistics:\n",
    "    - mean, median, mode\n",
    "    - variance, standard deviation\n",
    "    - frequency distribution\n",
    "\n",
    "- Data visualization:\n",
    "   - visual summary\n",
    "   - distributions\n",
    "   - relationships"
   ]
  },
  {
   "cell_type": "markdown",
   "metadata": {
    "slideshow": {
     "slide_type": "slide"
    }
   },
   "source": [
    "<center>\n",
    "    <a href='https://jsc270.github.io/simple_page.html'>https://jsc270.github.io/simple_page.html</a>\n",
    "\n",
    "</center>"
   ]
  },
  {
   "cell_type": "markdown",
   "metadata": {
    "slideshow": {
     "slide_type": "slide"
    }
   },
   "source": [
    "#### Exercise: Scrape the data using BeautifulSoup"
   ]
  },
  {
   "cell_type": "code",
   "execution_count": 3,
   "metadata": {
    "scrolled": true,
    "slideshow": {
     "slide_type": "fragment"
    }
   },
   "outputs": [
    {
     "name": "stdout",
     "output_type": "stream",
     "text": [
      "['10.0', '8.04', '10.0', '9.14', '10.0', '7.46', '8.0', '6.58', '8.0', '6.95', '8.0', '8.14', '8.0', '6.77', '8.0', '5.76', '13.0', '7.58', '13.0', '8.74', '13.0', '12.74', '8.0', '7.71', '9.0', '8.81', '9.0', '8.77', '9.0', '7.11', '8.0', '8.84', '11.0', '8.33', '11.0', '9.26', '11.0', '7.81', '8.0', '8.47', '14.0', '9.96', '14.0', '8.10', '14.0', '8.84', '8.0', '7.04', '6.0', '7.24', '6.0', '6.13', '6.0', '6.08', '8.0', '5.25', '4.0', '4.26', '4.0', '3.10', '4.0', '5.39', '19.0', '12.50', '12.0', '10.84', '12.0', '9.13', '12.0', '8.15', '8.0', '5.56', '7.0', '4.82', '7.0', '7.26', '7.0', '6.42', '8.0', '7.91', '5.0', '5.68', '5.0', '4.74', '5.0', '5.73', '8.0', '6.89']\n"
     ]
    }
   ],
   "source": [
    "from urllib.request import urlopen\n",
    "from bs4 import BeautifulSoup\n",
    "\n",
    "webpage = 'https://jsc270.github.io/simple_page.html'\n",
    "page = urlopen(webpage)\n",
    "soup = BeautifulSoup(page, 'html.parser')\n",
    "\n",
    "# select all <td> tag elements within <tr> within <tbody> within <table>\n",
    "# https://www.w3schools.com/cssref/css_selectors.asp \n",
    "tabledata=soup.select('table tbody tr td')\n",
    "\n",
    "# extract text part of tag using list comprehension\n",
    "tabletext = [m.get_text() for m in tabledata] \n",
    "tabletext\n",
    "# keep only the relevant data\n",
    "datasets = tabletext[tabletext.index('x') + 8:] # index to the first occurence of x then add 8 for the head\n",
    "print(datasets)"
   ]
  },
  {
   "cell_type": "markdown",
   "metadata": {
    "slideshow": {
     "slide_type": "slide"
    }
   },
   "source": [
    "#### Exercise: Store the four datasets in a data frame"
   ]
  },
  {
   "cell_type": "code",
   "execution_count": 4,
   "metadata": {
    "scrolled": true,
    "slideshow": {
     "slide_type": "fragment"
    }
   },
   "outputs": [
    {
     "data": {
      "text/html": [
       "<div>\n",
       "<style scoped>\n",
       "    .dataframe tbody tr th:only-of-type {\n",
       "        vertical-align: middle;\n",
       "    }\n",
       "\n",
       "    .dataframe tbody tr th {\n",
       "        vertical-align: top;\n",
       "    }\n",
       "\n",
       "    .dataframe thead th {\n",
       "        text-align: right;\n",
       "    }\n",
       "</style>\n",
       "<table border=\"1\" class=\"dataframe\">\n",
       "  <thead>\n",
       "    <tr style=\"text-align: right;\">\n",
       "      <th></th>\n",
       "      <th>x1</th>\n",
       "      <th>y1</th>\n",
       "      <th>x2</th>\n",
       "      <th>y2</th>\n",
       "      <th>x3</th>\n",
       "      <th>y3</th>\n",
       "      <th>x4</th>\n",
       "      <th>y4</th>\n",
       "    </tr>\n",
       "  </thead>\n",
       "  <tbody>\n",
       "    <tr>\n",
       "      <th>0</th>\n",
       "      <td>10.0</td>\n",
       "      <td>8.04</td>\n",
       "      <td>10.0</td>\n",
       "      <td>9.14</td>\n",
       "      <td>10.0</td>\n",
       "      <td>7.46</td>\n",
       "      <td>8.0</td>\n",
       "      <td>6.58</td>\n",
       "    </tr>\n",
       "    <tr>\n",
       "      <th>1</th>\n",
       "      <td>8.0</td>\n",
       "      <td>6.95</td>\n",
       "      <td>8.0</td>\n",
       "      <td>8.14</td>\n",
       "      <td>8.0</td>\n",
       "      <td>6.77</td>\n",
       "      <td>8.0</td>\n",
       "      <td>5.76</td>\n",
       "    </tr>\n",
       "    <tr>\n",
       "      <th>2</th>\n",
       "      <td>13.0</td>\n",
       "      <td>7.58</td>\n",
       "      <td>13.0</td>\n",
       "      <td>8.74</td>\n",
       "      <td>13.0</td>\n",
       "      <td>12.74</td>\n",
       "      <td>8.0</td>\n",
       "      <td>7.71</td>\n",
       "    </tr>\n",
       "    <tr>\n",
       "      <th>3</th>\n",
       "      <td>9.0</td>\n",
       "      <td>8.81</td>\n",
       "      <td>9.0</td>\n",
       "      <td>8.77</td>\n",
       "      <td>9.0</td>\n",
       "      <td>7.11</td>\n",
       "      <td>8.0</td>\n",
       "      <td>8.84</td>\n",
       "    </tr>\n",
       "    <tr>\n",
       "      <th>4</th>\n",
       "      <td>11.0</td>\n",
       "      <td>8.33</td>\n",
       "      <td>11.0</td>\n",
       "      <td>9.26</td>\n",
       "      <td>11.0</td>\n",
       "      <td>7.81</td>\n",
       "      <td>8.0</td>\n",
       "      <td>8.47</td>\n",
       "    </tr>\n",
       "    <tr>\n",
       "      <th>5</th>\n",
       "      <td>14.0</td>\n",
       "      <td>9.96</td>\n",
       "      <td>14.0</td>\n",
       "      <td>8.10</td>\n",
       "      <td>14.0</td>\n",
       "      <td>8.84</td>\n",
       "      <td>8.0</td>\n",
       "      <td>7.04</td>\n",
       "    </tr>\n",
       "    <tr>\n",
       "      <th>6</th>\n",
       "      <td>6.0</td>\n",
       "      <td>7.24</td>\n",
       "      <td>6.0</td>\n",
       "      <td>6.13</td>\n",
       "      <td>6.0</td>\n",
       "      <td>6.08</td>\n",
       "      <td>8.0</td>\n",
       "      <td>5.25</td>\n",
       "    </tr>\n",
       "    <tr>\n",
       "      <th>7</th>\n",
       "      <td>4.0</td>\n",
       "      <td>4.26</td>\n",
       "      <td>4.0</td>\n",
       "      <td>3.10</td>\n",
       "      <td>4.0</td>\n",
       "      <td>5.39</td>\n",
       "      <td>19.0</td>\n",
       "      <td>12.50</td>\n",
       "    </tr>\n",
       "    <tr>\n",
       "      <th>8</th>\n",
       "      <td>12.0</td>\n",
       "      <td>10.84</td>\n",
       "      <td>12.0</td>\n",
       "      <td>9.13</td>\n",
       "      <td>12.0</td>\n",
       "      <td>8.15</td>\n",
       "      <td>8.0</td>\n",
       "      <td>5.56</td>\n",
       "    </tr>\n",
       "    <tr>\n",
       "      <th>9</th>\n",
       "      <td>7.0</td>\n",
       "      <td>4.82</td>\n",
       "      <td>7.0</td>\n",
       "      <td>7.26</td>\n",
       "      <td>7.0</td>\n",
       "      <td>6.42</td>\n",
       "      <td>8.0</td>\n",
       "      <td>7.91</td>\n",
       "    </tr>\n",
       "    <tr>\n",
       "      <th>10</th>\n",
       "      <td>5.0</td>\n",
       "      <td>5.68</td>\n",
       "      <td>5.0</td>\n",
       "      <td>4.74</td>\n",
       "      <td>5.0</td>\n",
       "      <td>5.73</td>\n",
       "      <td>8.0</td>\n",
       "      <td>6.89</td>\n",
       "    </tr>\n",
       "  </tbody>\n",
       "</table>\n",
       "</div>"
      ],
      "text/plain": [
       "      x1     y1    x2    y2    x3     y3    x4     y4\n",
       "0   10.0   8.04  10.0  9.14  10.0   7.46   8.0   6.58\n",
       "1    8.0   6.95   8.0  8.14   8.0   6.77   8.0   5.76\n",
       "2   13.0   7.58  13.0  8.74  13.0  12.74   8.0   7.71\n",
       "3    9.0   8.81   9.0  8.77   9.0   7.11   8.0   8.84\n",
       "4   11.0   8.33  11.0  9.26  11.0   7.81   8.0   8.47\n",
       "5   14.0   9.96  14.0  8.10  14.0   8.84   8.0   7.04\n",
       "6    6.0   7.24   6.0  6.13   6.0   6.08   8.0   5.25\n",
       "7    4.0   4.26   4.0  3.10   4.0   5.39  19.0  12.50\n",
       "8   12.0  10.84  12.0  9.13  12.0   8.15   8.0   5.56\n",
       "9    7.0   4.82   7.0  7.26   7.0   6.42   8.0   7.91\n",
       "10   5.0   5.68   5.0  4.74   5.0   5.73   8.0   6.89"
      ]
     },
     "execution_count": 4,
     "metadata": {},
     "output_type": "execute_result"
    }
   ],
   "source": [
    "import pandas as pd\n",
    "\n",
    "# we have four datasets to store\n",
    "fourdatasets = pd.DataFrame(columns=['x1', 'y1', 'x2', 'y2', 'x3', 'y3', 'x4', 'y4'])\n",
    "\n",
    "###### TODO: write the code to fill out the data frame with the data\n",
    "for i in range(8):\n",
    "    fourdatasets[['x1','y1','x2','y2','x3','y3','x4','y4'][i]] = [float(x) for x in datasets[i::8]]\n",
    "\n",
    "fourdatasets"
   ]
  },
  {
   "cell_type": "markdown",
   "metadata": {
    "slideshow": {
     "slide_type": "slide"
    }
   },
   "source": [
    "# Descriptive statistics\n",
    "\n",
    "\n",
    "* Arithmetic mean $$ \\overline{X} = \\frac{\\sum_{i=1}^{n} x_i}{n} $$\n",
    "\n",
    "* Variance $$ s^2 = \\frac{\\sum_{i=1}^{n} (x_i - \\overline{X})^2}{n - 1}$$\n",
    "\n",
    "* Standard deviation $$ s = \\sqrt{\\frac{\\sum_{i=1}^{n} (x_i - \\overline{X})^2}{n - 1}}$$"
   ]
  },
  {
   "cell_type": "markdown",
   "metadata": {
    "slideshow": {
     "slide_type": "slide"
    }
   },
   "source": [
    "#### Exercise: Create a statistical summary table of the four datasets"
   ]
  },
  {
   "cell_type": "code",
   "execution_count": 5,
   "metadata": {
    "scrolled": true,
    "slideshow": {
     "slide_type": "fragment"
    }
   },
   "outputs": [
    {
     "data": {
      "text/html": [
       "<div>\n",
       "<style scoped>\n",
       "    .dataframe tbody tr th:only-of-type {\n",
       "        vertical-align: middle;\n",
       "    }\n",
       "\n",
       "    .dataframe tbody tr th {\n",
       "        vertical-align: top;\n",
       "    }\n",
       "\n",
       "    .dataframe thead th {\n",
       "        text-align: right;\n",
       "    }\n",
       "</style>\n",
       "<table border=\"1\" class=\"dataframe\">\n",
       "  <thead>\n",
       "    <tr style=\"text-align: right;\">\n",
       "      <th></th>\n",
       "      <th>I</th>\n",
       "      <th>II</th>\n",
       "      <th>III</th>\n",
       "      <th>IV</th>\n",
       "    </tr>\n",
       "  </thead>\n",
       "  <tbody>\n",
       "    <tr>\n",
       "      <th>mean x</th>\n",
       "      <td>9.0</td>\n",
       "      <td>9.0</td>\n",
       "      <td>9.0</td>\n",
       "      <td>9.0</td>\n",
       "    </tr>\n",
       "    <tr>\n",
       "      <th>variance x</th>\n",
       "      <td>11.0</td>\n",
       "      <td>11.0</td>\n",
       "      <td>11.0</td>\n",
       "      <td>11.0</td>\n",
       "    </tr>\n",
       "    <tr>\n",
       "      <th>standard deviations x</th>\n",
       "      <td>3.3</td>\n",
       "      <td>3.3</td>\n",
       "      <td>3.3</td>\n",
       "      <td>3.3</td>\n",
       "    </tr>\n",
       "    <tr>\n",
       "      <th>mean y</th>\n",
       "      <td>7.5</td>\n",
       "      <td>7.5</td>\n",
       "      <td>7.5</td>\n",
       "      <td>7.5</td>\n",
       "    </tr>\n",
       "    <tr>\n",
       "      <th>variance y</th>\n",
       "      <td>4.1</td>\n",
       "      <td>4.1</td>\n",
       "      <td>4.1</td>\n",
       "      <td>4.1</td>\n",
       "    </tr>\n",
       "    <tr>\n",
       "      <th>standard deviations y</th>\n",
       "      <td>2.0</td>\n",
       "      <td>2.0</td>\n",
       "      <td>2.0</td>\n",
       "      <td>2.0</td>\n",
       "    </tr>\n",
       "  </tbody>\n",
       "</table>\n",
       "</div>"
      ],
      "text/plain": [
       "                          I    II   III    IV\n",
       "mean x                  9.0   9.0   9.0   9.0\n",
       "variance x             11.0  11.0  11.0  11.0\n",
       "standard deviations x   3.3   3.3   3.3   3.3\n",
       "mean y                  7.5   7.5   7.5   7.5\n",
       "variance y              4.1   4.1   4.1   4.1\n",
       "standard deviations y   2.0   2.0   2.0   2.0"
      ]
     },
     "execution_count": 5,
     "metadata": {},
     "output_type": "execute_result"
    }
   ],
   "source": [
    "pd.set_option('precision', 1)\n",
    "\n",
    "def format_summary(data, group):\n",
    "    return [data['x'+str(group)].mean(),\n",
    "            data['x'+str(group)].var(),\n",
    "            data['x'+str(group)].std(),\n",
    "            data['y'+str(group)].mean(),\n",
    "            data['y'+str(group)].var(),\n",
    "            data['y'+str(group)].std()]\n",
    "\n",
    "summary = pd.DataFrame({          #### TODO: replace the <???> below to complete the table\n",
    "            'I': format_summary(fourdatasets, 1) ,\n",
    "            'II':  format_summary(fourdatasets, 2),\n",
    "            'III': format_summary(fourdatasets, 3),\n",
    "            'IV':  format_summary(fourdatasets, 4),\n",
    "    }, index= ['mean x', 'variance x', 'standard deviations x', \n",
    "               'mean y', 'variance y', 'standard deviations y'])\n",
    "\n",
    "\n",
    "summary"
   ]
  },
  {
   "cell_type": "markdown",
   "metadata": {
    "slideshow": {
     "slide_type": "slide"
    }
   },
   "source": [
    "## Visualization\n",
    "\n",
    "What plot(s) would be intersting to display?\n",
    "\n",
    "Answer:\n",
    " - frequency distribution (histogram)\n",
    " - relationship (scatterplot)"
   ]
  },
  {
   "cell_type": "markdown",
   "metadata": {
    "slideshow": {
     "slide_type": "slide"
    }
   },
   "source": [
    "## Distributions"
   ]
  },
  {
   "cell_type": "code",
   "execution_count": 6,
   "metadata": {
    "scrolled": false,
    "slideshow": {
     "slide_type": "fragment"
    }
   },
   "outputs": [
    {
     "data": {
      "text/plain": [
       "<Figure size 640x480 with 1 Axes>"
      ]
     },
     "metadata": {},
     "output_type": "display_data"
    },
    {
     "data": {
      "text/plain": [
       "<Figure size 640x480 with 1 Axes>"
      ]
     },
     "metadata": {},
     "output_type": "display_data"
    }
   ],
   "source": [
    "import matplotlib as mpl\n",
    "import matplotlib.pyplot as plt\n",
    "\n",
    "fig = plt.figure()\n",
    "plt.hist(x=[fourdatasets['x1'], fourdatasets['x2'], fourdatasets['x3'],fourdatasets['x4']], label=['x1','x2','x3','x4'])\n",
    "plt.legend(loc=7)\n",
    "plt.title('frequency distribution of x values')\n",
    "plt.xlabel('x values')\n",
    "plt.ylabel('count')\n",
    "plt.show()\n",
    "\n",
    "fig = plt.figure()\n",
    "plt.hist(x=[fourdatasets['y1'], fourdatasets['y2'], fourdatasets['y3'],fourdatasets['y4']], label=['y1','y2','y3','y4'])\n",
    "plt.legend(loc=7)\n",
    "plt.title('frequency distribution of y values')\n",
    "plt.xlabel('y values')\n",
    "plt.ylabel('count')\n",
    "plt.show()\n",
    "## TODO: adapt the code above to plot the \n",
    "# x frequency distribution for all four datasets"
   ]
  },
  {
   "cell_type": "markdown",
   "metadata": {
    "slideshow": {
     "slide_type": "slide"
    }
   },
   "source": [
    "## Boxplots (using pandas)\n"
   ]
  },
  {
   "cell_type": "code",
   "execution_count": 7,
   "metadata": {
    "scrolled": false,
    "slideshow": {
     "slide_type": "fragment"
    }
   },
   "outputs": [
    {
     "data": {
      "text/plain": [
       "<matplotlib.axes._subplots.AxesSubplot at 0x22930296278>"
      ]
     },
     "execution_count": 7,
     "metadata": {},
     "output_type": "execute_result"
    },
    {
     "data": {
      "image/png": "[encoded data removed]",
      "text/plain": [
       "<Figure size 432x288 with 1 Axes>"
      ]
     },
     "metadata": {
      "needs_background": "light"
     },
     "output_type": "display_data"
    }
   ],
   "source": [
    "# All boxplots using pandas\n",
    "fourdatasets.boxplot()"
   ]
  },
  {
   "cell_type": "markdown",
   "metadata": {
    "slideshow": {
     "slide_type": "slide"
    }
   },
   "source": [
    "### Exercise: Create a figure with boxplots of x-values by filtering the data frame"
   ]
  },
  {
   "cell_type": "code",
   "execution_count": 8,
   "metadata": {
    "scrolled": false,
    "slideshow": {
     "slide_type": "fragment"
    }
   },
   "outputs": [
    {
     "data": {
      "text/plain": [
       "<matplotlib.axes._subplots.AxesSubplot at 0x2293227b1d0>"
      ]
     },
     "execution_count": 8,
     "metadata": {},
     "output_type": "execute_result"
    },
    {
     "data": {
      "image/png": "[encoded data removed]",
      "text/plain": [
       "<Figure size 432x288 with 1 Axes>"
      ]
     },
     "metadata": {
      "needs_background": "light"
     },
     "output_type": "display_data"
    }
   ],
   "source": [
    "#### TODO: replace <???> with the appropriate code to select the x values only\n",
    "fourdatasets[fourdatasets.columns[::2]].boxplot()      "
   ]
  },
  {
   "cell_type": "markdown",
   "metadata": {
    "slideshow": {
     "slide_type": "slide"
    }
   },
   "source": [
    "### Exercise: Create a figure with boxplots of y values only by filtering the data frame"
   ]
  },
  {
   "cell_type": "code",
   "execution_count": 9,
   "metadata": {
    "scrolled": true,
    "slideshow": {
     "slide_type": "fragment"
    }
   },
   "outputs": [
    {
     "data": {
      "text/plain": [
       "<matplotlib.axes._subplots.AxesSubplot at 0x2293206ffd0>"
      ]
     },
     "execution_count": 9,
     "metadata": {},
     "output_type": "execute_result"
    },
    {
     "data": {
      "image/png": "[encoded data removed]",
      "text/plain": [
       "<Figure size 432x288 with 1 Axes>"
      ]
     },
     "metadata": {
      "needs_background": "light"
     },
     "output_type": "display_data"
    }
   ],
   "source": [
    "#### TODO: write the appropriate code to select only x values\n",
    "fourdatasets[fourdatasets.columns[1::2]].boxplot()      "
   ]
  },
  {
   "cell_type": "markdown",
   "metadata": {
    "slideshow": {
     "slide_type": "slide"
    }
   },
   "source": [
    "## Boxplots (using matplotlib)"
   ]
  },
  {
   "cell_type": "code",
   "execution_count": 10,
   "metadata": {
    "scrolled": true,
    "slideshow": {
     "slide_type": "fragment"
    }
   },
   "outputs": [
    {
     "data": {
      "image/png": "[encoded data removed]",
      "text/plain": [
       "<Figure size 432x288 with 1 Axes>"
      ]
     },
     "metadata": {
      "needs_background": "light"
     },
     "output_type": "display_data"
    }
   ],
   "source": [
    "# A single boxplot\n",
    "fig = plt.figure()               ## Create the main figure\n",
    "plt.title('Boxplots x1')         ## Add a title to the (unique) plot in the figure\n",
    "plt.boxplot(fourdatasets.x1)     ## Create the boxplot\n",
    "plt.show()                       ## Show the result"
   ]
  },
  {
   "cell_type": "code",
   "execution_count": 11,
   "metadata": {
    "scrolled": true,
    "slideshow": {
     "slide_type": "slide"
    }
   },
   "outputs": [
    {
     "data": {
      "image/png": "[encoded data removed]",
      "text/plain": [
       "<Figure size 432x288 with 1 Axes>"
      ]
     },
     "metadata": {
      "needs_background": "light"
     },
     "output_type": "display_data"
    }
   ],
   "source": [
    "# Multiple boxplots side-by-side\n",
    "\n",
    "fig = plt.figure()\n",
    "\n",
    "all_x = [fourdatasets.x1, fourdatasets.x2, fourdatasets.x3, fourdatasets.x4]\n",
    "names = ['I', 'II', 'III', 'IV']\n",
    "plt.boxplot(all_x)\n",
    "plt.xticks([1, 2, 3, 4], names)      ## Replace x ticks with dataset names\n",
    "plt.xlabel('Dataset')                ## Label the x axis\n",
    "plt.ylabel('x values')               ## Label the y axis\n",
    "plt.title('Boxplot of x values')\n",
    "\n",
    "plt.show()"
   ]
  },
  {
   "cell_type": "code",
   "execution_count": 12,
   "metadata": {
    "scrolled": true,
    "slideshow": {
     "slide_type": "slide"
    }
   },
   "outputs": [
    {
     "data": {
      "image/png": "[encoded data removed]",
      "text/plain": [
       "<Figure size 432x288 with 1 Axes>"
      ]
     },
     "metadata": {
      "needs_background": "light"
     },
     "output_type": "display_data"
    }
   ],
   "source": [
    "# Multiple boxplots side-by-side\n",
    "fig = plt.figure()\n",
    "\n",
    "all_x = [fourdatasets.x1, fourdatasets.x2, fourdatasets.x3, fourdatasets.x4]\n",
    "all_y = [fourdatasets.y1, fourdatasets.y1, fourdatasets.y3, fourdatasets.y4]\n",
    "setname = ['I', 'II', 'III', 'IV']\n",
    "bp_x = plt.boxplot(all_x, positions=[1,2,3,4], patch_artist=True)\n",
    "bp_y = plt.boxplot(all_y, positions=[5,6,7,8], patch_artist=True)\n",
    "\n",
    "## Change the colors\n",
    "for element in ['boxes', 'whiskers', 'fliers', 'means', 'medians', 'caps']:\n",
    "    plt.setp(bp_x[element], color='purple')\n",
    "    plt.setp(bp_y[element], color='darkblue')\n",
    "    \n",
    "for patch in bp_x['boxes']:\n",
    "    patch.set(facecolor='pink')\n",
    "    \n",
    "for patch in bp_y['boxes']:\n",
    "    patch.set(facecolor='lightblue')\n",
    "\n",
    "## Add information to the plot\n",
    "plt.xticks([0,1,2,3,4,5,6,7,8], \n",
    "           ['', 'x1', 'x2', 'x3', 'x4', 'y1', 'y2', 'y3', 'y4'])    ## Replace x ticks with dataset names\n",
    "plt.xlabel('Data dimension')       ## Label the x axis\n",
    "plt.ylabel('values')               ## Label the y axis\n",
    "plt.title('Boxplot of x and values')\n",
    "\n",
    "plt.show()"
   ]
  },
  {
   "cell_type": "markdown",
   "metadata": {
    "slideshow": {
     "slide_type": "slide"
    }
   },
   "source": [
    "## Exercise: Let's identify the existance of outliers manually"
   ]
  },
  {
   "cell_type": "code",
   "execution_count": 13,
   "metadata": {
    "scrolled": true,
    "slideshow": {
     "slide_type": "fragment"
    }
   },
   "outputs": [
    {
     "name": "stdout",
     "output_type": "stream",
     "text": [
      "x1    9.0\n",
      "x2    9.0\n",
      "x3    9.0\n",
      "x4    8.0\n",
      "dtype: float64\n",
      "y1    7.6\n",
      "y2    8.1\n",
      "y3    7.1\n",
      "y4    7.0\n",
      "dtype: float64\n"
     ]
    }
   ],
   "source": [
    "## Calculating median\n",
    "print(fourdatasets[fourdatasets.columns[::2]].median())\n",
    "print(fourdatasets[fourdatasets.columns[1::2]].median())"
   ]
  },
  {
   "cell_type": "code",
   "execution_count": 14,
   "metadata": {
    "scrolled": true,
    "slideshow": {
     "slide_type": "fragment"
    }
   },
   "outputs": [
    {
     "name": "stdout",
     "output_type": "stream",
     "text": [
      "Outliers below min: False \n",
      "Outliers above max: False\n"
     ]
    }
   ],
   "source": [
    "## Checking manually for outliers\n",
    "values = fourdatasets.x1\n",
    "\n",
    "Q1 = values.quantile(0.25)\n",
    "Q3 = values.quantile(0.75)\n",
    "IQR = Q3 - Q1\n",
    "min = Q1 - 1.5*IQR\n",
    "max = Q3 + 1.5*IQR\n",
    "print(\"Outliers below min:\", any(values < min), \n",
    "      \"\\nOutliers above max:\", any(values > max))"
   ]
  },
  {
   "cell_type": "markdown",
   "metadata": {
    "slideshow": {
     "slide_type": "slide"
    }
   },
   "source": [
    "## Mean vs. median vs. mode"
   ]
  },
  {
   "cell_type": "code",
   "execution_count": 15,
   "metadata": {
    "scrolled": false,
    "slideshow": {
     "slide_type": "fragment"
    }
   },
   "outputs": [
    {
     "data": {
      "text/html": [
       "<div>\n",
       "<style scoped>\n",
       "    .dataframe tbody tr th:only-of-type {\n",
       "        vertical-align: middle;\n",
       "    }\n",
       "\n",
       "    .dataframe tbody tr th {\n",
       "        vertical-align: top;\n",
       "    }\n",
       "\n",
       "    .dataframe thead th {\n",
       "        text-align: right;\n",
       "    }\n",
       "</style>\n",
       "<table border=\"1\" class=\"dataframe\">\n",
       "  <thead>\n",
       "    <tr style=\"text-align: right;\">\n",
       "      <th></th>\n",
       "      <th>Unnamed: 0</th>\n",
       "      <th>box_office</th>\n",
       "      <th>genre</th>\n",
       "      <th>imdb_rating</th>\n",
       "      <th>imdb_votes</th>\n",
       "      <th>title</th>\n",
       "      <th>metascore</th>\n",
       "      <th>year</th>\n",
       "      <th>language</th>\n",
       "      <th>country</th>\n",
       "    </tr>\n",
       "  </thead>\n",
       "  <tbody>\n",
       "    <tr>\n",
       "      <th>0</th>\n",
       "      <td>0</td>\n",
       "      <td>NaN</td>\n",
       "      <td>Drama Mystery Thriller</td>\n",
       "      <td>7.1</td>\n",
       "      <td>21534.0</td>\n",
       "      <td>First Reformed</td>\n",
       "      <td>85.0</td>\n",
       "      <td>2017</td>\n",
       "      <td>English</td>\n",
       "      <td>USA UK Australia</td>\n",
       "    </tr>\n",
       "    <tr>\n",
       "      <th>1</th>\n",
       "      <td>1</td>\n",
       "      <td>NaN</td>\n",
       "      <td>Animation Action Adventure Comedy Family Sci-Fi</td>\n",
       "      <td>8.7</td>\n",
       "      <td>43599.0</td>\n",
       "      <td>Spider-Man: Into the Spider-Verse</td>\n",
       "      <td>87.0</td>\n",
       "      <td>2018</td>\n",
       "      <td>English Spanish</td>\n",
       "      <td>USA</td>\n",
       "    </tr>\n",
       "    <tr>\n",
       "      <th>2</th>\n",
       "      <td>2</td>\n",
       "      <td>NaN</td>\n",
       "      <td>Biography Drama History</td>\n",
       "      <td>7.5</td>\n",
       "      <td>66076.0</td>\n",
       "      <td>First Man</td>\n",
       "      <td>84.0</td>\n",
       "      <td>2018</td>\n",
       "      <td>English</td>\n",
       "      <td>USA Japan</td>\n",
       "    </tr>\n",
       "    <tr>\n",
       "      <th>3</th>\n",
       "      <td>3</td>\n",
       "      <td>NaN</td>\n",
       "      <td>Drama Music Romance</td>\n",
       "      <td>8.1</td>\n",
       "      <td>118052.0</td>\n",
       "      <td>A Star Is Born</td>\n",
       "      <td>88.0</td>\n",
       "      <td>2018</td>\n",
       "      <td>English</td>\n",
       "      <td>USA</td>\n",
       "    </tr>\n",
       "    <tr>\n",
       "      <th>4</th>\n",
       "      <td>4</td>\n",
       "      <td>NaN</td>\n",
       "      <td>Drama</td>\n",
       "      <td>8.2</td>\n",
       "      <td>30951.0</td>\n",
       "      <td>Roma</td>\n",
       "      <td>96.0</td>\n",
       "      <td>2018</td>\n",
       "      <td>Spanish English Norwegian Japanese</td>\n",
       "      <td>Mexico USA</td>\n",
       "    </tr>\n",
       "  </tbody>\n",
       "</table>\n",
       "</div>"
      ],
      "text/plain": [
       "   Unnamed: 0  box_office                                            genre  \\\n",
       "0           0         NaN                           Drama Mystery Thriller   \n",
       "1           1         NaN  Animation Action Adventure Comedy Family Sci-Fi   \n",
       "2           2         NaN                          Biography Drama History   \n",
       "3           3         NaN                              Drama Music Romance   \n",
       "4           4         NaN                                            Drama   \n",
       "\n",
       "   imdb_rating  imdb_votes                              title  metascore  \\\n",
       "0          7.1     21534.0                     First Reformed       85.0   \n",
       "1          8.7     43599.0  Spider-Man: Into the Spider-Verse       87.0   \n",
       "2          7.5     66076.0                          First Man       84.0   \n",
       "3          8.1    118052.0                     A Star Is Born       88.0   \n",
       "4          8.2     30951.0                               Roma       96.0   \n",
       "\n",
       "   year                            language           country  \n",
       "0  2017                             English  USA UK Australia  \n",
       "1  2018                     English Spanish               USA  \n",
       "2  2018                             English         USA Japan  \n",
       "3  2018                             English               USA  \n",
       "4  2018  Spanish English Norwegian Japanese        Mexico USA  "
      ]
     },
     "execution_count": 15,
     "metadata": {},
     "output_type": "execute_result"
    }
   ],
   "source": [
    "import seaborn as sns\n",
    "movies = pd.read_csv(\"data/50movies-clean.csv\")\n",
    "movies.head()"
   ]
  },
  {
   "cell_type": "markdown",
   "metadata": {
    "slideshow": {
     "slide_type": "slide"
    }
   },
   "source": [
    "### Frequency distribution of movie data"
   ]
  },
  {
   "cell_type": "code",
   "execution_count": 16,
   "metadata": {
    "scrolled": true,
    "slideshow": {
     "slide_type": "fragment"
    }
   },
   "outputs": [
    {
     "data": {
      "image/png": "[encoded data removed]",
      "text/plain": [
       "<Figure size 432x288 with 1 Axes>"
      ]
     },
     "metadata": {
      "needs_background": "light"
     },
     "output_type": "display_data"
    }
   ],
   "source": [
    "import math\n",
    "votes = movies['imdb_votes'].astype(float).dropna()\n",
    "min = math.floor(votes.min())\n",
    "max = math.ceil(votes.max())\n",
    "binwidth = 10000\n",
    "\n",
    "fig = plt.figure()\n",
    "plt.hist(votes, bins=range(min, max + binwidth, binwidth))\n",
    "plt.xlabel('votes')\n",
    "plt.ylabel('counts')\n",
    "plt.show()"
   ]
  },
  {
   "cell_type": "code",
   "execution_count": 17,
   "metadata": {
    "scrolled": true,
    "slideshow": {
     "slide_type": "fragment"
    }
   },
   "outputs": [
    {
     "data": {
      "text/plain": [
       "38588.93877551021"
      ]
     },
     "execution_count": 17,
     "metadata": {},
     "output_type": "execute_result"
    }
   ],
   "source": [
    "votes.mean()"
   ]
  },
  {
   "cell_type": "code",
   "execution_count": 18,
   "metadata": {
    "scrolled": false,
    "slideshow": {
     "slide_type": "slide"
    }
   },
   "outputs": [
    {
     "data": {
      "image/png": "[encoded data removed]",
      "text/plain": [
       "<Figure size 432x288 with 1 Axes>"
      ]
     },
     "metadata": {
      "needs_background": "light"
     },
     "output_type": "display_data"
    }
   ],
   "source": [
    "## Plot the frequency distribution, mean, median and mode\n",
    "from scipy import stats\n",
    "\n",
    "fig = plt.figure()\n",
    "plt.hist(votes, color='lightgray', bins=range(min, max + binwidth, binwidth))\n",
    "\n",
    "## Add vertical lines to idicate the mean, median and mode values:\n",
    "plt.axvline(votes.mean(), \n",
    "            linewidth=1, color='red', linestyle=':', label = \"mean\")  \n",
    "plt.axvline(votes.median(), \n",
    "            linewidth=1, color='green', linestyle='--', label = \"median\")\n",
    "plt.axvline(stats.mode(votes).mode[0], \n",
    "            linewidth=1, color='blue', linestyle='-', label = \"mode\")\n",
    "\n",
    "## Adding the legend:\n",
    "plt.legend(loc='upper right')\n",
    "plt.show()"
   ]
  },
  {
   "cell_type": "markdown",
   "metadata": {
    "slideshow": {
     "slide_type": "slide"
    }
   },
   "source": [
    "## Scatterplots"
   ]
  },
  {
   "cell_type": "code",
   "execution_count": 19,
   "metadata": {
    "scrolled": true,
    "slideshow": {
     "slide_type": "fragment"
    }
   },
   "outputs": [
    {
     "data": {
      "image/png": "[encoded data removed]",
      "text/plain": [
       "<Figure size 432x288 with 1 Axes>"
      ]
     },
     "metadata": {
      "needs_background": "light"
     },
     "output_type": "display_data"
    }
   ],
   "source": [
    "plt.style.use('bmh')\n",
    "\n",
    "## Plotting x against y\n",
    "plt.figure()\n",
    "plt.scatter(fourdatasets.x1, fourdatasets.y1)\n",
    "plt.show()"
   ]
  },
  {
   "cell_type": "markdown",
   "metadata": {
    "slideshow": {
     "slide_type": "slide"
    }
   },
   "source": [
    "## Title, labels"
   ]
  },
  {
   "cell_type": "code",
   "execution_count": 20,
   "metadata": {
    "scrolled": true,
    "slideshow": {
     "slide_type": "fragment"
    }
   },
   "outputs": [
    {
     "data": {
      "image/png": "[encoded data removed]",
      "text/plain": [
       "<Figure size 432x288 with 1 Axes>"
      ]
     },
     "metadata": {
      "needs_background": "light"
     },
     "output_type": "display_data"
    }
   ],
   "source": [
    "plt.title('Dataset I')\n",
    "plt.xlabel('x')\n",
    "plt.ylabel('y')\n",
    "plt.scatter(fourdatasets.x1, fourdatasets.y1)\n",
    "plt.show()"
   ]
  },
  {
   "cell_type": "markdown",
   "metadata": {
    "slideshow": {
     "slide_type": "slide"
    }
   },
   "source": [
    "## Markers"
   ]
  },
  {
   "cell_type": "code",
   "execution_count": 21,
   "metadata": {
    "scrolled": false,
    "slideshow": {
     "slide_type": "fragment"
    }
   },
   "outputs": [
    {
     "data": {
      "image/png": "[encoded data removed]",
      "text/plain": [
       "<Figure size 432x288 with 1 Axes>"
      ]
     },
     "metadata": {
      "needs_background": "light"
     },
     "output_type": "display_data"
    }
   ],
   "source": [
    "plt.title('Dataset I')\n",
    "plt.xlabel('x')\n",
    "plt.ylabel('y')\n",
    "plt.scatter(fourdatasets.x1, fourdatasets.y1, \n",
    "            s=100,            # size of individual visual marks, in points \n",
    "            marker=\"X\",       # style of the marker\n",
    "            c=\"darkgreen\",    # color of the mark\n",
    "            alpha=0.5)        # opacity (0=transparent, 1=opaque)\n",
    "plt.show()"
   ]
  },
  {
   "cell_type": "markdown",
   "metadata": {
    "slideshow": {
     "slide_type": "slide"
    }
   },
   "source": [
    "## Multiple plots (superimposed)\n",
    "<a href=\"http://colorbrewer2.org/#type=sequential&scheme=BuGn&n=3\">Colorbrewer for choose color</a>"
   ]
  },
  {
   "cell_type": "code",
   "execution_count": 22,
   "metadata": {
    "scrolled": false,
    "slideshow": {
     "slide_type": "fragment"
    }
   },
   "outputs": [
    {
     "data": {
      "image/png": "[encoded data removed]",
      "text/plain": [
       "<Figure size 432x288 with 1 Axes>"
      ]
     },
     "metadata": {
      "needs_background": "light"
     },
     "output_type": "display_data"
    }
   ],
   "source": [
    "fig = plt.figure()\n",
    "ax = fig.add_subplot(1, 1, 1)       # nrow, ncolumn, index \n",
    "\n",
    "ax.scatter(fourdatasets.x1, fourdatasets.y1, \n",
    "           alpha=0.8, c=\"orange\", edgecolors='none', s=50, label=\"I\")\n",
    "ax.scatter(fourdatasets.x2, fourdatasets.y2, \n",
    "           alpha=0.8, c=\"darkgreen\", edgecolors='none', s=50, label=\"II\")\n",
    "ax.scatter(fourdatasets.x3, fourdatasets.y3, \n",
    "           alpha=0.8, c=\"blue\", edgecolors='none', s=50, label=\"III\")\n",
    "ax.scatter(fourdatasets.x4, fourdatasets.y4, \n",
    "           alpha=0.8, c=\"purple\", edgecolors='none', s=50, label=\"IV\")\n",
    "\n",
    " \n",
    "plt.title('Four datasets')     # set title for the figure\n",
    "plt.legend(loc=2)                    # specify the location of the legend \n",
    "plt.show()"
   ]
  },
  {
   "cell_type": "markdown",
   "metadata": {
    "slideshow": {
     "slide_type": "slide"
    }
   },
   "source": [
    "## Multiple plots (side-by-side)"
   ]
  },
  {
   "cell_type": "code",
   "execution_count": 23,
   "metadata": {
    "scrolled": true,
    "slideshow": {
     "slide_type": "fragment"
    }
   },
   "outputs": [
    {
     "data": {
      "image/png": "[encoded data removed]",
      "text/plain": [
       "<Figure size 432x288 with 4 Axes>"
      ]
     },
     "metadata": {
      "needs_background": "light"
     },
     "output_type": "display_data"
    }
   ],
   "source": [
    "fig = plt.figure()  ## Try changing the properties of the figure: figsize=(w, h)\n",
    "\n",
    "fig.suptitle(\"Four datasets\", fontsize=16)\n",
    "fig.subplots_adjust(hspace=0.6, wspace=0.3)\n",
    "\n",
    "ax1 = fig.add_subplot(2, 2, 1)       \n",
    "ax1.scatter(fourdatasets.x1, fourdatasets.y1, \n",
    "           alpha=0.8, c=\"orange\", edgecolors='none', s=50)\n",
    "ax1.set_xlabel(\"x\")\n",
    "ax1.set_ylabel(\"y\")\n",
    "ax1.set_title(\"I\")\n",
    "\n",
    "ax2 = fig.add_subplot(2, 2, 2)\n",
    "ax2.scatter(fourdatasets.x2, fourdatasets.y2, \n",
    "           alpha=0.8, c=\"darkgreen\", edgecolors='none', s=50)\n",
    "ax2.set_xlabel(\"x\")\n",
    "ax2.set_ylabel(\"y\")\n",
    "ax2.set_title(\"II\")\n",
    "\n",
    "ax3 = fig.add_subplot(2, 2, 3)\n",
    "ax3.scatter(fourdatasets.x3, fourdatasets.y3, \n",
    "           alpha=0.8, c=\"blue\", edgecolors='none', s=50)\n",
    "ax3.set_xlabel(\"x\")\n",
    "ax3.set_ylabel(\"y\")\n",
    "ax3.set_title(\"III\")\n",
    "\n",
    "ax4 = fig.add_subplot(2, 2, 4)\n",
    "ax4.scatter(fourdatasets.x4, fourdatasets.y4, \n",
    "           alpha=0.8, c=\"purple\", edgecolors='none', s=50)\n",
    "ax4.set_xlabel(\"x\")\n",
    "ax4.set_ylabel(\"y\")\n",
    "ax4.set_title(\"IV\")\n",
    "\n",
    "plt.show()"
   ]
  },
  {
   "cell_type": "code",
   "execution_count": 24,
   "metadata": {
    "scrolled": false,
    "slideshow": {
     "slide_type": "slide"
    }
   },
   "outputs": [
    {
     "data": {
      "image/png": "[encoded data removed]",
      "text/plain": [
       "<Figure size 720x288 with 4 Axes>"
      ]
     },
     "metadata": {
      "needs_background": "light"
     },
     "output_type": "display_data"
    }
   ],
   "source": [
    "## A more concise version:\n",
    "\n",
    "fig, axs = plt.subplots(1, 4, figsize=(10, 4), sharey=True)\n",
    "\n",
    "def addScatter(x, y, setname, color, index):\n",
    "    axs[index].scatter(x,y,alpha=0.8, c=color, edgecolors='none', s=50)\n",
    "    axs[index].set_xlabel(\"x\")\n",
    "    axs[index].set_ylabel(\"y\")\n",
    "    axs[index].set_title(setname)\n",
    "\n",
    "addScatter(fourdatasets.x1, fourdatasets.y1, \"I\", \"orange\", 0)\n",
    "addScatter(fourdatasets.x2, fourdatasets.y2, \"II\", \"darkgreen\", 1)\n",
    "addScatter(fourdatasets.x3, fourdatasets.y3, \"III\", \"blue\", 2)\n",
    "addScatter(fourdatasets.x4, fourdatasets.y4, \"IV\", \"purple\", 3)"
   ]
  },
  {
   "cell_type": "markdown",
   "metadata": {
    "slideshow": {
     "slide_type": "slide"
    }
   },
   "source": [
    "## Multiple plots (juxtaposed in a grid)"
   ]
  },
  {
   "cell_type": "code",
   "execution_count": 25,
   "metadata": {
    "scrolled": true
   },
   "outputs": [
    {
     "data": {
      "image/png": "[encoded data removed]",
      "text/plain": [
       "<Figure size 432x288 with 4 Axes>"
      ]
     },
     "metadata": {
      "needs_background": "light"
     },
     "output_type": "display_data"
    }
   ],
   "source": [
    "# Multiple plots separated with shared axes\n",
    "\n",
    "fig = plt.figure()\n",
    "fig.suptitle(\"Four datasets\", fontsize=16)\n",
    "fig.subplots_adjust(hspace=0.6, wspace=0.3)       ## add space between plots\n",
    "\n",
    "ax1 = fig.add_subplot(2, 2, 1)       \n",
    "ax1.scatter(fourdatasets.x1, fourdatasets.y1, \n",
    "           alpha=0.8, c=\"orange\", edgecolors='none', s=50)\n",
    "ax1.set_xlabel(\"x\")\n",
    "ax1.set_ylabel(\"y\")\n",
    "ax1.set_title(\"I\")\n",
    "\n",
    "ax2 = fig.add_subplot(2, 2, 2, sharex = ax1, sharey = ax1)\n",
    "ax2.scatter(fourdatasets.x2, fourdatasets.y2, \n",
    "           alpha=0.8, c=\"darkgreen\", edgecolors='none', s=50)\n",
    "ax2.set_xlabel(\"x\")\n",
    "ax2.set_ylabel(\"y\")\n",
    "ax2.set_title(\"II\")\n",
    "\n",
    "ax3 = fig.add_subplot(2, 2, 3, sharex = ax1, sharey = ax1)\n",
    "ax3.scatter(fourdatasets.x3, fourdatasets.y3, \n",
    "           alpha=0.8, c=\"blue\", edgecolors='none', s=50)\n",
    "ax3.set_xlabel(\"x\")\n",
    "ax3.set_ylabel(\"y\")\n",
    "ax3.set_title(\"III\")\n",
    "\n",
    "ax4 = fig.add_subplot(2, 2, 4,  sharex = ax1, sharey = ax1)\n",
    "ax4.scatter(fourdatasets.x4, fourdatasets.y4, \n",
    "           alpha=0.8, c=\"purple\", edgecolors='none', s=50)\n",
    "ax4.set_xlabel(\"x\")\n",
    "ax4.set_ylabel(\"y\")\n",
    "ax4.set_title(\"IV\")\n",
    "\n",
    "plt.show()"
   ]
  },
  {
   "cell_type": "code",
   "execution_count": 26,
   "metadata": {},
   "outputs": [
    {
     "data": {
      "image/png": "[encoded data removed]",
      "text/plain": [
       "<Figure size 720x288 with 4 Axes>"
      ]
     },
     "metadata": {
      "needs_background": "light"
     },
     "output_type": "display_data"
    }
   ],
   "source": [
    "## Exercise: write a more concise version of the above code\n",
    "fig, axs = plt.subplots(2, 2, figsize=(10, 4))\n",
    "\n",
    "def addScatter2(x, y, setname, color, index):\n",
    "    row = index // 2\n",
    "    col = index % 2\n",
    "    ax = axs[row][col]\n",
    "    ax.scatter(x,y,alpha=0.8, c=color, edgecolors='none', s=50)\n",
    "    ax.set_xlabel(\"x\")\n",
    "    ax.set_ylabel(\"y\")\n",
    "    ax.set_title(setname)\n",
    "\n",
    "addScatter2(fourdatasets.x1, fourdatasets.y1, \"I\", \"orange\", 0)\n",
    "addScatter2(fourdatasets.x2, fourdatasets.y2, \"II\", \"darkgreen\", 1)\n",
    "addScatter2(fourdatasets.x3, fourdatasets.y3, \"III\", \"blue\", 2)\n",
    "addScatter2(fourdatasets.x4, fourdatasets.y4, \"IV\", \"purple\", 3)"
   ]
  },
  {
   "cell_type": "markdown",
   "metadata": {
    "slideshow": {
     "slide_type": "slide"
    }
   },
   "source": [
    "## Anscombe's quartet and seaborn"
   ]
  },
  {
   "cell_type": "code",
   "execution_count": 2,
   "metadata": {
    "scrolled": false,
    "slideshow": {
     "slide_type": "fragment"
    }
   },
   "outputs": [
    {
     "data": {
      "text/plain": [
       "<seaborn.axisgrid.FacetGrid at 0x20049b03588>"
      ]
     },
     "execution_count": 2,
     "metadata": {},
     "output_type": "execute_result"
    },
    {
     "data": {
      "image/png": "[encoded data removed]",
      "text/plain": [
       "<Figure size 432x432 with 4 Axes>"
      ]
     },
     "metadata": {},
     "output_type": "display_data"
    }
   ],
   "source": [
    "import seaborn as sns\n",
    "sns.set(style=\"ticks\")\n",
    "\n",
    "# Load the example dataset for Anscombe's quartet\n",
    "df = sns.load_dataset(\"anscombe\")\n",
    "\n",
    "# Show the results of a linear regression within each dataset\n",
    "sns.lmplot(x=\"x\", y=\"y\", col=\"dataset\", hue=\"dataset\", data=df,\n",
    "           col_wrap=2, ci=None, palette=\"muted\", height=3,\n",
    "           scatter_kws={\"s\": 50, \"alpha\": 1})"
   ]
  },
  {
   "cell_type": "markdown",
   "metadata": {
    "slideshow": {
     "slide_type": "slide"
    }
   },
   "source": [
    "## Datasaurus dozen\n",
    "\n",
    "<img src=\"img/datasaurus.png\" width=600></img>"
   ]
  },
  {
   "cell_type": "markdown",
   "metadata": {
    "slideshow": {
     "slide_type": "slide"
    }
   },
   "source": [
    "## Homework\n",
    "\n",
    "The datasaurus dozen dataset can be found [here](https://www.autodeskresearch.com/sites/default/files/The%20Datasaurus%20Dozen.zip)\n",
    "\n",
    "* Create a summary statistic table with the different dataset properties\n",
    "* Visualize the different datasets as a scatterplot"
   ]
  },
  {
   "cell_type": "markdown",
   "metadata": {
    "slideshow": {
     "slide_type": "slide"
    }
   },
   "source": [
    "## Ordinal data"
   ]
  },
  {
   "cell_type": "code",
   "execution_count": 28,
   "metadata": {
    "scrolled": true,
    "slideshow": {
     "slide_type": "fragment"
    }
   },
   "outputs": [
    {
     "data": {
      "text/html": [
       "<div>\n",
       "<style scoped>\n",
       "    .dataframe tbody tr th:only-of-type {\n",
       "        vertical-align: middle;\n",
       "    }\n",
       "\n",
       "    .dataframe tbody tr th {\n",
       "        vertical-align: top;\n",
       "    }\n",
       "\n",
       "    .dataframe thead th {\n",
       "        text-align: right;\n",
       "    }\n",
       "</style>\n",
       "<table border=\"1\" class=\"dataframe\">\n",
       "  <thead>\n",
       "    <tr style=\"text-align: right;\">\n",
       "      <th></th>\n",
       "      <th>PassengerId</th>\n",
       "      <th>Survived</th>\n",
       "      <th>Pclass</th>\n",
       "      <th>Name</th>\n",
       "      <th>Sex</th>\n",
       "      <th>Age</th>\n",
       "      <th>SibSp</th>\n",
       "      <th>Parch</th>\n",
       "      <th>Ticket</th>\n",
       "      <th>Fare</th>\n",
       "      <th>Cabin</th>\n",
       "      <th>Embarked</th>\n",
       "    </tr>\n",
       "  </thead>\n",
       "  <tbody>\n",
       "    <tr>\n",
       "      <th>0</th>\n",
       "      <td>1</td>\n",
       "      <td>0</td>\n",
       "      <td>3</td>\n",
       "      <td>Braund, Mr. Owen Harris</td>\n",
       "      <td>male</td>\n",
       "      <td>22.0</td>\n",
       "      <td>1</td>\n",
       "      <td>0</td>\n",
       "      <td>A/5 21171</td>\n",
       "      <td>7.2</td>\n",
       "      <td>NaN</td>\n",
       "      <td>S</td>\n",
       "    </tr>\n",
       "    <tr>\n",
       "      <th>1</th>\n",
       "      <td>2</td>\n",
       "      <td>1</td>\n",
       "      <td>1</td>\n",
       "      <td>Cumings, Mrs. John Bradley (Florence Briggs Th...</td>\n",
       "      <td>female</td>\n",
       "      <td>38.0</td>\n",
       "      <td>1</td>\n",
       "      <td>0</td>\n",
       "      <td>PC 17599</td>\n",
       "      <td>71.3</td>\n",
       "      <td>C85</td>\n",
       "      <td>C</td>\n",
       "    </tr>\n",
       "    <tr>\n",
       "      <th>2</th>\n",
       "      <td>3</td>\n",
       "      <td>1</td>\n",
       "      <td>3</td>\n",
       "      <td>Heikkinen, Miss. Laina</td>\n",
       "      <td>female</td>\n",
       "      <td>26.0</td>\n",
       "      <td>0</td>\n",
       "      <td>0</td>\n",
       "      <td>STON/O2. 3101282</td>\n",
       "      <td>7.9</td>\n",
       "      <td>NaN</td>\n",
       "      <td>S</td>\n",
       "    </tr>\n",
       "    <tr>\n",
       "      <th>3</th>\n",
       "      <td>4</td>\n",
       "      <td>1</td>\n",
       "      <td>1</td>\n",
       "      <td>Futrelle, Mrs. Jacques Heath (Lily May Peel)</td>\n",
       "      <td>female</td>\n",
       "      <td>35.0</td>\n",
       "      <td>1</td>\n",
       "      <td>0</td>\n",
       "      <td>113803</td>\n",
       "      <td>53.1</td>\n",
       "      <td>C123</td>\n",
       "      <td>S</td>\n",
       "    </tr>\n",
       "    <tr>\n",
       "      <th>4</th>\n",
       "      <td>5</td>\n",
       "      <td>0</td>\n",
       "      <td>3</td>\n",
       "      <td>Allen, Mr. William Henry</td>\n",
       "      <td>male</td>\n",
       "      <td>35.0</td>\n",
       "      <td>0</td>\n",
       "      <td>0</td>\n",
       "      <td>373450</td>\n",
       "      <td>8.1</td>\n",
       "      <td>NaN</td>\n",
       "      <td>S</td>\n",
       "    </tr>\n",
       "  </tbody>\n",
       "</table>\n",
       "</div>"
      ],
      "text/plain": [
       "   PassengerId  Survived  Pclass  \\\n",
       "0            1         0       3   \n",
       "1            2         1       1   \n",
       "2            3         1       3   \n",
       "3            4         1       1   \n",
       "4            5         0       3   \n",
       "\n",
       "                                                Name     Sex   Age  SibSp  \\\n",
       "0                            Braund, Mr. Owen Harris    male  22.0      1   \n",
       "1  Cumings, Mrs. John Bradley (Florence Briggs Th...  female  38.0      1   \n",
       "2                             Heikkinen, Miss. Laina  female  26.0      0   \n",
       "3       Futrelle, Mrs. Jacques Heath (Lily May Peel)  female  35.0      1   \n",
       "4                           Allen, Mr. William Henry    male  35.0      0   \n",
       "\n",
       "   Parch            Ticket  Fare Cabin Embarked  \n",
       "0      0         A/5 21171   7.2   NaN        S  \n",
       "1      0          PC 17599  71.3   C85        C  \n",
       "2      0  STON/O2. 3101282   7.9   NaN        S  \n",
       "3      0            113803  53.1  C123        S  \n",
       "4      0            373450   8.1   NaN        S  "
      ]
     },
     "execution_count": 28,
     "metadata": {},
     "output_type": "execute_result"
    }
   ],
   "source": [
    "titanic = pd.read_csv(\"data/titanic.csv\")\n",
    "titanic.head()"
   ]
  },
  {
   "cell_type": "markdown",
   "metadata": {
    "slideshow": {
     "slide_type": "fragment"
    }
   },
   "source": [
    "Note:\n",
    "* Embarked: C = Cherbourg, Q = Queenstown, S = Southampton\n",
    "* Pclass: 1 = Upper, 2 = Middle, 3 = Lower\n",
    "* Survived: 0 = No, 1 = Yes\n",
    "* SibSup: # of siblings / spouses aboard the Titanic\n",
    "* Parch: # of parents / children aboard the Titanic "
   ]
  },
  {
   "cell_type": "markdown",
   "metadata": {
    "slideshow": {
     "slide_type": "slide"
    }
   },
   "source": [
    "## Question: What is the age distribution per class?"
   ]
  },
  {
   "cell_type": "code",
   "execution_count": 29,
   "metadata": {
    "scrolled": true,
    "slideshow": {
     "slide_type": "fragment"
    }
   },
   "outputs": [
    {
     "data": {
      "text/plain": [
       "<Figure size 432x288 with 0 Axes>"
      ]
     },
     "metadata": {},
     "output_type": "display_data"
    },
    {
     "data": {
      "image/png": "[encoded data removed]",
      "text/plain": [
       "<Figure size 360x360 with 3 Axes>"
      ]
     },
     "metadata": {},
     "output_type": "display_data"
    }
   ],
   "source": [
    "fig = plt.figure()\n",
    "\n",
    "upper = titanic.loc[titanic['Pclass'] == 1]\n",
    "middle = titanic.loc[titanic['Pclass'] == 2]\n",
    "lower = titanic.loc[titanic['Pclass'] == 3]\n",
    "\n",
    "colors=[\"#7aa0c4\",\"#ca82e1\" ,\"#8bcd50\"]\n",
    "\n",
    "fig, axs = plt.subplots(3, 1, figsize=(5, 5), sharey=True, sharex=True)\n",
    "\n",
    "axs[0].hist(x=upper['Age'].dropna(), alpha=0.8, color=colors[0], label=\"Upper\")\n",
    "axs[1].hist(x=middle['Age'].dropna(), alpha=0.8, color=colors[1], label=\"Middle\")\n",
    "axs[2].hist(x=lower['Age'].dropna(), alpha=0.8,  color=colors[2], label=\"Lower\")\n",
    "\n",
    "fig.legend(loc=7)\n",
    "plt.show()"
   ]
  },
  {
   "cell_type": "code",
   "execution_count": 30,
   "metadata": {
    "scrolled": true,
    "slideshow": {
     "slide_type": "slide"
    }
   },
   "outputs": [
    {
     "data": {
      "image/png": "[encoded data removed]",
      "text/plain": [
       "<Figure size 432x288 with 1 Axes>"
      ]
     },
     "metadata": {},
     "output_type": "display_data"
    }
   ],
   "source": [
    "import seaborn as sns\n",
    "sns.set(style=\"whitegrid\")\n",
    "\n",
    "sns.stripplot(x=\"Pclass\", y=\"Age\", data=titanic, jitter=True)\n",
    "ax.set_xlabel(\"Class\")\n",
    "ax.set_ylabel(\"Age\")\n",
    "plt.show()"
   ]
  },
  {
   "cell_type": "code",
   "execution_count": 1,
   "metadata": {
    "scrolled": true,
    "slideshow": {
     "slide_type": "slide"
    }
   },
   "outputs": [
    {
     "ename": "NameError",
     "evalue": "name 'sns' is not defined",
     "output_type": "error",
     "traceback": [
      "\u001b[1;31m---------------------------------------------------------------------------\u001b[0m",
      "\u001b[1;31mNameError\u001b[0m                                 Traceback (most recent call last)",
      "\u001b[1;32m<ipython-input-1-596a8ff2318d>\u001b[0m in \u001b[0;36m<module>\u001b[1;34m\u001b[0m\n\u001b[1;32m----> 1\u001b[1;33m ax = sns.boxplot(x=\"Pclass\", y=\"Age\", hue=\"Sex\",\n\u001b[0m\u001b[0;32m      2\u001b[0m                  data=titanic, palette=\"Set3\")\n",
      "\u001b[1;31mNameError\u001b[0m: name 'sns' is not defined"
     ]
    }
   ],
   "source": [
    "ax = sns.boxplot(x=\"Pclass\", y=\"Age\", hue=\"Sex\",\n",
    "                 data=titanic, palette=\"Set3\")"
   ]
  },
  {
   "cell_type": "code",
   "execution_count": 31,
   "metadata": {
    "scrolled": true,
    "slideshow": {
     "slide_type": "slide"
    }
   },
   "outputs": [
    {
     "data": {
      "image/png": "[encoded data removed]",
      "text/plain": [
       "<Figure size 432x288 with 1 Axes>"
      ]
     },
     "metadata": {},
     "output_type": "display_data"
    }
   ],
   "source": [
    "col = 'Age'\n",
    "numdata = titanic[col]\n",
    "\n",
    "fig = plt.figure()\n",
    "ax = numdata.hist(bins=15, color='lightgray', alpha=0.8)\n",
    "ax.set(xlabel=col, ylabel='Count')\n",
    "\n",
    "ax.axvline(numdata.mean(), \n",
    "            linewidth=1, color='red', linestyle='--', label = \"mean\") \n",
    "ax.axvline(numdata.median(), \n",
    "            linewidth=1, color='green', linestyle='--', label = \"median\")\n",
    "ax.axvline(stats.mode(numdata).mode[0], \n",
    "            linewidth=1, color='blue', linestyle='--', label = \"mode\")\n",
    "plt.legend(loc='upper left')\n",
    "\n",
    "plt.show()"
   ]
  },
  {
   "cell_type": "markdown",
   "metadata": {
    "slideshow": {
     "slide_type": "fragment"
    }
   },
   "source": [
    "### Exercise: Change the value of `col` to `Pclass` and `Survived` and observe the distributions and statistics"
   ]
  },
  {
   "cell_type": "markdown",
   "metadata": {
    "slideshow": {
     "slide_type": "slide"
    }
   },
   "source": [
    "## Categorical data\n",
    "\n",
    "#### Question: what is the distribution of passengers by gender?"
   ]
  },
  {
   "cell_type": "code",
   "execution_count": 32,
   "metadata": {
    "scrolled": false,
    "slideshow": {
     "slide_type": "fragment"
    }
   },
   "outputs": [
    {
     "data": {
      "image/png": "[encoded data removed]",
      "text/plain": [
       "<Figure size 648x216 with 3 Axes>"
      ]
     },
     "metadata": {},
     "output_type": "display_data"
    }
   ],
   "source": [
    "names = titanic['Sex'].unique()\n",
    "values = titanic['Sex'].groupby(titanic['Sex']).count()\n",
    "\n",
    "fig, axs = plt.subplots(1, 3, figsize=(9, 3), sharey=True)\n",
    "axs[0].bar(names, values)\n",
    "axs[1].scatter(names, values)\n",
    "axs[2].plot(names, values)\n",
    "fig.suptitle('Categorical Plotting')\n",
    "plt.show()"
   ]
  },
  {
   "cell_type": "markdown",
   "metadata": {
    "slideshow": {
     "slide_type": "fragment"
    }
   },
   "source": [
    "### Exercise: Are these visualizations appropriate?\n"
   ]
  },
  {
   "cell_type": "code",
   "execution_count": 33,
   "metadata": {
    "scrolled": true,
    "slideshow": {
     "slide_type": "slide"
    }
   },
   "outputs": [
    {
     "data": {
      "image/png": "[encoded data removed]",
      "text/plain": [
       "<Figure size 648x216 with 3 Axes>"
      ]
     },
     "metadata": {},
     "output_type": "display_data"
    }
   ],
   "source": [
    "names = titanic['Embarked'].dropna().unique()\n",
    "values = titanic['Embarked'].dropna().groupby(titanic['Embarked']).count()\n",
    "\n",
    "fig, axs = plt.subplots(1, 3, figsize=(9, 3), sharey=True)\n",
    "axs[0].bar(names, values)\n",
    "axs[1].scatter(names, values)\n",
    "axs[2].plot(names, values)\n",
    "fig.suptitle('Categorical Plotting')\n",
    "plt.show()"
   ]
  },
  {
   "cell_type": "markdown",
   "metadata": {
    "slideshow": {
     "slide_type": "slide"
    }
   },
   "source": [
    "## Categorical bar plot\n",
    "\n",
    "#### Question: What is the survival probability by class and gender?\n",
    "\n"
   ]
  },
  {
   "cell_type": "code",
   "execution_count": 34,
   "metadata": {
    "scrolled": false,
    "slideshow": {
     "slide_type": "fragment"
    }
   },
   "outputs": [
    {
     "name": "stderr",
     "output_type": "stream",
     "text": [
      "C:\\Users\\lihd1\\Anaconda3\\lib\\site-packages\\scipy\\stats\\stats.py:1713: FutureWarning: Using a non-tuple sequence for multidimensional indexing is deprecated; use `arr[tuple(seq)]` instead of `arr[seq]`. In the future this will be interpreted as an array index, `arr[np.array(seq)]`, which will result either in an error or a different result.\n",
      "  return np.add.reduce(sorted[indexer] * weights, axis=axis) / sumval\n"
     ]
    },
    {
     "data": {
      "text/plain": [
       "<seaborn.axisgrid.FacetGrid at 0x1fff3c550b8>"
      ]
     },
     "execution_count": 34,
     "metadata": {},
     "output_type": "execute_result"
    },
    {
     "data": {
      "image/png": "[encoded data removed]",
      "text/plain": [
       "<Figure size 432.85x360 with 1 Axes>"
      ]
     },
     "metadata": {},
     "output_type": "display_data"
    }
   ],
   "source": [
    "ax = sns.catplot(x=\"Pclass\", y=\"Survived\", hue=\"Sex\",         # Try replacing hue by col\n",
    "                data=titanic,\n",
    "                kind=\"bar\", palette=\"muted\")\n",
    "ax.set_ylabels(\"survival probability\")"
   ]
  },
  {
   "cell_type": "markdown",
   "metadata": {
    "slideshow": {
     "slide_type": "slide"
    }
   },
   "source": [
    "## Multiple histogram with seaborn\n",
    "\n",
    "#### Question: how many passengers were in the titanic, per gender and per class?"
   ]
  },
  {
   "cell_type": "code",
   "execution_count": 35,
   "metadata": {
    "slideshow": {
     "slide_type": "fragment"
    }
   },
   "outputs": [
    {
     "data": {
      "image/png": "[encoded data removed]",
      "text/plain": [
       "<Figure size 432x288 with 1 Axes>"
      ]
     },
     "metadata": {},
     "output_type": "display_data"
    }
   ],
   "source": [
    "ax = sns.countplot(x=\"Sex\", hue=\"Pclass\", data=titanic)"
   ]
  }
 ],
 "metadata": {
  "celltoolbar": "Slideshow",
  "kernelspec": {
   "display_name": "Python 3",
   "language": "python",
   "name": "python3"
  },
  "language_info": {
   "codemirror_mode": {
    "name": "ipython",
    "version": 3
   },
   "file_extension": ".py",
   "mimetype": "text/x-python",
   "name": "python",
   "nbconvert_exporter": "python",
   "pygments_lexer": "ipython3",
   "version": "3.6.7"
  }
 },
 "nbformat": 4,
 "nbformat_minor": 2
}
