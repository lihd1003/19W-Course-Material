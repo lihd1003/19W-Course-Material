{
 "cells": [
  {
   "cell_type": "markdown",
   "metadata": {},
   "source": [
    "# Gradient for GLoVE Training\n",
    "\n",
    "Given loss \n",
    "$$\\mathcal L(W,\\beta) = \\sum_{i=1}^V\\sum_{j=1}^V (w_i^Tw_j + b_i + b_j - \\log X_{ij})$$\n",
    "where $W$ is $V\\times d$ matrix, where each row is $w_i^T$ and $\\beta$ is $V\\times 1$ vector of $b_1,...,b_V$, $X$ is the $V\\times V$ co-occurrence matrix. \n",
    "\n",
    "\\begin{align*}\n",
    "\\frac{\\partial \\mathcal L}{\\partial w_{vd}} &= \\frac{\\partial}{\\partial w_{vd}}\\sum_{i=1}^V\\sum_{j=1}^V (\\sum_{k=1}^d w_{ik}w_{jk} + b_i + b_j - \\log X_{ij})^2\\\\\n",
    "&= \\sum_{j=1}^V 2(w_v^Tw_j + b_v + b_j - \\log X_{ij})w_{jd} + \\sum_{i=1}^V 2(w_i^Tw_v + b_i + b_v - \\log X_{ij})w_{id}\\\\\n",
    "&= 4\\sum_{i=1}^V (w_v^Tw_i + b_v + b_j - \\log X_{ij})w_{id}\\\\\n",
    "\\frac{\\partial \\mathcal L}{\\partial w_v} &= 4\\sum_{i=1}^V (w_v^Tw_i + b_v + b_j - \\log X_{ij})w_{i}\n",
    "\\end{align*}"
   ]
  },
  {
   "cell_type": "markdown",
   "metadata": {},
   "source": [
    "## Gradient of Cross Entropy Softmax Loss\n",
    "\n",
    "Given cross entropy loss $\\mathcal L(t^{(i)},y^{(i)}) = -\\sum_{j=1}^V t_j^{(i)}\\log y_j^{(i)}$ where $t^{(i)}$ is a one hot vector and $y^{(i)}$ is one vector that sum to 1.   \n",
    "Then, each entry of $y^{(i)}, y_j = softmax(z_j) = \\frac{\\exp(z_j)}{\\sum_{k=1}^V \\exp(z_k)}$.  \n",
    "\n",
    "\\begin{align*}\n",
    "\\frac{\\partial y_i}{\\partial z_j} &= \\frac{\\partial}{\\partial_{z_j}}e^{z_i}(\\sum^V e^{z_k})^{-1} = -e^{z_i}(\\sum^V e^{z_k})^{-2}e^{z_j}=-y_iy_j\\\\\n",
    "\\frac{\\partial y_j}{\\partial z_j} &= \\frac{\\partial}{\\partial_{z_j}}e^{z_j}(\\sum^V e^{z_k})^{-1}\\\\\n",
    "&= \\frac{e^{z_j}(\\sum_k e^{z_k})^{-1} - (e^{z_i})^2}{(\\sum_k e^{z_k})^2}\\\\\n",
    "&= y_j - y_j^2\\\\\n",
    "\\frac{\\partial \\mathcal L}{\\partial z_j} &=  -\\bigg[\\sum_{i\\neq j}\\frac{t_i}{y_i}(-y_iy_j) + \\frac{t_j}{y_j}(y_j - y_j^2)\\bigg]\\\\\n",
    "&= \\sum_{i\\neq j}t_i y_j - t_j + t_jy_j\\\\\n",
    "&= y_j\\sum_{i=1}^V t_j - t_j\\\\\n",
    "&= y_j - t_j\n",
    "\\end{align*}"
   ]
  }
 ],
 "metadata": {
  "hide_input": false,
  "kernelspec": {
   "display_name": "Python 3",
   "language": "python",
   "name": "python3"
  },
  "language_info": {
   "codemirror_mode": {
    "name": "ipython",
    "version": 3
   },
   "file_extension": ".py",
   "mimetype": "text/x-python",
   "name": "python",
   "nbconvert_exporter": "python",
   "pygments_lexer": "ipython3",
   "version": "3.7.4"
  }
 },
 "nbformat": 4,
 "nbformat_minor": 2
}
