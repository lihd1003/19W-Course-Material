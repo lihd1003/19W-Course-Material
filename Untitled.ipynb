{
 "cells": [
  {
   "cell_type": "code",
   "execution_count": 10,
   "metadata": {},
   "outputs": [],
   "source": [
    "import subprocess, os, shutil\n",
    "\n",
    "course = \"csc418\"\n",
    "directory = os.path.join(\"./notebook\", course)\n",
    "assets_dir = os.path.join(directory, \"assets\")\n",
    "output_dir = os.path.join(\"./docs/\", f\"_{course}\")\n",
    "os.makedirs(output_dir, exist_ok=True)\n",
    "\n",
    "if os.path.isdir(assets_dir) and not os.path.isdir(os.path.join(output_dir, \"assets\")):\n",
    "    shutil.copytree(assets_dir, os.path.join(output_dir, \"assets\"))\n",
    "    \n",
    "files = [x for x in os.listdir(directory) if x.endswith(\".ipynb\")]\n",
    "for file in files:\n",
    "    input_path = os.path.join(directory, file)\n",
    "    output_name = file.replace(\".ipynb\", \".md\")\n",
    "    output_path = os.path.join(output_dir, output_name)\n",
    "    bash_command = [\n",
    "        'jupyter', 'nbconvert',\n",
    "        f'--output-dir={output_dir}',\n",
    "        '--template=./base.j2',\n",
    "        '--to=html',\n",
    "        '--config=configs.py',\n",
    "        input_path\n",
    "    ]\n",
    "    subprocess.run(bash_command)"
   ]
  }
 ],
 "metadata": {
  "hide_input": false,
  "kernelspec": {
   "display_name": "Python 3",
   "language": "python",
   "name": "python3"
  },
  "language_info": {
   "codemirror_mode": {
    "name": "ipython",
    "version": 3
   },
   "file_extension": ".py",
   "mimetype": "text/x-python",
   "name": "python",
   "nbconvert_exporter": "python",
   "pygments_lexer": "ipython3",
   "version": "3.7.6"
  }
 },
 "nbformat": 4,
 "nbformat_minor": 4
}
