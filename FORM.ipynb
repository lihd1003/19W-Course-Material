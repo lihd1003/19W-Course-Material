{
 "cells": [
  {
   "cell_type": "code",
   "execution_count": 33,
   "metadata": {},
   "outputs": [],
   "source": [
    "import os\n",
    "import re\n",
    "import json"
   ]
  },
  {
   "cell_type": "code",
   "execution_count": null,
   "metadata": {},
   "outputs": [],
   "source": [
    "for i in os.walk(\"./\"):\n",
    "    for f in i[2]:\n",
    "        if re.match(\".+.ipynb\", f):\n",
    "            fname = i[0] + \"/\"+f\n",
    "            if \"checkpoint\" in fname or \"FORM\" in fname:\n",
    "                continue\n",
    "            else:\n",
    "                ! jupyter nbconvert --to=html \"$fname\""
   ]
  },
  {
   "cell_type": "code",
   "execution_count": 35,
   "metadata": {},
   "outputs": [],
   "source": [
    "files = []\n",
    "for i in os.walk(\"./\"):\n",
    "    for f in i[2]:\n",
    "        if re.match(\".+(.html|.pdf)\", f):\n",
    "            fname = i[0] + \"/\"+f\n",
    "            if any(k in fname for k in [\"checkpoint\", \"FORM\", \"CSC309\", \"index.html\"]):\n",
    "                continue\n",
    "            else:\n",
    "                files.append(fname)\n",
    "\n",
    "names = []\n",
    "parents = []\n",
    "types = []\n",
    "for file in files:\n",
    "    document = file.split(\"/\")\n",
    "    for i in range(1, len(document)):\n",
    "        names.append(document[i])\n",
    "        parents.append(document[i-1])\n",
    "        if i != len(document) - 1:\n",
    "            types.append(\"folder\")\n",
    "        elif \".html\" in document[i]:\n",
    "            types.append(\"note\")\n",
    "        elif \".pdf\" in document[i][-6:]:\n",
    "            types.append(\"book\")\n",
    "name_set = []\n",
    "folders = []\n",
    "for i in range(len(names)):\n",
    "    if names[i] not in name_set:\n",
    "        name_set.append(names[i])\n",
    "        folders.append({\n",
    "            'name': names[i],\n",
    "            'parent': parents[i],\n",
    "            'type': types[i]\n",
    "        })\n",
    "with open(\"./table_of_content.json\", \"w\") as f:\n",
    "    json.dump(folders, f, indent=2)"
   ]
  }
 ],
 "metadata": {
  "hide_input": false,
  "kernelspec": {
   "display_name": "Python 3",
   "language": "python",
   "name": "python3"
  },
  "language_info": {
   "codemirror_mode": {
    "name": "ipython",
    "version": 3
   },
   "file_extension": ".py",
   "mimetype": "text/x-python",
   "name": "python",
   "nbconvert_exporter": "python",
   "pygments_lexer": "ipython3",
   "version": "3.7.3"
  }
 },
 "nbformat": 4,
 "nbformat_minor": 2
}
