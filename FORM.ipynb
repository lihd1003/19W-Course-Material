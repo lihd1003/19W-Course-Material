{
 "cells": [
  {
   "cell_type": "code",
   "execution_count": null,
   "metadata": {},
   "outputs": [
    {
     "name": "stdout",
     "output_type": "stream",
     "text": [
      "[NbConvertApp] Converting notebook ./CSC373/notes/Greedy Algorithm.ipynb to html\n",
      "[NbConvertApp] Writing 292190 bytes to ./CSC373/notes/Greedy Algorithm.html\n",
      "[NbConvertApp] Converting notebook ./CSC373/notes/Linear Programming.ipynb to html\n",
      "[NbConvertApp] Writing 278281 bytes to ./CSC373/notes/Linear Programming.html\n",
      "[NbConvertApp] Converting notebook ./CSC373/notes/Dynamic Programming.ipynb to html\n",
      "[NbConvertApp] Writing 306736 bytes to ./CSC373/notes/Dynamic Programming.html\n",
      "[NbConvertApp] Converting notebook ./CSC373/notes/Optimization Approxiamation.ipynb to html\n",
      "[NbConvertApp] Writing 282444 bytes to ./CSC373/notes/Optimization Approxiamation.html\n",
      "[NbConvertApp] Converting notebook ./CSC373/notes/P_NP problem.ipynb to html\n",
      "[NbConvertApp] Writing 283313 bytes to ./CSC373/notes/P_NP problem.html\n",
      "[NbConvertApp] Converting notebook ./CSC373/notes/NP-complete Tut.ipynb to html\n",
      "[NbConvertApp] Writing 276555 bytes to ./CSC373/notes/NP-complete Tut.html\n",
      "[NbConvertApp] Converting notebook ./CSC373/notes/Self Reducibility.ipynb to html\n",
      "[NbConvertApp] Writing 280628 bytes to ./CSC373/notes/Self Reducibility.html\n",
      "[NbConvertApp] Converting notebook ./CSC373/notes/Linear Programming Tut.ipynb to html\n",
      "[NbConvertApp] Writing 276124 bytes to ./CSC373/notes/Linear Programming Tut.html\n",
      "[NbConvertApp] Converting notebook ./CSC373/notes/P_NP problem Tut.ipynb to html\n",
      "[NbConvertApp] Writing 274863 bytes to ./CSC373/notes/P_NP problem Tut.html\n",
      "[NbConvertApp] Converting notebook ./CSC373/notes/Greedy Algorithm Tut.ipynb to html\n",
      "[NbConvertApp] Writing 279457 bytes to ./CSC373/notes/Greedy Algorithm Tut.html\n",
      "[NbConvertApp] Converting notebook ./CSC373/notes/Network Flow.ipynb to html\n",
      "[NbConvertApp] Writing 283118 bytes to ./CSC373/notes/Network Flow.html\n",
      "[NbConvertApp] Converting notebook ./CSC373/notes/Dynamic Programming Tut.ipynb to html\n",
      "[NbConvertApp] Writing 280491 bytes to ./CSC373/notes/Dynamic Programming Tut.html\n",
      "[NbConvertApp] Converting notebook ./CSC373/notes/Network Flow Tut.ipynb to html\n",
      "[NbConvertApp] Writing 273192 bytes to ./CSC373/notes/Network Flow Tut.html\n",
      "[NbConvertApp] Converting notebook ./CSC373/notes/NP-complete.ipynb to html\n",
      "[NbConvertApp] Writing 281450 bytes to ./CSC373/notes/NP-complete.html\n",
      "[NbConvertApp] Converting notebook ./CSC309/html&css/HTML&CSS.ipynb to html\n",
      "[NbConvertApp] Writing 274139 bytes to ./CSC309/html&css/HTML&CSS.html\n",
      "[NbConvertApp] Converting notebook ./CSC309/javascript/JavaScript.ipynb to html\n",
      "[NbConvertApp] Writing 284551 bytes to ./CSC309/javascript/JavaScript.html\n",
      "[NbConvertApp] Converting notebook ./CSC309/DOM/DOM.ipynb to html\n",
      "[NbConvertApp] Writing 275538 bytes to ./CSC309/DOM/DOM.html\n"
     ]
    }
   ],
   "source": [
    "import os\n",
    "import re\n",
    "for i in os.walk(\"./\"):\n",
    "    for f in i[2]:\n",
    "        if re.match(\".+.ipynb\", f):\n",
    "            fname = i[0] + \"/\"+f\n",
    "            if \"checkpoint\" in fname or \"FORM\" in fname:\n",
    "                continue\n",
    "            else:\n",
    "                ! jupyter nbconvert --to=html \"$fname\""
   ]
  },
  {
   "cell_type": "code",
   "execution_count": null,
   "metadata": {},
   "outputs": [],
   "source": []
  },
  {
   "cell_type": "code",
   "execution_count": null,
   "metadata": {},
   "outputs": [],
   "source": []
  }
 ],
 "metadata": {
  "hide_input": false,
  "kernelspec": {
   "display_name": "Python 3",
   "language": "python",
   "name": "python3"
  },
  "language_info": {
   "codemirror_mode": {
    "name": "ipython",
    "version": 3
   },
   "file_extension": ".py",
   "mimetype": "text/x-python",
   "name": "python",
   "nbconvert_exporter": "python",
   "pygments_lexer": "ipython3",
   "version": "3.7.3"
  }
 },
 "nbformat": 4,
 "nbformat_minor": 2
}
