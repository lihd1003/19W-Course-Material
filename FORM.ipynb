{
 "cells": [
  {
   "cell_type": "code",
   "execution_count": 1,
   "metadata": {
    "ExecuteTime": {
     "end_time": "2019-08-02T23:05:05.067805Z",
     "start_time": "2019-08-02T23:05:05.063572Z"
    }
   },
   "outputs": [],
   "source": [
    "import os\n",
    "import re\n",
    "import json"
   ]
  },
  {
   "cell_type": "code",
   "execution_count": 4,
   "metadata": {
    "ExecuteTime": {
     "end_time": "2019-08-02T20:52:41.251423Z",
     "start_time": "2019-08-02T20:52:41.245414Z"
    },
    "code_folding": []
   },
   "outputs": [],
   "source": [
    "for i in os.walk(\"./\"):\n",
    "    for f in i[2]:\n",
    "        if re.match(\".+.ipynb\", f):\n",
    "            fname = i[0] + \"/\"+f\n",
    "            if \"checkpoint\" in fname or \"FORM\" in fname:\n",
    "                continue\n",
    "            else:\n",
    "                ! jupyter nbconvert --to=html \"$fname\""
   ]
  },
  {
   "cell_type": "code",
   "execution_count": 2,
   "metadata": {
    "ExecuteTime": {
     "end_time": "2019-08-02T23:05:06.134297Z",
     "start_time": "2019-08-02T23:05:06.049495Z"
    }
   },
   "outputs": [],
   "source": [
    "files = []\n",
    "for i in os.walk(\"./\"):\n",
    "    for f in i[2]:\n",
    "        if re.match(\".+(.html|.pdf)\", f):\n",
    "            fname = i[0] + \"/\"+f\n",
    "            if any(k in fname for k in [\"checkpoint\", \"FORM\", \"CSC309\", \"index.html\"]):\n",
    "                continue\n",
    "            else:\n",
    "                files.append(fname)\n",
    "\n",
    "tups = []\n",
    "for file in files:\n",
    "    file = file.replace(\"\\\\\", \"/\")\n",
    "    document = file.split(\"/\")\n",
    "    for i in range(1, len(document)):\n",
    "        name = document[i]\n",
    "        path = \"/\".join(document[:i])\n",
    "        if i != len(document) - 1:\n",
    "            type_ = \"folder\"\n",
    "        elif \".html\" in document[i]:\n",
    "            type_ = \"note\"\n",
    "        elif \".pdf\" in document[i]:\n",
    "            type_ = \"book\"\n",
    "        tups.append((name, path, type_))\n",
    "folders = []\n",
    "for t in set(tups):\n",
    "    folders.append({\n",
    "        'name': t[0],\n",
    "        'path': t[1],\n",
    "        'type': t[2]\n",
    "    })\n",
    "\n",
    "with open(\"./table_of_content.json\", \"w\") as f:\n",
    "    json.dump(folders, f, indent=2)\n"
   ]
  }
 ],
 "metadata": {
  "hide_input": false,
  "kernelspec": {
   "display_name": "Python 3",
   "language": "python",
   "name": "python3"
  },
  "language_info": {
   "codemirror_mode": {
    "name": "ipython",
    "version": 3
   },
   "file_extension": ".py",
   "mimetype": "text/x-python",
   "name": "python",
   "nbconvert_exporter": "python",
   "pygments_lexer": "ipython3",
   "version": "3.7.3"
  }
 },
 "nbformat": 4,
 "nbformat_minor": 2
}
