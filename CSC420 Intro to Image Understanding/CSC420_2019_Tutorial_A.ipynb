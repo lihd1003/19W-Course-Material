{
 "cells": [
  {
   "cell_type": "code",
   "execution_count": 1,
   "metadata": {
    "ExecuteTime": {
     "end_time": "2019-09-17T00:25:00.121734Z",
     "start_time": "2019-09-17T00:24:58.866993Z"
    },
    "colab": {},
    "colab_type": "code",
    "id": "Q1exTeIU3TyW"
   },
   "outputs": [],
   "source": [
    "import matplotlib.pyplot as plt\n",
    "import cv2\n",
    "import numpy as np\n",
    "plt.rcParams[\"figure.figsize\"] = (12,6)"
   ]
  },
  {
   "cell_type": "code",
   "execution_count": 2,
   "metadata": {
    "ExecuteTime": {
     "end_time": "2019-09-17T00:25:00.172577Z",
     "start_time": "2019-09-17T00:25:00.130558Z"
    },
    "colab": {},
    "colab_type": "code",
    "id": "1zdSDeAp3XbJ"
   },
   "outputs": [],
   "source": [
    "# read an image (make sure CavePainting.jpg is in the main folder in your Google Drive)\n",
    "img = cv2.imread('../assets/CavePainting.jpg') # READS IN NUMPY ARRAY"
   ]
  },
  {
   "cell_type": "code",
   "execution_count": 4,
   "metadata": {},
   "outputs": [],
   "source": [
    "img"
   ]
  },
  {
   "cell_type": "code",
   "execution_count": 3,
   "metadata": {
    "ExecuteTime": {
     "end_time": "2019-09-17T00:25:00.920443Z",
     "start_time": "2019-09-17T00:25:00.182497Z"
    },
    "colab": {},
    "colab_type": "code",
    "id": "Me4Ovfld300i"
   },
   "outputs": [
    {
     "ename": "AttributeError",
     "evalue": "'NoneType' object has no attribute 'shape'",
     "output_type": "error",
     "traceback": [
      "\u001b[0;31m---------------------------------------------------------------------------\u001b[0m",
      "\u001b[0;31mAttributeError\u001b[0m                            Traceback (most recent call last)",
      "\u001b[0;32m<ipython-input-3-ace2a6016600>\u001b[0m in \u001b[0;36m<module>\u001b[0;34m\u001b[0m\n\u001b[1;32m      1\u001b[0m \u001b[0;31m# display the image\u001b[0m\u001b[0;34m\u001b[0m\u001b[0;34m\u001b[0m\u001b[0;34m\u001b[0m\u001b[0m\n\u001b[0;32m----> 2\u001b[0;31m \u001b[0mh\u001b[0m\u001b[0;34m,\u001b[0m\u001b[0mw\u001b[0m \u001b[0;34m=\u001b[0m \u001b[0mimg\u001b[0m\u001b[0;34m.\u001b[0m\u001b[0mshape\u001b[0m\u001b[0;34m[\u001b[0m\u001b[0;34m:\u001b[0m\u001b[0;36m2\u001b[0m\u001b[0;34m]\u001b[0m\u001b[0;34m\u001b[0m\u001b[0;34m\u001b[0m\u001b[0m\n\u001b[0m\u001b[1;32m      3\u001b[0m \u001b[0mprint\u001b[0m\u001b[0;34m(\u001b[0m\u001b[0mimg\u001b[0m\u001b[0;34m.\u001b[0m\u001b[0mshape\u001b[0m\u001b[0;34m)\u001b[0m\u001b[0;34m\u001b[0m\u001b[0;34m\u001b[0m\u001b[0m\n\u001b[1;32m      4\u001b[0m \u001b[0mplt\u001b[0m\u001b[0;34m.\u001b[0m\u001b[0mimshow\u001b[0m\u001b[0;34m(\u001b[0m\u001b[0mimg\u001b[0m\u001b[0;34m,\u001b[0m\u001b[0mcmap\u001b[0m\u001b[0;34m=\u001b[0m\u001b[0;34m'gray'\u001b[0m\u001b[0;34m)\u001b[0m\u001b[0;34m\u001b[0m\u001b[0;34m\u001b[0m\u001b[0m\n\u001b[1;32m      5\u001b[0m \u001b[0mplt\u001b[0m\u001b[0;34m.\u001b[0m\u001b[0mshow\u001b[0m\u001b[0;34m(\u001b[0m\u001b[0;34m)\u001b[0m\u001b[0;34m\u001b[0m\u001b[0;34m\u001b[0m\u001b[0m\n",
      "\u001b[0;31mAttributeError\u001b[0m: 'NoneType' object has no attribute 'shape'"
     ]
    }
   ],
   "source": [
    "# display the image\n",
    "h,w = img.shape[:2]\n",
    "print(img.shape)\n",
    "plt.imshow(img,cmap='gray')\n",
    "plt.show()\n",
    "# what happened?"
   ]
  },
  {
   "cell_type": "code",
   "execution_count": null,
   "metadata": {
    "ExecuteTime": {
     "end_time": "2019-09-17T00:25:01.829019Z",
     "start_time": "2019-09-17T00:25:00.963333Z"
    },
    "colab": {},
    "colab_type": "code",
    "id": "kd4x1CrM4WGK"
   },
   "outputs": [],
   "source": [
    "# BGR <--> RGB\n",
    "img2 = cv2.cvtColor(img, cv2.COLOR_BGR2RGB)\n",
    "plt.imshow(img2);"
   ]
  },
  {
   "cell_type": "code",
   "execution_count": null,
   "metadata": {
    "ExecuteTime": {
     "end_time": "2019-09-17T00:25:02.702681Z",
     "start_time": "2019-09-17T00:25:01.835030Z"
    },
    "colab": {},
    "colab_type": "code",
    "id": "cCS5PDEaWjYB"
   },
   "outputs": [],
   "source": [
    "gray = cv2.cvtColor(img, cv2.COLOR_BGR2GRAY)\n",
    "plt.imshow(gray,cmap='gray')"
   ]
  },
  {
   "cell_type": "code",
   "execution_count": null,
   "metadata": {
    "ExecuteTime": {
     "end_time": "2019-09-17T00:25:03.237288Z",
     "start_time": "2019-09-17T00:25:02.709660Z"
    },
    "colab": {},
    "colab_type": "code",
    "id": "ET60wA6ZZcQj"
   },
   "outputs": [],
   "source": [
    "hist = cv2.calcHist([gray],[0],None,[256],[0,256])\n",
    "plt.plot(hist);"
   ]
  },
  {
   "cell_type": "code",
   "execution_count": null,
   "metadata": {
    "ExecuteTime": {
     "end_time": "2019-09-17T00:25:03.258195Z",
     "start_time": "2019-09-17T00:25:03.247225Z"
    },
    "colab": {},
    "colab_type": "code",
    "id": "qUNKOTOa4xbu"
   },
   "outputs": [],
   "source": [
    "# let's make a function\n",
    "def imshowBGR2RGB(im):\n",
    "    img = cv2.cvtColor(im, cv2.COLOR_BGR2RGB)\n",
    "    plt.imshow(img)\n",
    "    plt.axis('off')\n",
    "    return"
   ]
  },
  {
   "cell_type": "code",
   "execution_count": null,
   "metadata": {
    "ExecuteTime": {
     "end_time": "2019-09-17T00:25:03.825675Z",
     "start_time": "2019-09-17T00:25:03.270166Z"
    },
    "colab": {},
    "colab_type": "code",
    "id": "CrRtRkCQlqzF"
   },
   "outputs": [],
   "source": [
    "imshowBGR2RGB(img);"
   ]
  },
  {
   "cell_type": "code",
   "execution_count": null,
   "metadata": {
    "ExecuteTime": {
     "end_time": "2019-09-17T00:25:04.748433Z",
     "start_time": "2019-09-17T00:25:03.838772Z"
    },
    "colab": {},
    "colab_type": "code",
    "id": "ouYnuGMUmUdF"
   },
   "outputs": [],
   "source": [
    "# scaling \n",
    "rows, cols = img.shape[:2]\n",
    "res = cv2.resize(img, (2*cols, 2*rows), interpolation = cv2.INTER_CUBIC)\n",
    "imshowBGR2RGB(res)"
   ]
  },
  {
   "cell_type": "code",
   "execution_count": null,
   "metadata": {
    "ExecuteTime": {
     "end_time": "2019-09-17T00:25:05.071387Z",
     "start_time": "2019-09-17T00:25:04.754192Z"
    },
    "colab": {},
    "colab_type": "code",
    "id": "h9YeYWwbmm9U"
   },
   "outputs": [],
   "source": [
    "# scaling \n",
    "res = cv2.resize(img,(400, 150), interpolation = cv2.INTER_CUBIC)\n",
    "imshowBGR2RGB(res)"
   ]
  },
  {
   "cell_type": "code",
   "execution_count": null,
   "metadata": {
    "ExecuteTime": {
     "end_time": "2019-09-17T00:25:05.655823Z",
     "start_time": "2019-09-17T00:25:05.077451Z"
    },
    "colab": {},
    "colab_type": "code",
    "id": "UZKtwTnTnIDk"
   },
   "outputs": [],
   "source": [
    "# rotate (centre, angle, scale)\n",
    "M = cv2.getRotationMatrix2D((100, 120), -15, .7)\n",
    "dst = cv2.warpAffine(img, M, (cols,rows))\n",
    "imshowBGR2RGB(dst)"
   ]
  },
  {
   "cell_type": "code",
   "execution_count": null,
   "metadata": {
    "ExecuteTime": {
     "end_time": "2019-09-17T00:25:06.017875Z",
     "start_time": "2019-09-17T00:25:05.661040Z"
    },
    "colab": {},
    "colab_type": "code",
    "id": "Fx7nShEpoDTV"
   },
   "outputs": [],
   "source": [
    "# affine transformation\n",
    "pts1 = np.float32([[5,5],[5,50],[50,5]])\n",
    "pts2 = np.float32([[10,3],[20,30],[40,6]])\n",
    "\n",
    "M = cv2.getAffineTransform(pts1,pts2)\n",
    "\n",
    "dst = cv2.warpAffine(img,M,(cols,rows))\n",
    "\n",
    "imshowBGR2RGB(dst)"
   ]
  },
  {
   "cell_type": "code",
   "execution_count": null,
   "metadata": {
    "ExecuteTime": {
     "end_time": "2019-09-17T00:25:06.032945Z",
     "start_time": "2019-09-17T00:25:06.024920Z"
    },
    "colab": {},
    "colab_type": "code",
    "id": "kSXsttwF7a_B"
   },
   "outputs": [],
   "source": [
    "# perspective transformation\n",
    "\n",
    "# getPerspectiveTransform\n",
    "\n",
    "# how many point matches do we need?"
   ]
  },
  {
   "cell_type": "code",
   "execution_count": null,
   "metadata": {
    "ExecuteTime": {
     "end_time": "2019-09-17T00:25:06.712956Z",
     "start_time": "2019-09-17T00:25:06.040753Z"
    },
    "colab": {},
    "colab_type": "code",
    "id": "Jd7zQR-x8Dz-"
   },
   "outputs": [],
   "source": [
    "# averaging\n",
    "\n",
    "kernel = np.ones((7,7),np.float32)/49\n",
    "dst = cv2.filter2D(img,-1,kernel)\n",
    "\n",
    "imshowBGR2RGB(dst)"
   ]
  },
  {
   "cell_type": "code",
   "execution_count": null,
   "metadata": {
    "ExecuteTime": {
     "end_time": "2019-09-17T00:25:07.308407Z",
     "start_time": "2019-09-17T00:25:06.724925Z"
    },
    "colab": {},
    "colab_type": "code",
    "id": "V47bCuBU8Ye9"
   },
   "outputs": [],
   "source": [
    "# compare with the original\n",
    "imshowBGR2RGB(img)"
   ]
  },
  {
   "cell_type": "code",
   "execution_count": null,
   "metadata": {
    "ExecuteTime": {
     "end_time": "2019-09-17T00:25:08.193122Z",
     "start_time": "2019-09-17T00:25:07.314378Z"
    },
    "colab": {},
    "colab_type": "code",
    "id": "9AahIlAO8ucm"
   },
   "outputs": [],
   "source": [
    "# larger window\n",
    "kernel = np.ones((15,15),np.float32)/225\n",
    "dst = cv2.filter2D(img,-1,kernel)\n",
    "\n",
    "imshowBGR2RGB(dst)"
   ]
  },
  {
   "cell_type": "code",
   "execution_count": null,
   "metadata": {
    "ExecuteTime": {
     "end_time": "2019-09-17T00:25:08.928928Z",
     "start_time": "2019-09-17T00:25:08.199979Z"
    },
    "colab": {},
    "colab_type": "code",
    "id": "3WDnrq7lWBNS"
   },
   "outputs": [],
   "source": [
    "# Gaussian blur\n",
    "kernel = cv2.getGaussianKernel(15, 9)\n",
    "\n",
    "dst = cv2.filter2D(img,-1,kernel)\n",
    "\n",
    "imshowBGR2RGB(dst)\n",
    "\n",
    "# alternative: GaussianBlur(img,(15,15),20) "
   ]
  },
  {
   "cell_type": "code",
   "execution_count": null,
   "metadata": {
    "ExecuteTime": {
     "end_time": "2019-09-17T00:25:09.840486Z",
     "start_time": "2019-09-17T00:25:08.934880Z"
    },
    "colab": {},
    "colab_type": "code",
    "id": "miF-qIqC8yXG"
   },
   "outputs": [],
   "source": [
    "median = cv2.medianBlur(img, 7)\n",
    "imshowBGR2RGB(median)"
   ]
  },
  {
   "cell_type": "code",
   "execution_count": null,
   "metadata": {
    "ExecuteTime": {
     "end_time": "2019-09-17T00:25:11.807199Z",
     "start_time": "2019-09-17T00:25:09.848468Z"
    },
    "colab": {},
    "colab_type": "code",
    "id": "GUs4_mLG9fEg"
   },
   "outputs": [],
   "source": [
    "# spacitally and color-wise grouping => gives a cartoony feel\n",
    "blur = cv2.bilateralFilter(img,30,75,75)\n",
    "imshowBGR2RGB(blur)"
   ]
  },
  {
   "cell_type": "code",
   "execution_count": null,
   "metadata": {
    "ExecuteTime": {
     "end_time": "2019-09-17T00:25:12.359721Z",
     "start_time": "2019-09-17T00:25:11.813518Z"
    },
    "colab": {},
    "colab_type": "code",
    "id": "WjH9TECdRAnx"
   },
   "outputs": [],
   "source": [
    "# image gradients\n",
    "img = cv2.imread('../assets/window.jpg') # READS IN NUMPY ARRAY\n",
    "gray = cv2.cvtColor(img, cv2.COLOR_BGR2GRAY)\n",
    "laplacian = cv2.Laplacian(gray, cv2.CV_64F)\n",
    "#imshowBGR2RGB(laplacian)\n",
    "\n",
    "\n",
    "plt.subplot(2,1,1),plt.imshow(gray,cmap = 'gray')\n",
    "plt.title('Original'), plt.xticks([]), plt.yticks([])\n",
    "plt.subplot(2,1,2),plt.imshow(laplacian,cmap = 'gray')\n",
    "plt.title('Laplacian'), plt.xticks([]), plt.yticks([]);"
   ]
  },
  {
   "cell_type": "code",
   "execution_count": null,
   "metadata": {
    "ExecuteTime": {
     "end_time": "2019-09-17T00:25:12.729729Z",
     "start_time": "2019-09-17T00:25:12.368776Z"
    },
    "colab": {},
    "colab_type": "code",
    "id": "3DiC0D6hL_wr"
   },
   "outputs": [],
   "source": [
    "#median = cv2.medianBlur(gray, 5)\n",
    "blur = cv2.GaussianBlur(gray,(5,5),1)\n",
    "plt.imshow(blur, cmap = 'gray')\n",
    "plt.xticks([]), plt.yticks([]);\n"
   ]
  },
  {
   "cell_type": "code",
   "execution_count": null,
   "metadata": {
    "ExecuteTime": {
     "end_time": "2019-09-17T00:25:13.227470Z",
     "start_time": "2019-09-17T00:25:12.742696Z"
    },
    "colab": {},
    "colab_type": "code",
    "id": "b8NzOLJJLLhq"
   },
   "outputs": [],
   "source": [
    "# smooth first\n",
    "\n",
    "laplacian = cv2.Laplacian(blur, cv2.CV_64F)\n",
    "\n",
    "plt.subplot(2,1,1),plt.imshow(gray,cmap = 'gray')\n",
    "plt.title('Original'), plt.xticks([]), plt.yticks([])\n",
    "plt.subplot(2,1,2),plt.imshow(laplacian,cmap = 'gray')\n",
    "plt.title('Laplacian'), plt.xticks([]), plt.yticks([]);"
   ]
  },
  {
   "cell_type": "code",
   "execution_count": null,
   "metadata": {
    "ExecuteTime": {
     "end_time": "2019-09-17T00:25:13.738033Z",
     "start_time": "2019-09-17T00:25:13.236375Z"
    },
    "colab": {},
    "colab_type": "code",
    "id": "h2vBnPfhJ5Hr"
   },
   "outputs": [],
   "source": [
    "sobelx = cv2.Sobel(blur, cv2.CV_64F, 1, 0, ksize=5)\n",
    "sobely = cv2.Sobel(blur, cv2.CV_64F, 0, 1, ksize=5)\n",
    "\n",
    "plt.subplot(2,1,1),plt.imshow(sobelx,cmap = 'gray')\n",
    "plt.title('Sobel X'), plt.xticks([]), plt.yticks([])\n",
    "plt.subplot(2,1,2),plt.imshow(sobely,cmap = 'gray')\n",
    "plt.title('Sobel Y'), plt.xticks([]), plt.yticks([]);\n"
   ]
  },
  {
   "cell_type": "code",
   "execution_count": null,
   "metadata": {
    "ExecuteTime": {
     "end_time": "2019-09-17T00:25:14.603792Z",
     "start_time": "2019-09-17T00:25:13.750001Z"
    },
    "colab": {},
    "colab_type": "code",
    "id": "UxldPCO-SADg"
   },
   "outputs": [],
   "source": [
    "sobel_xy = abs(sobelx) + abs(sobely);\n",
    "plt.imshow(sobel_xy,cmap='gray');"
   ]
  },
  {
   "cell_type": "code",
   "execution_count": null,
   "metadata": {
    "ExecuteTime": {
     "end_time": "2019-09-17T00:25:15.318886Z",
     "start_time": "2019-09-17T00:25:14.613698Z"
    },
    "colab": {},
    "colab_type": "code",
    "id": "b2ehFqYdSlfF"
   },
   "outputs": [],
   "source": [
    "hist,bins = np.histogram(sobel_xy,256,[0,256])\n",
    "plt.plot(hist);"
   ]
  },
  {
   "cell_type": "code",
   "execution_count": null,
   "metadata": {
    "ExecuteTime": {
     "end_time": "2019-09-17T00:25:16.127643Z",
     "start_time": "2019-09-17T00:25:15.327781Z"
    },
    "colab": {},
    "colab_type": "code",
    "id": "Xqx_vf49TuN6"
   },
   "outputs": [],
   "source": [
    "th = sobel_xy < 20\n",
    "plt.imshow(th, cmap='gray');"
   ]
  },
  {
   "cell_type": "code",
   "execution_count": null,
   "metadata": {
    "ExecuteTime": {
     "end_time": "2019-09-17T00:25:16.777033Z",
     "start_time": "2019-09-17T00:25:16.138614Z"
    },
    "colab": {},
    "colab_type": "code",
    "id": "GxunpjiYKhmC"
   },
   "outputs": [],
   "source": [
    "# edges (Canny)\n",
    "edges = cv2.Canny(gray, 75, 100)\n",
    "\n",
    "plt.subplot(1, 2, 1),plt.imshow(gray, cmap = 'gray')\n",
    "plt.title('Original Image'), plt.xticks([]), plt.yticks([])\n",
    "plt.subplot(1,2, 2),plt.imshow(edges,cmap = 'gray')\n",
    "plt.title('Edge Image'), plt.xticks([]), plt.yticks([]);"
   ]
  },
  {
   "cell_type": "code",
   "execution_count": null,
   "metadata": {
    "ExecuteTime": {
     "end_time": "2019-09-17T00:25:17.137946Z",
     "start_time": "2019-09-17T00:25:16.790881Z"
    },
    "colab": {},
    "colab_type": "code",
    "id": "0R3D_-ogVtm2"
   },
   "outputs": [],
   "source": [
    "lowres = cv2.pyrDown(img)\n",
    "lowres = cv2.pyrDown(lowres)\n",
    "lowres = cv2.pyrDown(lowres)\n",
    "imshowBGR2RGB(lowres)"
   ]
  },
  {
   "cell_type": "code",
   "execution_count": null,
   "metadata": {
    "ExecuteTime": {
     "end_time": "2019-09-17T00:25:17.610810Z",
     "start_time": "2019-09-17T00:25:17.148914Z"
    },
    "colab": {},
    "colab_type": "code",
    "id": "PzomUxEqYsBG"
   },
   "outputs": [],
   "source": [
    "highres = cv2.pyrUp(lowres)\n",
    "highres = cv2.pyrUp(highres)\n",
    "highres = cv2.pyrUp(highres)\n",
    "imshowBGR2RGB(highres)"
   ]
  },
  {
   "cell_type": "markdown",
   "metadata": {
    "colab_type": "text",
    "id": "el7VElGcA55W"
   },
   "source": [
    "**more:** [OpenCV-Python Tutorials](https://docs.opencv.org/3.0-beta/doc/py_tutorials/py_tutorials.html)\n"
   ]
  }
 ],
 "metadata": {
  "accelerator": "TPU",
  "colab": {
   "collapsed_sections": [],
   "name": "CSC420_2019_Tutorial_A.ipynb",
   "provenance": [],
   "version": "0.3.2"
  },
  "hide_input": false,
  "kernelspec": {
   "display_name": "Python 3",
   "language": "python",
   "name": "python3"
  },
  "language_info": {
   "codemirror_mode": {
    "name": "ipython",
    "version": 3
   },
   "file_extension": ".py",
   "mimetype": "text/x-python",
   "name": "python",
   "nbconvert_exporter": "python",
   "pygments_lexer": "ipython3",
   "version": "3.7.3"
  }
 },
 "nbformat": 4,
 "nbformat_minor": 1
}
