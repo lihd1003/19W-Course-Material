{
 "cells": [
  {
   "cell_type": "code",
   "execution_count": 1,
   "metadata": {},
   "outputs": [],
   "source": [
    "import cv2\n",
    "import numpy as np\n",
    "from matplotlib import pyplot as plt\n",
    "import math\n",
    "\n",
    "def imshow(img, ax=None, title=\"\", bgr=True):\n",
    "    # since plt and cv2 have different RGB sorting\n",
    "    if bgr:\n",
    "        img = cv2.cvtColor(img,cv2.COLOR_BGR2RGB)\n",
    "    if ax == None:\n",
    "        plt.imshow(img.astype(np.uint8))\n",
    "        plt.axis(\"off\")\n",
    "        plt.title(title)\n",
    "    else:\n",
    "        ax.imshow(img.astype(np.uint8))\n",
    "        ax.set_axis_off()\n",
    "        ax.set_title(title)\n",
    "        \n",
    "plt.rcParams[\"figure.figsize\"] = (12,6)"
   ]
  },
  {
   "cell_type": "markdown",
   "metadata": {},
   "source": [
    "## Affine Transformations\n",
    "$$\\begin{bmatrix}x'\\\\y'\\end{bmatrix} = \n",
    "\\begin{bmatrix}a&b&e\\\\c&d&f\\end{bmatrix} \\begin{bmatrix}x\\\\y\\\\1\\end{bmatrix} $$\n",
    "is the combination of a linear transformation $\\begin{bmatrix}a&b\\\\c&d\\end{bmatrix}$ plus a translation $\\begin{bmatrix}e\\\\f\\end{bmatrix} $\n",
    "\n",
    "#### Properties\n",
    "- Origin $\\Rightarrow (e, f)$\n",
    "- Lines map to lines \n",
    "- Parallel lines remain parallel\n",
    "- Preserves ratios\n",
    "- Closed under composition\n",
    "- Rectangles go to parallelograms"
   ]
  },
  {
   "cell_type": "code",
   "execution_count": 2,
   "metadata": {
    "code_folding": []
   },
   "outputs": [
    {
     "data": {
      "image/png": "[encoded data removed]",
      "text/plain": [
       "<Figure size 864x576 with 6 Axes>"
      ]
     },
     "metadata": {
      "needs_background": "light"
     },
     "output_type": "display_data"
    }
   ],
   "source": [
    "fig, axs = plt.subplots(2, 3, figsize=(12, 8))\n",
    "img = np.zeros((100, 100))\n",
    "\n",
    "img[:33, :33] = 1\n",
    "imshow(img, axs[0][0], title=\"original\", bgr=False)\n",
    "\n",
    "M_trans = np.array([[1, 0, 20], [0, 1., 20]])\n",
    "img_trans = cv2.warpAffine(img, M_trans, (100, 100))\n",
    "imshow(img_trans, axs[0][1], title=\"translation\", bgr=False)\n",
    "\n",
    "M_rotation = np.array([[np.cos(0.5), np.sin(0.5), 0], \n",
    "                       [-np.sin(0.5), np.cos(0.5), 0]])\n",
    "img_rotation = cv2.warpAffine(img, M_rotation, (100, 100))\n",
    "imshow(img_rotation, axs[0][2], title=\"rigid (Euclidean)\", bgr=False)\n",
    "\n",
    "M_sim = np.array([[np.cos(0.5), np.sin(0.5), 0], \n",
    "                       [-np.sin(0.5), np.cos(0.5), 0]]) * 0.5\n",
    "img_sim = cv2.warpAffine(img, M_sim, (100, 100))\n",
    "imshow(img_sim, axs[1][0], title=\"similarity\", bgr=False)\n",
    "\n",
    "M_aff = np.array([[1, 0.2, 10], \n",
    "                  [0.7, 1.3, 10]])\n",
    "img_aff = cv2.warpAffine(img, M_aff, (100, 100))\n",
    "imshow(img_aff, axs[1][1], title=\"affine\", bgr=False)\n",
    "\n",
    "axs[1][2].set_axis_off()"
   ]
  },
  {
   "cell_type": "markdown",
   "metadata": {},
   "source": [
    "## Projective Transformations\n",
    "$$w\\begin{bmatrix}x'\\\\y'\\\\1\\end{bmatrix} = \n",
    "\\begin{bmatrix}a&b&e\\\\c&d&f\\\\g&h&i\\end{bmatrix} \\begin{bmatrix}x\\\\y\\\\1\\end{bmatrix} $$\n",
    "Note that this is an expansion of affine transformation, when $g=h=0$ and $i=1$\n",
    "#### Properties\n",
    " - origin does not necessarily map to origin\n",
    " - Lines map to lines\n",
    " - __parallel are not necessarily remain parallel__\n",
    " - __Do not__ preserve ratios\n",
    " - closed under composition\n",
    " - rectangles goes to quadrilateral"
   ]
  },
  {
   "cell_type": "markdown",
   "metadata": {},
   "source": []
  },
  {
   "cell_type": "markdown",
   "metadata": {},
   "source": [
    "### Solving Homographies\n",
    "Let $(x_i,y_i)$ be a point on the reference (model) image, and $(x_i',y_i')$ be its matching in the test image, $H_{3\\times 3}$ be the projective matrix. \n",
    "So that \n",
    "$$a\\begin{bmatrix}x_i'\\\\y_i'\\\\1\\end{bmatrix} = \n",
    "\\begin{bmatrix}h_{00}&h_{01}&h_{02}\\\\\n",
    "h_{10}&h_{11}&h_{12}\\\\h_{20}&h_{21}&h_{22}\\end{bmatrix} \\begin{bmatrix}x_i\\\\y_i\\\\1\\end{bmatrix} $$\n",
    "We need to solve the 9 unknowns $h_{[0:2, 0:2]}$ \n",
    "First, note that $$a = h_{20}x_i + h_{21}y_i + h_{22}$$\n",
    "so that $$ax_i' = h_{00}x_i + h_{01}y_1 + h_{02}\\Rightarrow x_i' = \\frac{h_{00}x_i + h_{01}y_1 + h_{02}}{h_{20}x_i + h_{21}y_i + h_{22}} $$\n",
    "$$y_i' = \\frac{h_{10}x_i + h_{11}y_1 + h_{12}}{h_{20}x_i + h_{21}y_i + h_{22}}$$\n",
    "rewrite them as linear equations\n",
    "\\begin{align*}\n",
    "-(h_{20}x_i + h_{21}y_i + h_{22})x_i' + h_{00}x_i + h_{01}y_1 + h_{02} = 0\\\\\n",
    "-(h_{20}x_i + h_{21}y_i + h_{22})y_i' + h_{10}x_i + h_{11}y_1 + h_{12} = 0\n",
    "\\end{align*}\n",
    "i.e. \n",
    "$$\\begin{bmatrix}\n",
    "x_i &y_i&1&0&0&0&-x_i'x_i&-x_i'y_i &-x_i'\\\\\n",
    "0 &0&0&x_i&y_i&1&-y_i'x_i&-y_i'y_i &-y_i'\n",
    "\\end{bmatrix}\n",
    "h_F = \\vec 0$$\n",
    "where $h_F=[h_{00}, h_{01},...,h_{21},h_{22}]^T$ is the flatten vector of $H$\n",
    "\n",
    "Since we have $n$ sets of matching points, we can have \n",
    "$$A_{2n\\times 9} h_{F_9\\times 1} = \\vec 0_{2n}$$\n",
    "and we want to find \n",
    "$$h = arg\\min \\|Ah\\|_2^2$$"
   ]
  },
  {
   "cell_type": "markdown",
   "metadata": {},
   "source": [
    "Since $h$ is only defined up to scale, we can first solve for unit vector and then multiply back scale. so that we can add constraint \n",
    "$\\|h\\|_2 = 1$ and \n",
    "$$h = arg\\min_{\\|h\\|_2=1}\\|Ah\\|_2^2$$\n",
    "For constrained optimization, we use method of Lagrange Multipliers\n",
    "where $\\hat h = $eigenvector of $A^TA$ with smallest eigenvalue. \n",
    "\n",
    "Notice that although we seem to have $9$ unknowns, we actually only have $8$, since the last one is calculated from the constraint. So that we only need $4$ matching to form a deterministic or over-deterministic system. "
   ]
  },
  {
   "cell_type": "markdown",
   "metadata": {},
   "source": [
    "## Camera Modeling Projection\n",
    "### Set up\n",
    "To simplify the model, assume we have a pinhole camera, and we are working with the virtual image plane, since the real image plane is upside down. \n",
    "\n",
    "For the 3-D coordinate system, using the __right handed__ coordinate system  \n",
    "call the __optical center__ or __cemera center__ $C:= (0,0)$  \n",
    "$Z$ axis be the __optical__ or __principal__ axis, which will be orthogonal to the image plane.  \n",
    "$X,Y$ axes are parallel to the image.  \n",
    "So that $Z$-axis points to the object, $X$-axis points away and $Y$-axis points top. \n",
    "\n",
    "__principal point__ $p$: the optical axis intersects the image plane.  \n",
    "__focal length__ $f:=d(C,p)$ is the distance from the camera center to the principal point.  \n",
    "__image coordinate system__ the $(x,y)$ coordinate used to represent the 2D image plane. Let the origin be the bottom left corner, so that $p=(p_x,p_y)$\n",
    "\n",
    "Taking some point $Q$ living in the 3D, connected to the origin, call the connection line __projection line__. Call its intersection with the image plane $q$. However, we can notice that every point on the __projection line__ will be mapped to $q$ in the 2D image. "
   ]
  },
  {
   "cell_type": "markdown",
   "metadata": {},
   "source": [
    "### Equations\n",
    "Consider the point $Q = (X,Y,Z)^T$, then its corresponding projection point $q=(X\\frac{f}{Z}, Y\\frac{f}{Z},f)$ using similar triangles. In the 2D projection space, $q = p + (X\\frac{f}{Z}, Y\\frac{f}{Z}) = (X\\frac{f}{Z} + p_x, Y\\frac{f}{Z}+p_y)$"
   ]
  },
  {
   "cell_type": "markdown",
   "metadata": {},
   "source": [
    "### Homogeneous Coordinates\n",
    "Add a $1$ for the vector, e.g. $(x,y)\\Rightarrow [x,y,1]^T$. In homogeneous coordinates, scaling doesn't affect anything. i.e. $[x,y,1]^T \\sim [wx,wy,w]^T$. Therefore, we can write $q$ as \n",
    "$$\\hat q = \\begin{bmatrix}X\\frac{f}{Z}+p_x\\\\Y\\frac{f}{Z}+p_y\\\\1 \\end{bmatrix}\\sim \\begin{bmatrix}fX+Zp_x\\\\fY+Zp_y\\\\Z \\end{bmatrix}$$\n",
    "Then, the mapping from $Q$ to $q$ is \n",
    "\n",
    "$$\n",
    "\\begin{bmatrix}fX+Zp_x\\\\fY+Zp_y\\\\Z \\end{bmatrix} \n",
    "= \\begin{bmatrix}f&0&p_x \\\\ 0&f&p_y \\\\ 0&0&1\\end{bmatrix}\n",
    "\\begin{bmatrix}X\\\\Y\\\\Z \\end{bmatrix}\n",
    "$$\n",
    "$$\\hat q = KQ, q = \\hat q / Z$$\n",
    "$K$ is the __camera calibration matrix__ or __intrinsic parameter matrix__. The parameters in $K$ are called __internal camera parameters__. "
   ]
  },
  {
   "cell_type": "markdown",
   "metadata": {},
   "source": [
    "### Some properties\n",
    "- Many to one: any points along same ray map to same point\n",
    "- Points, lines, and planes are preserved \n",
    "- Any line through principal point projects to a point\n",
    "- Any plane through principal point projects to line"
   ]
  },
  {
   "cell_type": "markdown",
   "metadata": {},
   "source": [
    "### vainishing points \n",
    "All lines in the same direction in 3D will intersect at the same vanishing point in 2D. \n",
    "\n",
    "Consider a line that pass through $V$ with direction $D$, i.e. the line $X = V+tD$\n",
    "\n",
    "$$KX = \\begin{bmatrix}f&0&p_x \\\\ 0&f&p_y \\\\ 0&0&1\\end{bmatrix}\n",
    "\\begin{bmatrix}V_x+tD_x \\\\ V_y+tD_y \\\\ V_z+tD_z\\end{bmatrix} = \n",
    "\\begin{bmatrix}fV_x+ftD_x + p_xV_z + tp_xD_z\\\\ fV_y+ftD_y + p_yV_z + tp_yD_z \\\\ V_z+tD_z\\end{bmatrix}$$\n",
    "\n",
    "so that the project point $(x, y)$ will be \n",
    "$(x,y) = \\lim_{t\\rightarrow\\infty} (\\frac{fV_x+ftD_x + p_xV_z + tp_xD_z}{V_z + tD_z}, \\frac{fV_y+ftD_y + p_yV_z + tp_yD_z}{V_z + tD_z}) = (\\frac{fD_x + p_xD_z}{D_z}, \\frac{fD_y+p_yD_z}{D_z})$\n",
    "is only about $D$ and independent of $V$. \n",
    "\n",
    "However, lines parallel to image plane are still parallel, we say that they intersect at infinity. \n",
    "Consider $X_1,X_2$ be two line parallel to the image plane, i.e. $V_z = 0, D_{1z}=D_{2z}$ so that the distance (only demonstrate $x$-distance)\n",
    "\n",
    "\\begin{align*}d_x &= \\frac{fV_{1x}+ftD_x + p_xV_{1z} + tp_xD_z}{V_{1z} + tD_z} - \\frac{fV_{2x}+ftD_x + p_xV_{2z} + tp_xD_z}{V_{2z} + tD_z}\\\\\n",
    "&= \\frac{fV_{1x}+ftD_x + p_xV_{1z}}{V_{1z}} - \\frac{fV_{2x}+ftD_x + p_xV_{2z}}{V_{2z}}&D_z = 0\\\\\n",
    "&=C + \\frac{tfD_x(V_{2z} - V_{1z})}{V_{1z}V_{2z}}\\\\\n",
    "&= C + 0&V_{1z}=V_{2z}\\end{align*}"
   ]
  },
  {
   "cell_type": "markdown",
   "metadata": {},
   "source": [
    "#### Example\n",
    "Suppose we have a photo taken from a car with a camera on top, and we know the camera intrinsic matrix $K$, WTF the incline of the hill $\\theta$. \n",
    "\n",
    "Since the vertical lines now is not parallel to the image plane (the image plane is perpendicular to the inclined ground), we can find the vanishing points in these 2D lines, which is $[w\\cdot vp_x, w\\cdot vp_y, w]^T$. Therefore, \n",
    "$$\\begin{bmatrix}w\\cdot vp_x\\\\w\\cdot vp_y\\\\w\\end{bmatrix}=KD\\Rightarrow D = wK^{-1}\\begin{bmatrix} vp_x\\\\vp_y\\\\1\\end{bmatrix}$$\n",
    "Then, we can find $D$ and normalizes it. "
   ]
  },
  {
   "cell_type": "markdown",
   "metadata": {},
   "source": [
    "### Vanishing Line\n",
    "Parallel lines in 3D projects to intersected lines in 2D. However, the converse is not necessarily true.\n",
    "\n",
    "For lines on the same 3D plane, the vanishing points lie on a line, i.e. __vanishing line__. The ground plane is the horizon line. \n",
    "\n",
    "Parallel plnes in 3D the the same horizon line in the image. "
   ]
  },
  {
   "cell_type": "markdown",
   "metadata": {},
   "source": [
    "### Camera Coordinate System\n",
    "Since we are measuring everything from 2D images taken by the camera, we need to project the 3D points onto our camera coordinate system, so that we can describe them and get them back. \n",
    "\n",
    "To do such projection, we need \n",
    " - Camera __position__ $c$ (in world coordinates)\n",
    " - Camera __orientation__ $(\\vec u,\\vec v,\\vec w)$ (in world coordinates)\n",
    " - $K$\n",
    " \n",
    "So that for point $Q$ in the world coordinates,  \n",
    "$Q-c$ is the projection in the camera coordinates,  \n",
    "$R\\begin{bmatrix}u&v&w\\end{bmatrix}=I$ looking for rotation to canonical orientation. Then, because orientation is orthogonal, $RR^T = I\\Rightarrow R = \\begin{bmatrix}u^T&v^T&w^T\\end{bmatrix}$\n",
    "\n",
    "Therefore, the camera coordinate for $(x,y,z)$ in world coordinate is\n",
    "$$\\begin{bmatrix}X'\\\\Y'\\\\Z'\\end{bmatrix} = R(\\begin{bmatrix}X\\\\Y\\\\Z\\end{bmatrix} - c) = \\begin{bmatrix}R&-Rc\\end{bmatrix}\\begin{bmatrix}X\\\\Y\\\\Z\\\\1\\end{bmatrix}$$"
   ]
  },
  {
   "cell_type": "markdown",
   "metadata": {},
   "source": [
    "### Projection Matrix\n",
    "We can describe all the cumulative effect of all intrinsic and extrinsic parameters using the projection matrix $P$. so that the 2D projection $(x,y)$ from $(x,y,z)$ can be described through homogeneous coordinates\n",
    "$$q = \\begin{bmatrix}ax\\\\ay\\\\a\\end{bmatrix} = P\\begin{bmatrix}x\\\\y\\\\z\\\\1\\end{bmatrix}$$\n",
    "Where to get a point $q$ in the image plane, we need to compute $P[x,y,z,1]^T$, and divide all coordinates with the third coordinate, and drop the last coordinate. \n",
    "\n",
    "$$P_{3\\times 4} = \n",
    "\\underset{K}{\\begin{bmatrix}f&0&p_x\\\\0&f&p_y\\\\0&0&1\\end{bmatrix}}\\:\n",
    "\\underset{\\text{projection}}{\\begin{bmatrix}1&0&0&0\\\\0&1&0&0\\\\0&0&1&0\\end{bmatrix}}\\:\n",
    "\\underset{\\text{rotation}}{\\begin{bmatrix}&&&0\\\\&R&&0\\\\&&&0\\\\0&0&0&1\\end{bmatrix}}\\:\n",
    "\\underset{translation}{\\begin{bmatrix}&&&\\\\&I&&t\\\\&&&\\\\0&0&0&1\\end{bmatrix}}\\:\n",
    "$$\n",
    "Sometimes we use more compact form, \n",
    "$$P = K[R\\quad t] = K[R\\mid t]$$"
   ]
  },
  {
   "cell_type": "markdown",
   "metadata": {},
   "source": [
    "## Homography\n",
    "Given the same object and two images taken from different worlds. WTF the transformation from one to another.\n",
    "\n",
    "### 3D relationship\n",
    "Let the object be a plane (say a book). Then we can characterize the plane by one point $d$ and two independent vectors $a,b$ on the plane, i.e. we create a coordinate system with an origin and two basis. Therefore, we can describe any point $X$ on the plane by \n",
    "$X = d + \\alpha a + \\beta b$.  \n",
    "Let $X_1 = d_1 + \\alpha a_1 + \\beta b_1, X_2 = d_2 + \\alpha a_2 + \\beta b_2$ where $X_1, X_2$ represents the two planes in 3D of the two world, and represents the same location relative to the same object plane. \n",
    "\n",
    "Using homogeneous coordinates\n",
    "$$X_1 = \n",
    "\\underset{A_1}{\\begin{bmatrix}\n",
    "a_{11}&b_{11}&d_{11}\\\\\n",
    "a_{12}&b_{12}&d_{12}\\\\\n",
    "a_{13}&b_{13}&d_{13}\n",
    "\\end{bmatrix}}\n",
    "\\begin{bmatrix}\n",
    "\\alpha\\\\\\beta\\\\1 \n",
    "\\end{bmatrix}, X_2 = \n",
    "\\underset{A_2}{\\begin{bmatrix}\n",
    "a_{21}&b_{21}&d_{21}\\\\\n",
    "a_{22}&b_{22}&d_{22}\\\\\n",
    "a_{23}&b_{23}&d_{23}\n",
    "\\end{bmatrix}}\n",
    "\\begin{bmatrix}\n",
    "\\alpha\\\\\\beta\\\\1 \n",
    "\\end{bmatrix}$$\n",
    "And the transformation $T$ between them gives $X_2 = T X_1$, i.e. $A_2\\begin{bmatrix}\n",
    "\\alpha\\\\\\beta\\\\1 \n",
    "\\end{bmatrix} = TA_1\\begin{bmatrix}\n",
    "\\alpha\\\\\\beta\\\\1 \n",
    "\\end{bmatrix}, \\forall \\alpha, \\beta$. Therefore, $T = A_2A_1^{-1}$"
   ]
  },
  {
   "cell_type": "markdown",
   "metadata": {},
   "source": [
    "### 2D relationship\n",
    "Consider the projective (image) plane. Let $K_1,K_2$ denotes the different intrinsic parameters. Then $w_1\\begin{bmatrix}x_1\\\\y_1\\\\1 \\end{bmatrix} = K_1X_1, w_2\\begin{bmatrix}x_2\\\\y_2\\\\1 \\end{bmatrix} = K_2X_2$, known that $X_2 = TX_1$, so that \n",
    "$$w_2\\begin{bmatrix}x_2\\\\y_2\\\\1 \\end{bmatrix} = K_2TX_1 = K_2T(K^{-1}_x K_1)X_1= K_2TK_1^{-1}w_1\\begin{bmatrix}x_1\\\\y_1\\\\1 \\end{bmatrix}$$\n",
    "\n",
    "Note that $K_2TK_1^{-1}$ is a $3\\times 3$ matrix. Therefore, without knowing all the 3D location and even the camera parameters, we can still do the transformation by finding $K_2TK_1^{-1}$ as only one matrix"
   ]
  },
  {
   "cell_type": "markdown",
   "metadata": {},
   "source": [
    "#### Rotating the camera\n",
    "Consider the panorama mode of the camera. Assuming of the rotation of the camera happens. \n",
    "\n",
    "Let $R$ be the rotation of the camera, then $R^T$ is the rotation of the 3D points. Let $X_1,X_2$ be the same point of the object in the two camera coordinates. Then, let $T:= R^T$, i.e. the transformation is a rotation, then \n",
    "$$w_2\\begin{bmatrix}x_2\\\\y_2\\\\1 \\end{bmatrix} =w_1 K_2TK_1^{-1}\\begin{bmatrix}x_1\\\\y_1\\\\1 \\end{bmatrix}$$"
   ]
  },
  {
   "cell_type": "markdown",
   "metadata": {},
   "source": [
    "#### Moving the camera\n",
    "Let the movement be $t$, then $X_2 = X_1 -t$, so that in the homogeneous coordinate of the 2D image\n",
    "$$w_2\\begin{bmatrix}x_2\\\\y_2\\\\1\\end{bmatrix} = KX_2 = K(X_1-t) = w_1\\begin{bmatrix}x_1\\\\y_1\\\\1\\end{bmatrix} - Kt$$\n",
    "However, changing $w_1$ will give different points in the second image. \n",
    "\n",
    "On the opposite, if we have $(x_1,y_1), (x_2,y_2), K, t$, we can calculate $w_1, w_2$, hence compute the point in 3D. \n",
    "\n",
    "This fact is called __stereo__. "
   ]
  },
  {
   "cell_type": "markdown",
   "metadata": {},
   "source": [
    "## Stereo\n",
    "A 2D image cannot represent the depth in 3D world, i.e. $Z$-axis is dropped. However, using stereo cameras we can reconstruct depth. "
   ]
  },
  {
   "attachments": {},
   "cell_type": "markdown",
   "metadata": {},
   "source": [
    "### Parallel Calibrated Cameras\n",
    "Let $O_t,O_r$ be two camera centers, $O_r = O_t + [T, 0, 0]^T$, i.e. We apply a movement $t$ to the left camera along the $x$-axis to get our right camera. \n",
    "\n",
    "Consider $p_l = (x_l, y_l), p_r = (x_r,y_r)$ be the projected points of $Q$ on left, right image plane, respectively. \n",
    "\n",
    "Since we only move the camera along the x-axis, $(p_l\\sim p_r) \\parallel (O_l\\sim O_r)$, hence $y:= y_l = y_r$. \n",
    "\n",
    "Also, noticing that we are only interested in $Z$, i.e. the depth. Consider the connection between $p_l, p_r, Z$, ignoring $y$ since it is unchanged. Therefore, we can project the image from the y-axis, and see the relationship in 2D $(x,z)$ coordinate. "
   ]
  },
  {
   "cell_type": "code",
   "execution_count": 7,
   "metadata": {},
   "outputs": [
    {
     "data": {
      "image/png": "[encoded data removed]",
      "text/plain": [
       "<Figure size 432x288 with 1 Axes>"
      ]
     },
     "metadata": {
      "needs_background": "light"
     },
     "output_type": "display_data"
    }
   ],
   "source": [
    "imshow(cv2.imread(\"../assets/lec13.png\"))"
   ]
  },
  {
   "cell_type": "markdown",
   "metadata": {},
   "source": [
    "Noticing that $\\Delta PX_lX_r \\sim \\Delta PP_lO_r$. so that $$\\frac{T}{x_r-x_l} = \\frac{Z}{f}\\Rightarrow Z = \\frac{fT}{x_r - x_l}$$\n",
    "\n",
    "Then, to get $x_r$, we need to match the point in two images. Since we know $y$ of the point is constant, we can do a sliding window scan along the same $y$, then patch around $x_r$ to get the highest similarity. "
   ]
  }
 ],
 "metadata": {
  "hide_input": false,
  "kernelspec": {
   "display_name": "Python 3",
   "language": "python",
   "name": "python3"
  },
  "language_info": {
   "codemirror_mode": {
    "name": "ipython",
    "version": 3
   },
   "file_extension": ".py",
   "mimetype": "text/x-python",
   "name": "python",
   "nbconvert_exporter": "python",
   "pygments_lexer": "ipython3",
   "version": "3.7.4"
  }
 },
 "nbformat": 4,
 "nbformat_minor": 2
}
