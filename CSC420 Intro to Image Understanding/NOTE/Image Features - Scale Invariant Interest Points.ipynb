{
 "cells": [
  {
   "cell_type": "code",
   "execution_count": 1,
   "metadata": {
    "ExecuteTime": {
     "end_time": "2019-09-30T22:31:28.068340Z",
     "start_time": "2019-09-30T22:31:26.462272Z"
    }
   },
   "outputs": [],
   "source": [
    "import cv2\n",
    "import numpy as np\n",
    "from matplotlib import pyplot as plt\n",
    "import math\n",
    "import scipy.ndimage\n",
    "\n",
    "def imshow(img, ax=None, title=\"\", bgr=True):\n",
    "    # since plt and cv2 have different RGB sorting\n",
    "    if bgr:\n",
    "        img = cv2.cvtColor(img,cv2.COLOR_BGR2RGB)\n",
    "    if ax == None:\n",
    "        plt.imshow(img.astype(np.uint8))\n",
    "        plt.axis(\"off\")\n",
    "        plt.title(title)\n",
    "    else:\n",
    "        ax.imshow(img.astype(np.uint8))\n",
    "        ax.set_axis_off()\n",
    "        ax.set_title(title)\n",
    "        \n",
    "plt.rcParams[\"figure.figsize\"] = (12,6)"
   ]
  },
  {
   "cell_type": "markdown",
   "metadata": {},
   "source": [
    "#### Goal\n",
    "Independently scale interest points in each image, such that the detections are repeatable across different scales. \n",
    "\n",
    "#### General Idea\n",
    "Extract features as a variety of scales, e.g., by multiple resolutions in a image pyramid, and then matching features at the \"corresponding\" level\n",
    "\n",
    "With the Harris corner detector we can find a maxima in a spatial search window, then find scale that gives local maxima of a function $f$ in both position and scale. "
   ]
  },
  {
   "cell_type": "markdown",
   "metadata": {},
   "source": [
    "#### \"Blob\" Detection - Laplacian of Gaussian\n",
    "$$\\nabla^2g(x,y,\\sigma)=-(\\pi\\sigma^4)^{-1}(1-\\frac{x^2+y^2}{2\\sigma^2})\\exp(-\\frac{x^2+y^2}{2\\sigma^2})$$\n",
    "\n",
    "Define the __characteristic scale__ as the scale that produced peak of the Laplacian response\n",
    "\n"
   ]
  }
 ],
 "metadata": {
  "hide_input": false,
  "kernelspec": {
   "display_name": "Python 3",
   "language": "python",
   "name": "python3"
  },
  "language_info": {
   "codemirror_mode": {
    "name": "ipython",
    "version": 3
   },
   "file_extension": ".py",
   "mimetype": "text/x-python",
   "name": "python",
   "nbconvert_exporter": "python",
   "pygments_lexer": "ipython3",
   "version": "3.7.4"
  }
 },
 "nbformat": 4,
 "nbformat_minor": 2
}
