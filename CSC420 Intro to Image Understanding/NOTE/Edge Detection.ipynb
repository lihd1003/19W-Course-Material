{
 "cells": [
  {
   "cell_type": "code",
   "execution_count": 6,
   "metadata": {},
   "outputs": [],
   "source": [
    "import cv2\n",
    "import numpy as np\n",
    "from matplotlib import pyplot as plt\n",
    "import math\n",
    "\n",
    "def show_image(img, ax=None, title=\"\", bgr=True):\n",
    "    # since plt and cv2 have different RGB sorting\n",
    "    if bgr:\n",
    "        img = cv2.cvtColor(img,cv2.COLOR_BGR2RGB)\n",
    "    if ax == None:\n",
    "        plt.imshow(img.astype(np.uint8))\n",
    "        plt.axis(\"off\")\n",
    "        plt.title(title)\n",
    "    else:\n",
    "        ax.imshow(img.astype(np.uint8))\n",
    "        ax.set_axis_off()\n",
    "        ax.set_title(title)"
   ]
  },
  {
   "cell_type": "markdown",
   "metadata": {},
   "source": [
    "#### How to find edges\n",
    "An edge is a place of rapid change in image intensity function $\\Rightarrow$ extrema of derivative\n",
    "\n",
    "Since the image is discrete in pixels, take first-order forward discrete derivative (finite difference)\n",
    "\n",
    "$$\\frac{\\partial f(x,y)}{\\partial x} = \\lim_{h \\rightarrow 0}\\frac{f(x+h, y) - f(x,y)}{g}\\approx \\frac{f(x+1, y) - f(x,y)}{1}$$"
   ]
  },
  {
   "cell_type": "code",
   "execution_count": 57,
   "metadata": {},
   "outputs": [
    {
     "data": {
      "image/png": "[encoded data removed]",
      "text/plain": [
       "<Figure size 576x288 with 2 Axes>"
      ]
     },
     "metadata": {
      "needs_background": "light"
     },
     "output_type": "display_data"
    }
   ],
   "source": [
    "image = cv2.imread('../assets/blue-square.png')\n",
    "fig, axs = plt.subplots(1, 2, figsize=(8, 4))\n",
    "image_v = cv2.filter2D(image, -1, np.array([-1, 1]), delta=125)\n",
    "show_image(image, axs[0])\n",
    "show_image(image_v, axs[1])"
   ]
  },
  {
   "cell_type": "code",
   "execution_count": null,
   "metadata": {},
   "outputs": [],
   "source": [
    "kernel = [-1, 1]"
   ]
  }
 ],
 "metadata": {
  "hide_input": false,
  "kernelspec": {
   "display_name": "Python 3",
   "language": "python",
   "name": "python3"
  },
  "language_info": {
   "codemirror_mode": {
    "name": "ipython",
    "version": 3
   },
   "file_extension": ".py",
   "mimetype": "text/x-python",
   "name": "python",
   "nbconvert_exporter": "python",
   "pygments_lexer": "ipython3",
   "version": "3.7.3"
  }
 },
 "nbformat": 4,
 "nbformat_minor": 2
}
