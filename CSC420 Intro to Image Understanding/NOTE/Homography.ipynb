{
 "cells": [
  {
   "cell_type": "code",
   "execution_count": 47,
   "metadata": {},
   "outputs": [],
   "source": [
    "import cv2\n",
    "import numpy as np\n",
    "from matplotlib import pyplot as plt\n",
    "import math\n",
    "\n",
    "def imshow(img, ax=None, title=\"\", bgr=True):\n",
    "    # since plt and cv2 have different RGB sorting\n",
    "    if bgr:\n",
    "        img = cv2.cvtColor(img,cv2.COLOR_BGR2RGB)\n",
    "    if ax == None:\n",
    "        plt.imshow(img.astype(np.uint8))\n",
    "        plt.axis(\"off\")\n",
    "        plt.title(title)\n",
    "    else:\n",
    "        ax.imshow(img.astype(np.uint8))\n",
    "        ax.set_axis_off()\n",
    "        ax.set_title(title)\n",
    "        \n",
    "plt.rcParams[\"figure.figsize\"] = (12,6)"
   ]
  },
  {
   "cell_type": "markdown",
   "metadata": {},
   "source": [
    "## Affine Transformations\n",
    "$$\\begin{bmatrix}x'\\\\y'\\end{bmatrix} = \n",
    "\\begin{bmatrix}a&b&e\\\\c&d&f\\end{bmatrix} \\begin{bmatrix}x\\\\y\\\\1\\end{bmatrix} $$\n",
    "is the combination of a linear transformation $\\begin{bmatrix}a&b\\\\c&d\\end{bmatrix}$ plus a translation $\\begin{bmatrix}e\\\\f\\end{bmatrix} $\n",
    "\n",
    "#### Properties\n",
    "- Origin $\\Rightarrow (e, f)$\n",
    "- Lines map to lines \n",
    "- Parallel lines remain parallel\n",
    "- Preserves ratios\n",
    "- Closed under composition\n",
    "- Rectangles go to parallelograms"
   ]
  },
  {
   "cell_type": "code",
   "execution_count": 66,
   "metadata": {
    "code_folding": []
   },
   "outputs": [
    {
     "data": {
      "image/png": "[encoded data removed]",
      "text/plain": [
       "<Figure size 864x576 with 6 Axes>"
      ]
     },
     "metadata": {
      "needs_background": "light"
     },
     "output_type": "display_data"
    }
   ],
   "source": [
    "fig, axs = plt.subplots(2, 3, figsize=(12, 8))\n",
    "img = np.zeros((100, 100))\n",
    "\n",
    "img[:33, :33] = 1\n",
    "imshow(img, axs[0][0], title=\"original\", bgr=False)\n",
    "\n",
    "M_trans = np.array([[1, 0, 20], [0, 1., 20]])\n",
    "img_trans = cv2.warpAffine(img, M_trans, (100, 100))\n",
    "imshow(img_trans, axs[0][1], title=\"translation\", bgr=False)\n",
    "\n",
    "M_rotation = np.array([[np.cos(0.5), np.sin(0.5), 0], \n",
    "                       [-np.sin(0.5), np.cos(0.5), 0]])\n",
    "img_rotation = cv2.warpAffine(img, M_rotation, (100, 100))\n",
    "imshow(img_rotation, axs[0][2], title=\"rigid (Euclidean)\", bgr=False)\n",
    "\n",
    "M_sim = np.array([[np.cos(0.5), np.sin(0.5), 0], \n",
    "                       [-np.sin(0.5), np.cos(0.5), 0]]) * 0.5\n",
    "img_sim = cv2.warpAffine(img, M_sim, (100, 100))\n",
    "imshow(img_sim, axs[1][0], title=\"similarity\", bgr=False)\n",
    "\n",
    "M_aff = np.array([[1, 0.2, 10], \n",
    "                  [0.7, 1.3, 10]])\n",
    "img_aff = cv2.warpAffine(img, M_aff, (100, 100))\n",
    "imshow(img_aff, axs[1][1], title=\"affine\", bgr=False)\n",
    "\n",
    "axs[1][2].set_axis_off()"
   ]
  },
  {
   "cell_type": "markdown",
   "metadata": {},
   "source": [
    "## Projective Transformations\n",
    "$$w\\begin{bmatrix}x'\\\\y'\\\\1\\end{bmatrix} = \n",
    "\\begin{bmatrix}a&b&e\\\\c&d&f\\\\g&h&i\\end{bmatrix} \\begin{bmatrix}x\\\\y\\\\1\\end{bmatrix} $$\n",
    "Note that this is an expansion of affine transformation, when $g=h=0$ and $i=1$\n",
    "#### Properties\n",
    " - origin does not necessarily map to origin\n",
    " - Lines map to lines\n",
    " - __parallel are not necessarily remain parallel__\n",
    " - __Do not__ preserve ratios\n",
    " - closed under composition\n",
    " - rectangles goes to quadrilateral"
   ]
  },
  {
   "cell_type": "markdown",
   "metadata": {},
   "source": []
  },
  {
   "cell_type": "markdown",
   "metadata": {},
   "source": [
    "### Solving Homographies\n",
    "Let $(x_i,y_i)$ be a point on the reference (model) image, and $(x_i',y_i')$ be its matching in the test image, $H_{3\\times 3}$ be the projective matrix. \n",
    "So that \n",
    "$$a\\begin{bmatrix}x_i'\\\\y_i'\\\\1\\end{bmatrix} = \n",
    "\\begin{bmatrix}h_{00}&h_{01}&h_{02}\\\\\n",
    "h_{10}&h_{11}&h_{12}\\\\h_{20}&h_{21}&h_{22}\\end{bmatrix} \\begin{bmatrix}x_i\\\\y_i\\\\1\\end{bmatrix} $$\n",
    "We need to solve the 9 unknowns $h_{[0:2, 0:2]}$ \n",
    "First, note that $$a = h_{20}x_i + h_{21}y_i + h_{22}$$\n",
    "so that $$ax_i' = h_{00}x_i + h_{01}y_1 + h_{02}\\Rightarrow x_i' = \\frac{h_{00}x_i + h_{01}y_1 + h_{02}}{h_{20}x_i + h_{21}y_i + h_{22}} $$\n",
    "$$y_i' = \\frac{h_{10}x_i + h_{11}y_1 + h_{12}}{h_{20}x_i + h_{21}y_i + h_{22}}$$\n",
    "rewrite them as linear equations\n",
    "\\begin{align*}\n",
    "-(h_{20}x_i + h_{21}y_i + h_{22})x_i' + h_{00}x_i + h_{01}y_1 + h_{02} = 0\\\\\n",
    "-(h_{20}x_i + h_{21}y_i + h_{22})y_i' + h_{10}x_i + h_{11}y_1 + h_{12} = 0\n",
    "\\end{align*}\n",
    "i.e. \n",
    "$$\\begin{bmatrix}\n",
    "x_i &y_i&1&0&0&0&-x_i'x_i&-x_i'y_i &-x_i'\\\\\n",
    "0 &0&0&x_i&y_i&1&-y_i'x_i&-y_i'y_i &-y_i'\n",
    "\\end{bmatrix}\n",
    "h_F = \\vec 0$$\n",
    "where $h_F=[h_{00}, h_{01},...,h_{21},h_{22}]^T$ is the flatten vector of $H$\n",
    "\n",
    "Since we have $n$ sets of matching points, we can have \n",
    "$$A_{2n\\times 9} h_{F_9\\times 1} = \\vec 0_{2n}$$\n",
    "and we want to find \n",
    "$$h = arg\\min \\|Ah\\|_2^2$$"
   ]
  },
  {
   "cell_type": "markdown",
   "metadata": {},
   "source": [
    "Since $h$ is only defined up to scale, we can first solve for unit vector and then multiply back scale. so that we can add constraint \n",
    "$\\|h\\|_2 = 1$ and \n",
    "$$h = arg\\min_{\\|h\\|_2=1}\\|Ah\\|_2^2$$\n",
    "For constrained optimization, we use method of Lagrange Multipliers\n",
    "where $\\hat h = $eigenvector of $A^TA$ with smallest eigenvalue. \n",
    "\n",
    "Notice that although we seem to have $9$ unknowns, we actually only have $8$, since the last one is calculated from the constraint. So that we only need $4$ matching to form a deterministic or over-deterministic system. "
   ]
  }
 ],
 "metadata": {
  "hide_input": false,
  "kernelspec": {
   "display_name": "Python 3",
   "language": "python",
   "name": "python3"
  },
  "language_info": {
   "codemirror_mode": {
    "name": "ipython",
    "version": 3
   },
   "file_extension": ".py",
   "mimetype": "text/x-python",
   "name": "python",
   "nbconvert_exporter": "python",
   "pygments_lexer": "ipython3",
   "version": "3.7.4"
  }
 },
 "nbformat": 4,
 "nbformat_minor": 2
}
