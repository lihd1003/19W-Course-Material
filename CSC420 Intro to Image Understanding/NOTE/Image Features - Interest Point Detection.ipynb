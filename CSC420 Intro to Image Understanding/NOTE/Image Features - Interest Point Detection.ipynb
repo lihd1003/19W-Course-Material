{
 "cells": [
  {
   "cell_type": "markdown",
   "metadata": {},
   "source": [
    "## Image Stitching\n",
    "\n",
    "When matching to images, and even to merge into one.  \n",
    "__Detection__ identify the interest points  \n",
    "__Description__ extract __feature vector__ around each interest point  \n",
    "__Matching__ determine correspondence between descriptors in two views\n",
    "\n",
    "The goal is to detect the same points in both images, the number of points must be generated in each image independently, and must have a sufficient number for comparison, while at the same time not too many, which makes the algorithm slow. \n",
    "\n",
    "#### What are good characteristics for a interest point\n",
    "Must have somewhat unique texture in the local sense  \n",
    "Large contrast changes, i.e. gradients  \n",
    "Edge is less useful since line segments can be localized on any place with the same orientation (aperture problem)  \n",
    "Therefore, we need at least two different orientations, which can be reliably matched"
   ]
  }
 ],
 "metadata": {
  "hide_input": false,
  "kernelspec": {
   "display_name": "Python 3",
   "language": "python",
   "name": "python3"
  },
  "language_info": {
   "codemirror_mode": {
    "name": "ipython",
    "version": 3
   },
   "file_extension": ".py",
   "mimetype": "text/x-python",
   "name": "python",
   "nbconvert_exporter": "python",
   "pygments_lexer": "ipython3",
   "version": "3.7.3"
  }
 },
 "nbformat": 4,
 "nbformat_minor": 2
}
