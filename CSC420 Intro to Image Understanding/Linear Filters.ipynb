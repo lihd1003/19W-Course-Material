{
 "cells": [
  {
   "cell_type": "markdown",
   "metadata": {},
   "source": [
    "Denote a image (matrix of integer values) as $I$  \n",
    "$I(i,j)$ is called intensity  \n",
    "Matrix $I$ can be $m\\times n$ (gray-scale) or $m\\times n \\times 3$ (RGB)  \n",
    "\n",
    "Think of a grayscale image as a mapping $I:\\mathbb R^2 \\rightarrow \\mathbb R$, i.e. position $(i,j)\\rightarrow$ intensity"
   ]
  },
  {
   "cell_type": "markdown",
   "metadata": {},
   "source": [
    "## Linear Filters"
   ]
  },
  {
   "cell_type": "markdown",
   "metadata": {},
   "source": [
    "### Image filters\n",
    "Modify the pixels in an image based on some function of a local neighborhood of each pixel  \n",
    "\n",
    "#### Denoise/noise reduction \n",
    "Simplest thing is to replace each pixel by the (or weighted) average of its neighbors, which assumes that neighboring pixels are similar, and noise is indep of pixels. \n"
   ]
  },
  {
   "cell_type": "markdown",
   "metadata": {},
   "source": [
    "#### Correlation\n",
    "Given a image $I$, the filtered image is \n",
    "$$G(i,j) = (2k+1)^{-2} \\sum_{u=-k}^k \\sum_{v=-k}^k F(u,v)\\cdot I(i+u, j + v)$$\n",
    "The entries of the weight __kernel__ of __mask__ $F(u,v)$ are often called the __filter coefficients__  \n",
    "Denote this operator $F\\otimes I$\n",
    "\n",
    "OpenCV `cv2.filter2d`\n",
    "\n",
    "##### Gausian Filter for smoothing\n",
    "\\begin{bmatrix}\n",
    "1&2&1\\\\\n",
    "2&4&2\\\\\n",
    "1&2&1\n",
    "\\end{bmatrix}"
   ]
  },
  {
   "cell_type": "markdown",
   "metadata": {},
   "source": [
    "#### "
   ]
  }
 ],
 "metadata": {
  "hide_input": false,
  "kernelspec": {
   "display_name": "Python 3",
   "language": "python",
   "name": "python3"
  },
  "language_info": {
   "codemirror_mode": {
    "name": "ipython",
    "version": 3
   },
   "file_extension": ".py",
   "mimetype": "text/x-python",
   "name": "python",
   "nbconvert_exporter": "python",
   "pygments_lexer": "ipython3",
   "version": "3.7.3"
  }
 },
 "nbformat": 4,
 "nbformat_minor": 2
}
