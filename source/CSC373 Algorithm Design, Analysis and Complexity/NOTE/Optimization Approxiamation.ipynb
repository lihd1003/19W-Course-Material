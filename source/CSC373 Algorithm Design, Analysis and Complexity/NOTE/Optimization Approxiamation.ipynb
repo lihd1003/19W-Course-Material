{
 "cells": [
  {
   "cell_type": "markdown",
   "metadata": {},
   "source": [
    "Note: definition of NP-hardness based on worst-case analysis.  \n",
    "Hence look for special characteristics o f\"real life\" inputs.  \n",
    "- 2SAT$\\in$ P, \n",
    "- many graph problems are easier for restricted graph families \n",
    " - max independent set on trees\n",
    " - planar graphs (graph without edge intersection)\n",
    " - degree-restricted \n",
    " \n"
   ]
  },
  {
   "cell_type": "markdown",
   "metadata": {},
   "source": [
    "NP-hard: no **exact efficient** solution for **all** inputs. "
   ]
  },
  {
   "cell_type": "markdown",
   "metadata": {},
   "source": [
    "## Approximation Algorithm\n"
   ]
  },
  {
   "cell_type": "markdown",
   "metadata": {},
   "source": [
    "In general, for minimization problem.  \n",
    "Let $opt(x):=$ best (minimum) value of any solution for input $x$.  \n",
    "For any algorithm, let $A(x)$ be the value of the solution generated. $A(x)\\geq opt(x)$.  \n",
    "**Approximation ratio** for an minimization algorithm, $r(n)$ s.t. all inputs $x$ of size $n, A(x)\\leq r(n)opt(x)$, for maximization algorithm, $r(n)A(x)\\geq opt(x)$.  \n",
    "By the definition, $r(n)\\geq 1$"
   ]
  },
  {
   "cell_type": "markdown",
   "metadata": {},
   "source": [
    "**Example min vertex cover**  \n",
    "Idea 1: Pick vertices greedily by non-increasing degree. (pick one, remove edges connected to the removed vertex). $r(n)\\in O(\\log n)$.  \n",
    "Idea2: repeatedly pick an edge $(u,v)$, remove $u,v$,$C=C\\cup\\{u,v\\}$ and remove all edges attaches to them.  \n",
    "Correctness: all edges are removed as they are covered and algo ends with no edge remaining\n",
    "Runtime: $O(|E|^2)$  \n",
    "**Claim** $r(n)=2$  \n",
    "_proof_  \n",
    "i. $r(n)\\geq 2$: Consider a graph where each edge is matched with a pair of vertices. $2opt(G)=A(G)$  \n",
    "ii. $r(n)\\leq 2$: consider $C=$ `approx_cover(G)` for any $G$. For each pair of vertices in $C$, each pair are non-adjacent does not share any endpoint. Implies that $G$ contains at least $|C/2|$ edges that an disjoint from each other. Therefore, every vertex cover of $G$ must contain at least one endpoint from each edge in $C$. \n",
    "For all vertex cover $C', |C'|\\geq |C|/2 $\n"
   ]
  },
  {
   "cell_type": "markdown",
   "metadata": {},
   "source": [
    "How to find $r(n)$ when $opt$ is unknown.  \n",
    "For minimization problems, find a lower bound $L(x)\\leq opt(x)$, find some other quantities, show that $A(x)\\leq r(n)L(x)$"
   ]
  },
  {
   "cell_type": "markdown",
   "metadata": {},
   "source": [
    "Idea3: \n",
    "- Given $G$, create a linear program:   \n",
    " - variables: $v_1,...,v_n$ for each vertex  \n",
    " - objective function: $\\min{\\sum V}$  \n",
    " - constraint: $\\forall i,j. v_i + v_j \\geq 1; \\forall i. 0\\leq v_i\\leq 1$  \n",
    "Notice that this is not the integer programming, we are allowed to give $v_i$ real number\n",
    "- Solve over $\\mathbb{R}$ so that $v_1^*,...,v_n^*$ is the output of linear programming\n",
    "- output $C=\\{v_i\\in V\\mid v_i^*\\geq 0.5\\}$\n",
    "\n",
    "__Correctness__ For each pair of vertices, one of the vertices is greater than $0.5$ (otherwise they can't resolve the constraint $v_i + v_j \\geq 1$). Hence the output is a vertex cover\n",
    "\n",
    "__Runtime__ poly time since linear programming\n",
    "\n",
    "__Approx. Ratio__  \n",
    "$r(n)\\geq 1.5$: Consider a triangle, the linear programming output $(1/2, 1/2, 1/2)$  \n",
    "$r(n)\\leq 2$: Consider min vertex cover $C'$, $v_1', ...,v_n'$ is the solution of the integer programming of vertex cover problem. Then $\\sum v_i'=|C'|=opt(x)\\geq \\sum v_i^*$  \n",
    "Note that for all vertex cover solutions, $v_i=\\mathbb{I}(x^*\\geq 1/2)$, then $\\sum v_i \\leq 2\\sum x_1^*\\leq 2\\sum v_i'=2|C'|$\n",
    "\n",
    "\n"
   ]
  },
  {
   "cell_type": "markdown",
   "metadata": {},
   "source": [
    "Generally, \n",
    "- VC=2 is the known best), some has non-constant \n",
    "- set-cover ($\\lg n$). \n",
    "- Knapsack $1+\\epsilon.$ run time in $O(n^3/\\epsilon)$\n",
    "- Traveling Salesman Problem (TSP): no finite ratio. "
   ]
  },
  {
   "cell_type": "markdown",
   "metadata": {},
   "source": [
    "#### TSP\n",
    "Input: $G=(V,E)$ undirected complete with $w(e)\\in\\mathbb{R}^+$, some edge has $\\infty$ weight  \n",
    "Output: tour: A Hamiltonian cycle with minimized total weight.\n",
    "\n",
    "__Claim__ NP-hard to approximate TSP with any finite approx ratio.  \n",
    "_proof_  Assume A solves TSP with approx ratio $C$.  \n",
    "Consider input $G=(V,E)$ for the Ham. cycle problem, create input $G'=(V,E')$ for TSP, where $\\forall e\\in E. w(e)=1. \\forall e\\not\\in E. w(e)=Cn + 1$.  \n",
    "Rum A on this input, if $G$ contains a Ham. cycle, then the same cycle is the output for TSP, and has weight $n$. If $G$ has no Ham cycle, then every tour in $G'$ contains at least one edge with weight $Cn+1$, so all tours have total weight $> Cn+1 > Cn$  \n",
    "The output has weight $\\leq Cn$ (since it is an approximation) if $G$ has a Ham cycle and $>Cn$ if G does not have a Ham. cycle. Therefore, no polytime algo for Ham cycle IMPLIES no poly time approx. algo for TSP. "
   ]
  },
  {
   "cell_type": "markdown",
   "metadata": {},
   "source": [
    "#### TSP with triangle inequality\n",
    "```python\n",
    "approx_tsp(G, w):\n",
    "    T = MST in G\n",
    "    # Eulerian tour: go through each edge in M twice, goes around M\n",
    "    tour = construct Eulerian tour of T\n",
    "    # pre-order traversal goes along the tour, \n",
    "    # add each vertex that is not traversed before into the return set\n",
    "    return C:=pre-order_traversal(tour)\n",
    "```\n",
    "__Claim__ $\\forall G$ follows the pre-condition. $r(n)\\leq 2$  \n",
    "_proof_ Let $C^*$ be the optimum tour. Since $T$ is a MST, it has the least total weight. $w(C^*)\\geq w(T)$. Then, consider $C$ and `tour`. $C$ replaces some paths in `tour` with a shorter edge, this replacement is always shorter since the triangle inequality property. Therefore, $w(C)\\leq w(tour)=2w(T)\\leq 2w(C^*)$"
   ]
  },
  {
   "cell_type": "markdown",
   "metadata": {},
   "source": [
    "Note that the lower bound on approx ratio is open - need examples of inputs where $w(C)=2w(C^*)$ or close to it. \n",
    "\n",
    "A similar idea, but starting from a perfect matching in $G$. yields to $r(n)\\leq 1.5$"
   ]
  },
  {
   "cell_type": "markdown",
   "metadata": {},
   "source": [
    "#### KnapSack (0-1, natural number inputs)\n",
    "__Algorithm__ use dynamic programming to find min weight required to achieve total value $v$. => $O(nV), V=\\sum v_i$  \n",
    "Instead of using exact values $v_1,...,v_n$, use scaled values $v_i=$multiple of $\\epsilon^{-1}$. (e.x. $v_1=347,238,947, v_2=434,357,833\\Rightarrow v_1=347,v_2=434$)"
   ]
  }
 ],
 "metadata": {
  "kernelspec": {
   "display_name": "Python 3",
   "language": "python",
   "name": "python3"
  },
  "language_info": {
   "codemirror_mode": {
    "name": "ipython",
    "version": 3
   },
   "file_extension": ".py",
   "mimetype": "text/x-python",
   "name": "python",
   "nbconvert_exporter": "python",
   "pygments_lexer": "ipython3",
   "version": "3.6.8"
  },
  "toc": {
   "base_numbering": 1,
   "nav_menu": {},
   "number_sections": true,
   "sideBar": false,
   "skip_h1_title": false,
   "title_cell": "Table of Contents",
   "title_sidebar": "Contents",
   "toc_cell": false,
   "toc_position": {},
   "toc_section_display": true,
   "toc_window_display": false
  }
 },
 "nbformat": 4,
 "nbformat_minor": 2
}
