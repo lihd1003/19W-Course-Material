{
 "cells": [
  {
   "cell_type": "markdown",
   "metadata": {},
   "source": [
    "3. Show $UP\\in P$ where input $11..1$ is $n$ 1's. Output $n$ is prime.\n",
    "\n",
    "Different from normal algorithm that returns whether a number is prime. The input size is $n$ instead of $\\log m$ where $m$ is the value of the number.\n",
    "\n",
    "\n"
   ]
  },
  {
   "cell_type": "markdown",
   "metadata": {},
   "source": [
    "4. Show $Triangle\\in P$ where input $G$ undirected output whether exists a triangle . \n",
    "\n",
    "There are ${n\\choose 3}=n(n-1)(n-2)/6$ combinations of vertices and check edges take constant time.  "
   ]
  },
  {
   "cell_type": "markdown",
   "metadata": {},
   "source": [
    "5. Show $Clique\\in NP$ where input $G$ undirected, $k\\in\\mathbb{Z}^+$ output whether exists a $k$-clique ($k$ vertices with all edges) in $G$. \n",
    "\n",
    "Given a certificate as $C\\subseteq V$. return $|C|=k\\land \\forall u,v\\in C, (u,v)\\in E$ \n",
    "\n",
    "Obviously can be verified in polytime $(O(n^2))$\n",
    "\n",
    "If $G,k\\in Clique$ then $\\exists C$. If $\\exists C$ then $G,k\\in Clique$. "
   ]
  },
  {
   "cell_type": "markdown",
   "metadata": {},
   "source": [
    "6. $SS\\in NP$ where input $S$ be a set of positive integers, $t\\in\\mathbb{Z}^+$ output $S'\\subseteq S. \\sum S = t$\n",
    "\n",
    "Given a certificate as $S'$ return $S'\\subseteq S\\land \\sum S'=t$"
   ]
  }
 ],
 "metadata": {
  "kernelspec": {
   "display_name": "Python 3",
   "language": "python",
   "name": "python3"
  },
  "language_info": {
   "codemirror_mode": {
    "name": "ipython",
    "version": 3
   },
   "file_extension": ".py",
   "mimetype": "text/x-python",
   "name": "python",
   "nbconvert_exporter": "python",
   "pygments_lexer": "ipython3",
   "version": "3.6.8"
  }
 },
 "nbformat": 4,
 "nbformat_minor": 2
}
