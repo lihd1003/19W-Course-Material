{
 "cells": [
  {
   "cell_type": "markdown",
   "metadata": {},
   "source": [
    "### TUT2 Q1,2"
   ]
  },
  {
   "cell_type": "markdown",
   "metadata": {},
   "source": [
    "1. $D = \\{1, 5, 10, 25\\}. \\forall n \\in \\mathbb{Z}^+$. Let $S$ be a multi-set of elements from $D$ such that $\\sum_{s\\in S} s = n$, minimize $|S|$ <br>"
   ]
  },
  {
   "cell_type": "markdown",
   "metadata": {},
   "source": [
    "_**Implementation**_ \n",
    "```python\n",
    "sequence(n)\n",
    "1     S = []\n",
    "2     while n > 0:\n",
    "3         if n >= 25:\n",
    "4         x = 25\n",
    "5     else if n >= 10:\n",
    "6         x = 10\n",
    "7     else if n >= 5:\n",
    "8         x = 5\n",
    "9     else:\n",
    "10        x = 1\n",
    "11    S.append(x)\n",
    "12    n -= x\n",
    "13    return S\n",
    "```"
   ]
  },
  {
   "cell_type": "markdown",
   "metadata": {},
   "source": [
    "_**Correctness Discussion**_ <br>\n",
    "Let $S^* = \\{s_1^*,...,s_j^*\\}$ be the optimal sequence, let $S_i = \\{s_1,...,s_k\\}$ be the sequence of $S$ after $i$th iteration of the while loop. $S_0=\\emptyset$.\n",
    "\n",
    "Consider the case when $s_m \\neq s^*_m$ for some $m$, then we will show that there are coins in $S^* - S_m$ and not the same value as $s_m$ that makes up to $s_m$, where it will use more coins. \n",
    "\n"
   ]
  },
  {
   "cell_type": "markdown",
   "metadata": {},
   "source": [
    "2. Notice that this algorithm does not work for a general $D = \\{1, d_1,d_2,...,d_k\\}$ where $D$ is strictly increasing. For example, $D=\\{1,3,4\\}. n = 6$. $S = \\{4, 1, 1\\}$ while $S^* = \\{3, 3\\}$"
   ]
  },
  {
   "cell_type": "markdown",
   "metadata": {},
   "source": [
    "### TUT3 Q1,2,3"
   ]
  },
  {
   "cell_type": "markdown",
   "metadata": {},
   "source": [
    "1. Prove $\\forall G$ connected, $|E| \\geq |V|$. if $e$ is the unique minimum cost edge, then $e$ must be in every MST of $G$."
   ]
  },
  {
   "cell_type": "markdown",
   "metadata": {},
   "source": [
    "**Proof** Let $T$ be a MST of $G$ that does not contain $e=(u,v)$, Consider $u\\sim v \\in T$, then $e\\cup u\\sim v$ is a cycle, since $e$ has the unique minimum weight, take out any edge $w \\in u\\sim v$, $w(T-\\{w|\\cup\\{e\\})<w(T)$. By contradiction, claim is proven. "
   ]
  },
  {
   "cell_type": "markdown",
   "metadata": {},
   "source": [
    "2. Prove $\\forall G$ connected, $|E| \\geq |V|$. if $e$ is the unique maximum cost edge, then $e$ must not be in any MST of $G$. Or Disprove by counter-example. "
   ]
  },
  {
   "cell_type": "markdown",
   "metadata": {},
   "source": [
    "**Proof** I'll disprove this claim, take $G$ such that $G'=(V,E-\\{e\\})$ is disconnected, then $e$ is essential to make a spanning tree for $G$."
   ]
  },
  {
   "cell_type": "markdown",
   "metadata": {},
   "source": [
    "3. Prove correctness of reserve-delete algorithm for finding MST. "
   ]
  },
  {
   "cell_type": "markdown",
   "metadata": {},
   "source": [
    "Let $T^*$ be the optimal solution, $T_k$ be the MST in the $i$th iteration of the algorithm, let $T'_k$ be the set of edges that is iterated and not removed. <br>\n",
    "**Claim** $\\forall k\\in\\mathbb{N}. T'_k\\subseteq T^*\\subseteq T_k$<br>\n",
    "\n"
   ]
  }
 ],
 "metadata": {
  "kernelspec": {
   "display_name": "Python 3",
   "language": "python",
   "name": "python3"
  },
  "language_info": {
   "codemirror_mode": {
    "name": "ipython",
    "version": 3
   },
   "file_extension": ".py",
   "mimetype": "text/x-python",
   "name": "python",
   "nbconvert_exporter": "python",
   "pygments_lexer": "ipython3",
   "version": "3.6.7"
  }
 },
 "nbformat": 4,
 "nbformat_minor": 2
}
