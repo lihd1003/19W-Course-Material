{
 "cells": [
  {
   "cell_type": "markdown",
   "metadata": {},
   "source": [
    "pooled two sample t-tests\n",
    " - assume equal population variances\n",
    " - $s^2_p = \\frac{(n_x-1)s_x^2 + (n_y-1)s_y^2}{n_x+n_y-2}$\n",
    " - $t = \\frac{(\\bar{x} - \\bar{y} -D_0)}{\\sqrt{s_p^2(n_x^{-1}+n_y^{-1})}}\\sim t_{(n_x-1)(n_y-1)}$\n"
   ]
  },
  {
   "cell_type": "markdown",
   "metadata": {},
   "source": [
    "#### SLM Dummy variable\n",
    "$Y_i=\\beta_0+\\beta_1X_i + \\epsilon_i$\n",
    "assumptions\n",
    "\n",
    " - linear model is appropriate\n",
    " - $\\epsilon_i \\sim N(0,\\sigma^2)$\n",
    " \n",
    "Hypothesis test:  \n",
    " $H_0:\\beta_1 = 0, H_a:\\beta_1\\neq 0$  \n",
    "$t=b_1/se(b_1)\\sim t_{N-2}$, $N$ is the total number of observations\n",
    "\n",
    "#### One Way ANOVA  & GLM\n",
    "$Y_i=\\vec{X_i}\\vec{\\beta}+\\vec{\\epsilon}$\n",
    " - assumptions: same as dummy variable, jointly normally distributed errors\n",
    " - $F=MSReg/MSE = \\frac{(SSR/G-1)}{SSE/(N-G)}\\sim F_{G-1,N-G}$"
   ]
  },
  {
   "cell_type": "markdown",
   "metadata": {},
   "source": [
    "#### Multiple Comparisons\n",
    "\n",
    "Bonferrroni's Method: \n",
    " - $P(\\cup A_i)\\leq \\sum P(A_i)$\n",
    " - $k= {G \\choose 2}$\n",
    " - level at $a/k$\n",
    "\n",
    "Tukey's Method: less conservative than Bonferroni's method"
   ]
  },
  {
   "cell_type": "markdown",
   "metadata": {},
   "source": [
    "#### Two Way ANOVA\n",
    "Overall vs. Partiral F-tests  \n",
    "$H_0: $ a subset of $\\beta$'s are 0. $H_a: $ some of the $\\beta$ in the subset are not 0.  \n",
    "Let FULL model be with all explanatory variables, REDUCED be without the coefficients in testing.  \n",
    "$F=\\frac{(RSS_r - RSS_f)/\\# \\beta \\text{ tested}}{MSE_f}\\sim F_{\\# \\beta \\text{ tested}, d.f. RES_f}$\n",
    "\n",
    "Describing \"interactions\""
   ]
  },
  {
   "cell_type": "markdown",
   "metadata": {},
   "source": [
    "#### GLM vs. Transformation\n",
    "Transform Y so it has an approximate normal  distribution with constant variance, \n",
    "\n",
    "GLM: distribution of Y not restricted to Normal,  \n",
    "model parameters describe $g(E(Y))$ rather than $E(g(Y))$  \n",
    "GLMs provide a unified theory of modeling that encompasses the most important models for continuous and discrete variables. "
   ]
  },
  {
   "cell_type": "markdown",
   "metadata": {},
   "source": [
    "#### GLM tests\n",
    "Wald  \n",
    "$H_0:\\beta_j = 0, H_a: \\beta_j\\neq 0$  \n",
    "$z=\\hat\\beta_j / se(\\hat\\beta_j)\\sim N(0,1)$.  \n",
    "CI: $\\hat\\beta_j \\pm z_{a/2} se(\\hat\\beta_j)$\n",
    "\n",
    "LRT  \n",
    "$H_0: $ some $beta$ are 0, $H_a: $ at least one tested $\\beta$ is not 0. \n",
    "\n",
    "$$G^2 = (-2\\log \\mathcal L_R) - (-2\\log \\mathcal L_F) = -2\\log (\\mathcal L_R / \\mathcal L_F)\\sim \\chi^2_k$$ $k= \\# \\beta$ tested\n",
    "\n",
    "Global LRT  \n",
    "LRT comparing to the NULL model (null deviance)\n"
   ]
  },
  {
   "cell_type": "markdown",
   "metadata": {},
   "source": [
    "#### AIC, BIC\n",
    "- combines log-likelihood with a penalty \n",
    "- $AIC = -2\\log\\mathcal L + 2(p+1)$\n",
    "- $BIC =  -2\\log\\mathcal L + \\log N(p+1)$\n",
    "- $p$ number of explanatory variables, $N$ sample size\n",
    "- Smaller is better\n",
    "- Better = $diff(AIC) > 10$\n",
    "- Same = $diff(AIC) < 2$"
   ]
  },
  {
   "cell_type": "markdown",
   "metadata": {},
   "source": [
    "#### SLR vs. Binary LR\n",
    " - both use MLE\n",
    " \n",
    " - Binary LR has fewer assumptions \n",
    "  - no outelires\n",
    "  - no residual plots\n",
    "  - non constant variance "
   ]
  },
  {
   "cell_type": "markdown",
   "metadata": {},
   "source": [
    "#### Binary Logistic Regression\n",
    "\n",
    "underlying distribution for each independent observation: $Bernoulli(\\pi_i)$\n",
    "\n",
    "We cannot estimate $\\pi_i$ for individual $i$. \n",
    "\n",
    "- Let $\\pi = P(success)$, \n",
    "- ODDS: $\\pi/(1-\\pi)$\n",
    "- LOG ODDS: $\\log(\\pi/(1-\\pi))$\n",
    "- ODDS RATIO is the ratio of two ODDS\n",
    "\n",
    "$E(Y\\mid X)=\\pi, var(Y\\mid X) = \\pi(1-\\pi)$\n",
    "\n",
    "The model\n",
    "$$\\log(\\pi/(1-\\pi)) = X\\beta$$\n",
    "$$\\log(\\frac{\\pi_i}{1-\\pi_i}) = X_i\\beta$$ (no error term)\n",
    "\n",
    "MLE:\n",
    "$P(Y_i=y_i)=\\pi_i^{y_i}(1-\\pi_i)^{1-y_i}$\n",
    "$$\\mathcal{L} = \\prod_1^n\\pi_i^{y_i}(1-\\pi_i)^{1-y_i}$$\n",
    "where $\\pi_i = \\frac{\\exp(X_i\\beta)}{1+\\exp(X_i\\beta)}=e^{\\mu}/(1+e^\\mu)$\n",
    "and $$1-\\mu_i = 1-\\frac{e^\\mu}{1+e^\\mu} = (1+e^\\mu)^{-1}$$\n",
    "\n",
    "$$\\log\\mathcal{L} = \\\\\n",
    "\\sum_1^ny_i(X_i\\beta) - y_i\\log(1+\\exp(X_i\\beta))-(1-y_i)\\log(1+X_i\\beta))$$\n",
    "\n",
    "Let $(a,b)$ be CI, CI for Odds ratio is $e^a, e^b$, while we cannot compute CI for $\\pi$ since $\\pi$ is not normally distributed\n",
    "\n",
    "Assumptions:\n",
    " - underlying model for Y is Bernoulli\n",
    " - independent observations\n",
    " - Correct form of model (linear relationship, included all relevant variables and excluded irrelevant)\n",
    " - enough large sample size"
   ]
  },
  {
   "cell_type": "markdown",
   "metadata": {},
   "source": [
    "#### Binomial Logistic Regression \n",
    "Let $Y$ be the count of the number of \"success\" \n",
    "\n",
    "$P(Y=y)={m\\choose y}\\pi^y (1-\\pi)^{m-y}$\n",
    "\n",
    "$E(Y)=m\\pi, var(Y)=m\\pi(1-\\pi)$\n",
    "\n",
    "Then the proportion of successes \n",
    "$E(Y/m)=\\pi, var(Y/m)=\\pi(1-\\pi)/m$\n",
    "\n",
    "Assume for each group of observation, it is independent. \n",
    "\n",
    "We can estimate $\\pi_i$ is this case\n",
    "\n",
    "MLE:  \n",
    "$$P(Y_i=y_i) = {m_i\\choose y_i}\\pi^{y_i}(1-\\pi_i)^{m_i-y_i}$$\n",
    "$$\\mathcal L = \\prod_1^n {m_i\\choose y_i}\\pi^{y_i}(1-\\pi_i)^{m_i-y_i}$$ where $\\pi_i = \\frac{e^\\mu}{1+e^\\mu}$\n",
    "$$\\log\\mathcal L = \\sum y_i\\log(\\pi_i)+(m_i-y_i)\\log(1-\\pi_i) + \\log{m_i\\choose y_i}$$\n",
    "\n",
    "Deviance $=-2\\log(\\mathcal L_M/\\mathcal L_S) = -2(\\log \\mathcal L_M - \\log \\mathcal L_S)$. \n",
    "\n",
    "Saturated model has log likelihood ratio 0. "
   ]
  },
  {
   "cell_type": "markdown",
   "metadata": {},
   "source": [
    "#### Logistic Regression Problems\n",
    "- Extrapolation: model outside of range of observed data may not be appropriate\n",
    "- Multicollinearity\n",
    " - unstable fitted equation\n",
    " - coefficient significance and signs\n",
    " - large standard error of coefficients\n",
    " - MLR may not converge\n",
    "- Influential points\n",
    "\n",
    "Specific to logistic \n",
    " - Complete separation\n",
    "  - one of a linear combination of explanatory variables perfectly predict $Y$, then MLE cannot be computed\n",
    " - Quasi-complete separation\n",
    "  - almost perfectly predict Y\n",
    " __Solution__ simplify model, or try other options\n",
    " \n",
    "Extra-binomial variation\n",
    " - when Bernoulli observations are not independent\n",
    " - use quasibinomial \n",
    " - model for variance: $var(Y_i)=\\phi m_i \\pi_i(1-\\pi_i)$\n",
    " - $\\hat\\phi = $ sum of squared Pearson residuals / d.f. "
   ]
  },
  {
   "cell_type": "markdown",
   "metadata": {},
   "source": [
    "#### GOF\n",
    "To check model adequacy using LRT\n",
    "\n",
    "$H_0: $ fitted model fits data as well as Saturated model. $H_a: $ saturated model is better, the fitted model is inadequate \n",
    "\n",
    "$G^2 = -2\\log(\\mathcal L_F /\\mathcal L_S)\\sim \\chi^2_{n-(p+1)}$"
   ]
  },
  {
   "cell_type": "markdown",
   "metadata": {},
   "source": [
    "#### Log linear Model\n",
    "- Why not linear\n",
    " - outcome is counts and small numbers\n",
    " - Won't have a normal distribution conditional on age\n",
    "- Why no logistic\n",
    " - Not a binary outcome\n",
    " - Not a binomial outcome since not a fixed number of trials\n",
    " \n",
    "$P(Y=y)=\\mu^y e^{-\\mu} / y!, E(Y)=var(Y)=\\mu$\n",
    "\n",
    "$$\\mathcal L = \\prod_1^n \\mu_i^{y_i} e^{-\\mu_i} / y_i!$$\n",
    "$$\\log\\mathcal L = \\sum_1^n y_i \\log (\\mu_i) -\\mu_i - \\log(y_i!)$$"
   ]
  },
  {
   "cell_type": "markdown",
   "metadata": {},
   "source": [
    "#### Two Factor Independence\n",
    "__Binomial Sampling__  \n",
    "For $2\\times 2$ table  \n",
    "$H_0: \\mu_a = \\mu_b, H_a: \\mu_a\\neq \\mu_b$\n",
    "$$z=\\frac{\\hat\\mu_a - \\hat\\mu_b}{se(\\hat\\mu_a - \\hat\\mu_b)}\\sim N(0,1)$$\n",
    "Assumption: \n",
    " - each trial is a Bernoulli\n",
    " - the number of groups are fixed\n",
    " - The underlying distribution is $y_a\\sim binomial(n_a, \\pi_a), y_b\\sim binomial(n_b, \\pi_b)$\n",
    "\n"
   ]
  },
  {
   "cell_type": "markdown",
   "metadata": {},
   "source": [
    "__Contingency Table__\n",
    "test statistics $\\chi^2 = \\sum_j\\sum_i (y_{ij} - \\hat\\mu_{ij})^2 / \\hat\\mu_{ij}\\sim \\chi^2_{(I-1)(J-1)}$ where $\\hat\\mu_{ij} = \\pi_{i.}\\pi_{.j}/n$\n",
    "\n",
    "Contingency table model:  \n",
    "$Y_{ij}$ be the r.v. representing the number of observations in the cell  \n",
    "$y_{ij}$ be the observed cell counts\n",
    "\n",
    "The underlying distribution of $Y=(Y_{11},...,Y_{nn})\\sim Multinomial$\n",
    "$$P(Y=y)=\\frac{n!}{y_{11}!...y_{nn}!} \\prod_{i,j}\\pi_{ij}^{y_{ij}}$$\n",
    "\n",
    "Using MLE subjecting to $\\sum_{ij}\\pi_{ij} = 1$, we get $\\hat\\mu_{ij} = y_{ij} / n$\n",
    "\n",
    "With null hypothesis of independence we can get $\\hat\\mu_{ij} = \\hat\\mu_{i.}\\hat\\mu_{.j}$\n",
    "Then we can use LRT where the full model contains the interaction terms\n",
    "$$\\log\\mathcal L_F = \\sum_{ij}y_{ij}\\log(y_{ij}/n)$$\n",
    "$$\\log\\mathcal L_R = \\sum_{ij}y_{ij}\\log(y_{i.}y_{.j}/nn)$$\n",
    "\n",
    "$$d.f. = (IJ-1)-(I+J-2)$$ \n",
    "lose 1 for constraint $\\sum_{ij}\\pi_{ij} = 1$, lose 2 for constraints $\\sum_i \\pi_{i.}=1,\\sum_j\\pi_{.j}=1$"
   ]
  },
  {
   "cell_type": "markdown",
   "metadata": {},
   "source": [
    "#### Fisher's Exact Test\n",
    "- randomization test\n",
    "- appropriate for small sample size\n",
    "- assumes the row and column totals are fixed\n",
    "- p-value is calculated from hypergeometrix distribution\n",
    "$$P=\\frac{{a+b\\choose a}{c+d\\choose c}}{{n\\choose a+c}}$$"
   ]
  },
  {
   "cell_type": "markdown",
   "metadata": {},
   "source": [
    "__Poisson Regression__\n",
    "- counts aren't fixed\n",
    "- treat IJ count as realizations of a Possion random variable\n",
    "\n",
    "Compare the interactions term\n",
    "\n",
    "Three-way interactions\n",
    " - complete independence: does not have any interaction terms\n",
    " - block independence: joint probability of two factors (say A,B) is independent of the third (C). Then include the interaction term between $AB$\n",
    " - partial independence: $P(AB\\mid C)=P(A\\mid C)P(B\\mid C)$, AB are conditionally independent on $C$. Include interactions between $AC,BC$\n",
    " - Uniform association: include all two-way interactions\n",
    " - Saturated model: include three-way interactions\n",
    "\n"
   ]
  }
 ],
 "metadata": {
  "kernelspec": {
   "display_name": "R",
   "language": "R",
   "name": "ir"
  },
  "language_info": {
   "codemirror_mode": "r",
   "file_extension": ".r",
   "mimetype": "text/x-r-source",
   "name": "R",
   "pygments_lexer": "r",
   "version": "3.5.2"
  }
 },
 "nbformat": 4,
 "nbformat_minor": 2
}
