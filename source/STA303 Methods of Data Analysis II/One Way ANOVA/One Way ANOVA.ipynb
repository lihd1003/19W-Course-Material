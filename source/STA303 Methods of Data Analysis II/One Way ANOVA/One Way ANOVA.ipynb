{
 "cells": [
  {
   "cell_type": "markdown",
   "metadata": {},
   "source": [
    "#### Linear Regression Model \n",
    " - $Y_{N\\times 1}=X_{N\\times(p+1)}\\beta_{(p+1)\\times 1} + \\epsilon_{N\\times 1}$, response $Y$ continuous, explanatory $X$ categorical and/or continuous \n",
    " - $Y$ is linear in the $\\beta$'s i.e. no predictor is a linear function or combination of other predictors\n",
    " - $\\hat{\\beta}=(X'X)^{-1}X'Y$ Least square Estimate, need$rank(X'X)=rank(X)\\Rightarrow$ columns of $X$ must be linear independent\n",
    " - Null hypothesis $H_0: \\beta = \\vec{0}$. Assumptions\n",
    "  - Appropriate Linear Model\n",
    "  - Uncorrelated Errors\n",
    "  - $\\vec{\\epsilon}\\sim N(\\vec{0},\\sigma^2I)$. \n",
    " - Sum of Squares Decomposition \n",
    " $$SST=SSE+SSR\\\\\n",
    " \\sum_i^N(Y_i-\\bar{Y})^2 = \\sum_i^N (Y_i-\\hat{Y}_i)^2 + \\sum_i^N(\\hat{Y}_i - \\bar{Y})^2$$\n",
    " "
   ]
  },
  {
   "cell_type": "markdown",
   "metadata": {},
   "source": [
    "#### One-Way ANOVA\n",
    "- Need one factor (categorical variable) with at least 2 levels $(G\\geq 2)$\n",
    "- Aim: Compare $G$ group means\n",
    "    $$H_0:\\mu_1=\\mu_2=...=\\mu_G, H_a:\\exists i\\neq j. \\mu_i\\neq \\mu_j$$\n",
    "- Predictors are indicator variables that classify the observations one way (into $G$ groups)\n",
    " - special case of a general linear model\n",
    " - equivalent to GLM with one-way classification (one factor)\n",
    " - GLM uses $G-1$ dummy variables\n",
    "- ANOVA: compare means by analyzing variability"
   ]
  },
  {
   "cell_type": "markdown",
   "metadata": {},
   "source": [
    "#### One Way Expectations and Estimates\n",
    "\n",
    "$E(Y_i)=(\\beta_0 + \\beta_1,...,\\beta_0 +\\beta_{G-1}, \\beta_0)^T$ <br>\n",
    "$\\hat{Y}_i = (b_0+b_1,...,b_0 + b_{G-1}, b_0)^T$ <br>\n",
    "$\\hat{\\beta} = (b_0,...,b_{G-1})^T = (\\bar{y}_G, \\bar{y}_1-\\bar{y}_G,...,\\bar{y}_{G-1}-\\bar{y}_G)^T$\n",
    "\n",
    "Then, the null hypothesis is $H_0: \\beta_i=\\mu_i-\\mu_0 = 0\\Rightarrow$ the equal mean of $i$th group and the compared group\n",
    "\n",
    "In this case, for $SST$, $N=\\sum_1^G n_i,\\hat{Y}_i=$ mean of observations for group $g$ from which the $i$th observation belongs, $\\bar{Y}=\\frac{\\sum_{g=1}^{G}\\sum_{j=1}^{n_g} y_{gj}}{N}$ is the grand mean \n",
    "\n",
    "$$SSReg = \\sum_{g=1}^G n_g(\\bar{Y}_g-\\bar{Y})^2 \\\\\n",
    "RSS = \\sum_{g=1}^G \\sum_{g} (Y_i-\\bar{Y}_g)^2$$"
   ]
  },
  {
   "cell_type": "markdown",
   "metadata": {},
   "source": [
    "#### Case Study"
   ]
  },
  {
   "cell_type": "code",
   "execution_count": 2,
   "metadata": {},
   "outputs": [],
   "source": [
    "# import data\n",
    "library(Sleuth2)\n",
    "jury = case0502\n",
    "percent = case0502$Percent\n",
    "judge = case0502$Judge"
   ]
  },
  {
   "cell_type": "code",
   "execution_count": 3,
   "metadata": {},
   "outputs": [
    {
     "data": {
      "text/plain": [
       "judge\n",
       "Spock's       A       B       C       D       E       F \n",
       "      9       5       6       9       2       6       9 "
      ]
     },
     "metadata": {},
     "output_type": "display_data"
    }
   ],
   "source": [
    "table(judge)"
   ]
  },
  {
   "cell_type": "code",
   "execution_count": 4,
   "metadata": {},
   "outputs": [
    {
     "data": {
      "text/html": [
       "<dl class=dl-horizontal>\n",
       "\t<dt>Spock's</dt>\n",
       "\t\t<dd>14.6222224235535</dd>\n",
       "\t<dt>A</dt>\n",
       "\t\t<dd>34.1199996948242</dd>\n",
       "\t<dt>B</dt>\n",
       "\t\t<dd>33.6166664759318</dd>\n",
       "\t<dt>C</dt>\n",
       "\t\t<dd>29.0999997456868</dd>\n",
       "\t<dt>D</dt>\n",
       "\t\t<dd>27</dd>\n",
       "\t<dt>E</dt>\n",
       "\t\t<dd>26.9666668574015</dd>\n",
       "\t<dt>F</dt>\n",
       "\t\t<dd>26.800000084771</dd>\n",
       "</dl>\n"
      ],
      "text/latex": [
       "\\begin{description*}\n",
       "\\item[Spock's] 14.6222224235535\n",
       "\\item[A] 34.1199996948242\n",
       "\\item[B] 33.6166664759318\n",
       "\\item[C] 29.0999997456868\n",
       "\\item[D] 27\n",
       "\\item[E] 26.9666668574015\n",
       "\\item[F] 26.800000084771\n",
       "\\end{description*}\n"
      ],
      "text/markdown": [
       "Spock's\n",
       ":   14.6222224235535A\n",
       ":   34.1199996948242B\n",
       ":   33.6166664759318C\n",
       ":   29.0999997456868D\n",
       ":   27E\n",
       ":   26.9666668574015F\n",
       ":   26.800000084771\n",
       "\n"
      ],
      "text/plain": [
       " Spock's        A        B        C        D        E        F \n",
       "14.62222 34.12000 33.61667 29.10000 27.00000 26.96667 26.80000 "
      ]
     },
     "metadata": {},
     "output_type": "display_data"
    }
   ],
   "source": [
    "with(jury, tapply(percent, judge, mean))"
   ]
  },
  {
   "cell_type": "markdown",
   "metadata": {},
   "source": [
    "#### Compare 6 judges (exclude Spock)"
   ]
  },
  {
   "cell_type": "code",
   "execution_count": 29,
   "metadata": {},
   "outputs": [
    {
     "data": {
      "image/png": "[encoded data removed]",
      "text/plain": [
       "plot without title"
      ]
     },
     "metadata": {},
     "output_type": "display_data"
    }
   ],
   "source": [
    "others = subset(jury, judge != \"Spock's\") \n",
    "boxplot(others$Percent~others$Judge, data=others)"
   ]
  },
  {
   "cell_type": "code",
   "execution_count": 33,
   "metadata": {},
   "outputs": [
    {
     "data": {
      "text/plain": [
       "             Df Sum Sq Mean Sq F value Pr(>F)\n",
       "others$Judge  5  326.5   65.29   1.218  0.324\n",
       "Residuals    31 1661.3   53.59               "
      ]
     },
     "metadata": {},
     "output_type": "display_data"
    }
   ],
   "source": [
    "summary(aov(others$Percent~others$Judge))"
   ]
  },
  {
   "cell_type": "markdown",
   "metadata": {},
   "source": [
    "##### Rule of thumb\n",
    "Not a formal way, not a quick check whether equal variance"
   ]
  },
  {
   "cell_type": "code",
   "execution_count": 35,
   "metadata": {},
   "outputs": [
    {
     "data": {
      "text/html": [
       "<dl class=dl-horizontal>\n",
       "\t<dt>Spock's</dt>\n",
       "\t\t<dd>&lt;NA&gt;</dd>\n",
       "\t<dt>A</dt>\n",
       "\t\t<dd>11.9418181005452</dd>\n",
       "\t<dt>B</dt>\n",
       "\t\t<dd>6.58222301297842</dd>\n",
       "\t<dt>C</dt>\n",
       "\t\t<dd>4.59292918339244</dd>\n",
       "\t<dt>D</dt>\n",
       "\t\t<dd>3.81837769736668</dd>\n",
       "\t<dt>E</dt>\n",
       "\t\t<dd>9.01014223675898</dd>\n",
       "\t<dt>F</dt>\n",
       "\t\t<dd>5.96887758208529</dd>\n",
       "</dl>\n"
      ],
      "text/latex": [
       "\\begin{description*}\n",
       "\\item[Spock's] <NA>\n",
       "\\item[A] 11.9418181005452\n",
       "\\item[B] 6.58222301297842\n",
       "\\item[C] 4.59292918339244\n",
       "\\item[D] 3.81837769736668\n",
       "\\item[E] 9.01014223675898\n",
       "\\item[F] 5.96887758208529\n",
       "\\end{description*}\n"
      ],
      "text/markdown": [
       "Spock's\n",
       ":   &lt;NA&gt;A\n",
       ":   11.9418181005452B\n",
       ":   6.58222301297842C\n",
       ":   4.59292918339244D\n",
       ":   3.81837769736668E\n",
       ":   9.01014223675898F\n",
       ":   5.96887758208529\n",
       "\n"
      ],
      "text/plain": [
       "  Spock's         A         B         C         D         E         F \n",
       "       NA 11.941818  6.582223  4.592929  3.818378  9.010142  5.968878 "
      ]
     },
     "metadata": {},
     "output_type": "display_data"
    }
   ],
   "source": [
    "sss <- with(others, tapply(others$Percent, others$Judge, sd))\n",
    "sss"
   ]
  },
  {
   "cell_type": "code",
   "execution_count": 53,
   "metadata": {},
   "outputs": [
    {
     "data": {
      "text/html": [
       "11.9418181005452"
      ],
      "text/latex": [
       "11.9418181005452"
      ],
      "text/markdown": [
       "11.9418181005452"
      ],
      "text/plain": [
       "[1] 11.94182"
      ]
     },
     "metadata": {},
     "output_type": "display_data"
    }
   ],
   "source": [
    "max(sss, na.rm=T)"
   ]
  },
  {
   "cell_type": "code",
   "execution_count": 38,
   "metadata": {},
   "outputs": [
    {
     "data": {
      "text/html": [
       "3.81837769736668"
      ],
      "text/latex": [
       "3.81837769736668"
      ],
      "text/markdown": [
       "3.81837769736668"
      ],
      "text/plain": [
       "[1] 3.818378"
      ]
     },
     "metadata": {},
     "output_type": "display_data"
    }
   ],
   "source": [
    "min(sss, na.rm=T)"
   ]
  },
  {
   "cell_type": "code",
   "execution_count": 39,
   "metadata": {},
   "outputs": [
    {
     "data": {
      "text/html": [
       "TRUE"
      ],
      "text/latex": [
       "TRUE"
      ],
      "text/markdown": [
       "TRUE"
      ],
      "text/plain": [
       "[1] TRUE"
      ]
     },
     "metadata": {},
     "output_type": "display_data"
    }
   ],
   "source": [
    "max(sss, na.rm=T) / min(sss, na.rm=T) > 2"
   ]
  },
  {
   "cell_type": "code",
   "execution_count": 41,
   "metadata": {},
   "outputs": [
    {
     "data": {
      "text/plain": [
       "\n",
       "\tBartlett test of homogeneity of variances\n",
       "\n",
       "data:  others$Percent and others$Judge\n",
       "Bartlett's K-squared = 6.3125, df = 5, p-value = 0.277\n"
      ]
     },
     "metadata": {},
     "output_type": "display_data"
    }
   ],
   "source": [
    "bartlett.test(others$Percent, others$Judge)"
   ]
  },
  {
   "cell_type": "markdown",
   "metadata": {},
   "source": [
    "The small p-value may due to the uneven and small group sizes"
   ]
  },
  {
   "cell_type": "markdown",
   "metadata": {},
   "source": [
    "#### Compare all 7 judges"
   ]
  },
  {
   "cell_type": "code",
   "execution_count": 43,
   "metadata": {},
   "outputs": [
    {
     "data": {
      "image/png": "[encoded data removed]",
      "text/plain": [
       "plot without title"
      ]
     },
     "metadata": {},
     "output_type": "display_data"
    }
   ],
   "source": [
    "boxplot(percent~judge)"
   ]
  },
  {
   "cell_type": "code",
   "execution_count": 44,
   "metadata": {},
   "outputs": [
    {
     "data": {
      "text/plain": [
       "            Df Sum Sq Mean Sq F value  Pr(>F)    \n",
       "judge        6   1927   321.2   6.718 6.1e-05 ***\n",
       "Residuals   39   1864    47.8                    \n",
       "---\n",
       "Signif. codes:  0 '***' 0.001 '**' 0.01 '*' 0.05 '.' 0.1 ' ' 1"
      ]
     },
     "metadata": {},
     "output_type": "display_data"
    }
   ],
   "source": [
    "summary(aov(percent~judge))"
   ]
  },
  {
   "cell_type": "code",
   "execution_count": 45,
   "metadata": {},
   "outputs": [
    {
     "data": {
      "text/plain": [
       "\n",
       "Call:\n",
       "lm(formula = percent ~ judge)\n",
       "\n",
       "Residuals:\n",
       "    Min      1Q  Median      3Q     Max \n",
       "-17.320  -4.367  -0.250   3.319  14.780 \n",
       "\n",
       "Coefficients:\n",
       "            Estimate Std. Error t value Pr(>|t|)    \n",
       "(Intercept)   14.622      2.305   6.344 1.72e-07 ***\n",
       "judgeA        19.498      3.857   5.056 1.05e-05 ***\n",
       "judgeB        18.994      3.644   5.212 6.39e-06 ***\n",
       "judgeC        14.478      3.259   4.442 7.15e-05 ***\n",
       "judgeD        12.378      5.405   2.290 0.027513 *  \n",
       "judgeE        12.344      3.644   3.388 0.001623 ** \n",
       "judgeF        12.178      3.259   3.736 0.000597 ***\n",
       "---\n",
       "Signif. codes:  0 '***' 0.001 '**' 0.01 '*' 0.05 '.' 0.1 ' ' 1\n",
       "\n",
       "Residual standard error: 6.914 on 39 degrees of freedom\n",
       "Multiple R-squared:  0.5083,\tAdjusted R-squared:  0.4326 \n",
       "F-statistic: 6.718 on 6 and 39 DF,  p-value: 6.096e-05\n"
      ]
     },
     "metadata": {},
     "output_type": "display_data"
    }
   ],
   "source": [
    "summary(lm(percent~judge))"
   ]
  },
  {
   "cell_type": "code",
   "execution_count": 59,
   "metadata": {},
   "outputs": [
    {
     "data": {
      "image/png": "[encoded data removed]",
      "text/plain": [
       "Plot with title \"\""
      ]
     },
     "metadata": {},
     "output_type": "display_data"
    }
   ],
   "source": [
    "par(mfrow=c(2,2))\n",
    "plot(lm(percent~judge))"
   ]
  },
  {
   "cell_type": "code",
   "execution_count": 55,
   "metadata": {},
   "outputs": [
    {
     "data": {
      "text/html": [
       "<dl class=dl-horizontal>\n",
       "\t<dt>Spock's</dt>\n",
       "\t\t<dd>5.03879411343757</dd>\n",
       "\t<dt>A</dt>\n",
       "\t\t<dd>11.9418181005452</dd>\n",
       "\t<dt>B</dt>\n",
       "\t\t<dd>6.58222301297842</dd>\n",
       "\t<dt>C</dt>\n",
       "\t\t<dd>4.59292918339244</dd>\n",
       "\t<dt>D</dt>\n",
       "\t\t<dd>3.81837769736668</dd>\n",
       "\t<dt>E</dt>\n",
       "\t\t<dd>9.01014223675898</dd>\n",
       "\t<dt>F</dt>\n",
       "\t\t<dd>5.96887758208529</dd>\n",
       "</dl>\n"
      ],
      "text/latex": [
       "\\begin{description*}\n",
       "\\item[Spock's] 5.03879411343757\n",
       "\\item[A] 11.9418181005452\n",
       "\\item[B] 6.58222301297842\n",
       "\\item[C] 4.59292918339244\n",
       "\\item[D] 3.81837769736668\n",
       "\\item[E] 9.01014223675898\n",
       "\\item[F] 5.96887758208529\n",
       "\\end{description*}\n"
      ],
      "text/markdown": [
       "Spock's\n",
       ":   5.03879411343757A\n",
       ":   11.9418181005452B\n",
       ":   6.58222301297842C\n",
       ":   4.59292918339244D\n",
       ":   3.81837769736668E\n",
       ":   9.01014223675898F\n",
       ":   5.96887758208529\n",
       "\n"
      ],
      "text/plain": [
       "  Spock's         A         B         C         D         E         F \n",
       " 5.038794 11.941818  6.582223  4.592929  3.818378  9.010142  5.968878 "
      ]
     },
     "metadata": {},
     "output_type": "display_data"
    }
   ],
   "source": [
    "ssa = with(jury, tapply(percent,judge,sd))\n",
    "ssa"
   ]
  },
  {
   "cell_type": "code",
   "execution_count": 56,
   "metadata": {},
   "outputs": [
    {
     "data": {
      "text/html": [
       "TRUE"
      ],
      "text/latex": [
       "TRUE"
      ],
      "text/markdown": [
       "TRUE"
      ],
      "text/plain": [
       "[1] TRUE"
      ]
     },
     "metadata": {},
     "output_type": "display_data"
    }
   ],
   "source": [
    "max(ssa) / min(ssa) > 2"
   ]
  },
  {
   "cell_type": "code",
   "execution_count": 57,
   "metadata": {},
   "outputs": [
    {
     "data": {
      "text/plain": [
       "\n",
       "\tBartlett test of homogeneity of variances\n",
       "\n",
       "data:  percent by judge\n",
       "Bartlett's K-squared = 7.7582, df = 6, p-value = 0.2564\n"
      ]
     },
     "metadata": {},
     "output_type": "display_data"
    }
   ],
   "source": [
    "bartlett.test(percent~judge)"
   ]
  },
  {
   "cell_type": "markdown",
   "metadata": {},
   "source": [
    "- Residual vs Fitted: No obvious pattern, assume equal variance (also by rule of thumb and Bartlett)\n",
    "- Normal Q-Q: overall OK\n",
    "- Outliers: see Residual vs leverage, not influential point. "
   ]
  },
  {
   "cell_type": "markdown",
   "metadata": {},
   "source": [
    "<img src=\"normalqq.png\">"
   ]
  }
 ],
 "metadata": {
  "hide_input": false,
  "kernelspec": {
   "display_name": "R",
   "language": "R",
   "name": "ir"
  },
  "language_info": {
   "codemirror_mode": "r",
   "file_extension": ".r",
   "mimetype": "text/x-r-source",
   "name": "R",
   "pygments_lexer": "r",
   "version": "3.5.2"
  }
 },
 "nbformat": 4,
 "nbformat_minor": 2
}
