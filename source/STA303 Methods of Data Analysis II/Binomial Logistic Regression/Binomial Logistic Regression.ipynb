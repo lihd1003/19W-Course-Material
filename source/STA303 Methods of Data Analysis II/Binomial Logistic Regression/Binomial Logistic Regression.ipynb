{
 "cells": [
  {
   "cell_type": "markdown",
   "metadata": {},
   "source": [
    "#### $Y\\sim Binomial(m, \\pi)$\n",
    "$P(Y=y)={m\\choose y} \\pi^y (1-\\pi)^{m-y}$\n",
    "v.s. Bernoulli => $\\pi$ remains the same in binomial, while in Bernoulli case it is independent for each $X_i$\n",
    "\n",
    "$E(Y)=m\\pi$, $var(Y)=m\\pi(1-\\pi)$"
   ]
  },
  {
   "cell_type": "markdown",
   "metadata": {},
   "source": [
    "Consider modelling $Y.m$ be the proportion of success out of $m$ independent Bernoulli trials \n",
    "$E(Y/m)=\\pi, var(Y/m)=\\pi(1-\\pi)/m$"
   ]
  },
  {
   "cell_type": "code",
   "execution_count": 1,
   "metadata": {},
   "outputs": [
    {
     "data": {
      "text/html": [
       "<table>\n",
       "<thead><tr><th scope=col>Island</th><th scope=col>Area</th><th scope=col>AtRisk</th><th scope=col>Extinct</th></tr></thead>\n",
       "<tbody>\n",
       "\t<tr><td>Ulkokrunni     </td><td>185.80         </td><td>75             </td><td> 5             </td></tr>\n",
       "\t<tr><td>Maakrunni      </td><td>105.80         </td><td>67             </td><td> 3             </td></tr>\n",
       "\t<tr><td>Ristikari      </td><td> 30.70         </td><td>66             </td><td>10             </td></tr>\n",
       "\t<tr><td>Isonkivenletto </td><td>  8.50         </td><td>51             </td><td> 6             </td></tr>\n",
       "\t<tr><td>Hietakraasukka </td><td>  4.80         </td><td>28             </td><td> 3             </td></tr>\n",
       "\t<tr><td>Kraasukka      </td><td>  4.50         </td><td>20             </td><td> 4             </td></tr>\n",
       "\t<tr><td>Lansiletto     </td><td>  4.30         </td><td>43             </td><td> 8             </td></tr>\n",
       "\t<tr><td>Pihlajakari    </td><td>  3.60         </td><td>31             </td><td> 3             </td></tr>\n",
       "\t<tr><td>Tyni           </td><td>  2.60         </td><td>28             </td><td> 5             </td></tr>\n",
       "\t<tr><td>Tasasenletto   </td><td>  1.70         </td><td>32             </td><td> 6             </td></tr>\n",
       "\t<tr><td>Raiska         </td><td>  1.20         </td><td>30             </td><td> 8             </td></tr>\n",
       "\t<tr><td>Pohjanletto    </td><td>  0.70         </td><td>20             </td><td> 2             </td></tr>\n",
       "\t<tr><td>Toro           </td><td>  0.70         </td><td>31             </td><td> 9             </td></tr>\n",
       "\t<tr><td>Luusiletto     </td><td>  0.60         </td><td>16             </td><td> 5             </td></tr>\n",
       "\t<tr><td>Vatunginletto  </td><td>  0.40         </td><td>15             </td><td> 7             </td></tr>\n",
       "\t<tr><td>Vatunginnokka  </td><td>  0.30         </td><td>33             </td><td> 8             </td></tr>\n",
       "\t<tr><td>Tiirakari      </td><td>  0.20         </td><td>40             </td><td>13             </td></tr>\n",
       "\t<tr><td>Ristikarenletto</td><td>  0.07         </td><td> 6             </td><td> 3             </td></tr>\n",
       "</tbody>\n",
       "</table>\n"
      ],
      "text/latex": [
       "\\begin{tabular}{r|llll}\n",
       " Island & Area & AtRisk & Extinct\\\\\n",
       "\\hline\n",
       "\t Ulkokrunni      & 185.80          & 75              &  5             \\\\\n",
       "\t Maakrunni       & 105.80          & 67              &  3             \\\\\n",
       "\t Ristikari       &  30.70          & 66              & 10             \\\\\n",
       "\t Isonkivenletto  &   8.50          & 51              &  6             \\\\\n",
       "\t Hietakraasukka  &   4.80          & 28              &  3             \\\\\n",
       "\t Kraasukka       &   4.50          & 20              &  4             \\\\\n",
       "\t Lansiletto      &   4.30          & 43              &  8             \\\\\n",
       "\t Pihlajakari     &   3.60          & 31              &  3             \\\\\n",
       "\t Tyni            &   2.60          & 28              &  5             \\\\\n",
       "\t Tasasenletto    &   1.70          & 32              &  6             \\\\\n",
       "\t Raiska          &   1.20          & 30              &  8             \\\\\n",
       "\t Pohjanletto     &   0.70          & 20              &  2             \\\\\n",
       "\t Toro            &   0.70          & 31              &  9             \\\\\n",
       "\t Luusiletto      &   0.60          & 16              &  5             \\\\\n",
       "\t Vatunginletto   &   0.40          & 15              &  7             \\\\\n",
       "\t Vatunginnokka   &   0.30          & 33              &  8             \\\\\n",
       "\t Tiirakari       &   0.20          & 40              & 13             \\\\\n",
       "\t Ristikarenletto &   0.07          &  6              &  3             \\\\\n",
       "\\end{tabular}\n"
      ],
      "text/markdown": [
       "\n",
       "| Island | Area | AtRisk | Extinct |\n",
       "|---|---|---|---|\n",
       "| Ulkokrunni      | 185.80          | 75              |  5              |\n",
       "| Maakrunni       | 105.80          | 67              |  3              |\n",
       "| Ristikari       |  30.70          | 66              | 10              |\n",
       "| Isonkivenletto  |   8.50          | 51              |  6              |\n",
       "| Hietakraasukka  |   4.80          | 28              |  3              |\n",
       "| Kraasukka       |   4.50          | 20              |  4              |\n",
       "| Lansiletto      |   4.30          | 43              |  8              |\n",
       "| Pihlajakari     |   3.60          | 31              |  3              |\n",
       "| Tyni            |   2.60          | 28              |  5              |\n",
       "| Tasasenletto    |   1.70          | 32              |  6              |\n",
       "| Raiska          |   1.20          | 30              |  8              |\n",
       "| Pohjanletto     |   0.70          | 20              |  2              |\n",
       "| Toro            |   0.70          | 31              |  9              |\n",
       "| Luusiletto      |   0.60          | 16              |  5              |\n",
       "| Vatunginletto   |   0.40          | 15              |  7              |\n",
       "| Vatunginnokka   |   0.30          | 33              |  8              |\n",
       "| Tiirakari       |   0.20          | 40              | 13              |\n",
       "| Ristikarenletto |   0.07          |  6              |  3              |\n",
       "\n"
      ],
      "text/plain": [
       "   Island          Area   AtRisk Extinct\n",
       "1  Ulkokrunni      185.80 75      5     \n",
       "2  Maakrunni       105.80 67      3     \n",
       "3  Ristikari        30.70 66     10     \n",
       "4  Isonkivenletto    8.50 51      6     \n",
       "5  Hietakraasukka    4.80 28      3     \n",
       "6  Kraasukka         4.50 20      4     \n",
       "7  Lansiletto        4.30 43      8     \n",
       "8  Pihlajakari       3.60 31      3     \n",
       "9  Tyni              2.60 28      5     \n",
       "10 Tasasenletto      1.70 32      6     \n",
       "11 Raiska            1.20 30      8     \n",
       "12 Pohjanletto       0.70 20      2     \n",
       "13 Toro              0.70 31      9     \n",
       "14 Luusiletto        0.60 16      5     \n",
       "15 Vatunginletto     0.40 15      7     \n",
       "16 Vatunginnokka     0.30 33      8     \n",
       "17 Tiirakari         0.20 40     13     \n",
       "18 Ristikarenletto   0.07  6      3     "
      ]
     },
     "metadata": {},
     "output_type": "display_data"
    }
   ],
   "source": [
    "library(Sleuth3)\n",
    "library(ggplot2)\n",
    "krunnit = case2101\n",
    "\n",
    "Extinct = krunnit$Extinct # number of \"success\"\n",
    "AtRisk = krunnit$AtRisk\n",
    "Area = krunnit$Area\n",
    "\n",
    "pis = Extinct/AtRisk\n",
    "NExtinct = AtRisk - Extinct # number of \"failure\"\n",
    "logitpi = log(pis/(1-(pis)))\n",
    "logarea = log(Area)\n",
    "case2101"
   ]
  },
  {
   "cell_type": "markdown",
   "metadata": {},
   "source": [
    "Let $\\pi_i$ be the probability of extinction for each island, assume that this is the same for each species for bird on a particular island\n",
    "\n",
    "Assume species survival is independent.  \n",
    "Then $Y_i\\sim Binomial(m_i,\\pi_i)$\n",
    "\n",
    "Unlike binary logistic model for Bernoulli distribution, we can estimate $\\pi_i$ from the data. "
   ]
  },
  {
   "cell_type": "markdown",
   "metadata": {},
   "source": [
    "Observed response proportion $\\bar{\\pi_i} = y_i/m_i$\n",
    "\n",
    "Observed or empirical logits: (S-\"saturated)\n",
    "$$\\log(\\frac{\\bar{\\pi}_{S,i}}{1 - \\bar{\\pi}_{S,i}}) = \\log(\\frac{y_i}{m_i-y_i})$$"
   ]
  },
  {
   "cell_type": "code",
   "execution_count": 2,
   "metadata": {},
   "outputs": [
    {
     "data": {
      "image/png": "[encoded data removed]",
      "text/plain": [
       "plot without title"
      ]
     },
     "metadata": {},
     "output_type": "display_data"
    }
   ],
   "source": [
    "ggplot(krunnit, aes(x=Area, y=logitpi)) + geom_point()"
   ]
  },
  {
   "cell_type": "code",
   "execution_count": 3,
   "metadata": {},
   "outputs": [
    {
     "data": {
      "image/png": "[encoded data removed]",
      "text/plain": [
       "plot without title"
      ]
     },
     "metadata": {},
     "output_type": "display_data"
    }
   ],
   "source": [
    "ggplot(krunnit, aes(x=log(Area), y=logitpi)) + geom_point()"
   ]
  },
  {
   "cell_type": "markdown",
   "metadata": {},
   "source": [
    "Then the proposed model is based on plot\n",
    "$$\\log(\\frac{\\pi_i}{1-\\pi_i})=\\beta_0 + \\beta_1 \\log(Area_i)$$"
   ]
  },
  {
   "cell_type": "code",
   "execution_count": 4,
   "metadata": {},
   "outputs": [
    {
     "data": {
      "text/plain": [
       "\n",
       "Call:\n",
       "glm(formula = cbind(Extinct, NExtinct) ~ log(Area), family = binomial, \n",
       "    data = krunnit)\n",
       "\n",
       "Deviance Residuals: \n",
       "     Min        1Q    Median        3Q       Max  \n",
       "-1.71726  -0.67722   0.09726   0.48365   1.49545  \n",
       "\n",
       "Coefficients:\n",
       "            Estimate Std. Error z value Pr(>|z|)    \n",
       "(Intercept) -1.19620    0.11845 -10.099  < 2e-16 ***\n",
       "log(Area)   -0.29710    0.05485  -5.416 6.08e-08 ***\n",
       "---\n",
       "Signif. codes:  0 '***' 0.001 '**' 0.01 '*' 0.05 '.' 0.1 ' ' 1\n",
       "\n",
       "(Dispersion parameter for binomial family taken to be 1)\n",
       "\n",
       "    Null deviance: 45.338  on 17  degrees of freedom\n",
       "Residual deviance: 12.062  on 16  degrees of freedom\n",
       "AIC: 75.394\n",
       "\n",
       "Number of Fisher Scoring iterations: 4\n"
      ]
     },
     "metadata": {},
     "output_type": "display_data"
    }
   ],
   "source": [
    "# cbind(Extinct, NExtinct ~ log(Area) is the way to represent it in R\n",
    "fitbl <- glm(cbind(Extinct, NExtinct)~log(Area), family=binomial, data=krunnit)\n",
    "summary(fitbl)"
   ]
  },
  {
   "cell_type": "code",
   "execution_count": 5,
   "metadata": {},
   "outputs": [
    {
     "data": {
      "text/html": [
       "<table>\n",
       "<thead><tr><th></th><th scope=col>Df</th><th scope=col>Deviance</th><th scope=col>Resid. Df</th><th scope=col>Resid. Dev</th><th scope=col>Pr(&gt;Chi)</th></tr></thead>\n",
       "<tbody>\n",
       "\t<tr><th scope=row>NULL</th><td>NA          </td><td>      NA    </td><td>17          </td><td>45.33802    </td><td>          NA</td></tr>\n",
       "\t<tr><th scope=row>log(Area)</th><td> 1          </td><td>33.27651    </td><td>16          </td><td>12.06151    </td><td>7.994246e-09</td></tr>\n",
       "</tbody>\n",
       "</table>\n"
      ],
      "text/latex": [
       "\\begin{tabular}{r|lllll}\n",
       "  & Df & Deviance & Resid. Df & Resid. Dev & Pr(>Chi)\\\\\n",
       "\\hline\n",
       "\tNULL & NA           &       NA     & 17           & 45.33802     &           NA\\\\\n",
       "\tlog(Area) &  1           & 33.27651     & 16           & 12.06151     & 7.994246e-09\\\\\n",
       "\\end{tabular}\n"
      ],
      "text/markdown": [
       "\n",
       "| <!--/--> | Df | Deviance | Resid. Df | Resid. Dev | Pr(>Chi) |\n",
       "|---|---|---|---|---|---|\n",
       "| NULL | NA           |       NA     | 17           | 45.33802     |           NA |\n",
       "| log(Area) |  1           | 33.27651     | 16           | 12.06151     | 7.994246e-09 |\n",
       "\n"
      ],
      "text/plain": [
       "          Df Deviance Resid. Df Resid. Dev Pr(>Chi)    \n",
       "NULL      NA       NA 17        45.33802             NA\n",
       "log(Area)  1 33.27651 16        12.06151   7.994246e-09"
      ]
     },
     "metadata": {},
     "output_type": "display_data"
    }
   ],
   "source": [
    "anova(fitbl, test=\"Chisq\")"
   ]
  },
  {
   "cell_type": "code",
   "execution_count": 6,
   "metadata": {},
   "outputs": [
    {
     "data": {
      "text/html": [
       "<table>\n",
       "<thead><tr><th></th><th scope=col>(Intercept)</th><th scope=col>log(Area)</th></tr></thead>\n",
       "<tbody>\n",
       "\t<tr><th scope=row>(Intercept)</th><td> 0.014029452</td><td>-0.002602237</td></tr>\n",
       "\t<tr><th scope=row>log(Area)</th><td>-0.002602237</td><td> 0.003008830</td></tr>\n",
       "</tbody>\n",
       "</table>\n"
      ],
      "text/latex": [
       "\\begin{tabular}{r|ll}\n",
       "  & (Intercept) & log(Area)\\\\\n",
       "\\hline\n",
       "\t(Intercept) &  0.014029452 & -0.002602237\\\\\n",
       "\tlog(Area) & -0.002602237 &  0.003008830\\\\\n",
       "\\end{tabular}\n"
      ],
      "text/markdown": [
       "\n",
       "| <!--/--> | (Intercept) | log(Area) |\n",
       "|---|---|---|\n",
       "| (Intercept) |  0.014029452 | -0.002602237 |\n",
       "| log(Area) | -0.002602237 |  0.003008830 |\n",
       "\n"
      ],
      "text/plain": [
       "            (Intercept)  log(Area)   \n",
       "(Intercept)  0.014029452 -0.002602237\n",
       "log(Area)   -0.002602237  0.003008830"
      ]
     },
     "metadata": {},
     "output_type": "display_data"
    }
   ],
   "source": [
    "vcov(fitbl) # variance co-variance matrix"
   ]
  },
  {
   "cell_type": "code",
   "execution_count": 7,
   "metadata": {},
   "outputs": [
    {
     "data": {
      "text/html": [
       "<table>\n",
       "<thead><tr><th></th><th scope=col>bhat</th><th scope=col>2.5 %</th><th scope=col>97.5 %</th></tr></thead>\n",
       "<tbody>\n",
       "\t<tr><th scope=row>(Intercept)</th><td>-1.1961955</td><td>-1.4283454</td><td>-0.9640456</td></tr>\n",
       "\t<tr><th scope=row>log(Area)</th><td>-0.2971037</td><td>-0.4046132</td><td>-0.1895942</td></tr>\n",
       "</tbody>\n",
       "</table>\n"
      ],
      "text/latex": [
       "\\begin{tabular}{r|lll}\n",
       "  & bhat & 2.5 \\% & 97.5 \\%\\\\\n",
       "\\hline\n",
       "\t(Intercept) & -1.1961955 & -1.4283454 & -0.9640456\\\\\n",
       "\tlog(Area) & -0.2971037 & -0.4046132 & -0.1895942\\\\\n",
       "\\end{tabular}\n"
      ],
      "text/markdown": [
       "\n",
       "| <!--/--> | bhat | 2.5 % | 97.5 % |\n",
       "|---|---|---|---|\n",
       "| (Intercept) | -1.1961955 | -1.4283454 | -0.9640456 |\n",
       "| log(Area) | -0.2971037 | -0.4046132 | -0.1895942 |\n",
       "\n"
      ],
      "text/plain": [
       "            bhat       2.5 %      97.5 %    \n",
       "(Intercept) -1.1961955 -1.4283454 -0.9640456\n",
       "log(Area)   -0.2971037 -0.4046132 -0.1895942"
      ]
     },
     "metadata": {},
     "output_type": "display_data"
    }
   ],
   "source": [
    "# 95% CI for beta\n",
    "CL = cbind(bhat=coef(fitbl), confint.default(fitbl))\n",
    "CL"
   ]
  },
  {
   "cell_type": "markdown",
   "metadata": {},
   "source": [
    "#### Model summary\n",
    "#observations: 18  \n",
    "#coefficients: 2  \n",
    "fitted model $logit(\\hat\\pi) = -1.196-0.297\\log(Area)$\n"
   ]
  },
  {
   "cell_type": "markdown",
   "metadata": {},
   "source": [
    "Wald procedures still work the same\n",
    "\n",
    "$H_0:\\beta_1=0$  \n",
    "$z=\\frac{\\hat\\beta_1}{se(\\hat\\beta_1)}\\sim N(0,1)$  \n",
    "CI: $\\hat\\beta_1\\pm t_{\\alpha,1}se(\\hat\\beta_1)$"
   ]
  },
  {
   "cell_type": "markdown",
   "metadata": {},
   "source": [
    "## Interpretation of $\\beta_1$\n",
    "\n",
    "Model: \n",
    "$$logit(\\pi) = \\beta_0 + \\beta_1\\log(x)\\Rightarrow\\\\\n",
    "\\\\frac{pi}{1-\\pi} = e^{\\beta_0}e^{\\beta_1\\log(x)} = e^{\\beta_0}x^{\\beta_1}$$\n",
    "CHanging $x$ by a factor of $h$ will change the odds by a multiplicative factor of $h^{\\beta_1}$"
   ]
  },
  {
   "cell_type": "markdown",
   "metadata": {},
   "source": [
    "Example:\n",
    "Halving island area changes odds by a factor of $0.5^{-0.2971} = 1.23$\n",
    "\n",
    "Therefore, the odds of extinction on a smaller island are 123% of the odds of extinction on an island double its size. \n",
    "\n",
    "Halving of area is associated with an increase in the odds of extinction by an estimated 23%. An approximate 95% confidence interval for the percentage change in odds is 14%-32%"
   ]
  },
  {
   "cell_type": "code",
   "execution_count": 8,
   "metadata": {},
   "outputs": [
    {
     "data": {
      "text/html": [
       "<table>\n",
       "<thead><tr><th></th><th scope=col>bhat</th><th scope=col>2.5 %</th><th scope=col>97.5 %</th></tr></thead>\n",
       "<tbody>\n",
       "\t<tr><th scope=row>(Intercept)</th><td>2.291346</td><td>2.691379</td><td>1.950773</td></tr>\n",
       "\t<tr><th scope=row>log(Area)</th><td>1.228675</td><td>1.323734</td><td>1.140443</td></tr>\n",
       "</tbody>\n",
       "</table>\n"
      ],
      "text/latex": [
       "\\begin{tabular}{r|lll}\n",
       "  & bhat & 2.5 \\% & 97.5 \\%\\\\\n",
       "\\hline\n",
       "\t(Intercept) & 2.291346 & 2.691379 & 1.950773\\\\\n",
       "\tlog(Area) & 1.228675 & 1.323734 & 1.140443\\\\\n",
       "\\end{tabular}\n"
      ],
      "text/markdown": [
       "\n",
       "| <!--/--> | bhat | 2.5 % | 97.5 % |\n",
       "|---|---|---|---|\n",
       "| (Intercept) | 2.291346 | 2.691379 | 1.950773 |\n",
       "| log(Area) | 1.228675 | 1.323734 | 1.140443 |\n",
       "\n"
      ],
      "text/plain": [
       "            bhat     2.5 %    97.5 %  \n",
       "(Intercept) 2.291346 2.691379 1.950773\n",
       "log(Area)   1.228675 1.323734 1.140443"
      ]
     },
     "metadata": {},
     "output_type": "display_data"
    }
   ],
   "source": [
    "# CI of beta's for halfing area\n",
    "0.5^(CL)"
   ]
  },
  {
   "cell_type": "code",
   "execution_count": 9,
   "metadata": {
    "scrolled": true
   },
   "outputs": [
    {
     "data": {
      "text/html": [
       "<table>\n",
       "<thead><tr><th></th><th scope=col>1</th><th scope=col>2</th><th scope=col>3</th><th scope=col>4</th><th scope=col>5</th><th scope=col>6</th><th scope=col>7</th><th scope=col>8</th><th scope=col>9</th><th scope=col>10</th><th scope=col>11</th><th scope=col>12</th><th scope=col>13</th><th scope=col>14</th><th scope=col>15</th><th scope=col>16</th><th scope=col>17</th><th scope=col>18</th></tr></thead>\n",
       "<tbody>\n",
       "\t<tr><th scope=row>Extinct</th><td> 5.00000</td><td> 3.00000</td><td>10.00000</td><td> 6.0000 </td><td> 3.0000 </td><td> 4.000  </td><td> 8.0000 </td><td> 3.00000</td><td> 5.0000 </td><td> 6.0000 </td><td> 8.0000 </td><td> 2.0000 </td><td> 9.0000 </td><td> 5.0000 </td><td>7.0000  </td><td> 8.0000 </td><td>13.0000 </td><td>3.0000  </td></tr>\n",
       "\t<tr><th scope=row>NExtinct</th><td>70.00000</td><td>64.00000</td><td>56.00000</td><td>45.0000 </td><td>25.0000 </td><td>16.000  </td><td>35.0000 </td><td>28.00000</td><td>23.0000 </td><td>26.0000 </td><td>22.0000 </td><td>18.0000 </td><td>22.0000 </td><td>11.0000 </td><td>8.0000  </td><td>25.0000 </td><td>27.0000 </td><td>3.0000  </td></tr>\n",
       "\t<tr><th scope=row>pis</th><td> 0.06667</td><td> 0.04478</td><td> 0.15152</td><td> 0.1176 </td><td> 0.1071 </td><td> 0.200  </td><td> 0.1860 </td><td> 0.09677</td><td> 0.1786 </td><td> 0.1875 </td><td> 0.2667 </td><td> 0.1000 </td><td> 0.2903 </td><td> 0.3125 </td><td>0.4667  </td><td> 0.2424 </td><td> 0.3250 </td><td>0.5000  </td></tr>\n",
       "\t<tr><th scope=row>phats</th><td> 0.06017</td><td> 0.07036</td><td> 0.09854</td><td> 0.1380 </td><td> 0.1595 </td><td> 0.162  </td><td> 0.1639 </td><td> 0.17125</td><td> 0.1854 </td><td> 0.2052 </td><td> 0.2226 </td><td> 0.2516 </td><td> 0.2516 </td><td> 0.2603 </td><td>0.2842  </td><td> 0.3019 </td><td> 0.3278 </td><td>0.3998  </td></tr>\n",
       "</tbody>\n",
       "</table>\n"
      ],
      "text/latex": [
       "\\begin{tabular}{r|llllllllllllllllll}\n",
       "  & 1 & 2 & 3 & 4 & 5 & 6 & 7 & 8 & 9 & 10 & 11 & 12 & 13 & 14 & 15 & 16 & 17 & 18\\\\\n",
       "\\hline\n",
       "\tExtinct &  5.00000 &  3.00000 & 10.00000 &  6.0000  &  3.0000  &  4.000   &  8.0000  &  3.00000 &  5.0000  &  6.0000  &  8.0000  &  2.0000  &  9.0000  &  5.0000  & 7.0000   &  8.0000  & 13.0000  & 3.0000  \\\\\n",
       "\tNExtinct & 70.00000 & 64.00000 & 56.00000 & 45.0000  & 25.0000  & 16.000   & 35.0000  & 28.00000 & 23.0000  & 26.0000  & 22.0000  & 18.0000  & 22.0000  & 11.0000  & 8.0000   & 25.0000  & 27.0000  & 3.0000  \\\\\n",
       "\tpis &  0.06667 &  0.04478 &  0.15152 &  0.1176  &  0.1071  &  0.200   &  0.1860  &  0.09677 &  0.1786  &  0.1875  &  0.2667  &  0.1000  &  0.2903  &  0.3125  & 0.4667   &  0.2424  &  0.3250  & 0.5000  \\\\\n",
       "\tphats &  0.06017 &  0.07036 &  0.09854 &  0.1380  &  0.1595  &  0.162   &  0.1639  &  0.17125 &  0.1854  &  0.2052  &  0.2226  &  0.2516  &  0.2516  &  0.2603  & 0.2842   &  0.3019  &  0.3278  & 0.3998  \\\\\n",
       "\\end{tabular}\n"
      ],
      "text/markdown": [
       "\n",
       "| <!--/--> | 1 | 2 | 3 | 4 | 5 | 6 | 7 | 8 | 9 | 10 | 11 | 12 | 13 | 14 | 15 | 16 | 17 | 18 |\n",
       "|---|---|---|---|---|---|---|---|---|---|---|---|---|---|---|---|---|---|---|\n",
       "| Extinct |  5.00000 |  3.00000 | 10.00000 |  6.0000  |  3.0000  |  4.000   |  8.0000  |  3.00000 |  5.0000  |  6.0000  |  8.0000  |  2.0000  |  9.0000  |  5.0000  | 7.0000   |  8.0000  | 13.0000  | 3.0000   |\n",
       "| NExtinct | 70.00000 | 64.00000 | 56.00000 | 45.0000  | 25.0000  | 16.000   | 35.0000  | 28.00000 | 23.0000  | 26.0000  | 22.0000  | 18.0000  | 22.0000  | 11.0000  | 8.0000   | 25.0000  | 27.0000  | 3.0000   |\n",
       "| pis |  0.06667 |  0.04478 |  0.15152 |  0.1176  |  0.1071  |  0.200   |  0.1860  |  0.09677 |  0.1786  |  0.1875  |  0.2667  |  0.1000  |  0.2903  |  0.3125  | 0.4667   |  0.2424  |  0.3250  | 0.5000   |\n",
       "| phats |  0.06017 |  0.07036 |  0.09854 |  0.1380  |  0.1595  |  0.162   |  0.1639  |  0.17125 |  0.1854  |  0.2052  |  0.2226  |  0.2516  |  0.2516  |  0.2603  | 0.2842   |  0.3019  |  0.3278  | 0.3998   |\n",
       "\n"
      ],
      "text/plain": [
       "         1        2        3        4       5       6      7       8       \n",
       "Extinct   5.00000  3.00000 10.00000  6.0000  3.0000  4.000  8.0000  3.00000\n",
       "NExtinct 70.00000 64.00000 56.00000 45.0000 25.0000 16.000 35.0000 28.00000\n",
       "pis       0.06667  0.04478  0.15152  0.1176  0.1071  0.200  0.1860  0.09677\n",
       "phats     0.06017  0.07036  0.09854  0.1380  0.1595  0.162  0.1639  0.17125\n",
       "         9       10      11      12      13      14      15     16      17     \n",
       "Extinct   5.0000  6.0000  8.0000  2.0000  9.0000  5.0000 7.0000  8.0000 13.0000\n",
       "NExtinct 23.0000 26.0000 22.0000 18.0000 22.0000 11.0000 8.0000 25.0000 27.0000\n",
       "pis       0.1786  0.1875  0.2667  0.1000  0.2903  0.3125 0.4667  0.2424  0.3250\n",
       "phats     0.1854  0.2052  0.2226  0.2516  0.2516  0.2603 0.2842  0.3019  0.3278\n",
       "         18    \n",
       "Extinct  3.0000\n",
       "NExtinct 3.0000\n",
       "pis      0.5000\n",
       "phats    0.3998"
      ]
     },
     "metadata": {},
     "output_type": "display_data"
    }
   ],
   "source": [
    "phats = predict.glm(fitbl, type=\"response\")\n",
    "options(digits=4)\n",
    "rbind(Extinct, NExtinct, pis, phats)"
   ]
  },
  {
   "cell_type": "markdown",
   "metadata": {},
   "source": [
    "Question: estimate the probability of extinction for a species on the Ulkokrunni island (Area $= 185.5 km^2$)\n",
    "\n",
    "$logit(\\hat\\pi_{M,1}=)-1.196 - 0.297\\log(185.5) = -2.75$\n",
    "\n",
    "$\\hat\\pi_{M,1} = 0.06$"
   ]
  },
  {
   "cell_type": "code",
   "execution_count": 10,
   "metadata": {},
   "outputs": [
    {
     "name": "stdout",
     "output_type": "stream",
     "text": [
      "[1] -2.747\n",
      "[1] 0.06024\n"
     ]
    }
   ],
   "source": [
    "logit_result = -1.196 - 0.297 * log(185.5)\n",
    "pi_m1 = exp(logit_result) / (1+ exp(logit_result))\n",
    "print(logit_result)\n",
    "print(pi_m1)"
   ]
  },
  {
   "cell_type": "markdown",
   "metadata": {},
   "source": [
    "## Diagnostics\n",
    "\n",
    "Model assumptions\n",
    " - Underlying probability model is Binomial  variance non constant, is a function of the mean\n",
    " - Observation independent\n",
    " - The form of the model is correct  \n",
    "  - Liner relationship between logits and explanatory variables\n",
    "  - All relevant variables are included, irrelevant ones excluded\n",
    " - Sample size is large enough for valid inferences\n",
    "  - outliers"
   ]
  },
  {
   "cell_type": "markdown",
   "metadata": {},
   "source": [
    "#### Saturated Model\n",
    "Model that fits exactly with the data  \n",
    "Most general model possible for the data\n",
    "\n",
    "Consider one explanatory variable, X with $n$ unique levels for the outcome, $Y\\sim Binomial(m,\\pi)$\n",
    "\n",
    "**Saturated Model** as many parameter coefficients as $n$\n",
    "\n",
    "**Fitted Model**  nested within a FULL model, has (p+1) parameters\n",
    "\n",
    "**Null Model**L intercept only"
   ]
  },
  {
   "cell_type": "markdown",
   "metadata": {},
   "source": [
    "#### Checking model adequacy: Form of the model - Deviance Goodness of Fit Test\n",
    "\n",
    "Form of Hypothesis: $H_0: $ reduced model, $H_a: $ Full model\n",
    "\n",
    "Deviance GOF test compares the fitted model $M$ to the saturated model $S$\n",
    "\n",
    "Test Statistic: $$Deviance = -2\\log(\\mathcal{L}_R/\\mathcal{L}_F)\\sim \\chi^2_{n-p-1}$$\n",
    "This is an asymptotic approximation, so it works better if each $m_i>5$"
   ]
  },
  {
   "cell_type": "code",
   "execution_count": 11,
   "metadata": {},
   "outputs": [
    {
     "data": {
      "text/plain": [
       "\n",
       "Call:\n",
       "glm(formula = cbind(Extinct, NExtinct) ~ log(Area), family = binomial, \n",
       "    data = krunnit)\n",
       "\n",
       "Deviance Residuals: \n",
       "    Min       1Q   Median       3Q      Max  \n",
       "-1.7173  -0.6772   0.0973   0.4837   1.4954  \n",
       "\n",
       "Coefficients:\n",
       "            Estimate Std. Error z value Pr(>|z|)    \n",
       "(Intercept)  -1.1962     0.1184  -10.10  < 2e-16 ***\n",
       "log(Area)    -0.2971     0.0549   -5.42  6.1e-08 ***\n",
       "---\n",
       "Signif. codes:  0 '***' 0.001 '**' 0.01 '*' 0.05 '.' 0.1 ' ' 1\n",
       "\n",
       "(Dispersion parameter for binomial family taken to be 1)\n",
       "\n",
       "    Null deviance: 45.338  on 17  degrees of freedom\n",
       "Residual deviance: 12.062  on 16  degrees of freedom\n",
       "AIC: 75.39\n",
       "\n",
       "Number of Fisher Scoring iterations: 4\n"
      ]
     },
     "metadata": {},
     "output_type": "display_data"
    }
   ],
   "source": [
    "summary(fitbl)"
   ]
  },
  {
   "cell_type": "markdown",
   "metadata": {},
   "source": [
    "**Example** Deviance GOF with R-output\n",
    "$H_0:$ Fitted model $logit(\\pi)~\\log(Area)$   \n",
    "$H_a: $ Saturated model\n",
    "\n",
    "Test statistic: $Deviance = 12.062$ (Residual deviance)\n",
    "\n",
    "Distribution: $Deviance\\sim \\chi^2_{18-2}$\n",
    "\n",
    "p-value: $P(\\chi^2_{16}\\leq 12.062) = 0.74$\n",
    "\n",
    "Conclusion: the data are consistent with $H_0$; the simpler model with linear function of log(Area) is adequate (fit as well as the saturated model)"
   ]
  },
  {
   "cell_type": "code",
   "execution_count": 12,
   "metadata": {},
   "outputs": [
    {
     "data": {
      "text/html": [
       "0.739700862578766"
      ],
      "text/latex": [
       "0.739700862578766"
      ],
      "text/markdown": [
       "0.739700862578766"
      ],
      "text/plain": [
       "[1] 0.7397"
      ]
     },
     "metadata": {},
     "output_type": "display_data"
    }
   ],
   "source": [
    "# calculate p-value for example\n",
    "1 - pchisq(12.062, 16)"
   ]
  },
  {
   "cell_type": "markdown",
   "metadata": {},
   "source": [
    "Small deviance leads to larger p-value and vice versa.\n",
    "\n",
    "Large p-value means:\n",
    " - fitted model is adequate\n",
    " - Test is not powerful enough to detect inadequacies\n",
    " \n",
    "Small p-value means:\n",
    " - fitted model is not adequate, consider a more complex model with more explanatory variables or higher order terms and so on OR\n",
    " - response distribution is not adequately modeled by the Binomial distribution, OR\n",
    " - There are severe outliers"
   ]
  },
  {
   "cell_type": "markdown",
   "metadata": {},
   "source": [
    "#### Outliers\n",
    "**Response (raw) residuals**\n",
    "$$\\hat\\pi_{S,i}-\\hat\\pi_{M,i}=y_i/M_i-\\hat\\pi_{M,i}$$\n",
    "**Standardized residuals**  \n",
    "- Pearson Residuals: uses estimate of s.d. of $Y$ $$P_{res,i}=\\frac{y_i-m_i\\hat\\pi_{M,i}}{\\sqrt{m_i\\hat\\pi_{M,i}(1-\\hat\\pi_{M,i})}}$$\n",
    "- Deviance Residuals: defined so that the sum of the square of the residuals is the deviance\n",
    "$$D_{res,i}=sign(y_i-m_i\\hat\\pi_{<i})\\sqrt{2(y_i\\log(\\frac{y_i}{m_i\\hat\\pi_{M,i}})+(m_i-y_i)\\log(\\frac{m_i-y_i}{m_i-m_i\\pi\\hat\\pi_{M,i}}))}$$"
   ]
  },
  {
   "cell_type": "code",
   "execution_count": 13,
   "metadata": {
    "scrolled": false
   },
   "outputs": [
    {
     "data": {
      "text/html": [
       "<table>\n",
       "<thead><tr><th scope=col>pis</th><th scope=col>phats</th><th scope=col>rres</th><th scope=col>pres</th><th scope=col>dres</th></tr></thead>\n",
       "<tbody>\n",
       "\t<tr><td>0.06667  </td><td>0.06017  </td><td> 0.006493</td><td> 0.23646 </td><td> 0.23266 </td></tr>\n",
       "\t<tr><td>0.04478  </td><td>0.07036  </td><td>-0.025585</td><td>-0.81883 </td><td>-0.87369 </td></tr>\n",
       "\t<tr><td>0.15152  </td><td>0.09854  </td><td> 0.052975</td><td> 1.44400 </td><td> 1.34958 </td></tr>\n",
       "\t<tr><td>0.11765  </td><td>0.13800  </td><td>-0.020351</td><td>-0.42139 </td><td>-0.43071 </td></tr>\n",
       "\t<tr><td>0.10714  </td><td>0.15946  </td><td>-0.052319</td><td>-0.75619 </td><td>-0.79584 </td></tr>\n",
       "\t<tr><td>0.20000  </td><td>0.16205  </td><td> 0.037951</td><td> 0.46058 </td><td> 0.44746 </td></tr>\n",
       "\t<tr><td>0.18605  </td><td>0.16389  </td><td> 0.022155</td><td> 0.39247 </td><td> 0.38577 </td></tr>\n",
       "\t<tr><td>0.09677  </td><td>0.17125  </td><td>-0.074480</td><td>-1.10075 </td><td>-1.18097 </td></tr>\n",
       "\t<tr><td>0.17857  </td><td>0.18542  </td><td>-0.006844</td><td>-0.09318 </td><td>-0.09363 </td></tr>\n",
       "\t<tr><td>0.18750  </td><td>0.20524  </td><td>-0.017742</td><td>-0.24850 </td><td>-0.25127 </td></tr>\n",
       "\t<tr><td>0.26667  </td><td>0.22264  </td><td> 0.044030</td><td> 0.57969 </td><td> 0.56727 </td></tr>\n",
       "\t<tr><td>0.10000  </td><td>0.25158  </td><td>-0.151576</td><td>-1.56220 </td><td>-1.71726 </td></tr>\n",
       "\t<tr><td>0.29032  </td><td>0.25158  </td><td> 0.038747</td><td> 0.49717 </td><td> 0.48934 </td></tr>\n",
       "\t<tr><td>0.31250  </td><td>0.26030  </td><td> 0.052203</td><td> 0.47588 </td><td> 0.46659 </td></tr>\n",
       "\t<tr><td>0.46667  </td><td>0.28415  </td><td> 0.182515</td><td> 1.56733 </td><td> 1.49545 </td></tr>\n",
       "\t<tr><td>0.24242  </td><td>0.30185  </td><td>-0.059429</td><td>-0.74367 </td><td>-0.75939 </td></tr>\n",
       "\t<tr><td>0.32500  </td><td>0.32783  </td><td>-0.002828</td><td>-0.03810 </td><td>-0.03813 </td></tr>\n",
       "\t<tr><td>0.50000  </td><td>0.39984  </td><td> 0.100157</td><td> 0.50082 </td><td> 0.49570 </td></tr>\n",
       "</tbody>\n",
       "</table>\n"
      ],
      "text/latex": [
       "\\begin{tabular}{r|lllll}\n",
       " pis & phats & rres & pres & dres\\\\\n",
       "\\hline\n",
       "\t 0.06667   & 0.06017   &  0.006493 &  0.23646  &  0.23266 \\\\\n",
       "\t 0.04478   & 0.07036   & -0.025585 & -0.81883  & -0.87369 \\\\\n",
       "\t 0.15152   & 0.09854   &  0.052975 &  1.44400  &  1.34958 \\\\\n",
       "\t 0.11765   & 0.13800   & -0.020351 & -0.42139  & -0.43071 \\\\\n",
       "\t 0.10714   & 0.15946   & -0.052319 & -0.75619  & -0.79584 \\\\\n",
       "\t 0.20000   & 0.16205   &  0.037951 &  0.46058  &  0.44746 \\\\\n",
       "\t 0.18605   & 0.16389   &  0.022155 &  0.39247  &  0.38577 \\\\\n",
       "\t 0.09677   & 0.17125   & -0.074480 & -1.10075  & -1.18097 \\\\\n",
       "\t 0.17857   & 0.18542   & -0.006844 & -0.09318  & -0.09363 \\\\\n",
       "\t 0.18750   & 0.20524   & -0.017742 & -0.24850  & -0.25127 \\\\\n",
       "\t 0.26667   & 0.22264   &  0.044030 &  0.57969  &  0.56727 \\\\\n",
       "\t 0.10000   & 0.25158   & -0.151576 & -1.56220  & -1.71726 \\\\\n",
       "\t 0.29032   & 0.25158   &  0.038747 &  0.49717  &  0.48934 \\\\\n",
       "\t 0.31250   & 0.26030   &  0.052203 &  0.47588  &  0.46659 \\\\\n",
       "\t 0.46667   & 0.28415   &  0.182515 &  1.56733  &  1.49545 \\\\\n",
       "\t 0.24242   & 0.30185   & -0.059429 & -0.74367  & -0.75939 \\\\\n",
       "\t 0.32500   & 0.32783   & -0.002828 & -0.03810  & -0.03813 \\\\\n",
       "\t 0.50000   & 0.39984   &  0.100157 &  0.50082  &  0.49570 \\\\\n",
       "\\end{tabular}\n"
      ],
      "text/markdown": [
       "\n",
       "| pis | phats | rres | pres | dres |\n",
       "|---|---|---|---|---|\n",
       "| 0.06667   | 0.06017   |  0.006493 |  0.23646  |  0.23266  |\n",
       "| 0.04478   | 0.07036   | -0.025585 | -0.81883  | -0.87369  |\n",
       "| 0.15152   | 0.09854   |  0.052975 |  1.44400  |  1.34958  |\n",
       "| 0.11765   | 0.13800   | -0.020351 | -0.42139  | -0.43071  |\n",
       "| 0.10714   | 0.15946   | -0.052319 | -0.75619  | -0.79584  |\n",
       "| 0.20000   | 0.16205   |  0.037951 |  0.46058  |  0.44746  |\n",
       "| 0.18605   | 0.16389   |  0.022155 |  0.39247  |  0.38577  |\n",
       "| 0.09677   | 0.17125   | -0.074480 | -1.10075  | -1.18097  |\n",
       "| 0.17857   | 0.18542   | -0.006844 | -0.09318  | -0.09363  |\n",
       "| 0.18750   | 0.20524   | -0.017742 | -0.24850  | -0.25127  |\n",
       "| 0.26667   | 0.22264   |  0.044030 |  0.57969  |  0.56727  |\n",
       "| 0.10000   | 0.25158   | -0.151576 | -1.56220  | -1.71726  |\n",
       "| 0.29032   | 0.25158   |  0.038747 |  0.49717  |  0.48934  |\n",
       "| 0.31250   | 0.26030   |  0.052203 |  0.47588  |  0.46659  |\n",
       "| 0.46667   | 0.28415   |  0.182515 |  1.56733  |  1.49545  |\n",
       "| 0.24242   | 0.30185   | -0.059429 | -0.74367  | -0.75939  |\n",
       "| 0.32500   | 0.32783   | -0.002828 | -0.03810  | -0.03813  |\n",
       "| 0.50000   | 0.39984   |  0.100157 |  0.50082  |  0.49570  |\n",
       "\n"
      ],
      "text/plain": [
       "   pis     phats   rres      pres     dres    \n",
       "1  0.06667 0.06017  0.006493  0.23646  0.23266\n",
       "2  0.04478 0.07036 -0.025585 -0.81883 -0.87369\n",
       "3  0.15152 0.09854  0.052975  1.44400  1.34958\n",
       "4  0.11765 0.13800 -0.020351 -0.42139 -0.43071\n",
       "5  0.10714 0.15946 -0.052319 -0.75619 -0.79584\n",
       "6  0.20000 0.16205  0.037951  0.46058  0.44746\n",
       "7  0.18605 0.16389  0.022155  0.39247  0.38577\n",
       "8  0.09677 0.17125 -0.074480 -1.10075 -1.18097\n",
       "9  0.17857 0.18542 -0.006844 -0.09318 -0.09363\n",
       "10 0.18750 0.20524 -0.017742 -0.24850 -0.25127\n",
       "11 0.26667 0.22264  0.044030  0.57969  0.56727\n",
       "12 0.10000 0.25158 -0.151576 -1.56220 -1.71726\n",
       "13 0.29032 0.25158  0.038747  0.49717  0.48934\n",
       "14 0.31250 0.26030  0.052203  0.47588  0.46659\n",
       "15 0.46667 0.28415  0.182515  1.56733  1.49545\n",
       "16 0.24242 0.30185 -0.059429 -0.74367 -0.75939\n",
       "17 0.32500 0.32783 -0.002828 -0.03810 -0.03813\n",
       "18 0.50000 0.39984  0.100157  0.50082  0.49570"
      ]
     },
     "metadata": {},
     "output_type": "display_data"
    }
   ],
   "source": [
    "# response residuals\n",
    "rres = residuals(fitbl, type=\"response\")\n",
    "# pearson residuals\n",
    "pres = residuals(fitbl, type=\"pearson\")\n",
    "# Deviance residuals\n",
    "dres = residuals(fitbl, type=\"deviance\")\n",
    "cbind(pis, phats, rres, pres, dres)"
   ]
  },
  {
   "cell_type": "code",
   "execution_count": 14,
   "metadata": {},
   "outputs": [
    {
     "data": {
      "image/png": "[encoded data removed]",
      "text/plain": [
       "plot without title"
      ]
     },
     "metadata": {},
     "output_type": "display_data"
    }
   ],
   "source": [
    "par(mfrow=c(1,3))\n",
    "plot(log(Area), rres)\n",
    "plot(log(Area), pres)\n",
    "plot(log(Area), dres)\n"
   ]
  },
  {
   "cell_type": "markdown",
   "metadata": {},
   "source": [
    "**Pearson vs Deviance Residuals**\n",
    " - Both asymptotically to $N(0,1)$\n",
    " - Possible outlier if $|res|>2$\n",
    " - Definite outlier if $|res|>3$\n",
    " - Under small $n$ $D_{res}$ closer to $N(0,1)$ then $P_{res}$\n",
    " - When $\\hat\\pi$ close to extreme (0, 1), $P_{res}$ are unstable"
   ]
  },
  {
   "cell_type": "markdown",
   "metadata": {},
   "source": [
    "## Problems and Solutions\n",
    "\n",
    "**Issues Related to General Linear Models**\n",
    "\n",
    "extrapolation  \n",
    "- Don't make inferences/predictions outside range of observed data\n",
    "- Model may no longer be appropriate\n",
    "\n",
    "Multicollinearity  \n",
    "Consequences includes\n",
    " - unstable fitted equation\n",
    " - Coefficient that should be statistically significant while not\n",
    " - Coefficient may have wrong sign\n",
    " - Sometimes large $se(\\beta)$\n",
    " - Sometimes numerical procedure to find MLEs does not converge\n",
    " \n",
    "Influential Points\n",
    "\n",
    "Model: overfit issue, should build model on training data (cross validation)\n"
   ]
  },
  {
   "cell_type": "markdown",
   "metadata": {},
   "source": [
    "**Problems specific to Logistic Regression**\n",
    "\n",
    "Extra-binomial variation (over dispersion)\n",
    " - variance of $Y_i$ greater than $m_i\\pi_i(1-\\pi_i)$\n",
    " - Does not bias $\\hat\\beta$'s but se of $\\hat\\beta$'s will be too small \n",
    " \n",
    "Solution: add one more parameter to the model, $\\phi$-dispersion parameter. Then $var(Y_i)=\\phi m_i\\pi_i(1-\\pi_i)$\n",
    "\n",
    "Complete separation\n",
    " - One or a linear combination of explanatory variables perfectly predict whether $Y=1\\lor 0$\n",
    " - In Binary response, when $y_i=1,\\hat y_i=1$, then $\\sum_{i=1}^n\\{y_i\\log(\\hat y_i + (1-y_i)\\log(1-\\hat y_i))=0\\}$\n",
    " - MLE cannot be computed\n",
    " \n",
    "Quasi-complete separation:\n",
    "- explanatory variables predict $Y=1\\lor 0$ almost perfectly\n",
    "- MLE are numerically unstable\n",
    "\n",
    "Solution: simplify the model. Try other methods like penalized maximum likelihood, exact logistic regression, Bayesian methods"
   ]
  },
  {
   "cell_type": "markdown",
   "metadata": {},
   "source": [
    "#### Conclusions about Logistic Regression\n",
    "\n",
    "**False** Logistic regression describes population proportion of probability as a linear function of explanatory variables. \n",
    "\n",
    "Non-linear $\\hat\\pi = e^{\\hat\\mu}/(1+e^{\\hat\\mu})$\n",
    "\n",
    "Hence Logistic regression is a nonlinear regression model"
   ]
  },
  {
   "cell_type": "markdown",
   "metadata": {},
   "source": [
    "#### Extra-binomial variation\n",
    "\n",
    "Suppose $X_1,...,X_m$ are not independent but identically distributed $\\sim Bernoulli(\\pi)$. Further suppose $\\forall X_i,X_j. cov(X_1,X_j)=\\rho, \\rho>0$.\n",
    "\n",
    "Let $Y_1=\\sum_i^{m_1}X_i$\n",
    "\n",
    "Then \n",
    "\n",
    "$$var(Y_i)= \\sum_i^{m_1}var(X_i) + \\sum_{i\\neq j} cov(X_i,X_j)\\\\\n",
    "= m_1\\pi(1-\\pi)+\\sum_{i\\neq j} \\rho\\sqrt{var(X_i)var(X_j)}\\\\ \n",
    "=m_1\\pi(1-\\pi) + m_1(m_1-1)\\rho\\pi(1-\\pi)\\\\\n",
    ">m_1\\pi(1-\\pi)$$"
   ]
  },
  {
   "cell_type": "markdown",
   "metadata": {},
   "source": [
    "Therefore, the model for variance:\n",
    "$$var(Y_i)=\\psi m_i\\pi_i(1-\\pi_i)$$\n",
    "estimate of $\\hat\\psi$ by scaled Pearson chi-square statistic\n",
    "$$\\hat\\psi = \\sum_i^n \\frac{P^2_{res,i}}{n-(p+1)}=\\frac{\\text{sum of squared Pearson residuals}}{d.f.}$$\n",
    "\n",
    "$\\hat\\psi>>1$ indicates evidence of over-dispersion\n",
    "\n",
    "$\\psi$ does not effect $E(Y_i)$, hence using over-dispersion does not change $\\hat\\beta$\n",
    "\n",
    "The standard errors under this assumption is $se_{\\psi}(\\hat\\beta)=\\sqrt{\\hat\\psi}se(\\hat\\beta)$\n",
    "\n"
   ]
  },
  {
   "cell_type": "markdown",
   "metadata": {},
   "source": [
    "The following two ways are equivalent"
   ]
  },
  {
   "cell_type": "code",
   "execution_count": 31,
   "metadata": {
    "scrolled": true
   },
   "outputs": [
    {
     "data": {
      "text/html": [
       "0.73257293737338"
      ],
      "text/latex": [
       "0.73257293737338"
      ],
      "text/markdown": [
       "0.73257293737338"
      ],
      "text/plain": [
       "[1] 0.7326"
      ]
     },
     "metadata": {},
     "output_type": "display_data"
    }
   ],
   "source": [
    "# manually conpute the psi hat\n",
    "psihat = sum(residuals(fitbl, type=\"pearson\")^2/fitbl$df.residual)\n",
    "psihat"
   ]
  },
  {
   "cell_type": "code",
   "execution_count": 30,
   "metadata": {},
   "outputs": [
    {
     "data": {
      "text/plain": [
       "\n",
       "Call:\n",
       "glm(formula = cbind(Extinct, NExtinct) ~ log(Area), family = binomial, \n",
       "    data = krunnit)\n",
       "\n",
       "Deviance Residuals: \n",
       "    Min       1Q   Median       3Q      Max  \n",
       "-1.7173  -0.6772   0.0973   0.4837   1.4954  \n",
       "\n",
       "Coefficients:\n",
       "            Estimate Std. Error z value Pr(>|z|)    \n",
       "(Intercept)  -1.1962     0.1014  -11.80  < 2e-16 ***\n",
       "log(Area)    -0.2971     0.0469   -6.33  2.5e-10 ***\n",
       "---\n",
       "Signif. codes:  0 '***' 0.001 '**' 0.01 '*' 0.05 '.' 0.1 ' ' 1\n",
       "\n",
       "(Dispersion parameter for binomial family taken to be 0.7326)\n",
       "\n",
       "    Null deviance: 45.338  on 17  degrees of freedom\n",
       "Residual deviance: 12.062  on 16  degrees of freedom\n",
       "AIC: 75.39\n",
       "\n",
       "Number of Fisher Scoring iterations: 4\n"
      ]
     },
     "metadata": {},
     "output_type": "display_data"
    }
   ],
   "source": [
    "# apply the dispersion\n",
    "summary(fitbl, dispersion=psihat)"
   ]
  },
  {
   "cell_type": "code",
   "execution_count": 32,
   "metadata": {},
   "outputs": [
    {
     "data": {
      "text/plain": [
       "\n",
       "Call:  glm(formula = cbind(Extinct, NExtinct) ~ log(Area), family = quasibinomial, \n",
       "    data = krunnit)\n",
       "\n",
       "Coefficients:\n",
       "(Intercept)    log(Area)  \n",
       "     -1.196       -0.297  \n",
       "\n",
       "Degrees of Freedom: 17 Total (i.e. Null);  16 Residual\n",
       "Null Deviance:\t    45.3 \n",
       "Residual Deviance: 12.1 \tAIC: NA"
      ]
     },
     "metadata": {},
     "output_type": "display_data"
    }
   ],
   "source": [
    "# use quasi binomial family\n",
    "fitbl2 <- glm(cbind(Extinct, NExtinct)~log(Area), family=quasibinomial, data=krunnit)\n",
    "fitbl2"
   ]
  },
  {
   "cell_type": "markdown",
   "metadata": {},
   "source": [
    "#### Using Logistic Regression for Classification\n",
    "\n",
    "Want: $y^*\\mid (x_1^*, ...,x_p^*)= \\mathbb\n",
    "{I}$\n",
    "\n",
    "Do: calculate $\\hat\\pi_M^*$ be the estimated probability that $y^*=1$ based on the fitted model given $X_i=x_i^*$, then predict that $y^* = \\mathbb{I}(\\hat\\pi_M^* \\text{is large enough})$\n",
    "\n",
    "Need: a good cutoff $\\hat\\pi_M^*$ "
   ]
  },
  {
   "cell_type": "markdown",
   "metadata": {},
   "source": [
    "**Classification**\n",
    "\n",
    "Try different cutoffs and see which gives fewest incorrect classifications\n",
    "- Useful if proportion of 1's and 0's in date reflect their relative proportions in the population\n",
    "- Likely to overestimate. To overcome,cross-validation (training group vs. validation group)\n"
   ]
  },
  {
   "cell_type": "markdown",
   "metadata": {},
   "source": [
    "**Confusion Matrix**\n",
    "https://en.wikipedia.org/wiki/Confusion_matrix\n",
    "\n",
    "Choose a cutoff probability based on one of the 5 criteria for success of classification that is most important to you \n",
    "\n",
    "Examples \n",
    " - High sensitivity makes good screening test\n",
    " - High specificity makes a good confirmatory test\n",
    " - A screening test followed by a confirmatory test is good (but expensive) diagnostic procedure"
   ]
  }
 ],
 "metadata": {
  "hide_input": false,
  "kernelspec": {
   "display_name": "R",
   "language": "R",
   "name": "ir"
  },
  "language_info": {
   "codemirror_mode": "r",
   "file_extension": ".r",
   "mimetype": "text/x-r-source",
   "name": "R",
   "pygments_lexer": "r",
   "version": "3.5.2"
  }
 },
 "nbformat": 4,
 "nbformat_minor": 2
}
