{
 "cells": [
  {
   "cell_type": "code",
   "execution_count": 1,
   "metadata": {
    "ExecuteTime": {
     "end_time": "2019-04-10T21:37:09.384592Z",
     "start_time": "2019-04-10T21:37:09.201Z"
    }
   },
   "outputs": [
    {
     "data": {
      "text/plain": [
       "\n",
       "Call:\n",
       "glm(formula = Matings ~ Age, family = poisson)\n",
       "\n",
       "Deviance Residuals: \n",
       "     Min        1Q    Median        3Q       Max  \n",
       "-2.80798  -0.86137  -0.08629   0.60087   2.17777  \n",
       "\n",
       "Coefficients:\n",
       "            Estimate Std. Error z value Pr(>|z|)    \n",
       "(Intercept) -1.58201    0.54462  -2.905  0.00368 ** \n",
       "Age          0.06869    0.01375   4.997 5.81e-07 ***\n",
       "---\n",
       "Signif. codes:  0 '***' 0.001 '**' 0.01 '*' 0.05 '.' 0.1 ' ' 1\n",
       "\n",
       "(Dispersion parameter for poisson family taken to be 1)\n",
       "\n",
       "    Null deviance: 75.372  on 40  degrees of freedom\n",
       "Residual deviance: 51.012  on 39  degrees of freedom\n",
       "AIC: 156.46\n",
       "\n",
       "Number of Fisher Scoring iterations: 5\n"
      ]
     },
     "metadata": {},
     "output_type": "display_data"
    }
   ],
   "source": [
    "library(Sleuth3)\n",
    "elmasu = case2201\n",
    "Age = elmasu$Age\n",
    "Matings = elmasu$Matings\n",
    "\n",
    "fitllm = glm(Matings~Age, family=poisson)\n",
    "summary(fitllm)"
   ]
  },
  {
   "cell_type": "code",
   "execution_count": 3,
   "metadata": {
    "ExecuteTime": {
     "end_time": "2019-04-10T22:02:03.432266Z",
     "start_time": "2019-04-10T22:02:03.393Z"
    }
   },
   "outputs": [
    {
     "data": {
      "text/plain": [
       "\n",
       "Call:\n",
       "glm(formula = Matings ~ Age + I(Age^2), family = poisson)\n",
       "\n",
       "Deviance Residuals: \n",
       "    Min       1Q   Median       3Q      Max  \n",
       "-2.8470  -0.8848  -0.1122   0.6580   2.1134  \n",
       "\n",
       "Coefficients:\n",
       "              Estimate Std. Error z value Pr(>|z|)\n",
       "(Intercept) -2.8574060  3.0356383  -0.941    0.347\n",
       "Age          0.1359544  0.1580095   0.860    0.390\n",
       "I(Age^2)    -0.0008595  0.0020124  -0.427    0.669\n",
       "\n",
       "(Dispersion parameter for poisson family taken to be 1)\n",
       "\n",
       "    Null deviance: 75.372  on 40  degrees of freedom\n",
       "Residual deviance: 50.826  on 38  degrees of freedom\n",
       "AIC: 158.27\n",
       "\n",
       "Number of Fisher Scoring iterations: 5\n"
      ]
     },
     "metadata": {},
     "output_type": "display_data"
    }
   ],
   "source": [
    "fitho = glm(Matings~Age + I(Age^2), family=poisson)\n",
    "summary(fitho)"
   ]
  },
  {
   "cell_type": "markdown",
   "metadata": {},
   "source": [
    "1. Consider the elephant mating example from lecture.\n",
    "\n",
    " 1. _Both the binomial and the Poisson distributions provide probability models for counts. Is the binomial distribution appropriate for the number of successful matings of the male African elephants?_  \n",
    "No, the binomial distribution has a upper bound for the number of success. (Number of success in a definite number of trials). \n",
    " 2. _For the model fit in lecture, interpret the coefficient of age._  \n",
    " Keeping other explanatory variables constant, one year increase in age will increase the number of matings by $e^{\\beta_1}-1 = e^{0.0687}-1=0.07$\n",
    " 3. _Consider the plot of the number of matings versus age. The spread of the responses is larger for larger values of the mean response. Should we be concerned?_  \n",
    "No, the model assumes the underlying distribution is Poisson, where $E(X)=var(X)=\\mu$. Therefore, the spread will increase as the increase of of the mean response \n",
    " 4. _From the estimated log-linear regression of the elephants' successful matings on age, what are the mean and variance of counts of successful matings (in the 8 years of the study) for the elephants who are aged 25 years at the beginning of the observation period? What are the mean and variance for elephants who are aged 45 years?_\n",
    " For 25 years old: mean = variance = $e^{-1.582+(0.0687)25}=1.15$\n",
    " For 25 years old: mean = variance = $e^{-1.582+(0.0687)45}=4.53$\n",
    " 5. _While it is hypothesized that the number of matings increases with age, there\n",
    "may be an optimal age for matings where, for older elephants the number of\n",
    "matings starts to decline. One way to investigate this is to add a quadratic term\n",
    "for age into the model to allow the log of the mean number of matings to reach\n",
    "a peak. Does the inclusion in the model of $age^2$ improve the fit?_   \n",
    "By Wald test, since $p=0.669$, we cannot reject the null hypothesis, there is no evidence that the higher order term improve the fit"
   ]
  },
  {
   "cell_type": "markdown",
   "metadata": {},
   "source": [
    "2. What is the difference between a log-linear model and a linear model after the log transformation of the response?\n",
    "\n",
    "For log-linear model, mean is $\\mu$, the model is $\\log(\\mu)=X\\beta$.\n",
    "\n",
    "For SLR with transformation, the model is expressed in terms of the mean of the log of $Y$ with different model assumptions. \n",
    " - different variance\n",
    " - different test procedures and diagnosis\n",
    " \n"
   ]
  },
  {
   "cell_type": "markdown",
   "metadata": {},
   "source": [
    "3. Why are ordinary residuals $y_i-\\hat\\mu_i$ not particularly useful for Poisson regression?\n",
    "\n",
    "Because the variance in Poisson model is not constant. The residuals with larger means will have larger variances. So if an observation has\n",
    "a large residual it is diffcult to know whether it is an outlier or an observation from\n",
    "a distribution with larger variance than the others. Residuals that are studentized\n",
    "so that they have the same variance are more useful for identifying outliers."
   ]
  },
  {
   "cell_type": "markdown",
   "metadata": {},
   "source": [
    "4. Consider the deviance goodness-of-\f",
    "t test.\n",
    " 1. _Under what conditions is it valid for Poisson regression?_  \n",
    " The sample size for each group is large enough. \n",
    " 2. _When it is valid, what possibilities are suggested by a small p-value?_\n",
    " The Poisson distribution is an inadequate model, the explanatory variables are inadequate, or there are some outliers. \n",
    " 3. _Large p-value?_  \n",
    " Model is correct, or there is insufficient data to detect any inadequacies. "
   ]
  },
  {
   "cell_type": "markdown",
   "metadata": {},
   "source": [
    "5. Because the underlying distribution is Poission. The likelihood function is\n",
    "$$\\prod_1^n \\frac{\\mu_i^{y_i}e^{-\\mu_i}}{y_i!}=\\frac{e^{-\\sum \\mu_i}\\prod \\mu_i^{y_i}}{\\prod y_i!}$$\n",
    "Take log\n",
    "$$=-\\sum \\mu_i + \\sum y_i \\log(mu_i) - \\sum \\log(y_i!)$$\n",
    "Where $\\mu_i = e^{X_{\\cdot,i}\\beta}$ (X: the ith observation)\n"
   ]
  }
 ],
 "metadata": {
  "kernelspec": {
   "display_name": "R",
   "language": "R",
   "name": "ir"
  },
  "language_info": {
   "codemirror_mode": "r",
   "file_extension": ".r",
   "mimetype": "text/x-r-source",
   "name": "R",
   "pygments_lexer": "r",
   "version": "3.5.2"
  }
 },
 "nbformat": 4,
 "nbformat_minor": 2
}
