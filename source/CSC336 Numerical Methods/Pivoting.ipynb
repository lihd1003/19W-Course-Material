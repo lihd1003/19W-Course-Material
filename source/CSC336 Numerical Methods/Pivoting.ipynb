{
 "cells": [
  {
   "cell_type": "markdown",
   "metadata": {},
   "source": [
    "#### Permutation Matrices\n",
    "Has exactly one $1$ in each row and all others are $0$ and the same for each column. i.e. a permutation of rows/columns of $I$. \n",
    "\n",
    "If we want to interchange column 1 and column J, then let $E_{ij}$ denote the zero matrix with the $ij$'s entry be $1$. \n",
    "\\begin{align*}\n",
    "P &= I - (e_i - e_j)(e_i-e_j)^T\\\\\n",
    "&= I - (e_ie_i^T - e_ie_j^T - e_je_i^T + e_je_j^T)\\\\\n",
    "&= I - E_{11} + E_{1j} + E_{j1} - E_{jj}\n",
    "\\end{align*}\n",
    "Is a identity matrix that interchange rows $i,j$. \n",
    "\n",
    "So that $PA$ interchanges row of $A$ and $AP$ interchanges column of $A$ \n",
    "\n",
    "A permutation matrix is non-singular and $P^{-1} = P^T$\n",
    "\n",
    "$P$ is closed under multiplications:  \n",
    "By definition, there is only one $1$ on each row and column of $P_1$, so that consider $P_2$, which only interchanges rows, and the resulted matrix will still have only one $1$ on each row, and since columns are not interchanged, the property of permutation is maintained. "
   ]
  },
  {
   "cell_type": "markdown",
   "metadata": {},
   "source": [
    "### Pivoting (Row partial pivoting)\n",
    "#### Intuition\n",
    "Consider $A =\\begin{bmatrix}\\epsilon&1\\\\1&1\\end{bmatrix}, \\epsilon$ is small, $b = \\begin{bmatrix}1\\\\2\\end{bmatrix}$. Then the multiplier $m_{21} = \\epsilon^{-1}$.  \n",
    "The decomposition $L = \\begin{bmatrix}1&0\\\\\\epsilon^{-1}&1\\end{bmatrix}, U = \\begin{bmatrix}\\epsilon&1\\\\0&1-\\epsilon^{-1}\\end{bmatrix}$.   \n",
    "However, if $\\epsilon$ is very small, $\\epsilon^{-1}$ is extremely large and $U\\rightarrow \\tilde U =\\begin{bmatrix}\\epsilon&1\\\\0&-\\epsilon^{-1}\\end{bmatrix}$, and $L\\tilde U = \\begin{bmatrix}\\epsilon&1\\\\1&0\\end{bmatrix}$\n",
    "\n",
    "Note that $A^{-1} = (-1+\\epsilon)^{-1} \\begin{bmatrix}1&-1\\\\-1&\\epsilon\\end{bmatrix}, \\tilde A = L\\tilde U = -1\\begin{bmatrix}0&-1\\\\-1&\\epsilon\\end{bmatrix}$. If we want to solve  \n",
    "$Ax = [1,2]^T, x = A^{-1}b\\approx [1,1]^T, \\tilde x = \\tilde A^{-1}b \\approx [2, 1]^T$\n",
    "\n",
    "However, if $A = \n",
    "\\begin{bmatrix}\n",
    "1&1\\\\\n",
    "\\epsilon&1\n",
    "\\end{bmatrix}, b = \\begin{bmatrix}2\\\\1\\end{bmatrix}\\Rightarrow m_{21} =\\epsilon, M_1 = \\begin{bmatrix}\n",
    "1&0\\\\\n",
    "-\\epsilon&1\n",
    "\\end{bmatrix} \\rightarrow U = \\begin{bmatrix}\n",
    "1&1\\\\\n",
    "0&1\n",
    "\\end{bmatrix}, M_1 b = \\begin{bmatrix}\n",
    "2\\\\1\n",
    "\\end{bmatrix}, x = [1,1]^{-1}$"
   ]
  },
  {
   "cell_type": "markdown",
   "metadata": {},
   "source": [
    "#### Algorithm\n",
    "Searching first column for element of largest magnitude\n",
    "$$A_{J\\cdot}, J = arg\\max_{1\\leq j \\leq n}\\{|a_{j1}|\\}$$\n",
    "Then use a permutation matrix $P_1$ to interchange $A_J\\cdot$ with $A_1\\cdot$ and calculate $M_1$ so that $|m_{i1}|\\leq 1$  \n",
    "So that we can do such recursively on $A_{1:n\\times 1:n}$ and so on\n",
    "\n",
    "Therefore, we have $M_{n-1}P_{n-1}...M_1P_1A$"
   ]
  },
  {
   "cell_type": "markdown",
   "metadata": {},
   "source": [
    "#### Decompose pivoted matrix\n",
    "Consider $MPA = U\\Rightarrow PA = M^{-1}U$, since the pivot, all $m_{ij}\\leq 1$ so that $L$ has all the lower triangular entries be $|L_{ij}|\\leq 1$\n",
    "\n",
    "#### Solving linear systems\n",
    "Given $Ax =b$, since $P$ is non-singular $PAx = Pb$, Let $\\hat b = Pb, LU x = \\hat b$, and we solve it as before. "
   ]
  },
  {
   "cell_type": "markdown",
   "metadata": {},
   "source": [
    "#### Example \n",
    "$$A = \\begin{bmatrix}-2&10&1\\\\1&-4&2\\\\4&-8&4\\end{bmatrix}, b = \\begin{bmatrix}4\\\\3\\\\1\\end{bmatrix}$$\n",
    "\n",
    "Let $P_1 = \\begin{bmatrix}0&0&1\\\\0&1&0\\\\1&0&0\\end{bmatrix}, P_1A = \\begin{bmatrix}4&-8&4\\\\1&-4&2\\\\-2&10&1\\end{bmatrix}, M_1 = \\begin{bmatrix}1&0&0\\\\-1/4&1&0\\\\1/2&0&1\\end{bmatrix}, M_1P_1A = \\begin{bmatrix}4&-8&4\\\\0&-2&1\\\\0&6&3\\end{bmatrix}$  \n",
    "$P_2 = \\begin{bmatrix}0&1\\\\1&0\\end{bmatrix}, M_2=\\begin{bmatrix}1&0\\\\1/3&1\\end{bmatrix}, M_2P_2M_1P_1A = \\begin{bmatrix}4&-8&4\\\\0&6&3\\\\0&0&2\\end{bmatrix} = U$"
   ]
  },
  {
   "cell_type": "markdown",
   "metadata": {},
   "source": [
    "#### Finding $PA = LU$\n",
    "Noting that $P_{k+1}M_k \\neq M_kP_{k+1}$, but suppose we have $P_{k+1}M_k = \\hat M_k P_{k+1}$, then we can have \n",
    "$$M_nP_n...M_1P_1A = b \\Rightarrow P_n...P_1A = \\hat M_1^{-1}...\\hat M^{-1}_n b$$\n",
    "Since $P^T = P^{-1}, P_2M_1P_2^T = \\hat M_1 P_2P_2^T = \\hat M_1P_2P_2^{-1} = \\hat M_1$  \n",
    "$$\\hat M_1 = P_2(I-m_1e_1^T)P_2^T = P_2P_2^T - P_2m_1e_1^TP_2^T = I - (P_2m_1)(P_2e_1)^T$$\n",
    "By the design of the algorithm, $P_2$ will not interchange the first columns, hence $P_2e_1 = e_1$, but $P_2m_1$ will interchange the multipliers, let $\\hat m_1 = P_2m_1$.  \n",
    "\n",
    "Also, consider the intuition behind: $M_1P_2^T$ only change $[2:n]$ columns, which does not touch the first column ($m$'s), $P_2M_1$ cannot change the first row, but the order of $m$'s. Then consider $M_1[2:n, 2:n] = I_{(n-1)\\times (n-1)}$, there's only $1$ on the diagonal,  interchanging $i,j$ row plus interchanging $i,j$ column will just swap them back. Therefore, the only change thing is the order of $m$'s, i.e. $m_i, m_j$ are swapped. \n",
    "\n",
    "Therefore, because $m_1e_1^Tm_2e_2^T = 0$ (see notes on LU decomposition)\n",
    "$$\\hat M_1^{-1} = I + \\hat m_1e_1^T, M_1^{-1}M_2^{-1} = (I + \\hat m_1e_1^T)(I + \\hat m_2e_2^T) = I + \\hat m_1e_1^T + \\hat m_2e_2^T$$\n",
    "Therefore, $L = I + \\sum \\hat m_k e_k^T, P = \\prod P_k$"
   ]
  },
  {
   "cell_type": "markdown",
   "metadata": {},
   "source": [
    "#### Solving system of linear equations\n",
    "Let $\\hat b = Pb$, since we have computed $PA=LU, PAx = Pb\\Rightarrow LUx = \\hat b\\Rightarrow Ly = \\hat b$\n",
    "\n",
    "You can just store $P$ as a vector form, and we know we only need to interchange $(n-1)$ times. "
   ]
  },
  {
   "cell_type": "markdown",
   "metadata": {},
   "source": [
    "#### Find Determinant\n",
    "Note that $P_k$ is either identity or interchange two rows, $\\det(I)=1$, but if we interchange two rows $\\det(P_k)=-1$.   Considered the matrix where the interchanged 1's are on the corner, for such matrix, determinant is $-1$ and for the other parts, it's $1$. \n",
    "\n",
    "\\begin{align}\\det(PA) &= \\det(LU)\\\\\n",
    "\\det(P)\\det(A)&=\\det(L)\\det(U)\\\\\n",
    "\\det(A) &= \\det(P)^{-1}{\\det(L)\\det(U)}\\\\\n",
    "&=\\det(P)^{-1}[1][\\prod_i^n u_{kk}]\\\\\n",
    "&= \\prod_i^n u_{kk} * (-1)^{\\text{number of interchanges % 2}}\n",
    "\\end{align}"
   ]
  },
  {
   "cell_type": "markdown",
   "metadata": {},
   "source": [
    "#### Computation Time\n",
    "Consider $A_{n\\times n}$  \n",
    "- Find the largest magnitude in the first column takes $n$ comparisons  \n",
    "- Swap the two rows takes $n$ swaps. \n",
    "- Then we are doing the normal Gaussian elimination steps, which takes $n-1$ divisions and $(n-1)^2$ addition and multiplications. \n",
    "\n",
    "Notice that the next stage will just work recursively on $A_{n-1\\times n-1}$. \n",
    "Therefore, the total comparisons and swaps will be $\\frac{n(n-1)}{2}$, Gaussian elimination takes $\\frac{n^3}{3} + O(n^2)$\n",
    "\n",
    "##### Solving x\n",
    "Then consider $Ux = Lb$\n",
    " - Since $P$ matrix only swaps, each $P_i$ takes 1 swap\n",
    " - $M_i$ takes $(n-i)$ adds and multiplications\n",
    "\n",
    "Therefore, the total computation takes $\\frac{n^2 - n}{2}$ adds and multiplications and $(n-1)$ swaps. "
   ]
  }
 ],
 "metadata": {
  "hide_input": false,
  "kernelspec": {
   "display_name": "Python 3",
   "language": "python",
   "name": "python3"
  },
  "language_info": {
   "codemirror_mode": {
    "name": "ipython",
    "version": 3
   },
   "file_extension": ".py",
   "mimetype": "text/x-python",
   "name": "python",
   "nbconvert_exporter": "python",
   "pygments_lexer": "ipython3",
   "version": "3.7.4"
  }
 },
 "nbformat": 4,
 "nbformat_minor": 2
}
