{
 "cells": [
  {
   "cell_type": "markdown",
   "metadata": {},
   "source": [
    "### Norms"
   ]
  },
  {
   "cell_type": "markdown",
   "metadata": {},
   "source": [
    "Consider a linear system $Ax = b$ where $A,b$ are input.  \n",
    "\n",
    "To measure the conditioning we measure the norm of output \n",
    "$$\\begin{cases}\n",
    "|x|&\\in\\mathbb R\\\\\n",
    "\\sqrt{a^2+b^2} &\\in \\mathbb C, a+bi\\\\\n",
    "\\sqrt{\\sum^n x_i^2} = \\|x\\|_2 &x\\in\\mathbb R^n\n",
    "\\end{cases}$$"
   ]
  },
  {
   "cell_type": "markdown",
   "metadata": {},
   "source": [
    "__Claim__ $\\|x\\|_\\infty \\leq \\|x\\|_2\\leq \\sqrt n \\|x\\|_\\infty$  \n",
    "_proof_. \n",
    "$$\\|x\\|_\\infty = \\sup|x_i| = |x_k| = \\sqrt{x_k^2} \\leq \\sqrt{\\sum x_i^2} = \\|x\\|_2$$\n",
    "$$\\|x\\|_2 =\\sqrt{\\sum x_i^2} \\leq \\sqrt{\\sum x_k^2} = \\sqrt n \\sqrt{x_k^2} = \\sqrt n k = \\sqrt n \\|x\\|_\\infty$$"
   ]
  },
  {
   "cell_type": "markdown",
   "metadata": {},
   "source": [
    "__Claim__ reverse triangular inequality $|\\|x\\| - \\|y\\|| \\leq \\|x-y\\|$  \n",
    "$$\\|x\\| - \\|y\\| = \\|y + x -y\\| - \\|y\\|\\leq \\|y\\| + \\|x - y\\| - \\|y\\| = \\|x-y\\|$$"
   ]
  },
  {
   "cell_type": "markdown",
   "metadata": {},
   "source": [
    "#### Norm for matrices\n",
    "One common way to get a matrix norm is from a vector norm $\\|A\\| = \\max_{x\\neq 0} \\frac{\\|A\\vec x\\|}{\\|\\vec x\\|}$, i.e. how much $A$ can expand $\\vec x$.   \n",
    "\n",
    "__Theorem__ $\\|A\\| = \\max_{x\\neq 0} \\frac{\\|Ax\\|}{\\|x\\|} = \\max_{\\|x\\|=1} \\|Ax\\|$\n",
    "\n",
    "_proof_. $$\\max_{x\\neq 0} \\frac{\\|Ax\\|}{\\|x\\|} = \\max\\frac{\\|A(x/\\|x\\|)\\|}{\\|x\\|/\\|x\\|} = \\max_{\\|x\\|=1}\\|Ax\\|$$\n",
    "\n",
    "Matrix norm is __induced by / subordinate to__ the vector norm, \n",
    "\n",
    "__Examples__ Given $A_{n\\times n}$ \n",
    "$$\\|A\\|_1 = \\max \\frac{\\|Ax\\|_1}{\\|x\\|_1} = \\max_{j = 1...n} \\sum_{i=1}^n |A_{ij}| = \\text{max column sum}$$\n",
    "$$\\|A\\|_\\infty = \\max_{i = 1 ... n} \\sum_{j=1}^n |A_{ij}| = \\text{max row sum}$$  \n",
    "$$\\|A\\|_2 = \\max\\{\\sqrt \\lambda\\| \\lambda := \\text{eigenvalues of }A^TA\\}$$\n",
    "$$\\|A\\|_F = \\sqrt {\\sum_i\\sum_j |a_{ij}|^2}$$\n",
    "Note that F-norm cannot be induced by vector norm. For example $\\|I\\|_F = \\sqrt n $   \n",
    "\n",
    "If a norm is subordinated from a vector norm, then \n",
    " - it follows triangular inequality  \n",
    " - $\\|I\\| = \\max \\frac{\\|Ix\\|}{\\|x\\|} = 1$"
   ]
  },
  {
   "cell_type": "markdown",
   "metadata": {},
   "source": [
    "### Norm Equivalence\n",
    "\n",
    "For any vector and matrix norms $\\|\\cdot\\|_a, \\|\\cdot\\|_b$,  \n",
    "$\\forall n\\in\\mathbb Z^+. \\exists c_{1, n}, c_{2, n} > 0. \\forall x\\in \\mathbb R^n . c_{1, n}\\|x\\|_a \\leq \\|x\\|_b \\leq c_{2, n} \\|x\\|_a$"
   ]
  }
 ],
 "metadata": {
  "hide_input": false,
  "kernelspec": {
   "display_name": "Python 3",
   "language": "python",
   "name": "python3"
  },
  "language_info": {
   "codemirror_mode": {
    "name": "ipython",
    "version": 3
   },
   "file_extension": ".py",
   "mimetype": "text/x-python",
   "name": "python",
   "nbconvert_exporter": "python",
   "pygments_lexer": "ipython3",
   "version": "3.7.4"
  }
 },
 "nbformat": 4,
 "nbformat_minor": 2
}
