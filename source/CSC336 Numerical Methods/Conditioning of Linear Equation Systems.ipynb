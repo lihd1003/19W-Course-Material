{
 "cells": [
  {
   "cell_type": "markdown",
   "metadata": {},
   "source": [
    "\n",
    "\n",
    "### Conditioning for $Ax = b$\n",
    "Input $A,b$, output $x$\n",
    "\n",
    "Assume $A_{n\\times n}$ is non-singular (square matrix), suppose changing $b\\rightarrow \\hat b$, denote $\\Delta b = b - \\hat b$.   \n",
    "Consider $\\Delta x = x - \\hat x$, where $A\\hat x = \\hat b$. Having $\\frac{\\|\\Delta b\\|}{\\|b\\|}$, WTF $\\frac{\\|\\Delta x\\|}{\\|x\\|}$\n",
    "\n",
    "$$\\|Ax\\| = \\frac{\\|Ax\\|\\|x\\|}{\\|x\\|} \\leq \\max_{x\\neq 0}\\frac{\\|Ax\\|\\|x\\|}{\\|x\\|} = \\|A\\|\\|x\\|$$\n",
    "So that\n",
    "$$\\|b\\| = \\|Ax\\| \\leq \\|A\\|\\|x\\|$$\n",
    "$$\\|\\Delta x\\| = \\|A^{-1}\\Delta b\\| \\leq \\|A^{-1}\\|\\|\\Delta b\\|$$\n",
    "Then, using the two inequalities\n",
    "$$\\frac{\\|\\Delta x\\|}{\\|A\\|\\|x\\|} \\leq \\frac{\\|A^{-1}\\|\\|\\Delta b\\|}{\\|A\\|\\|x\\|} \\leq \\frac{\\|A^{-1}\\|\\|\\Delta b\\|}{\\|b\\|}$$\n",
    "$$\\frac{\\|\\Delta x\\|}{\\|x\\|} \\leq \\|A\\|\\|A^{-1}\\|\\frac{\\|\\Delta b\\|}{\\|b\\|}$$\n",
    "Define $Cond(A) = \\|A\\|\\|A^{-1}\\|$\n",
    "\n",
    "Also, note that $Cond(A)^{-1} \\frac{\\|\\Delta b\\|}{\\|b\\|} < \\frac{\\|\\Delta\\|}{\\|x\\|} \\leq Cond(A)\\frac{\\Delta b\\|}{\\|b\\|}$  \n",
    "And $Cond(A)^{-1} \\leq Cond(A)\\Rightarrow Cond(A)^2 \\geq 1\\Rightarrow Cond(A) \\geq 1$\n",
    "\n",
    "Also, noting that the __lemma__ is only true if the norm induced by vector norm "
   ]
  },
  {
   "cell_type": "markdown",
   "metadata": {},
   "source": [
    "__Theorem__ $\\forall A\\in \\mathbb R^n \\times \\mathbb R^n. Cond(A) \\geq 1$ (Another proof)\n",
    "\n",
    "_proof_. $1 = \\|I\\| = \\|A^{-1}A\\| \\leq \\|A^{-1}\\|\\|A\\| = Cond(A)$ by triangular inequality of the norm"
   ]
  },
  {
   "cell_type": "markdown",
   "metadata": {},
   "source": [
    "__Theorem__ $\\frac{\\|\\Delta x\\|}{\\|x\\|} \\leq Cond(A)\\big(\\frac{\\|\\Delta b\\|}{\\|b\\|} + \\frac{\\|\\Delta A\\|}{\\|A\\|}\\big)$"
   ]
  },
  {
   "cell_type": "markdown",
   "metadata": {},
   "source": [
    "For $2\\times 2$ matrices \n",
    "$$A = \\begin{bmatrix} a&b\\\\c&d\\end{bmatrix}, A^{-1} = \\det(A)^{-1}\\begin{bmatrix}d&-b\\\\-c&a\\end{bmatrix}$$"
   ]
  },
  {
   "cell_type": "markdown",
   "metadata": {},
   "source": [
    "#### Example\n",
    "Given $A = \\begin{bmatrix}3&-1\\\\-2&1\\end{bmatrix}$ with $\\|\\cdot\\|_\\infty$\n",
    "\n",
    "Then, $A^{-1} = \\begin{bmatrix}1&1\\\\2&3\\end{bmatrix}$, $\\|A\\|_\\infty = \\max(3 + 1, 2 + 1)=4, \\|A^{-1}\\| = 5$  \n",
    "Therefore, $Cond(A) = 4\\times 5 = 20$, which is good-conditioning. "
   ]
  },
  {
   "cell_type": "markdown",
   "metadata": {},
   "source": [
    "Define $y:= A^{-1}x$ so that $x\\neq 0 \\Leftrightarrow y\\neq 0$  \n",
    "$$\\|A^{-1}\\| = \\max \\frac{\\|A^{-1}x\\|}{\\|x\\|} = \\max\\frac{\\|y\\|}{\\|Ay\\|} = \\max (\\frac{\\|Ay\\|}{\\|y\\|}^{-1}) = \\min(\\frac{\\|Ax\\|}{\\|x\\|})^{-1}$$\n",
    "So that \n",
    "$$\\|A\\|\\|A^{-1}\\| = \\frac{\\max(\\frac{\\|Ax\\|}{\\|x\\|})}{\\min(\\frac{\\|Ax\\|}{\\|x\\|})} = \\frac{\\max_{\\|x\\|=1}\\|Ax\\|}{\\min_{\\|x\\|=1}\\|Ax\\|}$$\n",
    "Is the ratio between how much $A$ expands $x$ and how much $A$ contracts $x$"
   ]
  },
  {
   "cell_type": "markdown",
   "metadata": {},
   "source": [
    "### Properties of Conditioning Numbers\n",
    "$Cond(A)\\geq 1$\n",
    "\n",
    "$Cond(I) = \\|I\\|\\|I^{-1}\\| = 1$\n",
    "\n",
    "$Cond(\\gamma A) = |\\gamma|\\|A\\||\\gamma^{-1}|\\|A^{-1}\\| = Cond(A)$\n",
    "\n",
    "#### Diagonal matrices\n",
    "If $D$ is a diagonal matrix of $diag = \\{d_1, d_2,...,d_n\\}, di\\neq 0$, then $$Cond_\\infty(D) = \\frac{\\max(diag)}{\\max(diag^{-1})} = \\frac{\\max(diag)}{\\min(diag)}$$"
   ]
  },
  {
   "cell_type": "markdown",
   "metadata": {},
   "source": [
    "#### Near singular\n",
    "If changing some elements of $A$ by $A+E$, then it will be singular.   \n",
    "\n",
    "$$\\frac{\\|E\\|}{\\|A\\|}\\propto Cond(A)^{-1}$$\n",
    "So that the larger conditioning number indicates that $A$ is closer to be near singular"
   ]
  },
  {
   "cell_type": "markdown",
   "metadata": {},
   "source": [
    "$\\det(A) = 0 \\Leftrightarrow A$ is singular,  \n",
    "If the $\\det$ is small, then it may not be near singular ($\\det(\\gamma I) = \\gamma$ can be arbitrarily small while still away from singular)"
   ]
  },
  {
   "cell_type": "markdown",
   "metadata": {},
   "source": [
    "#### Estimate matrix inverse \n",
    "Note that computing $A^{-1}$ requires $\\sim n^3$ operations (by Gaussian elimination). To estimate $\\|A^{-1}\\|$ for computing $Cond(A)$\n",
    "$$y=Az\\Rightarrow z = A^{-1}y \\Rightarrow \\|z\\| = \\|A^{-1}y\\| \\leq \\|A^{-1}\\|\\|y\\|\\Rightarrow \\frac{\\|z\\|}{\\|y\\|} \\leq \\|A^{-1}\\|$$\n",
    "Therefore, choose a sequence of $z$'s to try to make $\\frac{\\|z\\|}{\\|y\\|}$ as large as possible (iterative estimating)"
   ]
  },
  {
   "cell_type": "markdown",
   "metadata": {},
   "source": [
    "#### Rounding errors\n",
    "Define $\\Delta A = A - \\hat A, \\Delta b = b - \\hat b$, then $\\frac{\\|\\Delta A\\|}{\\|A\\|}, \\|\\Delta b\\| \\approx \\epsilon_{mach}$. Then \n",
    "$$\\frac{\\|x-\\hat x\\|}{\\|x\\|} \\approx Cond(A)(2\\epsilon_{mach})$$\n",
    "\n",
    "Consider $Ax=b$ computed to get $\\hat x$, define residual $r := b - A\\hat x = b - \\hat b = \\Delta b$  \n",
    "Define $\\Delta x= x - \\hat x, $ then, \n",
    "$$\\frac{\\|\\Delta x\\|}{\\|x\\|} \\leq Cond(A)\\frac{\\|r\\|}{\\|b\\|}$$\n",
    "Nearly all good linear equation solvers have small $\\|r\\|$ so it's only a matter of the conditioning number"
   ]
  }
 ],
 "metadata": {
  "hide_input": false,
  "kernelspec": {
   "display_name": "Python 3",
   "language": "python",
   "name": "python3"
  },
  "language_info": {
   "codemirror_mode": {
    "name": "ipython",
    "version": 3
   },
   "file_extension": ".py",
   "mimetype": "text/x-python",
   "name": "python",
   "nbconvert_exporter": "python",
   "pygments_lexer": "ipython3",
   "version": "3.7.4"
  }
 },
 "nbformat": 4,
 "nbformat_minor": 2
}
