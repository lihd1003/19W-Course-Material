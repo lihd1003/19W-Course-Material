{
 "cells": [
  {
   "cell_type": "code",
   "execution_count": 2,
   "metadata": {},
   "outputs": [],
   "source": [
    "import matplotlib.pyplot as plt\n",
    "import numpy as np"
   ]
  },
  {
   "cell_type": "markdown",
   "metadata": {},
   "source": [
    "# Method of moments estimation\n",
    "Want to find a statistic $T(X_1,...,X_n)$ s.t. $E_\\theta[T(X_1,...,X_n)] = h(\\theta)$ where $h$ has a well-defined inverse. Then, we can set $T(X_1,...,X_n) = h(\\hat\\theta)$ s.t. $\\hat\\theta = h^{-1}(T)$\n",
    "\n",
    "If $X_1,..., X_n$ indep. and $E_\\theta(X_i) = h(\\theta)$, then by substitution principle, we can estimate $E_\\theta(X_i)$ by $\\bar X$ and then $\\bar X = h(\\hat\\theta)$ and so $\\hat\\theta = h^{-1}(\\bar X)$"
   ]
  },
  {
   "cell_type": "markdown",
   "metadata": {},
   "source": [
    "## Example: Exponential Distribution\n",
    "$X_1,...,X_n$ indep, $f(x;\\lambda) = \\lambda \\exp(-\\lambda x), x\\geq 0$, $\\lambda > 0$ is unknown.\n",
    "\n",
    "Note that for $r > 0, E_\\lambda (X_i^r) = \\lambda ^{-r}\\Gamma(r+1)$ so that we have MoM estimator \n",
    "$$n^{-1}\\sum^n X_i^r = \\frac{\\Gamma(r+1)}{\\hat\\lambda^r}$$ \n",
    "$$\\Rightarrow \\hat\\lambda(r) = \\bigg((n\\Gamma(r+1)^{-1}\\sum^nX_i^r)\\bigg)^{-1/r}$$\n",
    "Using $r = 1$ gives the best estimation (minimized s.d.)"
   ]
  },
  {
   "cell_type": "markdown",
   "metadata": {},
   "source": [
    "## Example: Gamma Distribution\n",
    "$X_1,...,X_n$ indep. $f(x;\\lambda, \\alpha) = \\lambda^a x^{a-1}exp(-\\lambda x) \\Gamma(a)^{-1}, x\\geq 0$. $\\lambda, a > 0$ are unknown. \n",
    "Note that $E(X_i) = a/\\lambda, var(X_i) = a/\\lambda^2$, so that MoM gives \n",
    "$$\\bar X = \\hat a / \\hat \\lambda , S^2 = \\hat a / \\hat \\lambda^2$$\n",
    "$$\\Rightarrow \\hat a = \\bar X^2 / S^2 , \\hat \\lambda = \\bar X / S^2$$"
   ]
  },
  {
   "cell_type": "markdown",
   "metadata": {},
   "source": [
    "# Confidence Interval\n",
    "An interval $\\mathcal I = [l(X_1,...,X_n), u(X_1,...,X_n)]$ is a CI with coverage $100p\\%$ if \n",
    "$$P[l(X_1,...,X_n)\\leq \\theta \\leq u(X_1,...,X_n)] = p, \\forall \\theta\\in\\Theta$$"
   ]
  },
  {
   "cell_type": "markdown",
   "metadata": {},
   "source": [
    "## The pivotal method\n",
    "Is not that often that we can measure such probability directly. One way to work around is to find a r.v. $g(X_1,...,X_n,\\theta)$ whose distribution is independent of $\\theta$ and any other unknown params. "
   ]
  },
  {
   "cell_type": "markdown",
   "metadata": {},
   "source": [
    "## The pivotal method\n",
    "Is not that often that we can measure such probability directly. One way to work around is to find a r.v. $g(X_1,...,X_n,\\theta)$ whose distribution is independent of $\\theta$ and any other unknown params. "
   ]
  },
  {
   "cell_type": "markdown",
   "metadata": {},
   "source": [
    "# Confidence Interval\n",
    "An interval $\\mathcal I = [l(X_1,...,X_n), u(X_1,...,X_n)]$ is a CI with coverage $100p\\%$ if \n",
    "$$P[l(X_1,...,X_n)\\leq \\theta \\leq u(X_1,...,X_n)] = p, \\forall \\theta\\in\\Theta$$"
   ]
  },
  {
   "cell_type": "markdown",
   "metadata": {},
   "source": [
    "### Example\n",
    "For $X_1,...,X_{20}$ indep. $\\sim N(\\mu, \\sigma^2)$, the $95\\%$ CI is $[\\bar X\\pm -2.093\\frac{S}{\\sqrt{20}}]$. \n",
    "\n",
    "The following example is 100 samples of size 20 from $N(0, 1)$ and we note that $95\\%$ of the samples falls into the confidence interval. "
   ]
  },
  {
   "cell_type": "code",
   "execution_count": 62,
   "metadata": {},
   "outputs": [
    {
     "data": {
      "image/png": "[encoded data removed]",
      "text/plain": [
       "<Figure size 864x288 with 1 Axes>"
      ]
     },
     "metadata": {
      "needs_background": "light"
     },
     "output_type": "display_data"
    }
   ],
   "source": [
    "samples = np.random.randn(200, 20)\n",
    "mean = samples.mean(axis=1)\n",
    "sd = samples.std(axis=1)\n",
    "not_in_CI = np.concatenate((np.where(mean + 2.093 * sd / samples.shape[1]**0.5 < 0)[0], \n",
    "                            np.where(mean - 2.093 * sd / samples.shape[1]**0.5 > 0)[0]))\n",
    "plt.figure(figsize=(12, 4))\n",
    "plt.errorbar(x=np.arange(samples.shape[0]), y=mean, \n",
    "             yerr = 2.093 * sd / 20**0.5 , \n",
    "             fmt=\" \", label=\"CI covers true mean\")\n",
    "plt.errorbar(x=not_in_CI, y=mean[not_in_CI], \n",
    "             yerr = 2.093 * sd[not_in_CI] / 20**0.5 , \n",
    "             fmt=\" \", color=\"red\", label=\"CI does not cover\")\n",
    "plt.axhline(0, linestyle=\":\", color=\"grey\")\n",
    "plt.xlabel(\"sample\"); plt.ylabel(\"CI\")\n",
    "plt.title(r\"95% CIs for $\\mu$\"); plt.legend();"
   ]
  },
  {
   "cell_type": "markdown",
   "metadata": {},
   "source": [
    "## The pivotal method\n",
    "Is not that often that we can measure such probability directly. One way to work around is to find a r.v. $g(X_1,...,X_n,\\theta)$ whose distribution is independent of $\\theta$ and any other unknown params. "
   ]
  },
  {
   "cell_type": "markdown",
   "metadata": {},
   "source": [
    "# Maximum Likelihood Estimation\n",
    "Given $(X_1,...,X_n)$ r.v. with joint pdf \n",
    "$$f(x_1,...,x_n; \\theta_1,...,\\theta_k)$$\n",
    "where $\\theta$'s are unknown parameters.  \n",
    "The likelihood is defined as \n",
    "$$\\mathcal L(\\theta_1, ...,\\theta_k) = f(x_1,...,x_n; \\theta_1,...,\\theta_k)$$\n",
    "note that $x_1,...,x_n$ are fixed observations\n",
    "\n",
    "Suppose that for each $\\vec x$, $(T_1(\\vec x), ..., T_k(\\vec x))$ maximize $\\mathcal L (\\Theta)$ . Then maximum likelihood estimators (MLEs) of $\\Theta$ are \n",
    "$$\\hat \\theta_j = T_j(X_1,..., X_n), j = 1,..., k$$\n",
    "\n",
    "## Existence and uniqueness\n",
    "- MLE is essentially an ad hoc procedure albeit one that works very well in many problems. \n",
    "- MLEs need not be unique, although in most cases, it is unique. \n",
    "- MLEs may not exist, typically when the sample size is too small."
   ]
  },
  {
   "cell_type": "markdown",
   "metadata": {},
   "source": [
    "## Sufficient Statistic\n",
    "A statistic $T = (T_1(\\vec X), ..., T_m(\\vec X))$ is sufficient for $\\theta$ if the conditional distribution of $\\vec X$ given $T = t$ depends only on $t$. \n",
    "\n",
    "### Neyman Factorization Theorem\n",
    "$T$ is sufficient for $\\theta$ IFF \n",
    "$$f(\\vec x;\\theta) = g(T(\\vec x); \\theta) h(\\vec x)$$"
   ]
  },
  {
   "cell_type": "markdown",
   "metadata": {},
   "source": [
    "## Observed Fisher Information\n",
    "Given the MLE $\\hat \\theta$, the observed Fisher information is \n",
    "$$\\mathcal I(\\hat\\theta) = -\\frac{d^2}{d\\theta^2}\\ln \\mathcal L(\\hat\\theta)$$\n",
    "Fisher information is an estimator for standard error, i.e. \n",
    "$$\\hat se(\\hat \\theta) = \\{\\mathcal I(\\hat\\theta)\\}^{-1/2}$$\n",
    "Mathematically, this is the absolute curvature of the log-likelihood function at its maximum. If this is small, then the estimator is more well-defined (hence with smaller estimated s.e.)"
   ]
  },
  {
   "cell_type": "markdown",
   "metadata": {},
   "source": [
    "## Approximate normality of MLEs\n",
    "\n",
    "__Theorem__ For $X_1,...,X_n$ indep. with pdf $f$ for some real-valued $\\theta\\in \\Theta$, if\n",
    " - $\\Theta$ is an open set\n",
    " - $A = \\{x: f(x;\\theta)> 0\\}$ does not depend on $\\theta$ (true for the exponential families) \n",
    " - $l(x;\\theta)$ is 3-time differentiable w.r.t. $\\theta$ for each $x\\in A$. \n",
    " \n",
    "Then, with $\\theta_0$ being the true parameter, we have \n",
    "\n",
    "\\begin{align*}\n",
    "\\sqrt n(\\hat\\theta_n - \\theta_0) &\\approx \\bigg\\{-n^{-1}\\sum^n l''(X_i; \\theta_0)\\bigg\\}^{-1}\\frac{1}{\\sqrt n} \\sum^n l'(X_i;\\theta_0)\\\\\n",
    "&\\approx \\frac{1}{\\sqrt n} \\sum^n \\frac{l'(X_i; \\theta_0)}{\\mathcal I(\\theta_0)}\\\\\n",
    "&\\rightarrow^d N(0, \\mathcal I(\\theta_0)^{-1})\n",
    "\\end{align*}\n",
    "\n",
    "_proof_. This conclusion follows Taylor expansion \n",
    "$$0 = \\frac{1}{\\sqrt n} \\sum^n l'(X_i;\\theta_0) + \\{\\sqrt n (\\hat \\theta_n - \\theta_0)\\} \\frac{\\sum^n l''(X_i; \\theta_0)}{n} + \\sqrt n(\\hat\\theta_n - \\theta_0) \\times R_n$$\n",
    "where $R_n = \\frac{1}{2}(\\hat\\theta_n - \\theta_0) \\frac{\\sum^nl''(X_i; \\theta_n^*)}{n}$ is the Taylor's remainder with $\\theta_n^*$ in between $\\hat\\theta_n, \\theta_0$\n",
    "so that \n",
    "$$\\sqrt n (\\hat\\theta_n - \\theta_0) =\\bigg\\{-n^{-1}\\sum^n l''(X_i; \\theta_0) - R_n\\bigg\\}^{-1}\\frac{1}{\\sqrt n} \\sum^n l'(X_i;\\theta_0)$$\n",
    "Then, note that $\\hat\\theta_n - \\theta_0 \\rightarrow ^p 0$ (i.e. $\\hat\\theta$) is a \"good\" estimator from the assumption, and $\\frac{1}{n}\\sum l''(X_i; \\theta_n^*)$ is bounded. so that their product, \n",
    "$$ R_n = \\frac{1}{2}(\\hat\\theta_n - \\theta_0) \\frac{\\sum^nl''(X_i; \\theta_n^*)}{n}\\rightarrow^p 0$$\n",
    "Therefore, $\\sqrt{\\hat\\theta_n - \\theta_0}\\rightarrow^d (0, \\mathcal I(\\theta_0)^{-1})$"
   ]
  }
 ],
 "metadata": {
  "hide_input": false,
  "kernelspec": {
   "display_name": "Python 3",
   "language": "python",
   "name": "python3"
  },
  "language_info": {
   "codemirror_mode": {
    "name": "ipython",
    "version": 3
   },
   "file_extension": ".py",
   "mimetype": "text/x-python",
   "name": "python",
   "nbconvert_exporter": "python",
   "pygments_lexer": "ipython3",
   "version": "3.7.4"
  },
  "pycharm": {
   "stem_cell": {
    "cell_type": "raw",
    "metadata": {
     "collapsed": false
    },
    "source": []
   }
  }
 },
 "nbformat": 4,
 "nbformat_minor": 2
}
