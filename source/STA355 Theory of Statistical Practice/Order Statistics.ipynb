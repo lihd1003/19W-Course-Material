{
 "cells": [
  {
   "cell_type": "markdown",
   "metadata": {},
   "source": [
    "### Order Statistics\n",
    "\n",
    "Let $X_1,...,X_n$ indep. with unknown $F$\n",
    "\n",
    "order $X_1,...,X_n$ in increasing order $X_{(1)}\\leq ... \\leq X_{(n)}$. Due to the independence assumption, the order statistics carry the same info about $F$ as the unordered.  \n",
    "\n",
    "Also, the order statistics can be used to estimate the quantiles $F^{-1}(\\tau)$, such as median $$M = \\begin{cases}\n",
    "\\frac{1}{2}(X_\\frac n2 + X_{\\frac n2+1}) &\\text{even}\\\\\n",
    "\\frac 1 2 X_{\\frac{n+1}2} &\\text{odd}\n",
    "\\end{cases}\\approx F^{-1}(1/2)$$ \n",
    "Similarly, $F^{-1}(\\tau)\\approx X_{k}, k \\approx \\tau n$"
   ]
  },
  {
   "cell_type": "markdown",
   "metadata": {},
   "source": [
    "### Sample Extremums\n",
    "with the independence assumption, \n",
    "\n",
    "#### Sample Minimum\n",
    "\\begin{align*}\n",
    "P(X_{(1)}\\leq x) &= 1 - P(X_{1}>x)\\\\\n",
    "&= 1 - P(X_1>x, X_2>x,..., X_n>x)\\\\\n",
    "&= 1 - \\prod_{i=1}^n P(X_i>x) &\\text{independence}\\\\\n",
    "&= 1 - [1-F(x)]^n\n",
    "\\end{align*}\n",
    "so that the pdf is $g_1(x) = n[1-F(x)]^{n-1}f(x)$\n",
    "#### Sample Maximum\n",
    "$$P(X_{n}\\leq x) = P(X_1\\leq x, ..., X_n\\leq x)= F(x)^n$$\n",
    "pdf is $g_n(x) = nF(x)^{n-1}F(x)$"
   ]
  },
  {
   "cell_type": "markdown",
   "metadata": {},
   "source": [
    "### Sample Distribution\n",
    "Consider the distribution of $X_{k}$\n",
    "\n",
    "First, define r.v. $Z(x) = \\sum^n\\mathbb I(X_i\\leq x) \\sim Binomial(n,F(x))$ so that $X_{(k)}\\leq x = Z(x)\\geq k$. \n",
    "\n",
    "Then, \n",
    "$$P(X_{(k)}\\leq x) = P(Z(x)\\geq k) = \\sum_{i=k}^n{n\\choose i}F(x)^i[1-F(x)]^{n-i}$$\n",
    "and \n",
    "\\begin{align*}\n",
    "g_k(x) &= \\frac{d}{dx}\\sum_{i=k}^n {n\\choose i}F(x)^i[1-F(x)]^{n-i}\\\\\n",
    "&= \\frac{n!}{(k-1)!(n-k)!}F(x)^{k-1}[1-F(x)]^{n-k}f(x)\n",
    "\\end{align*}"
   ]
  },
  {
   "cell_type": "markdown",
   "metadata": {},
   "source": [
    "## Central order statistics\n",
    "Let $k = k_n\\approx \\tau n, \\tau \\in (0,1)$, then $X_{(k)}$ is called a __central order statistic__.  \n",
    "Intuitively, $X_{(k)}$ is an estimator of the $\\tau$-quantile $F^{-1}(\\tau)$, formally \n",
    "$$X_{(k)} \\rightarrow^p F^{-1}(\\tau), n\\rightarrow \\infty, k_n/n\\rightarrow \\tau$$"
   ]
  },
  {
   "cell_type": "markdown",
   "metadata": {},
   "source": [
    "### Convergence in distribution of central order \n",
    "$$\\sqrt n(X_{(k)} - F^{-1}(\\tau))\\rightarrow^d N\\bigg(0, \\frac{\\tau(1-\\tau)}{f^2(F^{-1}(\\tau))}\\bigg)$$\n",
    "Proof by using $Unif(0,1)$ order statistics and then Delta method to generalize.\n",
    "\n",
    "_proof_. Take $U_1,...,U_n$ be independent $Unif(0,1)$ r.v., and use the order statistics $U_{(1)}\\leq ... \\leq U_{(n)}$.  \n",
    "Take $E_1,E_2,...,E_{n+1}$ to be independent r.v. $\\sim Exponential(1)$. Let $S=\\sum_{i=1}^{n+1}E_i$Note that \n",
    "$$(U_{(1)},...,U_{(n)})=^d (\\frac{E_1}{S}, \\frac{E_1+E_2}S, ..., \\frac{E_1+...+E_n}S)$$\n",
    "Then, we can approximate the distribution by sum of exponential r.v. \n",
    "$$U_{(k)}=\\frac{(E_1+...+E_k)/n}{(E_1+...+E_{n+1})/n}\\approx n^{-1}(E_1+...+E_k)$$\n",
    "\n",
    "Assume $\\sqrt{n}(\\frac{k_n}{n}-\\tau)\\rightarrow 0$, then \n",
    "$$\\sqrt{n}(U_{(k_n)}-\\tau)=^d \\sqrt n \\big(\\frac{E_1+...E_{k_n}}{S}-\\tau\\big)=\\sqrt n \\big(\\frac{E_1+...E_{k_n}-\\tau S}{S}\\big)$$\n",
    "Note that \n",
    "$$\\frac Sn = \\underset{\\rightarrow^p \\:1\\: (WLLN)}{\\big(\\frac{E_1+...E_{n+1}}{n+1}}\\big)\\underset{\\rightarrow 1}{\\frac{n+1}{n}}\\rightarrow^p 1$$"
   ]
  },
  {
   "cell_type": "markdown",
   "metadata": {},
   "source": [
    "__WTS $\\sqrt n \\big(n^{-1}(E_1+...+E_{k_n}-\\tau S)\\big)\\rightarrow^d N(0,\\tau(1-\\tau))$__\n",
    "\n",
    "Let $A$ be the summation\n",
    "\\begin{align*}\n",
    "A&:=E_1+...+E_{k_n}-\\tau S \\\\\n",
    "&= E_1 + ..+E_{k_n}-\\tau(E_1+...+E_n)\\\\\n",
    "&= (1-\\tau)(E_1 + ... + E_{k_n})+(-\\tau)(E_{k_n+1}+...+E_{n+1})\\\\\n",
    "\\end{align*}\n",
    "\n",
    "Using CLT, \n",
    "\\begin{align*}\n",
    "E[\\frac A{\\sqrt n}] &= \\frac{1}{\\sqrt n}\\big(k_n(1-\\tau)- (n-k_n+1)\\tau\\big)\\\\\n",
    "&=\\frac{1}{\\sqrt n}(k_n-n\\tau -\\tau)\\\\\n",
    "&= \\sqrt n(\\frac{k_n}{n}-\\tau) - \\frac{\\tau}{\\sqrt n}\\\\\n",
    "&\\rightarrow 0 - 0=0\n",
    "\\end{align*}\n",
    "\n",
    "\\begin{align*}\n",
    "var\\bigg[\\frac A{\\sqrt n}\\bigg] &= \\frac 1 n \\big (k_n(1-\\tau)^2 + (n-k_n+1)\\tau^2\\big)\\\\\n",
    "&= \\frac{1}{n}\\big(k_n - 2\\tau k_n + k_n \\tau^2 + n\\tau^2 - k_n \\tau^2 + \\tau^2\\big)\\\\\n",
    "&= \\frac{k_n} n - 2\\tau\\frac{k_n}n + \\tau^2 + \\frac{\\tau^2}{n}\\\\\n",
    "&\\rightarrow \\tau - 2\\tau\\tau + \\tau^2 + 0\\\\\n",
    "&= \\tau(1-\\tau)\n",
    "\\end{align*}"
   ]
  },
  {
   "cell_type": "markdown",
   "metadata": {},
   "source": [
    "__Theorem__ If $U\\sim Unif(0,1)$ and $F$ is continuous cdf with pdf $f$ with $f(x)>0$ for all $x$ with $0<F(x)<1$. Then $X=F^{-1}(U)\\sim F$. Therefore, for some cdf \n",
    "$$F^{-1}(U_{(1)})\\leq ... \\leq F^{-1}(U_{(n)})$$ \n",
    "are order statistics from $F$. \n",
    "\n",
    "Then, \n",
    "\n",
    "$$\\sqrt n (X_{(k_n)}-F^{-1}(\\tau))=^d \\sqrt n (F^{-1}(U_{(k_n)}-F^{-1}(\\tau)))$$\n",
    "\n",
    "Then we can use Delta Method, note that\n",
    "\\begin{align*}\n",
    "\\frac{d}{d\\tau}F(F^{-1}(\\tau)) &= \\frac d{d\\tau}\\tau\\\\\n",
    "f(F^{-1}(\\tau))\\frac d{d\\tau}F^{-1}(\\tau)&= 1\\\\\n",
    "\\frac d{d\\tau}F^{-1}(\\tau)&= f(F^{-1}(\\tau))^{-1}\n",
    "\\end{align*}\n",
    "\n",
    "So that \n",
    "$$\\sqrt n (X_{k_n}-F^{-1}(\\tau))\\rightarrow^d N\\big(0, \\frac{\\tau(1-\\tau)}{f^2(F^{-1}(\\tau))}\\big)$$"
   ]
  },
  {
   "cell_type": "markdown",
   "metadata": {},
   "source": [
    "## Quantile-quantile plots\n",
    "Plot $x_{(k)}$ versus $F_0^{-1}(\\tau_k)$ for $k=1,...,n$.  \n",
    "According to the theory, if the data come from a distribution of this form then \n",
    "$$x_{(k)} = \\mu + \\sigma F_0^{-1}(\\tau_k) + \\epsilon_k, k=1,...,n$$\n",
    "where \n",
    "$$\\epsilon_k \\sim N\\bigg(0, \\frac{\\sigma^2\\tau_k (1-\\tau_k)}{nf_0^2(F_0^{-1})(\\tau_k)}\\bigg)$$\n",
    "Then, note that for fixed $\\tau_k, var(\\tau_k)\\rightarrow^{n\\rightarrow \\infty}0$  \n",
    "\n",
    "Assess if data $x_1,...,x_n$ are well-modeled by a cdf of the form $F_0(\\frac{x-\\mu}{\\sigma})$ for some $F_0$. "
   ]
  },
  {
   "cell_type": "markdown",
   "metadata": {},
   "source": [
    "### Example: Normal QQ Plot\n",
    "Given $x_1,...,x_n$ then the steps are \n",
    " 1. order $x_1,...,x_n$ into $x_{(1)}\\leq ...\\leq x_{(n)}$\n",
    " 2. let $Z_{(1)}\\leq ... \\leq Z_{(n)}$ be the order statistics of a sample of size $n$ from $N(0,1)$ and define $e_i = E(Z_{(i)})$ to be the expected values of the order statistics; $e_i \\approx \\Phi^{-1}(\\frac{i-0.375}{n+0.25})$ \n",
    " 3. Plot $x_{(i)}$ vs. $e_i$. If $x_1,...,x_n$ do com from a normal distribution then the points should fall close to a straight line. If the plot shows a certain degree of curvature then notifies this may not be a normal model. "
   ]
  },
  {
   "cell_type": "code",
   "execution_count": 8,
   "metadata": {},
   "outputs": [
    {
     "data": {
      "image/png": "[encoded data removed]",
      "text/plain": [
       "Plot with title \"Normal Q-Q Plot\""
      ]
     },
     "metadata": {
      "image/png": {
       "height": 420,
       "width": 420
      },
      "text/plain": {
       "height": 420,
       "width": 420
      }
     },
     "output_type": "display_data"
    },
    {
     "data": {
      "image/png": "[encoded data removed]",
      "text/plain": [
       "Plot with title \"Normal Q-Q Plot\""
      ]
     },
     "metadata": {
      "image/png": {
       "height": 420,
       "width": 420
      },
      "text/plain": {
       "height": 420,
       "width": 420
      }
     },
     "output_type": "display_data"
    }
   ],
   "source": [
    "x1 <- rnorm(200) # generate random data from N(0,1)\n",
    "qqnorm(x1) \n",
    "x2 <- rgamma(200, shape=.5) # generate gamma with shape=0.5\n",
    "qqnorm(x2)"
   ]
  },
  {
   "cell_type": "markdown",
   "metadata": {},
   "source": [
    "## Shapiro-Wilk Test\n",
    "A formalized way of composing the normal QQ plot by the correlation between $\\{X_{(k)}\\}$ and $\\{F_0^{-1}(\\tau_k)\\}$ where $F_0 = N(0,1)$\n",
    "\n",
    "$H_0:$ data come from $N(\\mu,\\sigma)$ for some $\\mu,\\sigma$  \n",
    "statistic \n",
    "$$W = \\frac{(\\sum^n a_ix_{(i)})^2}{\\sum^n(x_{(i)}-\\bar x)^2}, \\text{ where }\\begin{bmatrix}a_1\\\\...\\\\a_n\\end{bmatrix} = k_vV^{-1}\\begin{bmatrix}e_1\\\\...\\\\e_n\\end{bmatrix}$$\n",
    "where $V[i,j] = cov(Z_{(i)}, Z_{(j)})$ and $k_v$ is determined so that $\\sum a_i^2 = 1$. \n",
    "\n",
    "For larger $n$, then $W$ is approximately \n",
    "$$W^* = \\frac{(\\sum^n e_ix_{(i)})^2}{\\sum_{i=1}^n e_i^2(\\sum_{i=1}^n (x_{(i)}-\\bar x))^2}$$"
   ]
  },
  {
   "cell_type": "code",
   "execution_count": 11,
   "metadata": {},
   "outputs": [
    {
     "data": {
      "text/plain": [
       "\n",
       "\tShapiro-Wilk normality test\n",
       "\n",
       "data:  x1\n",
       "W = 0.99369, p-value = 0.5554\n"
      ]
     },
     "metadata": {},
     "output_type": "display_data"
    },
    {
     "data": {
      "text/plain": [
       "\n",
       "\tShapiro-Wilk normality test\n",
       "\n",
       "data:  x2\n",
       "W = 0.6741, p-value < 2.2e-16\n"
      ]
     },
     "metadata": {},
     "output_type": "display_data"
    }
   ],
   "source": [
    "shapiro.test(x1)\n",
    "shapiro.test(x2)"
   ]
  }
 ],
 "metadata": {
  "kernelspec": {
   "display_name": "R",
   "language": "R",
   "name": "ir"
  },
  "language_info": {
   "codemirror_mode": "r",
   "file_extension": ".r",
   "mimetype": "text/x-r-source",
   "name": "R",
   "pygments_lexer": "r",
   "version": "3.6.2"
  }
 },
 "nbformat": 4,
 "nbformat_minor": 2
}
