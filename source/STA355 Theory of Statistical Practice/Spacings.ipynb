{
 "cells": [
  {
   "cell_type": "markdown",
   "metadata": {},
   "source": [
    "## Spacings \n",
    "Given the order statistics $X_{(1)}\\leq ... \\leq X_{(n)}$, define $(n-1)$ spacings (first order spacings) by \n",
    "$$D_k = X_{(k+1)}-X_{(k)}, k=1,...,n-1$$\n",
    "Intuitively, the spacings should carry some information about the pdf $f$. \n",
    "\n",
    "Note that if $\\tau \\approx \\frac{k+1}{n}\\approx \\frac{k}{n}$ then $X_{(k+1)}$ and $X_{(k)}$ estimate $F^{-1}(\\tau)$.  \n",
    "If $f(F^{-1}(\\tau))$ is large then $D_k$ is small, conversely, $f(F^{-1}(\\tau))$ is small then $D_k$ is large. "
   ]
  },
  {
   "cell_type": "markdown",
   "metadata": {},
   "source": [
    "#### Exponential Spacings \n",
    "$X_1,...,X_n\\sim Exp(\\lambda)$ iid. \n",
    "$$f(x;\\lambda) = \\lambda \\exp(-\\lambda x)\\mathbb I(x\\geq 0)$$\n",
    "Given the order statistics $X_{(1)}\\leq ...\\leq X_{(n)}$ define \n",
    "\\begin{align*}\n",
    "Y_1 &= nX_{(1)}\\\\\n",
    "Y_2 &= (n-1)(X_{(2)}-X_{(1)}) = (n-1)D_1\\\\\n",
    "Y_2 &= (n-2)(X_{(3)}-X_{(2)}) = (n-2)D_2\\\\\n",
    "\\vdots\\\\\n",
    "Y_n &= X_{(n)} - X_{(n-1)} = D_{n-1}\n",
    "\\end{align*}\n",
    "\n",
    "__Proposition__ $Y_1,...,Y_n$ are iid $\\sim Exp(\\lambda)$  \n",
    "\n",
    "_proof_. Note that the join pdf of $(X_{(1)}, ..., X_{(n)})$ if \n",
    "$$f(x_1,...,x_n) = n!\\lambda^n\\exp(-\\lambda \\sum^n x_i)\\mathbb I(0\\leq x_1<x_2<...<x_n)$$\n",
    "Also, note that \n",
    "\\begin{align*}\n",
    "X_{(1)} &= Y_1/n \\\\\n",
    "X_{(k)} &= \\frac{Y_1}{n} + ... + \\frac{Y_k}{n-k+1}, k = 2,...,n\n",
    "\\end{align*}\n",
    "Therefore, \n",
    "$$g(y_1,...,y_n) = f\\big(\\frac{y_1}n, ..., \\frac{y_1}{n} + \\frac{y_2}{n-1} + ... + y_n\\big)|J(y_1,...,y_n)|$$\n",
    "Note that $|J|$ is the absolute determinant of the matrix \n",
    "$$\\begin{bmatrix}\n",
    "1/n&0&0&...&0\\\\\n",
    "1/n&\\frac 1{n-1}&0&...&0\\\\\n",
    "\\vdots &\\vdots &\\ddots &...&\\vdots\\\\\n",
    "1/n&\\frac{1}{n-1}&\\frac 1{n-2}&...&1\n",
    "\\end{bmatrix}$$\n",
    "which is $\\frac{1}{n!}$\n",
    "$$g(y_1,...,y_n)=n!\\lambda^n\\exp(-\\lambda \\sum^n x_i) \\frac 1{n!} = \\lambda^n\\exp(-\\lambda \\sum^n x_i)\\mathbb I(y_1,...,y_n\\geq 0)$$"
   ]
  },
  {
   "cell_type": "markdown",
   "metadata": {},
   "source": [
    "__Proposition__ If $\\frac{k_n}n\\rightarrow\\tau\\in (0,1)$ and $f(F^{-1}(\\tau)) > 0$, then \n",
    "$$nD_{k_n}\\rightarrow^d Exp(f(F^{-1}(\\tau)))$$\n",
    "i.e. \n",
    "$$P(D_{k_n}\\leq x )\\approx 1 - \\exp(-nf(F^{-1}(\\tau))x), x\\geq 0$$\n",
    "\n",
    "_proof_. Note that \n",
    "$$X_{(k_n+1)}=^d F^{-1}\\big(\\frac{E_1+...+E_{k_n+1}}{E_1+...+E_{n+1}}\\big), X_{(k_n)}=^d F^{-1}\\big(\\frac{E_1+...+E_{k_n}}{E_1+...+E_{n+1}}\\big)$$\n",
    "where $E_i \\sim Exp(1)$  \n",
    "so that \n",
    "\\begin{align*}\n",
    "nD_{k_n} &= ^d n\\bigg(F^{-1}\\big(\\frac{E_1+...+E_{k_n+1}}{E_1+...+E_{n+1}} - F^{-1}\\big(\\frac{E_1+...+E_{k_n}}{E_1+...+E_{n+1}}\\big)\\big)\\bigg)\\\\\n",
    "&\\approx \\frac{1}{f(F^{-1}(\\tau))}\\bigg(\\frac{nE_{k_n+1}}{E_1+...+E_{n+1}}\\bigg)\\\\\n",
    "&= \\frac{1}{f(F^{-1}(\\tau))}\\bigg(\\frac{E_{k_n+1}}{(E_1+...+E_{n+1})/n}\\bigg)\\\\\n",
    "&\\rightarrow^p \\frac{E_{k_n+1}}{f(F^{-1}(\\tau))} &\\text{WLLN, }\\frac{E_1+...+E_{n+1}}n\\rightarrow^p 1\\\\\n",
    "&\\sim Exp(f(F^{-1}(\\tau)))\n",
    "\\end{align*}"
   ]
  },
  {
   "cell_type": "markdown",
   "metadata": {},
   "source": [
    "### Example: density estimation using spacings\n",
    "Consider $D_1,...,D_{n-1}$ are iid. exponential with $E(nD_k) = \\exp(g(V_k))$ where $V_k = \\frac{X_{(k+1)} + X_{(k)}}{2}$, then $V_k\\approx F^{-1}(\\tau), \\tau\\approx \\frac kn\\approx \\frac{k+1}n$ and the density is $f(x)=\\exp(-g(x))$\n",
    "\n",
    "Using $B-spline$ functions, we can estimate the function $g(x)$\n",
    "$$g(x)=\\beta_0 + \\sum_{i=1}^p \\beta_j \\psi_j(x)$$\n",
    "where $\\beta_i$'s are unknown parameters and $\\psi_j$'s are B-spline functions. "
   ]
  },
  {
   "cell_type": "code",
   "execution_count": 2,
   "metadata": {},
   "outputs": [],
   "source": [
    "# create the splines functions\n",
    "den.splines <- function(x,p=5) {\n",
    "    library(splines)\n",
    "    n <- length(x)\n",
    "    x <- sort(x)\n",
    "    x1 <- c(NA,x)\n",
    "    x2 <- c(x,NA)\n",
    "    sp <- (x2-x1)[2:n]\n",
    "    mid <- 0.5*(x1+x2)[2:n]\n",
    "    y <- n*sp\n",
    "    xx <- bs(mid,df=p)\n",
    "    r <- glm(y~xx,family=quasi(link=\"log\",variance=\"mu^2\"))\n",
    "    density <- exp(-r$linear.predictors)\n",
    "    r <- list(x=mid,density=density)\n",
    "    r\n",
    "}"
   ]
  },
  {
   "cell_type": "markdown",
   "metadata": {},
   "source": [
    "Consider sampling from GMM model\n",
    "$$0.7N(2,1) + 0.3N(-2, 1)$$"
   ]
  },
  {
   "cell_type": "code",
   "execution_count": 12,
   "metadata": {},
   "outputs": [
    {
     "data": {
      "image/png": "[encoded data removed]",
      "text/plain": [
       "plot without title"
      ]
     },
     "metadata": {
      "image/png": {
       "height": 420,
       "width": 420
      },
      "text/plain": {
       "height": 420,
       "width": 420
      }
     },
     "output_type": "display_data"
    }
   ],
   "source": [
    "# randomly sample 500 points from given GMM\n",
    "x <- ifelse(runif(500) < .7, rnorm(500, 2, 1), rnorm(500, -2, 1))\n",
    "# estimate density using p = 8\n",
    "r <- den.splines(x,p=8)\n",
    "# estimation\n",
    "plot(r$x,r$density,type=\"l\",xlab=\"x\",ylab=\"density\",lwd=4,col=\"red\")\n",
    "# actual\n",
    "lines(r$x,0.3*dnorm(r$x,-2,1)+0.7*dnorm(r$x,2,1),lwd=2,lty=2)\n",
    "legend(\"topleft\", c(\"estimation\", \"actual GMM\"), fill=c(\"red\", \"black\"))"
   ]
  },
  {
   "cell_type": "markdown",
   "metadata": {},
   "source": [
    "## Hazard Functions\n",
    "For $X$ is a positive continuous rv, its hazard function is \n",
    "$$h(x) = \\frac{f(x)}{1-F(x)}$$\n",
    "\n",
    "The motivation behind is to consider $X$ as the survival time, consider \n",
    "\\begin{align*}\n",
    "\\delta^{-1}P(x<X<x+\\delta\\mid X>x) &= \\delta^{-1}\\frac{P(x<X\\leq x+\\delta)}{P(X>x)}\\\\\n",
    "&= \\delta^{-1}\\frac{F(x+\\delta) - F(x)}{1-F(x)}\\\\\n",
    "&\\rightarrow_{\\delta\\rightarrow 0} \\frac{f(x)}{1-F(x)} =:h(x)\n",
    "\\end{align*}\n",
    "Therefore, this represents instantaneous death rate given survival to time $x$. \n",
    "\n",
    "Also, note that \n",
    "$$h(x) = \\frac{f(x)}{1-F(x)} = -\\frac{d}{dx}\\ln(1-F(x))$$\n",
    "Therefore, \n",
    "$$F(x) = 1 - \\exp(-\\int_0^x h(t)dt), f(x) = h(x)\\exp(-\\int_0^x h(t)dt)$$\n",
    "\n",
    "In this case, we require $\\int_0^\\infty h(x)dx = \\infty$ so that to have a \"proper\" probability distribution. \n",
    "\n",
    "The shape of the hazard function gives info not immediately apparent in $f$ or $F$. \n",
    "$h(x)$ increasing indicates new better than used, decreasing indicates used better than new"
   ]
  }
 ],
 "metadata": {
  "kernelspec": {
   "display_name": "R",
   "language": "R",
   "name": "ir"
  },
  "language_info": {
   "codemirror_mode": "r",
   "file_extension": ".r",
   "mimetype": "text/x-r-source",
   "name": "R",
   "pygments_lexer": "r",
   "version": "3.6.2"
  }
 },
 "nbformat": 4,
 "nbformat_minor": 2
}
