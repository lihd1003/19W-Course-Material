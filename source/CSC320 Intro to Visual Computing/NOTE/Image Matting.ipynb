{
 "cells": [
  {
   "cell_type": "markdown",
   "metadata": {},
   "source": [
    "#### Alpha Channel \n",
    "Alpha channel is pixel \"transparency\" $\\alpha\\in [0, 1]$  \n",
    "\n",
    "When representing RGBA pixel as RGB, we calculate the alpha composite   \n",
    "$$C = \\alpha_F C_F + (1-\\alpha_F)C_B$$ \n",
    "where $F:=$ foreground, $B:=$background"
   ]
  },
  {
   "cell_type": "markdown",
   "metadata": {},
   "source": [
    "#### Matting Problem\n",
    "We want to extract all the foreground pixels $F = [F_r, F_g, F_b]$ and matte $\\alpha$, Given $B=[B_r, B_g, B_n], C=[C_r, C_g, C_b]$  \n",
    "Therefore, for each pixel, the equation is \n",
    "$$C_{r,g,b}=\\alpha F_{r,g,b} + (1-\\alpha)B_{r,g,b}$$ \n",
    "Which are 3 equations and 7 unknowns"
   ]
  },
  {
   "cell_type": "markdown",
   "metadata": {},
   "source": [
    "#### Methods to solve Matting equation"
   ]
  },
  {
   "cell_type": "markdown",
   "metadata": {},
   "source": [
    "##### Known Background\n",
    "If $B$ is known, and given there is no semi-transparency, i.e. $\\alpha = \\mathbb I(C=B)$\n",
    "Therefore, we reduce $4$ unknowns\n",
    "\n",
    "__Problems__  \n",
    "Background must be known accurately, and constant  \n",
    "Foreground subject cannot be similar to the background  \n",
    "$\\alpha$ is either 0 or 1, hence no semi-transparency"
   ]
  },
  {
   "cell_type": "markdown",
   "metadata": {},
   "source": [
    "##### Blue Screen Matting\n",
    "Assume background contains only blue, i.e. $B = [0, 0, B_b]$, then  \n",
    "$$C_r = aF_r, C_g = aF_g, C_b = (1-a)B_b$$\n",
    "\n",
    "__Problems__  \n",
    "You cannot have any blue channel in the foreground, which is almost impossible. Also, \"blue/green spilling\" will have blue light reflected, make components blue"
   ]
  },
  {
   "cell_type": "markdown",
   "metadata": {},
   "source": [
    "##### Gray or Skin Colored Foreground\n",
    "Constant, one-channel color background, and assume foreground color is proportional, such as gray $F:= [d, d, d]$, flesh$F:=[d, d/2, d/2]$. Then, $$C_r = aF, C_g = aF, C_b = aF + (1-a)B_v$$\n",
    "\n",
    "The assumption is too strong"
   ]
  },
  {
   "cell_type": "markdown",
   "metadata": {},
   "source": [
    "##### Triangulation Matting\n",
    "If there are two different background, with the same lighting and position, let the two backgrounds be $B_0, B_1$, then  \n",
    "$$C_0 = aF + (1-a)B_0, C_1 = aF + (1-a)B_1$$\n",
    "We have 6 equations, 4 unknowns"
   ]
  },
  {
   "cell_type": "markdown",
   "metadata": {},
   "source": [
    "Then, to solve such system of equations, we can use a sparse matrix \n",
    "$$\\begin{bmatrix}C_{0,r}\\\\C_{0,g}\\\\C_{0,b}\\\\C_{1,r}\\\\C_{1,g}\\\\C_{1,b}\\end{bmatrix}\n",
    " = \\begin{bmatrix}1&0&0&B_{0,r}\\\\0&1&0&B_{0,g}\\\\0&0&1&B_{0,b}\\\\1&0&0&B_{1,r}\\\\0&1&0&B_{1,g}\\\\0&0&1&B_{1,b}\n",
    "\\end{bmatrix}\\begin{bmatrix}F_r\\\\F_g\\\\R_b\\\\\\alpha\\end{bmatrix}$$\n",
    "$$b = Ax$$\n",
    "So that we can approximate using psurdo-inverse, $x = (A^TA)^{-1}A^Tb$"
   ]
  }
 ],
 "metadata": {
  "hide_input": false,
  "kernelspec": {
   "display_name": "Python 3",
   "language": "python",
   "name": "python3"
  },
  "language_info": {
   "codemirror_mode": {
    "name": "ipython",
    "version": 3
   },
   "file_extension": ".py",
   "mimetype": "text/x-python",
   "name": "python",
   "nbconvert_exporter": "python",
   "pygments_lexer": "ipython3",
   "version": "3.7.4"
  }
 },
 "nbformat": 4,
 "nbformat_minor": 2
}
