{
 "cells": [
  {
   "cell_type": "markdown",
   "metadata": {},
   "source": [
    "#### Smoothing Filter\n",
    "Assume the smoothing weights $\\hat w$ is $1\\times 5$. To make such weights a proper smoothing filters. $\\hat w$ is symmetric, sum to $1$, and have equal contribution $$\\hat w = [c, b, a, b, c], b = 1/4, c = \\frac{1-2a}{4}$$$$a+2b+2c = 1$$$$a+2c = 2b=1/2$$\n",
    "then the convolution filter is $W = \\hat w\\hat w^T$ is a $5\\times 5$ filter. "
   ]
  },
  {
   "cell_type": "markdown",
   "metadata": {},
   "source": [
    "#### Reduce Function\n",
    "Define $Reduce: g_l\\Rightarrow g_{l+1}$ where \n",
    "$$g_{l+1}(i,j) = \\sum_{-2}^2 \\sum_{-2}^2 W(m,n)g_i(2i-m,2j-n)$$\n",
    "\n",
    "$$D_l = \\begin{bmatrix}\n",
    "1&0&0&...&0\\\\\n",
    "0&0&1&...&0\\\\\n",
    "\\vdots&\\vdots&\\vdots&\\ddots&\\vdots\\\\\n",
    "0&0&0&...&1\n",
    "\\end{bmatrix},\n",
    "C_l = \\begin{bmatrix}\n",
    "c&b&a&b&c&0&...&0\\\\\n",
    "0&c&b&a&b&c&...&0\\\\\n",
    "\\vdots&\\ddots&\\ddots&\\ddots&\\ddots&\\ddots&\\ddots&\\vdots\\\\\n",
    "0&0&0&0&0&0&...&c\n",
    "\\end{bmatrix}$$\n",
    "so that $g_{l+1} = D_L \\cdot C_l\\cdot g_l$ where $g$ is vectorized image. "
   ]
  },
  {
   "cell_type": "markdown",
   "metadata": {},
   "source": [
    "#### Laplacian Pyramid\n",
    "Let $L_i = g_i - expand(g_{i+1})$ be the difference between levels $g_l, g_{l+1}$, since $g_{l+1}$ has different size. We need to expand.\n",
    "\n",
    "#### Expand Function\n",
    "$$expand(g_l) = 4\\sum^2_{-2}\\sum^2_{-2} W(m,n)g_l(\\frac{i-m}{2}, \\frac{j-n}{2})$$"
   ]
  },
  {
   "cell_type": "markdown",
   "metadata": {},
   "source": [
    "#### Blending\n",
    "Given source images $A,B$ and binary matte $M$, compute Laplacian Pyramids for $A, B$ i.e. $AL_0, ..., AL_{N-1}, Ag_N, BL_0, ..., BL_{N-1}, Bg_N$, Gaussian pyramid for $M$, i.e. $Mg_0, ..., Mg_N$. Then, using matting equation, using $M$ as alpha channel. \n",
    "$$SL_i = Mg_l AL_l + (1-Mg_l)BL_l$$\n",
    "Finally, reconstruct Laplacian pyramid $SL$, which is desired. "
   ]
  }
 ],
 "metadata": {
  "hide_input": false,
  "kernelspec": {
   "display_name": "Python 3",
   "language": "python",
   "name": "python3"
  },
  "language_info": {
   "codemirror_mode": {
    "name": "ipython",
    "version": 3
   },
   "file_extension": ".py",
   "mimetype": "text/x-python",
   "name": "python",
   "nbconvert_exporter": "python",
   "pygments_lexer": "ipython3",
   "version": "3.7.4"
  }
 },
 "nbformat": 4,
 "nbformat_minor": 2
}
