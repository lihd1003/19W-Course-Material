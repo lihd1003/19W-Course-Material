{
 "cells": [
  {
   "cell_type": "markdown",
   "metadata": {},
   "source": [
    "### Pinhole and lens"
   ]
  },
  {
   "cell_type": "markdown",
   "metadata": {},
   "source": [
    "#### Focus\n",
    "The focal point $f = \\lim_{d\\rightarrow\\infty} u$ where  \n",
    "$f$ is the focal length  \n",
    "$d$ is the distance of the object from the lens  \n",
    "$u$ is the distance of the image plane\n",
    "\n",
    "__Thin lens law__ $f^{-1} = u^{-1} + d^{-1}$"
   ]
  },
  {
   "cell_type": "markdown",
   "metadata": {},
   "source": [
    "#### Depth of Field <a href=\"https://en.wikipedia.org/wiki/Depth_of_field\" target=\"_blank\">wiki</a>\n",
    "Range of distances where blur < 1 sensor pixel. \n",
    "\n",
    "$DOF \\approx \\frac{2u^2 NC}{f^2}$ where  \n",
    "$C=$ given circle of confusion (pixel size)  \n",
    "$f=$ focal length  \n",
    "$N=$ f-stop  \n",
    "$u=$ subject distance \n",
    "\n",
    "Typically, callphone camera has wider-angle lens (short focal length), hence larger DoF. Therefore, it can capture all objects in different distance, and then fake the blur by algorithm"
   ]
  },
  {
   "cell_type": "markdown",
   "metadata": {},
   "source": [
    "### Camera controls\n",
    "__Aperture__ expressed as $D:=f/N$,the relative size of the area in which light is collected through the lens\n",
    "\n",
    "__Shutter speed__ $\\Delta t$, the duration of the exposure, often expressed as fractions of a second\n",
    "\n",
    "\n",
    "#### DoF vs. Aperture and Shutter Speed\n",
    "The capture photons $\\propto D^2 \\Delta t$  \n",
    "The number of photons captured will influence the exposure. \n",
    "\n",
    "Also, consider DoF,   \n",
    "$D = f/N\\uparrow \\Rightarrow DOF\\downarrow$  \n"
   ]
  },
  {
   "cell_type": "markdown",
   "metadata": {},
   "source": [
    "#### ISO film speed\n",
    "The sensitivity of film/sensor to light\n",
    "\n",
    "Given exposure ($D^2\\Delta t$) being constant, $ISO\\uparrow\\Rightarrow brightness\\uparrow$"
   ]
  },
  {
   "cell_type": "markdown",
   "metadata": {},
   "source": [
    "### Color image\n",
    "All sensor pixels have same response curve, i.e. monochromatic and can only accepts intensity. To obtain a colored image, typically each pixel will be made to be sensitive or one of RGB by filters, typically 25% R, 25% B, 50% G. And full-color images can be obtained by __demosaicing__ each pixel with missing RGB. "
   ]
  },
  {
   "cell_type": "markdown",
   "metadata": {},
   "source": [
    "### Steps of  image formation\n"
   ]
  },
  {
   "cell_type": "markdown",
   "metadata": {},
   "source": [
    "#### Photons to Digital Numbers (Linear operations)\n",
    "1. __radiant power from scene__ Arriving photons causes photo-electrons and the charge accumulates are more photons hits the photo-diode  \n",
    "\n",
    "  - The radiant power $\\Phi = \\int_\\bar q\\int_\\lambda H(\\bar q, \\lambda) S(\\bar q) Q(\\lambda)d\\bar qd\\lambda$ where  \n",
    "  $\\bar q = $ pixel footprint  \n",
    "  $\\lambda = $ wave length     \n",
    "  $H=$ incidcent spectral irrandiance (the flux that can be received per/at that surface per/at that wavelength)    \n",
    "  $S=$ spatial response (the sensitivity of the sensor to radiation from different directions)  \n",
    "  $Q=$ quantum device efficiency (electrons that can be collected per incident photon at given wavelength)\n",
    "  \n",
    "\n",
    "2. __Exposure__ After exposure time, amplifier converts charge to measurable voltage  \n",
    "  - With the exposure time $\\Delta t$, now the total illuminance/irradiance is $\\Phi\\Delta t$\n",
    "  - At same time, __black level__, a non-photoelextric current from photo diode, $I_0$ is added, to make the least black level. The result is $\\Phi \\Delta t + I_0$ \n",
    " \n",
    "  \n",
    "3. __Sensor saturation__ The current cannot exceed __saturation current__ a set-maximum non-discarded current from photodiode  \n",
    "  - $I_m = $ saturation current, adjust the voltage by $\\min(\\Phi\\Delta t + I_0, I_m)$  \n",
    "\n",
    "4. __Gain factor__ Apply an amplifier gain $g$, which is controlled by ISO (the larger $g$ the darker the darker)\n",
    "  - the result will be $\\frac{\\min(\\Phi\\Delta t + I_0, I_m)}{g}$  \n",
    "  - Since digital numbers is discrete, apply a flooring function $\\lfloor\\frac{\\min(\\Phi\\Delta t + I_0, I_m)}{g}\\rfloor$  \n",
    "  \n",
    "Therefore, $$DN = \\lfloor\\frac{\\min(\\Phi\\Delta t + I_0, I_m)}{g}\\rfloor$$\n",
    "And for the whole process, the relationship is linear"
   ]
  },
  {
   "cell_type": "markdown",
   "metadata": {},
   "source": [
    "#### Gamma correction (camera response function)\n",
    "Since human visual system doesn't have a linear response to light, DNs are passed through a gamma function to compensate, such function is $f(DN) := \\beta(DN)^{1/\\gamma}$ where $\\beta, \\gamma$ are constants that varies among different manufactures. "
   ]
  },
  {
   "cell_type": "markdown",
   "metadata": {},
   "source": [
    "### Image Noise"
   ]
  },
  {
   "cell_type": "markdown",
   "metadata": {},
   "source": [
    "__Defocus Blur__  \n",
    "when the scene points of interest are \"out of focus\" and not within the DoF\n",
    "\n",
    "__Motion Blur__  \n",
    "Camera moves significantly during exposure time  \n",
    "More like with long exposures and long focal length (zooming in)\n",
    "\n",
    "__Pixel noise__  \n",
    "Incorrect exposure, not enough photons reaching sensor  \n",
    "High ISO (gain) causes noise\n",
    "\n",
    "__Rolling shutter__ <a href=\"https://en.wikipedia.org/wiki/Rolling_shutter\">wiki</a>  \n",
    "When captured by scanning across the scene rapidly"
   ]
  },
  {
   "cell_type": "markdown",
   "metadata": {},
   "source": [
    "#### Sources of Noise\n",
    "\n",
    "_radiant power from scene_ \n",
    "\n",
    "__Dark Current Noise__\n",
    " - free electrons due to thermal energy, depends on temperature  \n",
    " - $\\sim Poisson(\\lambda = D\\Delta t), D:=$thermal electron rate $(e^-/sec)$\n",
    "\n",
    "_Exposure_\n",
    "\n",
    "__Photon (Shot) Noise__  \n",
    "- $\\sim Poisson(\\lambda = \\Phi\\Delta t )$  \n",
    "$P_\\lambda(\\text{k events in }\\Delta t) = \\frac{\\lambda ^k e^{-\\lambda}}{k!}$  \n",
    "i.e. $P(\\text{#received photons}=k)= \\frac{\\Phi\\Delta t ^k e^{-\\Phi\\Delta t}}{k!}$\n",
    "- Largest source of noise for high exposures\n",
    "- For large $\\Phi\\Delta t$, by LLN, we can approximate by $Poisson(\\lambda)\\approx N(\\lambda, \\sqrt \\lambda)$\n",
    "  \n",
    "_Sensor saturation_ \n",
    "\n",
    "__Readout Noise__\n",
    " - $\\sim N(0, \\sigma_r)$, $\\sigma_r$ depends on characteristics of electronics\n",
    "\n",
    "_Gain factor_ \n",
    "\n",
    "__Amplifier, ADC, and Quantization Noise__ \n",
    " - $\\sim N(0, \\sigma_{ADC})$  \n",
    " - The amplifier noise is dependent on $g$, i.e. gain or ISO. \n",
    " - Largest source of noise for low exposures"
   ]
  },
  {
   "cell_type": "markdown",
   "metadata": {},
   "source": [
    "#### Put all Noises Together\n",
    "Since all four types of noise are independent of each other, \n",
    "\n",
    "$$\\begin{align}\n",
    "E(e^-) &=&\\text{Black level} + &\\text{dark current} + &\\text{photon noise}\\\\\n",
    "&= \\min\\{&I_0 + &D\\Delta t + &\\Phi\\Delta t, I_m\\}\\\\ \n",
    "\\end{align}$$\n",
    "$$\\begin{align}\n",
    "var(e^-) &= \\text{dark current} &+ \\text{photon noise} &+ \\text{black level} &+ \\text{readout noise} &+ \\text{ADC noise}\\\\\n",
    "var(e^-) &= D\\Delta t &+ \\phi\\Delta t &+ I_0 &+ \\sigma_r^2 &+ \\sigma^2_{ADC} g^2\n",
    "\\end{align}$$\n",
    "\n",
    "Hence  \n",
    "$E(DN) = \\min\\{\\frac{I_0 + D\\Delta t + \\Phi\\Delta t}{g}, \\frac{I_m}{g}\\}$  \n",
    "$var(DN) = \\frac{D\\Delta t + \\phi\\Delta t + I_0 + \\sigma_r^2}{g^2} + \\sigma^2_{ADC} g^2$\n",
    "\n",
    "__Signal-to-noise ratio__ $SNR = 10\\log_{10} \\frac{E(DN)^2}{var(DN)}$\n"
   ]
  }
 ],
 "metadata": {
  "hide_input": false,
  "kernelspec": {
   "display_name": "Python 3",
   "language": "python",
   "name": "python3"
  },
  "language_info": {
   "codemirror_mode": {
    "name": "ipython",
    "version": 3
   },
   "file_extension": ".py",
   "mimetype": "text/x-python",
   "name": "python",
   "nbconvert_exporter": "python",
   "pygments_lexer": "ipython3",
   "version": "3.7.3"
  }
 },
 "nbformat": 4,
 "nbformat_minor": 2
}
