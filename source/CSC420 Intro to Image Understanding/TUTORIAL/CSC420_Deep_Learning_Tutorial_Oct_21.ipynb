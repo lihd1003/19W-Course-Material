{
 "cells": [
  {
   "cell_type": "code",
   "execution_count": 5,
   "metadata": {
    "colab": {},
    "colab_type": "code",
    "id": "X154ZjiDzpkI"
   },
   "outputs": [],
   "source": [
    "# %load csc420-tutorial/helper.py\n",
    "import matplotlib.pyplot as plt\n",
    "import numpy as np\n",
    "from torch import nn, optim\n",
    "from torch.autograd import Variable\n",
    "\n",
    "\n",
    "def test_network(net, trainloader):\n",
    "\n",
    "    criterion = nn.MSELoss()\n",
    "    optimizer = optim.Adam(net.parameters(), lr=0.001)\n",
    "\n",
    "    dataiter = iter(trainloader)\n",
    "    images, labels = dataiter.next()\n",
    "\n",
    "    # Create Variables for the inputs and targets\n",
    "    inputs = Variable(images)\n",
    "    targets = Variable(images)\n",
    "\n",
    "    # Clear the gradients from all Variables\n",
    "    optimizer.zero_grad()\n",
    "\n",
    "    # Forward pass, then backward pass, then update weights\n",
    "    output = net.forward(inputs)\n",
    "    loss = criterion(output, targets)\n",
    "    loss.backward()\n",
    "    optimizer.step()\n",
    "\n",
    "    return True\n",
    "\n",
    "\n",
    "def imshow(image, ax=None, title=None, normalize=True):\n",
    "    \"\"\"Imshow for Tensor.\"\"\"\n",
    "    if ax is None:\n",
    "        fig, ax = plt.subplots()\n",
    "    image = image.numpy().transpose((1, 2, 0))\n",
    "\n",
    "    if normalize:\n",
    "        mean = np.array([0.485, 0.456, 0.406])\n",
    "        std = np.array([0.229, 0.224, 0.225])\n",
    "        image = std * image + mean\n",
    "        image = np.clip(image, 0, 1)\n",
    "\n",
    "    ax.imshow(image)\n",
    "    ax.spines['top'].set_visible(False)\n",
    "    ax.spines['right'].set_visible(False)\n",
    "    ax.spines['left'].set_visible(False)\n",
    "    ax.spines['bottom'].set_visible(False)\n",
    "    ax.tick_params(axis='both', length=0)\n",
    "    ax.set_xticklabels('')\n",
    "    ax.set_yticklabels('')\n",
    "\n",
    "    return ax\n",
    "\n",
    "\n",
    "def view_recon(img, recon):\n",
    "    ''' Function for displaying an image (as a PyTorch Tensor) and its\n",
    "        reconstruction also a PyTorch Tensor\n",
    "    '''\n",
    "\n",
    "    fig, axes = plt.subplots(ncols=2, sharex=True, sharey=True)\n",
    "    axes[0].imshow(img.numpy().squeeze())\n",
    "    axes[1].imshow(recon.data.numpy().squeeze())\n",
    "    for ax in axes:\n",
    "        ax.axis('off')\n",
    "        ax.set_adjustable('box-forced')\n",
    "\n",
    "def view_classify(img, ps, version=\"MNIST\"):\n",
    "    ''' Function for viewing an image and it's predicted classes.\n",
    "    '''\n",
    "    ps = ps.data.numpy().squeeze()\n",
    "\n",
    "    fig, (ax1, ax2) = plt.subplots(figsize=(6,9), ncols=2)\n",
    "    ax1.imshow(img.resize_(1, 28, 28).numpy().squeeze())\n",
    "    ax1.axis('off')\n",
    "    ax2.barh(np.arange(10), ps)\n",
    "    ax2.set_aspect(0.1)\n",
    "    ax2.set_yticks(np.arange(10))\n",
    "    if version == \"MNIST\":\n",
    "        ax2.set_yticklabels(np.arange(10))\n",
    "    elif version == \"Fashion\":\n",
    "        ax2.set_yticklabels(['T-shirt/top',\n",
    "                            'Trouser',\n",
    "                            'Pullover',\n",
    "                            'Dress',\n",
    "                            'Coat',\n",
    "                            'Sandal',\n",
    "                            'Shirt',\n",
    "                            'Sneaker',\n",
    "                            'Bag',\n",
    "                            'Ankle Boot'], size='small');\n",
    "    ax2.set_title('Class Probability')\n",
    "    ax2.set_xlim(0, 1.1)\n",
    "\n",
    "    plt.tight_layout()\n"
   ]
  },
  {
   "cell_type": "markdown",
   "metadata": {
    "colab_type": "text",
    "id": "mGQZGSJPwpjS"
   },
   "source": [
    "# Classifying Fashion-MNIST\n",
    "\n",
    "Now it's your turn to build and train a neural network. You'll be using the [Fashion-MNIST dataset](https://github.com/zalandoresearch/fashion-mnist), a drop-in replacement for the MNIST dataset. MNIST is actually quite trivial with neural networks where you can easily achieve better than 97% accuracy. Fashion-MNIST is a set of 28x28 greyscale images of clothes. It's more complex than MNIST, so it's a better representation of the actual performance of your network, and a better representation of datasets you'll use in the real world.\n",
    "\n",
    "<img src='https://github.com/johntiger1/deep-learning-v2-pytorch/blob/master/intro-to-pytorch/assets/fashion-mnist-sprite.png?raw=1' width=500px>\n",
    "\n",
    "In this notebook, you'll build your own neural network. For the most part, you could just copy and paste the code from Part 3, but you wouldn't be learning. It's important for you to write the code yourself and get it to work. Feel free to consult the previous notebooks though as you work through this.\n",
    "\n",
    "First off, let's load the dataset through torchvision."
   ]
  },
  {
   "cell_type": "code",
   "execution_count": 6,
   "metadata": {
    "colab": {
     "base_uri": "https://localhost:8080/",
     "height": 275
    },
    "colab_type": "code",
    "id": "CgYQAZTewpja",
    "outputId": "030dcb9f-3ece-48f8-b77c-242f2bbb3643"
   },
   "outputs": [],
   "source": [
    "import torch\n",
    "import helper\n",
    "from torchvision import datasets, transforms\n",
    "\n",
    "# Define a transform to normalize the data\n",
    "transform = transforms.Compose([transforms.ToTensor(),\n",
    "                                transforms.Normalize((0.5,), (0.5,))])\n",
    "# Download and load the training data\n",
    "trainset = datasets.FashionMNIST('~/.pytorch/F_MNIST_data/', download=True, train=True, transform=transform)\n",
    "trainloader = torch.utils.data.DataLoader(trainset, batch_size=64, shuffle=True)\n",
    "\n",
    "# Download and load the test data\n",
    "testset = datasets.FashionMNIST('~/.pytorch/F_MNIST_data/', download=True, train=False, transform=transform)\n",
    "testloader = torch.utils.data.DataLoader(testset, batch_size=64, shuffle=True)"
   ]
  },
  {
   "cell_type": "markdown",
   "metadata": {
    "colab_type": "text",
    "id": "QURzEA9-wpjp"
   },
   "source": [
    "Here we can see one of the images."
   ]
  },
  {
   "cell_type": "code",
   "execution_count": 11,
   "metadata": {
    "colab": {
     "base_uri": "https://localhost:8080/",
     "height": 252
    },
    "colab_type": "code",
    "id": "PyY30_sbwpjr",
    "outputId": "d57cb181-88a6-42d7-8d0c-34fd1db38820"
   },
   "outputs": [
    {
     "data": {
      "image/png": "[encoded data removed]",
      "text/plain": [
       "<Figure size 432x288 with 1 Axes>"
      ]
     },
     "metadata": {
      "needs_background": "light"
     },
     "output_type": "display_data"
    }
   ],
   "source": [
    "image, label = next(iter(trainloader))\n",
    "helper.imshow(image[0,:]);"
   ]
  },
  {
   "cell_type": "markdown",
   "metadata": {
    "colab_type": "text",
    "id": "XtkJbonhwpjz"
   },
   "source": [
    "# Building the network\n",
    "\n",
    "Here you should define your network. As with MNIST, each image is 28x28 which is a total of 784 pixels, and there are 10 classes. You should include at least one hidden layer. We suggest you use ReLU activations for the layers and to return the logits or log-softmax from the forward pass. It's up to you how many layers you add and the size of those layers."
   ]
  },
  {
   "cell_type": "code",
   "execution_count": 12,
   "metadata": {
    "colab": {},
    "colab_type": "code",
    "id": "yyVEcG7twpj0"
   },
   "outputs": [],
   "source": [
    "from torch import nn, optim\n",
    "import torch.nn.functional as F"
   ]
  },
  {
   "cell_type": "markdown",
   "metadata": {
    "colab_type": "text",
    "id": "7EzV7hGken4B"
   },
   "source": [
    "## Fully Connected Network\n",
    "\n"
   ]
  },
  {
   "cell_type": "code",
   "execution_count": 13,
   "metadata": {
    "colab": {},
    "colab_type": "code",
    "id": "H2WdAaaBwpj8"
   },
   "outputs": [],
   "source": [
    "# TODO: Define your network architecture here\n",
    "class Classifier(nn.Module):\n",
    "    def __init__(self):\n",
    "        super().__init__()\n",
    "        self.fc1 = nn.Linear(784, 256)\n",
    "        self.fc2 = nn.Linear(256, 128)\n",
    "        self.fc3 = nn.Linear(128, 64)\n",
    "        self.fc4 = nn.Linear(64, 10)\n",
    "        \n",
    "    def forward(self, x):\n",
    "        # make sure input tensor is flattened\n",
    "        x = x.view(x.shape[0], -1)\n",
    "        \n",
    "        x = F.relu(self.fc1(x))\n",
    "        x = F.relu(self.fc2(x))\n",
    "        x = F.relu(self.fc3(x))\n",
    "        x = F.log_softmax(self.fc4(x), dim=1)\n",
    "        \n",
    "        return x"
   ]
  },
  {
   "cell_type": "markdown",
   "metadata": {
    "colab_type": "text",
    "id": "alU16EZ_e7dx"
   },
   "source": [
    "## Convolutional Network"
   ]
  },
  {
   "cell_type": "code",
   "execution_count": 14,
   "metadata": {
    "colab": {},
    "colab_type": "code",
    "id": "eNUwc42I3OLf"
   },
   "outputs": [],
   "source": [
    "class CNN(nn.Module):\n",
    "    def __init__(self):\n",
    "        super(CNN, self).__init__()\n",
    "        self.layer1 = nn.Sequential(\n",
    "            nn.Conv2d(1, 16, kernel_size=5, padding=2),\n",
    "            nn.BatchNorm2d(16),\n",
    "            nn.ReLU(),\n",
    "            nn.MaxPool2d(2))\n",
    "        self.layer2 = nn.Sequential(\n",
    "            nn.Conv2d(16, 32, kernel_size=5, padding=2),\n",
    "            nn.BatchNorm2d(32),\n",
    "            nn.ReLU(),\n",
    "            nn.MaxPool2d(2))\n",
    "        self.fc = nn.Linear(7*7*32, 10)\n",
    "        \n",
    "    def forward(self, x):\n",
    "        out = self.layer1(x)\n",
    "        out = self.layer2(out)\n",
    "        out = out.view(out.size(0), -1)\n",
    "        out = self.fc(out)\n",
    "        return F.log_softmax(out, dim=1)"
   ]
  },
  {
   "cell_type": "markdown",
   "metadata": {
    "colab_type": "text",
    "id": "S6F4kahJwpkB"
   },
   "source": [
    "# Train the network\n",
    "\n",
    "Now you should create your network and train it. First you'll want to define [the criterion](http://pytorch.org/docs/master/nn.html#loss-functions) (something like `nn.CrossEntropyLoss` or `nn.NLLLoss`) and [the optimizer](http://pytorch.org/docs/master/optim.html) (typically `optim.SGD` or `optim.Adam`).\n",
    "\n",
    "Then write the training code. Remember the training pass is a fairly straightforward process:\n",
    "\n",
    "* Make a forward pass through the network to get the logits \n",
    "* Use the logits to calculate the loss\n",
    "* Perform a backward pass through the network with `loss.backward()` to calculate the gradients\n",
    "* Take a step with the optimizer to update the weights\n",
    "\n",
    "By adjusting the hyperparameters (hidden units, learning rate, etc), you should be able to get the training loss below 0.4."
   ]
  },
  {
   "cell_type": "code",
   "execution_count": 28,
   "metadata": {
    "colab": {},
    "colab_type": "code",
    "id": "SwnYdpGJwpkC"
   },
   "outputs": [],
   "source": [
    "# TODO: Create the network, define the criterion and optimizer\n",
    "convolution = True\n",
    "\n",
    "if convolution:\n",
    "  model = CNN()\n",
    "  \n",
    "else:\n",
    "  model = Classifier()\n",
    "\n",
    "criterion = nn.NLLLoss()\n",
    "optimizer = optim.Adam(model.parameters(), lr=0.003)"
   ]
  },
  {
   "cell_type": "code",
   "execution_count": 31,
   "metadata": {
    "colab": {
     "base_uri": "https://localhost:8080/",
     "height": 119
    },
    "colab_type": "code",
    "id": "QWHI66KHwpkK",
    "outputId": "2aa48733-12b4-4684-c8ed-00a62b146d23"
   },
   "outputs": [
    {
     "name": "stdout",
     "output_type": "stream",
     "text": [
      "Training loss: 0.3376594038644452\n",
      "Training loss: 0.2663036148224685\n",
      "Training loss: 0.23609930249467206\n"
     ]
    }
   ],
   "source": [
    "epochs = 3\n",
    "\n",
    "model.train()\n",
    "\n",
    "for e in range(epochs):\n",
    "    running_loss = 0\n",
    "    for images, labels in trainloader:\n",
    "        log_ps = model(images)\n",
    "        loss = criterion(log_ps, labels)\n",
    "        \n",
    "        optimizer.zero_grad()\n",
    "        loss.backward()\n",
    "        optimizer.step()\n",
    "        \n",
    "        running_loss += loss.item()\n",
    "    else:\n",
    "        print(f\"Training loss: {running_loss/len(trainloader)}\")"
   ]
  },
  {
   "cell_type": "code",
   "execution_count": 44,
   "metadata": {},
   "outputs": [
    {
     "data": {
      "text/plain": [
       "tensor([[-6.2102e+00, -1.0328e+01, -4.8783e+00, -1.3031e+01, -6.1587e-01,\n",
       "         -6.1057e+00, -8.0402e-01, -1.2403e+01, -7.8539e+00, -1.0635e+01],\n",
       "        [-7.5567e+00, -1.7907e+01, -6.5030e-02, -1.1012e+01, -1.2169e+01,\n",
       "         -1.7189e+01, -2.7739e+00, -1.8936e+01, -1.4955e+01, -1.6334e+01],\n",
       "        [-7.0544e+00, -9.5808e+00, -3.0829e+00, -3.9281e+00, -6.9089e-02,\n",
       "         -1.1827e+01, -8.4215e+00, -1.2556e+01, -9.3856e+00, -1.2883e+01],\n",
       "        [-5.7218e-01, -1.0255e+01, -6.7323e+00, -7.6740e+00, -5.6749e+00,\n",
       "         -1.3393e+01, -8.4275e-01, -1.1619e+01, -1.0041e+01, -1.2695e+01],\n",
       "        [-1.0021e+01, -1.4829e+01, -7.6011e+00, -1.2577e+01, -5.0457e+00,\n",
       "         -1.6644e+01, -7.0129e-03, -1.7400e+01, -1.2738e+01, -1.5070e+01],\n",
       "        [-1.2544e+01, -1.5084e+01, -1.4702e+01, -1.5032e+01, -1.6051e+01,\n",
       "         -6.8937e+00, -1.4109e+01, -2.2435e-03, -8.9539e+00, -6.8196e+00],\n",
       "        [-1.6311e-02, -1.1233e+01, -5.5455e+00, -1.1832e+01, -1.0399e+01,\n",
       "         -1.6918e+01, -4.4063e+00, -1.4357e+01, -1.0772e+01, -1.4680e+01],\n",
       "        [-7.4888e+00, -1.7327e+01, -2.7294e-03, -1.6379e+01, -1.0494e+01,\n",
       "         -1.5038e+01, -6.1478e+00, -2.0371e+01, -1.6736e+01, -1.6054e+01],\n",
       "        [-9.5696e+00, -1.3977e+01, -1.0031e+01, -1.3495e+01, -1.1953e+01,\n",
       "         -5.2265e+00, -7.4260e+00, -9.4170e+00, -6.1967e-03, -1.1994e+01],\n",
       "        [-1.2946e+01, -5.8412e-06, -1.4980e+01, -1.2847e+01, -1.4813e+01,\n",
       "         -1.7321e+01, -1.6442e+01, -1.6752e+01, -1.9615e+01, -1.7845e+01],\n",
       "        [-9.8288e+00, -6.5436e-04, -1.1577e+01, -7.5886e+00, -1.0972e+01,\n",
       "         -1.2281e+01, -1.0637e+01, -1.0718e+01, -1.1305e+01, -1.2343e+01],\n",
       "        [-8.9525e+00, -1.3697e+01, -1.2286e+01, -1.8821e-04, -1.6896e+01,\n",
       "         -1.6465e+01, -9.8657e+00, -1.4146e+01, -1.5458e+01, -1.6212e+01],\n",
       "        [-1.5389e+01, -2.3504e+01, -2.1391e+01, -3.1783e+01, -2.3136e+01,\n",
       "         -1.6689e-06, -1.6465e+01, -1.9755e+01, -1.4222e+01, -1.4203e+01],\n",
       "        [-4.6708e+00, -1.2432e+01, -1.1795e+01, -9.3834e+00, -8.0063e+00,\n",
       "         -1.8463e+01, -9.8991e-03, -1.5125e+01, -9.7907e+00, -1.6136e+01],\n",
       "        [-8.5816e+00, -1.3522e+01, -5.1978e+00, -1.3283e+01, -1.1116e+00,\n",
       "         -1.3845e+01, -4.0764e-01, -1.5846e+01, -1.0949e+01, -1.0611e+01],\n",
       "        [-9.4754e+00, -2.1229e-04, -1.2176e+01, -9.0455e+00, -1.1918e+01,\n",
       "         -1.3471e+01, -1.3618e+01, -1.5511e+01, -1.2693e+01, -1.6756e+01],\n",
       "        [-2.6621e+00, -1.5977e+01, -1.1458e+01, -1.2631e+01, -9.5376e+00,\n",
       "         -2.0081e+01, -7.2452e-02, -1.5626e+01, -1.3556e+01, -1.7075e+01],\n",
       "        [-1.1561e+01, -2.3584e+01, -1.1945e-03, -1.4981e+01, -7.1048e+00,\n",
       "         -1.7964e+01, -7.9227e+00, -2.0951e+01, -1.4789e+01, -1.7571e+01],\n",
       "        [-8.1030e+00, -1.8535e+01, -4.1458e-03, -1.3002e+01, -7.8490e+00,\n",
       "         -1.5165e+01, -5.6717e+00, -1.9209e+01, -1.7900e+01, -1.7298e+01],\n",
       "        [-3.6454e+00, -1.1683e+01, -9.3795e+00, -6.1881e+00, -9.0619e+00,\n",
       "         -1.1928e+01, -2.9777e-02, -1.3467e+01, -6.9528e+00, -1.3541e+01],\n",
       "        [-2.7233e-01, -6.2433e+00, -4.0122e+00, -2.6962e+00, -7.7236e+00,\n",
       "         -1.0051e+01, -1.9000e+00, -9.5186e+00, -8.0756e+00, -7.6864e+00],\n",
       "        [-6.9046e+00, -1.2506e+01, -3.5140e-01, -1.2923e+01, -1.2456e+00,\n",
       "         -1.6367e+01, -4.8912e+00, -1.5318e+01, -1.2811e+01, -1.1461e+01],\n",
       "        [-6.5842e+00, -4.4310e-02, -8.5456e+00, -3.2046e+00, -8.8017e+00,\n",
       "         -1.0360e+01, -7.3868e+00, -8.1367e+00, -9.5578e+00, -1.0631e+01],\n",
       "        [-6.7479e+00, -8.6218e+00, -5.2846e+00, -6.0548e-02, -3.5899e+00,\n",
       "         -8.5696e+00, -3.7383e+00, -9.9269e+00, -7.2824e+00, -1.1838e+01],\n",
       "        [-7.0889e+00, -1.6040e+01, -1.0547e+01, -1.4531e+01, -1.0802e+01,\n",
       "         -4.1652e-03, -8.9517e+00, -5.8639e+00, -8.1042e+00, -1.2726e+01],\n",
       "        [-5.1816e+00, -9.0156e+00, -8.6820e+00, -2.1410e+00, -5.9826e+00,\n",
       "         -3.7014e+00, -4.3171e+00, -6.4600e+00, -1.8447e-01, -5.8444e+00],\n",
       "        [-1.3640e+01, -1.8091e+01, -1.5777e+01, -1.7885e+01, -1.8284e+01,\n",
       "         -6.6597e+00, -1.4510e+01, -1.4113e-03, -1.2238e+01, -9.0107e+00],\n",
       "        [-7.0057e+00, -1.1376e+01, -5.8313e-01, -1.2466e+01, -8.5998e-01,\n",
       "         -1.3789e+01, -4.0340e+00, -1.3633e+01, -1.0606e+01, -1.0441e+01],\n",
       "        [-1.4275e+01, -1.4849e+01, -1.3937e+01, -1.4159e+01, -1.5039e+01,\n",
       "         -8.7900e+00, -1.3685e+01, -6.7116e-04, -1.0990e+01, -7.6053e+00],\n",
       "        [-2.3889e-01, -6.3481e+00, -3.7021e+00, -1.8243e+00, -7.7271e+00,\n",
       "         -1.2130e+01, -3.7509e+00, -1.0640e+01, -7.1756e+00, -1.0889e+01],\n",
       "        [-1.0002e+01, -1.5142e+01, -1.4081e+01, -1.4415e+01, -1.7935e+01,\n",
       "         -2.4116e+00, -1.2613e+01, -9.4226e-02, -8.5255e+00, -1.3148e+01],\n",
       "        [-1.1452e+01, -1.4599e+01, -1.0083e+01, -1.3244e+01, -1.4241e+01,\n",
       "         -4.7697e+00, -1.0119e+01, -9.2891e-02, -9.4971e+00, -2.5251e+00]],\n",
       "       grad_fn=<LogSoftmaxBackward>)"
      ]
     },
     "execution_count": 44,
     "metadata": {},
     "output_type": "execute_result"
    }
   ],
   "source": [
    "log_ps"
   ]
  },
  {
   "cell_type": "code",
   "execution_count": 0,
   "metadata": {
    "colab": {
     "base_uri": "https://localhost:8080/",
     "height": 223
    },
    "colab_type": "code",
    "id": "jkGXY41ewpkO",
    "outputId": "2bf21fa2-9f64-44bd-802b-f6410f860c3b"
   },
   "outputs": [
    {
     "data": {
      "image/png": "[encoded data removed]",
      "text/plain": [
       "<Figure size 432x648 with 2 Axes>"
      ]
     },
     "metadata": {
      "image/png": {
       "height": 206,
       "width": 423
      },
      "tags": []
     },
     "output_type": "display_data"
    }
   ],
   "source": [
    "%matplotlib inline\n",
    "%config InlineBackend.figure_format = 'retina'\n",
    "\n",
    "import helper\n",
    "\n",
    "# Test out your network!\n",
    "\n",
    "dataiter = iter(testloader)\n",
    "images, labels = dataiter.next()\n",
    "img = images[1]\n",
    "\n",
    "if convolution:\n",
    "  img = img.unsqueeze(0)\n",
    "\n",
    "# TODO: Calculate the class probabilities (softmax) for img\n",
    "ps = torch.exp(model(img))\n",
    "\n",
    "# Plot the image and probabilities\n",
    "helper.view_classify(img, ps, version='Fashion')"
   ]
  },
  {
   "cell_type": "markdown",
   "metadata": {
    "colab_type": "text",
    "id": "MHaW793Xh106"
   },
   "source": [
    "# Evaluation"
   ]
  },
  {
   "cell_type": "code",
   "execution_count": 0,
   "metadata": {
    "colab": {
     "base_uri": "https://localhost:8080/",
     "height": 34
    },
    "colab_type": "code",
    "id": "aNS_rNgT1MNm",
    "outputId": "9343a89f-f4e7-4f36-8bf4-63b7c05b3042"
   },
   "outputs": [
    {
     "name": "stdout",
     "output_type": "stream",
     "text": [
      "Test Accuracy: 0.896\n"
     ]
    }
   ],
   "source": [
    "\n",
    "model.eval()\n",
    "\n",
    "accuracy = 0\n",
    "for images, labels in testloader:\n",
    "    log_ps = model(images)\n",
    "\n",
    "    # get the predictions: argmax etc.\n",
    "    ps = torch.exp(log_ps)\n",
    "    top_p, top_class = ps.topk(1, dim=1)\n",
    "    equals = top_class == labels.view(*top_class.shape)\n",
    "    accuracy += torch.mean(equals.type(torch.FloatTensor))\n",
    "        \n",
    "print(\"Test Accuracy: {:.3f}\".format(accuracy/len(testloader)))"
   ]
  },
  {
   "cell_type": "code",
   "execution_count": 0,
   "metadata": {
    "colab": {
     "base_uri": "https://localhost:8080/",
     "height": 102
    },
    "colab_type": "code",
    "id": "SAiTixXYeEga",
    "outputId": "f0127652-5d64-4b7c-a581-2f5e3e9781a9"
   },
   "outputs": [
    {
     "name": "stdout",
     "output_type": "stream",
     "text": [
      "Epoch: 1/5..  Training Loss: 0.510..  Test Loss: 0.445..  Test Accuracy: 0.840\n",
      "Epoch: 2/5..  Training Loss: 0.392..  Test Loss: 0.397..  Test Accuracy: 0.856\n",
      "Epoch: 3/5..  Training Loss: 0.362..  Test Loss: 0.400..  Test Accuracy: 0.851\n",
      "Epoch: 4/5..  Training Loss: 0.337..  Test Loss: 0.406..  Test Accuracy: 0.853\n",
      "Epoch: 5/5..  Training Loss: 0.318..  Test Loss: 0.380..  Test Accuracy: 0.862\n"
     ]
    }
   ],
   "source": [
    "\n",
    "\n",
    "# if you want to do eval after every epoch\n",
    "model = Classifier()\n",
    "criterion = nn.NLLLoss()\n",
    "optimizer = optim.Adam(model.parameters(), lr=0.003)\n",
    "\n",
    "epochs = 5\n",
    "steps = 0\n",
    "\n",
    "train_losses, test_losses = [], []\n",
    "for e in range(epochs):\n",
    "    running_loss = 0\n",
    "    for images, labels in (trainloader):\n",
    "        \n",
    "        optimizer.zero_grad()\n",
    "        \n",
    "        log_ps = model(images)\n",
    "        loss = criterion(log_ps, labels)\n",
    "        loss.backward()\n",
    "        optimizer.step()\n",
    "        \n",
    "        running_loss += loss.item()\n",
    "        \n",
    "    else:\n",
    "        test_loss = 0\n",
    "        accuracy = 0\n",
    "        \n",
    "        # Turn off gradients for validation, saves memory and computations\n",
    "        with torch.no_grad():\n",
    "            for images, labels in testloader:\n",
    "                log_ps = model(images)\n",
    "                test_loss += criterion(log_ps, labels)\n",
    "                \n",
    "                ps = torch.exp(log_ps)\n",
    "                top_p, top_class = ps.topk(1, dim=1)\n",
    "                equals = top_class == labels.view(*top_class.shape)\n",
    "                accuracy += torch.mean(equals.type(torch.FloatTensor))\n",
    "                \n",
    "        train_losses.append(running_loss/len(trainloader))\n",
    "        test_losses.append(test_loss/len(testloader))\n",
    "\n",
    "        print(\"Epoch: {}/{}.. \".format(e+1, epochs),\n",
    "              \"Training Loss: {:.3f}.. \".format(running_loss/len(trainloader)),\n",
    "              \"Test Loss: {:.3f}.. \".format(test_loss/len(testloader)),\n",
    "              \"Test Accuracy: {:.3f}\".format(accuracy/len(testloader)))"
   ]
  },
  {
   "cell_type": "code",
   "execution_count": 0,
   "metadata": {
    "colab": {},
    "colab_type": "code",
    "id": "oYt0VuBmiq4U"
   },
   "outputs": [],
   "source": []
  }
 ],
 "metadata": {
  "accelerator": "GPU",
  "colab": {
   "collapsed_sections": [],
   "name": "CSC420 Deep Learning Tutorial Oct 21",
   "provenance": [],
   "toc_visible": true
  },
  "hide_input": false,
  "kernelspec": {
   "display_name": "Python 3",
   "language": "python",
   "name": "python3"
  },
  "language_info": {
   "codemirror_mode": {
    "name": "ipython",
    "version": 3
   },
   "file_extension": ".py",
   "mimetype": "text/x-python",
   "name": "python",
   "nbconvert_exporter": "python",
   "pygments_lexer": "ipython3",
   "version": "3.7.4"
  }
 },
 "nbformat": 4,
 "nbformat_minor": 1
}
