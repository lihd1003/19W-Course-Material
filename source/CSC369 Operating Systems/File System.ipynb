{
 "cells": [
  {
   "cell_type": "markdown",
   "metadata": {},
   "source": [
    "## Data Block Allocation\n",
    "__Contiguous Allocation__ allocate a file as a continuous sequence of data blocks\n",
    "\n",
    " - Advantages: sequential access are fast; fast allocation and deallocation; small amount of meta\n",
    " - Disadvantages: external fragmentation (free space are separated in small blocks and cannot be used); need compaction and move whole files around; inflexible\n",
    " \n",
    "__Linked__ treat a file as a linked list of data blocks\n",
    " \n",
    " - Advantages: easy sequential access; dish blocks can be anywhere; no external fragmentation\n",
    " - Disadvantages: expensive direct access; if a data block is corrupted could lose rest of life. \n",
    " \n",
    "__Indexed__ inode structure \n",
    "\n",
    "- Advantages: handles random access well; small files: quick sequential and random access; no external fragmentation\n",
    "- Disadvantages: limit file size; cost of access bytes near the end of large files grows"
   ]
  },
  {
   "cell_type": "markdown",
   "metadata": {},
   "source": [
    "#### Unix Inodes\n",
    "Ext2 Linux file system inodes are 128 bytes, includes 15 block pointers\n",
    "- block[0:11] direct block pointers\n",
    "- block[12] a single indirect block pointer\n",
    "- block[13] a double indirect block pointer\n",
    "- block[14] a triple indirect block pointers\n",
    "\n",
    "<img src=\"assets/fs.png\">"
   ]
  },
  {
   "cell_type": "markdown",
   "metadata": {},
   "source": [
    "Suppose each block is 4KB and the pointer is 4Byte, then each data block supports $1024$ pointers, the largest supported file size is \n",
    "$$4kB(\\underset{\\text{direct}}{12} + \\underset{\\text{single indirect}}{1024} + \\underset{\\text{double indirect}}{1024^2} + \\underset{\\text{triple indirect}}{1024^3}) \\approx 4TB$$"
   ]
  },
  {
   "cell_type": "markdown",
   "metadata": {},
   "source": [
    "#### Extents\n",
    "a disk pointer plus a length (number of blocks), instead of requiring a pointer to every block of a file, just need a pointer to every several blocks. More trade-off are then made. "
   ]
  },
  {
   "cell_type": "markdown",
   "metadata": {},
   "source": [
    "## Disk Scheduling\n",
    "- FCFS: first come first serve\n",
    "  - long waiting time for long request queues, but fine with low load\n",
    "- SSTF (shortest seek time first) \n",
    "  - minimize arm movement, maximize request rate; but favors middle blocks\n",
    "- SCAN (elevator) service requests in one direction until done, then reverse\n",
    "- C-SCAN, like SCAN, but only go in one direction\n",
    "- LOOK/C-LOOK go as far as last request in each direction, instead the full width of the disk"
   ]
  },
  {
   "cell_type": "markdown",
   "metadata": {},
   "source": [
    "## FS Reliability\n",
    "Only the __data block__ is written to disk > No inconsistency  \n",
    "Only the __inode__ is written to disk > something points to garbage  \n",
    "Only the __data block bitmap__ is written to disk > data leak  \n",
    "Only the __inode__ and __data block bitmap__ are written to disk > something point to garbage  \n",
    "Only the __data block bitmap__ and the __data block__ are written > data leak  \n",
    "Only the __inode__ and the __data block__ are written > multiple inodes may point to same data block"
   ]
  },
  {
   "cell_type": "markdown",
   "metadata": {},
   "source": [
    "#### Journaling \n",
    "Each journal starts with `TxBegin (TID=x)` block containing a transaction ID.   \n",
    "Followed by blocks with the content to be written (e.g. `Updated inode`)\n",
    "Ends with a \"transaction end\" `TxEnd(TID=x)` block. "
   ]
  },
  {
   "cell_type": "markdown",
   "metadata": {},
   "source": [
    "## RAID (redundant array of independent disks)\n",
    "by duplicating mirror images, data are spread out across multiple disks \n",
    "\n",
    "#### RAID 0 \n",
    "Files are divided across disks, improves throughput. However, if one drive fails, the whole volume is lost. \n",
    "\n",
    "#### RAID 1\n",
    "Copying everything and stores in the second drive. capacity is half, improved read throughput, but takes longer to write. No data loss if one drive fails\n",
    "\n",
    "#### RAID 5\n",
    "block level stripping, distributed parity, a failed disk can be reconstructed from the rest. \n",
    "\n",
    "<img src=\"https://upload.wikimedia.org/wikipedia/commons/6/64/RAID_5.svg\"/>"
   ]
  }
 ],
 "metadata": {
  "hide_input": false,
  "kernelspec": {
   "display_name": "Python 3",
   "language": "python",
   "name": "python3"
  },
  "language_info": {
   "codemirror_mode": {
    "name": "ipython",
    "version": 3
   },
   "file_extension": ".py",
   "mimetype": "text/x-python",
   "name": "python",
   "nbconvert_exporter": "python",
   "pygments_lexer": "ipython3",
   "version": "3.7.4"
  }
 },
 "nbformat": 4,
 "nbformat_minor": 2
}
