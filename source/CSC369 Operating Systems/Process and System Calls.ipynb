{
 "cells": [
  {
   "cell_type": "markdown",
   "metadata": {},
   "source": [
    "## Process\n",
    "A process contains all of the state for a program in execution\n",
    " - __Address space__\n",
    " - __Data + data__ for the executing program\n",
    " - An execution __stack__ encapsulating the state of procedure calls\n",
    " - Program counter (__PC__)\n",
    " - A set of general-purpose __registers__ with current values\n",
    " - __PID__\n",
    " - A set of operating system resources: __open files, network connections, signals__. "
   ]
  },
  {
   "cell_type": "markdown",
   "metadata": {},
   "source": [
    "### Process Control Block (PCB)\n",
    "A process can be in 3 states __ready, blocked, running__. \n",
    "\n",
    "OS maintains a collection of state queues that represent the state of all processes in the system, typically one queue for each state. As a process changes state, its PCB is unlinked from one queue to another. "
   ]
  },
  {
   "cell_type": "markdown",
   "metadata": {},
   "source": [
    "#### Program to Process\n",
    "1. __Create new process__ create new PCB, user address space structure, allocate memory\n",
    "2. __Load executable__ initialize start state for process, change state to \"ready\"  \n",
    "3. __Dispatch process__ change state to \"running\""
   ]
  },
  {
   "cell_type": "markdown",
   "metadata": {},
   "source": [
    "#### Ready to Running\n",
    "__Context switch__ switch the CPU to another process by: saving the state of the old process, loading the saved state for the new process. \n",
    "\n",
    "<img src=\"./assets/context.png\">"
   ]
  },
  {
   "cell_type": "markdown",
   "metadata": {},
   "source": [
    "## System Call\n",
    "A function call that invokes the OS, whenever an application wants to use a resource that the OS manages, it asks permission. \n",
    "\n",
    "Hardware runs in __user mode__ or __system mode__; some instructions are privileged instructions and only runs in system mode.  \n",
    "On a __system call interrupt__, the mode bit is switched to allow privileged instructions to occur. "
   ]
  },
  {
   "cell_type": "markdown",
   "metadata": {},
   "source": [
    "#### Privileged Instructions\n",
    "- Access IO device\n",
    "- Manipulate memory management\n",
    "- Configure \"mode bits\" (given priority, software trap vectors)\n",
    "- Call halt instruction"
   ]
  },
  {
   "cell_type": "markdown",
   "metadata": {},
   "source": [
    "#### System Call Interface\n",
    "C program provides user mode functions that requires system calls. C library functions then passes arguments to OS and execute special instructions to trap to system mode. Then syscall handler figures out which system call is needed and calls a routine for that operation. \n",
    "\n",
    "Kernel must verify passed arguments, otherwise unwanted instructions can be executed in kernel mode. "
   ]
  },
  {
   "cell_type": "markdown",
   "metadata": {},
   "source": [
    "### System Call Dispatch\n",
    "A system call is identified by a unique number (passed to register `%eax`). \n",
    "\n",
    "1. Kernel assigns each system call type a system call number \n",
    "2. Kernel initialize __syscall table__, mapping each system call number to a function implementing the system call\n",
    "3. User process sets up system call number and argument\n",
    "4. User process runs `int N` to ask context switch to kernel mode and invokes kernel's interrupt handler for X (__interrupt dispatch)\n",
    "5. Kernel looks up syscall table using syscall number and invokes the corresponding function\n",
    "6. return by running `iret` (interrupt return)"
   ]
  }
 ],
 "metadata": {
  "hide_input": false,
  "kernelspec": {
   "display_name": "Python 3",
   "language": "python",
   "name": "python3"
  },
  "language_info": {
   "codemirror_mode": {
    "name": "ipython",
    "version": 3
   },
   "file_extension": ".py",
   "mimetype": "text/x-python",
   "name": "python",
   "nbconvert_exporter": "python",
   "pygments_lexer": "ipython3",
   "version": "3.7.4"
  }
 },
 "nbformat": 4,
 "nbformat_minor": 2
}
