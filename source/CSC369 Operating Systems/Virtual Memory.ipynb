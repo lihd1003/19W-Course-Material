{
 "cells": [
  {
   "cell_type": "markdown",
   "metadata": {},
   "source": [
    "### Goals\n",
    "__Transparency__ a program should not need to know how memory is virtualized, each program has the illusion of using all of physical memory.  \n",
    "__Efficiency__ time - programs shouldn't run much more slowly; space - minimize the size of structures needed to support virtual memory  \n",
    "__Protection__ a process should not be able to access another processes memory: isolation"
   ]
  },
  {
   "cell_type": "markdown",
   "metadata": {},
   "source": [
    "### Paging\n",
    "__frame__ Partition memory into equal, fixed-size chunks.  \n",
    "__page__ Divide processes' memory into chunks of the same size; \n",
    "\n",
    "Any page can be assigned to any free page frame; external fragmentation is eliminated, internal fragmentation is at most a part of a page. \n",
    "\n",
    "Possible page frame sizes are restricted to powers of 2 to simplify translation"
   ]
  }
 ],
 "metadata": {
  "hide_input": false,
  "kernelspec": {
   "display_name": "Python 3",
   "language": "python",
   "name": "python3"
  },
  "language_info": {
   "codemirror_mode": {
    "name": "ipython",
    "version": 3
   },
   "file_extension": ".py",
   "mimetype": "text/x-python",
   "name": "python",
   "nbconvert_exporter": "python",
   "pygments_lexer": "ipython3",
   "version": "3.7.4"
  }
 },
 "nbformat": 4,
 "nbformat_minor": 2
}
