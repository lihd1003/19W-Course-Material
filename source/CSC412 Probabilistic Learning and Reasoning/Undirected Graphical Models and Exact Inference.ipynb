{
 "cells": [
  {
   "cell_type": "markdown",
   "metadata": {},
   "source": [
    "# Undirected Graphical Models\n",
    "\n",
    "A set of r.v. described by an undirected graph. The edges (undirected) represent __probabilistic interactions__ between neighboring variables (as opposed to conditional dependence in DAGM). "
   ]
  },
  {
   "cell_type": "markdown",
   "metadata": {},
   "source": [
    "## Definitions\n",
    "__Global Markov Property $G$__ - $X_A\\perp X_B \\mid X_C$ IFF $X_C$ separated $X_A$ from $X_B$, i.e. there is no path in the graph between $A$ and $B$ that doesn't go through $X_C$\n",
    "\n",
    "__Local Markov Property (Markov Blanket) $L$__ - The set of nodes that renders a node $t$ conditionally dependent all the other nodes in the graph \n",
    "$$t\\perp (V-cl(t)) | mv(t)$$\n",
    "where $cl(t) = mb(t)\\cup t$ is the closure.\n",
    "\n",
    "__Pairwise (Markov) Property $P$__ - The set of nodes that renders two nodes, $s,t$, conditionally independent of each other. \n",
    "$$s\\perp t \\mid (V - \\{s,t\\}) \\Leftrightarrow G(s,t)=0$$\n",
    "$G$ is the number of edges between two nodes"
   ]
  },
  {
   "cell_type": "markdown",
   "metadata": {},
   "source": [
    "# Exact Inference\n",
    "\n",
    "## Problem Setting\n",
    "Let $X_E$ be the observed evident, $X_F$ be the unobserved variable we want to infer, $X_R = X - \\{X_F, X_E\\}$ be all the remaining variables. \n",
    "\n",
    "Then, in a probabilistic graphical models, we need to marginalize out all $X_R$, focusing on the joint distribution over evidence and subject of inference.\n",
    "$$p(X_F, X_E) = \\sum_{X_R} p(X_F, X_E, X_R)$$\n",
    "and the inference will be \n",
    "$$p(X_F|X_E) = p(\\frac{X_F, X_E}{X_E}) = \\frac{p(X_F, X_E)}{\\sum_{X_F}p(X_F, X_E)}$$\n",
    "and the conditional distribution \n",
    "$$p(X_E) = \\sum_{X_F, X_R} p(X_F, X_E, X_R)$$\n",
    "However, if $|X_R|$ are large, then this computing is huge, for continuous variables, integrating is even more computational intensive. "
   ]
  },
  {
   "cell_type": "markdown",
   "metadata": {},
   "source": [
    "## Variable Elimination\n",
    "### Simple Example: Chain\n",
    "Consider a chain $A\\rightarrow B \\rightarrow C\\rightarrow D$ and $X_F = \\{D\\}, X_E = \\{\\}, X_R = \\{A,B,C\\}$\n",
    "Note that $p(A,B,C,D) = p(A)p(B|A)p(C|B)p(D|C)$ so that \n",
    "\\begin{align*}\n",
    "p(D) &= \\sum_{A,B,C}p(A,B,C,D) \\\\\n",
    "&= \\sum_C\\sum_B\\sum_A p(A)p(B|A)p(C|B)p(D|C)&\\sim O(k^3)\\\\\n",
    "&= \\sum_Cp(D|C)\\sum_Bp(C|B)\\sum_Ap(A)p(B|A)\\\\\n",
    "&= \\sum_C p(D|C)\\sum_Bp(C|B)p(B)\\\\\n",
    "&= \\sum_C p(D|C)p(C)&\\sim O(nk^2)\n",
    "\\end{align*}"
   ]
  },
  {
   "cell_type": "markdown",
   "metadata": {},
   "source": [
    "### Intermediate Factors\n",
    "Consider the distribution given by \n",
    "$$p(X,A,B,C) = p(X)p(A|X)p(B|A)p(C|B,X)$$\n",
    "\n",
    "Define __factor__ $\\phi$ which are not necessarily normalized distributions, but which describes the local relationship between r.v.'s. \n",
    "\\begin{align*}\n",
    "p(A,B,C) &= \\sum_X p(X)p(A|X)p(B|A)p(C|B,X)\\\\\n",
    "&= \\sum_{X}\\phi(X) \\phi(A,X)\\phi(A,B)\\phi(X,B,C)\\\\\n",
    "&= \\phi(A,B)\\sum_X \\phi(X)\\phi(A,X)\\phi(X,B,C)\\\\\n",
    "&= \\phi(A,B) \\tau(A,B,C)\n",
    "\\end{align*}"
   ]
  },
  {
   "cell_type": "markdown",
   "metadata": {},
   "source": [
    "### Sum-product Inference\n",
    "Computing $P(Y)$ for directed and undirected models is given by __sum-product__ inference algorithm \n",
    "$$\\tau(Y) = \\sum_z\\prod_{\\phi\\in \\Phi}\\phi(z_{Scope[\\phi]\\cap Z}, y_{Scope[\\phi]\\cap Y}), \\forall Y$$\n",
    "where $\\Phi$ is a set of potential factors. "
   ]
  },
  {
   "cell_type": "markdown",
   "metadata": {},
   "source": [
    "### Complexity of Variable Elimination Ordering\n",
    "The complexity is \n",
    "$$O(mk^{N_{max}})$$\n",
    "- $m = |X_R|$ is the number of initial factors\n",
    "- $k$ is the number of states each random variable takes (assuming equal)\n",
    "- $N_{max} = \\arg\\max_i N_i$ where $N_i$ is the number of r.v. inside each sum $\\sum_i$"
   ]
  },
  {
   "cell_type": "markdown",
   "metadata": {},
   "source": [
    "## Inference in Trees (Message Passing)\n",
    "For trees, the variable elimination has an optimal solution as from the leaves inwards to any any root. And the cost is linear to the number of nodes. "
   ]
  },
  {
   "cell_type": "markdown",
   "metadata": {},
   "source": [
    "### Belief Propagation Algorithm\n",
    "Define the message send from variable $j$ to $i \\in Neighbor(j)$ (regardless of the direction) as \n",
    "$$m_{j\\rightarrow i} (x_i) = \\sum_{x_j}\\phi_j(x_j)\\phi_{ij}(x_i,x_j)\\prod_{k\\in Neighbor(j)\\neq i}m_{k\\rightarrow j}(x_j)$$\n",
    "\n",
    "And the Dynamic algorithm \n",
    "1. choose root $r$ arbitrarily\n",
    "2. forward pass messages from leafs to $r$\n",
    "3. backward pass messages from $r$ to leafs\n",
    "4. compute $p(x_i)\\propto \\phi_i(x_i)\\prod_{j\\in Neighbor(i)}m_{j\\rightarrow i}(x_i)$\n",
    "\n",
    "#### Example"
   ]
  },
  {
   "cell_type": "code",
   "execution_count": 2,
   "metadata": {},
   "outputs": [
    {
     "data": {
      "image/svg+xml": [
       "<?xml version=\"1.0\" encoding=\"UTF-8\" standalone=\"no\"?>\r\n",
       "<!DOCTYPE svg PUBLIC \"-//W3C//DTD SVG 1.1//EN\"\r\n",
       " \"http://www.w3.org/Graphics/SVG/1.1/DTD/svg11.dtd\">\r\n",
       "<!-- Generated by graphviz version 2.38.0 (20140413.2041)\r\n",
       " -->\r\n",
       "<!-- Title: %3 Pages: 1 -->\r\n",
       "<svg width=\"170pt\" height=\"188pt\"\r\n",
       " viewBox=\"0.00 0.00 170.00 188.00\" xmlns=\"http://www.w3.org/2000/svg\" xmlns:xlink=\"http://www.w3.org/1999/xlink\">\r\n",
       "<g id=\"graph0\" class=\"graph\" transform=\"scale(1 1) rotate(0) translate(4 184)\">\r\n",
       "<title>%3</title>\r\n",
       "<polygon fill=\"white\" stroke=\"none\" points=\"-4,4 -4,-184 166,-184 166,4 -4,4\"/>\r\n",
       "<!-- 3 -->\r\n",
       "<g id=\"node1\" class=\"node\"><title>3</title>\r\n",
       "<ellipse fill=\"none\" stroke=\"black\" cx=\"27\" cy=\"-162\" rx=\"27\" ry=\"18\"/>\r\n",
       "<text text-anchor=\"middle\" x=\"27\" y=\"-158.3\" font-family=\"Times New Roman,serif\" font-size=\"14.00\">3</text>\r\n",
       "</g>\r\n",
       "<!-- 2 -->\r\n",
       "<g id=\"node2\" class=\"node\"><title>2</title>\r\n",
       "<ellipse fill=\"none\" stroke=\"black\" cx=\"63\" cy=\"-90\" rx=\"27\" ry=\"18\"/>\r\n",
       "<text text-anchor=\"middle\" x=\"63\" y=\"-86.3\" font-family=\"Times New Roman,serif\" font-size=\"14.00\">2</text>\r\n",
       "</g>\r\n",
       "<!-- 3&#45;&gt;2 -->\r\n",
       "<g id=\"edge1\" class=\"edge\"><title>3&#45;&gt;2</title>\r\n",
       "<path fill=\"none\" stroke=\"black\" d=\"M35.3496,-144.765C39.7115,-136.283 45.1469,-125.714 50.0413,-116.197\"/>\r\n",
       "<polygon fill=\"black\" stroke=\"black\" points=\"53.2346,-117.641 54.6957,-107.147 47.0096,-114.439 53.2346,-117.641\"/>\r\n",
       "</g>\r\n",
       "<!-- 1 -->\r\n",
       "<g id=\"node4\" class=\"node\"><title>1</title>\r\n",
       "<ellipse fill=\"none\" stroke=\"black\" cx=\"99\" cy=\"-18\" rx=\"27\" ry=\"18\"/>\r\n",
       "<text text-anchor=\"middle\" x=\"99\" y=\"-14.3\" font-family=\"Times New Roman,serif\" font-size=\"14.00\">1</text>\r\n",
       "</g>\r\n",
       "<!-- 2&#45;&gt;1 -->\r\n",
       "<g id=\"edge3\" class=\"edge\"><title>2&#45;&gt;1</title>\r\n",
       "<path fill=\"none\" stroke=\"black\" d=\"M71.3496,-72.7646C75.7115,-64.2831 81.1469,-53.7144 86.0413,-44.1974\"/>\r\n",
       "<polygon fill=\"black\" stroke=\"black\" points=\"89.2346,-45.6409 90.6957,-35.1473 83.0096,-42.4395 89.2346,-45.6409\"/>\r\n",
       "</g>\r\n",
       "<!-- 4 -->\r\n",
       "<g id=\"node3\" class=\"node\"><title>4</title>\r\n",
       "<ellipse fill=\"none\" stroke=\"black\" cx=\"99\" cy=\"-162\" rx=\"27\" ry=\"18\"/>\r\n",
       "<text text-anchor=\"middle\" x=\"99\" y=\"-158.3\" font-family=\"Times New Roman,serif\" font-size=\"14.00\">4</text>\r\n",
       "</g>\r\n",
       "<!-- 4&#45;&gt;2 -->\r\n",
       "<g id=\"edge2\" class=\"edge\"><title>4&#45;&gt;2</title>\r\n",
       "<path fill=\"none\" stroke=\"black\" d=\"M90.6504,-144.765C86.2885,-136.283 80.8531,-125.714 75.9587,-116.197\"/>\r\n",
       "<polygon fill=\"black\" stroke=\"black\" points=\"78.9904,-114.439 71.3043,-107.147 72.7654,-117.641 78.9904,-114.439\"/>\r\n",
       "</g>\r\n",
       "<!-- 5 -->\r\n",
       "<g id=\"node5\" class=\"node\"><title>5</title>\r\n",
       "<ellipse fill=\"none\" stroke=\"black\" cx=\"135\" cy=\"-90\" rx=\"27\" ry=\"18\"/>\r\n",
       "<text text-anchor=\"middle\" x=\"135\" y=\"-86.3\" font-family=\"Times New Roman,serif\" font-size=\"14.00\">5</text>\r\n",
       "</g>\r\n",
       "<!-- 5&#45;&gt;1 -->\r\n",
       "<g id=\"edge4\" class=\"edge\"><title>5&#45;&gt;1</title>\r\n",
       "<path fill=\"none\" stroke=\"black\" d=\"M126.65,-72.7646C122.288,-64.2831 116.853,-53.7144 111.959,-44.1974\"/>\r\n",
       "<polygon fill=\"black\" stroke=\"black\" points=\"114.99,-42.4395 107.304,-35.1473 108.765,-45.6409 114.99,-42.4395\"/>\r\n",
       "</g>\r\n",
       "</g>\r\n",
       "</svg>\r\n"
      ],
      "text/plain": [
       "<graphviz.dot.Digraph at 0x172c4b6ee88>"
      ]
     },
     "metadata": {},
     "output_type": "display_data"
    }
   ],
   "source": [
    "from graphviz import Digraph\n",
    "dag = Digraph()\n",
    "dag.edge('3', '2')\n",
    "dag.edge('4', '2')\n",
    "dag.edge('2', '1')\n",
    "dag.edge('5', '1')\n",
    "display(dag);"
   ]
  },
  {
   "cell_type": "markdown",
   "metadata": {},
   "source": [
    "Then, the messages from leaf to root are:\n",
    "\\begin{align*}\n",
    "m_{5\\rightarrow 1} &= \\sum_{x_5}\\phi(x_5)\\phi(x_1, x_5)\\\\\n",
    "m_{3\\rightarrow 2} &= \\sum_{x_3}\\phi(x_3)\\phi(x_3, x_2)\\\\\n",
    "m_{4\\rightarrow 2} &= \\sum_{x_4}\\phi(x_4)\\phi(x_2, x_4)\\\\\n",
    "m_{2\\rightarrow 1} &= \\sum_{x_1}\\phi(x_2)\\phi(x_2, x_1)m_{3\\rightarrow 2}(x_2)m_{4\\rightarrow 2}(x_2)\\\\\n",
    "\\Rightarrow p(x_1)&\\propto \\phi(x_1)m_{2\\rightarrow 1}(x_1)m_{5\\rightarrow 1}(x_1)\\\\\n",
    "\\text{where } Z &= \\sum_{x_1}p(x_1)\n",
    "\\end{align*}"
   ]
  },
  {
   "cell_type": "markdown",
   "metadata": {},
   "source": [
    "## Hidden Markov Models\n",
    "HMMs hide the temporal dependency by keeping it in the unobserved state. For each observation $x_i$, we associate a corresponding unobserved hidden/latent variable $z_i$ "
   ]
  },
  {
   "cell_type": "code",
   "execution_count": 13,
   "metadata": {},
   "outputs": [
    {
     "data": {
      "image/svg+xml": [
       "<?xml version=\"1.0\" encoding=\"UTF-8\" standalone=\"no\"?>\r\n",
       "<!DOCTYPE svg PUBLIC \"-//W3C//DTD SVG 1.1//EN\"\r\n",
       " \"http://www.w3.org/Graphics/SVG/1.1/DTD/svg11.dtd\">\r\n",
       "<!-- Generated by graphviz version 2.38.0 (20140413.2041)\r\n",
       " -->\r\n",
       "<!-- Title: %3 Pages: 1 -->\r\n",
       "<svg width=\"332pt\" height=\"152pt\"\r\n",
       " viewBox=\"0.00 0.00 332.00 152.00\" xmlns=\"http://www.w3.org/2000/svg\" xmlns:xlink=\"http://www.w3.org/1999/xlink\">\r\n",
       "<g id=\"graph0\" class=\"graph\" transform=\"scale(1 1) rotate(0) translate(4 148)\">\r\n",
       "<title>%3</title>\r\n",
       "<polygon fill=\"white\" stroke=\"none\" points=\"-4,4 -4,-148 328,-148 328,4 -4,4\"/>\r\n",
       "<!-- Z1 -->\r\n",
       "<g id=\"node1\" class=\"node\"><title>Z1</title>\r\n",
       "<ellipse fill=\"lightgrey\" stroke=\"black\" cx=\"27\" cy=\"-45\" rx=\"27\" ry=\"18\"/>\r\n",
       "<text text-anchor=\"middle\" x=\"27\" y=\"-41.3\" font-family=\"Times New Roman,serif\" font-size=\"14.00\">Z1</text>\r\n",
       "</g>\r\n",
       "<!-- Z2 -->\r\n",
       "<g id=\"node2\" class=\"node\"><title>Z2</title>\r\n",
       "<ellipse fill=\"lightgrey\" stroke=\"black\" cx=\"117\" cy=\"-72\" rx=\"27\" ry=\"18\"/>\r\n",
       "<text text-anchor=\"middle\" x=\"117\" y=\"-68.3\" font-family=\"Times New Roman,serif\" font-size=\"14.00\">Z2</text>\r\n",
       "</g>\r\n",
       "<!-- Z1&#45;&gt;Z2 -->\r\n",
       "<g id=\"edge1\" class=\"edge\"><title>Z1&#45;&gt;Z2</title>\r\n",
       "<path fill=\"none\" stroke=\"black\" d=\"M52.0464,-52.3779C61.4354,-55.2586 72.3623,-58.6112 82.4996,-61.7215\"/>\r\n",
       "<polygon fill=\"black\" stroke=\"black\" points=\"81.7006,-65.1373 92.2874,-64.7245 83.7539,-58.4452 81.7006,-65.1373\"/>\r\n",
       "</g>\r\n",
       "<!-- X1 -->\r\n",
       "<g id=\"node3\" class=\"node\"><title>X1</title>\r\n",
       "<ellipse fill=\"none\" stroke=\"black\" cx=\"117\" cy=\"-18\" rx=\"27\" ry=\"18\"/>\r\n",
       "<text text-anchor=\"middle\" x=\"117\" y=\"-14.3\" font-family=\"Times New Roman,serif\" font-size=\"14.00\">X1</text>\r\n",
       "</g>\r\n",
       "<!-- Z1&#45;&gt;X1 -->\r\n",
       "<g id=\"edge2\" class=\"edge\"><title>Z1&#45;&gt;X1</title>\r\n",
       "<path fill=\"none\" stroke=\"black\" d=\"M52.0464,-37.6221C61.4354,-34.7414 72.3623,-31.3888 82.4996,-28.2785\"/>\r\n",
       "<polygon fill=\"black\" stroke=\"black\" points=\"83.7539,-31.5548 92.2874,-25.2755 81.7006,-24.8627 83.7539,-31.5548\"/>\r\n",
       "</g>\r\n",
       "<!-- Z3 -->\r\n",
       "<g id=\"node4\" class=\"node\"><title>Z3</title>\r\n",
       "<ellipse fill=\"lightgrey\" stroke=\"black\" cx=\"207\" cy=\"-99\" rx=\"27\" ry=\"18\"/>\r\n",
       "<text text-anchor=\"middle\" x=\"207\" y=\"-95.3\" font-family=\"Times New Roman,serif\" font-size=\"14.00\">Z3</text>\r\n",
       "</g>\r\n",
       "<!-- Z2&#45;&gt;Z3 -->\r\n",
       "<g id=\"edge3\" class=\"edge\"><title>Z2&#45;&gt;Z3</title>\r\n",
       "<path fill=\"none\" stroke=\"black\" d=\"M142.046,-79.3779C151.435,-82.2586 162.362,-85.6112 172.5,-88.7215\"/>\r\n",
       "<polygon fill=\"black\" stroke=\"black\" points=\"171.701,-92.1373 182.287,-91.7245 173.754,-85.4452 171.701,-92.1373\"/>\r\n",
       "</g>\r\n",
       "<!-- X2 -->\r\n",
       "<g id=\"node5\" class=\"node\"><title>X2</title>\r\n",
       "<ellipse fill=\"none\" stroke=\"black\" cx=\"207\" cy=\"-45\" rx=\"27\" ry=\"18\"/>\r\n",
       "<text text-anchor=\"middle\" x=\"207\" y=\"-41.3\" font-family=\"Times New Roman,serif\" font-size=\"14.00\">X2</text>\r\n",
       "</g>\r\n",
       "<!-- Z2&#45;&gt;X2 -->\r\n",
       "<g id=\"edge4\" class=\"edge\"><title>Z2&#45;&gt;X2</title>\r\n",
       "<path fill=\"none\" stroke=\"black\" d=\"M142.046,-64.6221C151.435,-61.7414 162.362,-58.3888 172.5,-55.2785\"/>\r\n",
       "<polygon fill=\"black\" stroke=\"black\" points=\"173.754,-58.5548 182.287,-52.2755 171.701,-51.8627 173.754,-58.5548\"/>\r\n",
       "</g>\r\n",
       "<!-- ... -->\r\n",
       "<g id=\"node6\" class=\"node\"><title>...</title>\r\n",
       "<text text-anchor=\"middle\" x=\"297\" y=\"-122.3\" font-family=\"Times New Roman,serif\" font-size=\"14.00\">...</text>\r\n",
       "</g>\r\n",
       "<!-- Z3&#45;&gt;... -->\r\n",
       "<g id=\"edge5\" class=\"edge\"><title>Z3&#45;&gt;...</title>\r\n",
       "<path fill=\"none\" stroke=\"black\" d=\"M232.046,-106.378C240.733,-109.043 250.737,-112.112 260.213,-115.02\"/>\r\n",
       "<polygon fill=\"black\" stroke=\"black\" points=\"259.234,-118.38 269.82,-117.968 261.287,-111.688 259.234,-118.38\"/>\r\n",
       "</g>\r\n",
       "<!-- X3 -->\r\n",
       "<g id=\"node7\" class=\"node\"><title>X3</title>\r\n",
       "<ellipse fill=\"none\" stroke=\"black\" cx=\"297\" cy=\"-72\" rx=\"27\" ry=\"18\"/>\r\n",
       "<text text-anchor=\"middle\" x=\"297\" y=\"-68.3\" font-family=\"Times New Roman,serif\" font-size=\"14.00\">X3</text>\r\n",
       "</g>\r\n",
       "<!-- Z3&#45;&gt;X3 -->\r\n",
       "<g id=\"edge6\" class=\"edge\"><title>Z3&#45;&gt;X3</title>\r\n",
       "<path fill=\"none\" stroke=\"black\" d=\"M232.046,-91.6221C241.435,-88.7414 252.362,-85.3888 262.5,-82.2785\"/>\r\n",
       "<polygon fill=\"black\" stroke=\"black\" points=\"263.754,-85.5548 272.287,-79.2755 261.701,-78.8627 263.754,-85.5548\"/>\r\n",
       "</g>\r\n",
       "</g>\r\n",
       "</svg>\r\n"
      ],
      "text/plain": [
       "<graphviz.dot.Digraph at 0x1bb672a9b88>"
      ]
     },
     "metadata": {},
     "output_type": "display_data"
    }
   ],
   "source": [
    "from graphviz import Digraph\n",
    "dag = Digraph()\n",
    "dag.edge('Z1', 'Z2')\n",
    "dag.edge('Z1', 'X1')\n",
    "dag.edge('Z2', 'Z3')\n",
    "dag.edge('Z2', 'X2')\n",
    "dag.edge('Z3', '...')\n",
    "dag.edge('Z3', 'X3')\n",
    "dag.node('Z1', style='filled')\n",
    "dag.node('Z2', style='filled')\n",
    "dag.node('Z3', style='filled')\n",
    "dag.node('...', shape=\"none\")\n",
    "dag.graph_attr['rankdir'] = 'LR'\n",
    "display(dag);"
   ]
  },
  {
   "cell_type": "markdown",
   "metadata": {},
   "source": [
    "The joint distribution is then given by\n",
    "$$p(x_{1:T}, z_{1:T}) = p(z_1)\\prod_{t=2}^T p(z_t|z_{t-1})\\prod_{t=1}^T p(x_t|z_t)$$\n",
    "\n",
    "#### Parameterization\n",
    "Assume we have a homogeneous (stationary) model, we need to learn \n",
    "- __Initial distribution__ $\\pi(i) = p(z_1 = i)$ \n",
    "- __Transition distribution__ $T(i,j) = p(z_{t+1}=j|z_t = i)$\n",
    "- __Emission probability__ $\\epsilon_i(x) = p(x|z_t = i)$"
   ]
  },
  {
   "cell_type": "markdown",
   "metadata": {},
   "source": [
    "### Forward-backward algorithm\n",
    "We are interested in knowing the probability of a latent sequence given the observation sequence, i.e. $p(z_t |x_{1:T}), \\forall t \\in \\{1:T\\}$\n",
    "\n",
    "Note that a HMM with finite $T$ (even infinite $T$ with initial state) will be be a tree. \n",
    "\n",
    "Then, given the initial $p(z_1)$, transition $p(z_t|z_{t-1})$, and emission $p(x_t|z_t)$. We need to inference \n",
    " \n",
    " - __Filtering__ posterior over current hidden state $p(z_t|x_{1:t})$\n",
    " - __Prediction__ posterior over future hidden state $p(z_{t+k}|x_{1:t})$\n",
    " - __Smoothing__ posterior over past hidden state, $p(z_n|x_{1:t}), 1<n<t$\n",
    " \n",
    "Then, note that for the filtering, for any $t\\in T$. \n",
    "\\begin{align*}\n",
    "p(z_t|x_{1:T})&\\propto p(z_t, x_{1:T})\\\\\n",
    "&= p(z_t, x_{1:t})p(x_{t+1:T}|z_t, x_{1:t})\\\\\n",
    "&= p(z_t, x_{1:t})p(x_{t+1:T}|z_t) \n",
    "\\end{align*}\n",
    "The last line holds as $x_{t+1:T}\\perp x_{1:t}| z_t$ as $z_t$ is the common cause and prevents the dependency.\n",
    "\n",
    "Then further note that $p(z_t, x_{1:t})p(x_{t+1:T}|z_t) $ follows some recursive steps from the initialization, transition, and emission. We then define the forward filtering and backward filtering as"
   ]
  },
  {
   "cell_type": "markdown",
   "metadata": {},
   "source": [
    "#### Forward Filtering\n",
    "\\begin{align*}\n",
    "\\alpha_t(z_t) &= p(z_t, x_{1:t})\\\\&= \\sum_{z_{t-1}} p(z_t, x_{1:t}, z_{t-1})\\\\\n",
    "&= \\sum_{z_{t-1}} p(x_t|z_{t-1}, z_t, x_{1:t-1})p(z_t|z_{t-1}, x_{1:t-1})p(z_{t-1}, x_{1:t-1})\\\\\n",
    "&= \\sum_{z_{t-1}} p(x_t|z_t) p(z_t|z_{t-1})a_t(z_{t-1})&\\text{by cond. indep. }\\\\\n",
    "&= p(x_t|z_t)\\sum_{z_{t-1}}p(z_t|z_{t-1})\\alpha_{t-1}(z_{t-1})\n",
    "\\end{align*}\n",
    "\n",
    "Note that $a_1(z_1) = p(z_1, x_1) = p(z_1)p(x_1|z_1)$"
   ]
  },
  {
   "cell_type": "markdown",
   "metadata": {},
   "source": [
    "#### Backward Filtering\n",
    "\\begin{align*}\n",
    "\\beta_t(z_t)\n",
    "&=p(x_{t+1:T}|z_t)\\\\ \n",
    "&= \\sum_{z_{t+1}} p(z_{t+1}, x_{t+1:T}|z_t)\\\\\n",
    "&= \\sum_{z_{t+1}}p(x_{t+2:T}|z_{t+1}, z_t, x_{t+1})p(x_{t+1}|z_{t+1}, z_t)p(z_{t+1}|z_t)\\\\\n",
    "&= \\sum_{z_{t+1}}p(x_{t+2:T}|z_{t+1})p(x_{t+1}|z_{t+1})p(z_{t+1}|z_t)\\\\\n",
    "&= \\sum_{z_{t+1}}\\beta_{t+1}(z_{t+1})p(x_{t+1}|z_{t+1})p(z_{t+1}|z_t)\n",
    "\\end{align*}"
   ]
  }
 ],
 "metadata": {
  "hide_input": false,
  "kernelspec": {
   "display_name": "Python 3",
   "language": "python",
   "name": "python3"
  },
  "language_info": {
   "codemirror_mode": {
    "name": "ipython",
    "version": 3
   },
   "file_extension": ".py",
   "mimetype": "text/x-python",
   "name": "python",
   "nbconvert_exporter": "python",
   "pygments_lexer": "ipython3",
   "version": "3.7.4"
  },
  "toc": {
   "base_numbering": 1,
   "nav_menu": {},
   "number_sections": true,
   "sideBar": true,
   "skip_h1_title": false,
   "title_cell": "Table of Contents",
   "title_sidebar": "Contents",
   "toc_cell": false,
   "toc_position": {},
   "toc_section_display": true,
   "toc_window_display": false
  }
 },
 "nbformat": 4,
 "nbformat_minor": 2
}
