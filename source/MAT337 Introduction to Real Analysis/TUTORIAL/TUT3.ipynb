{
 "cells": [
  {
   "cell_type": "markdown",
   "metadata": {},
   "source": [
    "1. A closed subset $C\\subseteq \\mathbb{R}$ is complete.   \n",
    "\n",
    "_proof_. Let $\\{x_n\\}$ be Cauchy, then it's convergent, since closed, its convergent limit is in $C$. \n",
    "\n"
   ]
  },
  {
   "cell_type": "markdown",
   "metadata": {},
   "source": [
    "2. $S = \\{\\sum^n_{k=1} k^{-2}: n\\in\\mathbb{N}^+\\}$  \n",
    "\n",
    "Not open: $1+\\epsilon$ is not in the set.   "
   ]
  },
  {
   "cell_type": "markdown",
   "metadata": {},
   "source": [
    "3. An arbitrary intersection $\\cap_{n\\geq 1}C_n$ of compact sets $C_n$ is compact. \n",
    "\n",
    "_proof_. Compact $\\Rightarrow C_n$ closed $\\Rightarrow$ $\\cap C_n$ closed.   \n",
    "Also, $\\cap C_n$ is bounded by any $C_n$"
   ]
  },
  {
   "cell_type": "markdown",
   "metadata": {},
   "source": [
    "4. $\\mathbb{Q}\\cap[0,1]$ is not compact\n",
    "\n",
    "Consider the sequence $x_1 = 3, x_2 = 3.1, x_3 = 3.14, ...$  \n",
    "$x_n\\rightarrow \\pi\\in\\mathbb{Q}^c$. This sequence is monotone increasing, All its subsequence then must convergent to $\\pi$"
   ]
  }
 ],
 "metadata": {
  "hide_input": false,
  "kernelspec": {
   "display_name": "Python 3",
   "language": "python",
   "name": "python3"
  },
  "language_info": {
   "codemirror_mode": {
    "name": "ipython",
    "version": 3
   },
   "file_extension": ".py",
   "mimetype": "text/x-python",
   "name": "python",
   "nbconvert_exporter": "python",
   "pygments_lexer": "ipython3",
   "version": "3.6.8"
  }
 },
 "nbformat": 4,
 "nbformat_minor": 2
}
