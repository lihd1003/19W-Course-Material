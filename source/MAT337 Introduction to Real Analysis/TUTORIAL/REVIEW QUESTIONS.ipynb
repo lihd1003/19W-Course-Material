{
 "cells": [
  {
   "cell_type": "markdown",
   "metadata": {},
   "source": [
    "__Question__ Using Taylor expansion for $\\frac{\\sin x}{x}$, find $\\int_0^1 \\frac{\\sin x}{x} dx$\n",
    "\n",
    "Consider $\\sin(x) = \\sum \\frac{(-1)^n x^{2k+1}}{(2k+1)!}\\Rightarrow \\frac{\\sin(x)}{x} = \\sum \\frac{(-1)^n x^{2k}}{(2k+1)!}:=S(x)$  \n",
    "Using Hadamard's Theorem, $\\frac{a_{k+1}}{a_k} = \\frac{(2k+1)!}{(2k+3)!} = (2k+1)^{-1}(2k+2)^{-1}\\rightarrow 0\\Rightarrow R = \\infty$  \n",
    "$x^2$ has infinite radius of convergence $\\Rightarrow x\\in\\mathbb R$\n",
    "\n",
    "Therefore, $\\forall x\\in \\mathbb R. \\sin x/x \\rightarrow^{u.c.} S(x)$, hence ICT is valid\n",
    "\\begin{align*}\n",
    "\\int_0^1 \\sin x/x dx &= \\int_0^1 \\sum \\frac{(-1)^k x^{2k}}{(2k+1)!}dx \\\\\n",
    "&= \\lim_{N} \\sum^N \\int_0^1 \\frac{(-1)^k x^{2k}}{(2k+1)!}dx  &\\text{linearity of sum and ICT} \\\\\n",
    "&= \\lim_{N} \\sum^N \\frac{(-1)^k}{(2k+1)!(2k+1)} < \\infty\n",
    "\\end{align*}"
   ]
  },
  {
   "cell_type": "markdown",
   "metadata": {},
   "source": [
    "__Question__ Show $\\mathcal F = \\{e^{-ax^2}: a\\in [0,1]\\}$ is compact in $(C[-1,1], \\|\\cdot\\|_\\infty)$  \n",
    "\n",
    "Bounded: Known that $e^x$ is monotone increasing, since $a \\geq 0, x^2 \\geq 0, -ax^2 \\leq 0\\Rightarrow e^{-ax^2} < e^0 = 1$, and note $\\forall x\\in\\mathbb R. e^x \\geq 0\\Rightarrow \\mathcal F$ is bounded by $[0,1]$. \n",
    "\n",
    "Equicontinuous: Let $\\epsilon > 0$, take $\\delta = \\epsilon/2$. Let $a \\in [0,1]$. Let $x,y\\in[-1,1], x-y < \\delta$ (wlog).   \n",
    "\\begin{align*}\n",
    "|e^{-ax^2} - e^{-ay^2}| &= |-2a\\xi e^{-a\\xi^2}(x-y)| &\\xi\\in(x,y)\\text{, by MVT}\\\\\n",
    "&\\leq 2a\\xi\\delta &e^{-a\\xi^2}\\leq 1\\\\\n",
    "&\\leq 2\\delta &\\xi\\in(x,y)\\Rightarrow \\xi \\leq 1\\\\\n",
    "&=\\epsilon\n",
    "\\end{align*}\n",
    "\n",
    "Closed: Suppose not, hence exists $f_n\\rightarrow f\\not\\in \\mathcal F$. Consider such $f_n := e^{-a_nx^2}$. However, $[0,1]$ compact, hence $a_n\\rightarrow a\\in [0,1]$. And $\\forall x_0\\in [-1,1]$\n",
    "\\begin{align*}\n",
    "|e^{-a_nx_0^2} - e^{-ax^2_0}| &= |x^2_0e^{-c}(a_n-a)| &\\text{MVT respect to }a \\\\\n",
    "&\\leq |a_n - a| \\\\\n",
    "\\Rightarrow \\|e^{-a_nx^2} - e^{-ax^2}\\|&\\rightarrow 0\n",
    "\\end{align*}\n",
    "Then, $e^{-a_nx^2}\\rightarrow^{u.c.}e^{-ax^2}$, and since $a\\in[0,1]$, it is closed."
   ]
  },
  {
   "cell_type": "markdown",
   "metadata": {},
   "source": [
    "__Question__ Find the closure of $p_n(x^2,y^2)\\in C([-1,1]^2)$\n",
    "\n",
    "Consider the limit points of some $p_n$, i.e. $p_n\\rightarrow^{u.c.}f$. Then, \n",
    "\n",
    "1) $f$ must be even since $\\forall x,y\\in [-1,1]$\n",
    "\\begin{align*}\n",
    "|f(x, y) - f(-x,-y)| &\\leq |f(x,y)-p_n(x^2,y^2)|+|p_n((-x)^2, (-y)^2), f(-x,-y)|\\\\\n",
    "&\\leq \\epsilon/2 + \\epsilon/2 =\\epsilon \\quad\\text{by uniform continuous}\n",
    "\\end{align*}\n"
   ]
  },
  {
   "cell_type": "markdown",
   "metadata": {},
   "source": [
    "__Question__ Start with $\\gamma'(t) = \\phi(\\gamma(t))$ where $\\phi$ is analytic, i.e. $\\phi(x) = \\sum^\\infty a_kx^k$ with $\\lim\\sup |a_k|^{1/k} = 0$. Show that $\\gamma'(t)=\\psi(\\gamma(t)$ has a solution"
   ]
  }
 ],
 "metadata": {
  "hide_input": false,
  "kernelspec": {
   "display_name": "Python 3",
   "language": "python",
   "name": "python3"
  },
  "language_info": {
   "codemirror_mode": {
    "name": "ipython",
    "version": 3
   },
   "file_extension": ".py",
   "mimetype": "text/x-python",
   "name": "python",
   "nbconvert_exporter": "python",
   "pygments_lexer": "ipython3",
   "version": "3.7.3"
  }
 },
 "nbformat": 4,
 "nbformat_minor": 2
}
