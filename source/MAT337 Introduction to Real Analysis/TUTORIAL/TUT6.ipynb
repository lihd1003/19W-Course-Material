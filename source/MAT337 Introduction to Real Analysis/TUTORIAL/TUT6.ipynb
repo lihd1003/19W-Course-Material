{
 "cells": [
  {
   "cell_type": "markdown",
   "metadata": {},
   "source": [
    "2. $\\langle x,y \\rangle_A :=\\langle Ax,Ay \\rangle_2$ is inner product IFF $A$ invertible\n",
    "\n",
    "Suppose $A$ invertible\n",
    " - positive, trivial\n",
    " - definite $A\\vec 0 = \\vec0$ Therefore, if $\\langle u,u\\rangle = 0\\Rightarrow u = \\vec 0\\Rightarrow A^{-1}u = 0$\n",
    " - symmetry, trivial\n",
    " - bilinear - by linearity of invertible matrix multiplication\n",
    " \n",
    "Suppose $\\langle x, y\\rangle_A$ is an inner product\n",
    " - by definite, $\\langle Ax,Ax\\rangle = 0$ IFF $x = 0$ IFF $Ax = 0$, therefore, $Ax=0$ has the only trivial solution that $x=0$"
   ]
  },
  {
   "cell_type": "markdown",
   "metadata": {},
   "source": [
    "$f(x):= \\mathbb I(x\\in[0,1/2])$, find the Fourier series for $x\\in[-1,1]$\n",
    "\n",
    "$a_n = \\int_{-1}^1 \\mathbb I(x\\in[0,1/2]) \\cos(\\pi n x) dx$  \n",
    "$=\\int_0^{1/2} \\cos(\\pi n x)dx$  \n",
    "$=\\sin(\\pi n x) / \\pi n |_0^{1/2}$  \n",
    "$=\\frac{sin(nx/2)}{\\pi n}$\n",
    "\n",
    "$b_n = \\int_{-1}^1 \\mathbb I(x\\in[0,1/2]) \\sin(\\pi n x) dx$  \n",
    "$=\\int_0^{1/2} \\sin(\\pi n x)dx$  \n",
    "$=-\\cos(\\pi n x) / \\pi n |_0^{1/2}$  \n",
    "$=-\\frac{cos(nx/2) + 1}{\\pi n}$\n",
    "\n",
    "$a_0 = \\frac{sin(0x/2)}{\\pi n} = 0$"
   ]
  }
 ],
 "metadata": {
  "hide_input": false,
  "kernelspec": {
   "display_name": "Python 3",
   "language": "python",
   "name": "python3"
  },
  "language_info": {
   "codemirror_mode": {
    "name": "ipython",
    "version": 3
   },
   "file_extension": ".py",
   "mimetype": "text/x-python",
   "name": "python",
   "nbconvert_exporter": "python",
   "pygments_lexer": "ipython3",
   "version": "3.7.3"
  }
 },
 "nbformat": 4,
 "nbformat_minor": 2
}
