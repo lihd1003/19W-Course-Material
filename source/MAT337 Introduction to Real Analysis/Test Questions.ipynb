{
 "cells": [
  {
   "cell_type": "markdown",
   "metadata": {},
   "source": [
    "__Question__ Consider the sequence $a_0 = 0, a_{n+1}=\\cos(a_n)$, show it is Cauchy\n",
    "\n",
    "_proof_. Let $\\epsilon > 0$, take $N > 0$ s.t. $\\sin(1)^N < \\epsilon$, since $\\sin(1) < 1$, such $N$ exists   \n",
    "Let $n \\geq N, m > 0$\n",
    "\\begin{align*}\n",
    "|a_{m+n} - a_n| &= |\\cos(a_{m+n-1}) - \\cos(a_{n-1})| \\\\\n",
    "&= \\sin(\\xi_{n-1})|a_{m+n-1} - a_{n-1}| &\\text{MVT}, \\xi_{n-1}\\in (a_{m+n-1},a_{n-1})\\\\\n",
    "&...\\text{repeated substitution}\\\\\n",
    "&= |\\prod_{k=0}^{n-1}\\sin(\\xi_k)| |a_1-a_0| \\\\\n",
    "&\\leq \\prod_{k=0}^{n-1}\\sin(1) &\\sin\\text{ is monotonic increasing in }(0,1)\\\\\n",
    "&=\\sin(1)^n \\leq \\sin(1)^N =\\epsilon &\\text{n\\geq N}\n",
    "\\end{align*}"
   ]
  },
  {
   "cell_type": "markdown",
   "metadata": {},
   "source": [
    "__Question__ If $A$ closed, $B$ compact, then $A+B$ closed\n",
    "\n",
    "_proof_. Let $\\{a_n+b_n\\}\\subseteq A+B, a_n + b_n\\rightarrow L$.  \n",
    "By compactness of $B$, take ${b_{n_k}}\\rightarrow L_b\\in B$. Then, $a_{n_k} + b_{n_k}\\rightarrow L$ since all subsequence of convergent sequences will converge to the same limit point by completeness of $\\mathbb R$.  \n",
    "Since $b_{n_k}$ converges, $a_{n_k}$ is the difference of two convergent subsequence, $a_{n_k}\\rightarrow L-L_b$ .  \n",
    "Since $\\{a_{n_k}\\}\\subseteq A, L-L_b \\in A$, therefore $L\\in A+B$"
   ]
  },
  {
   "cell_type": "markdown",
   "metadata": {},
   "source": [
    "__Question__ If $w(x)$ is a strictly positive continuous function on $[a,b]$. Define a form on $C[a,b]$ by $\\langle f, g\\rangle_w:= \\int_a^b f(x)g(x)w(x)dx, f,g\\in C[a,b]$ is a inner product. \n",
    "\n",
    "_proof_. Let $f,g\\in C[a,b]$.  \n",
    "_positive_ $\\int_a^b w(x)f^2(x)dx \\geq 0$ since $w(x)>0, f^2(x)> 0, \\forall x\\in[a,b]$.  \n",
    "\n",
    "_definite_ $\\int_a^b w(x)0dx = 0$  \n",
    "If $\\int_a^b w(x)f^2(x)dx = 0$, since we known _positive_, suppose $f\\neq 0$, then $f^2\\neq 0, w(x)f^2(x)\\neq 0$  \n",
    "\n",
    "_symmetry_ $\\int_a^b wfg dx = \\int_a^b wgf dx$ \n",
    "\n",
    "_bilinear_ \n",
    "\\begin{align*}\n",
    "\\int_a^b w(x)(cf(x)+dg(x))h(x)dx&=\\int_a^b cw(x)f(x)h(x) + dw(x)g(x)h(x)dx \\\\\n",
    "&=c\\int_a^b w(x)f(x)h(x)dx + d\\int_a^b w(x)g(x)h(x)dx\\\\\n",
    "&= c\\langle f,h\\rangle_w + d\\langle g,h\\rangle_w\n",
    "\\end{align*}"
   ]
  }
 ],
 "metadata": {
  "hide_input": false,
  "kernelspec": {
   "display_name": "Python 3",
   "language": "python",
   "name": "python3"
  },
  "language_info": {
   "codemirror_mode": {
    "name": "ipython",
    "version": 3
   },
   "file_extension": ".py",
   "mimetype": "text/x-python",
   "name": "python",
   "nbconvert_exporter": "python",
   "pygments_lexer": "ipython3",
   "version": "3.7.3"
  }
 },
 "nbformat": 4,
 "nbformat_minor": 2
}
