{
 "cells": [
  {
   "cell_type": "markdown",
   "metadata": {},
   "source": [
    "#### Least upper bound property\n",
    "__upper bound__ $\\exists M. \\forall s\\in S. M \\geq s$  \n",
    "__least__ $\\forall \\epsilon > 0. \\exists s\\in S. |M-s|<\\epsilon$  \n",
    "\n",
    "All __non-empty, bounded__ sets have extremum and it is unique. "
   ]
  },
  {
   "cell_type": "markdown",
   "metadata": {},
   "source": [
    "#### MCT\n",
    "Monotone, bounded implies convergent\n",
    "\n",
    "__Infinite intersection of closed nested internal__ $\\{I_k\\}$ be closed, non-empty nested intervals, then $\\cap^\\infty I_k \\neq \\emptyset$"
   ]
  },
  {
   "cell_type": "markdown",
   "metadata": {},
   "source": [
    "#### BWT\n",
    "$\\forall \\{x_n\\}\\subset \\mathbb R$ bounded, $\\exists \\{x_{n_k}\\},x_{n_k}\\rightarrow L$   \n",
    "prove by constructing nested intervals that contains infinitely many points\n"
   ]
  },
  {
   "cell_type": "markdown",
   "metadata": {},
   "source": [
    "#### Cauchy\n",
    "$\\forall \\epsilon > 0, \\exists N\\in\\mathbb N^+. \\forall m,n\\geq N. |a_m-a_n|<\\epsilon$"
   ]
  },
  {
   "cell_type": "markdown",
   "metadata": {},
   "source": [
    "#### Complete\n",
    "If all Cauchy sequence in the metric space converges. "
   ]
  },
  {
   "cell_type": "markdown",
   "metadata": {},
   "source": [
    "#### MVT\n",
    "If $f$ continuous on $[x,y]$, differentiable on $(x,y)$. \n",
    "$f(x)-f(y) = f'(\\xi)(x-y), \\xi\\in(x,y)$"
   ]
  },
  {
   "cell_type": "markdown",
   "metadata": {},
   "source": [
    "#### Close and open\n",
    "Closed if it contains all the limit point  \n",
    "proving not closed: find some convergent sequence, show the limit is not contained\n",
    "\n",
    "Open if $\\forall x\\in S. \\exists \\epsilon > 0. \\forall y\\in S, \\|x-y\\|<\\epsilon\\Rightarrow y\\in S$  \n",
    "Proving not open, find some $x$ such that $\\forall \\epsilon. \\exists y, \\|x-y\\|<\\epsilon, y\\not\\in S$\n",
    "\n",
    "if $S$ open, then $S^c$ closed. \n",
    "\n",
    "$\\mathbb R$ is closed and open, $\\mathbb Q$ not closed not open.$\\emptyset$ is open and closed"
   ]
  },
  {
   "cell_type": "markdown",
   "metadata": {},
   "source": [
    "#### Compact in R\n",
    "If all sequence has a converging subsequence and the limit is contained.  \n",
    "Equivalently, if every open cover has a finite subcover that covers $C$  \n",
    "__Heine-Borel Theorem__ Compact IFF closed and bounded. "
   ]
  },
  {
   "cell_type": "markdown",
   "metadata": {},
   "source": [
    "#### EVT\n",
    "Continuous function on compact set must have extremum\n",
    "\n",
    "#### Continuous Mapping Theorem (Corollary of EVT)\n",
    "Continuous mapping maps compact set to compact set"
   ]
  },
  {
   "cell_type": "markdown",
   "metadata": {},
   "source": [
    "#### Uniform Continuous \n",
    "If $\\forall \\epsilon > 0. \\exists \\delta > 0. \\forall x,y. |x-y|\\leq\\delta\\Rightarrow |f(x)-f(y)| < \\epsilon$\n",
    "\n",
    "__Sequential Criterion (Negation of u.c.)__ $\\exists (x_n), (y_n). |x_n-y_n|\\rightarrow 0. \\exists \\epsilon > 0. |f(x_n)-f(y_n)|\\geq \\epsilon > 0$\n",
    "\n",
    "__Examples of u.c. functions__ Lipschitz functions, bounded derivative functions, a-Holder functions ($|f(x)-f(y)|\\leq c|x-y|^a, a\\in [0,1]$)"
   ]
  },
  {
   "cell_type": "markdown",
   "metadata": {},
   "source": [
    "#### Heine-Cantar Theorem\n",
    "continuous functions on compact set is uniform continuous"
   ]
  },
  {
   "cell_type": "markdown",
   "metadata": {},
   "source": [
    "#### IVT\n",
    "Continuous functions will have all the intermediate points"
   ]
  },
  {
   "cell_type": "markdown",
   "metadata": {},
   "source": [
    "#### Norm\n",
    "positive definite $\\|x\\|\\geq 0, \\|x\\|=0 IFF x=0$  \n",
    "homogeneous $|c|\\|x\\|=\\|cx\\|$  \n",
    "tri-ineq $\\|x+y\\|\\leq \\|x\\|+\\|y\\|$\n",
    "\n",
    "p-norm $x\\in\\mathbb R^n. \\|x\\|_p = (\\sum |x_k|^p)^{1/p}$  \n",
    "euclidean norm, i.e. 2-norm $\\|x\\|_2 = \\sqrt{\\sum x_k^2}$  \n",
    "Lp norm $\\|f\\|_{L_p} = (\\int_S f(x)^pdx)^{1/p}$  \n",
    "sup norm $\\|f\\|_\\infty = \\sup_{x\\in S}(|f(x)|)$"
   ]
  },
  {
   "cell_type": "markdown",
   "metadata": {},
   "source": [
    "#### Inner Product\n",
    "positive definite $\\langle x,x\\rangle>0, \\langle x,x\\rangle=0IFF x=0$  \n",
    "symmetry $\\langle x,y\\rangle = \\langle y,x\\rangle$  \n",
    "bilinear $\\langle ax+by,z\\rangle = a\\langle x,z\\rangle + b\\langle y,z\\rangle$ \n",
    "\n",
    "__Cauchy Schwartz Inequality__  \n",
    "$|\\langle x,y\\rangle|^2\\leq \\langle x,x\\rangle\\langle y,y\\rangle$"
   ]
  },
  {
   "cell_type": "markdown",
   "metadata": {},
   "source": [
    "#### DCT\n",
    "$f_n\\rightarrow^{p.w.} f$ and $\\|f_n(x)\\|\\leq B(x)$ where $B$ is integrable, then $\\lim\\int f_n = \\int\\lim f_n = \\int f$"
   ]
  },
  {
   "cell_type": "markdown",
   "metadata": {},
   "source": [
    "#### Fourier Series\n",
    "__Orthonormal__ set $\\{e_k\\}$ is orthonormal if $\\langle e_k,e_m\\rangle = \\mathbb I(k=m)$\n",
    "\n",
    "$f(x):= a_0 + \\sum a_n \\cos(n\\pi x)/L + \\sum b_n \\sin(n\\pi x)/L$  \n",
    "$a_n =\\int_a^b f(x)\\cos(n\\pi x)/L dx, b_n =\\int_a^b f(x)\\sin(n\\pi x)/L dx$"
   ]
  },
  {
   "cell_type": "markdown",
   "metadata": {},
   "source": [
    "#### Pointwise Convergence\n",
    "$\\forall x\\in S. \\forall \\epsilon > 0. \\exists N > 0. \\forall n \\geq N. \\|f_n(x)-f(x)\\| < \\epsilon$"
   ]
  },
  {
   "cell_type": "markdown",
   "metadata": {},
   "source": [
    "#### Uniform convergence\n",
    "$\\forall \\epsilon > 0. \\exists N \\geq 0. \\forall n \\geq N. \\|f_n-f\\|_\\infty<\\epsilon$\n",
    "\n",
    "__Dini's Theorem__ an increasing sequence of functions pointwise convergent to some $f$, then it is also uniformly convergent. "
   ]
  },
  {
   "cell_type": "markdown",
   "metadata": {},
   "source": [
    "#### ICT\n",
    "If u.c. on $[a,b]$. then $\\lim \\int_a^b f_n = \\int_a^b \\lim f_n = \\int_a^b f$"
   ]
  },
  {
   "cell_type": "markdown",
   "metadata": {},
   "source": [
    "#### Series\n",
    "A series $S_n$ is Cauchy IFF $S_n\\rightarrow^{u.c.}S$  \n",
    "\n",
    "__M-test__ If $\\|a_k\\|\\leq M_k, \\sum M_k <\\infty$, then $\\sum a_k \\rightarrow S<\\infty$"
   ]
  },
  {
   "cell_type": "markdown",
   "metadata": {},
   "source": [
    "#### Power Series\n",
    "$\\sum a_kx^k$  \n",
    "__Hadamard's Theorem__ $S(x)=\\sum a_kx^k$, $1/R = \\lim \\sup(|a_n|)^{1/k}$ or $\\lim |a_{k+1}|/|a_k|$ is the radius of convergence. But we have no information about the end points. "
   ]
  },
  {
   "cell_type": "markdown",
   "metadata": {},
   "source": [
    "#### Equi-continuous \n",
    "$\\forall a\\in K. \\forall f\\in \\mathcal F. \\forall \\epsilon > 0. \\exists \\delta > 0. \\forall x \\in K. \\|x-a\\|<\\delta \\Rightarrow \\|f(x)-f(a)\\|<\\epsilon$\n",
    "\n",
    "__Uniformly equicontinuous__ if $\\forall f\\in \\mathcal F. \\forall \\epsilon > 0. \\exists \\delta > 0. \\forall x,y \\in K. \\|x-y\\|<\\delta \\Rightarrow \\|f(x)-f(y)\\|<\\epsilon$"
   ]
  },
  {
   "cell_type": "markdown",
   "metadata": {},
   "source": [
    "#### Totally bounded\n",
    "K is totally bounded if $\\forall \\epsilon > 0$ exists a finite $\\epsilon-net:= \\cup_{a\\in S}B_\\epsilon(a)$ that covers $K$"
   ]
  },
  {
   "cell_type": "markdown",
   "metadata": {},
   "source": [
    "#### AAT\n",
    "$\\mathcal F$ is compact IFF closed, bounded, equicontinuous"
   ]
  },
  {
   "cell_type": "markdown",
   "metadata": {},
   "source": [
    "#### Weierstrass Theorem\n",
    "$\\forall f\\in C[a,b]. \\exists p_n \\rightarrow^{u.c.}f$"
   ]
  }
 ],
 "metadata": {
  "hide_input": false,
  "kernelspec": {
   "display_name": "Python 3",
   "language": "python",
   "name": "python3"
  },
  "language_info": {
   "codemirror_mode": {
    "name": "ipython",
    "version": 3
   },
   "file_extension": ".py",
   "mimetype": "text/x-python",
   "name": "python",
   "nbconvert_exporter": "python",
   "pygments_lexer": "ipython3",
   "version": "3.7.3"
  }
 },
 "nbformat": 4,
 "nbformat_minor": 2
}
