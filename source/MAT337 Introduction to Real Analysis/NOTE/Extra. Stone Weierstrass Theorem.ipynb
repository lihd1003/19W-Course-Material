{
 "cells": [
  {
   "cell_type": "markdown",
   "metadata": {},
   "source": [
    "### Stone-Weierstrass Theorem\n",
    "__Function Algebra__ For $\\mathcal A\\subset C([a,b])$, that follows  \n",
    " - (linearity) $\\forall f,g\\in \\mathcal A. \\forall a,b\\in\\mathbb R. af + bg\\in \\mathcal A$\n",
    " - (closed under product) $\\forall f,g\\in\\mathcal A. f\\cdot g\\in \\mathcal A$\n",
    " \n",
    "__Theorem__ For $\\mathcal A\\subset C([a,b])$ be a function algebra,  \n",
    "IF  \n",
    " - (vanishes nowhere) $\\forall p\\in [a,b]. \\exists f\\in \\mathcal A. f(p)\\neq 0$\n",
    " - (separates points) $\\forall x\\neq y \\in [a,b]. \\exists h\\in\\mathcal A. h(x)\\neq h(y)$  \n",
    " \n",
    "THEN $\\mathcal A$ is dense in $C[a,b]$, i.e. $\\forall f\\in C[a,b]. \\exists \\{f_n\\}\\in \\mathcal A. \\{f_n\\}\\rightarrow^{u.c.} f$"
   ]
  },
  {
   "cell_type": "markdown",
   "metadata": {},
   "source": [
    "__Theorem__ $\\mathcal A_{trig}:= \\{a_0 + \\sum_{k=1}^N a_k\\cos(kn) + \\sum_{k=1}^N b_k \\sin(kn) | a_k, b_k\\in\\mathbb R. N\\in\\mathbb N\\}$ is dense in $C[-\\pi, \\pi]$\n",
    "\n",
    "_proof_. Consider the assumptions of SWT  \n",
    "Let $f$ have coefficients $a_k, b_k, M$, $g$ have $a'_k, a'_k, N$, let $c,d\\in\\mathbb R$. wlog, assume $M\\geq N$, extend $a'_k, b'_k = 0. \\forall k > N$\n",
    "\n",
    "(linearity) $ca_0 + da'_0 + \\sum (ca_k + da'_k)\\cos(kn) + \\sum(cb_k + db'_k)\\sin(kn)\\in \\mathcal A_{trig}$  \n",
    "\n",
    "(product) Using half angle formula $\\cos(a)\\cos(b) = \\frac{1}{2}cos(a+b) + cos(a-b)$ and other similar ones, we can break all the products of trig functions back to a sum, hence rearrange the summation coefficients. \n",
    "\n",
    "(vanish nowhere) For any $a_0 + \\sum a_k\\cos(pn) + \\sum b_k\\sin(pn) = 0$, take $a_0' = a_0 + 1$ and others remain unchanged. \n",
    "\n",
    "(separates points) Take $a\\neq b\\in[-\\pi,\\pi]$. Using periodicity of trig functions  \n",
    "If $a\\neq -b. \\cos(a)\\neq cos(b)$, if $a = -b. \\sin(a)\\neq [sin(-a) = \\sin(b)]$\n",
    "\n",
    "Therefore, we can apply SWT"
   ]
  }
 ],
 "metadata": {
  "hide_input": false,
  "kernelspec": {
   "display_name": "Python 3",
   "language": "python",
   "name": "python3"
  },
  "language_info": {
   "codemirror_mode": {
    "name": "ipython",
    "version": 3
   },
   "file_extension": ".py",
   "mimetype": "text/x-python",
   "name": "python",
   "nbconvert_exporter": "python",
   "pygments_lexer": "ipython3",
   "version": "3.7.3"
  }
 },
 "nbformat": 4,
 "nbformat_minor": 2
}
