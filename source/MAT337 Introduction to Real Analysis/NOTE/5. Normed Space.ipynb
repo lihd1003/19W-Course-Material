{
 "cells": [
  {
   "cell_type": "markdown",
   "metadata": {},
   "source": [
    "### Norm\n",
    "Let $V$ be a vector space over $\\mathbb{R}$, a norm $\\|\\cdot\\|$ over $V$ is a function $V\\rightarrow \\mathbb{R}^+$ s.t. \n",
    " - positive definite: $\\|x\\|\\geq 0 \\land \\|x\\| = 0 IFF x\\equiv 0 \\in V$  \n",
    " - homogeneous $\\|ax\\| = |a|\\|x\\|. \\forall a\\in \\mathbb{R}$\n",
    " - triangular inequality $\\|x+y\\| = \\|x\\| + \\|y\\|$\n",
    " \n",
    "__Example__ Euclidean space over $\\mathbb{R}^n$__ $\\|x\\|_2 = \\sqrt{\\sum |x_k|^2}$ \n",
    " - positive definite  \n",
    " $|x_k|^2 \\geq 0 \\Rightarrow \\sqrt{\\sum |x_k|^2} \\geq 0$  \n",
    " $\\|x\\| = 0\\Rightarrow x = 0$\n",
    " - homogeneous $\\|ax\\| = \\sqrt{\\sum |ax_k|^2} = \\sqrt{|a|^2\\sum |x_k|^2} = |a|\\|x\\|$\n",
    " - Tri-ineq  \n",
    " By Cauchy Swartz Inequality  \n",
    " $\\|x+y\\|^2 = \\sum |x_k + y_k|^2 \\leq \\sum |x_k|^2 + |y_k|^2 = \\sum |x_k|^2 + \\sum|y_k|^2 = \\|x\\|^2 + \\|y\\|^2$"
   ]
  },
  {
   "cell_type": "markdown",
   "metadata": {},
   "source": [
    "__Example__ Some norms are  \n",
    "- __p-norm__ $\\|x\\|_p:=(\\sum |x_k|^p)^{p^{-1}}, p\\geq 1$\n",
    "- __Lp-norm__ $\\|f\\|_{L_p} := (\\int_S f(x)^p dx)^{p^{-1}}, p\\geq 1$ is a norm over $C:=$ the set of all continuous functions\n",
    "- __sup-norm__ $\\|f\\|_\\infty:= sup\\{|f(x)|:x\\in S\\}$ is a norm over $C_b(S):=$ the set of all continuous bounded functions or over $C(S)$ if $S$ is compact. "
   ]
  },
  {
   "cell_type": "markdown",
   "metadata": {},
   "source": [
    "__Example__ sup-norm is a norm  \n",
    "_proof_.   \n",
    "1. $|f(x)| \\geq 0$, $f(x):= 0 \\Rightarrow \\|f\\|_\\infty = 0, \\|f\\|_\\infty=0\\Rightarrow |f(x)|\\leq 0\\Rightarrow f(x)=0$\n",
    "2. $\\|af\\|_\\infty = sup|af(S)| = |a|sup|f(S)|= |a|\\|f\\|_\\infty$  \n",
    "3. $\\|f+g\\|=sup(|f+g|) \\leq sup(|f| + |g|) \\leq sup|f| + sup|g| = \\|f\\| + \\|g\\|$"
   ]
  },
  {
   "cell_type": "markdown",
   "metadata": {},
   "source": [
    "__$C^k(S):=$__ The set of all real number functions whose k-first derivative exists and continuous\n",
    "\n",
    "Some norms are defined on $C^k$, such as $\\|f\\|':= \\max\\|f'\\|_\\infty; \\|f\\|_{C^k} = \\sum \\|f^{(n)}\\|_\\infty$"
   ]
  },
  {
   "cell_type": "markdown",
   "metadata": {},
   "source": [
    "__Remark__ $C^\\infty$ a.k.a. __smooth__ are normed space that obey completeness"
   ]
  },
  {
   "cell_type": "markdown",
   "metadata": {},
   "source": [
    "### Topology of normed-spaces\n",
    "__Example__ The set $C:=\\{f:[0,1]\\rightarrow \\mathbb{R}: f(0)=1\\}$ is closed in $(C([0,1]), \\|f\\|_\\infty:= sup_{x\\in [0,1]}f(x))$.  \n",
    "\n",
    "_proof_. Take a sequence $g_n \\in C$ s.t. $\\|g_n - g\\| \\rightarrow 0$.  \n",
    "Then, consider  $|g(0) - 1| \\leq |g(0) - g_n(0)| + |g_n(0) -1|$   \n",
    "$\\leq |g(0)-g_n(0)| \\leq \\|g_n-g\\|=0$  \n",
    "$\\Rightarrow g(0)\\rightarrow 1\\Rightarrow g(0) = 1\\Rightarrow g\\in C$"
   ]
  },
  {
   "cell_type": "markdown",
   "metadata": {},
   "source": [
    "__Example__ Let $A:=\\{f\\in [0,1]: f(x) > 0, \\|f'\\|_\\infty < 2\\}$ is open in $C^1([0,1])$ wrt $\\|f\\|_{\\infty, C^1}:=\\|f\\|_\\infty + \\|f'\\|_\\infty$  \n",
    "\n",
    "_proof_. Take any $g\\in A$.  \n",
    "Since $g(x) > 0$, by EVT on $[0,1]$, take $\\delta_1$ s.t. $g(x)> \\delta_1 > 0$  \n",
    "Since $g'(x) < 2$, by EVT on $[0,1]$, take $\\delta_2$ s.t. $g'(x)< 2-\\delta_2 < 2$  \n",
    "Take $\\delta = \\min(\\delta_1, \\delta_2)/ 2$.  \n",
    " - $\\|h-g\\|_\\infty < \\delta \\Rightarrow |h(x)-g(x)|< \\delta\\Rightarrow h(x) > g(x)-\\delta > \\delta_1/2 > 0$\n",
    " - $\\|h'-g'\\|_\\infty < \\delta \\Rightarrow |h'(x) - g'(x)| < \\delta \\Rightarrow h'(x) < g'(x)+\\delta < 2-\\delta_2 + \\delta_2/2 < 2$"
   ]
  },
  {
   "cell_type": "markdown",
   "metadata": {},
   "source": [
    "$C_c(\\mathbb{R}):=$ space of compactly supported function on reals, $C_c(\\mathbb R), f\\in C_c(\\mathbb R)$ if $\\exists M > 0$ s.t. $f(x)=0, \\forall |x| > M$\n",
    "\n",
    "__Claim__ $C_c(\\mathbb R)$ is not complete wrt $\\|f\\|_\\infty$\n",
    "\n",
    "_proof_. WTF a Cauchy sequence $f_n \\in C_c(\\mathbb R)$ s.t. $f_m \\rightarrow f\\not\\in C_c(\\mathbb R)$.  \n",
    "Take $f_n(x) = \\frac{1-(x/n)^2}{1+x^2}\\mathbb I (|x|\\leq n)$ and we can show that $f_n$ is Cauchy wrt $\\|\\cdot\\|_\\infty$  \n",
    "\n",
    "wlog, assume $n > m$,  \n",
    "Consider $\\|f_n - f_m\\| = sup_{x\\in [-n,n]} |\\frac{1-(x/n)^2}{1+x^2} - f_m(x)|$  \n",
    "Suppose $x\\in [-m,m], sup_{x\\in [-n,n]} |\\frac{1-(x/n)^2}{1+x^2} - \\frac{1-(x/m)^2}{1+x^2}| = |\\frac{x^2}{1+x^2}||n^{-2} - m^{-2}| \\rightarrow |1||0|=0$  \n",
    "Suppose $x\\in [-n, -m)\\cup (m, n], sup_{x\\in [-n,n]} |\\frac{1-(x/n)^2}{1+x^2}|\\leq |\\frac{1}{1+x^2}|\\leq |\\frac{1}{1+m^2}|\\rightarrow 0$\n",
    "\n",
    "Therefore, take $N = \\epsilon^{1/2}$ we can prove Cauchy. \n",
    "\n",
    "However, $f_n(x)=\\frac{1-(x/n)^2}{1+x^2}\\rightarrow \\frac{1}{1+x^2}\\rightarrow 0$ is not compactly supported\n",
    "\n",
    "Therefore, only compact in metric space $\\rightarrow$ closed and bounded but not the converse. "
   ]
  }
 ],
 "metadata": {
  "hide_input": false,
  "kernelspec": {
   "display_name": "Python 3",
   "language": "python",
   "name": "python3"
  },
  "language_info": {
   "codemirror_mode": {
    "name": "ipython",
    "version": 3
   },
   "file_extension": ".py",
   "mimetype": "text/x-python",
   "name": "python",
   "nbconvert_exporter": "python",
   "pygments_lexer": "ipython3",
   "version": "3.7.3"
  }
 },
 "nbformat": 4,
 "nbformat_minor": 2
}
