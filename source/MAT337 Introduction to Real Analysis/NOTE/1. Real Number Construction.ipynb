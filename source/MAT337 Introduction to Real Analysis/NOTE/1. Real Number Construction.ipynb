{
 "cells": [
  {
   "cell_type": "markdown",
   "metadata": {},
   "source": [
    "### Decimal expansion"
   ]
  },
  {
   "cell_type": "markdown",
   "metadata": {},
   "source": [
    "Given $r\\in\\mathbb{R}^+$  \n",
    " 1. find $q\\in\\mathbb{N}^+, q\\leq r\\le q+1$  \n",
    " 2. So we find next decimal place $d_1/10 \\leq r- q < d_1 / 10 + 1/10$  \n",
    " 3. repeat $\\frac{d_k}{10^k} \\leq r - q - \\sum _1^{k-1} \\frac{d^m}{10^m} < \\frac{d_k}{10^k} + 10^{-k}$\n",
    "So that $r = q.d_1d_2d_3...$\n",
    "\n",
    " \n",
    "__terminating__ decimal expansion $q.d_1d_2...d_{m_0}$  \n",
    "__repeating__ decimal expansion $q.d_1...d_k\\overline{d_{k+1}...d_n}$(ex. $1/35 = 0.0287154\\overline{287154}$)\n"
   ]
  },
  {
   "cell_type": "markdown",
   "metadata": {},
   "source": [
    "__Claim__ $\\forall x\\in \\mathbb{R}^+$ is rational IFF $x$ has a decimal expansion that is either terminating or repeating  \n",
    "\n",
    "_proof_.   \n",
    "$\\Leftarrow$  \n",
    "Assume $x$ is terminating, $x = q.d_1...d_{n_0} = q + \\sum_1^n \\frac{d_m}{10^m} \\in \\mathbb{Q}$  \n",
    "Assume $x$ is repeating, $q.d_1...d_k\\overline{d_{k+1}...d_m}$.  \n",
    "Known that $d_1...d_k$ part is rational, the remaining $0.0...0\\overline{d_{k+1}...d_m}$  \n",
    "\n",
    "$ = 10^{-k}(\\sum_{m=1}^n \\sum_{l=0}^\\infty \\frac{d'_m}{10^{nl + m}})$ since the number is repeating, we denote $d'_0,...,d'_n$ be the repeated digits  \n",
    "\n",
    "$= 10^{-k}\\sum_{m=1}^n d'_m 10^{-m} (\\sum_{l=0}^\\infty 10^{-nl})$ decompose\n",
    "\n",
    "$= 10^{-k}\\sum_{m=1}^n d'_m 10^{-m} (1 - 10^{-n})^{-1}$ geometric series\n",
    "\n",
    "$ = \\sum_{m=1}^n\\frac{d'_m 10^n}{10^{m+k}(10^n - 1)}$ make it looks nicer\n",
    "\n",
    "$\\Rightarrow$  \n",
    "Take $l, m \\in\\mathbb{Z}^+， x = l/m$.  \n",
    "By Euclidean division, $l = d_0m + r_0/m$ where $d_0\\in\\mathbb{Z}^+$ is the quotient, $r_0\\in\\mathbb{Z}^+$ is the remainder, $r_0<m$.  "
   ]
  },
  {
   "cell_type": "markdown",
   "metadata": {},
   "source": [
    "__lemma__ $\\forall n\\in \\mathbb{N}. l/m = \\sum_{m=0}^n \\frac{d_m}{ 10^{m}} + \\frac{r_n} {10^{n}m}$  (induction by further Euclidean division)\n",
    "\n",
    "Suppose $\\exists i, r_i = 0$, then is terminated  \n",
    "Suppose $\\forall k$ WTS repeating.  \n",
    " - since $r_k$ is a remainder, it can only choose from $r_k \\in \\{1, ..., m - 1\\}$. Then $\\exists k_1, k_2. r_{k_1} = r_{k_2}$.  \n",
    " Then by uniqueness of Euclidean division, it is repeated. \n"
   ]
  },
  {
   "cell_type": "markdown",
   "metadata": {},
   "source": [
    "__Irrational Numbers__ $x$ is irrational if $x\\in\\mathbb{Q}^c$, i.e. $\\not\\exists l, m\\in\\mathbb{Z}^+ s.t. x = l/m$"
   ]
  },
  {
   "cell_type": "markdown",
   "metadata": {},
   "source": [
    "__Claim__ $\\forall x, y \\in \\mathbb{R}, x < y \\Rightarrow \\exists r\\in\\mathbb{R}. x < r < y$ and $r$ is terminating.  \n",
    "\n",
    "_proof_. consider the decimal expansions of $x = x_0.x_1..., y = y_0.y_1...$, then exists the smallest $k$ where $x_k + 1 \\leq y_k$, then find the next $m>k$ where $x_m \\neq 9$.\n",
    "Then construct $r = x_0.x_1...[x_m + 1]y_{m+1}y_{m+2}...$"
   ]
  },
  {
   "cell_type": "markdown",
   "metadata": {},
   "source": [
    "### Construction From Cauchy Sequence"
   ]
  },
  {
   "cell_type": "markdown",
   "metadata": {},
   "source": [
    "Consider the space of Cauchy sequence $C_Q = \\{(y_n): y_n\\in \\mathbb{Q}\\}$  \n",
    "\n",
    "$x_n, y_n$ Cauchy  THEN\n",
    "\n",
    "__Proposition 1__ $x_n + y_n$ Cauchy.   \n",
    "_proof._ Let $\\epsilon > 0, N_\\epsilon = max(N^x_{\\epsilon/2}, N^y_{\\epsilon/2})$\n",
    "\n",
    "__Proposition 2__ $x_ny_n$ Cauchy  \n",
    "_proof._ \n",
    "\\begin{align*}\n",
    "|x_ny_n - x_my_m| &= |x_ny_m - x_my_n + x_my_n - x_my_m| \\\\\n",
    "&\\leq |y_n(x_n-x_m)| + |x_m(y_n - y_m)|\\\\\n",
    "&\\leq B_2|x_n - x_m|  B_1|y_n - y_m| &\\text{since Cauchy sequences are bounded}\\\\\n",
    "\\end{align*}\n",
    "Want this to be less than $\\epsilon > 0$. \n",
    "Therefore, take $|x_n - x_m| \\leq \\epsilon / 2B_2, |y_n - y_m|\\leq \\epsilon/2B_1$\n",
    "\n",
    "__Proposition 3__ Additive identity $r_0=(0,0,0,...)$, multiplicative identity $r_1 = (1,1,1,...)$  \n",
    "$a+r_o = \\{a_1 + 0, a_2 + 0,...\\}=\\{a_n\\} = a$  \n",
    "$ar_1 = \\{a_11, a_21,...\\} = \\{a_n\\} = a$  \n"
   ]
  },
  {
   "cell_type": "markdown",
   "metadata": {},
   "source": [
    "__Equivalence Class__\n",
    "$(x_n)\\sim (y_n)$ IFF $\\lim_{n\\rightarrow \\infty}|x_n -y_n| = 0$  \n",
    "\n",
    "__Example__ $x_n = 1/n, y_n = 0$  \n",
    "__Example__ Let $\\pi=p_0.p_1p_2...$, take $x_n = p_0.p_1...p_n, y_n = p_0.p_1...p_n1 = x_n + 10^{-(n+1)}$. \n",
    "\n",
    "Let $\\mathbb{R}:=$equivalence class on $C_Q$, so for any $x\\in\\mathbb{R}$ you can find a Cauchy sequence $(x_n)$ in $\\mathbb{Q}$ s.t. $\\lim_{n\\rightarrow\\infty}|x_n - x| = 0$"
   ]
  }
 ],
 "metadata": {
  "hide_input": false,
  "kernelspec": {
   "display_name": "Python 3",
   "language": "python",
   "name": "python3"
  },
  "language_info": {
   "codemirror_mode": {
    "name": "ipython",
    "version": 3
   },
   "file_extension": ".py",
   "mimetype": "text/x-python",
   "name": "python",
   "nbconvert_exporter": "python",
   "pygments_lexer": "ipython3",
   "version": "3.7.3"
  }
 },
 "nbformat": 4,
 "nbformat_minor": 2
}
