{
 "cells": [
  {
   "cell_type": "markdown",
   "metadata": {},
   "source": [
    "## Insert\n",
    "```SQL\n",
    "INSERT INTO <<table>> VALUES <<list of rows>>\n",
    "INSERT INTO <<table>> (<<subquery>>)\n",
    "```\n",
    "\n",
    "If we name the attributes we are providing values for, the system will use `NULL` or a default for the rest\n",
    "\n",
    "Create a table before insert\n",
    "\n",
    "```SQL\n",
    "CREATE TABLE Invite (\n",
    "    name TEXT,\n",
    "    campus TEXT DEFAULT 'StG',\n",
    "    email TEST,\n",
    "    age INT\n",
    ");\n",
    "\n",
    "INSERT INTO Invite(name, email)(\n",
    "   SELECT first, email\n",
    "   FROM Student\n",
    "   WHERE cgpa > 3.4\n",
    ");\n",
    "```\n",
    "\n",
    "the query have values for name and email, campus gets the default value, age gets `NULL`"
   ]
  },
  {
   "cell_type": "markdown",
   "metadata": {},
   "source": [
    "## Delete\n",
    "\n",
    "```SQL\n",
    "#delete tuples satisfying WHERE clause\n",
    "DELETE FROM <<relation>>\n",
    "WHERE <<condition>>;\n",
    "\n",
    "#delete all tuples\n",
    "DELETE FROM <<relation>>\n",
    "\n",
    "#   alternatively can use DROP, which destroy the table\n",
    "DROP TABLE <<relation>>\n",
    "```\n",
    "\n",
    "**Example**\n",
    "```SQL\n",
    "DELETE FROM Course\n",
    "WHERE NOT EXISTS (\n",
    "    SELECT *\n",
    "    FROM Took JOIN Offering ON Took.oid = Offering.oid\n",
    "    WHERE grade > 50 AND\n",
    "    Offering.dept = Course.dept AND\n",
    "    Offering.num = Course.num\n",
    ");\n",
    "```"
   ]
  },
  {
   "cell_type": "markdown",
   "metadata": {},
   "source": [
    "## Update\n",
    "```SQL\n",
    "UPDATE <<relation>>\n",
    "SET <<list of attribute assignments>>\n",
    "WHERE <<condition on tuples>>;\n",
    "```\n",
    "\n",
    "Updating one tuple\n",
    "```SQL\n",
    "UPDATE Student\n",
    "SET campus = 'UTM'\n",
    "WHERE sid = 99999;\n",
    "```\n",
    "Update several tuple\n",
    "```SQL\n",
    "UPDATE Took\n",
    "SET grade = 50\n",
    "WHERE grade >= 47 AND grade < 50;\n",
    "```"
   ]
  },
  {
   "cell_type": "markdown",
   "metadata": {},
   "source": [
    "## Manipulating Views\n",
    "Generally, it is impossible to modify a virtual view. \n",
    "\n",
    "We don't often (most systems prohibit) translate updates on views into equivalent updates on base tables.\n",
    "\n",
    "### Materialized Views\n",
    "Problem: each time a base table changes, the materialized view may change. Since cannot afford to recompute the view with each change\n",
    "\n",
    "Solution: periodic reconstruction of the materialized view, which is otherwise \"out of date\". "
   ]
  }
 ],
 "metadata": {
  "hide_input": false,
  "kernelspec": {
   "display_name": "Python 3",
   "language": "python",
   "name": "python3"
  },
  "language_info": {
   "codemirror_mode": {
    "name": "ipython",
    "version": 3
   },
   "file_extension": ".py",
   "mimetype": "text/x-python",
   "name": "python",
   "nbconvert_exporter": "python",
   "pygments_lexer": "ipython3",
   "version": "3.6.8"
  }
 },
 "nbformat": 4,
 "nbformat_minor": 2
}
