{
 "cells": [
  {
   "cell_type": "markdown",
   "metadata": {},
   "source": [
    "## Functional Dependency\n",
    "Let $R$ be a relation, $X,Y$ subset of attributes of $R$\n",
    "\n",
    "**X determines Y** assets that if two tuples agree on all the attributes in set $X$, they much also agree on all the attributes in set $Y$.  \n",
    "$X\\rightarrow Y: \\forall t_1,t_2. t_1[A]=t_2[A]\\rightarrow t_1[B]=t_2[B]$\n",
    "\n",
    "$A_1...A_n \\rightarrow B_1...B_m: \\forall t_1,t_2.t_1[A_1]=t_2[A_1]\\land ...\\land t_1[A_n]=t_2[A_n]\\rightarrow t_1[B_1]=t_2[B_1]\\land ...\\land t_1[B_m]=t_2[B_m]$ "
   ]
  },
  {
   "cell_type": "markdown",
   "metadata": {},
   "source": [
    "We can't break the LHS and get multiple FDs, but we can break RHS."
   ]
  },
  {
   "cell_type": "markdown",
   "metadata": {},
   "source": [
    "**FD are closely related to keys**  \n",
    "Suppose K is a set of attributes for relation R  \n",
    "K is a superkey for R IFF K functionally determines all of R\n",
    "\n",
    "**Inferring FDs**  Given a set of FDs we can often infer further FDs  \n",
    "Example: $A\\rightarrow B \\land B\\rightarrow C \\Rightarrow A\\rightarrow C$\n"
   ]
  },
  {
   "cell_type": "markdown",
   "metadata": {},
   "source": [
    "**Methods for Inferring FDs**  \n",
    "Proven an FD follows using the Closure Test  \n",
    "- Assume your know the values of the LHS attributes, and figure out everything else that is determined\n",
    "```python\n",
    "# Y: set of attributes\n",
    "# S: set of FDs\n",
    "Attribute-closure(Y, S):\n",
    "    Y+ = Y\n",
    "    while more changes occur:\n",
    "        if exists FD LHS->RHS in S s.t. LHS in Y+:\n",
    "            Y+ += YHS\n",
    "    return Y+\n",
    "```\n"
   ]
  },
  {
   "cell_type": "markdown",
   "metadata": {},
   "source": [
    "Follow Algorithm\n",
    "```python\n",
    "FD_follows(S, LHS->RHS):\n",
    "    Y+ = Attribute-closure(LHS, S)\n",
    "    return RHS is in Y+\n",
    "```"
   ]
  },
  {
   "cell_type": "markdown",
   "metadata": {},
   "source": [
    "Projection algorithm\n",
    "```python\n",
    "project(S, L):\n",
    "    T = []\n",
    "    for each subset X of L:\n",
    "        Compute X+\n",
    "        for attribute A in X+:\n",
    "            if A in L: \n",
    "                T += [X-> A]\n",
    "    return T\n",
    "```\n",
    "(To expansive)"
   ]
  },
  {
   "cell_type": "markdown",
   "metadata": {},
   "source": [
    "Minimal Basis: to minimize FDs\n",
    "```python\n",
    "minimal_basis(S):\n",
    "    split the RHS of each FD\n",
    "    for X->Y in FD where |X|>=2:\n",
    "        remove any attribute from X that get an FD that follows from S\n",
    "    for f in FD:\n",
    "        if S-{f} implies f:\n",
    "            remove f from S\n",
    "```"
   ]
  },
  {
   "cell_type": "markdown",
   "metadata": {},
   "source": [
    "## FD on Database Design"
   ]
  },
  {
   "cell_type": "markdown",
   "metadata": {},
   "source": [
    "#### Decomposition\n",
    "decompose $R(A_1,...,A_n)$ to two relations $R_1, R_2$ where\n",
    "$R_1, R_2$ are projections of $R$ and $R_1\\bowtie R_2=R$\n",
    "\n",
    "**Boyce-Codd Normal Form** $\\forall X\\rightarrow Y\\in R$ be nontrivial FD ($Y\\not\\subseteq X$) with $X$ being the superkey (equv $X^+$ contains all attributes). "
   ]
  },
  {
   "cell_type": "markdown",
   "metadata": {},
   "source": [
    "To find BCNF\n",
    "```python\n",
    "# R: relation\n",
    "# F: sets of FDs\n",
    "BCNF_decompose(R, F):\n",
    "    if X->Y in F violates BCNF:\n",
    "        compute X+\n",
    "        replace R by two relations:\n",
    "            R1 = X+ \n",
    "            R2 = R-((X+)-X)\n",
    "        project the FD's F onto R1 and R2\n",
    "        BCNF_decompose(R1, F)\n",
    "        BCNF_decompose(R2, F)\n",
    "```\n",
    "NOTE\n",
    "\n",
    "If there are $\\geq 1$ FD violates BCNF, there will probably be multiple results."
   ]
  },
  {
   "cell_type": "markdown",
   "metadata": {},
   "source": [
    "**Speed-ups**  \n",
    "Only need to check whether the LHS of each FD is a superkey using the closure test\n",
    "\n",
    "When project FDs onto the new relation, check if the new relation violate BCNF because of this FD, abort the projection. \n"
   ]
  },
  {
   "cell_type": "markdown",
   "metadata": {},
   "source": [
    "#### Properties of decomposition\n",
    "We want:\n",
    "1. No anomalies\n",
    "2. Lossless join, which be able to\n",
    " - project the original relations onto the decomposed schema\n",
    " - then reconstruct the original by joining, we should get back exactly the original tuples\n",
    "3. Dependency preserved\n",
    "\n",
    "A lossy join may create new tuples \n",
    "\n",
    "BCNF guarantees 1 and 2, not 3.  \n",
    "3NF guarantees 2 and 3, not 1. However, 3NF guarantees minimal bases"
   ]
  },
  {
   "cell_type": "markdown",
   "metadata": {},
   "source": [
    "#### Third Normal Form (3NF)\n",
    "An attribute is **prime** if it is a member of any key\n",
    "\n",
    "$X\\rightarrow A$ violates 3NF IFF X is not a superkey and A is not prime"
   ]
  },
  {
   "cell_type": "markdown",
   "metadata": {},
   "source": [
    "```python\n",
    "# F: set of FDs\n",
    "# L: set of attributes\n",
    "3NF_synthesis(F, L):\n",
    "    construct a minimal basis M for F\n",
    "    for X->Y in M:\n",
    "        define a new relation with schema union(X,Y)\n",
    "        if no relation is a superkey for L:\n",
    "            add a relation whose schema is some key\n",
    "```    "
   ]
  },
  {
   "cell_type": "markdown",
   "metadata": {},
   "source": [
    "**Example** R(A,B,C,D), $A\\rightarrow B, A\\rightarrow C$. \n",
    "- FD set is already a minimal basis\n",
    "- R1(A,B), R2(A,C)\n",
    "- No relation is a superkey for L: R3(A,D)\n"
   ]
  },
  {
   "cell_type": "markdown",
   "metadata": {},
   "source": [
    "#### Chase Test\n",
    "When a new set of relations is not generated from BCNF or 3NF, to check lossless condition."
   ]
  }
 ],
 "metadata": {
  "hide_input": false,
  "kernelspec": {
   "display_name": "Python 3",
   "language": "python",
   "name": "python3"
  },
  "language_info": {
   "codemirror_mode": {
    "name": "ipython",
    "version": 3
   },
   "file_extension": ".py",
   "mimetype": "text/x-python",
   "name": "python",
   "nbconvert_exporter": "python",
   "pygments_lexer": "ipython3",
   "version": "3.6.8"
  }
 },
 "nbformat": 4,
 "nbformat_minor": 2
}
