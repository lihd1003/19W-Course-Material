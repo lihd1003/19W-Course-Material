{
 "cells": [
  {
   "cell_type": "markdown",
   "metadata": {},
   "source": [
    "\n",
    "\n",
    "**Example schema** will be used for examples \n",
    " - Relations: Movies(<u>mID</u>, title, director, year, length); Artists(<u>aID</u>, aName, nationality); Roles(<u>mID, aID, character</u>)\n",
    " - Foreign key constraints: Roles[mID]$\\subseteq$ Movies[mID]; Roles[aID]$\\subseteq$ Artists[aID]\n",
    "\n",
    "#### Relational algebra \n",
    " - The value of any expression is a relation\n",
    " - Assumptions\n",
    "     - Relations as sets (without duplicated rows)\n",
    "     - Every cell has a value\n",
    " - Operands: tables\n",
    " - Operator  examples:\n",
    "   - Choose only the rows wanted\n",
    "   - Choose only the columns wanted\n",
    "   - combine tables\n"
   ]
  },
  {
   "cell_type": "markdown",
   "metadata": {},
   "source": [
    "**Select Rows** $\\sigma_c(R)$: $R$ table, $c$ boolean expression\n",
    "  - The result is a relation with the same schema but with only the tuples satisfy $c$\n",
    "  - Select all British actors  $\\sigma_{\\text{nationality = 'British'}}(Actors)$ \n",
    "  - Select all movies from 1970s $\\sigma_{1970\\leq year\\leq 1979}(Movies)$\n"
   ]
  },
  {
   "cell_type": "markdown",
   "metadata": {},
   "source": [
    "**Project** $\\Pi_c(R)$ slice vertically\n",
    "- onto fewer attributes can remove key that makes duplicates possible, whenever duplicates happens, only one copy of each is kept\n",
    "  \n",
    "- To perform multiple query together Example: find the names of all directors of movies from the 1970s $\\pi_{director}(\\sigma_{1970 <year<=1979}(Movies))$\n"
   ]
  },
  {
   "cell_type": "markdown",
   "metadata": {},
   "source": [
    "**Cartesian Product** $R_1\\times R_2$ map two relations to a new relation with every combination of a tuple from $R_1$ concatenated to a tuple from $R_2$\n",
    "  - Resulted schema is every attribute from $R_1$ followed by $R_2$ in order\n",
    "  - The resulted relation have $R_1.cardinality|\\times R_2.cardinality$ tuples"
   ]
  },
  {
   "cell_type": "markdown",
   "metadata": {},
   "source": [
    "**Natural join** $R_1\\bowtie R_2$ take the Cartesian product and select rows with the same attribute and value  that are in both relation to ensure equality on attributes, then project to remove duplicate attributes\n",
    " - Natural join is commutative and associative"
   ]
  },
  {
   "cell_type": "markdown",
   "metadata": {},
   "source": [
    "**Theta Join** $R_1\\bowtie_{c} R_2:= \\sigma_c{R\\times S}$"
   ]
  },
  {
   "cell_type": "markdown",
   "metadata": {},
   "source": [
    "**Assignment** $R:= Expression$ or $R(A_1,...,A_n):=Expression$, the second way allows to rename all the attributes\n",
    " - $R$ must be temporary and not one of the relations in the schema, it should not be updated"
   ]
  },
  {
   "cell_type": "markdown",
   "metadata": {},
   "source": [
    "**Rename** $\\rho_{R_1}(R_2)$ or $\\rho_{R_1(A_1,...,A_n)}(R_2)$ renames the relation. Note that $R_1:=\\rho_{R_1(A_1,...,A_n)}(R_2)$ is equivalent to $R_1(A_1,...,A_n):=R_2$"
   ]
  },
  {
   "cell_type": "markdown",
   "metadata": {},
   "source": [
    "**Division** $R/S:=$ the largest relation $Q$ s.t. $Q\\times S\\subseteq R$. the operation will return a relation will all the attributes in $R$ that's not in $S$ and all tuples in $R$ that match every tuple in $S$"
   ]
  },
  {
   "cell_type": "markdown",
   "metadata": {},
   "source": [
    "#### Example \n",
    "\n",
    "<a href=\"ROSI.pdf\">ROSI</a>\n",
    "         \n",
    "- Students(<u>sID</u>, surName, campus)\n",
    "- Courses(<u>cID</u>, cName, WR)\n",
    "- Offerings(<u>oID</u>, cID, term, instructor)\n",
    "- Took(<u>sID, oID</u>, grade)\n",
    "\n",
    "- Offerings[cID] $\\subseteq $ Courses[cID]\n",
    "- Took[sID] $\\subseteq$ Students[sID]\n",
    "- Took[oID] $\\subseteq$ Offerings[oID]"
   ]
  },
  {
   "cell_type": "markdown",
   "metadata": {},
   "source": [
    "1. Student number of all students who have taken CSC343 <br>\n",
    "SelectedStudents := $\\Pi_{sID}$($\\sigma_{cID='CSC343'}$( Took $ \\bowtie $ Offer )) <br>\n",
    " or $\\bowtie_{Took.oID = Offering.oID}$\n",
    " \n",
    "2. $\\Pi_{sID}$($\\sigma_{cID='CSC343'}$( ($\\sigma_{grade='A+'}$Took) $ \\bowtie $ Offer )) <br>\n",
    "\n",
    "3. $\\Pi_{surName}$(SelectedStudents $\\bowtie$ Students)\n",
    "\n",
    "4. $\\Pi_{surName}$($\\sigma_{Courses.cID = Offerings.cID \\\\ \\wedge Took.oID=Offering.oID\\\\ \\wedge WR=True \\\\\n",
    "\\wedge instructor='Picky'\\\\\n",
    "\\wedge Took.sID=Students.sID \\\\\n",
    "\\wedge Grade \\geq 50}$(Courses $\\times$ Offerings $\\times$ Students))\n",
    "\n",
    "5. \n"
   ]
  },
  {
   "cell_type": "markdown",
   "metadata": {},
   "source": [
    "8. Have85:= $\\Pi_{sID}$($\\sigma_{grade \\geq 85} $Took ) <br>\n",
    " pass :=$\\Pi_{sID}$($\\sigma_{grade \\geq 50 \\wedge instructor = 'Atuwood'}$ (Offering $\\bowtie$ Took))\n",
    " Have85 $\\cup$ pass"
   ]
  },
  {
   "cell_type": "markdown",
   "metadata": {},
   "source": [
    "11. Pairs(sID1, sID2) := $\\Pi_{T1.sID, T2.SID}$($\\sigma_{T1.sID < T2.sID \\wedge T1.oID = T2.oID}$$\\rho_{T1}$(Took) $\\times\\rho_{T2}$ (Took)) <br>\n",
    "Students := $\\rho_{P}$Pairs $\\times$ $\\rho_{S1}$(Student) $\\times\\rho_{S2}$(Student)<br>\n",
    "$\\Pi_{P.sID1, P.sID2, S1.surname, S2.surname}$($\\sigma_{P.sID1 = S1.sID \\wedge P.sID2 = S2.sID}$(Students))"
   ]
  },
  {
   "cell_type": "markdown",
   "metadata": {},
   "source": [
    "17. Took $\\bowtie$ Offering <br>\n",
    "// get all the courses taught by Gries <br>\n",
    "Taught := $\\Pi_{dept, cNum}$($\\sigma_{instructor = 'Gries'}$(Offering))<br><br>\n",
    "// get all the courses students taken \n",
    "StudentTake = $\\Pi_{sID, dept, cNum}$(Took $\\bowtie$Offering)<br><br>\n",
    "// Use differences to find missing courses<br>\n",
    "shouldHave := ($\\pi_{sID}$(Student))$\\times$ Taught<br>\n",
    "Missing:= shouldHave - studentTake <br>\n",
    "sIDAnswer := ($\\Pi_{sID}$ Student) - ($\\Pi_{sID}$ Missing) <br>\n",
    "answer := $\\Pi_{surName, firstName}$ (sIDAnswer $\\bowtie$ Student)"
   ]
  },
  {
   "cell_type": "markdown",
   "metadata": {},
   "source": [
    "#### Integrity Constraints"
   ]
  },
  {
   "cell_type": "markdown",
   "metadata": {},
   "source": [
    "1. 400-level courses cannot count for breadth.<br>\n",
    "$\\sigma_{\\text{courses} \\geq 400, \\text{WR=True}}$(Courses) = $\\emptyset$\n",
    "\n",
    "\n",
    "2. In terms when csc490 is offered, csc454 must also be offered.<br>\n",
    "$\\Pi_{\\text{term}}$($\\sigma_{\\text{oID=490,cID=csc}}$ (Offerings)) $\\subseteq$ $\\Pi_{\\text{term}}$($\\sigma_{\\text{oID=454,cID=csc}}$ (Offerings))"
   ]
  }
 ],
 "metadata": {
  "kernelspec": {
   "display_name": "Python 3",
   "language": "python",
   "name": "python3"
  },
  "language_info": {
   "codemirror_mode": {
    "name": "ipython",
    "version": 3
   },
   "file_extension": ".py",
   "mimetype": "text/x-python",
   "name": "python",
   "nbconvert_exporter": "python",
   "pygments_lexer": "ipython3",
   "version": "3.6.7"
  }
 },
 "nbformat": 4,
 "nbformat_minor": 2
}
