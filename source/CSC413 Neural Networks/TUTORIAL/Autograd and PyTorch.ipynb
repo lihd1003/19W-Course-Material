{
 "cells": [
  {
   "cell_type": "markdown",
   "metadata": {
    "colab_type": "text",
    "id": "oW6E9VvcmYpd"
   },
   "source": [
    "# Autograd\n",
    "\n",
    "References:\n",
    "\n",
    "* Ryan Adams' talk: https://www.youtube.com/watch?v=sq2gPzlrM0g\n",
    "* Backpropagation notes from Stanford's CS231n: http://cs231n.github.io/optimization-2/\n",
    "* Autograd Github Repository (contains a tutorial and examples): https://github.com/HIPS/autograd\n",
    "\n",
    "## Approaches for Computing Derivatives\n",
    "\n",
    "* **Symbolic differentiation:** automatic manipulation of mathematical expressions to get derivatives\n",
    "    - Takes a math expression and returns a math expression: $f(x) = x^2 \\rightarrow \\frac{df(x)}{dx} = 2x$\n",
    "    - Used in Mathematica, Maple, Sympy, etc.\n",
    "* **Numeric differentiation:** Approximating derivatives by finite differences:\n",
    "$$\n",
    "\\frac{\\partial}{\\partial x_i} f(x_1, \\dots, x_N) = \\lim_{h \\to 0} \\frac{f(x_1, \\dots, x_i + h, \\dots, x_N) - f(x_1, \\dots, x_i - h, \\dots, x_N)}{2h}\n",
    "$$\n",
    "* **Automatic differentiation:** Takes code that computes a function and returns code that computes the derivative of that function.\n",
    "    - Reverse Mode AD: A method to get exact derivatives efficiently, by storing information as you go forward that you can reuse as you go backwards\n",
    "    - \"The goal isn't to obtain closed-form solutions, but to be able to wirte a program that efficiently computes the derivatives.\" - Lecture 6 Slides (Backpropagation)\n",
    "    - **Torch, Autograd**\n",
    "\n",
    "## Reverse Mode Automatic Differentiation\n",
    "\n",
    "In machine learning, we have functions that have large fan-in, e.g. a neural net can have millions of parameters, that all squeeze down to one scalar that tells you how well it predicts something.  cats.\n",
    "\n",
    "### General Idea for Implementation\n",
    "\n",
    "* Create a \"tape\" data structure that tracks the operations performed in computing a function\n",
    "* Overload primitives to:\n",
    "    - Add themselves to the tape when called\n",
    "    - Compute gradients with respect to their local inputs\n",
    "* _Forward pass_ computes the function, and adds operations to the tape\n",
    "* _Reverse pass_ accumulates the local gradients using the chain rule\n",
    "* This is efficient for graphs with large fan-in, like most loss functions in ML"
   ]
  },
  {
   "cell_type": "markdown",
   "metadata": {
    "colab_type": "text",
    "id": "0JxunitHmYpf"
   },
   "source": [
    "## Autograd\n",
    "\n",
    "* [Autograd](https://github.com/HIPS/autograd) is a Python package for automatic differentiation.\n",
    "* To install Autograd:\n",
    "                pip install autograd\n",
    "* There are a lot of great [examples](https://github.com/HIPS/autograd/tree/master/examples) provided with the source code\n",
    "\n",
    "### What can Autograd do?\n",
    "\n",
    "From the Autograd Github repository:\n",
    "\n",
    "* Autograd can automatically differentiate native Python and Numpy code.\n",
    "* It can handle a large subset of Python's features, including loops, conditional statements (if/else), recursion and closures\n",
    "* It can also compute higher-order derivatives\n",
    "* It uses reverse-mode differentiation (a.k.a. backpropagation) so it can efficiently take gradients of scalar-valued functions with respect to array-valued arguments.\n",
    "\n",
    "\n",
    "## Autograd vs Tensorflow, Theano, etc.\n",
    "\n",
    "Many deep learning packages implement automatic differentiation using small _domain-specific languages_ within Python:\n",
    "    - Theano\n",
    "    - Caffe\n",
    "    - Vanilla Torch (as compared to Autograd for Torch)\n",
    "    - Tensorflow\n",
    "Most of these alternatives require you to _explicitly_ construct a computation graph; Autograd constructs a computation graph _implicitly_, by tracking the sequence of operations that have been performed during the execution of a program.\n"
   ]
  },
  {
   "cell_type": "markdown",
   "metadata": {
    "colab_type": "text",
    "id": "1kDjpkTqmYph"
   },
   "source": [
    "## Autograd Basic Usage"
   ]
  },
  {
   "cell_type": "code",
   "execution_count": 1,
   "metadata": {
    "colab": {},
    "colab_type": "code",
    "id": "DqGWFWj3mYpi"
   },
   "outputs": [],
   "source": [
    "import autograd.numpy as np # Import thinly-wrapped numpy\n",
    "from autograd import grad   # Basicallly the only function you need"
   ]
  },
  {
   "cell_type": "code",
   "execution_count": 2,
   "metadata": {
    "colab": {
     "base_uri": "https://localhost:8080/",
     "height": 51
    },
    "colab_type": "code",
    "id": "szDksM6wmYpn",
    "outputId": "f0f05894-4e66-4679-8db0-c8a2424c2237"
   },
   "outputs": [
    {
     "name": "stdout",
     "output_type": "stream",
     "text": [
      "0.39322386648296376\n",
      "0.39322386636453377\n"
     ]
    }
   ],
   "source": [
    "# Define a function like normal, using Python and Numpy\n",
    "def tanh(x):\n",
    "    y = np.exp(-x)\n",
    "    return (1.0 - y) / (1.0 + y)\n",
    "\n",
    "# Create a *function* that computes the gradient of tanh\n",
    "grad_tanh = grad(tanh)\n",
    "\n",
    "# Evaluate the gradient at x = 1.0\n",
    "print(grad_tanh(1.0))\n",
    "\n",
    "# Compare to numeric gradient computed using finite differences\n",
    "print((tanh(1.0001) - tanh(0.9999)) / 0.0002)"
   ]
  },
  {
   "cell_type": "markdown",
   "metadata": {
    "colab_type": "text",
    "id": "2Rj5tTqGsHb2"
   },
   "source": []
  },
  {
   "cell_type": "markdown",
   "metadata": {
    "colab_type": "text",
    "id": "SDGKdlknJMuK"
   },
   "source": [
    "# Pytorch\n",
    "\n",
    "Autograd doesn't support GPUs, so we cannot use autograd for training big neural networks. Pytorch is a gpu friendly framework on top of autograd.\n",
    "\n",
    "## PyTorch: The Basics\n",
    "\n",
    "PyTorch allows you to dynamically define computational graphs that can be computed efficently on GPUs.\n",
    "\n",
    "Here is an example, where we work with the function\n",
    "\n",
    "$$f(x) = x^2 + 2x + 6$$"
   ]
  },
  {
   "cell_type": "code",
   "execution_count": 3,
   "metadata": {
    "colab": {},
    "colab_type": "code",
    "id": "AM9OCyxms9Oc"
   },
   "outputs": [],
   "source": [
    "import torch"
   ]
  },
  {
   "cell_type": "code",
   "execution_count": 4,
   "metadata": {
    "colab": {
     "base_uri": "https://localhost:8080/",
     "height": 34
    },
    "colab_type": "code",
    "id": "lKC3Lzwqs07E",
    "outputId": "ef425156-f89a-43ac-aa1d-1671544c6065"
   },
   "outputs": [
    {
     "name": "stdout",
     "output_type": "stream",
     "text": [
      "tensor([30.], dtype=torch.float64, grad_fn=<AddBackward0>)\n"
     ]
    }
   ],
   "source": [
    "def f(x):\n",
    "    return x ** 2 + 2 * x + 6\n",
    "np_x = np.array([4.0])\n",
    "x = torch.from_numpy(np_x).requires_grad_(True)\n",
    "y = f(x)\n",
    "print(y)"
   ]
  },
  {
   "cell_type": "code",
   "execution_count": 5,
   "metadata": {
    "colab": {
     "base_uri": "https://localhost:8080/",
     "height": 34
    },
    "colab_type": "code",
    "id": "kWQJmBlytIOV",
    "outputId": "2075ad1e-e13a-4f3b-98b7-4991060cf467"
   },
   "outputs": [
    {
     "data": {
      "text/plain": [
       "tensor([10.], dtype=torch.float64)"
      ]
     },
     "execution_count": 5,
     "metadata": {},
     "output_type": "execute_result"
    }
   ],
   "source": [
    "y.backward()\n",
    "x.grad"
   ]
  },
  {
   "cell_type": "code",
   "execution_count": 6,
   "metadata": {
    "colab": {},
    "colab_type": "code",
    "id": "nCdN3mtXtX-N"
   },
   "outputs": [],
   "source": [
    "np_x = np.array([5.0])\n",
    "x = torch.from_numpy(np_x).requires_grad_(True)\n",
    "y = f(x)"
   ]
  },
  {
   "cell_type": "code",
   "execution_count": 7,
   "metadata": {
    "colab": {
     "base_uri": "https://localhost:8080/",
     "height": 34
    },
    "colab_type": "code",
    "id": "2TWXc5gmtdrA",
    "outputId": "2e058699-1e92-470b-8128-749cb5938c45"
   },
   "outputs": [
    {
     "data": {
      "text/plain": [
       "tensor([12.], dtype=torch.float64)"
      ]
     },
     "execution_count": 7,
     "metadata": {},
     "output_type": "execute_result"
    }
   ],
   "source": [
    "y.backward()\n",
    "x.grad"
   ]
  },
  {
   "cell_type": "markdown",
   "metadata": {
    "colab_type": "text",
    "id": "v60TtmvumYps"
   },
   "source": [
    "## Pytorch vs Manual Gradients via Staged Computation\n",
    "\n",
    "In this example, we will see how a complicated computation can be written as a composition of simpler functions, and how this provides a scalable strategy for computing gradients using the chain rule.\n",
    "\n",
    "Say we want to write a function to compute the gradient of the *sigmoid function*:\n",
    "$$\n",
    "\\sigma(x) = \\frac{1}{1 + e^{-x}}\n",
    "$$\n",
    "We can write $\\sigma(x)$ as a composition of several elementary functions, as $\\sigma(x) = s(c(b(a(x))))$, where:\n",
    "\n",
    "$$\n",
    "a(x) = -x\n",
    "$$\n",
    "\n",
    "$$\n",
    "b(a) = e^a\n",
    "$$\n",
    "\n",
    "$$\n",
    "c(b) = 1 + b\n",
    "$$\n",
    "\n",
    "$$\n",
    "s(c) = \\frac{1}{c}\n",
    "$$\n",
    "\n",
    "Here, we have \"staged\" the computation such that it contains several intermediate variables, each of which are basic expressions for which we can easily compute the local gradients.\n",
    "\n",
    "The computation graph for this expression is shown in the figure below. \n",
    " \n",
    "![Gradient Computation Image](https://drive.google.com/uc?export=view&id=1bvdPv0MI2eM3GeobsHFsFjLrLsibuhJa)\n",
    "\n",
    "The input to this function is $x$, and the output is represented by node $s$. We wish compute the gradient of $s$ with respect to $x$, $\\frac{\\partial s}{\\partial x}$. In order to make use of our intermediate computations, we can use the chain rule as follows:\n",
    "$$\n",
    "\\frac{\\partial s}{\\partial x} = \\frac{\\partial s}{\\partial c} \\frac{\\partial c}{\\partial b} \\frac{\\partial b}{\\partial a} \\frac{\\partial a}{\\partial x}\n",
    "$$\n",
    "\n",
    "<!--\n",
    "Given a vector-to-scalar function, $\\mathbb{R}^D \\to \\mathbb{R}$, composed of a set of primitive functions\n",
    "$\\mathbb{R}^M \\to \\mathbb{R}^N$ (for various $M$, $N$), the gradient of the composition is given by the product of the gradients of the primitive functions, according to the chain rule. But the chain rule doesn’t prescribe the order in which to multiply the gradients. From the perspective of computational complexity, the order makes all the\n",
    "difference.\n",
    "-->"
   ]
  },
  {
   "cell_type": "code",
   "execution_count": 8,
   "metadata": {
    "colab": {
     "base_uri": "https://localhost:8080/",
     "height": 51
    },
    "colab_type": "code",
    "id": "D5RUMyRsmYpt",
    "outputId": "60bb0e8a-e8da-4ea3-dd80-483fa8c50dd0"
   },
   "outputs": [
    {
     "name": "stdout",
     "output_type": "stream",
     "text": [
      "autograd: 0.10499356687068939\n",
      "manual: 0.1049935854035065\n"
     ]
    }
   ],
   "source": [
    "def grad_sigmoid_manual(x):\n",
    "    \"\"\"Implements the gradient of the logistic sigmoid function \n",
    "    $\\sigma(x) = 1 / (1 + e^{-x})$ using staged computation\n",
    "    \"\"\"\n",
    "    # Forward pass, keeping track of intermediate values for use in the \n",
    "    # backward pass\n",
    "    a = -x         # -x in denominator\n",
    "    b = np.exp(a)  # e^{-x} in denominator\n",
    "    c = 1 + b      # 1 + e^{-x} in denominator\n",
    "    s = 1.0 / c    # Final result, 1.0 / (1 + e^{-x})\n",
    "    \n",
    "    # Backward pass\n",
    "    dsdc = (-1.0 / (c**2))\n",
    "    dsdb = dsdc * 1\n",
    "    dsda = dsdb * np.exp(a)\n",
    "    dsdx = dsda * (-1)\n",
    "    \n",
    "    return dsdx\n",
    "\n",
    "\n",
    "def sigmoid(x):\n",
    "    y = 1.0 / (1.0 + torch.exp(-x))\n",
    "    return y\n",
    "\n",
    "input_x = 2.0\n",
    "x = torch.tensor(input_x).requires_grad_(True)\n",
    "y = sigmoid(x)\n",
    "y.backward()\n",
    "\n",
    "# Compare the results of manual and automatic gradient functions:\n",
    "print('autograd:', x.grad.item())\n",
    "print('manual:', grad_sigmoid_manual(input_x))"
   ]
  },
  {
   "cell_type": "markdown",
   "metadata": {
    "colab_type": "text",
    "id": "YTHQYM2ImYq4"
   },
   "source": [
    "## Modularity: Implementing Custom Gradients\n",
    "\n",
    "One thing you can do is define custom gradients for your own functions. There are several reasons you might want to do this, including:\n",
    "\n",
    "1. **Speed:** You may know a faster way to compute the gradient for a specific function.\n",
    "2. **Numerical Stability**\n",
    "3. When your code depends on **external library calls**\n",
    "\n",
    "The `@primitive` decorator wraps a function so that its gradient can be specified manually and its invocation can be recorded."
   ]
  },
  {
   "cell_type": "code",
   "execution_count": 9,
   "metadata": {
    "colab": {},
    "colab_type": "code",
    "id": "AIG9NpYimYq6"
   },
   "outputs": [],
   "source": [
    "\n",
    "class MyLogSumExp(torch.autograd.Function):\n",
    "    \"\"\"\n",
    "    We can implement our own custom autograd Functions by subclassing\n",
    "    torch.autograd.Function and implementing the forward and backward passes\n",
    "    which operate on Tensors.\n",
    "    \"\"\"\n",
    "\n",
    "    @staticmethod\n",
    "    def forward(ctx, input):\n",
    "        \"\"\"\n",
    "        In the forward pass we receive a Tensor containing the input and return\n",
    "        a Tensor containing the output. ctx is a context object that can be used\n",
    "        to stash information for backward computation. You can cache arbitrary\n",
    "        objects for use in the backward pass using the ctx.save_for_backward method.\n",
    "        \"\"\"\n",
    "        max_x = torch.max(input)\n",
    "        ans = max_x + torch.log(torch.sum(torch.exp(input - max_x)))\n",
    "        ctx.save_for_backward(input, ans)\n",
    "        return ans\n",
    "\n",
    "\n",
    "\n",
    "    @staticmethod\n",
    "    def backward(ctx, grad_output):\n",
    "        \"\"\"\n",
    "        In the backward pass we receive a Tensor containing the gradient of the loss\n",
    "        with respect to the output, and we need to compute the gradient of the loss\n",
    "        with respect to the input.\n",
    "        \"\"\"\n",
    "        input, ans = ctx.saved_tensors\n",
    "        return torch.ones_like(input)*grad_output * (input - ans).exp()\n",
    "\n",
    "\n"
   ]
  },
  {
   "cell_type": "code",
   "execution_count": 10,
   "metadata": {
    "colab": {
     "base_uri": "https://localhost:8080/",
     "height": 85
    },
    "colab_type": "code",
    "id": "rTzfGIWJmYq9",
    "outputId": "c0ff0309-cb3a-42eb-c729-7004342d8dc0"
   },
   "outputs": [
    {
     "name": "stdout",
     "output_type": "stream",
     "text": [
      "our implementation: tensor([ 0.3316, -0.0658,  0.0429,  0.2436, -0.0020, -0.0589,  0.0259,  0.0591,\n",
      "         0.1314, -0.0063])\n",
      "torch impelementation: tensor([ 0.3316, -0.0658,  0.0429,  0.2436, -0.0020, -0.0589,  0.0259,  0.0591,\n",
      "         0.1314, -0.0063])\n"
     ]
    }
   ],
   "source": [
    "mylogsumexp = MyLogSumExp.apply\n",
    "\n",
    "# Now we can use logsumexp() inside a larger function that we want to differentiate.\n",
    "def example_func(y, myimp):\n",
    "    z = y**2\n",
    "    if myimp is True:\n",
    "      lse = mylogsumexp(z)\n",
    "    else:\n",
    "      lse = torch.logsumexp(z, dim=0)\n",
    "    return lse\n",
    "\n",
    "\n",
    "input_x = torch.randn(10).requires_grad_(True)\n",
    "output = example_func(input_x, myimp=False)\n",
    "output.backward()\n",
    "print('our implementation:', input_x.grad)\n",
    "input_x.grad.zero_()\n",
    "\n",
    "output = example_func(input_x, myimp=False)\n",
    "output.backward()\n",
    "print('torch impelementation:', input_x.grad)\n",
    "\n"
   ]
  },
  {
   "cell_type": "markdown",
   "metadata": {
    "colab_type": "text",
    "id": "I-ePOja_mYrA"
   },
   "source": [
    "# Examples\n",
    "\n",
    "The next three sections of the notebook show examples of using pytorch in the context of three problems:\n",
    "\n",
    "1. **1-D linear regression**, where we try to fit a model to a function $y = wx + b$\n",
    "2. **Linear regression using a polynomial feature map**, to fit a function of the form $y = w_0 + w_1 x + w_2 x^2 + \\dots + w_M x^M$\n",
    "3. **Nonlinear regression using a neural network**"
   ]
  },
  {
   "cell_type": "markdown",
   "metadata": {
    "colab_type": "text",
    "id": "JBs8UkXfmYrC"
   },
   "source": [
    "## Linear Regression"
   ]
  },
  {
   "cell_type": "markdown",
   "metadata": {
    "colab_type": "text",
    "id": "cLHB3U0BmYrD"
   },
   "source": [
    "### Review\n",
    "\n",
    "We are given a set of data points $\\{ (x_1, t_1), (x_2, t_2), \\dots, (x_N, t_N) \\}$, where each point $(x_i, t_i)$ consists of an *input value* $x_i$ and a *target value* $t_i$. \n",
    "\n",
    "The **model** we use is:\n",
    "$$\n",
    "y_i = wx_i + b\n",
    "$$\n",
    "\n",
    "We want each predicted value $y_i$ to be close to the ground truth value $t_i$. In linear regression, we use squared error to quantify the disagreement between $y_i$ and $t_i$. The **loss function** for a single example is:\n",
    "$$\n",
    "\\mathcal{L}(y_i,t_i) = \\frac{1}{2} (y_i - t_i)^2\n",
    "$$\n",
    "\n",
    "The **cost function** is the loss averaged over all the training examples:\n",
    "$$\n",
    "\\mathcal{E}(w,b) = \\frac{1}{N} \\sum_{i=1}^N \\mathcal{L}(y_i, t_i) = \\frac{1}{N} \\sum_{i=1}^N \\frac{1}{2} \\left(wx_i + b - t_i \\right)^2\n",
    "$$"
   ]
  },
  {
   "cell_type": "code",
   "execution_count": 11,
   "metadata": {
    "colab": {},
    "colab_type": "code",
    "id": "dOjH3W31ITDU"
   },
   "outputs": [],
   "source": [
    "import numpy as np # Import wrapped NumPy from Autograd\n",
    "import numpy.random as npr # For convenient access to numpy.random\n",
    "\n",
    "import matplotlib.pyplot as plt # For plotting\n",
    "\n",
    "%matplotlib inline"
   ]
  },
  {
   "cell_type": "markdown",
   "metadata": {
    "colab_type": "text",
    "id": "b-BhEYZOmYrJ"
   },
   "source": [
    "We generate a synthetic dataset $\\{ (x_i, t_i) \\}$ by first taking the $x_i$ to be linearly spaced in the range $[0, 10]$ and generating the corresponding value of $t_i$ using the following equation (where $w = 4$ and $b=10$):\n",
    "$$\n",
    "t_i = 4 x_i + 10 + \\epsilon\n",
    "$$\n",
    "\n",
    "Here, $\\epsilon \\sim \\mathcal{N}(0, 2)$ (that is, $\\epsilon$ is drawn from a Gaussian distribution with mean 0 and variance 2). This introduces some random fluctuation in the data, to mimic real data that has an underlying regularity, but for which individual observations are corrupted by random noise."
   ]
  },
  {
   "cell_type": "code",
   "execution_count": 12,
   "metadata": {
    "colab": {
     "base_uri": "https://localhost:8080/",
     "height": 265
    },
    "colab_type": "code",
    "id": "mOLDubBYmYrK",
    "outputId": "5c85ac5d-bb0e-4ec9-f0cb-74c2d707006f"
   },
   "outputs": [
    {
     "data": {
      "image/png": "[encoded data removed]",
      "text/plain": [
       "<Figure size 432x288 with 1 Axes>"
      ]
     },
     "metadata": {
      "needs_background": "light"
     },
     "output_type": "display_data"
    }
   ],
   "source": [
    "# In our synthetic data, we have w = 4 and b = 10\n",
    "N = 100 # Number of training data points\n",
    "x = np.linspace(0, 10, N)\n",
    "\n",
    "t = 4 * x + 10 + npr.normal(0, 2, x.shape[0])\n",
    "plt.plot(x, t, 'r.')\n",
    "\n",
    "x = torch.from_numpy(x)\n",
    "t = torch.from_numpy(t)"
   ]
  },
  {
   "cell_type": "code",
   "execution_count": 21,
   "metadata": {
    "colab": {
     "base_uri": "https://localhost:8080/",
     "height": 1000
    },
    "colab_type": "code",
    "id": "DWKVaOrimYrO",
    "outputId": "1a1e3f1d-5389-45c7-9da2-91472cdf95a7"
   },
   "outputs": [
    {
     "data": {
      "image/png": "[encoded data removed]",
      "text/plain": [
       "<Figure size 864x288 with 2 Axes>"
      ]
     },
     "metadata": {
      "needs_background": "light"
     },
     "output_type": "display_data"
    },
    {
     "name": "stdout",
     "output_type": "stream",
     "text": [
      "{'w': Parameter containing:\n",
      "tensor([4.1241], requires_grad=True), 'b': Parameter containing:\n",
      "tensor([9.4316], requires_grad=True)}\n"
     ]
    }
   ],
   "source": [
    "# Initialize random parameters\n",
    "\n",
    "w = torch.nn.Parameter(torch.randn(1))\n",
    "b = torch.nn.Parameter(torch.randn(1))\n",
    "\n",
    "\n",
    "params = { 'w': w, 'b': b } # One option: aggregate parameters in a dictionary\n",
    "\n",
    "def cost(params):\n",
    "    y = params['w'] * x + params['b']\n",
    "    return (1 / N) * torch.sum(0.5 * (y - t)**2)\n",
    "\n",
    "# Find the gradient of the cost function using pytorch\n",
    "\n",
    "num_epochs = 1000  # Number of epochs of training\n",
    "alpha = 0.01       # Learning rate\n",
    "\n",
    "loss_iters = []\n",
    "for i in range(num_epochs):\n",
    "    # Evaluate the gradient of the current parameters stored in params\n",
    "    loss = cost(params)\n",
    "    loss.backward()\n",
    "\n",
    "    loss_iters.append(loss.item())\n",
    "\n",
    "    # Update parameters w and b\n",
    "    with torch.no_grad():\n",
    "      params['w'].data = params['w'] - alpha * params['w'].grad\n",
    "      params['b'].data = params['b'] - alpha * params['b'].grad\n",
    "      params['w'].grad.zero_()\n",
    "      params['b'].grad.zero_()\n",
    "plt.figure(figsize=(12, 4))\n",
    "plt.subplot(121)\n",
    "plt.plot(loss_iters[:10])\n",
    "plt.title(\"Loss of first 10 iters\")\n",
    "plt.subplot(122)\n",
    "plt.title(\"Loss of 10 to 1000 iters\")\n",
    "plt.plot(loss_iters[10:])\n",
    "plt.show()\n",
    "print(params)"
   ]
  },
  {
   "cell_type": "code",
   "execution_count": 0,
   "metadata": {
    "colab": {
     "base_uri": "https://localhost:8080/",
     "height": 282
    },
    "colab_type": "code",
    "id": "Q6JKtls8mYrY",
    "outputId": "154d136d-5e78-49cd-8cbf-46fa2029ff08"
   },
   "outputs": [
    {
     "data": {
      "text/plain": [
       "[<matplotlib.lines.Line2D at 0x7f6aaf850ef0>]"
      ]
     },
     "execution_count": 15,
     "metadata": {
      "tags": []
     },
     "output_type": "execute_result"
    },
    {
     "data": {
      "image/png": "[encoded data removed]",
      "text/plain": [
       "<Figure size 432x288 with 1 Axes>"
      ]
     },
     "metadata": {
      "tags": []
     },
     "output_type": "display_data"
    }
   ],
   "source": [
    "# Plot the training data again, together with the line defined by y = wx + b\n",
    "# where w and b are our final learned parameters\n",
    "plt.plot(x, t, 'r.')\n",
    "plt.plot([0, 10], [params['b'], params['w'] * 10 + params['b']], 'b-')"
   ]
  },
  {
   "cell_type": "markdown",
   "metadata": {
    "colab_type": "text",
    "id": "UMf3GbOhmYrc"
   },
   "source": [
    "## Linear Regression with a Feature Mapping"
   ]
  },
  {
   "cell_type": "markdown",
   "metadata": {
    "colab_type": "text",
    "id": "I6sur0MDmYrd"
   },
   "source": [
    "In this example we will fit a polynomial using linear regression with a polynomial feature mapping.\n",
    "The target function is:\n",
    "\n",
    "$$\n",
    "t = x^4 - 10 x^2 + 10 x + \\epsilon\n",
    "$$\n",
    "\n",
    "where $\\epsilon \\sim \\mathcal{N}(0, 4)$. \n",
    "\n",
    "This is an example of a _generalized linear model_, in which we perform a fixed nonlinear transformation of the inputs $\\mathbf{x} = (x_1, x_2, \\dots, x_D)$, and the model is still linear in the _parameters_. We can define a set of _feature mappings_ (also called feature functions or basis functions) $\\phi$ to implement the fixed transformations.\n",
    "\n",
    "In this case, we have $x \\in \\mathbb{R}$, and we define the feature mapping:\n",
    "$$\n",
    "\\mathbf{\\phi}(x) = \\begin{pmatrix}\\phi_1(x) \\\\ \\phi_2(x) \\\\ \\phi_3(x) \\\\ \\phi_4(x) \\end{pmatrix} = \\begin{pmatrix}1\\\\x\\\\x^2\\\\x^3\\end{pmatrix}\n",
    "$$"
   ]
  },
  {
   "cell_type": "code",
   "execution_count": 0,
   "metadata": {
    "colab": {
     "base_uri": "https://localhost:8080/",
     "height": 265
    },
    "colab_type": "code",
    "id": "D-XKvKC4mYre",
    "outputId": "47d5582c-ef14-4989-d23d-826b94d3a762"
   },
   "outputs": [
    {
     "data": {
      "image/png": "[encoded data removed]",
      "text/plain": [
       "<Figure size 432x288 with 1 Axes>"
      ]
     },
     "metadata": {
      "tags": []
     },
     "output_type": "display_data"
    }
   ],
   "source": [
    "# Generate synthetic data\n",
    "N = 100 # Number of data points\n",
    "x = np.linspace(-3, 3, N) # Generate N values linearly-spaced between -3 and 3\n",
    "t = x ** 4 - 10 * x ** 2 + 10 * x + npr.normal(0, 4, x.shape[0]) # Generate corresponding targets\n",
    "plt.plot(x, t, 'r.') # Plot data points\n",
    "\n",
    "t = torch.from_numpy(t).view(-1, 1)"
   ]
  },
  {
   "cell_type": "code",
   "execution_count": 22,
   "metadata": {
    "colab": {
     "base_uri": "https://localhost:8080/",
     "height": 1000
    },
    "colab_type": "code",
    "id": "oGgROsxlmYrk",
    "outputId": "c47b640f-3343-413b-f453-82825c30219a"
   },
   "outputs": [
    {
     "name": "stdout",
     "output_type": "stream",
     "text": [
      "torch.Size([5, 1])\n",
      "Parameter containing:\n",
      "tensor([[nan],\n",
      "        [nan],\n",
      "        [nan],\n",
      "        [nan],\n",
      "        [nan]], requires_grad=True)\n"
     ]
    },
    {
     "data": {
      "image/png": "[encoded data removed]",
      "text/plain": [
       "<Figure size 432x288 with 1 Axes>"
      ]
     },
     "metadata": {
      "needs_background": "light"
     },
     "output_type": "display_data"
    }
   ],
   "source": [
    "M = 4 # Degree of polynomial to fit to the data (this is a hyperparameter)\n",
    "feature_matrix = np.array([[item ** i for i in range(M+1)] for item in x]) # Construct a feature matrix \n",
    "feature_matrix = torch.from_numpy(feature_matrix).float()\n",
    "\n",
    "w = torch.nn.Parameter(torch.randn(feature_matrix.shape[-1], 1))\n",
    "print(w.shape)\n",
    "\n",
    "def cost():\n",
    "    y = torch.mm(feature_matrix, w)\n",
    "    return (1.0 / N) * torch.sum(0.5 * (y - t)**2)\n",
    "\n",
    "# Compute the gradient of the cost function using Autograd\n",
    "\n",
    "\n",
    "num_epochs = 1000\n",
    "learning_rate = 0.001\n",
    "\n",
    "loss_iters = []\n",
    "# Manually implement gradient descent\n",
    "for i in range(num_epochs):\n",
    "    loss = cost()\n",
    "    loss.backward()\n",
    "    loss_iters.append(loss.item())\n",
    "    with torch.no_grad():\n",
    "        w.data = w - learning_rate * w.grad\n",
    "        w.grad.zero_()\n",
    "\n",
    "plt.plot(loss_iters)\n",
    "# Print the final learned parameters.\n",
    "print(w)\n",
    "w = w.detach().cpu().numpy()"
   ]
  },
  {
   "cell_type": "code",
   "execution_count": 0,
   "metadata": {
    "colab": {
     "base_uri": "https://localhost:8080/",
     "height": 282
    },
    "colab_type": "code",
    "id": "CY3XajWcmYrp",
    "outputId": "2d6298d8-472a-472c-c970-60989157078b"
   },
   "outputs": [
    {
     "data": {
      "text/plain": [
       "[<matplotlib.lines.Line2D at 0x7f6aaf78ba58>]"
      ]
     },
     "execution_count": 18,
     "metadata": {
      "tags": []
     },
     "output_type": "execute_result"
    },
    {
     "data": {
      "image/png": "[encoded data removed]",
      "text/plain": [
       "<Figure size 432x288 with 1 Axes>"
      ]
     },
     "metadata": {
      "tags": []
     },
     "output_type": "display_data"
    }
   ],
   "source": [
    "# Plot the original training data again, together with the polynomial we fit\n",
    "plt.plot(x, t, 'r.')\n",
    "plt.plot(x, np.dot(feature_matrix, w), 'b-')"
   ]
  },
  {
   "cell_type": "markdown",
   "metadata": {
    "colab_type": "text",
    "id": "OWYEe11YmYrs"
   },
   "source": [
    "## Neural Net Regression"
   ]
  },
  {
   "cell_type": "markdown",
   "metadata": {
    "colab_type": "text",
    "id": "C7bnv5LemYru"
   },
   "source": [
    "In this example we will implement a (nonlinear) regression model using a neural network. To implement and train a neural net using Autograd, you only have to define the forward pass of the network and the loss function you wish to use; you do _not_ need to implement the _backward pass_ of the network. When you take the gradient of the loss function using `grad`, Autograd automatically computes computes the backward pass. It essentially executes the backpropagation algorithm implicitly.\n",
    "\n",
    "![Neural Network Architecture for Regression](https://drive.google.com/uc?export=view&id=1iBNS40V_afm_Y1MUosDqeio0wbxgycfh)"
   ]
  },
  {
   "cell_type": "code",
   "execution_count": 0,
   "metadata": {
    "colab": {
     "base_uri": "https://localhost:8080/",
     "height": 265
    },
    "colab_type": "code",
    "id": "0TuIWDkCmYr5",
    "outputId": "7a7ead0c-353a-47ba-e020-568c9b652000"
   },
   "outputs": [
    {
     "data": {
      "image/png": "[encoded data removed]",
      "text/plain": [
       "<Figure size 432x288 with 1 Axes>"
      ]
     },
     "metadata": {
      "tags": []
     },
     "output_type": "display_data"
    }
   ],
   "source": [
    "# Generate synthetic data\n",
    "x = np.linspace(-5, 5, 1000)\n",
    "t = x ** 3 - 20 * x + 10 + npr.normal(0, 4, x.shape[0])\n",
    "plt.plot(x, t, 'r.')\n",
    "\n",
    "x = torch.from_numpy(x).float()\n",
    "t = torch.from_numpy(t)"
   ]
  },
  {
   "cell_type": "code",
   "execution_count": 28,
   "metadata": {
    "colab": {
     "base_uri": "https://localhost:8080/",
     "height": 1000
    },
    "colab_type": "code",
    "id": "yphlCjMmmYr9",
    "outputId": "13396351-9c29-425b-85ac-65692a823a4c"
   },
   "outputs": [
    {
     "ename": "RuntimeError",
     "evalue": "Expected object of scalar type Double but got scalar type Float for argument #2 'mat2' in call to _th_mm",
     "output_type": "error",
     "traceback": [
      "\u001b[1;31m---------------------------------------------------------------------------\u001b[0m",
      "\u001b[1;31mRuntimeError\u001b[0m                              Traceback (most recent call last)",
      "\u001b[1;32m<ipython-input-28-7db92d7cc61e>\u001b[0m in \u001b[0;36m<module>\u001b[1;34m\u001b[0m\n\u001b[0;32m     32\u001b[0m \u001b[1;32mfor\u001b[0m \u001b[0mi\u001b[0m \u001b[1;32min\u001b[0m \u001b[0mrange\u001b[0m\u001b[1;33m(\u001b[0m\u001b[0mnum_epochs\u001b[0m\u001b[1;33m)\u001b[0m\u001b[1;33m:\u001b[0m\u001b[1;33m\u001b[0m\u001b[1;33m\u001b[0m\u001b[0m\n\u001b[0;32m     33\u001b[0m     \u001b[1;31m# Evaluate the gradient of the current parameters stored in params\u001b[0m\u001b[1;33m\u001b[0m\u001b[1;33m\u001b[0m\u001b[1;33m\u001b[0m\u001b[0m\n\u001b[1;32m---> 34\u001b[1;33m     \u001b[0mloss\u001b[0m \u001b[1;33m=\u001b[0m \u001b[0mcost\u001b[0m\u001b[1;33m(\u001b[0m\u001b[0mparams\u001b[0m\u001b[1;33m)\u001b[0m\u001b[1;33m\u001b[0m\u001b[1;33m\u001b[0m\u001b[0m\n\u001b[0m\u001b[0;32m     35\u001b[0m     \u001b[1;31m# print(loss)\u001b[0m\u001b[1;33m\u001b[0m\u001b[1;33m\u001b[0m\u001b[1;33m\u001b[0m\u001b[0m\n\u001b[0;32m     36\u001b[0m     \u001b[0moptimizer\u001b[0m\u001b[1;33m.\u001b[0m\u001b[0mzero_grad\u001b[0m\u001b[1;33m(\u001b[0m\u001b[1;33m)\u001b[0m\u001b[1;33m\u001b[0m\u001b[1;33m\u001b[0m\u001b[0m\n",
      "\u001b[1;32m<ipython-input-28-7db92d7cc61e>\u001b[0m in \u001b[0;36mcost\u001b[1;34m(params)\u001b[0m\n\u001b[0;32m     23\u001b[0m \u001b[1;33m\u001b[0m\u001b[0m\n\u001b[0;32m     24\u001b[0m \u001b[1;32mdef\u001b[0m \u001b[0mcost\u001b[0m\u001b[1;33m(\u001b[0m\u001b[0mparams\u001b[0m\u001b[1;33m)\u001b[0m\u001b[1;33m:\u001b[0m\u001b[1;33m\u001b[0m\u001b[1;33m\u001b[0m\u001b[0m\n\u001b[1;32m---> 25\u001b[1;33m     \u001b[0moutput\u001b[0m \u001b[1;33m=\u001b[0m \u001b[0mpredict\u001b[0m\u001b[1;33m(\u001b[0m\u001b[0mparams\u001b[0m\u001b[1;33m,\u001b[0m \u001b[0minputs\u001b[0m\u001b[1;33m)\u001b[0m\u001b[1;33m\u001b[0m\u001b[1;33m\u001b[0m\u001b[0m\n\u001b[0m\u001b[0;32m     26\u001b[0m     \u001b[1;32mreturn\u001b[0m \u001b[1;33m(\u001b[0m\u001b[1;36m1.0\u001b[0m \u001b[1;33m/\u001b[0m \u001b[0minputs\u001b[0m\u001b[1;33m.\u001b[0m\u001b[0mshape\u001b[0m\u001b[1;33m[\u001b[0m\u001b[1;36m0\u001b[0m\u001b[1;33m]\u001b[0m\u001b[1;33m)\u001b[0m \u001b[1;33m*\u001b[0m \u001b[0mtorch\u001b[0m\u001b[1;33m.\u001b[0m\u001b[0msum\u001b[0m\u001b[1;33m(\u001b[0m\u001b[1;36m0.5\u001b[0m \u001b[1;33m*\u001b[0m \u001b[1;33m(\u001b[0m\u001b[0moutput\u001b[0m\u001b[1;33m.\u001b[0m\u001b[0mreshape\u001b[0m\u001b[1;33m(\u001b[0m\u001b[0moutput\u001b[0m\u001b[1;33m.\u001b[0m\u001b[0mshape\u001b[0m\u001b[1;33m[\u001b[0m\u001b[1;36m0\u001b[0m\u001b[1;33m]\u001b[0m\u001b[1;33m)\u001b[0m \u001b[1;33m-\u001b[0m \u001b[0mt\u001b[0m\u001b[1;33m)\u001b[0m\u001b[1;33m**\u001b[0m\u001b[1;36m2\u001b[0m\u001b[1;33m)\u001b[0m\u001b[1;33m\u001b[0m\u001b[1;33m\u001b[0m\u001b[0m\n\u001b[0;32m     27\u001b[0m \u001b[1;33m\u001b[0m\u001b[0m\n",
      "\u001b[1;32m<ipython-input-28-7db92d7cc61e>\u001b[0m in \u001b[0;36mpredict\u001b[1;34m(params, inputs)\u001b[0m\n\u001b[0;32m     17\u001b[0m \u001b[1;33m\u001b[0m\u001b[0m\n\u001b[0;32m     18\u001b[0m \u001b[1;32mdef\u001b[0m \u001b[0mpredict\u001b[0m\u001b[1;33m(\u001b[0m\u001b[0mparams\u001b[0m\u001b[1;33m,\u001b[0m \u001b[0minputs\u001b[0m\u001b[1;33m)\u001b[0m\u001b[1;33m:\u001b[0m\u001b[1;33m\u001b[0m\u001b[1;33m\u001b[0m\u001b[0m\n\u001b[1;32m---> 19\u001b[1;33m     \u001b[0mh1\u001b[0m \u001b[1;33m=\u001b[0m \u001b[0mnonlinearity\u001b[0m\u001b[1;33m(\u001b[0m\u001b[0mtorch\u001b[0m\u001b[1;33m.\u001b[0m\u001b[0mmm\u001b[0m\u001b[1;33m(\u001b[0m\u001b[0minputs\u001b[0m\u001b[1;33m,\u001b[0m \u001b[0mparams\u001b[0m\u001b[1;33m[\u001b[0m\u001b[1;34m'W1'\u001b[0m\u001b[1;33m]\u001b[0m\u001b[1;33m)\u001b[0m \u001b[1;33m+\u001b[0m \u001b[0mparams\u001b[0m\u001b[1;33m[\u001b[0m\u001b[1;34m'b1'\u001b[0m\u001b[1;33m]\u001b[0m\u001b[1;33m)\u001b[0m\u001b[1;33m\u001b[0m\u001b[1;33m\u001b[0m\u001b[0m\n\u001b[0m\u001b[0;32m     20\u001b[0m     \u001b[0mh2\u001b[0m \u001b[1;33m=\u001b[0m \u001b[0mnonlinearity\u001b[0m\u001b[1;33m(\u001b[0m\u001b[0mtorch\u001b[0m\u001b[1;33m.\u001b[0m\u001b[0mmm\u001b[0m\u001b[1;33m(\u001b[0m\u001b[0mh1\u001b[0m\u001b[1;33m,\u001b[0m \u001b[0mparams\u001b[0m\u001b[1;33m[\u001b[0m\u001b[1;34m'W2'\u001b[0m\u001b[1;33m]\u001b[0m\u001b[1;33m)\u001b[0m \u001b[1;33m+\u001b[0m \u001b[0mparams\u001b[0m\u001b[1;33m[\u001b[0m\u001b[1;34m'b2'\u001b[0m\u001b[1;33m]\u001b[0m\u001b[1;33m)\u001b[0m\u001b[1;33m\u001b[0m\u001b[1;33m\u001b[0m\u001b[0m\n\u001b[0;32m     21\u001b[0m     \u001b[0moutput\u001b[0m \u001b[1;33m=\u001b[0m \u001b[0mtorch\u001b[0m\u001b[1;33m.\u001b[0m\u001b[0mmm\u001b[0m\u001b[1;33m(\u001b[0m\u001b[0mh2\u001b[0m\u001b[1;33m,\u001b[0m \u001b[0mparams\u001b[0m\u001b[1;33m[\u001b[0m\u001b[1;34m'W3'\u001b[0m\u001b[1;33m]\u001b[0m\u001b[1;33m)\u001b[0m \u001b[1;33m+\u001b[0m \u001b[0mparams\u001b[0m\u001b[1;33m[\u001b[0m\u001b[1;34m'b3'\u001b[0m\u001b[1;33m]\u001b[0m\u001b[1;33m\u001b[0m\u001b[1;33m\u001b[0m\u001b[0m\n",
      "\u001b[1;31mRuntimeError\u001b[0m: Expected object of scalar type Double but got scalar type Float for argument #2 'mat2' in call to _th_mm"
     ]
    }
   ],
   "source": [
    "inputs = x.reshape(x.shape[-1],1)\n",
    "W1 = torch.nn.Parameter(torch.randn(1,4))\n",
    "b1 =  torch.nn.Parameter(torch.randn(4))\n",
    "W2 =  torch.nn.Parameter(torch.randn(4,4))\n",
    "b2 = torch.nn.Parameter(torch.randn(4))\n",
    "W3 =  torch.nn.Parameter(torch.randn(4, 1))\n",
    "b3 =  torch.nn.Parameter(torch.randn(1))\n",
    "\n",
    "params = { 'W1': W1, 'b1': b1, 'W2': W2, 'b2': b2, 'W3': W3, 'b3': b3 }\n",
    "\n",
    "\n",
    "#We can define an optimizer which takes care of updating parameters based on their gradient. We can use more complex optimizers like SGD+Momntum or Adam.\n",
    "optimizer = torch.optim.SGD(params.values(), lr=0.0001, weight_decay=0.0001, momentum=0.9)\n",
    "\n",
    "#Pytorch also has implementation of wide range of activation functions such as: Tanh, ReLU, LeakyReLU, ...\n",
    "nonlinearity = torch.nn.ReLU()\n",
    "\n",
    "def predict(params, inputs):\n",
    "    h1 = nonlinearity(torch.mm(inputs, params['W1']) + params['b1'])\n",
    "    h2 = nonlinearity(torch.mm(h1, params['W2']) + params['b2'])\n",
    "    output = torch.mm(h2, params['W3']) + params['b3']\n",
    "    return output\n",
    "\n",
    "def cost(params):\n",
    "    output = predict(params, inputs)\n",
    "    return (1.0 / inputs.shape[0]) * torch.sum(0.5 * (output.reshape(output.shape[0]) - t)**2)\n",
    "\n",
    "# print(cost(params))\n",
    "\n",
    "num_epochs = 10000\n",
    "\n",
    "for i in range(num_epochs):\n",
    "    # Evaluate the gradient of the current parameters stored in params\n",
    "    loss = cost(params)\n",
    "    # print(loss)\n",
    "    optimizer.zero_grad()\n",
    "    loss.backward()\n",
    "    optimizer.step()\n",
    "\n",
    "with torch.no_grad():\n",
    "    final_y = predict(params, inputs)\n",
    "    plt.plot(x, t, 'r.')\n",
    "    plt.plot(x, final_y, 'b-')"
   ]
  },
  {
   "cell_type": "code",
   "execution_count": 0,
   "metadata": {
    "colab": {
     "base_uri": "https://localhost:8080/",
     "height": 282
    },
    "colab_type": "code",
    "id": "Jn-1Z0NcmYsA",
    "outputId": "5875bb05-86e2-48b2-9807-547475397693",
    "scrolled": true
   },
   "outputs": [
    {
     "data": {
      "text/plain": [
       "[<matplotlib.lines.Line2D at 0x7f6aaf6d9390>]"
      ]
     },
     "execution_count": 21,
     "metadata": {
      "tags": []
     },
     "output_type": "execute_result"
    },
    {
     "data": {
      "image/png": "[encoded data removed]",
      "text/plain": [
       "<Figure size 432x288 with 1 Axes>"
      ]
     },
     "metadata": {
      "tags": []
     },
     "output_type": "display_data"
    }
   ],
   "source": [
    "plt.plot(x, final_y, 'b-')"
   ]
  },
  {
   "cell_type": "markdown",
   "metadata": {
    "colab_type": "text",
    "id": "QPKpJ3UyanuH"
   },
   "source": [
    "Unlike Tensorflow, we can define the graph on the fly. That is why it is more convenient to define a function in Python: we call the function as part of constructing the graph.\n",
    "\n",
    "Let's now create a simple model for classifiying MNIST digits."
   ]
  },
  {
   "cell_type": "markdown",
   "metadata": {
    "colab_type": "text",
    "id": "lkdDq61Ea38-"
   },
   "source": [
    "##MNIST Classification"
   ]
  },
  {
   "cell_type": "markdown",
   "metadata": {
    "colab_type": "text",
    "id": "hiJiOPA5a-lu"
   },
   "source": [
    "MNIST is a famous dataset containing hand-written digits. The training set contains 60k and the test set contains 10k images. Pytorch has built-in functions for downloading well-known datasets like MNIST."
   ]
  },
  {
   "cell_type": "code",
   "execution_count": 25,
   "metadata": {
    "colab": {
     "base_uri": "https://localhost:8080/",
     "height": 513
    },
    "colab_type": "code",
    "id": "eeeIOIMha5da",
    "outputId": "7855870d-92d3-419a-e635-b9172ab46e34"
   },
   "outputs": [
    {
     "ename": "ModuleNotFoundError",
     "evalue": "No module named 'torchvision'",
     "output_type": "error",
     "traceback": [
      "\u001b[1;31m---------------------------------------------------------------------------\u001b[0m",
      "\u001b[1;31mModuleNotFoundError\u001b[0m                       Traceback (most recent call last)",
      "\u001b[1;32m<ipython-input-25-d9d6c87eda63>\u001b[0m in \u001b[0;36m<module>\u001b[1;34m\u001b[0m\n\u001b[1;32m----> 1\u001b[1;33m \u001b[1;32mfrom\u001b[0m \u001b[0mtorchvision\u001b[0m \u001b[1;32mimport\u001b[0m \u001b[0mdatasets\u001b[0m\u001b[1;33m,\u001b[0m \u001b[0mtransforms\u001b[0m\u001b[1;33m\u001b[0m\u001b[1;33m\u001b[0m\u001b[0m\n\u001b[0m\u001b[0;32m      2\u001b[0m \u001b[1;33m\u001b[0m\u001b[0m\n\u001b[0;32m      3\u001b[0m mnist_train = datasets.MNIST('data', train=True, download=True,\n\u001b[0;32m      4\u001b[0m                        transform=transforms.ToTensor())\n\u001b[0;32m      5\u001b[0m \u001b[1;33m\u001b[0m\u001b[0m\n",
      "\u001b[1;31mModuleNotFoundError\u001b[0m: No module named 'torchvision'"
     ]
    }
   ],
   "source": [
    "from torchvision import datasets, transforms\n",
    "\n",
    "mnist_train = datasets.MNIST('data', train=True, download=True,\n",
    "                       transform=transforms.ToTensor())\n",
    "\n",
    "mnist_test = datasets.MNIST('../data', train=False, download=True, transform=\n",
    "                            transforms.ToTensor())"
   ]
  },
  {
   "cell_type": "code",
   "execution_count": 0,
   "metadata": {
    "colab": {
     "base_uri": "https://localhost:8080/",
     "height": 221
    },
    "colab_type": "code",
    "id": "nTdP7vjzb35H",
    "outputId": "37165ce6-13ed-43fb-adda-d1b73fbbad65"
   },
   "outputs": [
    {
     "name": "stdout",
     "output_type": "stream",
     "text": [
      "Dataset MNIST\n",
      "    Number of datapoints: 60000\n",
      "    Root location: data\n",
      "    Split: Train\n",
      "    StandardTransform\n",
      "Transform: ToTensor()\n",
      "Dataset MNIST\n",
      "    Number of datapoints: 10000\n",
      "    Root location: ../data\n",
      "    Split: Test\n",
      "    StandardTransform\n",
      "Transform: ToTensor()\n"
     ]
    }
   ],
   "source": [
    "print(mnist_train)\n",
    "print(mnist_test)"
   ]
  },
  {
   "cell_type": "code",
   "execution_count": 0,
   "metadata": {
    "colab": {
     "base_uri": "https://localhost:8080/",
     "height": 282
    },
    "colab_type": "code",
    "id": "1dWTw-Rgbh5O",
    "outputId": "b19feac0-8842-45a4-cf4e-b10354777392"
   },
   "outputs": [
    {
     "name": "stdout",
     "output_type": "stream",
     "text": [
      "Label:  7\n"
     ]
    },
    {
     "data": {
      "image/png": "[encoded data removed]",
      "text/plain": [
       "<Figure size 432x288 with 1 Axes>"
      ]
     },
     "metadata": {
      "tags": []
     },
     "output_type": "display_data"
    }
   ],
   "source": [
    "i = npr.randint(1, 50000) \n",
    "example = mnist_train[i]\n",
    "print(\"Label: \", example[1])\n",
    "plt.imshow(example[0].reshape((28,28)), cmap = plt.cm.gray)\n",
    "plt.grid(None)"
   ]
  },
  {
   "cell_type": "markdown",
   "metadata": {
    "colab_type": "text",
    "id": "F5cYaF7PcB7v"
   },
   "source": [
    "Pytorch's DataLoader is responsible for creating an iterator over the dataset.  "
   ]
  },
  {
   "cell_type": "code",
   "execution_count": 0,
   "metadata": {
    "colab": {
     "base_uri": "https://localhost:8080/",
     "height": 231
    },
    "colab_type": "code",
    "id": "4WDyu63wcV3Z",
    "outputId": "2160a2b1-c814-47de-fc8d-88ce272bebf2"
   },
   "outputs": [
    {
     "data": {
      "image/png": "[encoded data removed]",
      "text/plain": [
       "<Figure size 576x576 with 1 Axes>"
      ]
     },
     "metadata": {
      "tags": []
     },
     "output_type": "display_data"
    }
   ],
   "source": [
    "from torch.utils.data import DataLoader\n",
    "import torchvision\n",
    "\n",
    "mnist_train = datasets.MNIST('data', train=True, download=True,\n",
    "                       transform=transforms.ToTensor())\n",
    "\n",
    "mnist_test = datasets.MNIST('data', train=False, download=True, transform=\n",
    "                            transforms.ToTensor())\n",
    "\n",
    "bs = 32\n",
    "train_dl = DataLoader(mnist_train, batch_size=bs)\n",
    "test_dl = DataLoader(mnist_test, batch_size = 100)\n",
    "\n",
    "dataiter = iter(train_dl)\n",
    "images, labels = dataiter.next()\n",
    "viz = torchvision.utils.make_grid(images, nrow=10, padding = 2).numpy()\n",
    "fig, ax = plt.subplots(figsize= (8,8))\n",
    "ax.imshow(np.transpose(viz, (1,2,0)))\n",
    "ax.grid(None)"
   ]
  },
  {
   "cell_type": "markdown",
   "metadata": {
    "colab_type": "text",
    "id": "779GU7DKdVbn"
   },
   "source": [
    "Using pytorch built-in function we can easily define any model like multi-layer perceptrons. After training, we just care about the average test accuracy, so let's write a function to compute the accuracy over test set."
   ]
  },
  {
   "cell_type": "code",
   "execution_count": 0,
   "metadata": {
    "colab": {},
    "colab_type": "code",
    "id": "2Led8bErdZrw"
   },
   "outputs": [],
   "source": [
    "def get_test_stat(model, dl, device):\n",
    "    model.eval()\n",
    "    cum_loss, cum_acc = 0.0, 0.0\n",
    "    for i, (xb, yb) in enumerate(dl):\n",
    "        xb = xb.to(device)\n",
    "        yb = yb.to(device)\n",
    "        \n",
    "        xb = xb.view(xb.size(0), -1)\n",
    "        y_pred = model(xb)\n",
    "        loss = loss_fn(y_pred, yb)\n",
    "        acc = (torch.max(y_pred.data, 1)[1] == yb).sum() #accuracy(y_pred, yb)\n",
    "        cum_loss += loss.item() * len(yb)\n",
    "        cum_acc += acc.item() * len(yb)\n",
    "    cum_loss /= 10000\n",
    "    cum_acc /= 10000\n",
    "    model.train()\n",
    "    return cum_loss, cum_acc"
   ]
  },
  {
   "cell_type": "code",
   "execution_count": 0,
   "metadata": {
    "colab": {
     "base_uri": "https://localhost:8080/",
     "height": 85
    },
    "colab_type": "code",
    "id": "ohxuCpR9eLGt",
    "outputId": "bf710e4d-25eb-4595-c66a-8f340947cde2"
   },
   "outputs": [
    {
     "name": "stdout",
     "output_type": "stream",
     "text": [
      "0\n",
      "Test loss: 0.40868745774030685  Test acc: 88.95\n",
      "1\n",
      "Test loss: 0.32542646139860154  Test acc: 90.89\n"
     ]
    }
   ],
   "source": [
    "dim_x = 784\n",
    "dim_h = 100\n",
    "dim_out = 10\n",
    "\n",
    "model = torch.nn.Sequential(\n",
    "    torch.nn.Linear(dim_x, dim_h),\n",
    "    torch.nn.ReLU(),\n",
    "    torch.nn.Linear(dim_h, dim_out),\n",
    ")\n",
    "\n",
    "learning_rate = 1e-2\n",
    "epochs = 2\n",
    "\n",
    "optimizer = torch.optim.SGD(model.parameters(), lr=learning_rate)\n",
    "\n",
    "# Using GPUs in PyTorch is pretty straightforward\n",
    "if torch.cuda.is_available():\n",
    "    print(\"Using cuda\")\n",
    "    use_cuda = True\n",
    "    device = torch.device(\"cuda\")\n",
    "else:\n",
    "    device = \"cpu\"\n",
    "\n",
    "#we need to tell pytorch to move the model to gpu\n",
    "model.to(device)\n",
    "\n",
    "loss_fn = torch.nn.CrossEntropyLoss()\n",
    "\n",
    "model.train()\n",
    "for epoch in range(epochs):\n",
    "    print(epoch)\n",
    "    for i, (xb, yb) in enumerate(train_dl):\n",
    "\n",
    "        #We also need to transfer the data to the target device\n",
    "        xb = xb.to(device)\n",
    "        yb = yb.to(device)\n",
    "        xb = xb.view(xb.size(0), -1)\n",
    "        \n",
    "        # Forward pass\n",
    "        y_pred = model(xb)\n",
    "        loss = loss_fn(y_pred, yb)\n",
    "\n",
    "        # Backward pass\n",
    "        model.zero_grad()  # Zero out the previous gradient computation\n",
    "        loss.backward()    # Compute the gradient\n",
    "        optimizer.step()   # Use the gradient information to make a step\n",
    "        \n",
    "    test_loss, test_acc = get_test_stat(model, test_dl, device)\n",
    "    print(\"Test loss: {}  Test acc: {}\".format(test_loss, test_acc))\n"
   ]
  },
  {
   "cell_type": "markdown",
   "metadata": {
    "colab_type": "text",
    "id": "nSTuUZlRgeUD"
   },
   "source": [
    "## Dynamic Network"
   ]
  },
  {
   "cell_type": "markdown",
   "metadata": {
    "colab_type": "text",
    "id": "Ji_qMWsOgbbj"
   },
   "source": [
    "To showcase the power of PyTorch dynamic graphs, we will implement a very strange model: a fully-connected ReLU network that on each forward pass randomly chooses a number between 1 and 4 and has that many hidden layers, reusing the same weights multiple times to compute the innermost hidden layers.\n",
    "\n",
    "By Justin Johnson https://github.com/jcjohnson/pytorch-examples/blob/master/nn/dynamic_net.py"
   ]
  },
  {
   "cell_type": "code",
   "execution_count": 0,
   "metadata": {
    "colab": {
     "base_uri": "https://localhost:8080/",
     "height": 901
    },
    "colab_type": "code",
    "id": "D5dRsCN9gnvU",
    "outputId": "53d5f259-33e5-471a-c77c-3a4e311e3202"
   },
   "outputs": [
    {
     "name": "stdout",
     "output_type": "stream",
     "text": [
      "0 75.55640411376953\n",
      "1 70.62905883789062\n",
      "2 68.52175903320312\n",
      "3 67.78900146484375\n",
      "4 67.55087280273438\n",
      "5 64.86112213134766\n",
      "6 65.32463073730469\n",
      "7 64.64488983154297\n",
      "8 63.54672622680664\n",
      "9 55.22225570678711\n",
      "10 61.446903228759766\n",
      "11 52.19249725341797\n",
      "12 61.66746520996094\n",
      "13 49.172584533691406\n",
      "14 46.79412078857422\n",
      "15 62.26521682739258\n",
      "16 36.166812896728516\n",
      "17 61.603309631347656\n",
      "18 60.44231414794922\n",
      "19 60.42289733886719\n",
      "20 58.4093132019043\n",
      "21 39.76520538330078\n",
      "22 15.52701187133789\n",
      "23 14.356389999389648\n",
      "24 50.251373291015625\n",
      "25 47.5118408203125\n",
      "26 12.718317031860352\n",
      "27 40.992271423339844\n",
      "28 37.508750915527344\n",
      "29 33.78058624267578\n",
      "30 14.939048767089844\n",
      "31 14.200834274291992\n",
      "32 30.23629379272461\n",
      "33 25.431053161621094\n",
      "34 8.687077522277832\n",
      "35 7.065875053405762\n",
      "36 23.72148895263672\n",
      "37 5.090020656585693\n",
      "38 22.105833053588867\n",
      "39 21.376110076904297\n",
      "40 20.54547119140625\n",
      "41 7.041802406311035\n",
      "42 18.9364013671875\n",
      "43 8.251858711242676\n",
      "44 17.38003158569336\n",
      "45 7.78367280960083\n",
      "46 16.413854598999023\n",
      "47 6.391036510467529\n",
      "48 15.602258682250977\n",
      "49 17.063106536865234\n"
     ]
    },
    {
     "name": "stderr",
     "output_type": "stream",
     "text": [
      "/usr/local/lib/python3.6/dist-packages/torch/nn/_reduction.py:43: UserWarning: size_average and reduce args will be deprecated, please use reduction='sum' instead.\n",
      "  warnings.warn(warning.format(ret))\n"
     ]
    }
   ],
   "source": [
    "import random\n",
    "\n",
    "\n",
    "class DynamicNet(torch.nn.Module):\n",
    "    def __init__(self, D_in, H, D_out):\n",
    "        \"\"\"\n",
    "        In the constructor we construct three nn.Linear instances that we will use\n",
    "        in the forward pass.\n",
    "        \"\"\"\n",
    "        super(DynamicNet, self).__init__()\n",
    "        self.input_linear = torch.nn.Linear(D_in, H)\n",
    "        self.middle_linear = torch.nn.Linear(H, H)\n",
    "        self.output_linear = torch.nn.Linear(H, D_out)\n",
    "\n",
    "    def forward(self, x, verbose = False):\n",
    "        \"\"\"\n",
    "        For the forward pass of the model, we randomly choose either 0, 1, 2, or 3\n",
    "        and reuse the middle_linear Module that many times to compute hidden layer\n",
    "        representations.\n",
    "        Since each forward pass builds a dynamic computation graph, we can use normal\n",
    "        Python control-flow operators like loops or conditional statements when\n",
    "        defining the forward pass of the model.\n",
    "        Here we also see that it is perfectly safe to reuse the same Module many\n",
    "        times when defining a computational graph. This is a big improvement from Lua\n",
    "        Torch, where each Module could be used only once.\n",
    "        \"\"\"\n",
    "        h_relu = self.input_linear(x).clamp(min=0)\n",
    "        n_layers = random.randint(0, 3)\n",
    "        if verbose:\n",
    "            print(\"The number of layers for this run is\", n_layers)\n",
    "            # print(h_relu)\n",
    "        for _ in range(n_layers):\n",
    "            h_relu = self.middle_linear(h_relu).clamp(min=0)\n",
    "            if verbose:\n",
    "                pass\n",
    "                # print(h_relu)\n",
    "        y_pred = self.output_linear(h_relu)\n",
    "        return y_pred\n",
    "\n",
    "\n",
    "\n",
    "\n",
    "# N is batch size; D_in is input dimension;\n",
    "# H is hidden dimension; D_out is output dimension.\n",
    "N, D_in, H, D_out = 64, 1000, 10, 1\n",
    "\n",
    "# Create random Tensors to hold inputs and outputs, and wrap them in Variables\n",
    "x = torch.randn(N, D_in)\n",
    "y = torch.randn(N, D_out).requires_grad_(False)\n",
    "\n",
    "# Construct our model by instantiating the class defined above\n",
    "model = DynamicNet(D_in, H, D_out)\n",
    "\n",
    "# Construct our loss function and an Optimizer. Training this strange model with\n",
    "# vanilla stochastic gradient descent is tough, so we use momentum\n",
    "criterion = torch.nn.MSELoss(size_average=False)\n",
    "optimizer = torch.optim.SGD(model.parameters(), lr=1e-4, momentum=0.9)\n",
    "for t in range(50):\n",
    "    # Forward pass: Compute predicted y by passing x to the model\n",
    "    y_pred = model(x)\n",
    "\n",
    "    # Compute and print loss\n",
    "    loss = criterion(y_pred, y)\n",
    "    print(t, loss.data.item())\n",
    "\n",
    "    # Zero gradients, perform a backward pass, and update the weights.\n",
    "    optimizer.zero_grad()\n",
    "    loss.backward()\n",
    "    optimizer.step()"
   ]
  },
  {
   "cell_type": "markdown",
   "metadata": {
    "colab_type": "text",
    "id": "FX-mRC_5iNvs"
   },
   "source": [
    "## Cifar10 Classification"
   ]
  },
  {
   "cell_type": "markdown",
   "metadata": {
    "colab_type": "text",
    "id": "KVftofphh-ng"
   },
   "source": [
    "We will finish with an example on CIFAR10, highlighting the importance of applying transformations to your inputs. Example is lifted from:\n",
    "\n",
    "https://github.com/uoguelph-mlrg/Cutout/blob/master/train.py"
   ]
  },
  {
   "cell_type": "code",
   "execution_count": 0,
   "metadata": {
    "colab": {},
    "colab_type": "code",
    "id": "9iAw2caKiW97"
   },
   "outputs": [],
   "source": [
    "import torch.nn as nn\n",
    "import torch.nn.functional as F\n",
    "\n",
    "class Net(nn.Module):\n",
    "    def __init__(self):\n",
    "        super(Net, self).__init__()\n",
    "        self.conv1 = nn.Conv2d(3, 6, 5)\n",
    "        self.pool = nn.MaxPool2d(2, 2)\n",
    "        self.conv2 = nn.Conv2d(6, 16, 5)\n",
    "        self.fc1 = nn.Linear(16 * 5 * 5, 120)\n",
    "        self.fc2 = nn.Linear(120, 120)\n",
    "        self.fc3 = nn.Linear(120, 10)\n",
    "\n",
    "    def forward(self, x):\n",
    "        x = self.pool(F.relu(self.conv1(x)))\n",
    "        x = self.pool(F.relu(self.conv2(x)))\n",
    "        x = x.view(-1, 16 * 5 * 5)\n",
    "        x = F.relu(self.fc1(x))\n",
    "        x = F.relu(self.fc2(x))\n",
    "        x = self.fc3(x)\n",
    "        return x"
   ]
  },
  {
   "cell_type": "code",
   "execution_count": 0,
   "metadata": {
    "colab": {},
    "colab_type": "code",
    "id": "A3p2SQViibIc"
   },
   "outputs": [],
   "source": [
    "def get_data(data_normalize=False, data_augment=False):\n",
    " \n",
    "    train_transform = transforms.Compose([])\n",
    "    test_transform = transforms.Compose([])\n",
    "\n",
    "    if data_augment:\n",
    "        train_transform.transforms.append(transforms.RandomCrop(32, padding=4))\n",
    "        train_transform.transforms.append(transforms.RandomHorizontalFlip())\n",
    "    \n",
    "    train_transform.transforms.append(transforms.ToTensor())\n",
    "    test_transform.transforms.append(transforms.ToTensor())\n",
    "        \n",
    "    if data_normalize:\n",
    "        normalize = transforms.Normalize(mean=[x / 255.0 for x in [125.3, 123.0, 113.9]],\n",
    "                                         std=[x / 255.0 for x in [63.0, 62.1, 66.7]])\n",
    "        train_transform.transforms.append(normalize)\n",
    "        test_transform.transforms.append(normalize)\n",
    "\n",
    "  \n",
    "    train_dataset = datasets.CIFAR10(root='data/',\n",
    "                                     train=True,\n",
    "                                     transform=train_transform,\n",
    "                                     download=True)\n",
    "\n",
    "    test_dataset = datasets.CIFAR10(root='data/',\n",
    "                                    train=False,\n",
    "                                    transform=test_transform,\n",
    "                                    download=True)\n",
    "    train_loader = torch.utils.data.DataLoader(dataset=train_dataset,\n",
    "                                               batch_size=128,\n",
    "                                               shuffle=True,\n",
    "                                               num_workers=2)\n",
    "\n",
    "    test_loader = torch.utils.data.DataLoader(dataset=test_dataset,\n",
    "                                              batch_size=128,\n",
    "                                              shuffle=False,\n",
    "                                              num_workers=2)\n",
    "    return train_loader, test_loader\n",
    "\n",
    "def test(net, loader):\n",
    "    net.eval()    # Change model to 'eval' mode (BN uses moving mean/var).\n",
    "    correct = 0.\n",
    "    total = 0.\n",
    "    for images, labels in loader:\n",
    "        with torch.no_grad():\n",
    "            pred = net(images)\n",
    "\n",
    "        pred = torch.max(pred.data, 1)[1]\n",
    "        total += labels.size(0)\n",
    "        correct += (pred == labels).sum().item()\n",
    "\n",
    "    val_acc = correct / total\n",
    "    net.train()\n",
    "    return val_acc"
   ]
  },
  {
   "cell_type": "code",
   "execution_count": 0,
   "metadata": {
    "colab": {},
    "colab_type": "code",
    "id": "-GR395vyihIU"
   },
   "outputs": [],
   "source": [
    "def train_model(train_loader, test_loader, epochs=5):\n",
    "    \n",
    "    net = Net()\n",
    "    optimizer = torch.optim.SGD(net.parameters(), lr=0.1, momentum=0.9) \n",
    "    criterion = nn.CrossEntropyLoss()\n",
    "    train_accs = []\n",
    "    test_accs = []\n",
    "    \n",
    "    net.train()\n",
    "\n",
    "    for epoch in range(epochs):\n",
    "        print(epoch)\n",
    "\n",
    "        xentropy_loss_avg = 0.\n",
    "        correct = 0.\n",
    "        total = 0.\n",
    "\n",
    "        for i, (images, labels) in enumerate(train_loader):\n",
    "           \n",
    "            net.zero_grad()\n",
    "            pred = net(images)\n",
    "            xentropy_loss = criterion(pred, labels)\n",
    "            xentropy_loss.backward()\n",
    "            optimizer.step()\n",
    "\n",
    "            xentropy_loss_avg += xentropy_loss.item()\n",
    "\n",
    "            # Calculate running average of accuracy\n",
    "            pred = torch.max(pred.data, 1)[1]\n",
    "            total += labels.size(0)\n",
    "            correct += (pred == labels.data).sum().item()\n",
    "            accuracy = correct / total\n",
    "        \n",
    "        test_acc = test(net, test_loader)\n",
    "        print(\"Test acc: \", test_acc)\n",
    "        train_accs.append(accuracy)\n",
    "        test_accs.append(test_acc)\n",
    "    return train_accs, test_accs"
   ]
  },
  {
   "cell_type": "code",
   "execution_count": 0,
   "metadata": {
    "colab": {
     "base_uri": "https://localhost:8080/",
     "height": 187
    },
    "colab_type": "code",
    "id": "MADQb81UijK7",
    "outputId": "de18d442-5354-4099-95c1-6ab26a4cba3e"
   },
   "outputs": [
    {
     "name": "stderr",
     "output_type": "stream",
     "text": [
      "\r",
      "0it [00:00, ?it/s]"
     ]
    },
    {
     "name": "stdout",
     "output_type": "stream",
     "text": [
      "Downloading https://www.cs.toronto.edu/~kriz/cifar-10-python.tar.gz to data/cifar-10-python.tar.gz\n"
     ]
    },
    {
     "name": "stderr",
     "output_type": "stream",
     "text": [
      "170500096it [00:02, 73630492.24it/s]                               \n"
     ]
    },
    {
     "name": "stdout",
     "output_type": "stream",
     "text": [
      "Extracting data/cifar-10-python.tar.gz to data/\n",
      "Files already downloaded and verified\n",
      "0\n",
      "Test acc:  0.2835\n",
      "1\n",
      "Test acc:  0.3006\n",
      "2\n",
      "Test acc:  0.3557\n"
     ]
    }
   ],
   "source": [
    "train_loader, test_loader = get_data(data_augment=False, data_normalize=False)\n",
    "train_accs, test_accs = train_model(train_loader, test_loader, epochs=3)"
   ]
  },
  {
   "cell_type": "code",
   "execution_count": 0,
   "metadata": {
    "colab": {
     "base_uri": "https://localhost:8080/",
     "height": 153
    },
    "colab_type": "code",
    "id": "UnYCP-REikzs",
    "outputId": "661de97c-cc2f-4c88-9dc9-49fcf1db96a2"
   },
   "outputs": [
    {
     "name": "stdout",
     "output_type": "stream",
     "text": [
      "Files already downloaded and verified\n",
      "Files already downloaded and verified\n",
      "0\n",
      "Test acc:  0.3884\n",
      "1\n",
      "Test acc:  0.4332\n",
      "2\n",
      "Test acc:  0.4502\n"
     ]
    }
   ],
   "source": [
    "train_loader, test_loader = get_data(data_augment=False, data_normalize=True)\n",
    "normalize_train_accs, normalize_test_accs = train_model(train_loader, test_loader, epochs=3)"
   ]
  },
  {
   "cell_type": "code",
   "execution_count": 0,
   "metadata": {
    "colab": {
     "base_uri": "https://localhost:8080/",
     "height": 295
    },
    "colab_type": "code",
    "id": "aRwFghLzimSJ",
    "outputId": "adf16f14-c354-4bfd-a9d7-f97b4d8bc759"
   },
   "outputs": [
    {
     "data": {
      "image/png": "[encoded data removed]",
      "text/plain": [
       "<Figure size 432x288 with 1 Axes>"
      ]
     },
     "metadata": {
      "tags": []
     },
     "output_type": "display_data"
    }
   ],
   "source": [
    "fig, ax = plt.subplots()\n",
    "epochs = 3\n",
    "ax.plot(range(epochs), train_accs, c=\"blue\", label=\"no input normalization\")\n",
    "ax.plot(range(epochs), normalize_train_accs, c=\"red\", label=\"input normalization\")\n",
    "ax.legend()\n",
    "ax.set_xlabel(\"Epochs\")\n",
    "ax.set_ylabel(\"Accuracy\")\n",
    "ax.set_title(\"Train Accuracy\")\n",
    "fig.show()"
   ]
  }
 ],
 "metadata": {
  "colab": {
   "collapsed_sections": [],
   "name": "autograd_tutorial.ipynb",
   "provenance": []
  },
  "hide_input": false,
  "kernelspec": {
   "display_name": "Python 3",
   "language": "python",
   "name": "python3"
  },
  "language_info": {
   "codemirror_mode": {
    "name": "ipython",
    "version": 3
   },
   "file_extension": ".py",
   "mimetype": "text/x-python",
   "name": "python",
   "nbconvert_exporter": "python",
   "pygments_lexer": "ipython3",
   "version": "3.7.4"
  }
 },
 "nbformat": 4,
 "nbformat_minor": 1
}
