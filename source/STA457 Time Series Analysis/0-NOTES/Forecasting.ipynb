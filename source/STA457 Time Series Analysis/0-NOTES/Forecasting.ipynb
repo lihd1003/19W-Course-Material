{
 "cells": [
  {
   "cell_type": "markdown",
   "metadata": {},
   "source": [
    "#### Minimized MSE Forecasts for ARMA models\n",
    "Consider a stationary ARMA model (casual and invertible)  \n",
    "$$\\Phi(B)X_t = \\Theta(B)a_t$$  \n",
    "Rewrite as a MA process\n",
    "$$X_t = \\Psi(B)a_t$$\n"
   ]
  },
  {
   "cell_type": "markdown",
   "metadata": {},
   "source": [
    "Then, for $t = n + h$, \n",
    "$$X_{n+h}=\\sum^\\infty_0 \\psi_i a_{n+ h - i}$$\n",
    "Suppose we have observations till $X_n, X_{n-1},...$ and wish to forecast $h$ step ahead of future values $X_{n+h}$ as a lin.comb. of the observations. Then, we define the mean square error forecaster \n",
    "$$\\hat X_t(h):= \\sum_{i=0}^\\infty \\hat\\psi_i a_{t-i}$$\n",
    "where $\\hat\\psi_i$ are parameters to be determined.  "
   ]
  },
  {
   "cell_type": "markdown",
   "metadata": {},
   "source": [
    "Then MSE of the forecast is   \n",
    "$E(X_{t+h} - \\hat X_t(h))^2  = E(\\sum^\\infty \\psi_i a_{t+h-i} - \\sum^\\infty \\hat\\psi_i a _{t-i})$  \n",
    "$= E(\\sum^{j-1}\\psi_i a_{t+h-i}) + \\sum^\\infty (\\psi_{h+i} + \\hat\\psi_i)a_{t-i})^2$  \n",
    "$= \\sigma^2 \\sum^{h-1} \\psi_i^2 + \\sigma^2 \\sum^\\infty (\\psi_{h+i-\\hat\\psi_i})^2$  \n",
    "\n",
    "$argmin(E(X_{t+h} - \\hat X_t(h))^2)=argmin(\\sum^\\infty (\\psi_{h+i-\\hat\\psi_i})^2)$  \n",
    "$\\Rightarrow \\psi_{h+i} = \\hat\\psi_i$"
   ]
  },
  {
   "cell_type": "markdown",
   "metadata": {},
   "source": [
    "__Rule of calculating conditional expectation__   \n",
    "$$E_t(X_{t+h}) := E(X_{t+h}\\mid X_t, X_{t-1}, ...) = E(\\sum^\\infty \\psi_i a_{t+h-i}\\mid X_t, X_{t-1},...)$$\n",
    "Using the fact that $a_i$'s are uncorrelated\n",
    "$$E(X_{t+h}\\mid X_t, X_{t-1}, ...) =\\sum^\\infty \\psi_{h+i}a_{t-i} = \\hat X_t(h)$$\n",
    "\n",
    "For $h > 0$, \n",
    "$$E_t(X+h) = \\hat X_t (h)$$\n",
    "$$E_t(X_{t-h}) = X_{t-h}$$\n",
    "$$E_t(a_{t+h})=E(a_{t+h}) = 0$$\n",
    "$$E_t(a_{t-h}) = X_{t-h} - \\hat X_{t-h-1} = X_{t-h} - E_{t-h-1}(X_{t-h})$$"
   ]
  },
  {
   "cell_type": "markdown",
   "metadata": {},
   "source": [
    "__Example__ Consider a AR(1) model $X_t = 0.5X_{t-1} + a_t$. Then  \n",
    "$$\\hat X_t(1)  = E_t(X_{t+1}) = 0.5 E_t(X_t) + E_t(a_{t+1}) = 0.5E_t(X_t) = 0.5X_t$$ \n",
    "$$\\hat X_t(h) = 0.5 E_t(X_{t+h-1}) + E_t(a_{t+h}) = 0.5 \\hat X_t(h-1) = 0.5^h X_t$$"
   ]
  }
 ],
 "metadata": {
  "hide_input": false,
  "kernelspec": {
   "display_name": "R",
   "language": "R",
   "name": "ir"
  },
  "language_info": {
   "codemirror_mode": "r",
   "file_extension": ".r",
   "mimetype": "text/x-r-source",
   "name": "R",
   "pygments_lexer": "r",
   "version": "3.5.2"
  }
 },
 "nbformat": 4,
 "nbformat_minor": 2
}
