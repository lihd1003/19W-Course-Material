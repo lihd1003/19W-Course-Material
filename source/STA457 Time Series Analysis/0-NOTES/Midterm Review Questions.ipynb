{
 "cells": [
  {
   "cell_type": "markdown",
   "metadata": {},
   "source": [
    "## Introduction\n"
   ]
  },
  {
   "cell_type": "markdown",
   "metadata": {},
   "source": [
    "1. Weak stationarity\n",
    " - Constant finite mean\n",
    " - Constant finite variance\n",
    " - the covariance is only a function of lag (time difference) instead of time dependent"
   ]
  },
  {
   "cell_type": "markdown",
   "metadata": {},
   "source": [
    "2. Classical decomposition\n",
    " - Trend\n",
    " - Seasonal variation\n",
    " - Cyclic variation\n",
    " - irregular components"
   ]
  },
  {
   "cell_type": "markdown",
   "metadata": {},
   "source": [
    "3. Steps of modeling\n",
    "\n",
    " - Plot and check for trend, seasonal, cyclic, and irregular components\n",
    " - Remove trend and seasonal component to get residuals\n",
    " - Choose to model to fit residuals\n",
    " - Forecasting carried out by forecasting residuals and then inverting the transformations carried out in step 2. "
   ]
  },
  {
   "cell_type": "markdown",
   "metadata": {},
   "source": [
    "4. $x_t = \\frac{a_t}{3} + \\frac{a_{t-1}}{3}, a_t \\sim NID(0, \\sigma^2)$   \n",
    "  $y_t = \\frac{x_t}{2} - \\frac{x_{t-2}}{2}$  "
   ]
  },
  {
   "cell_type": "markdown",
   "metadata": {},
   "source": [
    "$\\gamma_x(0)=cov(x_t, x_t)$  \n",
    "$=\\frac{1}{9}cov(a_t + a_{t-1}, a_t + a_{t-1})$  \n",
    "$=\\frac{1}{9}( E(a_t a_t) + 2E(a_ta_{t-1}) + E(a_{t-1}a_{t-1}))$  \n",
    "$=\\frac{1}{9}(\\sigma^2 + \\sigma^2) = \\frac{2\\sigma^2}{9}$\n",
    "\n",
    "$\\gamma_x(1)=cov(x_t, x_{t-1})$  \n",
    "$=\\frac{1}{9}cov(a_t + a_{t-1}, a_{t-1} + a_{t-2})$  \n",
    "$=\\frac{1}{9}( E(a_t a_{t-1}) + E(a_ta_{t-2}) + E(a_{t-1}a_{t-1}) + E(a_{t-1}a_{t-2}))$  \n",
    "$=\\frac{\\sigma^2}{9}$\n",
    "\n",
    "$\\gamma_x(h)=cov(x_t, x_{t-h})$  \n",
    "$=\\frac{1}{9}cov(a_t + a_{t-1}, a_{t-h-1} + a_{t-h-2})$  \n",
    "$=\\frac{1}{9}( E(a_t a_{t-h-1}) + E(a_ta_{t-h-2}) + E(a_{t-1}a_{t-h-1}) + E(a_{t-1}a_{t-h-2}))$  \n",
    "$=0, \\forall h \\geq 2$"
   ]
  },
  {
   "cell_type": "markdown",
   "metadata": {},
   "source": [
    "$\\gamma_y(0) = cov(y_t, y_t)$  \n",
    "$= \\frac{1}{4} cov(x_t - x_{t-2}, x_t - x_{t-2})$  \n",
    "$= \\frac{1}{4} E(x_tx_t - 2x_t x_{t-2}+x_{t-2}^2)$ since $x_t$ is a lin comb. of $a_t, E(X_t) = 0$  \n",
    "$=\\frac{1}{4}(2\\gamma_x(0)) = \\frac{\\sigma^2}{9}$  \n",
    "\n",
    "$\\gamma_y(1) = cov(y_t, y_{t-1})$  \n",
    "$= \\frac{1}{4} cov(x_t - x_{t-2}, x_{t-1} - x_{t-3})$  \n",
    "$= \\frac{1}{4} E(x_tx_{t-1} - x_t x_{t-3} - x_{t-1}x_{t-2}+x_{t-2}x_{t-3})$  \n",
    "$=\\frac{1}{4}(\\gamma_x(1)) = \\frac{\\sigma^2}{36}$  \n",
    "\n",
    "$\\gamma_y(2) = cov(y_t, y_{t-2})$  \n",
    "$= \\frac{1}{4} cov(x_t - x_{t-2}, x_{t-2} - x_{t-4})$  \n",
    "$= \\frac{1}{4} E(x_tx_{t-2} - x_t x_{t-4} - x_{t-2}x_{t-2}+x_{t-2}x_{t-4})$  \n",
    "$=\\frac{1}{4}(-\\gamma_x(0)) = \\frac{-\\sigma^2}{18}$  \n",
    "\n",
    "$\\gamma_y(3) = cov(y_t, y_{t-3})$  \n",
    "$= \\frac{1}{4} cov(x_t - x_{t-2}, x_{t-3} - x_{t-5})$  \n",
    "$= \\frac{1}{4} E(x_tx_{t-3} - x_t x_{t-5} - x_{t-2}x_{t-3}+x_{t-2}x_{t-5})$  \n",
    "$=\\frac{1}{4}(-\\gamma_x(1)) = \\frac{-\\sigma^2}{36}$  \n",
    "\n",
    "$\\gamma_y(h) = cov(y_t, y_{t-h})$  \n",
    "$= \\frac{1}{4} cov(x_t - x_{t-2}, x_{t-h-1} - x_{t-h-3})$  \n",
    "$= \\frac{1}{4} E(x_tx_{t-h-1} - x_t x_{t-h-3} - x_{t-2}x_{t-h-1}+x_{t-2}x_{t-h-3})$  \n",
    "$=0, \\forall h \\geq 4$  \n"
   ]
  },
  {
   "cell_type": "markdown",
   "metadata": {},
   "source": [
    "PCAF for $y$  \n",
    "\n",
    "$\\rho_1 = 1/4, \\rho_2 = -1/2, \\rho_3 = -1/4$\n",
    "\n",
    "$\\rho_1 = \\phi_{31}\\rho_0 + \\phi_{32}\\rho_1 + \\phi_{33}\\rho_2$  \n",
    "$\\rho_2 = \\phi_{31}\\rho_1 + \\phi_{32}\\rho_0 + \\phi_{33}\\rho_1$  \n",
    "$\\rho_3 = \\phi_{31}\\rho_2 + \\phi_{32}\\rho_1 + \\phi_{33}\\rho_0$  \n",
    "\n",
    "$1/4 = \\phi_{31} + 1/4 \\phi_{32} -1/2 \\phi_{33}$  \n",
    "$-1/2 = 1/4\\phi_{31} + \\phi_{32} + 1/4\\phi_{33}$  \n",
    "$-1/4 = -1/2\\phi_{31} + 1/4\\phi_{32} + \\phi_{33}$ "
   ]
  },
  {
   "cell_type": "markdown",
   "metadata": {},
   "source": [
    "$\\gamma_{xy}(0) = cov(x_t, \\frac{x_t}{2} - \\frac{x_{t-2}}{2})$  \n",
    "$=\\frac{1}{2}E(x_tx_t) - \\frac{1}{2}{E(x_tx_{t-2})}$  \n",
    "$= \\frac{1}{2}\\gamma_x(0) = \\frac{\\sigma^2}{9}$  \n",
    "$\\rho_{xy}(0) = [\\frac{\\sigma^2}{9}] / \\sqrt{\\frac{2\\sigma^2}{9}\\frac{\\sigma^2}{9}}= \\sqrt2^{-1}$\n",
    "\n",
    "$\\gamma_{xy}(-1) = cov(x_t, \\frac{x_{t-1}}{2} - \\frac{x_{t-3}}{2})$  \n",
    "$=\\frac{1}{2}E(x_tx_{t-1}) - \\frac{1}{2}{E(x_tx_{t-3})}$  \n",
    "$= \\frac{1}{2}\\gamma_x(1) = \\frac{\\sigma^2}{18}$  \n",
    "$\\rho_{xy}(0) = [\\frac{\\sigma^2}{18}] / \\sqrt{\\frac{2\\sigma^2}{9}\\frac{\\sigma^2}{9}}= (2\\sqrt2)^{-1}$\n",
    "\n",
    "..."
   ]
  },
  {
   "cell_type": "markdown",
   "metadata": {},
   "source": [
    "5. $X_t = a_t + \\theta a_{t-1}, a_t\\sim NID(0,\\sigma^2)$  \n",
    "$Y_t = \\sum_{i=1}^m w_i X_{t+1-i}$  \n",
    "$Z_t = Y_{t-1}X_t$  "
   ]
  },
  {
   "cell_type": "markdown",
   "metadata": {},
   "source": [
    " a. Since $X_t$ is lin. comb. of $a_t$, $E(X_t) = 0$, then since $Y_t$ is lin.comb. of $X_t$, $E(Y_t)=0$\n",
    " \n",
    " $E(Z_t)=E(\\sum_{i=1}^m w_i X_{t-1+1-i}X_t)$  \n",
    " $=\\sum_{i=1}^m w_i E(X_t X_{t-i})$  \n",
    " $=\\sum_{i=1}^m w_i \\gamma(i))$  \n",
    " $=w_1\\gamma(1)$ since $X_t\\sim MA(1)$  \n",
    " $=w_1 (E(a_t\\theta a_{t-1} + a_t \\theta a_{t-2} + \\theta a_{t-1}a_{t-1} + \\theta a_{t-1}\\theta a_{t-2})$  \n",
    " $=w_1 \\theta \\sigma^2$"
   ]
  },
  {
   "cell_type": "markdown",
   "metadata": {},
   "source": [
    "## ARMA"
   ]
  },
  {
   "cell_type": "markdown",
   "metadata": {},
   "source": [
    "1. Wold decomposition\n",
    " - Any zero-mean process $\\{X_t\\}$ which is not deterministic can be expressed as a sum of  \n",
    "    - $\\{U_t\\} $MA($\\infty$) process \n",
    "    - $\\{V_t\\}$ a deterministic process which is uncorrelated with $\\{U_t\\}$\n",
    " - __Deterministic__ if the values of $V$ are perfectly predictable by its past observations (as an $AR(\\infty)$ process)\n",
    " - Wold decomposition implies that any zero mean process can be expressed as the form of ARMA($\\infty, \\infty$) so we may be able to approximate any data/process by a higher order ARMA(p,q) model\n",
    " "
   ]
  },
  {
   "cell_type": "markdown",
   "metadata": {},
   "source": [
    "2. Consider an ARMA(2,2) model\n",
    "\n",
    "Invertible if AR(2) has all roots $|B|>1\\Rightarrow 1 - \\phi_1 B - \\phi_2 B^2 = 0$ have all roots $|B| > 1$  \n",
    "$B = |\\frac{\\phi_1 \\pm \\sqrt{\\phi_1^2 + 4\\phi_2}}{-2\\phi_1}| > 1$\n",
    "\n",
    "Causal if $MA(2)$ has all roots $|B|>1 \\Rightarrow 1 + \\theta_1 B + \\theta_2 B^2$ ... "
   ]
  },
  {
   "cell_type": "markdown",
   "metadata": {},
   "source": [
    "Assume Causal, $x_t=\\Psi(B)a_t = \\frac{\\Theta(B)}{\\Phi(B)}a_t$  \n",
    "$\\Psi(B)\\Phi(B)=\\Theta(B)$   \n",
    "$\\sum_0^\\infty \\psi_i B^i (1 + \\sum_1^\\infty -\\phi_i B^i) = \\sum_0^\\infty \\theta_i B^i$\n",
    "\n",
    "$\\psi_1:\\psi_1 B - \\phi_1 B = \\theta_1 B=> \\psi_1 = \\theta_1 + \\phi_1$\n",
    "$\\psi_2: \\psi_2 B^2 - \\phi_1 B^2 -\\psi_1B\\phi_1B=\\theta_2 B^2\\Rightarrow \\psi_2 = \\theta_2 + \\phi_2 + \\phi_1(\\theta_1 + \\phi_1)$"
   ]
  },
  {
   "cell_type": "markdown",
   "metadata": {},
   "source": [
    "Assume invertible, $a_t = \\sum_0^\\infty \\pi_j x_{t-j}=\\Pi(B)x_t$\n",
    "$\\Pi(B)\\Theta(B)=\\Phi(B)$\n",
    "..."
   ]
  },
  {
   "cell_type": "markdown",
   "metadata": {},
   "source": [
    "## Box-Jenkins approach and unit root tests"
   ]
  },
  {
   "cell_type": "markdown",
   "metadata": {},
   "source": [
    "1. $x_t = a+\\beta t^2 + y_t, y_t = a_t + \\theta_1 a_{t-1}, a_t \\sim NID(0,1)$. Show we can make $x_t$ stationary by differencing $\\{x_t\\}$. \n",
    "\n",
    "Since we want to make $x_t$ independent of $t$, we apply $\\nabla^2$\n",
    "\n",
    "$\\nabla^2 x_t = (1-B)^2 x_t$  \n",
    "$=x_t - 2Bx_t + B^2 x_t$  \n",
    "$=a + \\beta t^2 + y_t - 2(a + \\beta(t-1)^2 + y_{t-1}) + (a + \\beta(t-2)^2 + y_{t-2})$  \n",
    "$=(1-2+1)a + \\beta (t^2 - 2(t-1)^2 + (t-2)^2) + y_t - 2y_{t-1} + y_{t-2}$  \n",
    "$=2\\beta + y_t - 2y_{t-1}+y_{t-2}$\n",
    "\n",
    "Since $\\beta$ is constant, $y_t$ is a lin. comb. of $a_t$, it is stationary"
   ]
  },
  {
   "cell_type": "markdown",
   "metadata": {},
   "source": [
    "2. $x_t = \\mu + x_{t-1} + a_t + \\theta a_{t-1}, a_t \\sim NID(0,1), x_0 \\sim NID(\\mu, \\sigma^2), \\forall \\tau < 0. a_\\tau = x_\\tau = 0$  \n",
    "\n",
    "Then, we can use substitution to substitute $x_{t-1} = \\mu + x_{t-2} + a_{t-1} + \\theta a_{t-2}$ and so on, and since $x_{-1} = 0$  \n",
    "$x_t = \\mu t + \\sum^t_0 a_t + \\sum_0^{t-1}\\theta a_i$  \n",
    "Therefore, $\\theta^*_j = \\begin{cases}1 & j = 0 \\\\ 1 + \\theta & 1\\leq j \\leq t \\end{cases}$"
   ]
  }
 ],
 "metadata": {
  "hide_input": false,
  "kernelspec": {
   "display_name": "R",
   "language": "R",
   "name": "ir"
  },
  "language_info": {
   "codemirror_mode": "r",
   "file_extension": ".r",
   "mimetype": "text/x-r-source",
   "name": "R",
   "pygments_lexer": "r",
   "version": "3.5.2"
  }
 },
 "nbformat": 4,
 "nbformat_minor": 2
}
