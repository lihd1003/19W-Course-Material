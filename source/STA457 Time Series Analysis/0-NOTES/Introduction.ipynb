{
 "cells": [
  {
   "cell_type": "markdown",
   "metadata": {},
   "source": [
    "#### Stochastic Process\n",
    "A family of time indexed r.v. $Z(w,t)$ where $w$ belongs to a sample space and $t$ belongs to an index set. \n",
    "\n",
    "For a fixed $t$, $Z(w,t)$ is a r.v.  \n",
    "For a given $w$, $Z(w,t)$ is a function of $t$, and is __sample function or realization__."
   ]
  },
  {
   "cell_type": "markdown",
   "metadata": {},
   "source": [
    "#### Strongly stationary \n",
    "Consider a finite set of r.v. $\\{Z_{t_1},...,Z_{t_n}\\}$ from a stochastic process $\\{Z(w,t): t=0,\\pm 1, \\pm 2, ...\\}$. The n-dimensional distribution function is defined by $$F_{Z_{t_1},...,Z_{t_n}}(x_1,...,x_n) = P\\{w:Z_{t_1}\\leq x_1,...,Z_{t_n}\\leq x_n\\}$$\n",
    "\n",
    "A process is __strictly stationary__ if \n",
    "$$F_{Z_{t_1},...,Z_{t_k}}(x_1,...,x_n) = F_{Z_{t_1+k},...,Z_{t_k+k}}(x_1,...,x_n)$$\n",
    "for any set of $\\{Z_{t_1},...,Z_{t_n}\\}$"
   ]
  },
  {
   "cell_type": "markdown",
   "metadata": {},
   "source": [
    "#### Auto-covariance Function\n",
    "$\\gamma_X(r,s) = cov(X_r, X_s)$  \n",
    "$\\rho(r,s) = \\gamma_X(r,s)/\\sqrt{var(X_r)var(X_s)}$ Auto-correlation function (ACF)\n",
    "\n",
    "#### Cross-covariance Function\n",
    "$\\gamma_{XY}(r,s)=cov(X_r, Y_s)$  \n",
    "$\\rho_{XY}(r,s) = \\gamma_{XY}(r,s)/\\sqrt{var(X_r)var(Y_s)}$\n"
   ]
  },
  {
   "cell_type": "markdown",
   "metadata": {},
   "source": [
    "#### Weakly stationary\n",
    "The time series $\\{X_t, t\\in \\mathbb{Z}\\}$ is said to be stationary if \n",
    "\n",
    "- $var(X_t)=z<\\infty$ for all $t\\in Z$  \n",
    "- $E(X_t) = m$ for all $t\\in Z$\n",
    "- $y_X(r,s) = y_X(t+r, t+s)$ for all $t,r,s\\in Z$  \n",
    "the covariance being functions of the time difference alone. "
   ]
  },
  {
   "cell_type": "markdown",
   "metadata": {},
   "source": [
    "#### Classical decomposition model\n",
    "decompose a time series into \n",
    " - trend: loosely defined as \"long-term change in the mean level\"\n",
    " - seasonal variation: exhibit variation that is annual in period.\n",
    " - cyclic variation: exhibit variation at a fixed period due to some other cause. \n",
    " - irregular fluctuations"
   ]
  },
  {
   "cell_type": "markdown",
   "metadata": {},
   "source": [
    "#### Steps to time series modeling\n",
    "\n",
    " - plot the time series and check for trend, seasonal and other cyclic components, any apparent sharp changes in behavior, as well as any outlying observations. \n",
    " - remove trend and seasonal components to get residuals\n",
    " - choose a model to fit residuals\n",
    " - forecasting can be carried out by forecasting residual and then inverting the transformation carried out in step 2. "
   ]
  },
  {
   "cell_type": "markdown",
   "metadata": {},
   "source": [
    "#### Sample autocorrelation functions (SACF)\n",
    "$\\hat\\gamma(h)=n^{-1}\\sum_{t=1}^{n-h} (x_{t+h}-\\bar x)(x_t - \\bar x)$  \n",
    "$\\hat\\rho(h) = \\hat\\gamma(h)/\\hat\\gamma(0)$\n",
    "\n",
    "For a random time series, $\\hat\\rho_k \\sim N(0, 1/n)$ for $k\\neq 0, n$ is the length of time series. Thus, if a time series is random, we can expect 19/20 of $\\hat\\rho_k$ to lie in $[-2/\\sqrt n, 2/\\sqrt n]$"
   ]
  },
  {
   "cell_type": "markdown",
   "metadata": {},
   "source": [
    "#### Test Zero cross-correlation\n",
    "$H_0:\\forall h. \\rho_x(h)=\\rho_y(h) = 0 \\land \\rho_{xy}(h) = 0$  \n",
    "Both $X_t, Y_t$ contain no serial correlation and are mutually independent. \n",
    "\n",
    "Test statistic: $\\hat\\rho_{xy}(h)\\sim N(0, 1/n)$\n",
    "\n"
   ]
  }
 ],
 "metadata": {
  "hide_input": false,
  "kernelspec": {
   "display_name": "Python 3",
   "language": "python",
   "name": "python3"
  },
  "language_info": {
   "codemirror_mode": {
    "name": "ipython",
    "version": 3
   },
   "file_extension": ".py",
   "mimetype": "text/x-python",
   "name": "python",
   "nbconvert_exporter": "python",
   "pygments_lexer": "ipython3",
   "version": "3.6.8"
  },
  "latex_envs": {
   "LaTeX_envs_menu_present": true,
   "autoclose": false,
   "autocomplete": true,
   "bibliofile": "biblio.bib",
   "cite_by": "apalike",
   "current_citInitial": 1,
   "eqLabelWithNumbers": true,
   "eqNumInitial": 1,
   "hotkeys": {
    "equation": "Ctrl-E",
    "itemize": "Ctrl-I"
   },
   "labels_anchors": false,
   "latex_user_defs": false,
   "report_style_numbering": false,
   "user_envs_cfg": false
  }
 },
 "nbformat": 4,
 "nbformat_minor": 2
}
