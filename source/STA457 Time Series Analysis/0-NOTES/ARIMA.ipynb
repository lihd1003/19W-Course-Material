{
 "cells": [
  {
   "cell_type": "markdown",
   "metadata": {},
   "source": [
    "#### ARIMA\n",
    "For nonstationary time series, applying difference operators repeatedly to the data $\\{X_t\\}$ until the differenced observations resemble a realization of some stationary process $\\{W_t\\}$\n",
    "\n",
    "__ARIMA(p,q,d)__ $\\{X_t\\}$ is said to follow an ARIMA(p,q,d) model if $W_t = (1-B)^d X_t$ is stationary ARMA model. i.e. \n",
    "$$(1-B)^d \\Phi(B)X_t = \\Theta(B)a_t, a_t \\sim NID(0,\\sigma^2)$$\n",
    "\n",
    "A series follows a stationary ARMA model after differencing $d$ times, i.e. $(1-B)^d X_t$, such process is called an $I(d)$ process. "
   ]
  },
  {
   "cell_type": "markdown",
   "metadata": {},
   "source": [
    "__Example__ whether $(1-B)^2 X_y$ is stationary \n",
    "\n",
    "$(1-B)^2 X_t = X_t-2B X_t + B^2 X_t = X_t - 2X_{t-1}+X_{t-2}$"
   ]
  },
  {
   "cell_type": "markdown",
   "metadata": {},
   "source": [
    "#### Dickey Fuller unit root test\n",
    "The DF test is used to test $I(1)$ processes.  \n",
    "Consider $X_t = \\phi X_{t-1} + a_t. a_t \\sim NID(0,\\sigma^2)$,  \n",
    "then $\\Delta X_t = (\\phi - 1) X_{t-1} + a_t = \\pi X_{t-1} + a_t$  \n",
    "$H_0: \\pi = 0, i.e. X_t\\sim I(1)$\n",
    "\n",
    "The general DF test may contain an intercept and a deterministic time trend as $\\Delta X_t = a+\\tau^T DR_t + \\pi X_{t-1} + a_t$"
   ]
  },
  {
   "cell_type": "markdown",
   "metadata": {},
   "source": [
    "#### Augmented Dickey-Fuller test\n",
    "\n",
    "Problems with basic DF  \n",
    " - The basic DF test considers only a single unit root\n",
    " - Correct model specification\n",
    "   - correct specification of time trend and intercept\n",
    "   - The DGP may contain both AR and MA terms \n",
    "   - There might be structural breaks in the data\n",
    "   \n",
    "ADF test equation\n",
    "\n",
    "$$\\Delta X_t = \\tau^T DR_t + \\pi X_{t-1}+\\sum_{j=1}^k \\gamma_j\\Delta X_{t-j} + a_t$$\n",
    "where $k=p-1$, the equation use the autoregression to take into account the presence of serial correlated errors. "
   ]
  },
  {
   "cell_type": "markdown",
   "metadata": {},
   "source": [
    "#### Box-cov transformation\n",
    "If the variance is not stationary, we can try stablize it with a Box Cox transformation, i.e. include $\\lambda$ as one of the parameters \n",
    "$\\Phi(B)(X_t^\\lambda - \\mu) = \\Theta(B)a_t$, then choose $\\lambda, \\Phi, \\Theta$ based on Minimized RMSE. \n"
   ]
  }
 ],
 "metadata": {
  "hide_input": false,
  "kernelspec": {
   "display_name": "Python 3",
   "language": "python",
   "name": "python3"
  },
  "language_info": {
   "codemirror_mode": {
    "name": "ipython",
    "version": 3
   },
   "file_extension": ".py",
   "mimetype": "text/x-python",
   "name": "python",
   "nbconvert_exporter": "python",
   "pygments_lexer": "ipython3",
   "version": "3.6.8"
  }
 },
 "nbformat": 4,
 "nbformat_minor": 2
}
