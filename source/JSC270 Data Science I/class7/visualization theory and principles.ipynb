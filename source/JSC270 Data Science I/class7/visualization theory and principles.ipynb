{
 "cells": [
  {
   "cell_type": "markdown",
   "metadata": {},
   "source": [
    "**Goal of visualization** replace cognition with perception"
   ]
  },
  {
   "cell_type": "markdown",
   "metadata": {},
   "source": [
    "## perception fundamentals\n",
    "which representation can I use to encode data?  \n",
    "which representations are more suitable to ensure I'm conveying the right message?  \n",
    "\n",
    "#### Marks \n",
    "Points (marker), lines, areas  \n",
    "position, format, color (texture, hue, saturation, luminance), area/volume/length, angle\n",
    "\n",
    "Encodings should convey all, and only, the info of associated attributes, i.e. categorical should not convey order but ordinal should\n",
    "\n",
    "Importance of attributes should match the 'saliency' of the channel"
   ]
  },
  {
   "cell_type": "markdown",
   "metadata": {},
   "source": [
    "http://colorbrewer2.org/"
   ]
  }
 ],
 "metadata": {
  "hide_input": false,
  "kernelspec": {
   "display_name": "Python 3",
   "language": "python",
   "name": "python3"
  },
  "language_info": {
   "codemirror_mode": {
    "name": "ipython",
    "version": 3
   },
   "file_extension": ".py",
   "mimetype": "text/x-python",
   "name": "python",
   "nbconvert_exporter": "python",
   "pygments_lexer": "ipython3",
   "version": "3.6.8"
  }
 },
 "nbformat": 4,
 "nbformat_minor": 2
}
