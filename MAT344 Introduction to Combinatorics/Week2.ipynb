{
 "cells": [
  {
   "cell_type": "markdown",
   "metadata": {},
   "source": [
    "## The Ubiquitous Nature of Binomial Coefficients"
   ]
  },
  {
   "cell_type": "markdown",
   "metadata": {},
   "source": [
    "#### Question\n",
    "(a) Given $n\\geq k \\geq 1$, Find the number of solutions of the equation\n",
    "$$r_1 + r_2 +...+r_k = n$$ subject to $r_i \\in \\mathbb N^+$\n",
    "\n",
    "_Solution_ \n",
    "Suppose we have $n$ dots, then the question is equivalent to the ways to make $k-1$ cuts that divide the dots into $k$ parts.  \n",
    "Note that there are $n-1$ slots that can cut, hence the answer is $n-1 \\choose k-1$\n",
    "\n",
    "(b) subject to $r_i\\in\\mathbb N$\n",
    "\n",
    "_solution_ Consider the equation $y_1 + ... + y_k = n + k, y \\in \\mathbb N^+$, the new equation is a bijection to $r_1 + ... + r_k = n, r_i \\in \\mathbb N$. Therefore, the solution is $n+k-1\\choose k-1$. \n",
    "\n",
    "(c) subject to $r_i\\in\\mathbb N^+, i\\in\\{1,...,k-1\\}, r_k \\in\\mathbb N \\geq 3$\n",
    "\n",
    "_solution_ Consider the equation $r_1 + ... + r_{k-1} + (r_k - 3) = n - 3$ so that the solution is $n-4\\choose k-1$\n",
    "\n",
    "(d) Find all the solutions to $r_1 + r_2 + r_3 \\leq 100$ subject to $r_1,r_2,r_3\\in \\mathbb N^+$. \n",
    "\n",
    "_solution_ Introduce $r_4$ s.t. $r_4\\geq 1$, then we want to solve $x_1 + x_2 + x_3 + x_4 = 101$ so that the solution is $100\\choose 3$"
   ]
  }
 ],
 "metadata": {
  "kernelspec": {
   "display_name": "Python 3",
   "language": "python",
   "name": "python3"
  },
  "language_info": {
   "codemirror_mode": {
    "name": "ipython",
    "version": 3
   },
   "file_extension": ".py",
   "mimetype": "text/x-python",
   "name": "python",
   "nbconvert_exporter": "python",
   "pygments_lexer": "ipython3",
   "version": "3.7.4"
  }
 },
 "nbformat": 4,
 "nbformat_minor": 2
}
