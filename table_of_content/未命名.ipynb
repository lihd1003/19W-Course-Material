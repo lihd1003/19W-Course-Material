{
 "cells": [
  {
   "cell_type": "code",
   "execution_count": null,
   "metadata": {
    "ExecuteTime": {
     "end_time": "2019-10-03T23:04:26.554629Z",
     "start_time": "2019-10-03T23:04:26.140851Z"
    }
   },
   "outputs": [],
   "source": [
    "import os\n",
    "ss = []\n",
    "for i in os.walk(\"../\"):\n",
    "    for j in i[2]:\n",
    "        if \".ipynb\" in j and \"-chechpoint\" not in j:\n",
    "            path = i[0] + \"/\" + j\n",
    "            if \"table_of_content\" not in path:\n",
    "                ss.append(path)"
   ]
  },
  {
   "cell_type": "code",
   "execution_count": null,
   "metadata": {
    "ExecuteTime": {
     "end_time": "2019-10-03T23:20:47.944634Z",
     "start_time": "2019-10-03T23:04:32.620973Z"
    }
   },
   "outputs": [],
   "source": [
    "for f in ss:\n",
    "    ! jupyter nbconvert --to=html --template=github.tpl \"$f\""
   ]
  },
  {
   "cell_type": "code",
   "execution_count": 1,
   "metadata": {},
   "outputs": [],
   "source": []
  },
  {
   "cell_type": "code",
   "execution_count": 63,
   "metadata": {},
   "outputs": [],
   "source": [
    "link = '<li class=\"breadcrumb-item\"><a href=\"{link}\">{name}</a></li>'\n",
    "\n",
    "entry = \"\"\"\n",
    "<div class=\"col-lg-4 ol-md-6 mb-2\">\n",
    "          <a href=\"{link}\" class=\"text-dark\">\n",
    "          <div class=\"boxed p-2 rising\">\n",
    "            <div class=\"row align-items-center justify-content-between\">\n",
    "              <div class=\"col-10\">\n",
    "                <div class=\"media align-items-center\">\n",
    "                  <h4><i class=\"icon-folder mr-2\"></i></h4>\n",
    "                  <div class=\"media-body\">\n",
    "                    <h6 class=\"mb-0\">{name}</h6>\n",
    "                    <span class=\"text-muted\">{type}</span>\n",
    "                  </div>\n",
    "                </div>\n",
    "              </div>\n",
    "            </div>\n",
    "          </div>\n",
    "        </a>\n",
    "        </div>\n",
    "\"\"\".replace(\"\\n\", \"\").replace(\" \", \"\")"
   ]
  },
  {
   "cell_type": "code",
   "execution_count": 56,
   "metadata": {},
   "outputs": [],
   "source": [
    "from bs4 import BeautifulSoup\n",
    "\n",
    "html = open(\"../index2.html\").read()\n",
    "\n",
    "soup = BeautifulSoup(html)\n",
    "\n",
    "path = soup.find(id=\"path\")"
   ]
  },
  {
   "cell_type": "code",
   "execution_count": 61,
   "metadata": {
    "scrolled": true
   },
   "outputs": [
    {
     "data": {
      "text/plain": [
       "<li class=\"breadcrumb-item\"><a href=\"{link}\">{name}</a></li>"
      ]
     },
     "execution_count": 61,
     "metadata": {},
     "output_type": "execute_result"
    }
   ],
   "source": [
    "BeautifulSoup(link, 'html.parser')"
   ]
  },
  {
   "cell_type": "code",
   "execution_count": null,
   "metadata": {},
   "outputs": [],
   "source": []
  }
 ],
 "metadata": {
  "hide_input": false,
  "kernelspec": {
   "display_name": "Python 3",
   "language": "python",
   "name": "python3"
  },
  "language_info": {
   "codemirror_mode": {
    "name": "ipython",
    "version": 3
   },
   "file_extension": ".py",
   "mimetype": "text/x-python",
   "name": "python",
   "nbconvert_exporter": "python",
   "pygments_lexer": "ipython3",
   "version": "3.7.4"
  }
 },
 "nbformat": 4,
 "nbformat_minor": 2
}
