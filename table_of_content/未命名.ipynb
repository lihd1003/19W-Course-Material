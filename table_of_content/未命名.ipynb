{
 "cells": [
  {
   "cell_type": "code",
   "execution_count": null,
   "metadata": {
    "ExecuteTime": {
     "end_time": "2019-10-03T23:04:26.554629Z",
     "start_time": "2019-10-03T23:04:26.140851Z"
    }
   },
   "outputs": [],
   "source": [
    "import os\n",
    "ss = []\n",
    "for i in os.walk(\"../\"):\n",
    "    for j in i[2]:\n",
    "        if \".ipynb\" in j and \"-chechpoint\" not in j:\n",
    "            path = i[0] + \"/\" + j\n",
    "            if \"table_of_content\" not in path:\n",
    "                ss.append(path)"
   ]
  },
  {
   "cell_type": "code",
   "execution_count": null,
   "metadata": {
    "ExecuteTime": {
     "end_time": "2019-10-03T23:20:47.944634Z",
     "start_time": "2019-10-03T23:04:32.620973Z"
    }
   },
   "outputs": [],
   "source": [
    "for f in ss:\n",
    "    ! jupyter nbconvert --to=html --template=github.tpl \"$f\""
   ]
  }
 ],
 "metadata": {
  "hide_input": false,
  "kernelspec": {
   "display_name": "Python 3",
   "language": "python",
   "name": "python3"
  },
  "language_info": {
   "codemirror_mode": {
    "name": "ipython",
    "version": 3
   },
   "file_extension": ".py",
   "mimetype": "text/x-python",
   "name": "python",
   "nbconvert_exporter": "python",
   "pygments_lexer": "ipython3",
   "version": "3.7.4"
  }
 },
 "nbformat": 4,
 "nbformat_minor": 2
}
