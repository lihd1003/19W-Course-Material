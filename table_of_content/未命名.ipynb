{
 "cells": [
  {
   "cell_type": "code",
   "execution_count": null,
   "metadata": {
    "ExecuteTime": {
     "end_time": "2019-10-03T23:04:26.554629Z",
     "start_time": "2019-10-03T23:04:26.140851Z"
    }
   },
   "outputs": [],
   "source": [
    "import os\n",
    "ss = []\n",
    "for i in os.walk(\"../\"):\n",
    "    for j in i[2]:\n",
    "        if \".ipynb\" in j and \"-chechpoint\" not in j:\n",
    "            path = i[0] + \"/\" + j\n",
    "            if \"table_of_content\" not in path:\n",
    "                ss.append(path)"
   ]
  },
  {
   "cell_type": "code",
   "execution_count": null,
   "metadata": {
    "ExecuteTime": {
     "end_time": "2019-10-03T23:20:47.944634Z",
     "start_time": "2019-10-03T23:04:32.620973Z"
    }
   },
   "outputs": [],
   "source": [
    "for f in ss:\n",
    "    ! jupyter nbconvert --to=html --template=github.tpl \"$f\""
   ]
  },
  {
   "cell_type": "code",
   "execution_count": 103,
   "metadata": {
    "code_folding": []
   },
   "outputs": [],
   "source": [
    "from bs4 import BeautifulSoup\n",
    "import os, time\n",
    "LINK_HTML = '<li class=\"breadcrumb-item\"><a href=\"{link}\">{name}</a></li>'\n",
    "\n",
    "ENTRY_HTML = \"\"\"\n",
    "<div class=\"col-lg-4 ol-md-6 mb-2\">\n",
    "          <a href=\"{link}\" class=\"text-dark\">\n",
    "          <div class=\"boxed p-2 rising\">\n",
    "            <div class=\"row align-items-center justify-content-between\">\n",
    "              <div class=\"col-10\">\n",
    "                <div class=\"media align-items-center\">\n",
    "                  <h4><i class=\"icon-{icon} mr-2\"></i></h4>\n",
    "                  <div class=\"media-body\">\n",
    "                    <h6 class=\"mb-0\">{name}</h6>\n",
    "                    <span class=\"text-muted\">{mtime}</span>\n",
    "                  </div>\n",
    "                </div>\n",
    "              </div>\n",
    "            </div>\n",
    "          </div>\n",
    "        </a>\n",
    "        </div>\n",
    "\"\"\"\n",
    "\n",
    "EXCLUDE = ['ipynb', 'assets', 'index.html', 'tpl', '.git', 'README', 'table_of_content']"
   ]
  },
  {
   "cell_type": "code",
   "execution_count": 104,
   "metadata": {},
   "outputs": [],
   "source": [
    "def format_entry(i):\n",
    "    for exc in EXCLUDE:\n",
    "        if exc in i:\n",
    "            return None\n",
    "        \n",
    "    _, fext = os.path.splitext(i)\n",
    "    icon = \"code\"\n",
    "    type_ = \"Regular File\"\n",
    "\n",
    "    mtime = os.path.getmtime(i)\n",
    "    mtime = time.strftime(\"%X %x\", time.localtime(mtime))\n",
    "    link = \"./\" + os.path.basename(i)\n",
    "\n",
    "    if os.path.isdir(i):\n",
    "        icon = \"folder\"\n",
    "        type_ = \"Folder\"\n",
    "        link += \"/index.html\"\n",
    "    elif fext.lower() == \".html\":\n",
    "        icon = \"book\"\n",
    "        type_ = \"Notebook\"\n",
    "    elif fext.lower() == \".pdf\":\n",
    "        icon = \"file-text\"\n",
    "        type_ = \"PDF File\"\n",
    "\n",
    "    return ENTRY_HTML.format(link=link, icon=icon, \n",
    "                             name=os.path.basename(i), mtime=mtime)"
   ]
  },
  {
   "cell_type": "code",
   "execution_count": 105,
   "metadata": {},
   "outputs": [],
   "source": [
    "def create_index(dir_path, template):\n",
    "    \n",
    "    \n",
    "    html = open(template).read()\n",
    "    soup = BeautifulSoup(html)\n",
    "    path = soup.find(id=\"path\")\n",
    "    dentry = soup.find(id=\"dentry\")\n",
    "    absp = os.path.abspath(dir_path).split(\"/\")\n",
    "    absindex = absp.index('UofT-Course-Material-Repo')\n",
    "    \n",
    "    if absindex != -1 and len(absp[absindex:]) >= 2:\n",
    "        end = absindex + 2\n",
    "        while end <= len(absp):\n",
    "            link = \"/\" + \"/\".join(absp[absindex: end]) + \"/index.html\"\n",
    "            name = absp[end-1]\n",
    "            insert_string = LINK_HTML.format(link=link, name=name)\n",
    "            insert_soup = BeautifulSoup(insert_string, 'html.parser')\n",
    "            path.append(insert_soup)\n",
    "            end += 1\n",
    "\n",
    "    for i in os.listdir(dir_path):\n",
    "        insert_string = format_entry(dir_path + i)\n",
    "        if insert_string:\n",
    "            insert_soup = BeautifulSoup(insert_string, 'html.parser')\n",
    "            dentry.append(insert_soup)\n",
    "            \n",
    "    return soup"
   ]
  },
  {
   "cell_type": "code",
   "execution_count": 106,
   "metadata": {},
   "outputs": [],
   "source": [
    "folder_set = set([i[0] for i in os.walk(\"../\")])\n",
    "all_folder = []\n",
    "for i in folder_set:\n",
    "    if \"../.\" not in i and \"table_of_content\" not in i:\n",
    "        all_folder.append(i+ \"/\")\n",
    "        \n",
    "        \n",
    "for i in all_folder:\n",
    "    index = create_index(i, \"./template.html\")\n",
    "    with open(i + \"/index.html\", \"w\") as f:\n",
    "        f.write(str(index))"
   ]
  }
 ],
 "metadata": {
  "hide_input": false,
  "kernelspec": {
   "display_name": "Python 3",
   "language": "python",
   "name": "python3"
  },
  "language_info": {
   "codemirror_mode": {
    "name": "ipython",
    "version": 3
   },
   "file_extension": ".py",
   "mimetype": "text/x-python",
   "name": "python",
   "nbconvert_exporter": "python",
   "pygments_lexer": "ipython3",
   "version": "3.7.4"
  }
 },
 "nbformat": 4,
 "nbformat_minor": 2
}
