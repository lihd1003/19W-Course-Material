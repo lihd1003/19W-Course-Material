{
 "cells": [
  {
   "cell_type": "code",
   "execution_count": 3,
   "metadata": {
    "ExecuteTime": {
     "end_time": "2019-11-22T01:36:36.903457Z",
     "start_time": "2019-11-22T01:36:36.531170Z"
    }
   },
   "outputs": [],
   "source": [
    "import numpy as np\n",
    "import matplotlib.pyplot as plt"
   ]
  },
  {
   "cell_type": "markdown",
   "metadata": {},
   "source": [
    "### Introduction\n",
    "For a given sequence of observations $\\{(x_i, y_i)\\}^n_{i=1}$, we want to find some $f:\\mathbb R\\rightarrow \\mathbb R$ s.t. $f(x_i) = y_i$ or in some cases $f(x_i) \\approx y_i$. The approximation can be defined as Least square approximation $\\arg\\min_f\\|f(x_i) - y_i\\|$, where $f$ belongs to some group of functions (say we want to fit a line). \n",
    "\n",
    "#### Usages in Numerical Methods\n",
    " - Newton's method\n",
    " - Integrals: for some $f$ that is hard to find integral, find some polynomial $p\\rightarrow^{p.w.} f$. "
   ]
  },
  {
   "cell_type": "markdown",
   "metadata": {},
   "source": [
    "###  Polynomial Interpolations\n",
    "Given $\\{(x_i,y_i)\\}_{i=1}^n$, WTF $f(x) = \\sum_{i=1}^n c_i \\phi_i(x)$, i.e. \n",
    "$$\\underset{A}{\\begin{bmatrix}\n",
    "\\phi_1(x_i)&...&\\phi_n(x_1)\\\\\n",
    "\\vdots &\\ddots&\\vdots\\\\\n",
    "\\phi_1(x_n)&...&\\phi_n(x_n)\n",
    "\\end{bmatrix}}\n",
    "\\underset{c}{\\begin{bmatrix}\n",
    "c_1\\\\\\vdots\\\\c_n\\end{bmatrix}} \n",
    "= \n",
    "\\underset{y}{\\begin{bmatrix}\n",
    "y_1\\\\\\vdots\\\\y_n\\end{bmatrix}}\n",
    "$$\n",
    "\n",
    "If $A$ is nonsingular, then always a unique solution to $f(x_i) = y_i$\n",
    "\n",
    "##### Monomial Basis\n",
    "If we let $\\phi_i(x) = x^{i-1}$, then $f(x) = p(x) = \\sum_{i=0}^N c_i x^i$ s.t. $p(x_i) = y_i$ and we have \n",
    "$$A = \\begin{bmatrix}\n",
    "1&x_1&...&x_1^{n-1}\\\\\n",
    "\\vdots&\\vdots &\\ddots&\\vdots\\\\\n",
    "1&x_n&...&x_n^{n-1}\n",
    "\\end{bmatrix}=:\\text{Vandermonde Matrix}$$\n",
    "Note that $A$ is non-sigular if $x_i$'s are distinct. \n",
    "\n",
    "__Proposition__ Given $A$ is non-singular, then $Ac =0$ IFF $c=0$  \n",
    "\n",
    "_proof_. Define $p(x_j) := \\sum_{i=1}^n c_i x_j^{i-1} = 0$ for $j = 1,...,n$. $p(x)$ is a polynomial of degree $n-1$.  \n",
    "By fundamental theorem of algebra, if at least one $c_i \\neq 0$ then $p(x)$ has at most $n-1$ roots. "
   ]
  },
  {
   "cell_type": "markdown",
   "metadata": {},
   "source": [
    "#### Example\n",
    "Find a quadratic $p(x) = c_1 + c_2 x + c_3 x^2$ s.t. $p(-2) = -27, p(0) = -1, p(1) = 0$\n",
    "Then we construct $A = \\begin{bmatrix} 1&(-2)^1&(-2)^2\\\\1&0&0^2\\\\1&1&1^2\\end{bmatrix} = \\begin{bmatrix} 1&-2&4\\\\1&0&0\\\\1&1&1\\end{bmatrix}, y = \\begin{bmatrix}-27\\\\-1\\\\0\\end{bmatrix}$"
   ]
  },
  {
   "cell_type": "code",
   "execution_count": 33,
   "metadata": {
    "ExecuteTime": {
     "end_time": "2019-11-22T01:46:58.781587Z",
     "start_time": "2019-11-22T01:46:58.772573Z"
    }
   },
   "outputs": [
    {
     "name": "stdout",
     "output_type": "stream",
     "text": [
      "y = -0.9999999999999982x^0 + 4.999999999999999x^1 + -4.000000000000001x^2\n"
     ]
    }
   ],
   "source": [
    "x = np.array([-2, 0, 1])\n",
    "y = np.array([-27, -1, 0])\n",
    "\n",
    "def find_fit(x, y):\n",
    "    A = np.empty((x.shape[0], x.shape[0]))\n",
    "    for i in range(A.shape[0]):\n",
    "        A[:, i] = x ** i\n",
    "    c = np.linalg.solve(A, y)\n",
    "    return c\n",
    "c = find_fit(x, y)\n",
    "print(\"y = \" + \" + \".join([str(c[i]) + \"x^\" + str(i) for i in range(c.shape[0])]))"
   ]
  },
  {
   "cell_type": "code",
   "execution_count": 31,
   "metadata": {
    "ExecuteTime": {
     "end_time": "2019-11-22T01:46:36.457991Z",
     "start_time": "2019-11-22T01:46:36.324385Z"
    }
   },
   "outputs": [
    {
     "data": {
      "image/png": "[encoded data removed]",
      "text/plain": [
       "<Figure size 432x288 with 1 Axes>"
      ]
     },
     "metadata": {
      "needs_background": "light"
     },
     "output_type": "display_data"
    }
   ],
   "source": [
    "xl = np.arange(-3, 2, 0.01)\n",
    "yl = sum([c[i] * (xl ** i) for i in range(c.shape[0])])\n",
    "plt.plot(xl, yl)\n",
    "plt.scatter(x, y);"
   ]
  },
  {
   "cell_type": "markdown",
   "metadata": {},
   "source": [
    "#### Conditioning\n",
    "Often Vandermonde Matrices are very badly conditioned. When $x_1\\neq x_2$ but $x_1\\approx x_2$, then first two rows of $A$ are almost identical, resulting close to singular and bad conditioning. "
   ]
  },
  {
   "cell_type": "markdown",
   "metadata": {},
   "source": [
    "#### Properties of Polynomials\n",
    " - easy differentiation and integral\n",
    " - efficient evaluation\n",
    "\n",
    "We can evaluate by \n",
    "\n",
    "```python\n",
    "p = c[0]\n",
    "x_k = 1\n",
    "for k in range(1, n):\n",
    "    x_k *= x\n",
    "    p += c[k] * x_k\n",
    "```\n",
    " \n",
    " Or we can even improve by noticing that $p(x) = c_0 + c_1x + c_2x^2 = c_0 + (c_1 + x(c_2 + x))$\n",
    "\n",
    "```python\n",
    "p = c[n]\n",
    "for k in range(n-1, 0, -1):\n",
    "    p = c[k] + x * p\n",
    "```"
   ]
  },
  {
   "cell_type": "markdown",
   "metadata": {},
   "source": [
    "### Lagrange Form of the Interpolation Polynomial\n",
    "WTF $p(x_i) = y_i$ for $i = 1, 2,...,n$ and $p$ has $n-1$ degree. $x_i$ are distinct. \n",
    "\n",
    "Define the Lagrange basis functions \n",
    "$$l_j(x) = \\prod_{i=0, i\\neq j}^n \\frac{x-x_i}{x_j-x_i}$$\n",
    "Note that $l_j(x_i) = \\mathbb I(i=j)$\n",
    "Then $p(x) = \\sum_{j=1}^n l_j(x)y_j$"
   ]
  }
 ],
 "metadata": {
  "hide_input": false,
  "kernelspec": {
   "display_name": "Python 3",
   "language": "python",
   "name": "python3"
  },
  "language_info": {
   "codemirror_mode": {
    "name": "ipython",
    "version": 3
   },
   "file_extension": ".py",
   "mimetype": "text/x-python",
   "name": "python",
   "nbconvert_exporter": "python",
   "pygments_lexer": "ipython3",
   "version": "3.7.4"
  }
 },
 "nbformat": 4,
 "nbformat_minor": 2
}
