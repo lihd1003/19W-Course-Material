{
 "cells": [
  {
   "cell_type": "markdown",
   "metadata": {},
   "source": [
    "#### Permutation Matrices\n",
    "Has exactly one $1$ in each row and all others are $0$ and the same for each column. i.e. a permutation of rows/columns of $I$. \n",
    "\n",
    "If we want to interchange column 1 and column J, then let $E_{ij}$ denote the zero matrix with the $ij$'s entry be $1$. \n",
    "\\begin{align*}\n",
    "P &= I - (e_i - e_j)(e_i-e_j)^T\\\\\n",
    "&= I - (e_ie_i^T - e_ie_j^T - e_je_i^T + e_je_j^T)\\\\\n",
    "&= I - E_{11} + E_{1j} + E_{j1} - E_{jj}\n",
    "\\end{align*}\n",
    "Is a identity matrix that interchange rows $i,j$. \n",
    "\n",
    "So that $PA$ interchanges row of $A$ and $AP$ interchanges column of $A$ \n",
    "\n",
    "A permutation matrix is non-singular and $P^{-1} = P^T$"
   ]
  },
  {
   "cell_type": "markdown",
   "metadata": {},
   "source": [
    "#### Pivoting\n",
    "Searching first column for element of largest magnitude\n",
    "$$A_{J\\cdot}, J = arg\\max_{1\\leq j \\leq n}\\{|a_{j1}|\\}$$\n",
    "Then use a permutation matrix $P_1$ to interchange $A_J\\cdot$ with $A_1\\cdot$ and calculate $M_1$ so that $|m_{i1}|\\leq 1$  \n",
    "So that we can do such recursively on $A_{1:n\\times 1:n}$ and so on\n",
    "\n",
    "Therefore, we have $M_{n-1}P_{n-1}...M_1P_1A$"
   ]
  }
 ],
 "metadata": {
  "hide_input": false,
  "kernelspec": {
   "display_name": "Python 3",
   "language": "python",
   "name": "python3"
  },
  "language_info": {
   "codemirror_mode": {
    "name": "ipython",
    "version": 3
   },
   "file_extension": ".py",
   "mimetype": "text/x-python",
   "name": "python",
   "nbconvert_exporter": "python",
   "pygments_lexer": "ipython3",
   "version": "3.7.4"
  }
 },
 "nbformat": 4,
 "nbformat_minor": 2
}
