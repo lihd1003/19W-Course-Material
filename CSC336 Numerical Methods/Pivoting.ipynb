{
 "cells": [
  {
   "cell_type": "markdown",
   "metadata": {},
   "source": [
    "#### Permutation Matrices\n",
    "Has exactly one $1$ in each row and all others are $0$ and the same for each column. i.e. a permutation of rows/columns of $I$. \n",
    "\n",
    "If we want to interchange column 1 and column J, then let $E_{ij}$ denote the zero matrix with the $ij$'s entry be $1$. \n",
    "\\begin{align*}\n",
    "P &= I - (e_i - e_j)(e_i-e_j)^T\\\\\n",
    "&= I - (e_ie_i^T - e_ie_j^T - e_je_i^T + e_je_j^T)\\\\\n",
    "&= I - E_{11} + E_{1j} + E_{j1} - E_{jj}\n",
    "\\end{align*}\n",
    "Is a identity matrix that interchange rows $i,j$. \n",
    "\n",
    "So that $PA$ interchanges row of $A$ and $AP$ interchanges column of $A$ \n",
    "\n",
    "A permutation matrix is non-singular and $P^{-1} = P^T$"
   ]
  },
  {
   "cell_type": "markdown",
   "metadata": {},
   "source": [
    "### Pivoting\n",
    "#### Intuition\n",
    "Consider $A =\\begin{bmatrix}\\epsilon&1\\\\1&1\\end{bmatrix}, \\epsilon$ is small, $b = \\begin{bmatrix}1\\\\2\\end{bmatrix}$. Then the multiplier $m_{21} = \\epsilon^{-1}$.  \n",
    "The decomposition $L = \\begin{bmatrix}1&0\\\\\\epsilon^{-1}&1\\end{bmatrix}, U = \\begin{bmatrix}\\epsilon&1\\\\0&1-\\epsilon^{-1}\\end{bmatrix}$.   \n",
    "However, if $\\epsilon$ is very small, $\\epsilon^{-1}$ is extremely large and $U\\rightarrow \\tilde U =\\begin{bmatrix}\\epsilon&1\\\\0&-\\epsilon^{-1}\\end{bmatrix}$, and $L\\tilde U = \\begin{bmatrix}\\epsilon&1\\\\1&0\\end{bmatrix}$\n",
    "\n",
    "Note that $A^{-1} = (-1+\\epsilon)^{-1} \\begin{bmatrix}1&-1\\\\-1&\\epsilon\\end{bmatrix}, \\tilde A = L\\tilde U = -1\\begin{bmatrix}0&-1\\\\-1&\\epsilon\\end{bmatrix}$. If we want to solve  \n",
    "$Ax = [1,2]^T, x = A^{-1}b\\approx [1,1]^T, \\tilde x = \\tilde A^{-1}b \\approx [2, 1]^T$\n",
    "\n",
    "However, if $A = \n",
    "\\begin{bmatrix}\n",
    "1&1\\\\\n",
    "\\epsilon&1\n",
    "\\end{bmatrix}, b = \\begin{bmatrix}2\\\\1\\end{bmatrix}\\Rightarrow m_{21} =\\epsilon, M_1 = \\begin{bmatrix}\n",
    "1&0\\\\\n",
    "-\\epsilon&1\n",
    "\\end{bmatrix} \\rightarrow U = \\begin{bmatrix}\n",
    "1&1\\\\\n",
    "0&1\n",
    "\\end{bmatrix}, M_1 b = \\begin{bmatrix}\n",
    "2\\\\1\n",
    "\\end{bmatrix}, x = [1,1]^{-1}$"
   ]
  },
  {
   "cell_type": "markdown",
   "metadata": {},
   "source": [
    "#### Algorithm\n",
    "Searching first column for element of largest magnitude\n",
    "$$A_{J\\cdot}, J = arg\\max_{1\\leq j \\leq n}\\{|a_{j1}|\\}$$\n",
    "Then use a permutation matrix $P_1$ to interchange $A_J\\cdot$ with $A_1\\cdot$ and calculate $M_1$ so that $|m_{i1}|\\leq 1$  \n",
    "So that we can do such recursively on $A_{1:n\\times 1:n}$ and so on\n",
    "\n",
    "Therefore, we have $M_{n-1}P_{n-1}...M_1P_1A$"
   ]
  },
  {
   "cell_type": "markdown",
   "metadata": {},
   "source": [
    "#### Decompose pivoted matrix\n",
    "Consider $MPA = U\\Rightarrow PA = M^{-1}U$, since the pivot, all $m_{ij}\\leq 1$ so that $L$ has all the lower triangular entries be $|L_{ij}|\\leq 1$\n",
    "\n",
    "#### Solving linear systems\n",
    "Given $Ax =b$, since $P$ is non-singular $PAx = Pb$, Let $\\hat b = Pb, LU x = \\hat b$, and we solve it as before. "
   ]
  },
  {
   "cell_type": "markdown",
   "metadata": {},
   "source": [
    "#### Example \n",
    "$$A = \\begin{bmatrix}-2&10&1\\\\1&-4&2\\\\4&-8&4\\end{bmatrix}, b = \\begin{bmatrix}4\\\\3\\\\1\\end{bmatrix}$$\n",
    "\n",
    "Let $P_1 = \\begin{bmatrix}0&0&1\\\\0&1&0\\\\1&0&0\\end{bmatrix}, P_1A = \\begin{bmatrix}4&-8&4\\\\1&-4&2\\\\-2&10&1\\end{bmatrix}, M_1 = \\begin{bmatrix}1&0&0\\\\-1/4&1&0\\\\1/2&0&1\\end{bmatrix}, M_1P_1A = \\begin{bmatrix}4&-8&4\\\\0&-2&1\\\\0&6&3\\end{bmatrix}$  \n",
    "$P_2 = \\begin{bmatrix}0&1\\\\1&0\\end{bmatrix}, M_2=\\begin{bmatrix}1&0\\\\1/3&1\\end{bmatrix}, M_2P_2M_1P_1A = \\begin{bmatrix}4&-8&4\\\\0&6&3\\\\0&0&2\\end{bmatrix} = U$"
   ]
  },
  {
   "cell_type": "markdown",
   "metadata": {},
   "source": [
    "#### Finding PA = LU\n",
    "Noting that $P_{k+1}M_k \\neq M_kP_{k+1}$, but suppose we have $P_{k+1}M_k = \\hat M_k P_{k+1}$, then we can have \n",
    "$$M_nP_n...M_1P_1A = b \\Rightarrow P_n...P_1A = \\hat M_1^{-1}...\\hat M^{-1}_n b$$\n",
    "Since $P^T = P^{-1}, P_2M_1P_2^T = \\hat M_1 P_2P_2^T = \\hat M_1P_2P_2^T = \\hat M_1$  \n",
    "$$\\hat M_1 = P_2(I-m_1e_1^T)P_2^T = P_2P_2^T - P_2m_1e_1^TP_2^T = I - (P_2m_1)(P_2e_1)^T$$\n",
    "By the design of the algorithm, $P_2$ will not interchange the first columns, hence $P_2e_1 = e_1$, but $P_2m_1$ will interchange the multipliers, let $\\hat m_1 = P_2m_1$.  \n",
    "Therefore, because $m_1e_1^Tm_2e_2^T = 0$ (see notes on LU decomposition)\n",
    "$$\\hat M_1^{-1} = I + \\hat m_1e_1^T, M_1^{-1}M_2^{-1} = (I + \\hat m_1e_1^T)(I + \\hat m_2e_2^T) = I + \\hat m_1e_1^T + m_2e_2^T$$"
   ]
  }
 ],
 "metadata": {
  "hide_input": false,
  "kernelspec": {
   "display_name": "Python 3",
   "language": "python",
   "name": "python3"
  },
  "language_info": {
   "codemirror_mode": {
    "name": "ipython",
    "version": 3
   },
   "file_extension": ".py",
   "mimetype": "text/x-python",
   "name": "python",
   "nbconvert_exporter": "python",
   "pygments_lexer": "ipython3",
   "version": "3.7.4"
  }
 },
 "nbformat": 4,
 "nbformat_minor": 2
}
