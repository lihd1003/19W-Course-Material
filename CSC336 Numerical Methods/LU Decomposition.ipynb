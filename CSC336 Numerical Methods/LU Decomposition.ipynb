{
 "cells": [
  {
   "cell_type": "markdown",
   "metadata": {},
   "source": [
    "Note that $$Ax = b \\Rightarrow M_{n-1}...M_2M_1Ax = M_{n-1}...M_2M_1b = \\hat b$$ \n",
    "$M_i$ are $n\\times n$ matrices, \n",
    "\n",
    "Let $U = M_{n-1}...M_1A$ where $U$ is upper triangular. Then $Ux = \\hat b \\Leftrightarrow Ax = b$ and since $U$ is triangular, it's very easy to solve $Ux = \\hat b$ (bottom up). Note that $U$ must have all its diagonal being non-zero. \n",
    "\n",
    "Note that for each row, it takes $1$ division and $n$ multiplications and $n$ additions. There's a total of \n",
    "$$n\\cdot DIV + \\sum^n (i - 1)(ADD + MULT) = n\\cdot DIV + \\frac{n(n-1)}{2}(ADD+MULT)$$"
   ]
  }
 ],
 "metadata": {
  "hide_input": false,
  "kernelspec": {
   "display_name": "Python 3",
   "language": "python",
   "name": "python3"
  },
  "language_info": {
   "codemirror_mode": {
    "name": "ipython",
    "version": 3
   },
   "file_extension": ".py",
   "mimetype": "text/x-python",
   "name": "python",
   "nbconvert_exporter": "python",
   "pygments_lexer": "ipython3",
   "version": "3.7.4"
  }
 },
 "nbformat": 4,
 "nbformat_minor": 2
}
