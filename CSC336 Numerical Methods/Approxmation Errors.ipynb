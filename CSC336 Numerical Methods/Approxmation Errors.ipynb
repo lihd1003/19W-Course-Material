{
 "cells": [
  {
   "cell_type": "markdown",
   "metadata": {},
   "source": [
    "Let $A:=$ approximation, $T:=$ true value\n",
    "\n",
    "### Absolute error and relative error"
   ]
  },
  {
   "cell_type": "markdown",
   "metadata": {},
   "source": [
    "__Absolute error__ $A-T$  \n",
    "__Relative error__ $\\frac{A-T}{T}$, let $A-T = \\delta$, then $A = T(1+\\delta)$ avoids the issue with $A = 0$\n",
    "\n",
    "__Connect Digits__ $A:= 5.46729 \\times 10^{-12}, T:= 5.46417\\times 10^{-12}$  \n",
    "Then, $\\delta_{absolute}= A-T = 0.000312 \\times 10^{-12}$  \n",
    "$\\delta_{relative} = 0.000312 / 5.46417 = 3.12/5.46417 \\times 10^{-3}$  \n",
    "Let $p$ be the first non-agreed digit, then the magnitude relative error will be around $10^{-p\\pm 1}$.\n",
    "\n",
    "__0.99... = 1__ However, consider $A= 1.00596\\times 10^{-10}, T = 0.99452 \\times 10^{-10}$, the relative error is much smaller than the magnitude approximation. \n",
    "Therefore, we say that $0.999...$ agrees with $1.000...$, hence $A,T$ agrees on 2 sig digits. "
   ]
  },
  {
   "cell_type": "markdown",
   "metadata": {},
   "source": [
    "### Data error and computational error"
   ]
  },
  {
   "cell_type": "markdown",
   "metadata": {},
   "source": [
    "__Data error__ let $\\hat x:=$ input value, $x$ be actual value, error = $\\hat x - x$, for example\n",
    " - we cannot represent $A$ as a terminating floating number $(3.14\\sim \\pi)$\n",
    " - measurement error \n",
    " \n",
    "__Computational error__ let $f$ be the actual mapping, $\\hat f$ be the approximation function, errors of the computation is $\\hat f(x) - f(x)$, for example\n",
    " - often $\\cos$ is calculated by its Taylor series, while Taylor series is a infinite sum, and we can only compute by finite approximation. "
   ]
  },
  {
   "cell_type": "markdown",
   "metadata": {},
   "source": [
    "#### Truncation error\n",
    "The difference between the true result and the result that would be produced by a given algorithm using exact arithmetic\n",
    "\n",
    "__Example__ To approximate $f'(x)$ with known $f$  \n",
    "By definition $f'(x) = \\lim_{h\\rightarrow 0} \\frac{f(x+h) - f(x)}{h}$, hence, choose a small but not necessarily 0 value $h$, we can approximate $f'(x)$ for all $x$.   \n",
    "Assuming $f$ is smooth, then $f\\frac{(x+h)-f(x)}{h} = \\sum_{k=0} (f^{(k)}(x)\\frac{h^{k}}{(k+1)!})$, then the truncate error is $\\sum_{k=1} (f^{(k)}(x)\\frac{h^{k}}{(k+1)!})$"
   ]
  }
 ],
 "metadata": {
  "hide_input": false,
  "kernelspec": {
   "display_name": "Python 3",
   "language": "python",
   "name": "python3"
  },
  "language_info": {
   "codemirror_mode": {
    "name": "ipython",
    "version": 3
   },
   "file_extension": ".py",
   "mimetype": "text/x-python",
   "name": "python",
   "nbconvert_exporter": "python",
   "pygments_lexer": "ipython3",
   "version": "3.7.3"
  }
 },
 "nbformat": 4,
 "nbformat_minor": 2
}
