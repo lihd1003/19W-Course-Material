{
 "cells": [
  {
   "cell_type": "raw",
   "metadata": {},
   "source": [
    "---\n",
    "title: Mass-Spring System\n",
    "order: 8\n",
    "---"
   ]
  },
  {
   "cell_type": "markdown",
   "metadata": {},
   "source": [
    "# Mass and Spring\n",
    "We model the physical behavior of the system as a network of point masses $P = \\{(p_1, m_1),...,(p_n, m_n)\\}$, where $p_1\\in\\mathbb R^3$ is the position and $m_i$ is the mass, and springs $E = \\{(p_i, p_j)\\mid 1\\leq i\\neq j \\leq n\\}$, so that the shape is a graph $G = (P, E)$.  \n",
    "\n",
    "## Goal\n",
    "Following Newton's second law, $f = ma$ where $f,a\\in\\mathbb R^3$. For each point mass, we need to have \n",
    "$$f_{i} = T_{i} + f^{ext}$$ where  \n",
    "$T_{i} = \\sum_{j, (p_i, p_j)\\in E}f^{elastic}(p_i, p_j)$ is the sum of forces coming from any incident spring   \n",
    "$f^{ext}$ is the external forces applied on the point mass\n",
    "\n",
    "## Spring Potential Energy $V(p_i, p_j)$\n",
    "For each spring $(p_i, p_j)$, define its stiffness $k > 0$ (assuming all springs have the same stiffness for now) and rest length $r_{i,j}\\in\\mathbb R$. The __potential energy__ $V(p_i, p_j)$ is defined as \n",
    "$$V(p_i, p_j):\\mathbb R^{3\\times 2}\\rightarrow \\mathbb R:= \\frac k2(\\|p_i-p_j\\|-r_{ij})^2$$\n",
    "Note that $\\frac12$ is because the force is attached with two vertices, hence we only calculate half on each vertex.\n",
    "\n",
    "The force exerted by the spring on each mass is the partial derivative of the potential energy $V$ with respect to the corresponding mass position. For example, for $p_i$ we have \n",
    "$$f_{ij} = - \\frac{\\partial V}{\\partial p_i}\\in\\mathbb R^3$$"
   ]
  },
  {
   "cell_type": "markdown",
   "metadata": {},
   "source": [
    "## Acceleration of the point mass $a_i^t$\n",
    "Define $p_i^t = p_i(t):\\mathbb R^{\\geq 0}\\rightarrow \\mathbb R^3$ be the position for mass $i$ at time $t$, and velocities ${p'}_i^t = \\frac{\\partial p_i}{\\partial t}(t)\\in\\mathbb R^3$.  \n",
    "Given $p_i^0$ and ${p'}_i^0$, which is the initial conditions of the simulation system. Also, note that $p_i^t$ is determined only on the last know value and won't trace back, i.e. given any $t\\geq 0$, we can still treat these values as the initial conditions for the remaining time.   \n",
    "\n",
    "For the purpose of the simulation, we only need to know the position of each mass at discrete time, so we can use discrete approximation. Therefore, ${p'}_i^t$ can be approximated by finite difference \n",
    "$${p'}_i^t = \\frac{p_i^t - p_i^{t-\\Delta t}}{\\Delta t}$$\n",
    "Then, we use central finite difference to approximate the acceleration at time $t$\n",
    "\\begin{align*}\n",
    "a_i^t = {p''}_i^t &= \\frac{ {p'}_i^{t+\\Delta t} - {p'}_i^{t}}{\\Delta t}\\\\\n",
    "&= \\frac{1}{\\Delta t}\\big(\\frac{p_i^{t+\\Delta t} - p_i^t}{\\Delta t} - \\frac{p_i^{t} - p_i^{t-\\Delta t}}{\\Delta t}\\big)\\\\\n",
    "&= \\frac{p^{t+\\Delta t} - 2p_i^{t} + p^{t-\\Delta t}}{(\\Delta t)^2}\n",
    "\\end{align*}"
   ]
  },
  {
   "cell_type": "markdown",
   "metadata": {},
   "source": [
    "## Time integration\n",
    "Coming back to the goal, since each point mass should follow Newton's second law, we can sum them together and integrate only $p$, i.e. \n",
    "\\begin{align*}\n",
    "V(P) &= \\frac12\\sum_{i,j}k(\\|p_i - p_j\\|-r_{ij})^2\\\\\n",
    "T(P) &= (\\Delta t)^2 \\bigg\\{\\sum_i m_i \\big(\\frac{p_i - 2p_i^t + p_i^{t-\\Delta t}}{(\\Delta t)^2}\\big)^2\\bigg\\}\\\\\n",
    "F^{ext}(P) &= \\sum_i p_i^Tf_i^{ext}\\\\\n",
    "P &= (p_1,..., p_n)\\in\\mathbb R^{3\\times n}\n",
    "\\end{align*}\n",
    "We want $$V - F^{ext} = T$$\n",
    "Therefore, we can view the problem as a optimization problem, i.e. \n",
    "$$p^{t+\\Delta t} = \\arg\\min_{P} V(P)-T(P)-F^{ext}(P)$$"
   ]
  },
  {
   "cell_type": "markdown",
   "metadata": {},
   "source": [
    "# <a href=\"http://graphics.berkeley.edu/papers/Liu-FSM-2013-11/Liu-FSM-2013-11.pdf\">Fast Simulation of Mass-Spring System</a>\n",
    "\n",
    "Observe that the non linear energy  can be written as a small optimization problem\n",
    "$$(\\|p_i-p_j\\|-r_{ij})^2 = \\min_{d_{ij}\\in\\mathbb R^3, \\|d_{ij}\\|=r_{ij}}\\|(p_i - p_j) - d_{ij}\\|^2$$\n",
    "Therefore, suppose we know the vector $d_{ij}$ corresponds to the unknown optimal solution $p^{t+\\Delta t}$, then treating $d_{ij}$ as constant, we cound find the optimal solution by \n",
    "\\begin{align*}\n",
    "p^{t+\\Delta t} &= \\arg\\min_p \\hat E(p)\\\\\n",
    "\\hat E(P) &=\\big(\\frac12\\sum_{ij}k\\|(p_i-p_j)-d_{ij}\\|^2\\big) - \\Delta t^2\\\\\n",
    "&\\quad - (\\Delta t)^2 \\bigg\\{\\sum_i m_i \\big(\\frac{p_i - 2p_i^t + p_i^{t-\\Delta t}}{(\\Delta t)^2}\\big)^2\\bigg\\}\\\\\n",
    "&\\quad -\\sum_i p_i^Tf_i^{ext}\n",
    "\\end{align*}\n",
    "Which is quadratic w.r.t. $P$ and we can have the solution at \n",
    "$$d_P \\hat E = 0$$\n",
    "\n",
    "Therefore, we can define a local-global iterative algorithm.   \n",
    "\n",
    "while condition not satisfied:\n",
    "  - Given current $P$, determine $d_{ij}$ from the small optimization problem\n",
    "  - Find $P$ that minimizes $\\hat E$\n",
    "  \n"
   ]
  },
  {
   "cell_type": "markdown",
   "metadata": {},
   "source": [
    "## Matrices\n",
    "To allow parallel computation, we need to write the equations into matrix form. \n",
    "\n",
    "Define $P = [p_1,...,p_n]\\in \\mathbb R^{n\\times 3}$, and similarly $P^t, P^{t-\\Delta t} \\in \\mathbb R^{n\\times 3}$, let $M = diag(m_1,...,m_n)\\in \\mathbb R^{n\\times n}$, we have \n",
    "\\begin{align*}\n",
    "T(P) &= (\\Delta t)^2 \\bigg\\{\\sum_i m_i \\big(\\frac{p_i - 2p_i^t + p_i^{t-\\Delta t}}{(\\Delta t)^2}\\big)^2\\bigg\\}\\\\\n",
    "&= \\frac1{\\Delta t^2}\\bigg\\{(p_i - 2p_i^t + p_i^{t-\\Delta t})^Tm_i(p_i - 2p_i^t + p_i^{t-\\Delta t})\\bigg\\}\\\\\n",
    "&= \\frac1{\\Delta t^2}tr(P-2P^t + P^{t-\\Delta t})^TM(P-2P^t + P^{t-\\Delta t})\n",
    "\\end{align*}\n",
    "\n",
    "Define $A\\in\\mathbb \\{-1, 0, 1\\}^{|E|\\times |V|}$ be the matrix that represents the edges, where each row $e$ represents one edge $e = (i, j)$ as\n",
    "$$A_{ek} = \\begin{cases}1&k=i\\\\-1&k=j\\\\0&\\text{otherwise}\\end{cases}$$\n",
    "Let $d = \\begin{bmatrix}d_{e_1}\\\\...\\\\d_{e_m}\\end{bmatrix}\\in\\mathbb R^{\\|E\\|\\times 3}$ being $d_{ij}$'s stacked vertically, so that \n",
    "$$\\hat V(P) = \\sum_{ij}\\frac{k}2 \\|(p_i - p_j) -d_{ij}\\|^2 = \\frac{k}2\\big[(AP-d)^T(AP-d)\\big]$$\n",
    "\n",
    "Finally, let $f^{ext} =\\begin{bmatrix}f_1^{ext}\\\\...\\\\f_n^{ext}\\end{bmatrix}$ so that \n",
    "$$F(P) = tr(P^Tf^{ext})$$\n",
    "and we can combine the equations together and write it into quadratic form, with some computation, we can have \n",
    "\\begin{align*}\n",
    "Q &= kA^TA + \\frac1{\\Delta t^2}M\\\\\n",
    "b&= kA^Td + \\frac{1}{\\Delta t^2}M(2P^t - P^{t-\\Delta t})\\\\\n",
    "P^{t+\\Delta t} &= \\arg\\min_p \\frac12 tr(P^TQP) - tr(P^Tb)\n",
    "\\end{align*}\n",
    "Note this is the quadratic formula and \n",
    "$$\\nabla \\hat E(p) = QP - b = 0$$\n",
    "solve to have $P = Q^{-1}b$\n",
    "Note that $Q$ involves only $A, M, k, \\Delta t$, which are all constantly defined, hence it can be precomputed and factorized into $Q = LL^T$, which $L$ is triangular, hence solve $QP = b$ ($O(n^3)$ ops) becomes solve $LL^TP = b$ ($O(n^2)$ ops)"
   ]
  },
  {
   "cell_type": "markdown",
   "metadata": {},
   "source": [
    "## Sparse Matrices\n",
    "Note that in most cases, $A, M$ are quite sparse, where $\\frac{2}{n}$ of $A$ and $\\frac1n$ of $M$ are non-zero. Instead of storing the matrix as $O(n^2)$ entries, using a sparse matrix, where takes only `n * (int, int, float)` space. Also, operations on sparse matrix are fewer $O(n^{\\approx 1.5})$ for precompute $Q$ and $O(n)$ for substitution."
   ]
  },
  {
   "cell_type": "markdown",
   "metadata": {},
   "source": [
    "## Pinned Vertices\n",
    "Note that if we simulate gravity $g$ within $f^{ext}$, all the mass point will be pulled down quickly, therefore, we need to fix some mass point as pinned vertices, i.e. $p_k = p_k^{rest}, \\forall k$ is pinned.  \n",
    "To implement this equality constraint, we use penalty method, i.e. add an extremely large penalty onto the pinned vertices, \n",
    "$$\\frac w2 \\sum_{k} \\|p_k - p_k^{rest}\\|^2$$\n",
    "when $p_k$ moves away from $p^{rest}$, the potential energy is much larger than the energy in the system, hence $p_k$ will be forced to be $p_k^{rest}$.  \n",
    "\n",
    "Therefore, we can have $C\\in \\mathbb R^{|pinned|\\times n}, C_{ki} = \\mathbb I(p_i\\text{ is the kth pinned vertex})$\n",
    "and the penalty term becomes \n",
    "$$\\frac w2 tr((CP-CP^{rest})^T(CP-CP^{rest}))$$, so that we have \n",
    "$$Q_{C} = wC^TC, b_C = wC^TCP^{rest}$$\n",
    "And we need to solve $(Q+Q_C)P = (b+b_C)$\n",
    "Note that $Q+Q_C$ is still constant, hence prefactorization still works."
   ]
  }
 ],
 "metadata": {
  "hide_input": false,
  "kernelspec": {
   "display_name": "Python [conda env:csc418]",
   "language": "python",
   "name": "conda-env-csc418-py"
  },
  "language_info": {
   "codemirror_mode": {
    "name": "ipython",
    "version": 3
   },
   "file_extension": ".py",
   "mimetype": "text/x-python",
   "name": "python",
   "nbconvert_exporter": "python",
   "pygments_lexer": "ipython3",
   "version": "3.8.5"
  }
 },
 "nbformat": 4,
 "nbformat_minor": 4
}
