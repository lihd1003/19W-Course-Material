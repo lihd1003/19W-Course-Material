{
 "cells": [
  {
   "cell_type": "raw",
   "metadata": {},
   "source": [
    "---\n",
    "title: Vector Series (VAR Models)\n",
    "order: 40\n",
    "---"
   ]
  },
  {
   "cell_type": "markdown",
   "metadata": {},
   "source": [
    "# Vector Auto-regression of order 1 VAR(1)"
   ]
  },
  {
   "cell_type": "markdown",
   "metadata": {},
   "source": [
    "$$X_t = AX_{t-1}+a_t$$ \n",
    "where $A_{k\\times k}$ is the coefficient matrix and $a_t$ is a K-dimensional white noise process with time-invariant positive definite covariance matrix $E(aa')=\\Sigma$\n",
    "\n",
    "We can repeatedly substitute the VAR(1) above to \n",
    "$$y_t = \\sum A^i u_{t-i}$$\n",
    "For the above VMA($\\infty$) process to be stationary. $A^i$ must converge to zero, i.e. the all K eigenvalues of $A$ must be less than 1."
   ]
  },
  {
   "cell_type": "markdown",
   "metadata": {},
   "source": [
    "Then, the VAR(p) model is \n",
    "$$y_t = A_0 + \\sum_1^p A_i y_{t-i} +a_t$$ \n",
    "OR the compact form \n",
    "$$A(B)y_t = a_t$$\n",
    "Then, to be stationary, all the roots of $\\det(I_k - A_1B-...-A_pB^p)=0$ are greater than 1 in absolute value. "
   ]
  },
  {
   "cell_type": "markdown",
   "metadata": {},
   "source": [
    "## Companion form\n",
    "We can check the stability of a VAR(p) model using its companion form. \n",
    "$$\\xi_t = A\\xi_{t-1}+v_t$$ \n",
    "where $\\xi_t = \\begin{bmatrix} y_t \\\\ ... \\\\ y_{t-p+1} \\end{bmatrix} , A = \\begin{bmatrix}\n",
    "        A_1 & A_2 & ... & A_{p-1} & A_p \\\\\n",
    "        I & 0 & ... & 0 & 0 \\\\\n",
    "        0 & I & ... & 0 & 0 \\\\\n",
    "        ... & ... & ... & ... & ... \\\\\n",
    "        0 & 0 & ... & I & 0\n",
    "\\end{bmatrix}, v_t = \\begin{bmatrix} a_t \\\\ 0 \\\\...\\\\0\\end{bmatrix}$\n",
    "\n",
    "If the moduli of the eigenvalues of $A$ are less than 1, then the process is stable\n",
    "\n",
    "### Example\n",
    "$$\n",
    "    \\begin{bmatrix}y_1 \\\\y_2\\end{bmatrix}_t\n",
    "    = \n",
    "    \\begin{bmatrix}5 \\\\ 10\\end{bmatrix}\n",
    "    + \n",
    "    \\begin{bmatrix}0.5 &-0.2 \\\\-0.2 & -0.5\\end{bmatrix}\n",
    "    \\begin{bmatrix}y_1 \\\\y_2\\end{bmatrix}_{t-1} \n",
    "    + \n",
    "    \\begin{bmatrix}0.3 &-0.7 \\\\-0.1 & 0.3\\end{bmatrix}\n",
    "    \\begin{bmatrix}y_1 \\\\y_2\\end{bmatrix}_{t-2} \n",
    "    +\n",
    "    \\begin{bmatrix}a_1 \\\\a_2\\end{bmatrix}_t \n",
    "    $$\n",
    "Then, its companion matrix $A$ will be \n",
    "$$\\begin{bmatrix}\n",
    "        0.5 & 0.2 & -0.3 & -0.7 \\\\\n",
    "        -0.2 & -0.5 & -0.1 & 0.3 \\\\\n",
    "        1 & 0 & 0 & 0 \\\\\n",
    "        0 & 1 & 0 & 0\n",
    "\\end{bmatrix}$$"
   ]
  },
  {
   "cell_type": "markdown",
   "metadata": {},
   "source": [
    "# Order selection \n",
    "- sequential likelihood ratio tests of VAR(p) vs. VAR(p-1)\n",
    "- BigVAR: dimension reduction methods for multi time series"
   ]
  }
 ],
 "metadata": {
  "hide_input": false,
  "kernelspec": {
   "display_name": "R",
   "language": "R",
   "name": "ir"
  },
  "language_info": {
   "codemirror_mode": "r",
   "file_extension": ".r",
   "mimetype": "text/x-r-source",
   "name": "R",
   "pygments_lexer": "r",
   "version": "4.0.2"
  }
 },
 "nbformat": 4,
 "nbformat_minor": 2
}
