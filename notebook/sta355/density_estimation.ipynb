{
 "cells": [
  {
   "cell_type": "raw",
   "metadata": {},
   "source": [
    "---\n",
    "title: Density Estimation\n",
    "order: 40\n",
    "---"
   ]
  },
  {
   "cell_type": "markdown",
   "metadata": {},
   "source": [
    "# Histograms\n",
    "\n",
    "Given data $x_1,...,x_n$ and \"bins\" $B_k = [u_{k-1}, u_k), k=1,...,m$, then \n",
    "$$hist(x)=\\frac{1}{n(u_k-u_{k-1})}\\sum^n \\mathbb I(x_i \\in B_k)$$\n",
    "Note that $hist$ is a pdf since $hist(x)\\geq 0$ and \n",
    "\\begin{align*}\n",
    "\\int_{-\\infty}^\\infty hist(x)dx &= \\sum^m \\int_{B_k} hist(x)dx\\\\\n",
    "&= n^{-1}\\sum^n_{i=1}\\sum_{k=1}^m \\mathbb I(x_i \\in B_k) \\int_{B_k} \\frac{1}{u_k - u_{k-1}}dx \\\\\n",
    "&= 1\n",
    "\\end{align*}\n",
    "Histogram depends on number of bins and boundaries of the bins. "
   ]
  },
  {
   "cell_type": "markdown",
   "metadata": {},
   "source": [
    "# Substitution principle estimation\n",
    "Consider the empirical distribution function \n",
    "$$\\hat F(x) = \\frac{1}{n}\\sum_{i=1}^n \\mathbb I(X_i \\leq x)$$\n",
    "However, we cannot derive any $f$ since this is not differentiable. "
   ]
  },
  {
   "cell_type": "markdown",
   "metadata": {},
   "source": [
    "## Kernel Density estimation\n",
    "Start with a density function $w(x)$, i.e. a __kernel__\n",
    "\n",
    "Given $w$ and a __bandwidth__ $h$, define the kernel density estimator \n",
    "$$\\hat f_h (x) = \\frac{1}{nh}\\sum^n w(\\frac{x-xX_i}{h})$$\n",
    "bandwidth controls the amount of smoothing, as $h$ increases, the estimator $\\hat f_h(x)$ becomes smoother. \n",
    "\n",
    "Some examples of kernels are \n",
    "- Gaussian kernel $w(x) = \\sqrt{2\\pi}^{-1}\\exp(\\frac{-x^2}{2})$\n",
    "- Epanechinkov kernel $w(x) = \\frac{3}{4\\sqrt 5}(1-\\frac{x^2}{5}), |x|\\leq \\sqrt 5$\n",
    "- Rectangular $w(x) = \\frac{1}{2\\sqrt{3}}, |x| \\leq \\sqrt 3$\n",
    "- Triangular $w(x) = \\frac{1}{\\sqrt 6}(1-\\frac{|x|}{\\sqrt 6}), |x|\\leq \\sqrt 6$"
   ]
  },
  {
   "cell_type": "markdown",
   "metadata": {},
   "source": [
    "## Example \n",
    "Draw 500 observations from \n",
    "$$f(x) = \\begin{cases}\n",
    "\\sqrt{2\\pi}^{-1}\\exp(\\frac{-(x-2)^2}{2})&k\\leq 0.7 \\\\\n",
    "\\sqrt{2\\pi}^{-1}\\exp(\\frac{-(x+2)^2}{2})&k > 0.7\n",
    "\\end{cases}$$"
   ]
  },
  {
   "cell_type": "code",
   "execution_count": 1,
   "metadata": {},
   "outputs": [
    {
     "data": {
      "text/html": [],
      "text/latex": [],
      "text/markdown": [],
      "text/plain": [
       "numeric(0)"
      ]
     },
     "metadata": {},
     "output_type": "display_data"
    },
    {
     "data": {
      "text/html": [],
      "text/latex": [],
      "text/markdown": [],
      "text/plain": [
       "numeric(0)"
      ]
     },
     "metadata": {},
     "output_type": "display_data"
    },
    {
     "data": {
      "text/html": [],
      "text/latex": [],
      "text/markdown": [],
      "text/plain": [
       "numeric(0)"
      ]
     },
     "metadata": {},
     "output_type": "display_data"
    },
    {
     "data": {
      "text/html": [],
      "text/latex": [],
      "text/markdown": [],
      "text/plain": [
       "numeric(0)"
      ]
     },
     "metadata": {},
     "output_type": "display_data"
    },
    {
     "data": {
      "image/png": "[encoded data removed]",
      "text/plain": [
       "Plot with title \"density.default(x = x, bw = 0.2)\""
      ]
     },
     "metadata": {
      "image/png": {
       "height": 420,
       "width": 420
      }
     },
     "output_type": "display_data"
    }
   ],
   "source": [
    "N <- 500\n",
    "components <- sample(1:2,prob=c(.7, .3),size=N,replace=TRUE)\n",
    "mus <- c(2, -2)\n",
    "\n",
    "x <- rnorm(n=N,mean=mus[components],sd=1)\n",
    "par(mfrow=c(2, 2))\n",
    ".5387 - plot(density(x))\n",
    ".8 - plot(density(x, bw=.8))\n",
    ".4 - plot(density(x, bw=.4))\n",
    ".2 - plot(density(x, bw=.2))"
   ]
  },
  {
   "cell_type": "markdown",
   "metadata": {},
   "source": [
    "### Redistribution\n",
    "The empirical distribution function $\\hat F$ puts probability mass $1/n$ at each of the points $X_1,...,X_n$, use the kernel with bandwidth $h$ to redistribute this mass around each $X_i$, probability density around $X_i = \\frac{1}{nh}w(\\frac{x-X_i}{h})$ where \n",
    "$$\\int_{-\\infty}^\\infty \\frac{1}{nh}w(\\frac{x-X_i}{h})dx = \\frac{1}{n}\\int_{-\\infty}^\\infty w(t)dt = \\frac{1}{n}$$\n",
    "The density estimate is now simply the sum of these densities over all observations \n",
    "$$\\hat f_h(x) = \\frac{1}{nh}\\sum_{i=1}^n w(\\frac{x-X_i}{h})$$\n",
    "\n",
    "### Convolution \n",
    "Look at the distribution of $Y_h = U+hV$ where $U\\sim \\hat F$ and $V$ has density $w$ with $V,U$ independent. If $h$ is small then $Y_h \\approx U \\sim \\hat F$. \n",
    "\n",
    "Unlike $U, Y_h$ is a continuous r.v. for each $h>0$: \n",
    "\\begin{align*}\n",
    "P(Y_h\\leq x) &= \\sum_{i=1}^n P(U+hV\\leq x \\mid U = X_i)\\underset{=1/n}{P(U=X_i)}\\\\\n",
    "&= \\frac{1}{n}\\sum_{i=1}^n P(hV\\leq x-X_i) &U,V\\text{ indep.}\\\\\n",
    "&= \\frac{1}{n}\\sum_{i=1}^n P(V\\leq \\frac{x-X_i}{h})\n",
    "\\end{align*}"
   ]
  },
  {
   "cell_type": "markdown",
   "metadata": {},
   "source": [
    "## Choice of bandwidth\n",
    "The choice of $h$ depends on what we believe the underlying density looks like, if $f$ is believed to be smooth, then take larger $h$. If $f$ is believed to have a number of modes (i.e. local maxima) then we should take smaller $h$. \n",
    "\n",
    "Consider the bias-variance decomposition  \n",
    "$$MSE(\\hat{f_h}(x)) = E[(\\hat{f_h}(x) - f(x))^2] = var(\\hat{f_h}(x)) + \\bigg[E[\\hat{f_h}(x)] - f(x)\\bigg]$$\n",
    "As $h$ decreases, the squared bias term also decrease but the variance increases.  "
   ]
  },
  {
   "cell_type": "markdown",
   "metadata": {},
   "source": [
    "### Example: The rectangular kernel\n",
    "\n",
    "Take $w(x) = 1/2$ for $|x|\\leq 1$. Then, \n",
    "$$\\hat{f_h}(x) = \\frac{1}{2nh}\\sum_{i=1}^n \\mathbb I(x-h\\leq X_i \\leq x+h)$$\n",
    "The mean of $\\hat{f_h}(x)$ is \n",
    "$$E[\\hat{f_h}(x)] = \\frac{F(x+h) - F(x-h)}{2h}\\approx f(x) + \\frac{h^2}6 f''(x)$$\n",
    "the squared bias is \n",
    "$$\\big[E[\\hat{f_h}(x)]-f(x)\\big]^2 \\approx \\frac{h^4}{36}[f''(x)]^2$$\n",
    "For the variance, \n",
    "$$var[\\hat{f_h}(x)] = \\frac{1}{4h^2n}var[\\mathbb I(x-h\\leq X_i \\leq x+h)]$$\n",
    "Thus, we can approximate the variance by \n",
    "$$var[\\hat{f_h}(x)]\\approx \\frac{f(x)}{2hn}$$\n",
    "The MSE is approximately\n",
    "$$MSE[\\hat{f_h}(x)]\\approx \\frac{f(x)}{2hn} + \\frac{h^4}{36}[f''(x)]^2$$"
   ]
  },
  {
   "cell_type": "markdown",
   "metadata": {},
   "source": [
    "# Uncertainty Estimating \n",
    "Let $(X_1,..., X_n)\\sim F_\\theta$ for some $\\theta \\in \\Theta \\subset R$, want to estimate $\\theta$ using $X_1,...,X_n$. \n",
    "\n",
    "Let $\\hat\\theta$ be the estimator of the true $\\theta$, but we don't know what $\\theta$ is, so how can we say about the estimation error?"
   ]
  },
  {
   "cell_type": "markdown",
   "metadata": {},
   "source": [
    "### Example\n",
    "Let $X_1,...,X_n$ indep. $N(\\mu, \\sigma^2)$ random variables. Estimate $\\mu = E(X_i)$ by $\\hat\\mu = \\bar X$ (substitution principle estimator).\n",
    "\n",
    "We know that $\\hat\\mu \\sim N(\\mu, \\sigma^2/n)$. Then \n",
    "$$P(|\\hat\\mu - \\mu|\\leq 1.96\\frac{\\sigma}{\\sqrt n}) = 0.95$$\n",
    "In this example, knowing the distribution of $\\hat\\mu$ tells us a lot about the uncertainty of $\\hat\\mu$ of an estimator of $\\mu$.  \n",
    "If $\\sigma^2$ is unknown then we can estimate \n",
    "$$S^2 = \\frac 1{n-1} \\sum^n (X_i - \\bar X)^2$$\n",
    "and replace 1.96 by some $t$. "
   ]
  },
  {
   "cell_type": "markdown",
   "metadata": {},
   "source": [
    "__Sampling distribution__ of $\\hat\\theta$ is its probability distribution; this will depend on $\\theta$. \n",
    "\n",
    "__Mean square error__ of $\\hat\\theta$ is defined as \n",
    "$$MES_\\theta(\\hat\\theta) = E_\\theta[(\\hat\\theta - \\theta)^2] = var_\\theta(\\hat\\theta) + [E_\\theta(\\hat\\theta ) - \\theta]^2$$\n",
    "\n",
    "__Unbiased__ if $bias_\\theta(\\hat \\theta) := E_\\theta(\\hat\\theta) - \\theta = 0$"
   ]
  },
  {
   "cell_type": "markdown",
   "metadata": {},
   "source": [
    "#### Problem with unbiasedness\n",
    "- In many problems, unbiased estimators do not exist\n",
    "- In some problems, the estimator lies outside the parameter space with positive probability\n",
    "- If $\\hat\\theta$ is an unbiased estimator of $\\theta$ and $g$ is a non-linear function then $E_\\theta[g(\\hat\\theta)] \\neq g(\\theta)$ unless $P_\\theta(\\hat\\theta = \\theta) = 1$. \n",
    "\n",
    "#### When to worry about bias?\n",
    "- If $\\hat\\theta$ is systematically larger or smaller than $\\theta$\n",
    "- If the squared bias is approximately equal to or greater than the variance"
   ]
  },
  {
   "cell_type": "markdown",
   "metadata": {},
   "source": [
    "### Example: Sample variance\n",
    "$X_1,...,X_n$ indep. with $\\mu, \\sigma^2$, using unbiased estimator of sample variance \n",
    "$$S^2 = \\frac1{n-1}\\sum_{i=1}^n (X_i - \\bar X)^2$$\n",
    "However, $S = \\sqrt{S^2}$ is biased, if we assume that $X_1,...,X_n$ are Normal then we can evaluate the bias explicitly\n",
    "\\begin{align*}\n",
    "E(S) &= \\sigma (\\frac 2{n-1})^{1/2}\\frac{\\Gamma(n/2)}{\\Gamma(\\frac{n-1}2)}\\\\\n",
    "&= \\sigma \\bigg[1-\\frac1{4n} - \\frac 7{32n^2}\\bigg]\\\\\n",
    "E(S) - \\sigma &\\approx -\\frac\\sigma{4n} - \\frac{7\\sigma}{32n^2}\n",
    "\\end{align*}\n",
    "\n",
    "Then\n",
    "\\begin{align*}\n",
    "MSE(S) &= var(S) + [E(S)-\\sigma]^2 \\\\\n",
    "&= E(S^2) - [E(S)]^2 + [E(S)-\\sigma]^2 \\\\\n",
    "&\\approx \\frac{\\sigma^2}{2n}  + (-\\frac\\sigma{4n})^2\\\\\n",
    "&= \\frac{\\sigma^2}{2n} + \\frac{\\sigma^2}{16n^2}\n",
    "\\end{align*}"
   ]
  },
  {
   "cell_type": "markdown",
   "metadata": {},
   "source": [
    "# Consistency\n",
    "The sequence of estimators $\\hat\\theta_n$ is __consistent__ for $\\theta$ if for each $\\epsilon > 0$ and $\\theta\\in\\Theta$, \n",
    "$$\\lim_{n\\rightarrow\\infty}P_\\theta(|\\hat\\theta_n - \\theta| > \\epsilon) = 0$$\n",
    "a.k.a. $\\hat\\theta_n \\rightarrow^p \\theta$\n",
    "\n",
    "Note that consistency is an aspirational property: \n",
    " - if we have enough info. then we can estimate $\\theta$ arbitrarily precisely. \n",
    " - For a finite $n$, consistency isn't meaningful"
   ]
  },
  {
   "cell_type": "markdown",
   "metadata": {},
   "source": [
    "## Sample means and functions thereof\n",
    "$X_1,...,X_n$ indep. with mean $\\mu$ and $\\sigma^2$, then estimate $\\mu$ by $\\hat\\mu_n = n^{-1}\\sum_{i=1}^n X_i$  \n",
    "By WLLN, $\\hat\\mu_n$ is a consistent estimator of $\\mu$ (i.e. $\\{\\hat\\mu_u\\}$ is consistent). \n",
    "\n",
    "Likewise, if we want to estimate $\\theta = g(\\mu)$ where $g$ is a continuous function then $\\hat\\theta_n = g(\\hat\\mu_n)$ is a consistent estimator of $\\theta$. \n",
    "\n",
    "We can also approximate the sampling distributions of $\\hat\\mu_n$ and $\\hat\\theta_n$ by normal distributions \n",
    "$$\\hat\\mu_n \\sim N(\\mu, \\sigma^2/n), \\hat\\theta_n \\sim N(\\theta, [g'(\\mu)]^2 \\frac{\\sigma^2}{n})$$"
   ]
  },
  {
   "cell_type": "markdown",
   "metadata": {},
   "source": [
    "### Example: Regression design\n",
    "$$Y_i = \\beta_0 + \\beta_1x_i + \\epsilon_i, i = 1,..,n$$\n",
    "Assume for simplicity that $\\epsilon_1,...,\\epsilon_n$ are indep. $N(0,\\sigma^2)$  \n",
    "Least squares estimator of $\\beta_1$:\n",
    "$$\\hat\\beta_1 = \\bigg[\\sum_{i=1}^n (x_i - \\bar x)Y_i\\bigg]/\\bigg[\\sum_{i=1}^n (x_i - \\bar x)^2\\bigg]\\sim N(\\beta_1, \\frac{\\sigma^2}{\\sum^n (x_i - \\bar x)^2})$$\n",
    "Thus $\\hat\\beta_1 = \\hat\\beta_1^{(n)}$ will be consistent provided that \n",
    "$$\\sum^n (x_i - \\bar x)^2 \\rightarrow \\infty$$\n"
   ]
  },
  {
   "cell_type": "markdown",
   "metadata": {},
   "source": [
    "## Sampling distributions and standard errors\n",
    "Assume $\\hat\\theta$ is an estimator of some parameter $\\theta$, then $se(\\hat\\theta)$ is defined to be the standard deviation of the sampling deviation of the sampling distribution of $\\hat\\theta$.   \n",
    "This is rarely known exactly but can usually be approximated somehow. \n",
    "\n",
    "If $\\hat\\mu = \\bar X$ where $\\bar X$ is based on $n$ indep. observations with variance $\\sigma^2$ then $se(\\hat\\mu) = \\sigma/\\sqrt n$. \n",
    "\n",
    "If the sampling distribution is approximately normal then we can approximate the standard error by the standard deviation of the approximating normal distribution. \n",
    "\n",
    "### Example\n",
    "$\\hat\\mu = \\bar X, se(\\hat\\mu) = \\sigma/\\sqrt n$. estimated standard error is \n",
    "$$\\hat{se}(\\hat\\mu) = \\frac{S}{\\sqrt n}, S^2 = (n-1)^2\\sum^n (X_i -\\hat X)^2$$"
   ]
  },
  {
   "cell_type": "markdown",
   "metadata": {},
   "source": [
    "## Example: the Delta Method estimator\n",
    "$X_1,...,X_n$ indep. with some unknown cdf $F$, suppose $\\hat\\theta = g(\\bar X)$.  \n",
    "If $g$ is differentiable then we can approximate the sampling distribution of $\\hat\\theta$ by a normal distribution using Delta Method: \n",
    "$$\\hat\\theta = g(\\bar X)\\sim N(g(\\mu)=\\theta, [g'(\\mu)]^2 \\frac{\\sigma^2}{n})$$\n",
    "where $\\sigma^2 = var(X_i)$\n",
    "This suggests that we can estimate $se(\\hat\\theta)$ using the Delta Method estimator \n",
    "$$\\hat{se}(\\hat\\theta) = \\frac{|g'(\\bar X)|S}{\\sqrt n}$$\n",
    "where $S^2$ is the sample variance of $X_1,...,X_n$.   \n",
    "We are using the substitution principle here to estimate the unknown $\\mu$ and $\\sigma^2$\n",
    "\n",
    "Recall that the Delta Method follows from the Taylor series approximation\n",
    "\\begin{align*}\n",
    "\\hat\\theta - \\theta &= g(\\bar X ) - g(\\mu)\\\\\n",
    "&\\approx g'(\\mu)(\\bar X - \\mu)\\\\\n",
    "&= \\frac1n\\sum^n g'(\\mu)(X_i - \\mu)\n",
    "\\end{align*}\n",
    "Thus \n",
    "$$\\hat\\theta \\approx \\frac1n \\sum^n [g(\\mu) + g'(\\mu)(X_i - \\mu)]$$\n",
    "We \"estimate\" $\\phi(X_i)$ by a __pseudo-value__ \n",
    "$$\\phi_i = g(\\bar X) + g'(\\bar X)(X_i - \\bar X), i=1,...,n$$\n",
    "Note that \n",
    "$$\\hat \\theta = g(\\bar X) = n^{-1} \\sum^n \\phi_i = \\bar\\phi$$\n",
    "The Delta Method estimator can now be written as \n",
    "$$\\hat{se}(\\hat\\theta) = \\bigg[\\frac1{n(n-1)}\\sum^n(\\phi_i - \\bar\\phi)^2\\bigg]^{1/2} = \\frac{|g'(\\bar X)|S}{\\sqrt n}$$"
   ]
  },
  {
   "cell_type": "markdown",
   "metadata": {},
   "source": [
    "## Example: Trimmed mean\n",
    "$X_1,...,X_n$ indep. continuous r.v. with density $f(x-\\theta)$ where $f(x) = f(-x)$ and $\\theta$ is unknown. if suspecting that $f$ is heavy-tailed, then we want to eliminate the effects of extreme observations.\n",
    "\n",
    "To minimize the effect of extreme observations, we estimate $\\theta$ by a __trimmed mean__: \n",
    "$$\\hat\\theta = \\frac1{n-2r}\\sum_{r+1}^{n-r}X_{(k)}$$\n",
    "In general, the trimmed mean is a substitution principle estimator of \n",
    "$$\\theta(F) = \\frac1{1-2a}\\int^{1-a}_a F^{-1}(\\tau)d\\tau$$\n",
    "where $a = r/n$. \n",
    "\n",
    "Then, the sampling distribution of trimmed mean is approximately normal \n",
    "$$\\hat\\theta\\sim N(\\theta, \\frac{v^2(F)}{n})$$\n",
    "where \n",
    "$$v^2(F) = \\frac1{(1-2a)^2}\\int_a^{1-a}\\int_a^{1-a}\\frac{\\min(s,t)-st}{f(F^{-1}(t))f(F^{-1}(s))}dsdt$$"
   ]
  },
  {
   "cell_type": "markdown",
   "metadata": {},
   "source": [
    "# Approximating estimators by sample means\n",
    "Suppose that $\\hat\\theta$ is some complicated estimator like a trimmed mean. \n",
    "\n",
    "How to compute $\\hat{se}(\\hat\\theta)$, suppose that we can approximate $\\hat\\theta$ by an average $\\hat\\theta \\approx n^{-1}\\sum^n \\phi(X_i)$  \n",
    "\n",
    "This suggests using \n",
    "$$\\hat{se}(\\hat\\theta) = \\big\\{\\frac1{n(n-1)}\\sum^n [\\phi(X_i) - \\bar\\phi]^2\\big\\}^{1/2}$$\n",
    "where $\\bar\\phi = \\frac1n \\sum^n \\phi(X_i)\\approx \\hat\\theta$"
   ]
  },
  {
   "cell_type": "markdown",
   "metadata": {},
   "source": [
    "## Leave-one-out estimators\n",
    "Suppose that $\\hat\\theta = \\hat\\theta(X_1,...,X_n)$, then define $\\hat\\theta_{-i} = \\hat\\theta(X_1,...,X_{i-1}, X_{i+1},...,X_n)$  \n",
    "if $\\hat\\theta = \\bar X$ then $\\hat \\theta_{-i} = \\frac1{n-1}\\sum_{j\\neq i}X_j$"
   ]
  },
  {
   "cell_type": "markdown",
   "metadata": {},
   "source": [
    "## Example: Theil Index\n",
    "Define $\\theta(F) = E_F[\\frac{X_i}{\\mu(F)}\\ln (\\frac{X_i}{\\mu(F)})]$ where $P(X_i > 0) = 1$ and $\\mu(F) = E_F(X_i)$.  \n",
    "\n",
    "We estimate $\\theta(F)$ by \n",
    "$$\\hat\\theta = n^{-1}\\sum^n \\frac{X_i}{\\bar X}\\ln(\\frac{X_i}{\\bar X})$$\n",
    "The leave-one-out estimators are \n",
    "$$\\hat\\theta_{-i} = \\frac1{n-1}\\sum_{j\\neq i}\\frac{X_j}{\\bar X_{-i}}\\ln(\\frac{X_j}{\\bar X_{-i}})$$\n",
    "where $\\bar X_{-i} = \\frac1{n-1}\\sum_{j\\neq i}X_j$\n",
    "\n",
    "### From leave-one-out to pseudo-values\n",
    "Suppose that we can approximate $\\hat\\theta$ by a sample mean\n",
    "$$\\hat\\theta \\approx \\frac1n\\sum^n \\phi(X_i)$$\n",
    "for some (unknown) function $\\phi$. \n",
    "\n",
    "Then for the leave-one-out estimators, we have \n",
    "$$\\hat\\theta_{-i}\\approx \\frac1{n-1}\\sum_{j\\neq i}\\phi(X_j)$$\n",
    "This suggests that we can recover $\\phi(X_i)$ (approximately) by the pseudo-value \n",
    "$$\\Phi_i = n\\hat\\theta - (n-1)\\hat\\theta_{-i}\\approx \\phi(X_i)$$\n",
    "The pseudo-values can be used to estimate the s.e. of $\\hat\\theta$. "
   ]
  },
  {
   "cell_type": "markdown",
   "metadata": {},
   "source": [
    "### Jackknife s.e. estimator\n",
    "Given the pseudo-values $\\Phi_1,...,\\Phi_n$, define the jackknife estimator of $se(\\hat\\theta)$\n",
    "$$\\hat{se}(\\hat\\theta) = \\big[\\frac1{n(n-1)}\\sum^n (\\Phi_i - \\bar\\Phi)^2 \\big]^{1/2} = \\big[\\frac{n-1}n\\sum^n (\\hat\\theta_{-i} - \\hat\\theta_{\\cdot})^2 \\big]^{1/2}$$\n",
    "where $\\hat\\theta_\\cdot = \\frac1n \\sum^n \\hat\\theta_{-i}$  \n",
    "For many estimators, we have \n",
    "$$E_\\theta(\\hat\\theta) = \\theta + \\frac{a_1(\\theta)}n + \\frac{a_2(\\theta)}n^2$$\n",
    "We can use the jacknife to remove the $1/n$ bias term.  \n",
    "\n",
    "Define the bias-corrected $\\hat\\theta$:\n",
    "\\begin{align*}\n",
    "\\hat\\theta_{bc} &= n\\hat\\theta - (n-1)\\hat\\theta_\\cdot\\\\\n",
    "&= \\hat\\theta - (n-1)(\\hat\\theta_\\cdot -\\hat\\theta)\\\\\n",
    "&= n^{-1}\\sum^n \\Phi_i\n",
    "\\end{align*}\n",
    "For $\\hat\\theta_{bc}$, then \n",
    "$$E_\\theta(\\hat\\theta_{bc}) = \\theta + \\frac{a^*_2(\\theta)}n^2 + \\cdots$$"
   ]
  },
  {
   "cell_type": "code",
   "execution_count": 2,
   "metadata": {},
   "outputs": [
    {
     "data": {
      "text/html": [
       "'theil index 0.188827'"
      ],
      "text/latex": [
       "'theil index 0.188827'"
      ],
      "text/markdown": [
       "'theil index 0.188827'"
      ],
      "text/plain": [
       "[1] \"theil index 0.188827\""
      ]
     },
     "metadata": {},
     "output_type": "display_data"
    },
    {
     "data": {
      "text/html": [
       "'mean of pseudo 0.190167'"
      ],
      "text/latex": [
       "'mean of pseudo 0.190167'"
      ],
      "text/markdown": [
       "'mean of pseudo 0.190167'"
      ],
      "text/plain": [
       "[1] \"mean of pseudo 0.190167\""
      ]
     },
     "metadata": {},
     "output_type": "display_data"
    },
    {
     "data": {
      "text/html": [
       "'jackknife s.e. estimate 0.022019'"
      ],
      "text/latex": [
       "'jackknife s.e. estimate 0.022019'"
      ],
      "text/markdown": [
       "'jackknife s.e. estimate 0.022019'"
      ],
      "text/plain": [
       "[1] \"jackknife s.e. estimate 0.022019\""
      ]
     },
     "metadata": {},
     "output_type": "display_data"
    }
   ],
   "source": [
    "x <- rgamma(100,2)\n",
    "y <- x/mean(x)\n",
    "theil <- mean(y*log(y))\n",
    "sprintf(\"theil index %f\", theil)\n",
    "# Compute pseudo-values\n",
    "pseud <- NULL\n",
    "for (i in 1:100) {\n",
    "    xi <- x[-i]\n",
    "    yi <- xi/mean(xi)\n",
    "    loo <- mean(yi*log(yi))\n",
    "    pseud <- c(pseud,100*theil - 99*loo)\n",
    "}\n",
    "sprintf(\"mean of pseudo %f\", mean(pseud)) # mean of pseudo-values - bias-corrected estimate\n",
    "sprintf(\"jackknife s.e. estimate %f\", sqrt(var(pseud)/100))"
   ]
  },
  {
   "cell_type": "markdown",
   "metadata": {},
   "source": [
    "## Delta Method vs. Jackknife\n",
    "Sample 100 observations from a Gamma distribution with $\\alpha = 2$ and $\\lambda = 1$.  \n",
    "Estimate $\\theta = \\ln(\\mu) = g(\\mu); g'(\\mu) = 1/\\mu$. \n",
    "For our sample $\\bar x = 1.891$ and $s^2 = 1.911$, $\\hat \\theta = \\ln(\\bar x) = 0.637$ \n",
    "\n",
    "Thus the Delta Method s.e. estimate is \n",
    "$$\\hat{se}(\\hat\\theta) = |g'(\\bar x)|\\frac s{\\sqrt n} = \\frac s{\\bar x\\sqrt n} = 0.0731$$\n",
    "Computing the jackknife estimate is somewhat more computationally intensive. "
   ]
  },
  {
   "cell_type": "code",
   "execution_count": 3,
   "metadata": {},
   "outputs": [
    {
     "data": {
      "text/html": [
       "'jackkniefe s.e. 0.070312'"
      ],
      "text/latex": [
       "'jackkniefe s.e. 0.070312'"
      ],
      "text/markdown": [
       "'jackkniefe s.e. 0.070312'"
      ],
      "text/plain": [
       "[1] \"jackkniefe s.e. 0.070312\""
      ]
     },
     "metadata": {},
     "output_type": "display_data"
    }
   ],
   "source": [
    "x <- rgamma(100,2)\n",
    "thetaloo <- NULL\n",
    "for (i in 1:100) {\n",
    "    xi <- x[-i]\n",
    "    thetaloo <- c(thetaloo,log(mean(xi)))\n",
    "}\n",
    "jackse <- sqrt(99*sum((thetaloo-mean(thetaloo))^2)/100)\n",
    "sprintf(\"jackkniefe s.e. %f\", jackse)"
   ]
  },
  {
   "cell_type": "markdown",
   "metadata": {},
   "source": [
    "## Example: The Lorenz curve\n",
    "Suppose that $F$ is the cdf of a positive r.v. with finite mean $\\mu(F)$, let $F$ describes the income distribution within some population.  \n",
    "\n",
    "For each such $F$, we can define its __Lorenz curve__: \n",
    "$$\\mathcal L_F(\\tau) = \\frac1{\\mu(F)} \\int_0^\\tau F^{-1}(s)ds, 0\\leq \\tau\\leq 1$$\n",
    "a.k.a. the fraction of total income held by poorest $\\tau$. \n",
    "\n",
    "$\\mathcal L_F(\\tau) \\leq \\tau$ with $\\mathcal L_F(0) = 0$ and $\\mathcal L_F(1)=1$.  \n",
    "The difference between $\\tau$ and $\\mathcal L_F(\\tau)$ can be used to measure income inequality. "
   ]
  },
  {
   "cell_type": "markdown",
   "metadata": {},
   "source": [
    "## Example: The Gini index\n",
    "One measure of income inequality is the Gini index defined by \n",
    "$$Gini(F) = 2\\int_0^1 (\\tau - \\mathcal L_F(\\tau))d\\tau = \\frac{1}{\\mu(F)}\\int_0^1 (2\\tau - 1)F^{-1}(\\tau)d\\tau$$\n",
    "$Gini(F)\\in [0,1]\\Rightarrow 0$ perfect equality, $1$ perfect inequality. \n",
    "\n",
    "We estimate the quantiles $F^{-1}(\\tau)$ by order statistics. Given indep. observations $X_1,...,X_n$ from $F$, we have \n",
    "$$\\hat{Gini}(F) = \\frac1{n\\bar X} \\sum^n (\\frac{2k-1}{n}-1)X_{(k)}$$"
   ]
  },
  {
   "cell_type": "code",
   "execution_count": 4,
   "metadata": {},
   "outputs": [
    {
     "data": {
      "text/html": [
       "'gini 0.626679'"
      ],
      "text/latex": [
       "'gini 0.626679'"
      ],
      "text/markdown": [
       "'gini 0.626679'"
      ],
      "text/plain": [
       "[1] \"gini 0.626679\""
      ]
     },
     "metadata": {},
     "output_type": "display_data"
    },
    {
     "data": {
      "text/html": [
       "'s.e. 0.012652'"
      ],
      "text/latex": [
       "'s.e. 0.012652'"
      ],
      "text/markdown": [
       "'s.e. 0.012652'"
      ],
      "text/plain": [
       "[1] \"s.e. 0.012652\""
      ]
     },
     "metadata": {},
     "output_type": "display_data"
    }
   ],
   "source": [
    "gini <- function(x) {\n",
    "    # compute point estimate\n",
    "    n <- length(x)\n",
    "    x <- sort(x)\n",
    "    wt <- (2*c(1:n)-1)/n - 1\n",
    "    g <- sum(wt*x)/sum(x)\n",
    "    # compute leave-one-out estimates\n",
    "    wt1 <- (2*c(1:(n-1))-1)/(n-1) - 1\n",
    "    gi <- NULL\n",
    "    for (i in 1:n) {\n",
    "        x1 <- x[-i] # data with x[i] deleted\n",
    "        gi <- c(gi,sum(wt1*x1)/sum(x1))\n",
    "    }\n",
    "    # compute jackknife std error estimate\n",
    "    gbar <- mean(gi)\n",
    "    se <- sqrt((n-1)*sum((gi-gbar)^2)/n)\n",
    "    r <- list(gini=g,se=se)\n",
    "}\n",
    "\n",
    "# generate 500 observations from a Gamma( a = 1/2 )\n",
    "x <- rgamma(500,1/2) # Sample from a Gamma with alpha=1/2\n",
    "r <- gini(x)\n",
    "sprintf(\"gini %f\", r$gini)\n",
    "sprintf(\"s.e. %f\", r$se)"
   ]
  },
  {
   "cell_type": "code",
   "execution_count": 5,
   "metadata": {
    "scrolled": false
   },
   "outputs": [
    {
     "data": {
      "image/png": "[encoded data removed]",
      "text/plain": [
       "plot without title"
      ]
     },
     "metadata": {
      "image/png": {
       "height": 420,
       "width": 420
      }
     },
     "output_type": "display_data"
    }
   ],
   "source": [
    "plot(c(1:500)/500,cumsum(sort(x))/sum(x),type=\"l\",lwd=4,col=\"red\")\n",
    "abline(0,1,lty=2,lwd=2)"
   ]
  }
 ],
 "metadata": {
  "hide_input": false,
  "kernelspec": {
   "display_name": "R",
   "language": "R",
   "name": "ir"
  },
  "language_info": {
   "codemirror_mode": "r",
   "file_extension": ".r",
   "mimetype": "text/x-r-source",
   "name": "R",
   "pygments_lexer": "r",
   "version": "4.0.2"
  }
 },
 "nbformat": 4,
 "nbformat_minor": 2
}
