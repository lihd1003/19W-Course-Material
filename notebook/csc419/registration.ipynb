{
 "cells": [
  {
   "cell_type": "raw",
   "metadata": {},
   "source": [
    "---\n",
    "title: Registration\n",
    "order: 20\n",
    "---"
   ]
  },
  {
   "cell_type": "markdown",
   "metadata": {},
   "source": [
    "# Problem\n",
    "\n",
    "When we scan a rigid object, we should have multiple scans from different positions and angles. However, if we don't match/align these scans, they are just multiple partial scans. Therefore, we need some way to register these points, i.e. find a spatial transformation that maps one scan to the alignment of the other.  \n",
    "Another possible case is that we can have a coarse scan of a person and a finer scan of the face. We need to register the face.  \n",
    "\n",
    "We start with a complete scan of the surface $Y$ and a new partial scan of the surface $X$, both of them are which triangle meshes, they may not have the same number of vertices or even the same topology. "
   ]
  },
  {
   "cell_type": "markdown",
   "metadata": {},
   "source": [
    "# Hausdorff Distance\n",
    "To measure the performance of the matching, we need a single scalar number, i.e. distance.\n",
    "\n",
    "## Point-Point Distance\n",
    "We can start with point to point Euclidean distance, for points $x, y$, let \n",
    "$$d(x,y) = \\|x-y\\|_2$$\n",
    "\n",
    "## Point-Projection Distance\n",
    "Then, consider the distance between a point $x$ and some large object $Y$, let \n",
    "$$d(x,Y) = \\inf_{y\\in Y} d(x, y)$$\n",
    "\n",
    "## Directed Hausdorff Distance\n",
    "Let the directed Hausdorff distance be \n",
    "$$D_{\\vec H}(X, Y) = \\sup_{x\\in X}\\|x-P_Y(x)\\|$$\n",
    "where $P_Y(x)$ is the closest-point projection from $x$ to $Y$.  \n",
    "Note that we use supremum, which means the worst projection is at most this distance.  \n",
    "Also, note that this distance is \"directed\", i.e. $D_{\\vec H}(X,Y) \\neq D_{\\vec H}(Y, X)$.\n",
    "\n",
    "## DHD Between Triangle Meshes\n",
    "Since we have the two triangle Meshes, we can approximate a lower bound on the Hausdorff distance by densely sampling surfaces $X$ as $\\mathcal P_X$. Obviously,\n",
    "$$D_{\\vec H}(X, Y) \\geq D_{\\vec H}(\\mathcal P_x, Y)$$\n",
    "And as we have more samples, it's more likely to approach the true distance. \n",
    "\n",
    "However, note that the $\\max$ function is not continuous, hence hard to optimize. "
   ]
  },
  {
   "cell_type": "markdown",
   "metadata": {},
   "source": [
    "# Random Sampling of a Mesh\n",
    "We want our random variable $x\\in X$ to have a uniform density $f=A_X^{-1}$, where $A_X$ is the surface area of $X$. Therefore, we break the steps into randomly sample individual triangle, and then sample point from that triangle.  \n",
    "Let $h(T) = \\frac{A_T}{A_x}$ be the uniform distribution over triangle index $T\\in\\{1,...,m\\}$, $g_T(x) = A_T^{-1}$ be the uniform distribution over the triangle $T$, then \n",
    "$$h(T)g_T(x) = \\frac{A_T}{A_X}\\frac1{A_T} = A_X^{-1} = f(x)$$\n",
    "\n",
    "## Uniform random sampling of a single triangle. \n",
    "Let $v_1,v_2, v_3$ be the corners of the triangle, first pick a point uniformly in the parallelogram form by reflecting $v_1$ across the line $\\overline{v_2v_3}$. Then, randomly sample $a_1, a_2 \\in [0, 1]$\n",
    "$$x = \\begin{cases}v_1 + a_1(v_2-v_1) + a_2(v_3-v_1)&a_1+a_2 \\leq 1\\\\v_1 + (1-a_1)(v_2-v_1) + (1-a_2)(v_3-v_1)&a_1+a_2 < 1\\end{cases}$$\n",
    "In case 2, we sampled a point in the reflection part of the triangle, hence we reflect it back by $1-a$\n",
    "\n",
    "## Area-weighted Random Sampling of Triangles\n",
    "Let $\\mathcal C_i = \\sum^i_{j=1}\\frac{A_j}{A_X}$ be the cumsum of the relative areas. Then we randomly sample $a\\in [0, 1]$ and locate the index of $a$ in that cumsum interval."
   ]
  },
  {
   "cell_type": "markdown",
   "metadata": {},
   "source": [
    "## Integrated Closest-Point Distance\n",
    "To enable optimization, we replace the sup norm with the euclidean norm, i.e. \n",
    "$$D_{\\vec C}(X, Y) = \\sqrt{\\int_{X}\\|x-P_Y(x)\\|^2 dA}$$\n",
    "So that we can define the directed matching energy from $Z$ to $Y$ as \n",
    "$$E_\\vec{C}(Z, Y) = [D_\\vec{C}(Z,Y)]^2 = \\int_{Z}\\|z-P_Y(z)\\|^2 dA = \\int_Z \\|f_Y(z)\\|^2 dA$$\n",
    "Consider the function $f_Y(z) = z - P_Y(z)$. if $P_Y(z)$ is a point, that $f(z) = z-y$ is linear, and if $Y = \\{y\\mid (y-p)\\cdot n = 0\\}$ is a infinite plane, then $f_Y(z) = ((z-p)\\cdot n)n$ is also linear. However, due to \"smallest\" distance, the linearity does not hold and $f_Y$ may not even be continuous. \n",
    "\n",
    "However, if we fix some $z_0$ s.t. $f(z) = z-P_Y(z_0)$, since $z_0$ is fixed, and $P_Y(z_0)$ is a point. the function can be optimized, takes one step further, we can do $f_Y(z) = ((z-P_Y(z_0))\\cdot n)n$, which also can be optimized. Therefore, we can have an iterative algorithm\n",
    "```\n",
    "z_0 = initial guess\n",
    "while not converge:\n",
    "    f = linearize f(z) around z_0\n",
    "    z_0 = minimize f(z)^2\n",
    "```"
   ]
  },
  {
   "cell_type": "markdown",
   "metadata": {},
   "source": [
    "# Iterative Closest Point Algorithm\n",
    "Go back to the original problem, our task is to find a rigid transformation $T$\n",
    "$$T(x) = Rx + t$$\n",
    "where $R\\in SO(3)$ is the rotation matrix and $t\\in\\mathbb R^3$ is the translation vector, and our problem is to \n",
    "$$\\arg\\min_{t, R}\\int_X \\|Rx + t - P_Y(Rx + t)\\|^2 dA$$\n",
    "which, as we sampled points on $X$, is approximated as \n",
    "$$\\arg\\min_{t, R} \\sum_{\\mathcal P_x} \\|Rx + t - P_Y(Rx + t)\\|^2 $$\n",
    "\n",
    "## Procedure\n",
    "The procedure can be described as below\n",
    "``` python\n",
    "ICP(V_X F_X, V_Y, F_Y):\n",
    "    # init R, t, possibly as identity and zero vector\n",
    "    R = identity(3)\n",
    "    t = [0, 0, 0]\n",
    "    while not converge:\n",
    "        X_points = sample from V_X F_X\n",
    "        proj = project all X_points onto V_Y F_Y\n",
    "        R, t = update rigid transformation from best matched X_points and proj\n",
    "        V_X = R(V_X) + t\n",
    "```\n",
    "\n",
    "Then, we have to consider the methods fro the rigid transformation update. As from previous discussions, we can do point-to-point or point-to-plane."
   ]
  },
  {
   "cell_type": "markdown",
   "metadata": {},
   "source": [
    "## Point-Point Rigid Matching\n",
    "We are trying to solve \n",
    "$$\\arg\\min_{R, t} \\sum^k \\|Rx_i + t - p_i\\|^2$$\n",
    "The energy is quadratic in $t$, so that the optimal $t^*$ can be obtained by (with unknown $R$)\n",
    "\\begin{align*}\n",
    "\\partial_t\\|RX^T + t\\vec 1^T - P^T\\|_F^2 &= 0\\\\\n",
    "\\vec 1^T1t + RX^T\\vec 1 - P^T\\vec 1 &= 0\\\\\n",
    "t&=\\frac{P^T\\vec 1 -RX^T\\vec 1}{\\vec 1^T\\vec 1}\\\\\n",
    "t &= \\bar p - R\\bar x\n",
    "\\end{align*}\n",
    "where $X_{k\\times 3}, P_{k\\times 3}$ are $x_i, p_i$ stacked vertically, and $\\vec 1_{k\\times 1}$ is the vector filled with 1's. $\\|\\cdot\\|_F$ is the Frebenius norm, which is the sum of squared elements.  $\\bar p = k^{-1}\\sum^k p_i, \\bar x = k^{-1}\\sum^k x_i$ is the mean of all points. "
   ]
  },
  {
   "cell_type": "markdown",
   "metadata": {},
   "source": [
    "Then, replace $t = \\bar p - R\\bar x$, the problem becomes \n",
    "\\begin{align*}\n",
    "R^* &= \\arg\\min_{R} \\sum^k \\|Rx_i + (\\bar p - R\\bar x) - p_i\\|^2\\\\\n",
    "&= \\arg\\min_{R} \\sum^k \\|R(x_i-\\bar x) - (p_i - \\bar p)\\|^2\\\\\n",
    "&= \\arg\\min_{R} \\| R\\bar X^T - \\bar P^T\\|^2_F\n",
    "\\end{align*}\n",
    "where $\\bar X_{k\\times 3}, \\bar P_{k\\times 3}$ are $x_i-\\bar x, p_i - \\bar p$ stacked vertically. \n",
    "\n",
    "Then, \n",
    "\\begin{align*}\n",
    "R^* &= \\arg\\min_{R} \\| R\\bar X^T - \\bar P^T\\|^2_F\\\\\n",
    "&= \\arg\\min_{R} \\|R\\bar X^T\\|_F^2 - 2\\langle R\\bar X^T, \\bar P^T\\rangle_F + \\|\\bar P^T\\|^2_F\\\\\n",
    "&= \\arg\\min_{R} \\|\\bar X^T\\|_F^2 - 2\\langle R\\bar X^T, \\bar P^T\\rangle_F + \\|\\bar P^T\\|^2_F &R\\in SO(3)\\Rightarrow R^TR = I\\\\\n",
    "&= \\arg\\max_{R} \\langle R\\bar X^T, \\bar P^T\\rangle_F\\\\\n",
    "&= \\arg\\max_{R} \\langle R, \\bar P^T\\bar X\\rangle_F &\\text{permutation property of F-norm}\n",
    "\\end{align*}\n"
   ]
  },
  {
   "cell_type": "markdown",
   "metadata": {},
   "source": [
    "### Closest Rotation Matrix\n",
    "Using SVD, we can have $\\bar P^T\\bar X = U\\Sigma V^T$, so that with permutation property of F-norm again\n",
    "$$R^* = \\arg\\max_R\\langle R, U\\Sigma V^T\\rangle =  \\arg\\max_R\\langle U^TRV, \\Sigma\\rangle$$\n",
    "Let $\\Omega = U^TRV$ with $\\det \\Omega = \\det UV^T$, since $U,V$ are orthonormal, $\\Omega^T = \\Omega^{-1}$. This implies that $R^* = U\\Omega^*V^T$, where\n",
    "$$\\Omega^* = \\underset{{\\Omega\\in O(3), \\det\\Omega = \\det UV^T}}{\\arg\\max} \\langle \\Omega, \\Sigma\\rangle_F$$\n",
    "so that $\\det R^* = 1$. \n",
    "\n",
    "Because $\\Omega$ is orthonormal, each col and row must have unit norm. Placing a non-zero on the off-diagonal will get \"killed\" when multiplied by the corresponding zero in $\\Sigma$. So the optimal choice is to set all values 0, except the diagonal. The best choice is \n",
    "$$\\Omega^* = \\begin{bmatrix}1&0&0\\\\0&1&0\\\\0&0&\\det UV^T\\end{bmatrix}$$\n",
    "so that $\\det UV^T$ is multiplied with the smallest $\\sigma$. finally the closest rotation matrix is obtained as \n",
    "$$R^* = U\\Omega^*V^T$$"
   ]
  },
  {
   "cell_type": "markdown",
   "metadata": {},
   "source": [
    "## Point to Plane Rigid Matching\n",
    "We are trying to solve \n",
    "$$\\arg\\min_{R, t} \\sum^k \\|(Rx_i + t - p_i)\\cdot \\hat n_i \\hat n_i\\|^2$$\n",
    "where $\\hat n_i$ is the unit normal at the located closest point $p_i$. The problem can be simplified a bit as \n",
    "$$\\arg\\min_{R, t} \\sum^k ((Rx_i + t - p_i)\\cdot \\hat n_i)^2$$\n",
    "To optimize $R$, we linearize the constraint that $R$ stays a rotation matrix and work with a reduced set of variables. \n",
    "Any rotation matrix can be written as scalar rotation angle $\\theta$ around a rotation axis defined by a unit vector $\\hat w$, generally, given the rotation axis, the axis-angle to matrix formula gives \n",
    "$$R_{\\hat w}(\\theta) = I + \\sin\\theta W + (1-\\cos\\theta)W^2$$\n",
    "where $W$ is the skew symmetric cross product matrix \n",
    "$$Wx = \\hat w\\times x, W = \\begin{bmatrix}0&-w_3&w_2\\\\w_3&0&-w_1\\\\-w_2&w_1&0\\end{bmatrix}$$\n",
    "In this form, we can linearize by considering a small change in $\\theta$ and $\\hat w$, as\n",
    "$$R\\approx I + \\theta W, Rx \\approx x + \\theta \\hat w \\times x$$\n",
    "introducing $a = \\theta \\hat w$, the problem becomes \n",
    "$$\\arg\\min_{a,t} \\sum^k ((x_i + a\\times x_i + t - p_i)\\cdot \\hat n_i)^2$$\n",
    "and let $u = \\begin{bmatrix}a\\\\t\\end{bmatrix}$, \n",
    "$$\\arg\\min_u \\sum^k \\big(\\begin{bmatrix}(x_i\\times \\hat n_i)^T &\\hat n_i^T\\end{bmatrix}u - \\hat n_i^T (p_i - x_i)\\big)^2$$\n",
    "Then, let $c_i = \\begin{bmatrix}(x_i\\times \\hat n_i)^T &\\hat n_i^T\\end{bmatrix}, d_i = \\hat n_i^T (p_i - x_i)$, \n",
    "the equation above is expanded as \n",
    "$$\\arg\\min_u \\sum^k u^Tc_i^Tc_iu-2u^Tc_i^Td_i + d_i^Td_i = \\arg\\min_u \\sum^k u^TAu-2u^Tb$$\n",
    "where $A = \\sum^k c_i^Tc_i, b = \\sum^kc_i^Td_i$\n",
    "\n",
    "Therefore, $[a^*, t^*] = u^* = A^{-1}b$, as we considering $A$ as a sum of $c_i$, which is convex and separable. \n",
    "Then, we have $a^* = \\underset{\\theta}{\\|a^*\\|}\\underset{\\hat w}{\\frac{a^*}{\\|a^*\\|}}$, and we can find \n",
    "$$R^* = I + \\sin\\theta W^* + (1-\\cos\\theta) [W^*]^2$$"
   ]
  },
  {
   "cell_type": "markdown",
   "metadata": {},
   "source": [
    "# Some Additional Pieces\n",
    "\n",
    "## Uniform random sampling of a triangle mesh\n",
    "To uniform sampling a mesh $X$, the pdf will be \n",
    "$$f_X(x) = A_X^{-1}$$\n",
    "we can then have two independent uniform random sampling, first, sample a triangle from $T=\\{1,2,...,m\\}$ of the mesh, which  $h_i = \\frac{A_i}{A_X}$ and then for each triangle, sample from $g_i(x) = A^{-1}_i$, so that \n",
    "$$f_X(x) = h(T)g_T(x) = \\frac{A_T}{A_X}\\frac{1}{A_T} = A_X^{-1}$$\n",
    "\n",
    "Consider $g_T$, a triangle can be written as parametric function $T(s, t) = a + s(b-a) + t(c-a)$ where $0<s, t<1, s+t\\leq1$. Also, note that if we release the constraint $s+t\\leq1$, we get a parallelgram formed by reflecting $a$ across $\\bar{bc}$. Therefore, we can randomly sample $s, t$ and if $s+t > 1$, we reflect it back by $1-s, 1-t$\n",
    "\n",
    "## Area Weighted random Sampling of Triangles\n",
    "Note that the cmf of $h$ is \n",
    "$$C(i) = \\sum_{j=1}^i \\frac{A_j}{A_X} \\in (0, 1]$$\n",
    "Therefore, we can randomly sample $x$ and find the first value of $C_i$ s.t. $C_i > x$"
   ]
  },
  {
   "cell_type": "markdown",
   "metadata": {},
   "source": [
    "## Point Triangle Distance\n",
    "Given a query point $x\\in\\mathbb R$ and triangle $T\\in \\mathbb R^{3\\times 3}$ with corners $a, b,c$. To find $p$ s.t. \n",
    "$$p=\\arg\\min_{p\\in T}\\|x-p\\|$$.\n",
    "\n",
    "Let $P$ be the plane that $T$ belongs to, we can simply define $P$ from $T$, but remove the constraints.  \n",
    "$$P(s,t):\\mathbb R^2\\rightarrow\\mathbb R^3:= a + s(b-a) + t(c-a)$$\n",
    "\n",
    "Let $q \\in P$ be the point projected from $x$ to $P$. Then, \n",
    "$$\\|x-p\\| = \\|(x-p) + (p-q)\\|$$\n",
    "Note that $x, q$ is fixed, so that we want to minimize $\\|p-q\\|$, note that $p,q$ both line on $P$, thus this problem becomes a 2D problem on the plane $P$."
   ]
  },
  {
   "cell_type": "markdown",
   "metadata": {},
   "source": [
    "![](./assets/triangle_distance.png)"
   ]
  },
  {
   "cell_type": "markdown",
   "metadata": {},
   "source": [
    "Then, to solve the 2D problem. Note that the regions are divided by $s=0, t=0, s+t=1$, we can do it case by case. \n",
    " - 0 => within the triangle, done\n",
    " - 1, 3, 5 -> point-line projection, if not on the segment range, then map it to the endpoint\n",
    " - 2, 4, 6 -> directly go to the endpoint"
   ]
  },
  {
   "cell_type": "markdown",
   "metadata": {},
   "source": [
    "An efficient implementation will try to reduce the number of divisions, so that the relative error is small. \n",
    "https://www.geometrictools.com/Documentation/DistancePoint3Triangle3.pdf"
   ]
  }
 ],
 "metadata": {
  "hide_input": false,
  "kernelspec": {
   "display_name": "Python [conda env:csc418]",
   "language": "python",
   "name": "conda-env-csc418-py"
  },
  "language_info": {
   "codemirror_mode": {
    "name": "ipython",
    "version": 3
   },
   "file_extension": ".py",
   "mimetype": "text/x-python",
   "name": "python",
   "nbconvert_exporter": "python",
   "pygments_lexer": "ipython3",
   "version": "3.8.5"
  }
 },
 "nbformat": 4,
 "nbformat_minor": 4
}
