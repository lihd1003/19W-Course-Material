{
 "cells": [
  {
   "cell_type": "raw",
   "metadata": {},
   "source": [
    "---\n",
    "title: Introduction\n",
    "order: 0\n",
    "---"
   ]
  },
  {
   "cell_type": "markdown",
   "metadata": {},
   "source": [
    "# Curves and Surfaces\n",
    "\n",
    "## Curves\n",
    "### Parametric Equation\n",
    "Represent the curve as the image of some function $\\vec p:\\mathbb R\\rightarrow \\mathbb R^2$. For example $\\vec p(t) = (\\cos(t), \\sin(t))$ is the curve of a circle of radius 1\n",
    "\n",
    "### Implicit Equation\n",
    "Represent the curve as the level set of some function, i.e. for some $C\\in\\mathbb R. g:\\mathbb R^2\\rightarrow\\mathbb R^1$, the curve is $\\{(x, y) \\mid g(x, y) = C\\}$. For example $\\{(x, y)\\mid x^2 + y^2 - 1= 0\\}$ be the curve of a circle  of radius 1."
   ]
  },
  {
   "cell_type": "markdown",
   "metadata": {},
   "source": [
    "## Surfaces\n",
    "\n",
    "### Functional Surface\n",
    "Consider a function $f:\\mathbb R^2\\rightarrow \\mathbb R$, the surface is the image of $f$. of a __height field__. However, in this case, we cannot represent a perpendicular surfaces parallel to the z-axis. \n",
    "\n",
    "### Parametric Equation\n",
    "Similar to a parametric curve, we can represent a surface as the image of $S:\\mathbb R^2 \\rightarrow \\mathbb R^3$. If we can draw a map from parametric domain to 3D on the small neighborhood of each point (other than the boundary), we call it a __manifold__ (note very topologically definition of the manifold).\n",
    "\n",
    "### Implicit Equation\n",
    "Define $g:\\mathbb R^3\\rightarrow \\mathbb R$, then the curve is the level set of $g$, i.e. $\\{(x, y, z) \\mid g(x, y, z) = C\\}$"
   ]
  },
  {
   "cell_type": "markdown",
   "metadata": {},
   "source": [
    "# Tangent and normal\n",
    "\n",
    "## For Curves\n",
    "For a parametric curve, the tangent $\\frac{\\partial \\vec p}{\\partial t} = \\vec t$ and unit tangent $\\hat t = \\frac{\\vec t}{ \\|\\vec t\\|}$ represents the direction to which stay as on a curve.  \n",
    "\n",
    "For an implicit curve, the normal $\\nabla g$ and the unit normal $\\hat n = \\frac{\\nabla g}{\\|\\nabla g\\|}$ represents the direction to get off the curve.  \n",
    "Note that $\\hat n \\cdot \\hat t = 0$, i.e. the tangent and normal are perpendicular.\n",
    "\n",
    "## For Surfaces\n",
    "The normal is  still $\\nabla g$ and the unit normal $\\hat n = \\frac{\\nabla g}{\\|\\nabla g\\|}$.  \n",
    "\n",
    "However, the tangent is now a space or a plane in 2D, $\\{\\hat t \\mid \\hat t\\cdot \\hat n = 0\\}$, For a parametric curve, the two easy tangent line is $\\hat t_1 = \\frac{\\partial S}{\\partial u}$ and $\\hat t_2 = \\frac{\\partial S}{\\partial v}$, and the tangent plane is then spanned by $\\hat t_1, \\hat t_2$, if we have $\\hat t_1\\cdot \\hat t_2 = \\pm 1$, i.e. $\\partial_uS = c\\:\\partial_vS$, then it is a __degenerate__ point, i.e. at that point, it is a curve instead of a surface. "
   ]
  },
  {
   "cell_type": "markdown",
   "metadata": {},
   "source": [
    "# Geometry + Topology\n",
    "A surface is then defined by geometry and topology. \n",
    "\n",
    "Some properties that defines geometry and topology\n",
    "\n",
    "| Geometry | Topology |\n",
    "| --- | --- |\n",
    "| position | closed-ness|\n",
    "| tangent / normals | orientable |\n",
    "| dimension |number of boundaries <br> (ex. calendar has 2 boundaries)|\n",
    "| \"curvature\" | number of (topological) holes <br> (ex. a donut has one hole) |\n",
    "| self-intersection |\n"
   ]
  },
  {
   "cell_type": "markdown",
   "metadata": {},
   "source": [
    "# Discrete Topology\n",
    "Note that in computer science world, there is no actual \"continuous\" space, so we need some discrete methods. "
   ]
  }
 ],
 "metadata": {
  "hide_input": false,
  "kernelspec": {
   "display_name": "Python [conda env:csc418]",
   "language": "python",
   "name": "conda-env-csc418-py"
  },
  "language_info": {
   "codemirror_mode": {
    "name": "ipython",
    "version": 3
   },
   "file_extension": ".py",
   "mimetype": "text/x-python",
   "name": "python",
   "nbconvert_exporter": "python",
   "pygments_lexer": "ipython3",
   "version": "3.8.5"
  }
 },
 "nbformat": 4,
 "nbformat_minor": 4
}
