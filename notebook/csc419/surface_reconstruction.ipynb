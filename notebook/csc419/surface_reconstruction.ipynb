{
 "cells": [
  {
   "cell_type": "raw",
   "metadata": {},
   "source": [
    "---\n",
    "title: Surface Reconstruction\n",
    "order: 10\n",
    "---"
   ]
  },
  {
   "cell_type": "markdown",
   "metadata": {},
   "source": [
    "<a href=\"http://hhoppe.com/poissonrecon.pdf\">Link to paper</a>\n",
    "Note that the notes is a simplified version of the paper's implementation. We use fixed unit grid node instead of adaptive grid node. Also, we use the trilinear interpolation instead of more complex weighted methods. "
   ]
  },
  {
   "cell_type": "markdown",
   "metadata": {},
   "source": [
    "# Problem Setup\n",
    "Given a set of scanned point samples $P$ on the surface of an object and the estimated point normals $N$, we want to find an explicit continuous surface representation, i.e. a triangle mesh. \n",
    "\n",
    "## Voxel-based Implicit Surface\n",
    "However, if we directly convert the point cloud to a mesh by connecting points together, it's difficult to ensure the certain topological postconditions, i.e. a closed manifold with a small number of holes. Instead we will first convert the point cloud sampling representation into an implicit surface representation. Let the unknown surface be the level set of some function $g:\\mathbb R^3\\rightarrow\\mathbb R$, i.e. \n",
    "$$\\partial S = \\{x\\in\\mathbb R^3\\mid g(x) = c\\}$$\n",
    "\n",
    "Then, we discretize an implicit function by defining a regular 3D grid of voxels containing at least the bounding box of $S$. At each node in the grid $x_{i,j,k}$ we store the value of the implicit function $g(x_{i,j,k}) and then we can get the value everywhere by trilinear interpolation over the grid cell. \n",
    "\n",
    "### <a href=\"https://en.wikipedia.org/wiki/Marching_cubes\">Matching Cubes Algorithm</a>\n",
    "We want the implicit surface representation so that we can contoured into a triangle mesh via Marching Cubes Algorithm. \n"
   ]
  },
  {
   "cell_type": "markdown",
   "metadata": {},
   "source": [
    "## Characteristic Function of Solids\n",
    "Assume that our set of point $P$ lies on the surface $\\partial S$. This solid object $S$ must have some non-trivial volume that we can calculate as the integral of unit density over the solid \n",
    "$$\\int_S dA = \\int_{\\mathbb R^3}\\mathcal x_S(x)dA = \\int_{\\mathbb R^3}\\mathbb I(x\\in S)dA$$\n",
    "From the <a href=\"http://hhoppe.com/poissonrecon.pdf\">Poisson Surface Reconstruction [Kazhdan et al. 2006] </a>, the gradient of a infinitesimally mollified characteristic function \n",
    " - points in the direction of the normal near the surface $\\partial S$\n",
    " - is zero everywhere else\n",
    " \n",
    "Therefore, using points $P$ and normals $N$, we can optimize an implicit function $g$ over a regular grid, so that $\\nabla g$ meets the two properties above, and $g$ will be an approximation of the mollified characteristic function. "
   ]
  },
  {
   "cell_type": "markdown",
   "metadata": {},
   "source": [
    "# Poisson Surface Reconstruction\n",
    "Starting from some unrealistic assumptions (note that these assumptions are not to be made but to make the description more intuitive)\n",
    " - We know each of $\\nabla g(x_{i,j,k})$\n",
    " - All of input points lies perfectly at grid nodes: $\\forall p\\in P. \\exists x_{i,j,k} = p$\n",
    "\n",
    "With these assumptions, we simply have \n",
    "$$\\nabla g(x_{i,j,k}):\\mathbb R^3\\rightarrow\\mathbb R^3:= v_{i,j,k} = \\mathbb I(x_{i,j,k}\\mid \\exists p_l = x_{i,j,k}) \\:n_l$$\n",
    "So that $g$ is defined via a simple set of linear equations\n",
    "\n",
    "Since our system is over determined, this can be turned into an optimization problem. \n",
    "$$\\min_g \\sum_i\\sum_j\\sum_k \\frac12\\|g(x_{i,j,k}) - v_{i,j,k}\\|^2$$\n",
    "where $g$ is a vector of unknown grid nodes values, $g_{i,j,k} = g(x_{i,j,k})$\n",
    "\n",
    "With the assumptions, we can compute approximations of the x,y,z components of $\\nabla g$ via a matrix multiplication of a \"gradient matrix\" $G$ and vector unknown grid value $g$, so that the optimization problem becomes\n",
    "$$\\min_g \\frac12\\|Gg - v\\|^2 = \\min_g\\frac12 g^TG^TGg - g^TG^Tv + v^Tv$$\n",
    "This is a quadratic function, so that we can set the gradient being 0\n",
    "$$\\frac{\\partial}{\\partial g} \\frac12 g^TG^TGg - g^TG^Tv + v^Tv = G^TGg - G^Tv = 0$$"
   ]
  },
  {
   "cell_type": "markdown",
   "metadata": {},
   "source": [
    "## Gradient estimated from regular grid\n",
    "Since we have a grid, it's straightforward to estimate the gradient as a finite difference. For example, \n",
    "$\\frac{\\partial g}{\\partial x}(x_{i-1/2, j, k}) = \\frac1h(g_{i,j,k} - g_{i-1,j,k})$.  \n",
    "With this observation, we can construct a partial difference matrix $D^x \\in \\mathbb R^{(n_x -1)n_yn_z\\times n_xn_yn_z}$, where each row $D^x_{i-1/2,j,k}$ computes the partial derivative at $x_{i-1/2,j,k}$, i.e. \n",
    "$$D^x_{i-1/2,j,k}(l) = \\begin{cases}-1 &l=i-1\\\\1 &l=1\\\\0&\\text{otherwise}\\end{cases}$$\n",
    "We can do similar things on $D^y, D^z$ and obtain the desired \n",
    "$$G = \\begin{pmatrix}D^x\\\\D^y\\\\D^z\\end{pmatrix} \\in \\mathbb R^{(n_x-1)n_yn_z + n_x(n_y-1)n_z + n_xn_y(n_z-1)\\times n_xn_yn_z}$$\n",
    "Of course, when we implement this, we cannot have indexing as $0.5$, so we can shift the indexing down by $0.5$, and do the same for the vector $v$."
   ]
  },
  {
   "cell_type": "markdown",
   "metadata": {},
   "source": [
    "## Estimate $v$ \n",
    "Note that our normals $N$ does not lie on the grid node. In order to obtain $v$ on the ideal grid, we can distribute each $\\vec n$ to its 8 neighboring grid nodes via trilinear interpolation weights, for example\n",
    "\\begin{align*}\n",
    "n_x =\\:& w_{ \\frac12 ,0,0}( \\mathbf{x}_{1,\\frac14 ,\\frac12 } ) \\  v^x_{ \\frac12 ,0,0} +  \\\\\n",
    "  &w_{\\frac32 ,0,0}( \\mathbf{x}_{1,\\frac14 ,\\frac12 } ) \\  v^x_{1\\frac12 ,0,0} +  \\\\\n",
    "  &\\vdots \\\\\n",
    "  &w_{\\frac32 ,1,1}( \\mathbf{x}_{1,\\frac14 ,\\frac12 } )\\ v^x_{1\\frac12 ,1,1}.\n",
    "\\end{align*}\n",
    "we can do this for each input normal and assmeble a parse matrix $W^x\\in n\\times (n_x-1)n_yn_z$\n",
    "Then, we can have $v^x = (W^x)^TN^x$. Doing similar for $v^y, v^z$ and stack them together, we can obtain $v$"
   ]
  },
  {
   "cell_type": "markdown",
   "metadata": {},
   "source": [
    "## Poisson Equation\n",
    "Consider some discrete energy minimization problem \n",
    "$$E(g) = \\int_{\\Omega}\\|\\nabla g - V\\|^2 dA$$\n",
    "the Poisson's equation states that the minimizers on $\\Omega$ will satisfy\n",
    "$$\\nabla\\cdot \\nabla g = \\nabla\\cdot v$$"
   ]
  }
 ],
 "metadata": {
  "hide_input": false,
  "kernelspec": {
   "display_name": "Python 3",
   "language": "python",
   "name": "python3"
  },
  "language_info": {
   "codemirror_mode": {
    "name": "ipython",
    "version": 3
   },
   "file_extension": ".py",
   "mimetype": "text/x-python",
   "name": "python",
   "nbconvert_exporter": "python",
   "pygments_lexer": "ipython3",
   "version": "3.7.6"
  }
 },
 "nbformat": 4,
 "nbformat_minor": 4
}
