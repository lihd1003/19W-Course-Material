{
 "cells": [
  {
   "cell_type": "raw",
   "metadata": {},
   "source": [
    "---\n",
    "title: Cubic Stylization\n",
    "order: 100\n",
    "---"
   ]
  },
  {
   "cell_type": "markdown",
   "metadata": {},
   "source": [
    "This is the tutorial part of the libigl style paper implementation project. "
   ]
  },
  {
   "cell_type": "markdown",
   "metadata": {},
   "source": [
    "# Cubic Stylization\n",
    "\n",
    "This tutorial will introduce <a href=\"https://arxiv.org/pdf/1910.02926.pdf\">Cubic Stylization [Liu & Jacobson 2019]</a>, a method to deform the input mesh into a cubic stylized mesh. Generally, the method adds a new L1 regularization on the deformation with ARAP energy optimization. By regularizing each vertex normals to align with the axis, the mesh can have a cubic style, while maintain the local shape. "
   ]
  },
  {
   "cell_type": "markdown",
   "metadata": {},
   "source": [
    "# Problem Setup\n",
    "\n",
    "Given a triangle mesh as a set of vertices $V\\in \\mathbb R^{n\\times 3} $ and a set of faces $F\\in\\mathbb R^{m\\times 3}$. We want to output a deformed shape $\\tilde V$. The output shape will have each sub-component in the style of axis-aligned cubes and will remain the geometric details of the original mesh. "
   ]
  },
  {
   "cell_type": "markdown",
   "metadata": {},
   "source": [
    "# Method\n",
    "\n",
    "The problem is view as an energy optimization problem. We want to minimize the ARAP energy with a L1 regularization. Denote the edges at rest state as $d_{ij} = v_j-v_i$ and at deformed states as $\\tilde d_{ij} = \\tilde v_j - \\tilde v_i$, we can write the optimization problem as \n",
    "\\begin{align*}\n",
    "\\text{minimize} \\quad&\\sum_{i\\in V}\\sum_{j\\in \\mathcal N(i)} \\frac{w_{ij}}{2}\\|R_id_{ij} - \\tilde d_{ij}\\|_F^2 + \\lambda a_i \\|R_i\\tilde n_i\\|_1\\\\\n",
    "\\text{subject to} \\quad& \\tilde V, R_1,..., R_n\n",
    "\\end{align*}\n",
    "The first term is the <a href=\"https://github.com/alecjacobson/geometry-processing-deformation/blob/master/papers/GeomElastic.pdf\">ARAP energy [Sorkine & Alexa 2007]</a> where $R_i$ is the rotation matrix and $w_{ij}$ is the cotangent weight and $\\mathcal N(i)$ is the neighboring of vertex $i$ (for example. two-rings as from the deformation assignment).  \n",
    "The second term is the new, added L1 regularization. $\\hat n_i$ denotes the area-weighted unit normal vector of $v_i$ and $a_i$ is the barycentric area of $v_i$ and $\\lambda$ is a tuning parameter. "
   ]
  },
  {
   "cell_type": "markdown",
   "metadata": {},
   "source": [
    "## Optimizing the energy\n",
    "\n",
    "Generally, we follow the local global step as ARAP energy optimization, i.e. for each iteration, we first optimize the rotations with constant vertex positions, and then optimize vertices with constant rotations. "
   ]
  },
  {
   "cell_type": "markdown",
   "metadata": {},
   "source": [
    "### Local Step\n",
    "The local step involves finding the rotation matrix $R_1,..., R_n$, i.e. For each vertex $i$, we are to optimize \n",
    "$$R_i^* = \\arg\\min_{R_i\\in SO(3)}\\sum_{j\\in \\mathcal N(i)} \\frac{w_{ij}}{2}\\|R_id_{ij} - \\tilde d_{ij}\\|_F^2 + \\lambda a_i \\|R_i\\tilde n_i\\|_1$$\n",
    "note that the ARAP energy can be expressed in a matrix formations\n",
    "$$\\frac12 (R_iD_i-\\tilde D_i)^T W_i (R_iD_i-\\tilde D_i)$$\n",
    "where $D_i,\\tilde D_i \\in \\mathbb R^{3\\times |\\mathcal N(i)|}$ are stacked rim/spoke edge vectors and $W_i$ is the diagonal matrix of $w_1,...,w_n$. Then, write $z = R_i\\hat n_i$, we can turn the formation into\n",
    "\\begin{align*}\n",
    "\\text{minimize}_{z_, R_i} \\quad &\\frac12 (R_iD_i-\\tilde D_i)^T W_i (R_iD_i-\\tilde D_i)+\\lambda a_i\\|z\\|_1\\\\\n",
    "\\text{subject to} \\quad &z-R_i\\hat n_i = 0\n",
    "\\end{align*}\n",
    "We can solve the local step using the scaled-form <a href=\"https://web.stanford.edu/~boyd/papers/pdf/admm_slides.pdf\">ADMM</a> updates. \n",
    "\n",
    "Applying ADMM, the update steps are \n",
    "\\begin{align*}\n",
    "R_i^{k+1} &= \\arg\\min \\frac12(R_iD_i-\\tilde D_i)^T W_i (R_iD_i-\\tilde D_i) +\\frac{\\rho^k}2\\|R_i\\hat n_i - z^k + u^k\\|_2^2\\\\\n",
    "z^{k+1} &= \\arg\\min \\lambda a_i \\|z\\|_1 + \\frac{\\rho^k}2\\|R_i^{k+1} \\hat n_i - z + u^k\\|_2^2\\\\\n",
    "\\tilde u^{k+1} &= u^k + R_i^{k+1} \\hat n_i - z^{k+1}\\\\\n",
    "\\rho^{k+1}, u^{k+1} &= update(\\rho^k)\n",
    "\\end{align*}\n",
    "\n",
    "Then, consider each update, \n",
    "\n",
    "The rotation update can be viewed as \n",
    "\\begin{align*}\n",
    "R_i^{k+1} &= \\arg\\max tr(R_i M_i)\\\\\n",
    "M_i &= \\begin{bmatrix}[D_i]&[\\hat n_i]\\end{bmatrix}\n",
    "\\begin{bmatrix}[W_i]&0\\\\0&\\rho^k\\end{bmatrix}\n",
    "\\begin{bmatrix}[\\tilde D_i]\\\\ [(z^k-u^k)^T] \\end{bmatrix}\n",
    "\\end{align*}\n",
    "This becomes an Orthogonal Procrustes problem, and the solution given by $M = U\\Sigma V^T$ through single value decomposition, and then $$R = UV^T$$ up to $det(R) > 0$ by alternating the sign of $U$'s column.  \n",
    "\n",
    "The $z$ update is an instance of lasso problem [Boyd et al. 2011], which can be solved with a shrinkage step\n",
    "$$z^{k+1} = S_{\\lambda a_i/\\rho^k}(R_i^{k+1}\\hat n_i + u^k)$$\n",
    "where the shrinkage is defined as \n",
    "$$S_\\chi(x_j) = (1-\\frac{\\chi}{|x_j|}) + x_j$$"
   ]
  },
  {
   "cell_type": "markdown",
   "metadata": {},
   "source": [
    "### Global Step\n",
    "Note that when we optimize $V$, there is no $v_i$ in the L1 penalty term, hence we are simply optimizing ARAP energy as in the deformation assignment. "
   ]
  },
  {
   "cell_type": "markdown",
   "metadata": {},
   "source": [
    "## Algorithm\n",
    "Similar to deformation, we can precompute the topology properties since the stylization only change the geometry. Therefore the rough algorithm goes as\n",
    "```\n",
    "cubic_stylization(V, F, lambda):\n",
    "    pre_computation(V, F)\n",
    "    V_tilde <- V\n",
    "    R <- initalize()\n",
    "    while not converge:\n",
    "        R <- local_step(V, V_tilde, lambda)\n",
    "        V_tilde <- global_step(R)\n",
    "```"
   ]
  },
  {
   "cell_type": "markdown",
   "metadata": {},
   "source": [
    "# Implementation\n",
    "\n",
    "In this project, we used `cubic_style_data ` to store all the properties and states of the stylization. We implemented `cubic_style_precomputation`, which computes the precomputated properties and initialize the parameters and states for the optimization problem, and `cubic_style_single_iteration`, which do 1 iteration of local step and global step. \n",
    "\n",
    "Here is a example code snippet\n",
    "``` cpp\n",
    "// initialize data\n",
    "cubic_style_data cubic_data;\n",
    "Eigen::MatrixXd V_tilde;\n",
    "lambda = 0.1 // The parameter for cubic_stylization\n",
    "\n",
    "// b is the snap points for deformation\n",
    "// bc is the position of the handle points\n",
    "cubic_style_precomputation(V, F, b, cubic_data)\n",
    "for (int i = 0; i < MAXITER; i++) {\n",
    "    cubic_style_single_iteration(cubic_data, bc, lambda, V_tilde)\n",
    "}\n",
    "```"
   ]
  },
  {
   "cell_type": "markdown",
   "metadata": {},
   "source": [
    "# Example Results"
   ]
  },
  {
   "cell_type": "markdown",
   "metadata": {},
   "source": [
    "![](./assets/meshes.png)\n",
    "_different cubic stylized meshes_"
   ]
  },
  {
   "cell_type": "markdown",
   "metadata": {},
   "source": [
    "$\\lambda \\in \\mathbb R^+$ is the parameter to control the \"cubic-ness\" of the mesh. Note that $\\lambda$ is not scale invariant. "
   ]
  },
  {
   "cell_type": "markdown",
   "metadata": {},
   "source": [
    "![](./assets/bunny.png)\n",
    "_Different $\\lambda$'s on the bunny mesh_"
   ]
  },
  {
   "cell_type": "markdown",
   "metadata": {},
   "source": [
    "As mentioned in the paper, since we are still doing ARAP energy optimization, deformation is still available with the stylized mesh. "
   ]
  },
  {
   "cell_type": "markdown",
   "metadata": {},
   "source": [
    "![](./assets/deformed.png)\n",
    "_deformation with original mesh and cubic stylized mesh_"
   ]
  }
 ],
 "metadata": {
  "hide_input": false,
  "kernelspec": {
   "display_name": "Python [conda env:csc418]",
   "language": "python",
   "name": "conda-env-csc418-py"
  },
  "language_info": {
   "codemirror_mode": {
    "name": "ipython",
    "version": 3
   },
   "file_extension": ".py",
   "mimetype": "text/x-python",
   "name": "python",
   "nbconvert_exporter": "python",
   "pygments_lexer": "ipython3",
   "version": "3.8.5"
  }
 },
 "nbformat": 4,
 "nbformat_minor": 4
}
