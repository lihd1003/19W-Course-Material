{
 "cells": [
  {
   "cell_type": "raw",
   "metadata": {},
   "source": [
    "---\n",
    "title: 1D Mass Spring System\n",
    "order: 10\n",
    "---"
   ]
  },
  {
   "cell_type": "code",
   "execution_count": 1,
   "metadata": {},
   "outputs": [],
   "source": [
    "import numpy as np\n",
    "import plotly.graph_objects as go \n",
    "from plotly.subplots import make_subplots\n",
    "from IPython.display import display, IFrame, HTML"
   ]
  },
  {
   "cell_type": "markdown",
   "metadata": {},
   "source": [
    "# Problem Setup\n",
    "![png](assets/mass_spring_1d.png)"
   ]
  },
  {
   "cell_type": "markdown",
   "metadata": {},
   "source": [
    "Given a particle of mass $m$ \n",
    "\n",
    "## Generalized coordinates \n",
    "$$q = x(t)$$\n",
    "so that the generalized velocity is \n",
    "$$\\dot q = v(t)$$\n",
    "\n",
    "## Kinetic Energy\n",
    "In 1-D the kinetic energy is $\\frac 12 mv^2 = \\frac 12 m\\dot q$\n",
    "\n",
    "## Potential Energy\n",
    "By Hooke's Law, force is linearly proportional to stretch in spring, i.e. \n",
    "$$f = -kx$$\n",
    "for some stiffness coefficient $k$, then the total mechanical work is \n",
    "$$W = \\int \\underset{\\text{force}}{-kx(t)}\\underset{\\text{displacement}}{v(t)} dt = \\int -kx dx = -\\frac12kx^2$$\n",
    "and the potential energy is the negative of work\n",
    "$$V = -W = \\frac12 kx^2$$\n",
    "\n",
    "## Equation of Motion\n",
    "Therefore, we have \n",
    "$$L = \\frac12 m\\dot q^2 - \\frac12 kq^2$$\n",
    "By Euler Lagrange Equation\n",
    "\\begin{align*}\n",
    "\\frac{\\partial L}{\\partial q} &= \\frac{d}{dt}\\frac{\\partial L}{\\partial \\dot q}\\\\\n",
    "-kq &= \\frac{d}{dt}(m\\dot q)\\\\\n",
    "-kq &= m\\ddot q\\\\\n",
    "\\end{align*}"
   ]
  },
  {
   "cell_type": "markdown",
   "metadata": {},
   "source": [
    "# Time Integration\n",
    "Note that $q:\\mathbb R\\rightarrow \\mathbb R$ is the mapping from time to the position of the particle at that time. Time integration \n",
    " - input: A ODE $\\ddot q = f(q, \\dot q)$ and the initial conditions $q_0 = q(t_0), \\dot q_0 = \\dot q(t_0)$\n",
    " - output: the discrete update equation $q^{t+1} = f(q^t, q^{t+1},...,\\dot q^t, \\dot q^{t+1}, ...)$\n",
    " \n",
    "## The Coupled First Order Systems\n",
    "Note that we have a second-order ODE, $m\\ddot q = -kq$, replaces $\\dot q $ with velocity $v$, we can transform the system into a coupled first order ODE\n",
    "$$m\\dot v = -kq$$\n",
    "rewrite into matrix form\n",
    "$$\\begin{pmatrix}m&0\\\\0&1\\end{pmatrix}\\frac{d}{dt}\\begin{pmatrix}v\\\\q\\end{pmatrix} = \\begin{pmatrix}0&-k\\\\1&0\\end{pmatrix}\\begin{pmatrix}v\\\\q\\end{pmatrix}$$\n",
    "Denote $\\mathbf y = [v, q]^T$, the equation above is further written as \n",
    "$$A  \\dot{\\mathbf y} = \\mathbf f(\\mathbf y)$$\n",
    "\n",
    "## Phase Space\n",
    "We define the phase space as the x-axis being the value of $v$ and y-axis being $q$, so that we can plot the trajectory of the position and velocity through time."
   ]
  },
  {
   "cell_type": "markdown",
   "metadata": {},
   "source": [
    "# Numerical Integration\n",
    "\n",
    "Note that the integration above is simple, while more complex equations may not be suitable for analytical solution, so we need integrate it numerically\n",
    "\n",
    "## Explicit and Implicit Integration\n",
    " - Explicit: Next time step can be computed entirely using the previous and current time step\n",
    " - Implicit: Next time step is computed using future values \n",
    " \n",
    "## Concerns\n",
    " - Performance: runtime / efficiency\n",
    " - Stability: We don't want the spring to \"fly\" out, which means we need the solution to stay \"within\" the bounded system of the analytical solution\n",
    " - Accuracy: the \"visual\" accuracy, we mostly want it looks real, even if the solution may not be mathematically correct"
   ]
  },
  {
   "cell_type": "code",
   "execution_count": 2,
   "metadata": {},
   "outputs": [],
   "source": [
    "class TimeIntegration:\n",
    "    def __init__(self, mass, stiffness, dt, q0, v0):\n",
    "        \"\"\"\n",
    "        mass: the mass of the object\n",
    "        stiffness: the stiffness coefficient of the spring\n",
    "        dt: Delta t for each step taken\n",
    "        q0: the initial position at t0\n",
    "        v0: the initial velocity at t0\n",
    "        \"\"\"\n",
    "        self.m = mass\n",
    "        self.k = stiffness\n",
    "        self.dt = dt\n",
    "        self.q0 = q0\n",
    "        self.v0 = v0\n",
    "        self.trajectory_q = [q0]\n",
    "        self.trajectory_v = [v0]\n",
    "        \n",
    "    def one_step(self):\n",
    "        raise NotImplementedError\n",
    "        \n",
    "    def run(self, step):\n",
    "        for _ in range(step):\n",
    "            self.one_step()\n",
    "            \n",
    "    def plot(self, step, output_file):\n",
    "        self.run(step)\n",
    "        fig = make_subplots(rows=1, cols=2, \n",
    "                            subplot_titles=('Object', 'Phase Space'), \n",
    "                            column_widths=[0.7, 0.3])\n",
    "\n",
    "        fig.add_trace(go.Scatter(x=[0, self.q0], y=[0, 0], marker_size=10), 1, 1)\n",
    "\n",
    "        fig.add_trace(go.Scatter(x=[self.q0], y=[self.v0], marker_size=3), 1, 2)\n",
    "        fig.frames = [go.Frame(data=[go.Scatter(x=[0, self.trajectory_q[i]]),\n",
    "                                go.Scatter(x=self.trajectory_q[:i], y=self.trajectory_v[:i])],\n",
    "                          traces=[0,1]) for i in range(len(self.trajectory_q))]\n",
    "        button = dict(\n",
    "                     label='Play',\n",
    "                     method='animate',\n",
    "                     args=[None, dict(frame=dict(duration=25, redraw=False), \n",
    "                                      transition=dict(duration=0),\n",
    "                                      fromcurrent=True,\n",
    "                                      mode='immediate')])\n",
    "        fig.update_layout(updatemenus=[dict(type='buttons',\n",
    "                                      showactive=False,\n",
    "                                      y=0,\n",
    "                                      x=1.05,\n",
    "                                      xanchor='left',\n",
    "                                      yanchor='bottom',\n",
    "                                      buttons=[button] )\n",
    "                                              ],\n",
    "                         width=800, height=460, showlegend=False)\n",
    "        fig.update_xaxes(range=[-3, 3])\n",
    "        fig.update_yaxes(range=[-20, 20])\n",
    "        fig.write_html(output_file, full_html=False, auto_open=False, include_plotlyjs=\"cdn\", auto_play=False)\n",
    "        display(IFrame(output_file, height=480, width=\"100%\"))\n",
    "        \n",
    "mass = 1 \n",
    "stiffness = 100 \n",
    "dt = 0.01 \n",
    "q0 = 1 \n",
    "v0 = 1"
   ]
  },
  {
   "cell_type": "markdown",
   "metadata": {},
   "source": [
    "## Forward Euler Time Integration\n",
    "Replace time derivative with finite difference\n",
    "$$\\dot{\\mathbf y} \\approx \\frac{1}{\\Delta t} (\\mathbf y^{t+1} - \\mathbf y^t)$$\n",
    "so that \n",
    "\\begin{align*}\n",
    "A  \\frac{1}{\\Delta t} (\\mathbf y^{t+1} - \\mathbf y^t) &= \\mathbf f(\\mathbf y^t)\\\\\n",
    "\\mathbf y^{t+1} &= \\mathbf y^t + \\Delta t A^{-1}\\mathbf f(\\mathbf y^t)\\\\\n",
    "v^{t+1} &= v^t - \\Delta t \\frac{k}{m}q^t\\\\\n",
    "q^{t+1} &= q^t + \\Delta t v^t\n",
    "\\end{align*}\n",
    "\n",
    "### Problem\n",
    "Because we replace the derivative with the current \"slope\", the trajectory is going outwards, which is unstable. "
   ]
  },
  {
   "cell_type": "code",
   "execution_count": 3,
   "metadata": {},
   "outputs": [
    {
     "data": {
      "text/html": [
       "\n",
       "        <iframe\n",
       "            width=\"100%\"\n",
       "            height=\"480\"\n",
       "            src=\"./assets/1d_mass_spring_fe.html\"\n",
       "            frameborder=\"0\"\n",
       "            allowfullscreen\n",
       "        ></iframe>\n",
       "        "
      ],
      "text/plain": [
       "<IPython.lib.display.IFrame at 0x261f25d5b20>"
      ]
     },
     "metadata": {},
     "output_type": "display_data"
    }
   ],
   "source": [
    "class ForwardEuler(TimeIntegration):\n",
    "    def one_step(self):\n",
    "        q_t = self.trajectory_q[-1]\n",
    "        v_t = self.trajectory_v[-1]\n",
    "        self.trajectory_v.append(v_t - self.dt * self.k / self.m * q_t)\n",
    "        self.trajectory_q.append(q_t + self.dt * v_t)\n",
    "        \n",
    "fe = ForwardEuler(mass, stiffness, dt, q0, v0)\n",
    "fe.plot(200, \"./assets/1d_mass_spring_fe.html\")"
   ]
  },
  {
   "cell_type": "markdown",
   "metadata": {},
   "source": [
    "## Runge-Kutta Time Integration\n",
    "\n",
    "To fix the issue with Forward Euler, we can average several \"slope\" to pull the trajectory back. The general idea is \n",
    "$$\\mathbf y^{t+1} = \\mathbf y^t + \\Delta t A^{-1}(\\alpha \\mathbf f(\\mathbf y^{t+a} + \\beta \\mathbf f(\\tilde{\\mathbf y}^{t+b})))$$\n",
    "where $\\tilde {\\mathbf y}^{t+a} = y^t + \\alpha \\Delta tA^{-1}\\mathbf f(\\mathbf y^t)$ is the Forward Euler estimate. \n",
    "\n",
    "Following this template, we can have Heun's Method by taking $a=0, b= 1, \\alpha=\\beta=\\frac12$\n",
    "$$\\mathbf y^{t+1} = \\mathbf y^t + \\frac{\\Delta t}{2} A^{-1}(\\mathbf f(\\mathbf y^t) + \\mathbf f(\\tilde {\\mathbf y}^{t+1}))$$\n",
    "\n",
    "The most general used method is __RK4__, The Fourth-order Runge Kutta Method. \n",
    "\\begin{align*}\n",
    "\\kappa_1 &= A^{-1}\\mathbf f(\\mathbf y^t)\\\\\n",
    "\\kappa_2 &= A^{-1}\\mathbf f(\\mathbf y^t + \\frac{\\Delta t}2 \\kappa_1)\\\\\n",
    "\\kappa_3 &= A^{-1}\\mathbf f(\\mathbf y^t + \\frac{\\Delta t}2 \\kappa_2)\\\\\n",
    "\\kappa_4 &= A^{-1}\\mathbf f(\\mathbf y^t + \\Delta t \\kappa_3)\\\\\n",
    "\\mathbf y^{t+1} &= \\mathbf y^t + \\frac{\\Delta t}{6}(\\kappa_1 + 2\\kappa_2 + 2\\kappa_3 + \\kappa_4)\n",
    "\\end{align*}"
   ]
  },
  {
   "cell_type": "code",
   "execution_count": 4,
   "metadata": {},
   "outputs": [
    {
     "data": {
      "text/html": [
       "\n",
       "        <iframe\n",
       "            width=\"100%\"\n",
       "            height=\"480\"\n",
       "            src=\"./assets/1d_mass_spring_rk4.html\"\n",
       "            frameborder=\"0\"\n",
       "            allowfullscreen\n",
       "        ></iframe>\n",
       "        "
      ],
      "text/plain": [
       "<IPython.lib.display.IFrame at 0x261f28d6280>"
      ]
     },
     "metadata": {},
     "output_type": "display_data"
    }
   ],
   "source": [
    "class RK4(TimeIntegration):\n",
    "    def one_step(self):\n",
    "        q_t = self.trajectory_q[-1]\n",
    "        v_t = self.trajectory_v[-1]\n",
    "        weights = np.array((1, 2, 2, 1))\n",
    "        kappa = np.empty((4, 2))\n",
    "        kappa[0, 0] = v_t\n",
    "        kappa[0, 1] = - self.k / self.m * q_t\n",
    "        \n",
    "        kappa[1, 0] = v_t + self.dt * 0.5 * kappa[0, 1]\n",
    "        kappa[1, 1] = - self.k / self.m * (q_t + self.dt * 0.5 * kappa[0, 0])\n",
    "        \n",
    "        kappa[2, 0] = v_t + self.dt * 0.5 * kappa[1, 1]\n",
    "        kappa[2, 1] = - self.k / self.m * (q_t + self.dt * 0.5 * kappa[1, 0])\n",
    "        \n",
    "        kappa[3, 0] = v_t + self.dt * kappa[2, 1]\n",
    "        kappa[3, 1] = - self.k / self.m * (q_t + self.dt * kappa[2, 0])\n",
    "        \n",
    "        self.trajectory_q.append(q_t + self.dt / 6 * np.dot(kappa[:, 0], weights))\n",
    "        self.trajectory_v.append(v_t + self.dt / 6 * np.dot(kappa[:, 1], weights))\n",
    "        \n",
    "rk4 = RK4(mass, stiffness, dt, q0, v0)\n",
    "rk4.plot(200, \"./assets/1d_mass_spring_rk4.html\")"
   ]
  },
  {
   "cell_type": "markdown",
   "metadata": {},
   "source": [
    "## Backward Euler Time Integration\n",
    "This is the implicit time integration. Compare to Forward Euler, instead of evaluating at the current step, we evaluate at the next time step, i.e.\n",
    "$$A  \\frac{1}{\\Delta t} (\\mathbf y^{t+1} - \\mathbf y^t) = \\mathbf f(\\mathbf y^{t+1})$$\n",
    "Note that the unknown $\\mathbf y^{t+1}$ appears on both sides, which causes problem. \n",
    "However, if we look back at $\\mathbf f (\\mathbf y)$, note that \n",
    "$$\\mathbf f (\\mathbf y) = \\begin{pmatrix}0&-k\\\\1&0\\end{pmatrix}\\begin{pmatrix}v\\\\q\\end{pmatrix} = B\\mathbf y$$\n",
    "Since $\\mathbf f$ is a linear function, we have \n",
    "\\begin{align*}\n",
    "A  \\frac{1}{\\Delta t} (\\mathbf y^{t+1} - \\mathbf y^t) &= B\\mathbf y^{t+1}\\\\\n",
    "(I - \\Delta t A^{-1}B)\\mathbf y^{t+1} &= \\mathbf y^t\\\\\n",
    "(1+\\Delta t^2 \\frac km) v^{t+1} &= v^t - \\Delta t \\frac km q^t\\\\\n",
    "q^{t+1} &= q^t + \\Delta tv^{t+1}\n",
    "\\end{align*}\n",
    "Note that this is stable since the vector difference is the slope at $t+1$, which means it \"pulls\" back the trajectory to the origin. "
   ]
  },
  {
   "cell_type": "code",
   "execution_count": 5,
   "metadata": {},
   "outputs": [
    {
     "data": {
      "text/html": [
       "\n",
       "        <iframe\n",
       "            width=\"100%\"\n",
       "            height=\"480\"\n",
       "            src=\"./assets/1d_mass_spring_be.html\"\n",
       "            frameborder=\"0\"\n",
       "            allowfullscreen\n",
       "        ></iframe>\n",
       "        "
      ],
      "text/plain": [
       "<IPython.lib.display.IFrame at 0x261f0e7bd60>"
      ]
     },
     "metadata": {},
     "output_type": "display_data"
    }
   ],
   "source": [
    "class BackwardEuler(TimeIntegration):\n",
    "    def one_step(self):\n",
    "        q_t = self.trajectory_q[-1]\n",
    "        v_t = self.trajectory_v[-1]\n",
    "        v = v_t - self.dt * self.k / self.m * q_t\n",
    "        v = v / (1. + self.dt * self.dt * self.k / self.m)\n",
    "        self.trajectory_v.append(v)\n",
    "        self.trajectory_q.append(q_t + self.dt * v)\n",
    "        \n",
    "be = BackwardEuler(mass, stiffness, dt, q0, v0)\n",
    "be.plot(200, \"./assets/1d_mass_spring_be.html\")"
   ]
  },
  {
   "cell_type": "markdown",
   "metadata": {},
   "source": [
    "## Symplectic Euler Time Integration\n",
    "Note that Forward Euler causes the exploding trajectory and the Backward Euler causes damping, we can do the two integrations alternately to \"cancel out\" long term effect, i.e.\n",
    "\n",
    "First take an explicit velocity step\n",
    "$$v^{t+1} = v^t - \\Delta t \\frac km q^t$$\n",
    "Then take an implicit position step\n",
    "$$q^{t+1} = q^t + \\Delta t v^{t+1}$$"
   ]
  },
  {
   "cell_type": "code",
   "execution_count": 6,
   "metadata": {},
   "outputs": [
    {
     "data": {
      "text/html": [
       "\n",
       "        <iframe\n",
       "            width=\"100%\"\n",
       "            height=\"480\"\n",
       "            src=\"./assets/1d_mass_spring_sc.html\"\n",
       "            frameborder=\"0\"\n",
       "            allowfullscreen\n",
       "        ></iframe>\n",
       "        "
      ],
      "text/plain": [
       "<IPython.lib.display.IFrame at 0x261f2a80c70>"
      ]
     },
     "metadata": {},
     "output_type": "display_data"
    }
   ],
   "source": [
    "class Symplectic(TimeIntegration):\n",
    "    def one_step(self):\n",
    "        q_t = self.trajectory_q[-1]\n",
    "        v_t = self.trajectory_v[-1]\n",
    "        v = v_t - self.dt * self.k / self.m * q_t\n",
    "        self.trajectory_v.append(v)\n",
    "        self.trajectory_q.append(q_t + self.dt * v)\n",
    "        \n",
    "sc = Symplectic(mass, stiffness, dt, q0, v0)\n",
    "sc.plot(200, \"./assets/1d_mass_spring_sc.html\")"
   ]
  }
 ],
 "metadata": {
  "hide_input": false,
  "kernelspec": {
   "display_name": "Python [conda env:csc418]",
   "language": "python",
   "name": "conda-env-csc418-py"
  },
  "language_info": {
   "codemirror_mode": {
    "name": "ipython",
    "version": 3
   },
   "file_extension": ".py",
   "mimetype": "text/x-python",
   "name": "python",
   "nbconvert_exporter": "python",
   "pygments_lexer": "ipython3",
   "version": "3.8.5"
  }
 },
 "nbformat": 4,
 "nbformat_minor": 4
}
