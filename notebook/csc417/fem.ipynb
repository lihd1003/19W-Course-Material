{
 "cells": [
  {
   "cell_type": "raw",
   "metadata": {},
   "source": [
    "---\n",
    "title: Finite Element Method\n",
    "order: 40\n",
    "---"
   ]
  },
  {
   "cell_type": "markdown",
   "metadata": {},
   "source": [
    "# Motivation\n",
    "A mass spring system is just a bunch of springs and nodes, which leaves very much \"empty\" space in the space. For some complex animation simulations, we need to find a better representation to \"fill in\" the space. We are interested in the continuum mechanics (continuum: the hypothesis that the material is uniformly the same across all points). \n",
    "\n",
    "# Volume by Tetrahedral\n",
    "A tetrahedral is a 3D object by connecting 4 vertices $x_0(t), x_1(t), x_2(t), x_3(t)$, and we can have generalized coordinates $\\mathbf q=(x_0, x_1, x_2, x_3)^T$ and $\\dot{\\mathbf q} = (\\dot{x_0}, \\dot{x_1}, \\dot{x_2}, \\dot{x_3})^T = (v_0,v_1,v_2,v_3)^T$. \n",
    "\n",
    "## Finite Elements\n",
    "Let $\\mathbf{X_0},...,\\mathbf{X_3}$ be the fixed position of the 4 vertices of a tetrahedral $T$, $f$ be some unknown function with known $f(\\mathbf{X_i}), i=0,...,3$. We want to find $f$ for every point in $T$. We can have\n",
    "$$f(\\mathbf{X}) = \\sum_{i=0}^3 f(\\mathbf{X_i})\\phi_i(\\mathbf{X})$$\n",
    "where $\\phi_i$ is the weight function, or shape function, that associate with each vertices so that $f(\\mathbf{X})$ is a weighted sum of values from the 4 vertices. \n",
    "\n",
    "Consider some wanted properties of the equation above, let $f = id$\n",
    "$$\\mathbf{X} = \\sum^3_{i=0} \\mathbf{X_i}\\phi_i(\\mathbf{X})$$\n",
    "Note that $\\mathbf{X}\\in\\mathbb R^3$, so that we currently have $3$ equations and $4$ unknowns $\\phi_0,...,\\phi_3$. However, note that we want this act as a weighted average, so we can add one more constraint $\\phi_0 + ... + \\phi_3 = 1$. This gives us $4$ equations, and we can simply replace $\\phi_0$ with $1-\\phi_1-\\phi_2-\\phi_3$, resulting in the final system\n",
    "$$\\begin{pmatrix}\\Delta X\\\\\\Delta Y\\\\\\Delta Z\\end{pmatrix} = \n",
    "\\begin{pmatrix}\\Delta X_1&\\Delta X_2&\\Delta X_3\\\\\n",
    "\\Delta Y_1&\\Delta Y_2&\\Delta Y_3\\\\\n",
    "\\Delta Z_1&\\Delta Z_2&\\Delta Z_3\n",
    "\\end{pmatrix} \n",
    "\\begin{pmatrix}\\phi_1(X)\\\\\\phi_2(X)\\\\\\phi_3(X)\\end{pmatrix}$$\n",
    "where $\\Delta X = X - X_0$. We can think of shotting 3 rays from $X_0$ and use this to construct the barycentric coordinates. Finally, we have \n",
    "$$\\begin{pmatrix}\\phi_1(X)\\\\\\phi_2(X)\\\\\\phi_3(X)\\end{pmatrix} = T^{-1}(\\mathbf{X}-\\mathbf{X_0}), \\phi_0 = 1-\\phi_1-\\phi_2-\\phi_3$$"
   ]
  },
  {
   "cell_type": "markdown",
   "metadata": {},
   "source": [
    "## Deformation\n",
    "Let $\\mathbf{X_0}, ..., \\mathbf{X_3}$ be tetrahedral in the reference (undeformed) space and $x_0(t),...,x_3(t)$ be the tetrahedral in the world (deformed) space. Therefore, with the $\\phi$'s found above, we have the deformed point everywhere in the tetrahedral as \n",
    "$$x(\\mathbf X) = \\sum_{i=0}^3 x_i(t) \\phi_i(\\mathbf X) = \\underset{N(\\mathbf X)}{\\begin{pmatrix}\\phi_0I&\\phi_1I&\\phi_2I&\\phi_3I\\end{pmatrix}}\\underset{q(t)}{\\begin{pmatrix}x_0\\\\x_1\\\\x_2\\\\x_3\\end{pmatrix}}$$\n"
   ]
  },
  {
   "cell_type": "markdown",
   "metadata": {},
   "source": [
    "# Kinetic Energy\n",
    "\n",
    "# Per tetrahedron\n",
    "The kinetic energy of a tetrahedron is simply the integral of all points\n",
    "$$\\frac12 \\int_{T}\\rho\\|v(\\mathbf X)\\|_2^2 dT = \\frac12 \\int_{T}\\rho v^Tv dT$$\n",
    "where $\\rho$ is the density of the material.  \n",
    "\n",
    "Then, since the shape function is irrelavent to $\\mathbf q$, \n",
    "$$v(X) = \\dot x(X) = N(X)\\dot{\\mathbf q}$$\n",
    "Then, the integral becomes \n",
    "$$\\frac12 \\int_{T}\\rho  \\dot{\\mathbf q}^TN(X)^T N(X)\\dot{\\mathbf q} dT = \\frac 12\\dot{\\mathbf q}^T \\bigg(\\int_{T}\\rho  N(X)^T N(X) dT \\bigg)\\dot{\\mathbf q}$$\n",
    "We can all this integral inside $M_0$, i.e. the mass matrix. We can expand the mass matrix as \n",
    "$$\\int_T\\rho \\begin{bmatrix}\\phi_0\\phi_0I &\\cdots &\\phi_0\\phi_3I\\\\\\vdots&\\ddots&\\vdots\\\\\\phi_3\\phi_0I&\\cdots&\\phi_3\\phi_3I\\end{bmatrix}dT$$\n",
    "and we can evaluate each term separately from the barycentric coordinates, for each element \n",
    "$$\\rho \\int_T \\phi_r(\\mathbf X)\\phi_x(\\mathbf X)dT I = 6\\rho \\cdot vol\\cdot\\int_0^1\\int_0^{1-\\phi_1}\\int_0^{1-\\phi_1-\\phi_2}(\\phi_r\\phi_s)d\\phi_3\\phi_2\\phi_1$$"
   ]
  },
  {
   "cell_type": "markdown",
   "metadata": {},
   "source": [
    "## The Full Object\n",
    "For per tetrahedron kinetic energy we have \n",
    "$$T_j = \\frac12 \\dot{\\mathbf q_j}^TM_j\\dot{\\mathbf q}_j$$\n",
    "And we have the generalized coordinates and velocity of the object as the stacking of all the vertices positions and velocities, i.e. $\\mathbf q = (x_0,...,x_n)^T$, so that we can use the selection matrix to get each $\\mathbf{q}_j$ from $\\mathbf q$, and the total kinetic energy is\n",
    "$$T =  \\sum_0^{j-1}\\frac12 \\dot{\\mathbf q}^TE_j^TM_jE_j\\dot{\\mathbf q} = \\frac12 \\dot{\\mathbf q}^T\\big(\\sum_0^{j-1}E_j^TM_jE_j\\big)\\dot{\\mathbf q} = \\frac12 \\dot{\\mathbf q}^T M\\dot{\\mathbf q}$$"
   ]
  },
  {
   "cell_type": "markdown",
   "metadata": {},
   "source": [
    "# Potential Energy\n",
    "## Per pair points\n",
    "Note that we have the reference space positions and world space, and the corresponding positions of each point. Arbitrarily pick $\\mathbf X_0, \\mathbf X_1$ from the reference space, let $\\Delta \\mathbf X = \\mathbf X_1 - \\mathbf X_0$. Then, its corresponding points and vector are $x(\\mathbf X_0)$ and $x(\\mathbf X_1)$, so that \n",
    "\\begin{align*}\\Delta \\mathbf x &= x(\\mathbf X_1) - x(\\mathbf X_0) \\\\\n",
    "&= x(\\mathbf X_0 + \\Delta \\mathbf X) - x(\\mathbf X_0)\\\\\n",
    "&\\approx x(\\mathbf X_0) + \\frac{\\partial x}{\\partial \\mathbf X}\\Delta \\mathbf X - x(\\mathbf X_0)&\\text{Taylor expansion}\\\\\n",
    "&= \\frac{\\partial x}{\\partial \\mathbf X}\\Delta \\mathbf X\\\\\n",
    "&= F\\Delta \\mathbf X &\\text{call deformation gradient }F\n",
    "\\end{align*}\n",
    "The strain between the points is represented by $l^2 - l^2_0$,\n",
    "\\begin{align*}\n",
    "l^2 - l^2_0 &= \\Delta x^T\\Delta x  - \\Delta \\mathbf X^T\\Delta \\mathbf X \\\\\n",
    "&= \\Delta \\mathbf X^TF^TF\\Delta \\mathbf X - \\Delta \\mathbf X^T\\Delta \\mathbf X\\\\\n",
    "&= \\Delta \\mathbf X^T(F^TF - I)\\Delta \\mathbf X\n",
    "\\end{align*}\n",
    "We call $F^TF$ the __Right Cauchy Green Deformation__, and $(F^TF - I)$ __Green Lagrange Strain__. \n",
    "\n",
    "## Per tetrahedron\n",
    "Like $\\psi$ be a strain energy density function, which maps the strain to the potential energy. Then, we can integrate over the points as \n",
    "$$\\int_T \\psi(F(\\mathbf X))dT$$\n",
    "Then, let's consider $F(\\mathbf X)$, note that \n",
    "\\begin{align*}\n",
    "x(\\mathbf X) &= N(\\mathbf X)\\mathbf q(t)\\\\\n",
    "&= \\mathbf x_0 + \\begin{pmatrix}\\mathbf x_0&\\mathbf x_1&\\mathbf x_2&\\mathbf x_3\\end{pmatrix}\n",
    "\\begin{pmatrix}\\begin{pmatrix}-1&-1&-1\\end{pmatrix} \\cdot T^{-1}\\\\T{-1}\\end{pmatrix}\n",
    "(\\mathbf X - \\mathbf X_0)\\\\\n",
    "F = \\frac{\\partial x}{\\partial \\mathbf X} &= \\begin{pmatrix}\\mathbf x_0&\\mathbf x_1&\\mathbf x_2&\\mathbf x_3\\end{pmatrix}\n",
    "\\begin{pmatrix}\\begin{pmatrix}-1&-1&-1\\end{pmatrix} \\cdot T^{-1}\\\\T^{-1}\\end{pmatrix}\n",
    "\\end{align*}\n",
    "Note that $F$ is constant, so that the integral simply evaluate as \n",
    "$$\\int_T \\psi(F(\\mathbf X))dT = vol \\cdot \\psi(F_0)$$\n",
    "\n",
    "## The Full Object\n",
    "Then, simply summing over all tetrahedrons with the usage of selection matrix\n",
    "$$V = \\sum_{j=0}^{m-1}vol_j \\cdot \\psi(F_j(E_j\\mathbf q))$$"
   ]
  },
  {
   "cell_type": "markdown",
   "metadata": {},
   "source": [
    "# The Lagrangian\n",
    "Then, plug in $L = T - V$ and apply Euler-Lagrange Equation $\\frac{d}{dt}\\frac{\\partial L}{\\partial \\dot{\\mathbf q}} = - \\frac{\\partial V}{\\partial \\mathbf q}$, we finally arrives \n",
    "$$M\\ddot{\\mathbf q} = -\\frac{\\partial V}{\\partial \\mathbf q}$$\n",
    "\n",
    "Then consider $ -\\frac{\\partial V}{\\partial \\mathbf q} = -\\sum_{j=0}^{m-1}vol_j \\cdot \\frac{\\partial}{\\partial \\mathbf q}\\psi(F_j(E_j\\mathbf q))$, this differentiation is tricky due to $F$ being a matrix. We can flatten $F$ to a vectorized deformation gradient. For example, a row-wise flatten will have"
   ]
  },
  {
   "cell_type": "markdown",
   "metadata": {},
   "source": [
    "\\begin{align*}\n",
    "F &= \\begin{pmatrix}\n",
    "\\partial_X x &\\partial_Y x&\\partial_Z x\\\\\n",
    "\\partial_X y &\\partial_Y y&\\partial_Z y\\\\\n",
    "\\partial_X z &\\partial_Y z&\\partial_Z z\n",
    "\\end{pmatrix}\\\\\\Rightarrow \n",
    "\\vec F_{9\\times 1} &=\n",
    "\\begin{pmatrix}\n",
    "\\partial_X x &\\partial_Y x&\\partial_Z x&\n",
    "\\partial_X y &\\partial_Y y&\\partial_Z y&\n",
    "\\partial_X z &\\partial_Y z&\\partial_Z z\n",
    "\\end{pmatrix}^T\\\\\n",
    "D&=\\begin{pmatrix}\\begin{pmatrix}-1&-1&-1\\end{pmatrix} \\cdot T^{-1}\\\\T{-1}\\end{pmatrix}\\\\\n",
    "\\Rightarrow B_{9\\times 12} &=\n",
    "\\begin{pmatrix}\n",
    "D_{0\\cdot}&\\vec 0&\\vec 0&D_{1\\cdot}&\\vec0&\\vec0&D_{2\\cdot}&\\vec0&\\vec0&D_{3\\cdot}&\\vec0&\\vec0\\\\\n",
    "\\vec0&D_{0\\cdot}&\\vec 0&\\vec 0&D_{1\\cdot}&\\vec0&\\vec0&D_{2\\cdot}&\\vec0&\\vec0&D_{3\\cdot}&\\vec0\\\\\n",
    "\\vec0&\\vec0&D_{0\\cdot}&\\vec 0&\\vec 0&D_{1\\cdot}&\\vec0&\\vec0&D_{2\\cdot}&\\vec0&\\vec0&D_{3\\cdot}\\\\\n",
    "\\end{pmatrix}\\\\\n",
    "\\text{where }D_{i\\cdot} &= \\begin{pmatrix}D_{i0} &D_{i1}&D_{i2}\\end{pmatrix}^T,\\vec 0= \\begin{pmatrix}0&0&0\\end{pmatrix}^T\\\\\n",
    "\\vec {\\mathbf x}_{12\\times 1} &= \\begin{pmatrix}\\mathbf x_0^T&\\mathbf x_1^T&\\mathbf x_2^T&\\mathbf x_3^T\\end{pmatrix}^T\\\\\n",
    "\\vec F &= B \\vec{\\mathbf x}\n",
    "\\end{align*}"
   ]
  },
  {
   "cell_type": "markdown",
   "metadata": {},
   "source": [
    "Then, we can put the new dirivatives back, we have \n",
    "\\begin{align*} -\\frac{\\partial V}{\\partial \\mathbf q} &=  -\\sum_{j=0}^{m-1}vol_j \\cdot \\frac{\\partial}{\\partial \\mathbf q}\\psi(F_j(E_j\\mathbf q))\\\\\n",
    "&= -\\sum_{j=0}^{m-1}vol_j \\cdot \\frac{\\partial}{\\partial \\mathbf q}\\psi(B_jE_j\\mathbf q))\\\\\n",
    "&= -\\sum_{j=0}^{m-1}vol_j \\cdot E_j^TB_j^T\\frac{\\partial \\psi(F_j)}{\\partial F}\\\\\n",
    "\\mathbf f_j&= -vol_j \\cdot B_j^T\\frac{\\partial \\psi(F_j)}{\\partial F}\\\\\n",
    "\\mathbf f &= \\sum_0^{m-1}E_j^T\\mathbf f_j\n",
    "\\end{align*}"
   ]
  },
  {
   "cell_type": "markdown",
   "metadata": {},
   "source": [
    "# Time Integration Using Backward Euler\n",
    "Although we can still use linear implicit time integration, it's quite unstable in this case. Instead we will use backward Euler\n",
    "$$M\\dot{\\mathbf q}^{t+1} = M\\dot{\\mathbf q}^t + \\Delta t \\mathbf f(\\mathbf q^{t+1})$$\n",
    "$$\\mathbf q^{t+1} = \\mathbf q^t + \\Delta \\dot{\\mathbf q}^{t+1}$$\n",
    "Which is solving the equation \n",
    "$$M\\dot{\\mathbf q}^{t+1} - M\\dot{\\mathbf q}^t - \\Delta t \\mathbf f(\\mathbf q^t + \\Delta \\dot{\\mathbf q}^{t+1}) = 0$$\n",
    "However, this equation is non-linear and we need to do non-linear optimization. Define\n",
    "$$E(\\mathbf v) = \\frac 12 (\\mathbf v - \\dot{\\mathbf q}^t)^TM(\\mathbf v - \\mathbf q^t) + V(\\mathbf q^t + \\Delta t \\mathbf v)$$\n",
    "Note that $\\partial_{\\mathbf v} E = M\\dot{\\mathbf q}^{t+1} - M\\dot{\\mathbf q}^t - \\Delta t \\mathbf f(\\mathbf q^t + \\Delta \\dot{\\mathbf q}^{t+1})$, so that when $E$ is at minimum, we can have $\\partial E = 0$. "
   ]
  },
  {
   "cell_type": "markdown",
   "metadata": {},
   "source": [
    "## Newton's Method\n",
    "(More derivations in APM462 or CSC336 notes)\n",
    "\n",
    "Newton's Method is an iterative algorithm as follows\n",
    "```python\n",
    "def netwon_method(v0):\n",
    "    v = v0\n",
    "    while grad(E(v)).norm() < tolerance:\n",
    "        solve Hessian(E(v)) d = - grad(E(v))\n",
    "        a = [choose a]\n",
    "        v = v + a * d\n",
    "    return v\n",
    "```\n",
    "with\n",
    "$$grad = \\frac{\\partial E}{\\partial \\mathbf v} = M(\\mathbf v - \\dot{\\mathbf q}^t) + \\Delta t \\frac{\\partial V}{\\partial \\mathbf q}\\mid_{\\mathbf q^t + \\Delta t \\mathbf v}$$\n",
    "$$Hessian = \\frac{\\partial^2 E}{\\partial \\mathbf v^2} = M + \\Delta t^2 \\frac{\\partial^2 V}{\\partial \\mathbf q^2}\\mid_{\\mathbf q^t + \\Delta t \\mathbf v}$$"
   ]
  },
  {
   "cell_type": "markdown",
   "metadata": {},
   "source": [
    "## Line Search\n",
    "Note the `[choose a]` part in Newton's Method, how do we know a $\\alpha$ is appropriate, which means not to small for a update and not to large that gets out of the decreasing gradient. Therefore, we can set a target value as $E(v) + c d^T g$, by MVT, this will be larger than the optimum we want but smaller than $E(v)$. Then, if we can find some update that's smaller than this, then we made sufficient progress. Therefore, the algorithm is\n",
    "``` python\n",
    "def line_search(v, d, g):\n",
    "    a = a_max #an initial guess\n",
    "    while E(v + ad) > E(v) + c * d.T.dot(g) and a >= tolerance:\n",
    "        a = p * a #choose some p < 1, so that a is reduced\n",
    "    return a\n",
    "```"
   ]
  },
  {
   "cell_type": "markdown",
   "metadata": {},
   "source": [
    "# Skinning\n",
    "Note that tetrahedral mesh for the simulation is much more computation expensive. We cannot use a very fine mesh for the simulation. Instead, we will use a \"skinning\" triangle mesh. \n",
    "\n",
    "We start with the precondition that each vertex of the skinning mesh will be contained in the simulation mesh. Then, note that for each vertex in the skinning mesh, it is within some tetrahedron, which we can map it to the 4 vertices with barycentric coordinates. For example, for triangle $X_A, X_B, X_C$ in the reference space, its position in the reformed space is \n",
    "$$\\begin{pmatrix}x(X_A)\\\\x(X_B)\\\\x(X_C)\\end{pmatrix} = \n",
    "\\begin{pmatrix}\n",
    "\\phi_0(X_A)I &\\phi_1(X_A)I &\\phi_2(X_A)I &\\phi_3(X_A)I \\\\\n",
    "\\phi_0(X_B)I &\\phi_1(X_B)I &\\phi_2(X_B)I &\\phi_3(X_B)I \\\\\n",
    "\\phi_0(X_C)I &\\phi_1(X_C)I &\\phi_2(X_C)I &\\phi_3(X_C)I \n",
    "\\end{pmatrix}\\begin{pmatrix}x_0\\\\x_1\\\\x_2\\\\x_3\\end{pmatrix}\n",
    "$$\n",
    "With the generalized coordinates $q$, we can then construct the skinning weights $W$ or dimension $\\|V_{\\text{skin}} \\|\\times \\|V_{\\text{sim}}|$ so that $\\mathbf x_{\\text{surface}} = W \\mathbf q$"
   ]
  }
 ],
 "metadata": {
  "hide_input": false,
  "kernelspec": {
   "display_name": "Python [conda env:csc418]",
   "language": "python",
   "name": "conda-env-csc418-py"
  },
  "language_info": {
   "codemirror_mode": {
    "name": "ipython",
    "version": 3
   },
   "file_extension": ".py",
   "mimetype": "text/x-python",
   "name": "python",
   "nbconvert_exporter": "python",
   "pygments_lexer": "ipython3",
   "version": "3.8.5"
  }
 },
 "nbformat": 4,
 "nbformat_minor": 4
}
