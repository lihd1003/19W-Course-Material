{
 "cells": [
  {
   "cell_type": "raw",
   "metadata": {},
   "source": [
    "---\n",
    "title: Rigid Body Simulation\n",
    "order: 60\n",
    "---"
   ]
  },
  {
   "cell_type": "markdown",
   "metadata": {},
   "source": [
    "# Rigid Body\n",
    "\n",
    "## Defining the Transformation\n",
    "Reviewing cloth simulation and deformable objects, we simulate a deformation from reference $X$ to world space $x$ as \n",
    "$$\\Delta x\\approx \\underset{F}{\\frac{\\partial x}{\\partial X}}\\Delta X$$\n",
    "so that we can have the strain \n",
    "\\begin{align*}\n",
    "\\Delta x^T\\Delta x - \\Delta X^T\\Delta X &= \\Delta X F^TF\\Delta X - \\Delta X^T\\Delta X\\\\\n",
    "&= \\Delta X^T(F^TF-I)\\Delta X\n",
    "\\end{align*}\n",
    "where $F^TF-I$ is the Green Lagrange Strain. \n",
    "\n",
    "For a rigid object, the object cannot be deformed so that $F^TF-I = 0\\Rightarrow F^TF=I\\Rightarrow F\\in O(3)$, i.e. $F$ is an orthogonal matrix.  \n",
    "For common 3D transformations, rotation matrices and reflection matrices are both orthogonal. However, reflection will have the object's topology passing through itself, which is not rigid.\n",
    "\n",
    "Therefore, we limit $F\\in SO(3)$, i.e. rigid bodies can only rotate, and $SO(3)$ is called the special orthogonal Group, \n",
    "$$\\forall R\\in SO(3). R^T = R^{-1}\\land \\det(R) > 0$$. \n",
    "In addition, rigid bodies can translate. Therefore, we have the rigid transformation from reference to world space as \n",
    "$$\\mathbf x(\\mathbf X, t) = R(t)\\mathbf X + \\mathbf p(t)$$\n",
    "$\\mathbf x, \\mathbf X \\in \\mathbb R^3$, $R\\in SO(3)$ is the rotation and $\\mathbf p\\in \\mathbb R^3$ is the translation (often written in $\\mathbf t$ but we don't want this to be confused with time $t$). "
   ]
  },
  {
   "cell_type": "markdown",
   "metadata": {},
   "source": [
    "## Generalized Coordinates\n",
    "Consider the mapping \n",
    "$$\\mathbf x(\\mathbf X, t) = R(t)\\mathbf X + \\mathbf p(t)$$\n",
    "clearly, only $R, \\mathbf p$ is about time, so that our generalized coordinates is \n",
    "$$\\mathbf q = \\{R, \\mathbf p\\}$$\n",
    "Note that $\\mathbf q$ is a set instead of a unified stacked vector. "
   ]
  },
  {
   "cell_type": "markdown",
   "metadata": {},
   "source": [
    "## Generalized Velocity\n",
    "Consider the time derivative of the transformation on a single point\n",
    "\\begin{align*}\n",
    "\\mathbf v(\\mathbf X,t ) &= \\dot{\\mathbf x}(\\mathbf X, t) \\\\\n",
    "&= \\frac{d}{dt}R(t)\\mathbf X + \\frac{d}{dt}\\mathbf p(t)\\\\\n",
    "&= \\dot{R(t)}\\mathbf X + \\dot{\\mathbf p(t)}\n",
    "\\end{align*}\n",
    "$\\dot{\\mathbf p(t)}$ is called the __linear velocity__ since it's just the velocity of the origin of the object moves,  \n",
    "$\\dot{R(t)}$ is the __time derivative of rotation matrix__, and it's more complex, we can represent it with \n",
    "$$\\dot{R(t)} = R{[X]_{\\times}}^TR^T\\omega$$\n",
    "where $[\\cdot]_\\times$ is the cross product matrix, \n",
    "$$X\\in\\mathbb R^3. [X]_{\\times} = \\begin{bmatrix}0&-X_z& X_y\\\\X_z&0&-X_z\\\\-X_y&X_x&0\\end{bmatrix}, a\\times b = [a]_\\times b$$\n",
    "$\\omega\\in\\mathbb R^3$ is the __angular velocity__, $\\|\\omega\\|$ (magnitude) encodes the speed or rotation and angle encodes the axis of rotation. \n",
    "\n",
    "\\begin{align*}\n",
    "\\mathbf v(\\mathbf X,t ) &= \\dot{R(t)}\\mathbf X + \\dot{\\mathbf p(t)}\\\\\n",
    "&= R{[X]_{\\times}}^TR^T\\omega + \\dot{\\mathbf p(t)}\\\\\n",
    "&= R \\begin{bmatrix}{[X]_{\\times}}^T&I\\end{bmatrix}\\begin{bmatrix}R^T&0\\\\0&R^T\\end{bmatrix}\\begin{bmatrix}\\omega\\\\\\dot{\\mathbf p}\\end{bmatrix}\\\\\n",
    "&= R \\begin{bmatrix}{[X]_{\\times}}^T&I\\end{bmatrix}A\\dot{\\mathbf q}\n",
    "\\end{align*}\n",
    "Since $R, \\mathbf X$ is constant about $t$, we can define our generalized velocity $\\dot{\\mathbf q}\\in\\mathbb R^6 = [\\omega, \\dot{\\mathbf p}]^T$. and we define $A = \\begin{bmatrix}R^T&0\\\\0&R^T\\end{bmatrix}$ to simplify the expression."
   ]
  },
  {
   "cell_type": "markdown",
   "metadata": {},
   "source": [
    "# Kinetic Energy\n",
    "As usual, we can find kinetic energy as\n",
    "\\begin{align*}\n",
    "\\frac12\\int_\\Omega\\rho\\|\\mathbf v(\\mathbf X )\\|_2^2 d\\Omega &= \\frac12\\int_\\Omega \\rho \\mathbf v^T\\mathbf v d\\Omega\\\\\n",
    "&= \\frac12\\dot{\\mathbf q}^TA^T \\big(\\rho\\int_\\Omega \n",
    "\\begin{bmatrix}[\\mathbf X]_\\times {[\\mathbf X]_\\times}^T &[\\mathbf X]_\\times \\\\ [\\mathbf X]_\\times&I\\end{bmatrix}\n",
    "d\\Omega\\big)A\\dot{\\mathbf q}\\\\\n",
    "&= \\frac12\\dot{\\mathbf q}^TM\\dot{\\mathbf q}\n",
    "\\end{align*}\n",
    "where $M$ is the mass matrix, $M = A^T \\big(M_0\\big)A$ and $M_0 \\in \\mathbb R^{6\\times 6}$ is a constant matrix integrating over the whole volume. \n",
    "\n",
    "## Center of Mass\n",
    "The center of mass is defined as the weighted average of points of the volume,\n",
    "$$\\mathbf C = \\frac1m \\int_\\Omega\\rho\\mathbf X d\\Omega, m = \\int_\\Omega \\rho d\\Omega$$\n",
    "With the center of Mass, we can transfer our reference space to the center-of-mass coordinates system\n",
    "$$\\bar{\\mathbf X} = \\mathbf X - \\mathbf C$$\n",
    "This is convenient for the computation of $M_0$, \n",
    "$$M_0 =\\rho\\int_\\Omega \\begin{bmatrix}[\\mathbf X]_\\times {[\\mathbf X]_\\times}^T &[\\mathbf X]_\\times \\\\ [\\mathbf X]_\\times&I\\end{bmatrix}\n",
    "d\\Omega  = \\rho\\int_\\Omega \n",
    "\\begin{bmatrix}[\\bar{\\mathbf X}]_\\times {[\\bar{\\mathbf X}]_\\times}^T &[\\bar{\\mathbf X}]_\\times \\\\ [\\bar{\\mathbf X}]_\\times&I\\end{bmatrix}\n",
    "d\\Omega$$\n",
    "Consider the off-diagonal entries, \n",
    "\\begin{align*}\n",
    "\\int_\\Omega [\\bar{\\mathbf X}]_\\times d\\Omega &= \\int_\\Omega [\\mathbf X -\\mathbf C]_\\times d\\Omega\\\\\n",
    "&= \\int_\\Omega [\\mathbf X]_\\times d\\Omega - \\int_\\Omega [\\mathbf C]_\\times d\\Omega\\\\\n",
    "&= \\int_\\Omega [\\mathbf X]_\\times d\\Omega - \\int_\\Omega 1d\\Omega \\cdot [\\mathbf C]_\\times\\\\\n",
    "&= 0\n",
    "\\end{align*}\n",
    "So that we only need to compute the diagonal\n"
   ]
  },
  {
   "cell_type": "markdown",
   "metadata": {},
   "source": [
    "## Surface Integral via Divergence Theorem\n",
    "Note that $M_0$ is an integral over the volume, naturally, we can use tetrahedral mesh so that we can do this integral. However, a more efficient method will use only the surface mesh. \n",
    "\n",
    "Divergence Theorem states that \n",
    "$$\\int_V \\nabla \\mathbf f (\\mathbf X) dV = \\int_A \\mathbf f(\\mathbf X) \\cdot \\mathbf ndA$$\n",
    "so that we can turn a volume integral to a surface integral \n",
    "Therefore, consider the entries of $M_0$\n",
    "\\begin{align*}\n",
    "M_0 &= \\rho \\int_\\Omega \n",
    "\\begin{bmatrix}[\\bar{\\mathbf X}]_\\times {[\\bar{\\mathbf X}]_\\times}^T &0\\\\0&I\\end{bmatrix}d\\Omega \\\\\n",
    " [\\bar{\\mathbf X}]_\\times {[\\bar{\\mathbf X}]_\\times}^T &= \n",
    "\\begin{bmatrix}\n",
    "\\bar{X_y}^2 + \\bar{X_z}^2 & -\\bar{X_x}\\bar{X_y}&-\\bar{X_x}\\bar{X_z} \\\\\n",
    "-\\bar{X_x}\\bar{X_y} &\\bar{X_x}^2 + \\bar{X_z}^2&-\\bar{X_y}\\bar{X_z}\\\\\n",
    "-\\bar{X_x}\\bar{X_z}&-\\bar{X_y}\\bar{X_z}&\\bar{X_x}^2 + \\bar{X_y}^2\\end{bmatrix}\n",
    "\\end{align*}\n",
    "$\\mathcal I$ is called the inertia matrix and we can integrate $M_0$ over each entry. \n",
    "\n",
    "Since each entry is simple enough, we can pick some integral of it and then apply divergence theorem. \n",
    "For example\n",
    "\\begin{align*}\n",
    "\\int_\\Omega \\bar{X_y}^2 + \\bar{X_z}^2d\\Omega &= \\int_T\\frac13\\begin{pmatrix}0\\\\\\bar{X_y}^3\\\\\\bar{X_z}^3\\end{pmatrix}\\cdot \\mathbf N dT \\\\\n",
    "\\int_\\Omega \\bar{X_y}\\bar{X_z}d\\Omega &= \\int_T\\begin{pmatrix}\\bar{X_x}\\bar{X_y}\\bar{X_z}\\\\0\\\\0\\end{pmatrix}\\cdot \\mathbf N dT \\\\\n",
    "\\int_\\Omega 1d\\Omega &= \\int_T\\frac13\\begin{pmatrix}\\bar{X_x}\\\\\\bar{X_y}\\\\\\bar{X_z}\\end{pmatrix}\\cdot \\mathbf N dT \n",
    "\\end{align*}\n",
    "Then, because we are using triangle meshes, we can integrate over $T$ through the barycentric coordinates via\n",
    "$$\\bar{\\mathbf X} = \\bar{\\mathbf X}_0 \\phi_0 + \\bar{\\mathbf X}_1 \\phi_1+\\bar{\\mathbf X}_2 \\phi_2$$\n",
    "Then, define $h: (\\phi_0, \\phi_1, \\phi_2)\\rightarrow \\mathbb R$ and integrate as \n",
    "$$2\\text{Area}\\int_0^1\\int_0^{1-\\phi}h(1-\\phi_1-\\phi_2, \\phi_1, \\phi_2)d\\phi_2d\\phi_1$$\n",
    "\n",
    "Therefore, we can obtain \n",
    "$$M_0 =   \n",
    "\\begin{bmatrix}\\rho \\int_\\Omega[\\bar{\\mathbf X}]_\\times {[\\bar{\\mathbf X}]_\\times}^Td\\Omega &0\\\\0&mI\\end{bmatrix} = \\begin{bmatrix}\\mathcal I&0\\\\0&mI\\end{bmatrix}$$\n",
    "where $\\mathcal I$ is the <a href=\"https://en.wikipedia.org/wiki/Inertia\">inertia</a> matrix"
   ]
  },
  {
   "cell_type": "markdown",
   "metadata": {},
   "source": [
    "## Final Form of Kinetic Energy\n",
    "Put every thing together \n",
    "\\begin{align*}\n",
    "T &= \\frac12 \\dot{\\mathbf q}^TA^T M_0 A\\dot{\\mathbf q}\\\\\n",
    "&= \\frac 12\\dot{\\mathbf q}^T\n",
    "\\begin{bmatrix}R^T&0\\\\0&R^T\\end{bmatrix}^T\n",
    "\\begin{bmatrix}\\mathcal I&0\\\\0&mI\\end{bmatrix}\n",
    "\\begin{bmatrix}R^T&0\\\\0&R^T\\end{bmatrix}\\dot{\\mathbf q} \\\\\n",
    "&= \\frac 12\\dot{\\mathbf q}^T\n",
    "\\begin{bmatrix}R\\mathcal I R^T&0\\\\0&mI\\end{bmatrix}\\dot{\\mathbf q}\n",
    "\\end{align*}"
   ]
  },
  {
   "cell_type": "markdown",
   "metadata": {},
   "source": [
    "# Potential Energy\n",
    "Since the object is rigid and cannot deform, \n",
    "$$V = 0$$"
   ]
  },
  {
   "cell_type": "markdown",
   "metadata": {},
   "source": [
    "# Newton-Euler Equations (The Lagrangian)\n",
    "Since $V = 0$, we have $L = T$ so that the Euler-Lagrange Equation gives __Newton-Euler Equations__ \n",
    "1. __Conservation of Angular Momentum__\n",
    "$$(R\\mathcal I R^T)\\dot\\omega = \\omega \\times ((R\\mathcal IR^T)\\omega) + \\tau_{ext}$$\n",
    "Where $\\dot\\omega$ is the angular acceleration, $\\tau_{ext}$ is the external torque and $\\omega \\times ((R\\mathcal IR^T)\\omega)$ is the quadratic velocity vector\n",
    "2. __Conservation of Linear Momentum__ \n",
    "$$mI\\ddot{\\mathbf p} = \\mathbf f_{ext}$$\n",
    "where $\\ddot{\\mathbf p}$ is the acceleration and $\\mathbf f_{ext}$ is the external force."
   ]
  },
  {
   "cell_type": "markdown",
   "metadata": {},
   "source": [
    "## External Torques and Forces\n",
    "For a force applied to some position $\\mathbf x$ as $\\mathbf f(\\mathbf x)$, this will result in a rotation as well as a translation. Note that \n",
    "$$\\mathbf v(\\bar{\\mathbf X}, t) = R \n",
    "\\begin{bmatrix}{[X]_{\\times}}^T&I\\end{bmatrix}\n",
    "\\begin{bmatrix}R^T&0\\\\0&R^T\\end{bmatrix}\n",
    "\\begin{bmatrix}\\omega\\\\\\dot{\\mathbf p}\\end{bmatrix}$$\n",
    "Let $J \\in\\mathbb R^{3\\times 6} = R \\begin{bmatrix}{[X]_{\\times}}^T&I\\end{bmatrix}\\begin{bmatrix}R^T&0\\\\0&R^T\\end{bmatrix}$ be the rigid body __Jacobian matrix__, which converts the generalized velocity to the velocity on some point\n",
    "$$\\mathbf v(\\bar{\\mathbf X}, t) = J \\dot{\\mathbf q}$$\n",
    "Therefore, given $\\mathbf x$ in the world space, we first inverse it back to reference space w.r.t. the center-of-mass\n",
    "$$\\bar{\\mathbf X} = R^T(\\mathbf x - p)-\\mathbf C$$\n",
    "and then we can compute $f(\\bar{\\mathbf X})$ and $J(\\bar{\\mathbf X})$ so that \n",
    "$$\\begin{pmatrix}\\tau_{ext}\\\\\\mathbf f_{ext}\\end{pmatrix} = J(\\bar{\\mathbf X})^T\\mathbf f(\\bar{\\mathbf X})$$"
   ]
  },
  {
   "cell_type": "markdown",
   "metadata": {},
   "source": [
    "# Time Integration\n",
    "The NE Equations are 2 second order ODEs, and they are not inter-related. Therefore, we can derive update equations independently. \n",
    "\n",
    "## Update on Translation\n",
    "The update for linear momentum is simple. Note that this is just the translation of the center of mass, we can think this as the update of the point mass, the rule is simply \n",
    "\\begin{align*}\n",
    "m\\dot{\\mathbf p}^{t+1} &= m\\dot{\\mathbf p}^t + \\Delta t \\mathbf f_{ext}\\\\\n",
    "\\mathbf p^{t+1} &= \\mathbf p^t + \\Delta t\\dot{\\mathbf p}^t\n",
    "\\end{align*}"
   ]
  },
  {
   "cell_type": "markdown",
   "metadata": {},
   "source": [
    "## Update on Rotation\n",
    "For the angular velocity update, we can simply using the Forward Euler, i.e. approximate \n",
    "$$\\dot\\omega = \\Delta t^{-1}(\\omega^{t+1}-\\omega^t)$$ \n",
    "so that the update is \n",
    "$$(R\\mathcal I R^T)\\omega^{t+1} = (R\\mathcal I R^T)\\omega^t + \\Delta t \\omega^t\\times ((R\\mathcal I R^T)\\omega^t)+\\Delta t\\tau^t_{ext}$$\n",
    "\n",
    "However, when we update the rotation, we cannot simply use the $x^{t+1} = x^t + \\Delta t v^T$, since this will destroy the orthogonality.   \n",
    "Alternatively, we can view this as solving an __initial value problem__. \n",
    "$$d_t\\mathbf x = \\mathbf v^t, \\mathbf x(t_0) = \\mathbf x^t$$\n",
    "\n",
    "integrating yields that \n",
    "\\begin{align*}\n",
    "d_t\\mathbf x &= \\mathbf v^t\\\\\n",
    "\\int_{t0}^{t1}d\\mathbf x &= \\int_{t0}^{t1}\\mathbf v^t dt\\\\\n",
    "\\mathbf x(t) &= \\mathbf v^t \\Delta t + \\mathbf x^t\n",
    "\\end{align*}\n",
    "With this, we can view $\\mathbf v^t$ as the velocity of rotation around $\\mathbf p$ so that \n",
    "\\begin{align*}\n",
    "\\mathbf v^t &= \\omega^t \\times (R\\bar{\\mathbf X} - \\mathbf p -\\mathbf p)\\\\\n",
    "\\mathbf y&:= R\\bar{\\mathbf X}\\\\\n",
    "\\mathbf v^t &= d_t\\mathbf y = \\omega^t\\times \\mathbf y\\\\\n",
    "\\mathbf y(t_0) &= \\mathbf y^t\n",
    "\\mathbf y(t_1) = \\exp([\\omega]_\\times^t\\Delta t)\\mathbf y(t_0)\\\\\n",
    "R^{t+1} &= \\exp([\\omega]_\\times^t\\Delta t)R^t\n",
    "\\end{align*}"
   ]
  }
 ],
 "metadata": {
  "hide_input": false,
  "kernelspec": {
   "display_name": "Python [conda env:csc418]",
   "language": "python",
   "name": "conda-env-csc418-py"
  },
  "language_info": {
   "codemirror_mode": {
    "name": "ipython",
    "version": 3
   },
   "file_extension": ".py",
   "mimetype": "text/x-python",
   "name": "python",
   "nbconvert_exporter": "python",
   "pygments_lexer": "ipython3",
   "version": "3.8.5"
  }
 },
 "nbformat": 4,
 "nbformat_minor": 4
}
