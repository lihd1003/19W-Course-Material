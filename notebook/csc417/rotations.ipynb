{
 "cells": [
  {
   "cell_type": "raw",
   "metadata": {},
   "source": [
    "---\n",
    "title: Rotation Matrix Time Derivatives\n",
    "order: 55\n",
    "---"
   ]
  },
  {
   "cell_type": "code",
   "execution_count": 129,
   "metadata": {},
   "outputs": [],
   "source": [
    "from IPython.display import display, IFrame, HTML\n",
    "from assets.rotation_plot import plot"
   ]
  },
  {
   "cell_type": "markdown",
   "metadata": {},
   "source": [
    "# Problem Setup\n",
    "For a point $x_0 \\in\\mathbb R^4$, the rotation is a transformation defined as \n",
    "$$x(\\Delta t) = R(\\Delta t) x_0$$\n",
    "where $R(\\Delta t) \\in SO(3)$. \n",
    "\n",
    "Then, through the transformation through time $t$ will create a trajectory. We come up with the velocity of $x$ as \n",
    "$$\\dot x (\\Delta t) = \\dot R(\\Delta t) x_0$$\n",
    "So that the velocity is the time derivative of the rotation matrix. "
   ]
  },
  {
   "cell_type": "markdown",
   "metadata": {},
   "source": [
    "# Angular Velocity\n",
    "Without loss of generality, assume $x$ is rotated along the rotation with the axis of rotation $\\vec a\\in\\mathbb R^3$. Therefore, $x$ is travel in a circle.   \n",
    "Let $\\dot\\theta$ be the change in angle.  \n",
    "Let $v: \\mathbb R\\rightarrow \\mathbb R^3$ be the velocity of $x$, decompose $v(t) = a(t)d(t)$ where $a$ is the magnitude and $d$ is the direction. \n",
    "\n",
    "Since we are rotating around $\\vec a$, i.e. the plane that contains the circle is orthogonal to $\\vec a$. Hence $d\\perp \\vec a$.  \n",
    "In addition, a rotation is orthogonal matrix so that $v\\perp x$, since $\\vec a,v,x$ are mutually orthogonal, we can uniquely determine $d$ from \n",
    "$$d = \\frac{\\vec a \\times x}{\\|x\\|}$$\n",
    "\n",
    "Then, consider the magnitude $a$, let $y = x + \\Delta tv$. The angle formed by $y$ and $x$ is $\\dot\\theta \\Delta t$. So that we can have \n",
    "$$a\\Delta t = \\|x\\|\\tan(\\dot\\theta) = \\|x\\|\\frac{\\sin(\\dot\\theta\\Delta t)}{\\cos(\\dot\\theta\\Delta t)}$$\n",
    "Therefore, we can have \n",
    "$$\\lim_{\\Delta t\\rightarrow 0} \\|x\\|\\frac{\\sin(\\dot\\theta\\Delta t)}{\\cos(\\dot\\theta\\Delta t)} = \\|x\\|\\frac{\\dot\\theta\\Delta t}{1} = \\|x\\|\\dot\\theta\\Delta t$$\n",
    "so that \n",
    "$$a = \\|x\\|\\dot\\theta$$\n",
    "and then\n",
    "$$v = ad=\\dot\\theta\\|x\\|\\frac{\\vec a\\times x}{\\|x\\|} = (\\dot\\theta \\vec a) \\times x = \\omega \\times x$$\n",
    "Therefore, we obtain the angular velocity $\\omega$, which includes the velocity of angle and the rotation direction."
   ]
  },
  {
   "cell_type": "code",
   "execution_count": 128,
   "metadata": {
    "scrolled": false
   },
   "outputs": [
    {
     "data": {
      "text/html": [
       "\n",
       "        <iframe\n",
       "            width=\"100%\"\n",
       "            height=\"480\"\n",
       "            src=\"./assets/rotation.html\"\n",
       "            frameborder=\"0\"\n",
       "            allowfullscreen\n",
       "        ></iframe>\n",
       "        "
      ],
      "text/plain": [
       "<IPython.lib.display.IFrame at 0x1bf955de220>"
      ]
     },
     "metadata": {},
     "output_type": "display_data"
    }
   ],
   "source": [
    "output_file = \"./assets/rotation.html\"\n",
    "plot(output_file)\n",
    "display(IFrame(output_file, height=480, width=\"100%\"))"
   ]
  },
  {
   "cell_type": "markdown",
   "metadata": {},
   "source": [
    "# Rotation Matrix\n",
    "Since cross product can be written into cross matrix form as matrix multiplication, $v=\\omega\\times x $ can then be understood as \n",
    "$$\\frac{dx}{dt} = [\\omega]_\\times x$$\n",
    "which is a linear ODE, and has analytical solution\n",
    "$$x(t) = \\exp([\\omega]_\\times t) x$$\n",
    "where $\\exp(M)$ is the matrix exponential. \n",
    "\n",
    "## Matrix Exponential\n",
    "For an invertible matrix $A\\in\\mathbb R^{n\\times n}$. the matrix exponential $\\exp(A)$ is given as \n",
    "$$\\exp(A) = V\\begin{bmatrix}e^{\\lambda_1}&\\cdots&0\\\\\\vdots&\\ddots&\\vdots\\\\0&\\cdots&e^{\\lambda_n}\\end{bmatrix}V^{-1}$$\n",
    "Where $A=V\\Lambda A^{-1}$ is the Eigen decomposition. However, as we did the decomposition, it is not very efficient. \n",
    "\n",
    "For our problem, since $[\\omega]_{\\times}$ is a cross product matrix, hence $3\\times 3$ skew-symmetric, we can use __Rodrigues' Rotation Formula__. First, we can break $\\omega t$ into the axis of rotation and angle of rotation, as $\\vec a$ and $\\theta$\n",
    "$$\\omega t = \\frac{\\omega}{\\|\\omega\\|}{\\|\\omega\\|t} = \\vec a \\theta$$\n",
    "then Rodrigues' Rotation Formula gives \n",
    "$$R(t) = I + \\sin(\\theta)[\\vec a]_\\times + (1-\\cos(\\theta)) {[\\vec a]_\\times}^2$$\n",
    "\n",
    "## Relationship between $R$ and $\\omega$\n",
    "Note that we have $\\dot x(t) = \\dot R(t)x_0$ and the equation above gives $\\dot x(t) = [\\omega]_\\times x$, therefore, we have found the relation that \n",
    "$$\\dot R = [\\omega]_\\times$$"
   ]
  },
  {
   "cell_type": "markdown",
   "metadata": {},
   "source": [
    "# General Equation\n",
    "Consider the explicit equation with a fixed $t_0$\n",
    "$$x(t_0+\\Delta t) = \\Delta R(\\Delta t) R(t_0)x_0$$\n",
    "and its time derivative is \n",
    "$$v = \\frac{dx}{d\\Delta t} = \\Delta \\dot R(\\Delta t) R(t_0)x_0$$\n",
    "Note that from the derivations above, since $R(t_0)x_0$ is a fixed point, $v$ is just the time derivative of rotation at time $t_0$ so that \n",
    "$$v = [\\omega]_\\times Rx_0$$\n",
    "Another form of this equation is\n",
    "\\begin{align*}\n",
    "v &= \\omega \\times Rx_0\\\\\n",
    "&= -(Rx_0)\\times \\omega\\\\\n",
    "&= R{[x_0]_\\times}^TR^T \\omega\n",
    "\\end{align*}\n",
    "then this form gives that $v$ is linear in $\\omega$."
   ]
  },
  {
   "cell_type": "code",
   "execution_count": null,
   "metadata": {},
   "outputs": [],
   "source": [
    "# %load ./assets/rotation_plot.py\n",
    "# The code for plotting the illustraions \n",
    "\n",
    "\n",
    "import plotly.express as px\n",
    "import plotly.graph_objects as go\n",
    "import numpy as np\n",
    "\n",
    "def rodrigues(k, v, theta):\n",
    "    k /= np.linalg.norm(k)\n",
    "    cross = np.cross(k, v)\n",
    "    cos = np.cos(theta)[:, None]\n",
    "    sin = np.sin(theta)[:, None]\n",
    "    dot = np.dot(k, v)\n",
    "    v_p = np.tile(v, (len(theta), 1))\n",
    "    k_p = np.tile(k, (len(theta), 1))\n",
    "    return v_p * cos + sin * cross  +  dot * k_p * (1-cos)\n",
    "    \n",
    "def plot(output_file):\n",
    "    axis = np.random.random(3)\n",
    "    axis /= np.linalg.norm(axis)\n",
    "    vector = np.random.random(3)\n",
    "    angle = np.linspace(0, 2 *np.pi, 100)\n",
    "    dt = 0.2\n",
    "    points = rodrigues(axis, vector, angle)\n",
    "    alpha = vector.dot(axis) / np.linalg.norm(axis) * axis \n",
    "    d = np.cross(axis, vector) / np.linalg.norm(vector)\n",
    "    derivative = vector + dt * d\n",
    "\n",
    "    trajectory = go.Scatter3d(x=points[:, 0], y=points[:, 1], z=points[:, 2], \n",
    "                              mode=\"lines\", name=\"x trajectory\")\n",
    "    plot_axis = go.Scatter3d(x=[0, axis[0]],y=[0, axis[1]],z=[0, axis[2]], \n",
    "                             name=\"a_vec\")\n",
    "    plot_vector = go.Scatter3d(x=[0, vector[0]],y=[0, vector[1]],z=[0, vector[2]], \n",
    "                               name=\"x\")\n",
    "    plot_normal = go.Scatter3d(x=[alpha[0], vector[0]], y=[alpha[1], vector[1]], z=[alpha[2], vector[2]], \n",
    "                               name=\"trajectory normal\", mode=\"lines\", line=dict(dash=\"dot\"))\n",
    "    plot_y = go.Scatter3d(x=[vector[0], derivative[0], 0], y=[vector[1], derivative[1], 0], z=[vector[2], derivative[2], 0], \n",
    "                          name=\"y\")\n",
    "    fig = go.Figure(data=[trajectory, plot_axis, plot_vector, plot_normal, plot_y])\n",
    "    fig.update_layout(margin=dict(l=0, r=0, b=0, t=0), \n",
    "                      scene_aspectmode='cube',\n",
    "                      legend=dict(x=0, y=0))\n",
    "    fig.write_html(output_file, full_html=False, auto_open=False, include_plotlyjs=\"cdn\", auto_play=False)"
   ]
  }
 ],
 "metadata": {
  "hide_input": false,
  "kernelspec": {
   "display_name": "Python [conda env:csc418]",
   "language": "python",
   "name": "conda-env-csc418-py"
  },
  "language_info": {
   "codemirror_mode": {
    "name": "ipython",
    "version": 3
   },
   "file_extension": ".py",
   "mimetype": "text/x-python",
   "name": "python",
   "nbconvert_exporter": "python",
   "pygments_lexer": "ipython3",
   "version": "3.8.5"
  }
 },
 "nbformat": 4,
 "nbformat_minor": 4
}
