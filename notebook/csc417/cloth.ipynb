{
 "cells": [
  {
   "cell_type": "raw",
   "metadata": {},
   "source": [
    "---\n",
    "title: Cloth Simulation and Collision\n",
    "order: 50\n",
    "---"
   ]
  },
  {
   "cell_type": "markdown",
   "metadata": {},
   "source": [
    "# Triangular FEM\n",
    "We often simulate cloth with triangle surfaces instead of a tetrahedron. Therefore, we cannot totally rely on the volumetric approach (while we do introduce \"thickness\" to adapt the mechanics).\n",
    "\n",
    "## Finite Elements\n",
    "Given the reference space in 3D, and the reference position as $\\mathbf X = (X, Y, Z)^T \\in \\mathbb R^3$, just as tetrahedron case, we represent the finite elements at point $\\mathbf X$ given by the 3 corners of the triangle $T=(\\mathbf X_0, \\mathbf X_1, \\mathbf X_2)$\n",
    "$$f(\\mathbf X) = \\sum_0^2 f(\\mathbf X_i) \\phi_i(\\mathbf X)$$\n",
    "where $\\phi_i$ is the shape function, and as before, we apply the constraint $\\phi_0 + \\phi_1 + \\phi_2 = 1\\Rightarrow \\phi_0 = 1- \\phi_1 - \\phi_2$. \n",
    "\n",
    "However, note that $\\mathbf X$ may not lie exactly on the surface of the triangle. In this case, we want to find the function for the nearest point of $\\mathbf X$ on triangle, i.e. $proj_{T}(\\mathbf X)$. In this case, we can turn the question of solving the shape function to an optimization problem. i.e. \n",
    "\n",
    "\\begin{align*} \\min \\:&\\|\\sum_0^2 \\mathbf X_i \\phi_i(\\mathbf X) - \\mathbf X \\|^2_2\\\\\n",
    "\\text{w.r.t} \\:&\\{(\\phi_0, \\phi_1, \\phi_2)\\mid \\phi_0 = 1 - \\phi_1 - \\phi_2\\}\n",
    "\\end{align*}\n",
    "And the solution to this optimization problem is\n",
    "\\begin{align*}\n",
    "T & = \\begin{pmatrix}\\Delta \\mathbf X_1 &\\Delta \\mathbf X_2\\end{pmatrix}\\\\\n",
    "T^TT\\begin{pmatrix}\\phi_1 \\\\\\phi_2\\end{pmatrix} &= T^T \\Delta \\mathbf X\\\\\n",
    "\\phi_0 &= 1 - \\phi_1 - \\phi_2\n",
    "\\end{align*}\n",
    "where $\\Delta \\mathbf X = \\mathbf X - \\mathbf X_0$\n",
    "\n",
    "\n",
    "Note that this shape function is the barycentric coordinate for $proj_T(\\mathbf X)$, and for points off the triangle\n",
    "$$\\mathbf X = \\sum_0^2 \\mathbf X_i\\phi_i(\\mathbf X) + \\alpha N = \\sum_0^2 \\mathbf X_i\\phi_i(\\mathbf X) + \\underset{\\alpha}{\\Delta \\mathbf X^TN}\\cdot N$$\n",
    "where $N$ is the normal of $T$"
   ]
  },
  {
   "cell_type": "markdown",
   "metadata": {},
   "source": [
    "## Deformation\n",
    "\n",
    "Note that we introduce $N_T$, while the world space have different normal on the deformed triangle $\\mathbf n$, therefore, we can simply have the deformation as \n",
    "$$\\mathbf x(\\mathbf X, t) = \\sum_0^x \\mathbf x_i \\phi_x(\\mathbf X) + \\Delta\\mathbf X^TN\\cdot \\mathbf n$$"
   ]
  },
  {
   "cell_type": "markdown",
   "metadata": {},
   "source": [
    "## Generalized Coordinates\n",
    "As before, let the generalized coordinates and generalized velocity for the triangle as \n",
    "$$\\mathbf q = \\begin{pmatrix}\\mathbf x_0\\\\\\mathbf x_1\\\\\\mathbf x_2\\end{pmatrix}, \\dot{\\mathbf q} = \\begin{pmatrix}\\dot{\\mathbf x_0}\\\\\\dot{\\mathbf x_1}\\\\\\dot{\\mathbf x_2}\\end{pmatrix}$$"
   ]
  },
  {
   "cell_type": "markdown",
   "metadata": {},
   "source": [
    "# Kinetic Energy\n",
    "Let the cloth domain be $\\Omega$, since the cloth is thin, we can just integrate over the triangle surface, and then multiple the thickness to get the volumetric kinetic energy, i.e. \n",
    "$$h\\frac12 \\int_T \\rho\\|v(\\mathbf X)\\|_2^2 dT = \\frac {1}{2} \\dot{\\mathbf q}^T\\bigg(h\\int_T\\rho M_0 dT\\bigg)\\dot{\\mathbf q}$$\n",
    "where \n",
    "$$M_0 = \\begin{pmatrix}\n",
    "\\phi_0\\phi_0I&\\phi_0\\phi_1I&\\phi_0\\phi_2I\\\\\n",
    "\\phi_1\\phi_0I&\\phi_1\\phi_1I&\\phi_1\\phi_2I\\\\\n",
    "\\phi_2\\phi_0I&\\phi_2\\phi_1I&\\phi_2\\phi_2I\n",
    "\\end{pmatrix}\\in \\mathbb R^{9\\times 9}$$\n",
    "and just as before, we can assemble the total kinetic energy for cloth as \n",
    "$$T = \\frac12 \\dot{\\mathbf q}^T \\big(\\underset{M}{\\sum_0^{m-1} E_j^TM_j E_j}\\big)\\dot{\\mathbf q}$$"
   ]
  },
  {
   "cell_type": "markdown",
   "metadata": {},
   "source": [
    "# Potential Energy\n",
    "As before, we derive the potential energy from the deformation gradient.\n",
    "\n",
    "Note that the deformation can be written as \n",
    "$$x(\\mathbf X) = \\mathbf x_0 + \n",
    "\\begin{pmatrix}\\mathbf x_0&\\mathbf x_1&\\mathbf x_2&\\mathbf n\\end{pmatrix}\n",
    "\\begin{pmatrix}-\\vec 1^T(T^TT)^{-1}T^T\\\\(T^TT)^{-1}T^T\\\\\\mathbf N^T\\end{pmatrix}\n",
    "\\Delta \\mathbf X$$\n",
    "Therefore, the deformation gradient is simply \n",
    "$$F =\\partial_\\mathbf Xx = \\begin{pmatrix}\\mathbf x_0&\\mathbf x_1&\\mathbf x_2&\\mathbf n\\end{pmatrix}\n",
    "\\begin{pmatrix}-\\vec 1^T(T^TT)^{-1}T^T\\\\(T^TT)^{-1}T^T\\\\\\mathbf N^T\\end{pmatrix}$$\n",
    "Note that deformation gradient in this case is constant.\n",
    "\n",
    "Then, we can apply the same potential energy function as in volumetric approach with constant thickness over the triangle area. \n",
    "$$h\\int_T \\varphi(F(\\mathbf X))dT$$"
   ]
  },
  {
   "cell_type": "markdown",
   "metadata": {},
   "source": [
    "## Energy by Principal Stretches\n",
    "From volumetric approach, we have the strain represented by Right Cauchy Green Deformation \n",
    "$$\\Delta \\mathbf x^T\\Delta \\mathbf x - \\Delta \\mathbf X^T\\Delta \\mathbf X = \\Delta \\mathbf X^T(F^TF-I)\\Delta \\mathbf X$$\n",
    "Apply an eigendecomposition on the deformation, we have \n",
    "$$F^TF =  V\\Lambda V^T = (V\\Delta \\mathbf X)^T (\\Lambda -I) V\\Delta\\mathbf X$$\n",
    "where $(V\\Delta\\mathbf X)$ represents the rotation, and $\\Lambda$ is the squared singular values of $F$. Therefore, via Principal Stretches, we have \n",
    "$$h\\int_T \\varphi(F(\\mathbf X))dT = h\\int_T \\varphi(\\Sigma(F))dT$$\n",
    "where $\\Sigma(F) = (\\sigma_0(F), \\sigma_1(F), \\sigma_2(F))$ is the diagonal of singular value matrix from SVD of $F$.\n",
    "\n",
    "With this, we can filter out rotations and translations, which are unwanted as they should not change the potential energy.\n",
    "\n",
    "Then, we want our cloth to go back to undeformed shape when external forces are removed, therefore, we introduce the quadratic energy model __Co-Rotational Linear Elasticity__\n",
    "$$\\varphi(\\sigma_0, \\sigma_1, \\sigma_2) = \\mu \\sum_0^2 (\\sigma_i - 1)^2 + \\frac\\lambda 2(\\sum_0^2 \\sigma_i - 3)^2$$\n",
    "Note that $\\mathbf D\\varphi(1, 1, 1) = 0\\Rightarrow $ minimum at $(1, 1, 1)$, which is the identity transformation, this energy is minimized at undeformed shape. \n",
    "\n",
    "Since $F$ is constant across the triangle, now we simply have the potential energy for the triangle be \n",
    "$$h\\cdot \\text{area} \\cdot \\varphi(F)$$\n",
    "and then assemble the total potential energy as\n",
    "$$V = \\sum_{0}^{m-1} h\\cdot \\text{area}_j\\cdot \\varphi(F_j(E_j\\mathbf q))$$"
   ]
  },
  {
   "cell_type": "markdown",
   "metadata": {},
   "source": [
    "# The Lagrangian\n",
    "The Lagrangian and EL equation is still the same, since we only change the same of the tetrahedron. "
   ]
  },
  {
   "cell_type": "markdown",
   "metadata": {},
   "source": [
    "# Time Integration\n",
    "Usually we use linearly implicit integrator for cloth due to high membrane stiffness. Therefore, we still need the generalized force and generalized stiffness. \n",
    "\n",
    "\\begin{align*}\n",
    "\\mathbf f &= -\\partial_{\\mathbf q}V \\\\\n",
    "&= -\\sum h\\cdot\\text{area}_j\\frac{\\partial}{\\partial \\mathbf q }\\varphi(F_j(E_j\\mathbf q))\\\\\n",
    "&= -\\sum h\\cdot\\text{area}_j E_j^T \\frac{\\partial F^T}{\\partial\\mathbf q_j}\\frac{\\partial\\varphi}{\\partial F}\\\\\n",
    "\\frac{\\partial\\varphi}{\\partial F} &= U\\cdot diag(\\frac{\\partial\\varphi}{\\partial\\sigma_0}, \\frac{\\partial\\varphi}{\\partial\\sigma_1}, \\frac{\\partial\\varphi}{\\partial\\sigma_2})V^T\n",
    "\\end{align*}\n",
    "\n",
    "\\begin{align*}\n",
    "K &= -\\frac{\\partial^2V}{\\partial \\mathbf q^2}\\\\\n",
    "&=  -\\sum h\\cdot\\text{area}_j\\frac{\\partial^2}{\\partial \\mathbf q^2 }\\varphi(F_j(E_j\\mathbf q))\n",
    "\\end{align*}\n",
    "\n",
    "Note that the Hessian of $\\varphi$ will be extremely messy, therefore, instead of using the full Hessian to do the Newton's method, we can use an approximation of the Hessian and Quasi-Newton Method. In this case, we will have \n",
    "$$K = =  -\\sum h\\cdot\\text{area}_j E_j^T\n",
    "\\frac{\\partial F}{\\partial\\mathbf q_j}^T\n",
    "\\frac{\\partial^2 \\varphi}{\\partial F^2}\n",
    "\\frac{\\partial F}{\\partial\\mathbf q_j}E_j$$"
   ]
  },
  {
   "cell_type": "markdown",
   "metadata": {},
   "source": [
    "Then, the problem is left with $\\frac{\\partial^2 \\varphi}{\\partial F^2}$, which involves with the SVD. \n",
    "\n",
    "## Derivative of SVD\n",
    "For a SVD $A = U\\Sigma V^T$, we can parameterized by $A$ as $U(A)\\Sigma(A)V(A)^T$, hence the derivative w.r.t to entries of $A$ can be written as \n",
    "$$\\frac{\\partial}{\\partial A_{ij}}U\\Sigma V^T =\\frac{\\partial U}{\\partial A_{ij}} \\Sigma V^T U\\frac{\\partial\\Sigma}{\\partial A_{ij}}V^T + U\\Sigma \\frac{\\partial V^T}{\\partial A_{ij}}$$\n",
    "\n",
    "Therefore, we can compute $\\frac{\\partial^2 \\varphi}{\\partial F^2}$ for each entry as\n",
    "$$\\frac{\\partial}{\\partial F_{ij}}\\frac{\\partial \\varphi}{\\partial F} =\\frac{\\partial U}{\\partial F_{ij}} \\Delta\\Sigma V^T U\\cdot diag(\\Delta \\sigma_{ij})\\cdot V^T + U\\Delta\\Sigma \\frac{\\partial V^T}{\\partial F_{ij}}$$\n",
    "where \n",
    "$$\\Delta \\Sigma =  diag(\\frac{\\partial\\varphi}{\\partial\\sigma_0}, \\frac{\\partial\\varphi}{\\partial\\sigma_1}, \\frac{\\partial\\varphi}{\\partial\\sigma_2})$$\n",
    "$$\\Delta\\sigma_{ij} = \\begin{pmatrix}\n",
    "\\frac{\\partial^2\\varphi}{\\partial \\sigma_0\\sigma_0}&\\frac{\\partial^2\\varphi}{\\partial \\sigma_0\\sigma_1}&\\frac{\\partial^2\\varphi}{\\partial \\sigma_0\\sigma_2}\\\\\n",
    "\\frac{\\partial^2\\varphi}{\\partial \\sigma_1\\sigma_0}&\\frac{\\partial^2\\varphi}{\\partial \\sigma_1\\sigma_1}&\\frac{\\partial^2\\varphi}{\\partial \\sigma_1\\sigma_2}\\\\\n",
    "\\frac{\\partial^2\\varphi}{\\partial \\sigma_2\\sigma_0}&\\frac{\\partial^2\\varphi}{\\partial \\sigma_2\\sigma_1}&\\frac{\\partial^2\\varphi}{\\partial \\sigma_2\\sigma_2}\n",
    "\\end{pmatrix}\n",
    "\\begin{pmatrix}\n",
    "\\frac{\\partial \\sigma_0}{\\partial F_{ij}}\\\\\n",
    "\\frac{\\partial \\sigma_1}{\\partial F_{ij}}\\\\\n",
    "\\frac{\\partial \\sigma_2}{\\partial F_{ij}}\n",
    "\\end{pmatrix}$$"
   ]
  },
  {
   "cell_type": "markdown",
   "metadata": {},
   "source": [
    "## Vectorized Deformation Gradient\n",
    "As before, we need to vectorize the deformation gradient"
   ]
  },
  {
   "cell_type": "markdown",
   "metadata": {},
   "source": [
    "\\begin{align*}\n",
    "F &= \\begin{pmatrix}\n",
    "\\partial_X x &\\partial_Y x&\\partial_Z x\\\\\n",
    "\\partial_X y &\\partial_Y y&\\partial_Z y\\\\\n",
    "\\partial_X z &\\partial_Y z&\\partial_Z z\n",
    "\\end{pmatrix}\\\\\\Rightarrow \n",
    "\\vec F_{9\\times 1} &=\n",
    "\\begin{pmatrix}\n",
    "\\partial_X x &\\partial_Y x&\\partial_Z x&\n",
    "\\partial_X y &\\partial_Y y&\\partial_Z y&\n",
    "\\partial_X z &\\partial_Y z&\\partial_Z z\n",
    "\\end{pmatrix}^T\\\\\n",
    "D&=\\begin{pmatrix}\\begin{pmatrix}-1&-1\\end{pmatrix} \\cdot (T^TT)^{-1}T^T\\\\(T^TT)^{-1}T^T\\end{pmatrix}\\\\\n",
    "\\Rightarrow B_{9\\times 9} &=\n",
    "\\begin{pmatrix}\n",
    "D_{0\\cdot}&\\vec 0&\\vec 0&D_{1\\cdot}&\\vec0&\\vec0&D_{2\\cdot}&\\vec0&\\vec0\\\\\n",
    "\\vec0&D_{0\\cdot}&\\vec 0&\\vec 0&D_{1\\cdot}&\\vec0&\\vec0&D_{2\\cdot}&\\vec0\\\\\n",
    "\\vec0&\\vec0&D_{0\\cdot}&\\vec 0&\\vec 0&D_{1\\cdot}&\\vec0&\\vec0&D_{2\\cdot}\\\\\n",
    "\\end{pmatrix}\\\\\n",
    "\\text{where }D_{i\\cdot} &= \\begin{pmatrix}D_{i0} &D_{i1}&D_{i2}\\end{pmatrix}^T,\\vec 0= \\begin{pmatrix}0&0&0\\end{pmatrix}^T\\\\\n",
    "\\vec {\\mathbf x}_{9\\times 1} &= \\begin{pmatrix}\\mathbf x_0^T&\\mathbf x_1^T&\\mathbf x_2^T&\\mathbf x_3^T\\end{pmatrix}^T\\\\\n",
    "\\vec{\\mathbf N} &= \\begin{pmatrix}\n",
    "\\mathbf N&\\vec 0&\\vec 0\\\\\n",
    "\\vec 0&\\mathbf N&\\vec 0\\\\\n",
    "\\vec 0&\\vec 0&\\mathbf N\n",
    "\\end{pmatrix}\\\\\n",
    "\\vec F &= B \\vec{\\mathbf x} + \\vec{\\mathbf N} \\cdot \\mathbf n\n",
    "\\end{align*}"
   ]
  },
  {
   "cell_type": "markdown",
   "metadata": {},
   "source": [
    "Then, the gradient is \n",
    "$$\\partial_{\\vec {\\mathbf x}}F = B + \\vec{\\mathbf N}\\cdot \\partial_{\\vec{\\mathbf x}}{\\mathbf n}$$\n",
    "then, note that the normal can be written as \n",
    "$$\\mathbf n  = \\frac{\\Delta \\mathbf x_1\\times \\Delta \\mathbf x_2}{|\\Delta \\mathbf x_1\\times \\Delta \\mathbf x_2|}$$\n",
    "so that the gradient is \n",
    "$$\n",
    "\\partial_{\\vec{\\mathbf x}}{\\mathbf n} = \\frac{1}{|\\Delta \\mathbf x_1\\times \\Delta \\mathbf x_2|} (I-\\mathbf n\\mathbf n^T)([\\Delta X_1]_\\times\\begin{pmatrix}-I&0&I\\end{pmatrix} - [\\Delta X_2]_\\times\\begin{pmatrix}-I&I&0\\end{pmatrix})$$\n",
    "where $[\\cdot]_\\times$ is the skew-symmetric matrix"
   ]
  },
  {
   "cell_type": "markdown",
   "metadata": {},
   "source": [
    "# Collision with Sphere\n",
    "\n",
    "Given the query point $\\mathbf x$ and a sphere of center and radius $(\\mathbf c, r)$ , we need to first detect the collision and then respond. \n",
    "\n",
    "For the detection, simply check \n",
    "$$\\|\\mathbf x - \\mathbf c\\|^2 \\leq r^2$$\n",
    "\n",
    "For the response, we don't want the cloth to move into the sphere, hence we can just filter normal component of velocity. i.e.\n",
    "$$\\mathbf v_{filtered} = \\mathbf v + \\alpha \\mathbf n$$\n",
    "where the filtering component coefficient $\\alpha$ satisfies\n",
    "$$\\mathbf n^T(v+\\alpha \\mathbf n) \\geq 0 \\Rightarrow \\alpha \\geq -\\mathbf n^T\\mathbf v$$\n",
    "In addition, we want the velocity change be minimal and if velocity if away from the sphere, then we do nothing. Therefore, we have \n",
    "$$\\alpha = -\\min(0, \\mathbf n^T\\mathbf v)$$"
   ]
  }
 ],
 "metadata": {
  "hide_input": false,
  "kernelspec": {
   "display_name": "Python [conda env:csc418]",
   "language": "python",
   "name": "conda-env-csc418-py"
  },
  "language_info": {
   "codemirror_mode": {
    "name": "ipython",
    "version": 3
   },
   "file_extension": ".py",
   "mimetype": "text/x-python",
   "name": "python",
   "nbconvert_exporter": "python",
   "pygments_lexer": "ipython3",
   "version": "3.8.5"
  }
 },
 "nbformat": 4,
 "nbformat_minor": 4
}
