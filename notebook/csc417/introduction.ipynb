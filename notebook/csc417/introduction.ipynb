{
 "cells": [
  {
   "cell_type": "raw",
   "metadata": {},
   "source": [
    "---\n",
    "title: Math and Physics Background\n",
    "order: 0\n",
    "---"
   ]
  },
  {
   "cell_type": "markdown",
   "metadata": {},
   "source": [
    "# Position, Velocity, and Acceleration\n",
    "For a particle of constant mass $m$, its position at time $t$ is $\\mathbf x(t):\\mathbb R\\rightarrow \\mathbb R^3$ (Assuming 3D space), its velocity $\\mathbf v(t) = \\frac{d\\mathbf x}{dt}(t)$ and its acceleration $\\mathbf a(t) = \\frac{d\\mathbf v}{dt}(t) = \\frac{d^2\\mathbf x}{dt^2}(t)$\n",
    "\n",
    "# Newton's Law\n",
    "1. Every object will remain at rest of in uniform motion in a straight line unless compelled to change its state by the action of an external force\n",
    "2. The force acting on ab object is equal to the time rate-of-change of the momentum  ()\n",
    "$$f = \\underset{\\text{time rate of change}}{\\frac{d}{dt}}\\underset{\\text{momentum}}{m\\mathbf v}= m\\frac{d\\mathbf v}{dt} = m\\mathbf a$$\n",
    "3. For every action there is an equal and opposite reaction\n"
   ]
  },
  {
   "cell_type": "markdown",
   "metadata": {},
   "source": [
    "# Variational (Analytical) Mechanics\n",
    "Based on fundamental energies rather than two vectorial quantities\n",
    "- __Kinetic Energy__ energy due to motion\n",
    "- __Potential Energy__ energy \"held within\" an object due to position, internal stresses, charge, etc. \n",
    "Potential energy has the potential to become kinetic energy\n",
    "\n",
    "## Problem Settings\n",
    "Let the image of $\\mathbf f(t)$ be the path of the motion, setting some functional \n",
    "$$e(\\mathbf f(t), \\dot{\\mathbf f}(t), ...) \\rightarrow \\mathbb R$$\n",
    "and then solve (optimize) the variational derivative to find the proper $\\mathbf f$\n",
    "\n",
    "## Generalized Coordinates\n",
    "Let the generalized coordinates be $\\mathbf q: \\mathbb R \\rightarrow \\mathbb R^n$ be the actual variable parametrize the motion\n",
    "$$\\mathbf x(t) = \\mathbf f(\\mathbf q(t)), \\frac{d\\mathbf x}{dt}(t) = \\underset{\\text{Jacobian}}{\\frac{d\\mathbf f}{d\\mathbf q}}\\underset{\\text{generalized velocity}}{{\\dot q(t)}}$$"
   ]
  },
  {
   "cell_type": "markdown",
   "metadata": {},
   "source": [
    "## Lagrangian\n",
    "define the Lagrangian be\n",
    "$$L = T - V = \\text{kinetic} - \\text{potential}$$\n",
    "\n",
    "# The Principle of Least Action\n",
    "Assume the end points are known, to find the path between them by finding a __stationary point__ of the __action__. \n",
    "\n",
    "## Action\n",
    "For constant time $t_1, t_2$, the action is a functional equals the integral of the Lagrangian over \n",
    "$$S(\\mathbf q(t), \\dot{\\mathbf q}(t)) = \\int_{t_1}^{t_2} T(\\mathbf q(t), \\dot{\\mathbf q}(t)) - V(\\mathbf q(t), \\dot{\\mathbf q}(t)) = dt = \\int_{t_1}^{t_2}L(\\mathbf q(t), \\dot{\\mathbf q}(t))dt$$\n",
    "\n",
    "## Stationary Point\n",
    "$$S(\\mathbf q + \\delta\\mathbf q, \\dot{\\mathbf q}+\\delta \\dot{\\mathbf q}) = S(\\mathbf q(t), \\dot{\\mathbf q}(t))$$\n",
    "which means that perturbation $\\delta$ of the trajectory $\\mathbf q$ does not change the action.\n",
    "\n",
    "## The Calculus of Variations (Euler Lagrange Equations)\n",
    "\\begin{align*}\n",
    "S(\\mathbf q + \\delta\\mathbf q, \\dot{\\mathbf q}+\\delta \\dot{\\mathbf q}) &=\\int_{t_1}^{t_2}L(\\mathbf q + \\delta\\mathbf q, \\dot{\\mathbf q}+\\delta \\dot{\\mathbf q})dt\\\\\n",
    "&\\approx \\int_{t_1}^{t_2}L(\\mathbf q, \\dot{\\mathbf q})dt + \\int_{t_1}^{t_2}\\frac{\\partial L}{\\partial\\mathbf q}\\delta\\mathbf q + \\frac{\\partial L}{\\partial\\dot{\\mathbf q}}\\delta\\dot{\\mathbf q }dt\\\\\n",
    "&= S(\\mathbf q, \\dot{\\mathbf q}) + \\underset{\\text{first variation}}{\\delta S(\\mathbf q, \\dot{\\mathbf q})}\n",
    "\\end{align*}\n",
    "Therefore, principle of least action becomes \n",
    "$$\\delta S(\\mathbf q, \\dot{\\mathbf q}) = 0$$\n",
    "Then, use integration by parts (see APM462 notes for detailed steps)\n",
    "$$\\int_{t_1}^{t_2}\\frac{\\partial L}{\\partial\\mathbf q}\\delta\\mathbf q + \\frac{\\partial L}{\\partial\\dot{\\mathbf q}}\\delta\\dot{\\mathbf q }dt = \\int_{t_1}^{t_2}(\\frac{\\partial L}{\\partial \\mathbf q} - \\frac{d}{dt}\\frac{\\partial L}{\\partial \\dot{\\mathbf q}})\\delta \\mathbf q dt + \\underset{\\text{known end points so }=0}{\\frac{\\partial L}{\\partial \\dot{\\mathbf q}}\\delta \\mathbf q \\vert_{t_1}^{t_2}}$$\n",
    "Therefore, we have the Euler Lagrange equation (The lemmas are in APM462 notes)\n",
    "$$\\frac{\\partial L}{\\partial \\mathbf q} = \\frac{d}{dt}\\frac{\\partial L}{\\partial \\dot{\\mathbf q}}$$"
   ]
  }
 ],
 "metadata": {
  "hide_input": false,
  "kernelspec": {
   "display_name": "Python [conda env:csc418]",
   "language": "python",
   "name": "conda-env-csc418-py"
  },
  "language_info": {
   "codemirror_mode": {
    "name": "ipython",
    "version": 3
   },
   "file_extension": ".py",
   "mimetype": "text/x-python",
   "name": "python",
   "nbconvert_exporter": "python",
   "pygments_lexer": "ipython3",
   "version": "3.8.5"
  }
 },
 "nbformat": 4,
 "nbformat_minor": 4
}
