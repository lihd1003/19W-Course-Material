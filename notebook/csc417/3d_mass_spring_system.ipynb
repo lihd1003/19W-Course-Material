{
 "cells": [
  {
   "cell_type": "raw",
   "metadata": {},
   "source": [
    "---\n",
    "title: 3D Mass Spring System\n",
    "order: 15\n",
    "---"
   ]
  },
  {
   "cell_type": "markdown",
   "metadata": {},
   "source": [
    "# Two Particles and One String\n",
    "Let the particles be $x_1(t), x_2(t)\\in\\mathbb R^3$ and define the strings to have a rest length $l_0\\in\\mathbb R^+$, then we define the generalized coordinates and generalized velocity being \n",
    "$$\\mathbf q = \\begin{pmatrix}\\mathbf x_0\\\\ \\mathbf x_1\\end{pmatrix}, \\dot{\\mathbf q} = \\begin{pmatrix}\\mathbf v_0\\\\ \\mathbf v_1\\end{pmatrix}$$\n",
    "\n",
    "## Kinetic Energy\n",
    "Then, the kinetic energy for each particle in the system is $\\frac 12 m_i\\|v_i\\|_2^2 = \\frac12 v_i^T\\underset{M_i}{(m_iI)}v_i$ and the total kinetic energy is the sum of all the kinetic energy, i.e.\n",
    "$$T = \\sum_{i=0}^1 \\frac 12 \\mathbf v_i^TM_i v_i = \\frac{1}{2}\\dot{\\mathbf q}^TM\\dot{\\mathbf q}, M = \\begin{pmatrix}M_0&0\\\\0&M_1\\end{pmatrix}$$\n",
    "\n",
    "## Potential Energy\n",
    "The properties we want\n",
    " - Spring should go back to original length when all external forces are removed\n",
    " - Rigid motion should not change the energy'\n",
    " - Energy should depend only on particle positions\n",
    "\n",
    "Therefore, we define __Strain__ being $l - l_0$ which is the difference of the deformed length from the rest length, \n",
    "$$l = \\sqrt{(x_1 - x_0)^T(x_1 - x_0)} = \\sqrt{\\big[\\begin{pmatrix}-I &I\\end{pmatrix}\\begin{pmatrix}\\mathbf x_0 \\\\\\mathbf x_1\\end{pmatrix}\\big]^T\\big[\\underset{B}{\\begin{pmatrix}-I &I\\end{pmatrix}}\\underset{\\mathbf q}{\\begin{pmatrix}\\mathbf x_0 \\\\\\mathbf x_1\\end{pmatrix}}\\big]} = \\sqrt{\\mathbf q^T B^TB\\mathbf q}$$\n",
    "then the potential energy is \n",
    "$$V = \\frac12 k(l-l_0)^2 = \\frac12 k(\\sqrt{\\mathbf q^TB^TB\\mathbf q} - l_0)^2$$"
   ]
  },
  {
   "cell_type": "markdown",
   "metadata": {},
   "source": [
    "## Euler-Lagrange Equation\n",
    "Consider the Lagrangian $L = T - V$, note that $T$ is only related to $\\dot{\\mathbf q}$, hence \n",
    "$$\\frac{\\partial L}{\\partial \\mathbf q} = \\frac{\\partial T}{\\partial \\mathbf q} - \\frac{\\partial V}{\\partial \\mathbf q} = -\\frac{\\partial V}{\\partial \\mathbf q}$$\n",
    "and the Euler-Lagrange Equation is simplified a bit as \n",
    "$$\\frac{d}{dt}\\frac{\\partial L}{\\partial \\dot{\\mathbf q}} = - \\frac{\\partial V}{\\partial \\mathbf q}$$\n",
    "Further more, we have\n",
    "\\begin{align*}\n",
    "\\frac{d}{dt}\\frac{\\partial L}{\\partial \\dot{\\mathbf q}} &= \\frac{d}{dt}\\frac{\\partial}{\\partial \\dot{\\mathbf q}}(\\frac12 \\dot{\\mathbf q}^TM\\dot{\\mathbf q})\\\\ \n",
    "&=\\frac{d}{dt}M\\dot{\\mathbf q}\\\\\n",
    "&= M\\ddot{\\mathbf q}\n",
    "\\end{align*}\n",
    "So that the Euler-Lagrange equation is derived to be \n",
    "$$M\\ddot{\\mathbf q} = - \\frac{\\partial V}{\\partial \\mathbf q}$$"
   ]
  },
  {
   "cell_type": "markdown",
   "metadata": {},
   "source": [
    "# N Particles\n",
    "The generalized coordinates and generalized velocity will be \n",
    "$$\\mathbf q = \\begin{pmatrix}\\mathbf x_0\\\\\\vdots\\\\ \\mathbf x_n\\end{pmatrix}, \\dot{\\mathbf q} = \\begin{pmatrix}\\mathbf v_0\\\\\\vdots\\\\ \\mathbf v_n\\end{pmatrix}$$\n",
    "\n",
    "## Kinetic Energy\n",
    "$$T = \\sum_{i=0}^1 \\frac 12 \\mathbf v_i^TM_i v_i = \\frac{1}{2}\\dot{\\mathbf q}^TM\\dot{\\mathbf q}, M = \\begin{pmatrix}M_0&\\cdots&0\\\\\\vdots&\\ddots&\\vdots\\\\0&\\cdots&M_n\\end{pmatrix}\\in\\mathbb R^{3n\\times 3n}$$\n",
    "\n",
    "## Potential Energy\n",
    "Define the potential energy for each spring $j$ being $V_j:\\mathbb R^{6}\\rightarrow \\mathbb R$ so that \n",
    "$$V = \\sum_{j=0}^{m-1}V_j(\\mathbf x_A, \\mathbf x_B)$$\n",
    "To vectorize this operation, consider a selection $3\\times 3n$ matrix \n",
    "$$S_{i} = \\begin{pmatrix}\\mathbf 0_{3\\times 3}\\cdots I_{3\\times3}\\cdots &\\mathbf 0\\end{pmatrix}, S_i\\mathbf q = \\mathbf x_i$$\n",
    "therefore, we can have \n",
    "$$\\mathbf q_j = \\begin{pmatrix}x_A\\\\x_B\\end{pmatrix} = \\begin{pmatrix}S_A\\\\S_B\\end{pmatrix}\\mathbf q = E_j \\mathbf q$$\n",
    "So that \n",
    "$$V = \\sum_{j=0}^{m-1}V_j(E_j q)$$"
   ]
  },
  {
   "cell_type": "markdown",
   "metadata": {},
   "source": [
    "## Euler-Lagrange Equation\n",
    "Note that the derivation in EL equation still holds, \n",
    "$$M\\ddot{\\mathbf q} = - \\frac{\\partial V}{\\partial \\mathbf q}$$\n",
    "Then, consider \n",
    "\\begin{align*}\n",
    "-\\frac{\\partial V}{\\partial \\mathbf q} &= - \\frac{\\partial }{\\partial \\mathbf q}\\sum_{j=0}^{m-1}V_j(E_j q)\\\\\n",
    "&= - \\sum_{j=0}^{m-1}\\frac{\\partial }{\\partial \\mathbf q}V_j(E_j q)\\\\\n",
    "&= - \\sum_{j=0}^{m-1} E_j^T  \\frac{\\partial V_j}{\\partial \\mathbf q_j}(\\mathbf q_j)\\\\\n",
    "&= \\sum_{j=0}^{m-1} E_j^T  \\mathbf f_j(\\mathbf q_j)\n",
    "\\end{align*}"
   ]
  },
  {
   "cell_type": "markdown",
   "metadata": {},
   "source": [
    "# Linearly-Implicit Time Integration\n",
    "From backward Euler, we have \n",
    "$$M\\dot{\\mathbf q}^{t+1} = M\\dot{\\mathbf q}^t + \\Delta t \\mathbf f(\\mathbf q^{t+1})$$\n",
    "$$\\mathbf q^{t+1} = \\mathbf q^t + \\Delta t \\dot{\\mathbf q}^{t+1}$$\n",
    "We substitute $\\mathbf f(\\mathbf q^{t+1})$ with our position update so that \n",
    "$$M\\dot{\\mathbf q}^{t+1} = M\\dot{\\mathbf q}^t + \\Delta t \\mathbf f(\\mathbf q^t + \\Delta t \\dot{\\mathbf q}^{t+1})$$\n",
    "Then we use Taylor first order approximation\n",
    "$$M\\dot{\\mathbf q}^{t+1} = M\\dot{\\mathbf q}^t + \\Delta t \\mathbf f(\\mathbf q^t) + \\Delta t^2 \\frac{\\partial \\mathbf f}{\\partial \\mathbf q}\\dot{\\mathbf q}^{t+1}$$\n",
    "Rearrange equations, we have \n",
    "$$(M - \\Delta t^2 K)\\dot{\\mathbf q}^{t+1} = M\\dot{\\mathbf q}^t + \\Delta t  \\mathbf f(\\mathbf q^t)$$\n",
    "where $K = \\frac{\\partial \\mathbf f}{\\partial \\mathbf q}$ is the stiffness matrix, since $\\mathbf f = -\\frac{\\partial}{\\partial \\mathbf q}\\sum^{m-1} V_j(E_j\\mathbf q)$\n",
    "\\begin{align*}\n",
    "K &= \\frac{\\partial \\mathbf f}{\\partial \\mathbf q}\\\\\n",
    " &= -\\frac{\\partial^2}{\\partial \\mathbf q^2}\\sum^{m-1} V_j(E_j\\mathbf q)\\\\\n",
    " &= -\\sum^{m-1} \\frac{\\partial^2}{\\partial \\mathbf q^2} V_j(E_j\\mathbf q)\\\\\n",
    " &= \\sum^{m-1} -E_j^T \\frac{\\partial^2V_j}{\\partial \\mathbf q^2} E_j^T\\\\\n",
    " &= \\sum_{j=0}^{m-1} E_j^TK_jE_j&K_j = - \\frac{\\partial^2  V_j}{\\partial\\mathbf q^2}\n",
    "\\end{align*}"
   ]
  },
  {
   "cell_type": "markdown",
   "metadata": {},
   "source": [
    "# Fixed Boundary Conditions\n",
    "We want some $x_i$ being fixed to fixed coordinate $b_i$, \n",
    "let $\\hat{\\mathbf q} = P\\mathbf q$ being all the non fixed points, where $P$ is the selection matrix that selects non fixed points, therefore $P^T\\hat q + \\mathbf b$, where $\\mathbf b$ have all the fixed coordinates, then we can have \n",
    "$$\\mathbf q = P^T\\hat q + \\mathbf b, \\dot{\\mathbf q} = P^T \\dot{\\hat{\\mathbf q}}$$\n",
    "So that the updates is \n",
    "$$P(M - \\Delta t^2 K)P^T\\dot{\\hat{\\mathbf q}}^{t+1} = PM\\dot{\\mathbf q}^t + \\Delta t  P\\mathbf f(\\mathbf q^t)$$\n",
    "$$\\mathbf q^{t+1} = \\mathbf q^t + \\Delta t P^T \\dot{\\hat{\\mathbf {q}^{t+1}}}$$"
   ]
  }
 ],
 "metadata": {
  "hide_input": false,
  "kernelspec": {
   "display_name": "Python [conda env:csc418]",
   "language": "python",
   "name": "conda-env-csc418-py"
  },
  "language_info": {
   "codemirror_mode": {
    "name": "ipython",
    "version": 3
   },
   "file_extension": ".py",
   "mimetype": "text/x-python",
   "name": "python",
   "nbconvert_exporter": "python",
   "pygments_lexer": "ipython3",
   "version": "3.8.5"
  }
 },
 "nbformat": 4,
 "nbformat_minor": 4
}
