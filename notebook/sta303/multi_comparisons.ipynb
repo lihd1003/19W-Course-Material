{
 "cells": [
  {
   "cell_type": "raw",
   "metadata": {},
   "source": [
    "---\n",
    "title: Multi Comparisons and One Way ANOVA\n",
    "order: 10\n",
    "---"
   ]
  },
  {
   "cell_type": "markdown",
   "metadata": {},
   "source": [
    "# Multiple Comparisons\n",
    "- post hoc procedure: further comparisons after significant result from overall One-way ANOVA\n",
    "- If the result for One-way ANOVA is good enough, i.e.some pairs are evidently true, we may omit some pairs to remove the number of tests\n",
    "- Max of $G \\choose 2$ pairwise comparisons\n",
    "- Major issue: increased chance of making at least one Type I error when carrying out many tests, $E(\\#errors)=\\#tests \\times \\alpha$\n",
    "- Two common solutions: based on controlling family Type I error rate, choose \n",
    " - Bonferroni\n",
    " - Tukey's"
   ]
  },
  {
   "cell_type": "markdown",
   "metadata": {},
   "source": [
    "_**Example**_\n",
    "$P(\\text{committing at least 1 Type I error})$ ?\n",
    "- For n independent tests: $P = 1-(1-\\alpha)^n$"
   ]
  },
  {
   "cell_type": "markdown",
   "metadata": {},
   "source": [
    "## Bonferroni's Method\n",
    "- Based on Bonferroni's inequality $P(A\\cup B) \\leq P(A)+P(B)$, hence $P(\\cup A_i)\\leq \\sum P(A_i), A_i:=$ the event that $i$th test results in a Type I error. \n",
    "- Method: conduct each of $k=G \\choose 2$ pairwise tests at level $\\alpha / k$\n",
    "- CI: $|\\bar{y}_i - \\bar{y}_j|\\pm t_{\\alpha/2k} S_p \\sqrt{n_i^{-1} + n_j^{-1}}$ \n",
    "- Conservative: overall Type I error rate is usually much less than $\\alpha$ if tests are not mutually independent. \n",
    "- Type II error inflation."
   ]
  },
  {
   "cell_type": "markdown",
   "metadata": {},
   "source": [
    "## Tukey's Approach\n",
    "- Usually less conservative than Bonferroni, particularly if group sample size are similar. Controls the overall Type I error rate of $\\alpha$, simultaneous CI converage rate is $1-\\alpha$. "
   ]
  },
  {
   "cell_type": "markdown",
   "metadata": {},
   "source": [
    "### Studentized Range distribution\n",
    "- $\\mathcal{X}= \\{X_1,...,X_n\\}, X_i\\in N(\\mu,\\sigma^2)$. Determine the distribution of the max and min of $\\mathcal{X}$. \n",
    "- $X_{(n)}:=\\max{\\mathcal{X}}, X_{(1)};=\\min{\\mathcal{X}}$, Range $:= X_{(n)}-X{(1)}$\n",
    "- Based on $n$ observations from $X$, the Studentized range statistic is $Q_{stat} = Range / s, s=$ sample std. \n",
    "- Based on $G$ group means, with $n$ observations per group: $$\\bar{Q}_g = \\frac{\\sqrt{n}(\\bar{y}_{(g)} - \\bar{y}_{(1)})}{s_v}$$\n",
    "$s_v$ estimator of the pooled std. $v=N-G=G(n-1)$ d.f. "
   ]
  },
  {
   "cell_type": "markdown",
   "metadata": {},
   "source": [
    "- If there are $G$ groups, then there is a max of $k$ pairwise differences\n",
    "- Controlling overall simultaneous Type I error rate v.s. Individual Type I error rate\n",
    "- Find a pairwise significant difference\n",
    " - Compare method-wise significant difference, $c(\\alpha)$ with $|\\bar{y}_i - \\bar{y}_j|$ OR \n",
    " - determine whether CI contains 0 OR \n",
    " - Compare $p$ with $\\alpha$\n",
    "- $s=\\sqrt{MSE}$ with d.f. $=v=d.f.Error$"
   ]
  },
  {
   "cell_type": "markdown",
   "metadata": {},
   "source": [
    "### Tukey's Honestly Significant Difference (HSD) \n",
    "- let $q(G,v,\\alpha)/t^*:=$ the critical value from the Studentized Range distribution. \n",
    "- Family rate $=\\alpha$\n",
    "- Tukey's HSD $=q(G,v,\\alpha) \\frac{s}{\\sqrt{n}}$"
   ]
  },
  {
   "cell_type": "markdown",
   "metadata": {},
   "source": [
    "# Case Study\n",
    "Bonferroni\n",
    " - $H_0:\\mu_i - \\mu_j = 0, H_a: \\mu_i\\neq \\mu_j$  \n",
    " - $t = \\frac{\\bar{x}_i - \\bar{x}_j}{S_p \\sqrt{n_i^{-1} + n_j^{-1}}}$\n",
    " - $p = 2P(T_{\\alpha/2k}> |t|)$"
   ]
  },
  {
   "cell_type": "code",
   "execution_count": 1,
   "metadata": {},
   "outputs": [],
   "source": [
    "# import data\n",
    "library(Sleuth2)\n",
    "jury = case0502\n",
    "percent = case0502$Percent\n",
    "judge = case0502$Judge"
   ]
  },
  {
   "cell_type": "code",
   "execution_count": 2,
   "metadata": {},
   "outputs": [
    {
     "data": {
      "text/plain": [
       "\n",
       "\tPairwise comparisons using t tests with pooled SD \n",
       "\n",
       "data:  percent and judge \n",
       "\n",
       "  Spock's A       B       C       D       E      \n",
       "A 0.00022 -       -       -       -       -      \n",
       "B 0.00013 1.00000 -       -       -       -      \n",
       "C 0.00150 1.00000 1.00000 -       -       -      \n",
       "D 0.57777 1.00000 1.00000 1.00000 -       -      \n",
       "E 0.03408 1.00000 1.00000 1.00000 1.00000 -      \n",
       "F 0.01254 1.00000 1.00000 1.00000 1.00000 1.00000\n",
       "\n",
       "P value adjustment method: bonferroni "
      ]
     },
     "metadata": {},
     "output_type": "display_data"
    }
   ],
   "source": [
    "judge = relevel(judge, ref=\"Spock's\")\n",
    "pairwise.t.test(percent, judge, p.adj='bonf')"
   ]
  },
  {
   "cell_type": "code",
   "execution_count": 3,
   "metadata": {},
   "outputs": [
    {
     "data": {
      "text/html": [
       "<table>\n",
       "<caption>A matrix: 7 × 2 of type dbl</caption>\n",
       "<thead>\n",
       "\t<tr><th></th><th scope=col>0.357 %</th><th scope=col>99.643 %</th></tr>\n",
       "</thead>\n",
       "<tbody>\n",
       "\t<tr><th scope=row>(Intercept)</th><td> 8.078085</td><td>21.16636</td></tr>\n",
       "\t<tr><th scope=row>judgeA</th><td> 8.547341</td><td>30.44821</td></tr>\n",
       "\t<tr><th scope=row>judgeB</th><td> 8.647254</td><td>29.34163</td></tr>\n",
       "\t<tr><th scope=row>judgeC</th><td> 5.222969</td><td>23.73259</td></tr>\n",
       "\t<tr><th scope=row>judgeD</th><td>-2.969585</td><td>27.72514</td></tr>\n",
       "\t<tr><th scope=row>judgeE</th><td> 1.997255</td><td>22.69163</td></tr>\n",
       "\t<tr><th scope=row>judgeF</th><td> 2.922970</td><td>21.43259</td></tr>\n",
       "</tbody>\n",
       "</table>\n"
      ],
      "text/latex": [
       "A matrix: 7 × 2 of type dbl\n",
       "\\begin{tabular}{r|ll}\n",
       "  & 0.357 \\% & 99.643 \\%\\\\\n",
       "\\hline\n",
       "\t(Intercept) &  8.078085 & 21.16636\\\\\n",
       "\tjudgeA &  8.547341 & 30.44821\\\\\n",
       "\tjudgeB &  8.647254 & 29.34163\\\\\n",
       "\tjudgeC &  5.222969 & 23.73259\\\\\n",
       "\tjudgeD & -2.969585 & 27.72514\\\\\n",
       "\tjudgeE &  1.997255 & 22.69163\\\\\n",
       "\tjudgeF &  2.922970 & 21.43259\\\\\n",
       "\\end{tabular}\n"
      ],
      "text/markdown": [
       "\n",
       "A matrix: 7 × 2 of type dbl\n",
       "\n",
       "| <!--/--> | 0.357 % | 99.643 % |\n",
       "|---|---|---|\n",
       "| (Intercept) |  8.078085 | 21.16636 |\n",
       "| judgeA |  8.547341 | 30.44821 |\n",
       "| judgeB |  8.647254 | 29.34163 |\n",
       "| judgeC |  5.222969 | 23.73259 |\n",
       "| judgeD | -2.969585 | 27.72514 |\n",
       "| judgeE |  1.997255 | 22.69163 |\n",
       "| judgeF |  2.922970 | 21.43259 |\n",
       "\n"
      ],
      "text/plain": [
       "            0.357 %   99.643 %\n",
       "(Intercept)  8.078085 21.16636\n",
       "judgeA       8.547341 30.44821\n",
       "judgeB       8.647254 29.34163\n",
       "judgeC       5.222969 23.73259\n",
       "judgeD      -2.969585 27.72514\n",
       "judgeE       1.997255 22.69163\n",
       "judgeF       2.922970 21.43259"
      ]
     },
     "metadata": {},
     "output_type": "display_data"
    }
   ],
   "source": [
    "# CI\n",
    "lmod=lm(percent~judge)\n",
    "confint(lmod, level = 1- 0.05/nlevels(judge))"
   ]
  },
  {
   "cell_type": "code",
   "execution_count": 4,
   "metadata": {},
   "outputs": [
    {
     "data": {
      "text/plain": [
       "  Tukey multiple comparisons of means\n",
       "    95% family-wise confidence level\n",
       "\n",
       "Fit: aov(formula = percent ~ judge)\n",
       "\n",
       "$judge\n",
       "                 diff        lwr       upr     p adj\n",
       "A-Spock's 19.49777727   7.514685 31.480870 0.0001992\n",
       "B-Spock's 18.99444405   7.671486 30.317402 0.0001224\n",
       "C-Spock's 14.47777732   4.350216 24.605339 0.0012936\n",
       "D-Spock's 12.37777758  -4.416883 29.172438 0.2744263\n",
       "E-Spock's 12.34444443   1.021486 23.667402 0.0248789\n",
       "F-Spock's 12.17777766   2.050216 22.305339 0.0098340\n",
       "B-A       -0.50333322 -13.512422 12.505755 0.9999997\n",
       "C-A       -5.01999995 -17.003092  6.963092 0.8470098\n",
       "D-A       -7.11999969 -25.094638 10.854639 0.8777485\n",
       "E-A       -7.15333284 -20.162421  5.855755 0.6146239\n",
       "F-A       -7.31999961 -19.303092  4.663093 0.4936380\n",
       "C-B       -4.51666673 -15.839625  6.806291 0.8742030\n",
       "D-B       -6.61666648 -24.158118 10.924785 0.9003280\n",
       "E-B       -6.64999962 -19.053679  5.753679 0.6418003\n",
       "F-B       -6.81666639 -18.139624  4.506292 0.5109582\n",
       "D-C       -2.09999975 -18.894661 14.694661 0.9996956\n",
       "E-C       -2.13333289 -13.456291  9.189625 0.9968973\n",
       "F-C       -2.29999966 -12.427561  7.827562 0.9914731\n",
       "E-D       -0.03333314 -17.574784 17.508118 1.0000000\n",
       "F-D       -0.19999992 -16.994661 16.594661 1.0000000\n",
       "F-E       -0.16666677 -11.489625 11.156291 1.0000000\n"
      ]
     },
     "metadata": {},
     "output_type": "display_data"
    }
   ],
   "source": [
    "amod = aov(percent~judge)\n",
    "hsd = TukeyHSD(amod, 'judge')\n",
    "hsd"
   ]
  },
  {
   "cell_type": "code",
   "execution_count": 5,
   "metadata": {},
   "outputs": [
    {
     "data": {
      "image/png": "[encoded data removed]",
      "text/plain": [
       "Plot with title \"95% family-wise confidence level\n",
       "\""
      ]
     },
     "metadata": {
      "image/png": {
       "height": 420,
       "width": 420
      }
     },
     "output_type": "display_data"
    }
   ],
   "source": [
    "plot(hsd)"
   ]
  },
  {
   "cell_type": "markdown",
   "metadata": {},
   "source": [
    "# Linear Regression Model \n",
    " - $Y_{N\\times 1}=X_{N\\times(p+1)}\\beta_{(p+1)\\times 1} + \\epsilon_{N\\times 1}$, response $Y$ continuous, explanatory $X$ categorical and/or continuous \n",
    " - $Y$ is linear in the $\\beta$'s i.e. no predictor is a linear function or combination of other predictors\n",
    " - $\\hat{\\beta}=(X'X)^{-1}X'Y$ Least square Estimate, need$rank(X'X)=rank(X)\\Rightarrow$ columns of $X$ must be linear independent\n",
    " - Null hypothesis $H_0: \\beta = \\vec{0}$. Assumptions\n",
    "  - Appropriate Linear Model\n",
    "  - Uncorrelated Errors\n",
    "  - $\\vec{\\epsilon}\\sim N(\\vec{0},\\sigma^2I)$. \n",
    " - Sum of Squares Decomposition \n",
    " $$SST=SSE+SSR\\\\\n",
    " \\sum_i^N(Y_i-\\bar{Y})^2 = \\sum_i^N (Y_i-\\hat{Y}_i)^2 + \\sum_i^N(\\hat{Y}_i - \\bar{Y})^2$$\n",
    " \n",
    "\n",
    "# One-Way ANOVA\n",
    "- Need one factor (categorical variable) with at least 2 levels $(G\\geq 2)$\n",
    "- Aim: Compare $G$ group means\n",
    "    $$H_0:\\mu_1=\\mu_2=...=\\mu_G, H_a:\\exists i\\neq j. \\mu_i\\neq \\mu_j$$\n",
    "- Predictors are indicator variables that classify the observations one way (into $G$ groups)\n",
    " - special case of a general linear model\n",
    " - equivalent to GLM with one-way classification (one factor)\n",
    " - GLM uses $G-1$ dummy variables\n",
    "- ANOVA: compare means by analyzing variability\n",
    "\n",
    "# One Way Expectations and Estimates\n",
    "\n",
    "$E(Y_i)=(\\beta_0 + \\beta_1,...,\\beta_0 +\\beta_{G-1}, \\beta_0)^T$ <br>\n",
    "$\\hat{Y}_i = (b_0+b_1,...,b_0 + b_{G-1}, b_0)^T$ <br>\n",
    "$\\hat{\\beta} = (b_0,...,b_{G-1})^T = (\\bar{y}_G, \\bar{y}_1-\\bar{y}_G,...,\\bar{y}_{G-1}-\\bar{y}_G)^T$\n",
    "\n",
    "Then, the null hypothesis is $H_0: \\beta_i=\\mu_i-\\mu_0 = 0\\Rightarrow$ the equal mean of $i$th group and the compared group\n",
    "\n",
    "In this case, for $SST$, $N=\\sum_1^G n_i,\\hat{Y}_i=$ mean of observations for group $g$ from which the $i$th observation belongs, $\\bar{Y}=\\frac{\\sum_{g=1}^{G}\\sum_{j=1}^{n_g} y_{gj}}{N}$ is the grand mean \n",
    "\n",
    "$$SSReg = \\sum_{g=1}^G n_g(\\bar{Y}_g-\\bar{Y})^2 \\\\\n",
    "RSS = \\sum_{g=1}^G \\sum_{g} (Y_i-\\bar{Y}_g)^2$$"
   ]
  },
  {
   "cell_type": "code",
   "execution_count": 6,
   "metadata": {},
   "outputs": [],
   "source": [
    "# import data\n",
    "library(Sleuth2)\n",
    "jury = case0502\n",
    "percent = case0502$Percent\n",
    "judge = case0502$Judge"
   ]
  },
  {
   "cell_type": "code",
   "execution_count": 7,
   "metadata": {
    "scrolled": true
   },
   "outputs": [
    {
     "data": {
      "text/plain": [
       "judge\n",
       "Spock's       A       B       C       D       E       F \n",
       "      9       5       6       9       2       6       9 "
      ]
     },
     "metadata": {},
     "output_type": "display_data"
    }
   ],
   "source": [
    "table(judge)"
   ]
  },
  {
   "cell_type": "code",
   "execution_count": 8,
   "metadata": {
    "scrolled": true
   },
   "outputs": [
    {
     "data": {
      "text/html": [
       "<style>\n",
       ".dl-inline {width: auto; margin:0; padding: 0}\n",
       ".dl-inline>dt, .dl-inline>dd {float: none; width: auto; display: inline-block}\n",
       ".dl-inline>dt::after {content: \":\\0020\"; padding-right: .5ex}\n",
       ".dl-inline>dt:not(:first-of-type) {padding-left: .5ex}\n",
       "</style><dl class=dl-inline><dt>Spock's</dt><dd>14.6222224235535</dd><dt>A</dt><dd>34.1199996948242</dd><dt>B</dt><dd>33.6166664759318</dd><dt>C</dt><dd>29.0999997456868</dd><dt>D</dt><dd>27</dd><dt>E</dt><dd>26.9666668574015</dd><dt>F</dt><dd>26.800000084771</dd></dl>\n"
      ],
      "text/latex": [
       "\\begin{description*}\n",
       "\\item[Spock's] 14.6222224235535\n",
       "\\item[A] 34.1199996948242\n",
       "\\item[B] 33.6166664759318\n",
       "\\item[C] 29.0999997456868\n",
       "\\item[D] 27\n",
       "\\item[E] 26.9666668574015\n",
       "\\item[F] 26.800000084771\n",
       "\\end{description*}\n"
      ],
      "text/markdown": [
       "Spock's\n",
       ":   14.6222224235535A\n",
       ":   34.1199996948242B\n",
       ":   33.6166664759318C\n",
       ":   29.0999997456868D\n",
       ":   27E\n",
       ":   26.9666668574015F\n",
       ":   26.800000084771\n",
       "\n"
      ],
      "text/plain": [
       " Spock's        A        B        C        D        E        F \n",
       "14.62222 34.12000 33.61667 29.10000 27.00000 26.96667 26.80000 "
      ]
     },
     "metadata": {},
     "output_type": "display_data"
    }
   ],
   "source": [
    "with(jury, tapply(percent, judge, mean))"
   ]
  },
  {
   "cell_type": "markdown",
   "metadata": {},
   "source": [
    "## Compare 6 judges (exclude Spock)"
   ]
  },
  {
   "cell_type": "code",
   "execution_count": 9,
   "metadata": {},
   "outputs": [
    {
     "data": {
      "image/png": "[encoded data removed]",
      "text/plain": [
       "plot without title"
      ]
     },
     "metadata": {
      "image/png": {
       "height": 420,
       "width": 420
      }
     },
     "output_type": "display_data"
    }
   ],
   "source": [
    "others = subset(jury, judge != \"Spock's\") \n",
    "boxplot(others$Percent~others$Judge, data=others)"
   ]
  },
  {
   "cell_type": "code",
   "execution_count": 10,
   "metadata": {},
   "outputs": [
    {
     "data": {
      "text/plain": [
       "             Df Sum Sq Mean Sq F value Pr(>F)\n",
       "others$Judge  5  326.5   65.29   1.218  0.324\n",
       "Residuals    31 1661.3   53.59               "
      ]
     },
     "metadata": {},
     "output_type": "display_data"
    }
   ],
   "source": [
    "summary(aov(others$Percent~others$Judge))"
   ]
  },
  {
   "cell_type": "markdown",
   "metadata": {},
   "source": [
    "## Rule of thumb\n",
    "Not a formal way, not a quick check whether equal variance"
   ]
  },
  {
   "cell_type": "code",
   "execution_count": 11,
   "metadata": {},
   "outputs": [
    {
     "data": {
      "text/html": [
       "<style>\n",
       ".dl-inline {width: auto; margin:0; padding: 0}\n",
       ".dl-inline>dt, .dl-inline>dd {float: none; width: auto; display: inline-block}\n",
       ".dl-inline>dt::after {content: \":\\0020\"; padding-right: .5ex}\n",
       ".dl-inline>dt:not(:first-of-type) {padding-left: .5ex}\n",
       "</style><dl class=dl-inline><dt>Spock's</dt><dd>&lt;NA&gt;</dd><dt>A</dt><dd>11.9418181005452</dd><dt>B</dt><dd>6.58222301297842</dd><dt>C</dt><dd>4.59292918339244</dd><dt>D</dt><dd>3.81837769736668</dd><dt>E</dt><dd>9.01014223675898</dd><dt>F</dt><dd>5.96887758208529</dd></dl>\n"
      ],
      "text/latex": [
       "\\begin{description*}\n",
       "\\item[Spock's] <NA>\n",
       "\\item[A] 11.9418181005452\n",
       "\\item[B] 6.58222301297842\n",
       "\\item[C] 4.59292918339244\n",
       "\\item[D] 3.81837769736668\n",
       "\\item[E] 9.01014223675898\n",
       "\\item[F] 5.96887758208529\n",
       "\\end{description*}\n"
      ],
      "text/markdown": [
       "Spock's\n",
       ":   &lt;NA&gt;A\n",
       ":   11.9418181005452B\n",
       ":   6.58222301297842C\n",
       ":   4.59292918339244D\n",
       ":   3.81837769736668E\n",
       ":   9.01014223675898F\n",
       ":   5.96887758208529\n",
       "\n"
      ],
      "text/plain": [
       "  Spock's         A         B         C         D         E         F \n",
       "       NA 11.941818  6.582223  4.592929  3.818378  9.010142  5.968878 "
      ]
     },
     "metadata": {},
     "output_type": "display_data"
    }
   ],
   "source": [
    "sss <- with(others, tapply(others$Percent, others$Judge, sd))\n",
    "sss"
   ]
  },
  {
   "cell_type": "code",
   "execution_count": 13,
   "metadata": {},
   "outputs": [
    {
     "data": {
      "text/html": [
       "11.9418181005452"
      ],
      "text/latex": [
       "11.9418181005452"
      ],
      "text/markdown": [
       "11.9418181005452"
      ],
      "text/plain": [
       "[1] 11.94182"
      ]
     },
     "metadata": {},
     "output_type": "display_data"
    },
    {
     "data": {
      "text/html": [
       "3.81837769736668"
      ],
      "text/latex": [
       "3.81837769736668"
      ],
      "text/markdown": [
       "3.81837769736668"
      ],
      "text/plain": [
       "[1] 3.818378"
      ]
     },
     "metadata": {},
     "output_type": "display_data"
    }
   ],
   "source": [
    "max(sss, na.rm=T); min(sss, na.rm=T)"
   ]
  },
  {
   "cell_type": "code",
   "execution_count": 14,
   "metadata": {},
   "outputs": [
    {
     "data": {
      "text/html": [
       "TRUE"
      ],
      "text/latex": [
       "TRUE"
      ],
      "text/markdown": [
       "TRUE"
      ],
      "text/plain": [
       "[1] TRUE"
      ]
     },
     "metadata": {},
     "output_type": "display_data"
    }
   ],
   "source": [
    "max(sss, na.rm=T) / min(sss, na.rm=T) > 2"
   ]
  },
  {
   "cell_type": "code",
   "execution_count": 15,
   "metadata": {},
   "outputs": [
    {
     "data": {
      "text/plain": [
       "\n",
       "\tBartlett test of homogeneity of variances\n",
       "\n",
       "data:  others$Percent and others$Judge\n",
       "Bartlett's K-squared = 6.3125, df = 5, p-value = 0.277\n"
      ]
     },
     "metadata": {},
     "output_type": "display_data"
    }
   ],
   "source": [
    "bartlett.test(others$Percent, others$Judge)"
   ]
  },
  {
   "cell_type": "markdown",
   "metadata": {},
   "source": [
    "The small p-value may due to the uneven and small group sizes"
   ]
  },
  {
   "cell_type": "markdown",
   "metadata": {},
   "source": [
    "## Compare all 7 judges"
   ]
  },
  {
   "cell_type": "code",
   "execution_count": 16,
   "metadata": {},
   "outputs": [
    {
     "data": {
      "image/png": "[encoded data removed]",
      "text/plain": [
       "plot without title"
      ]
     },
     "metadata": {
      "image/png": {
       "height": 420,
       "width": 420
      }
     },
     "output_type": "display_data"
    }
   ],
   "source": [
    "boxplot(percent~judge)"
   ]
  },
  {
   "cell_type": "code",
   "execution_count": 17,
   "metadata": {},
   "outputs": [
    {
     "data": {
      "text/plain": [
       "            Df Sum Sq Mean Sq F value  Pr(>F)    \n",
       "judge        6   1927   321.2   6.718 6.1e-05 ***\n",
       "Residuals   39   1864    47.8                    \n",
       "---\n",
       "Signif. codes:  0 '***' 0.001 '**' 0.01 '*' 0.05 '.' 0.1 ' ' 1"
      ]
     },
     "metadata": {},
     "output_type": "display_data"
    }
   ],
   "source": [
    "summary(aov(percent~judge))"
   ]
  },
  {
   "cell_type": "code",
   "execution_count": 18,
   "metadata": {},
   "outputs": [
    {
     "data": {
      "text/plain": [
       "\n",
       "Call:\n",
       "lm(formula = percent ~ judge)\n",
       "\n",
       "Residuals:\n",
       "    Min      1Q  Median      3Q     Max \n",
       "-17.320  -4.367  -0.250   3.319  14.780 \n",
       "\n",
       "Coefficients:\n",
       "            Estimate Std. Error t value Pr(>|t|)    \n",
       "(Intercept)   14.622      2.305   6.344 1.72e-07 ***\n",
       "judgeA        19.498      3.857   5.056 1.05e-05 ***\n",
       "judgeB        18.994      3.644   5.212 6.39e-06 ***\n",
       "judgeC        14.478      3.259   4.442 7.15e-05 ***\n",
       "judgeD        12.378      5.405   2.290 0.027513 *  \n",
       "judgeE        12.344      3.644   3.388 0.001623 ** \n",
       "judgeF        12.178      3.259   3.736 0.000597 ***\n",
       "---\n",
       "Signif. codes:  0 '***' 0.001 '**' 0.01 '*' 0.05 '.' 0.1 ' ' 1\n",
       "\n",
       "Residual standard error: 6.914 on 39 degrees of freedom\n",
       "Multiple R-squared:  0.5083,\tAdjusted R-squared:  0.4326 \n",
       "F-statistic: 6.718 on 6 and 39 DF,  p-value: 6.096e-05\n"
      ]
     },
     "metadata": {},
     "output_type": "display_data"
    }
   ],
   "source": [
    "summary(lm(percent~judge))"
   ]
  },
  {
   "cell_type": "code",
   "execution_count": 19,
   "metadata": {},
   "outputs": [
    {
     "data": {
      "image/png": "[encoded data removed]",
      "text/plain": [
       "Plot with title \"\""
      ]
     },
     "metadata": {
      "image/png": {
       "height": 420,
       "width": 420
      }
     },
     "output_type": "display_data"
    }
   ],
   "source": [
    "par(mfrow=c(2,2))\n",
    "plot(lm(percent~judge))"
   ]
  },
  {
   "cell_type": "code",
   "execution_count": 20,
   "metadata": {},
   "outputs": [
    {
     "data": {
      "text/html": [
       "<style>\n",
       ".dl-inline {width: auto; margin:0; padding: 0}\n",
       ".dl-inline>dt, .dl-inline>dd {float: none; width: auto; display: inline-block}\n",
       ".dl-inline>dt::after {content: \":\\0020\"; padding-right: .5ex}\n",
       ".dl-inline>dt:not(:first-of-type) {padding-left: .5ex}\n",
       "</style><dl class=dl-inline><dt>Spock's</dt><dd>5.03879411343757</dd><dt>A</dt><dd>11.9418181005452</dd><dt>B</dt><dd>6.58222301297842</dd><dt>C</dt><dd>4.59292918339244</dd><dt>D</dt><dd>3.81837769736668</dd><dt>E</dt><dd>9.01014223675898</dd><dt>F</dt><dd>5.96887758208529</dd></dl>\n"
      ],
      "text/latex": [
       "\\begin{description*}\n",
       "\\item[Spock's] 5.03879411343757\n",
       "\\item[A] 11.9418181005452\n",
       "\\item[B] 6.58222301297842\n",
       "\\item[C] 4.59292918339244\n",
       "\\item[D] 3.81837769736668\n",
       "\\item[E] 9.01014223675898\n",
       "\\item[F] 5.96887758208529\n",
       "\\end{description*}\n"
      ],
      "text/markdown": [
       "Spock's\n",
       ":   5.03879411343757A\n",
       ":   11.9418181005452B\n",
       ":   6.58222301297842C\n",
       ":   4.59292918339244D\n",
       ":   3.81837769736668E\n",
       ":   9.01014223675898F\n",
       ":   5.96887758208529\n",
       "\n"
      ],
      "text/plain": [
       "  Spock's         A         B         C         D         E         F \n",
       " 5.038794 11.941818  6.582223  4.592929  3.818378  9.010142  5.968878 "
      ]
     },
     "metadata": {},
     "output_type": "display_data"
    }
   ],
   "source": [
    "ssa = with(jury, tapply(percent,judge,sd))\n",
    "ssa"
   ]
  },
  {
   "cell_type": "code",
   "execution_count": 21,
   "metadata": {},
   "outputs": [
    {
     "data": {
      "text/html": [
       "TRUE"
      ],
      "text/latex": [
       "TRUE"
      ],
      "text/markdown": [
       "TRUE"
      ],
      "text/plain": [
       "[1] TRUE"
      ]
     },
     "metadata": {},
     "output_type": "display_data"
    }
   ],
   "source": [
    "max(ssa) / min(ssa) > 2"
   ]
  },
  {
   "cell_type": "code",
   "execution_count": 22,
   "metadata": {},
   "outputs": [
    {
     "data": {
      "text/plain": [
       "\n",
       "\tBartlett test of homogeneity of variances\n",
       "\n",
       "data:  percent by judge\n",
       "Bartlett's K-squared = 7.7582, df = 6, p-value = 0.2564\n"
      ]
     },
     "metadata": {},
     "output_type": "display_data"
    }
   ],
   "source": [
    "bartlett.test(percent~judge)"
   ]
  },
  {
   "cell_type": "markdown",
   "metadata": {},
   "source": [
    "- Residual vs Fitted: No obvious pattern, assume equal variance (also by rule of thumb and Bartlett)\n",
    "- Normal Q-Q: overall OK\n",
    "- Outliers: see Residual vs leverage, not influential point. \n",
    "\n",
    "![png](./assets/normalqq.png)"
   ]
  }
 ],
 "metadata": {
  "hide_input": false,
  "kernelspec": {
   "display_name": "R",
   "language": "R",
   "name": "ir"
  },
  "language_info": {
   "codemirror_mode": "r",
   "file_extension": ".r",
   "mimetype": "text/x-r-source",
   "name": "R",
   "pygments_lexer": "r",
   "version": "4.0.2"
  }
 },
 "nbformat": 4,
 "nbformat_minor": 2
}
