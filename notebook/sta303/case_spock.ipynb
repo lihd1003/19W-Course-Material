{
 "cells": [
  {
   "cell_type": "code",
   "execution_count": null,
   "metadata": {},
   "outputs": [],
   "source": [
    "---\n",
    "title: One Way ANOVA\n",
    "order: 5\n",
    "---"
   ]
  },
  {
   "cell_type": "code",
   "execution_count": 1,
   "metadata": {},
   "outputs": [],
   "source": [
    "# import data\n",
    "library(Sleuth2)\n",
    "percent = case0502$Percent\n",
    "judge = case0502$Judge"
   ]
  },
  {
   "cell_type": "code",
   "execution_count": 2,
   "metadata": {
    "scrolled": false
   },
   "outputs": [
    {
     "data": {
      "text/html": [
       "<style>\n",
       ".list-inline {list-style: none; margin:0; padding: 0}\n",
       ".list-inline>li {display: inline-block}\n",
       ".list-inline>li:not(:last-child)::after {content: \"\\00b7\"; padding: 0 .5ex}\n",
       "</style>\n",
       "<ol class=list-inline><li>Spock's</li><li>Spock's</li><li>Spock's</li><li>Spock's</li><li>Spock's</li><li>Spock's</li><li>Spock's</li><li>Spock's</li><li>Spock's</li><li>A</li><li>A</li><li>A</li><li>A</li><li>A</li><li>B</li><li>B</li><li>B</li><li>B</li><li>B</li><li>B</li><li>C</li><li>C</li><li>C</li><li>C</li><li>C</li><li>C</li><li>C</li><li>C</li><li>C</li><li>D</li><li>D</li><li>E</li><li>E</li><li>E</li><li>E</li><li>E</li><li>E</li><li>F</li><li>F</li><li>F</li><li>F</li><li>F</li><li>F</li><li>F</li><li>F</li><li>F</li></ol>\n",
       "\n",
       "<details>\n",
       "\t<summary style=display:list-item;cursor:pointer>\n",
       "\t\t<strong>Levels</strong>:\n",
       "\t</summary>\n",
       "\t<style>\n",
       "\t.list-inline {list-style: none; margin:0; padding: 0}\n",
       "\t.list-inline>li {display: inline-block}\n",
       "\t.list-inline>li:not(:last-child)::after {content: \"\\00b7\"; padding: 0 .5ex}\n",
       "\t</style>\n",
       "\t<ol class=list-inline><li>'Spock\\'s'</li><li>'A'</li><li>'B'</li><li>'C'</li><li>'D'</li><li>'E'</li><li>'F'</li></ol>\n",
       "</details>"
      ],
      "text/latex": [
       "\\begin{enumerate*}\n",
       "\\item Spock's\n",
       "\\item Spock's\n",
       "\\item Spock's\n",
       "\\item Spock's\n",
       "\\item Spock's\n",
       "\\item Spock's\n",
       "\\item Spock's\n",
       "\\item Spock's\n",
       "\\item Spock's\n",
       "\\item A\n",
       "\\item A\n",
       "\\item A\n",
       "\\item A\n",
       "\\item A\n",
       "\\item B\n",
       "\\item B\n",
       "\\item B\n",
       "\\item B\n",
       "\\item B\n",
       "\\item B\n",
       "\\item C\n",
       "\\item C\n",
       "\\item C\n",
       "\\item C\n",
       "\\item C\n",
       "\\item C\n",
       "\\item C\n",
       "\\item C\n",
       "\\item C\n",
       "\\item D\n",
       "\\item D\n",
       "\\item E\n",
       "\\item E\n",
       "\\item E\n",
       "\\item E\n",
       "\\item E\n",
       "\\item E\n",
       "\\item F\n",
       "\\item F\n",
       "\\item F\n",
       "\\item F\n",
       "\\item F\n",
       "\\item F\n",
       "\\item F\n",
       "\\item F\n",
       "\\item F\n",
       "\\end{enumerate*}\n",
       "\n",
       "\\emph{Levels}: \\begin{enumerate*}\n",
       "\\item 'Spock\\textbackslash{}'s'\n",
       "\\item 'A'\n",
       "\\item 'B'\n",
       "\\item 'C'\n",
       "\\item 'D'\n",
       "\\item 'E'\n",
       "\\item 'F'\n",
       "\\end{enumerate*}\n"
      ],
      "text/markdown": [
       "1. Spock's\n",
       "2. Spock's\n",
       "3. Spock's\n",
       "4. Spock's\n",
       "5. Spock's\n",
       "6. Spock's\n",
       "7. Spock's\n",
       "8. Spock's\n",
       "9. Spock's\n",
       "10. A\n",
       "11. A\n",
       "12. A\n",
       "13. A\n",
       "14. A\n",
       "15. B\n",
       "16. B\n",
       "17. B\n",
       "18. B\n",
       "19. B\n",
       "20. B\n",
       "21. C\n",
       "22. C\n",
       "23. C\n",
       "24. C\n",
       "25. C\n",
       "26. C\n",
       "27. C\n",
       "28. C\n",
       "29. C\n",
       "30. D\n",
       "31. D\n",
       "32. E\n",
       "33. E\n",
       "34. E\n",
       "35. E\n",
       "36. E\n",
       "37. E\n",
       "38. F\n",
       "39. F\n",
       "40. F\n",
       "41. F\n",
       "42. F\n",
       "43. F\n",
       "44. F\n",
       "45. F\n",
       "46. F\n",
       "\n",
       "\n",
       "\n",
       "**Levels**: 1. 'Spock\\'s'\n",
       "2. 'A'\n",
       "3. 'B'\n",
       "4. 'C'\n",
       "5. 'D'\n",
       "6. 'E'\n",
       "7. 'F'\n",
       "\n",
       "\n"
      ],
      "text/plain": [
       " [1] Spock's Spock's Spock's Spock's Spock's Spock's Spock's Spock's Spock's\n",
       "[10] A       A       A       A       A       B       B       B       B      \n",
       "[19] B       B       C       C       C       C       C       C       C      \n",
       "[28] C       C       D       D       E       E       E       E       E      \n",
       "[37] E       F       F       F       F       F       F       F       F      \n",
       "[46] F      \n",
       "Levels: Spock's A B C D E F"
      ]
     },
     "metadata": {},
     "output_type": "display_data"
    },
    {
     "data": {
      "image/png": "[encoded data removed]",
      "text/plain": [
       "plot without title"
      ]
     },
     "metadata": {
      "image/png": {
       "height": 420,
       "width": 420
      }
     },
     "output_type": "display_data"
    }
   ],
   "source": [
    "# plot the data\n",
    "plot(judge, percent)\n",
    "judge"
   ]
  },
  {
   "cell_type": "code",
   "execution_count": 3,
   "metadata": {
    "scrolled": true
   },
   "outputs": [
    {
     "data": {
      "text/plain": [
       "   Min. 1st Qu.  Median    Mean 3rd Qu.    Max. \n",
       "   6.40   19.95   27.50   26.58   32.38   48.90 "
      ]
     },
     "metadata": {},
     "output_type": "display_data"
    }
   ],
   "source": [
    "summary(percent)"
   ]
  },
  {
   "cell_type": "code",
   "execution_count": 4,
   "metadata": {
    "scrolled": false
   },
   "outputs": [
    {
     "data": {
      "image/png": "[encoded data removed]",
      "text/plain": [
       "plot without title"
      ]
     },
     "metadata": {
      "image/png": {
       "height": 420,
       "width": 420
      }
     },
     "output_type": "display_data"
    }
   ],
   "source": [
    "boxplot(percent, horizontal = T)"
   ]
  },
  {
   "cell_type": "markdown",
   "metadata": {},
   "source": [
    "This looks to be normal, based on Mean vs. Median, and the IQR"
   ]
  },
  {
   "cell_type": "code",
   "execution_count": 5,
   "metadata": {},
   "outputs": [
    {
     "data": {
      "text/plain": [
       "\n",
       "\tOne Sample t-test\n",
       "\n",
       "data:  percent\n",
       "t = -17.303, df = 45, p-value < 2.2e-16\n",
       "alternative hypothesis: true mean is not equal to 50\n",
       "95 percent confidence interval:\n",
       " 23.85675 29.30847\n",
       "sample estimates:\n",
       "mean of x \n",
       " 26.58261 \n"
      ]
     },
     "metadata": {},
     "output_type": "display_data"
    }
   ],
   "source": [
    "t.test(percent, mu = 50)"
   ]
  },
  {
   "cell_type": "markdown",
   "metadata": {},
   "source": [
    "## One sample two sided test\n",
    "hypothesis: $H_0:\\mu=50$ <br>\n",
    "test statistic: $\\frac{\\bar{X}-\\mu_0}{S/\\sqrt{n}}\\sim T_{n-1}$ <br>\n",
    "The result is significant, we can reject the hypothesis. "
   ]
  },
  {
   "cell_type": "code",
   "execution_count": 6,
   "metadata": {
    "scrolled": false
   },
   "outputs": [
    {
     "data": {
      "image/png": "[encoded data removed]",
      "text/plain": [
       "Plot with title \"Normal Q-Q Plot\""
      ]
     },
     "metadata": {
      "image/png": {
       "height": 420,
       "width": 420
      }
     },
     "output_type": "display_data"
    }
   ],
   "source": [
    "par(mfrow = c(1,2))\n",
    "hist(percent)\n",
    "qqnorm(percent)\n",
    "qqline(percent)"
   ]
  },
  {
   "cell_type": "markdown",
   "metadata": {},
   "source": [
    "## Normality Check"
   ]
  },
  {
   "cell_type": "code",
   "execution_count": 7,
   "metadata": {},
   "outputs": [
    {
     "data": {
      "text/plain": [
       "\n",
       "\tShapiro-Wilk normality test\n",
       "\n",
       "data:  percent\n",
       "W = 0.98763, p-value = 0.9013\n"
      ]
     },
     "metadata": {},
     "output_type": "display_data"
    }
   ],
   "source": [
    "shapiro.test(percent)"
   ]
  },
  {
   "cell_type": "markdown",
   "metadata": {},
   "source": [
    "$H_0$: data is normal <br>\n",
    "Test statistics: 0.98763<br>\n",
    "Probability: 0.9013 is larger <br>\n",
    "We have evidence that data is normal."
   ]
  },
  {
   "cell_type": "markdown",
   "metadata": {},
   "source": [
    "Consider two-sided t-test"
   ]
  },
  {
   "cell_type": "markdown",
   "metadata": {},
   "source": [
    "## Two Sample t-test"
   ]
  },
  {
   "cell_type": "code",
   "execution_count": 8,
   "metadata": {},
   "outputs": [
    {
     "data": {
      "text/html": [
       "<style>\n",
       ".list-inline {list-style: none; margin:0; padding: 0}\n",
       ".list-inline>li {display: inline-block}\n",
       ".list-inline>li:not(:last-child)::after {content: \"\\00b7\"; padding: 0 .5ex}\n",
       "</style>\n",
       "<ol class=list-inline><li>6.40000009536743</li><li>8.69999980926514</li><li>13.3000001907349</li><li>13.6000003814697</li><li>15</li><li>15.1999998092651</li><li>17.7000007629395</li><li>18.6000003814697</li><li>23.1000003814697</li></ol>\n"
      ],
      "text/latex": [
       "\\begin{enumerate*}\n",
       "\\item 6.40000009536743\n",
       "\\item 8.69999980926514\n",
       "\\item 13.3000001907349\n",
       "\\item 13.6000003814697\n",
       "\\item 15\n",
       "\\item 15.1999998092651\n",
       "\\item 17.7000007629395\n",
       "\\item 18.6000003814697\n",
       "\\item 23.1000003814697\n",
       "\\end{enumerate*}\n"
      ],
      "text/markdown": [
       "1. 6.40000009536743\n",
       "2. 8.69999980926514\n",
       "3. 13.3000001907349\n",
       "4. 13.6000003814697\n",
       "5. 15\n",
       "6. 15.1999998092651\n",
       "7. 17.7000007629395\n",
       "8. 18.6000003814697\n",
       "9. 23.1000003814697\n",
       "\n",
       "\n"
      ],
      "text/plain": [
       "[1]  6.4  8.7 13.3 13.6 15.0 15.2 17.7 18.6 23.1"
      ]
     },
     "metadata": {},
     "output_type": "display_data"
    },
    {
     "data": {
      "text/html": [
       "<style>\n",
       ".list-inline {list-style: none; margin:0; padding: 0}\n",
       ".list-inline>li {display: inline-block}\n",
       ".list-inline>li:not(:last-child)::after {content: \"\\00b7\"; padding: 0 .5ex}\n",
       "</style>\n",
       "<ol class=list-inline><li>16.7999992370605</li><li>30.7999992370605</li><li>33.5999984741211</li><li>40.5</li><li>48.9000015258789</li><li>27</li><li>28.8999996185303</li><li>32</li><li>32.7000007629395</li><li>35.5</li><li>45.5999984741211</li><li>21</li><li>23.3999996185303</li><li>27.5</li><li>27.5</li><li>30.5</li><li>31.8999996185303</li><li>32.5</li><li>33.7999992370605</li><li>33.7999992370605</li><li>24.2999992370605</li><li>29.7000007629395</li><li>17.7000007629395</li><li>19.7000007629395</li><li>21.5</li><li>27.8999996185303</li><li>34.7999992370605</li><li>40.2000007629395</li><li>16.5</li><li>20.7000007629395</li><li>23.5</li><li>26.3999996185303</li><li>26.7000007629395</li><li>29.5</li><li>29.7999992370605</li><li>31.8999996185303</li><li>36.2000007629395</li></ol>\n"
      ],
      "text/latex": [
       "\\begin{enumerate*}\n",
       "\\item 16.7999992370605\n",
       "\\item 30.7999992370605\n",
       "\\item 33.5999984741211\n",
       "\\item 40.5\n",
       "\\item 48.9000015258789\n",
       "\\item 27\n",
       "\\item 28.8999996185303\n",
       "\\item 32\n",
       "\\item 32.7000007629395\n",
       "\\item 35.5\n",
       "\\item 45.5999984741211\n",
       "\\item 21\n",
       "\\item 23.3999996185303\n",
       "\\item 27.5\n",
       "\\item 27.5\n",
       "\\item 30.5\n",
       "\\item 31.8999996185303\n",
       "\\item 32.5\n",
       "\\item 33.7999992370605\n",
       "\\item 33.7999992370605\n",
       "\\item 24.2999992370605\n",
       "\\item 29.7000007629395\n",
       "\\item 17.7000007629395\n",
       "\\item 19.7000007629395\n",
       "\\item 21.5\n",
       "\\item 27.8999996185303\n",
       "\\item 34.7999992370605\n",
       "\\item 40.2000007629395\n",
       "\\item 16.5\n",
       "\\item 20.7000007629395\n",
       "\\item 23.5\n",
       "\\item 26.3999996185303\n",
       "\\item 26.7000007629395\n",
       "\\item 29.5\n",
       "\\item 29.7999992370605\n",
       "\\item 31.8999996185303\n",
       "\\item 36.2000007629395\n",
       "\\end{enumerate*}\n"
      ],
      "text/markdown": [
       "1. 16.7999992370605\n",
       "2. 30.7999992370605\n",
       "3. 33.5999984741211\n",
       "4. 40.5\n",
       "5. 48.9000015258789\n",
       "6. 27\n",
       "7. 28.8999996185303\n",
       "8. 32\n",
       "9. 32.7000007629395\n",
       "10. 35.5\n",
       "11. 45.5999984741211\n",
       "12. 21\n",
       "13. 23.3999996185303\n",
       "14. 27.5\n",
       "15. 27.5\n",
       "16. 30.5\n",
       "17. 31.8999996185303\n",
       "18. 32.5\n",
       "19. 33.7999992370605\n",
       "20. 33.7999992370605\n",
       "21. 24.2999992370605\n",
       "22. 29.7000007629395\n",
       "23. 17.7000007629395\n",
       "24. 19.7000007629395\n",
       "25. 21.5\n",
       "26. 27.8999996185303\n",
       "27. 34.7999992370605\n",
       "28. 40.2000007629395\n",
       "29. 16.5\n",
       "30. 20.7000007629395\n",
       "31. 23.5\n",
       "32. 26.3999996185303\n",
       "33. 26.7000007629395\n",
       "34. 29.5\n",
       "35. 29.7999992370605\n",
       "36. 31.8999996185303\n",
       "37. 36.2000007629395\n",
       "\n",
       "\n"
      ],
      "text/plain": [
       " [1] 16.8 30.8 33.6 40.5 48.9 27.0 28.9 32.0 32.7 35.5 45.6 21.0 23.4 27.5 27.5\n",
       "[16] 30.5 31.9 32.5 33.8 33.8 24.3 29.7 17.7 19.7 21.5 27.9 34.8 40.2 16.5 20.7\n",
       "[31] 23.5 26.4 26.7 29.5 29.8 31.9 36.2"
      ]
     },
     "metadata": {},
     "output_type": "display_data"
    },
    {
     "data": {
      "image/png": "[encoded data removed]",
      "text/plain": [
       "plot without title"
      ]
     },
     "metadata": {
      "image/png": {
       "height": 420,
       "width": 420
      }
     },
     "output_type": "display_data"
    }
   ],
   "source": [
    "groupS <- percent[judge == \"Spock's\"]\n",
    "groupS\n",
    "groupNS <- percent[judge != \"Spock's\"]\n",
    "groupNS\n",
    "boxplot(groupS, groupNS, xlab=\"JUDGE\", names = c(\"Spock\", \"Other\"))"
   ]
  },
  {
   "cell_type": "markdown",
   "metadata": {},
   "source": [
    "**Purpose** to compare two population means <br>\n",
    "$H_0$: $\\mu_x-\\mu_y = D_0 (\\text{ commonly }D_0=0)$ <br>\n",
    "**Assumptions** \n",
    "- two samples are iid from approximately Normal populations\n",
    "- Two samples are independent of each other\n",
    "\n",
    "**Test statistic** $t = \\frac{(\\bar{x}-\\bar{y})-D_0}{se(\\bar{x}-\\bar{y})}$ <br>\n",
    "$$ \\begin{align*}\n",
    "var(\\bar{x}-\\bar{y}) &= var(\\bar{x}) + var(-\\bar{y}) = \\sigma_x^2/n_x + (-1)^2\\sigma_y^2/n_y \\\\\n",
    "se(\\bar{x}-\\bar{y}) &= \\sqrt{\\sigma_x^2/n_x + \\sigma_y^2/x_y} \n",
    "\\end{align*}$$\n"
   ]
  },
  {
   "cell_type": "markdown",
   "metadata": {},
   "source": [
    "## Check equal variance assumption"
   ]
  },
  {
   "cell_type": "code",
   "execution_count": 9,
   "metadata": {},
   "outputs": [
    {
     "data": {
      "text/html": [
       "25.3894461176131"
      ],
      "text/latex": [
       "25.3894461176131"
      ],
      "text/markdown": [
       "25.3894461176131"
      ],
      "text/plain": [
       "[1] 25.38945"
      ]
     },
     "metadata": {},
     "output_type": "display_data"
    },
    {
     "data": {
      "text/html": [
       "55.2163209681473"
      ],
      "text/latex": [
       "55.2163209681473"
      ],
      "text/markdown": [
       "55.2163209681473"
      ],
      "text/plain": [
       "[1] 55.21632"
      ]
     },
     "metadata": {},
     "output_type": "display_data"
    },
    {
     "data": {
      "text/html": [
       "2.17477453869475"
      ],
      "text/latex": [
       "2.17477453869475"
      ],
      "text/markdown": [
       "2.17477453869475"
      ],
      "text/plain": [
       "[1] 2.174775"
      ]
     },
     "metadata": {},
     "output_type": "display_data"
    },
    {
     "data": {
      "text/html": [
       "1.47471167985296"
      ],
      "text/latex": [
       "1.47471167985296"
      ],
      "text/markdown": [
       "1.47471167985296"
      ],
      "text/plain": [
       "[1] 1.474712"
      ]
     },
     "metadata": {},
     "output_type": "display_data"
    }
   ],
   "source": [
    "var(groupS)\n",
    "var(groupNS)\n",
    "max(var(groupS), var(groupNS)) / min(var(groupS), var(groupNS)) # Rule of Thumb\n",
    "max(sd(groupS), sd(groupNS)) / min(sd(groupS), sd(groupNS))"
   ]
  },
  {
   "cell_type": "markdown",
   "metadata": {},
   "source": [
    "Rule of thumb test <br>\n",
    "$H_0: \\sigma_x^2 = \\sigma_y^2$ <br>\n",
    "Test statistic: $S_{max}^2 / S^2_{min} = $ larger sample variance / smaller sample variance. <br>\n",
    "Reject $H_0$ is test-statistic $ > 4$"
   ]
  },
  {
   "cell_type": "markdown",
   "metadata": {},
   "source": [
    "## Variance Ratio F-test"
   ]
  },
  {
   "cell_type": "code",
   "execution_count": 10,
   "metadata": {},
   "outputs": [
    {
     "data": {
      "text/plain": [
       "\n",
       "\tF test to compare two variances\n",
       "\n",
       "data:  groupS and groupNS\n",
       "F = 0.45982, num df = 8, denom df = 36, p-value = 0.2482\n",
       "alternative hypothesis: true ratio of variances is not equal to 1\n",
       "95 percent confidence interval:\n",
       " 0.1789822 1.7739665\n",
       "sample estimates:\n",
       "ratio of variances \n",
       "         0.4598178 \n"
      ]
     },
     "metadata": {},
     "output_type": "display_data"
    }
   ],
   "source": [
    "var.test(groupS, groupNS)"
   ]
  },
  {
   "cell_type": "markdown",
   "metadata": {},
   "source": [
    "**Assumptions**\n",
    " - Random samples $X_1,X_2$ with size $n_1,n_2$ is drawn from $N(\\mu_1,\\sigma_1^2), N(\\mu_2, \\sigma_2^2)$\n",
    " - $X_1,X_2$ are independent.\n",
    " - Samples size are large (better when samples size are equal)\n",
    " \n",
    "**Test statistic** $F = S_1^2/S_2^2 \\sim F_{n_1-1,n_2-1}$ <br>\n",
    "\n",
    "$p = 0.07668 > 0.05$, we don't reject the null hypothesis, evidence of equal variance"
   ]
  },
  {
   "cell_type": "markdown",
   "metadata": {},
   "source": [
    "## Two-sample t-test (Satterwaite approximation)"
   ]
  },
  {
   "cell_type": "code",
   "execution_count": 11,
   "metadata": {},
   "outputs": [
    {
     "data": {
      "text/plain": [
       "\n",
       "\tWelch Two Sample t-test\n",
       "\n",
       "data:  groupS and groupNS\n",
       "t = -7.1597, df = 17.608, p-value = 1.303e-06\n",
       "alternative hypothesis: true difference in means is not equal to 0\n",
       "95 percent confidence interval:\n",
       " -19.23999 -10.49935\n",
       "sample estimates:\n",
       "mean of x mean of y \n",
       " 14.62222  29.49189 \n"
      ]
     },
     "metadata": {},
     "output_type": "display_data"
    }
   ],
   "source": [
    "t.test(groupS, groupNS, var.equal = F)"
   ]
  },
  {
   "cell_type": "markdown",
   "metadata": {},
   "source": [
    "Used when population variance can't be assume to be equal <br>\n",
    "**Test statistic** $t = \\frac{(\\bar{x}-\\bar{y}-D_0)}{\\sqrt{s^2_x/n_x + s_y^2/n_y}}\\sim t_v$, $v = \\frac{(s^2_x/n_x + s_y^2/n_y)^2}{(s_x^2/n_x)^2/(n_x-1) + (s_y^2/n_y)^2/(n_y-1)}$. $v$ is calculated by Satterhwaite approximation, round down to the nearest integer"
   ]
  },
  {
   "cell_type": "markdown",
   "metadata": {},
   "source": [
    "## Pooled two-sample t-test"
   ]
  },
  {
   "cell_type": "code",
   "execution_count": 12,
   "metadata": {},
   "outputs": [
    {
     "data": {
      "text/plain": [
       "\n",
       "\tTwo Sample t-test\n",
       "\n",
       "data:  groupS and groupNS\n",
       "t = -5.6697, df = 44, p-value = 1.03e-06\n",
       "alternative hypothesis: true difference in means is not equal to 0\n",
       "95 percent confidence interval:\n",
       " -20.155294  -9.584045\n",
       "sample estimates:\n",
       "mean of x mean of y \n",
       " 14.62222  29.49189 \n"
      ]
     },
     "metadata": {},
     "output_type": "display_data"
    }
   ],
   "source": [
    "t.test(groupS, groupNS, var.equal = T)"
   ]
  },
  {
   "cell_type": "markdown",
   "metadata": {},
   "source": [
    "**Assumption** population variance are equal <br>\n",
    "Estimate pooled variance $s_p^2 = \\frac{(n_x-1)^2 s_x^2 + (n_y-1)^2 s_y^2}{n_x+n_y-2}$ <br>\n",
    "**Test statistic** $t = \\frac{(\\bar{x}-\\bar{y})-D_0}{\\sqrt{s_p^2(n_x^{-1}+n_y^{-1})}}\\sim t_{n_x+n_y-2}$"
   ]
  },
  {
   "cell_type": "markdown",
   "metadata": {},
   "source": [
    "Based on the tests, we can reject the hypothesis that two samples have the same means<br>\n",
    "**Conclusion** Evidence that the percentage of women differs in the two groups"
   ]
  },
  {
   "cell_type": "markdown",
   "metadata": {},
   "source": [
    "**Paired t-test** <br>\n",
    "**Requirement** $n_x = n_y$, independent samples"
   ]
  },
  {
   "cell_type": "markdown",
   "metadata": {},
   "source": [
    "## Pooled t-test (Left tailed)\n",
    "$H_0: \\mu_x - \\mu_y = 0, H_a: \\mu_x < \\mu_y$"
   ]
  },
  {
   "cell_type": "code",
   "execution_count": 13,
   "metadata": {},
   "outputs": [
    {
     "data": {
      "text/plain": [
       "\n",
       "\tTwo Sample t-test\n",
       "\n",
       "data:  groupS and groupNS\n",
       "t = -5.6697, df = 44, p-value = 5.148e-07\n",
       "alternative hypothesis: true difference in means is less than 0\n",
       "95 percent confidence interval:\n",
       "    -Inf -10.463\n",
       "sample estimates:\n",
       "mean of x mean of y \n",
       " 14.62222  29.49189 \n"
      ]
     },
     "metadata": {},
     "output_type": "display_data"
    }
   ],
   "source": [
    "t.test(groupS, groupNS, alternative=\"less\", var.equal= T)"
   ]
  },
  {
   "cell_type": "markdown",
   "metadata": {},
   "source": [
    "# Dummy Variable (SLR)\n"
   ]
  },
  {
   "cell_type": "code",
   "execution_count": 14,
   "metadata": {},
   "outputs": [
    {
     "data": {
      "text/plain": [
       "\n",
       "Call:\n",
       "lm(formula = percent ~ X)\n",
       "\n",
       "Residuals:\n",
       "     Min       1Q   Median       3Q      Max \n",
       "-12.9919  -4.6669   0.2581   3.7854  19.4081 \n",
       "\n",
       "Coefficients:\n",
       "            Estimate Std. Error t value Pr(>|t|)    \n",
       "(Intercept)   29.492      1.160   25.42  < 2e-16 ***\n",
       "X            -14.870      2.623   -5.67 1.03e-06 ***\n",
       "---\n",
       "Signif. codes:  0 '***' 0.001 '**' 0.01 '*' 0.05 '.' 0.1 ' ' 1\n",
       "\n",
       "Residual standard error: 7.056 on 44 degrees of freedom\n",
       "Multiple R-squared:  0.4222,\tAdjusted R-squared:  0.409 \n",
       "F-statistic: 32.15 on 1 and 44 DF,  p-value: 1.03e-06\n"
      ]
     },
     "metadata": {},
     "output_type": "display_data"
    }
   ],
   "source": [
    "X <- c(rep(1, length(groupS)), rep(0, length(groupNS)))\n",
    "model <- lm(percent~X)\n",
    "summary(model)"
   ]
  },
  {
   "cell_type": "markdown",
   "metadata": {},
   "source": [
    "**Model** $Y_i=\\beta_0+\\beta_1X_i+\\epsilon_i$, where $X_i=\\mathbb{I}(\\text{ith observation is from group A})$.<br>\n",
    "**Assumptions**\n",
    " - The linear model is appropriate\n",
    " - Gauss-Markov assumptions ($E(\\epsilon_i)=0, var(\\epsilon_i)=\\sigma^2$: Uncorrelated errors)\n",
    " - $\\epsilon_i\\sim N(0, \\sigma^2)$\n",
    "\n",
    "$H_0:\\beta_1 = 0$ <br>\n",
    "**Test statistic** $t = \\frac{b_1}{se(b_1)}\\sim t_{N-2}$, $N = n_A + n_{A^c} $"
   ]
  },
  {
   "cell_type": "markdown",
   "metadata": {},
   "source": [
    "## Regression diagnostics"
   ]
  },
  {
   "cell_type": "code",
   "execution_count": 15,
   "metadata": {},
   "outputs": [
    {
     "data": {
      "image/png": "[encoded data removed]",
      "text/plain": [
       "Plot with title \"\""
      ]
     },
     "metadata": {
      "image/png": {
       "height": 420,
       "width": 420
      }
     },
     "output_type": "display_data"
    }
   ],
   "source": [
    "yhats = fitted(model)\n",
    "errors = residuals(model)\n",
    "par(mfrow=c(3,2))\n",
    "\n",
    "hist(errors, xlab=\"Residuals\", breaks = 5)\n",
    "\n",
    "plot(errors)\n",
    "abline(0, 0)\n",
    "\n",
    "plot(model)"
   ]
  },
  {
   "cell_type": "markdown",
   "metadata": {},
   "source": [
    "Check Assumptions\n",
    "- Normality: looks like a little bit right skewed (but they might just be outliers)\n",
    "- Constant variance: yes\n",
    "- $E(\\epsilon) = 0$: yes"
   ]
  },
  {
   "cell_type": "code",
   "execution_count": 16,
   "metadata": {},
   "outputs": [
    {
     "data": {
      "text/html": [
       "<table>\n",
       "<caption>A anova: 2 × 5</caption>\n",
       "<thead>\n",
       "\t<tr><th></th><th scope=col>Df</th><th scope=col>Sum Sq</th><th scope=col>Mean Sq</th><th scope=col>F value</th><th scope=col>Pr(&gt;F)</th></tr>\n",
       "\t<tr><th></th><th scope=col>&lt;int&gt;</th><th scope=col>&lt;dbl&gt;</th><th scope=col>&lt;dbl&gt;</th><th scope=col>&lt;dbl&gt;</th><th scope=col>&lt;dbl&gt;</th></tr>\n",
       "</thead>\n",
       "<tbody>\n",
       "\t<tr><th scope=row>X</th><td> 1</td><td>1600.623</td><td>1600.62290</td><td>32.14538</td><td>1.029666e-06</td></tr>\n",
       "\t<tr><th scope=row>Residuals</th><td>44</td><td>2190.903</td><td>  49.79325</td><td>      NA</td><td>          NA</td></tr>\n",
       "</tbody>\n",
       "</table>\n"
      ],
      "text/latex": [
       "A anova: 2 × 5\n",
       "\\begin{tabular}{r|lllll}\n",
       "  & Df & Sum Sq & Mean Sq & F value & Pr(>F)\\\\\n",
       "  & <int> & <dbl> & <dbl> & <dbl> & <dbl>\\\\\n",
       "\\hline\n",
       "\tX &  1 & 1600.623 & 1600.62290 & 32.14538 & 1.029666e-06\\\\\n",
       "\tResiduals & 44 & 2190.903 &   49.79325 &       NA &           NA\\\\\n",
       "\\end{tabular}\n"
      ],
      "text/markdown": [
       "\n",
       "A anova: 2 × 5\n",
       "\n",
       "| <!--/--> | Df &lt;int&gt; | Sum Sq &lt;dbl&gt; | Mean Sq &lt;dbl&gt; | F value &lt;dbl&gt; | Pr(&gt;F) &lt;dbl&gt; |\n",
       "|---|---|---|---|---|---|\n",
       "| X |  1 | 1600.623 | 1600.62290 | 32.14538 | 1.029666e-06 |\n",
       "| Residuals | 44 | 2190.903 |   49.79325 |       NA |           NA |\n",
       "\n"
      ],
      "text/plain": [
       "          Df Sum Sq   Mean Sq    F value  Pr(>F)      \n",
       "X          1 1600.623 1600.62290 32.14538 1.029666e-06\n",
       "Residuals 44 2190.903   49.79325       NA           NA"
      ]
     },
     "metadata": {},
     "output_type": "display_data"
    }
   ],
   "source": [
    "anova(model)"
   ]
  },
  {
   "cell_type": "markdown",
   "metadata": {},
   "source": [
    "#### ANOVA for linear regression\n",
    "$H_0:\\beta_1 = 0$ <br>\n",
    "$F=MSR/MSE\\sim F_{d.f.variables,\\: d.f.errors}$"
   ]
  }
 ],
 "metadata": {
  "hide_input": false,
  "kernelspec": {
   "display_name": "R",
   "language": "R",
   "name": "ir"
  },
  "language_info": {
   "codemirror_mode": "r",
   "file_extension": ".r",
   "mimetype": "text/x-r-source",
   "name": "R",
   "pygments_lexer": "r",
   "version": "4.0.2"
  }
 },
 "nbformat": 4,
 "nbformat_minor": 2
}
