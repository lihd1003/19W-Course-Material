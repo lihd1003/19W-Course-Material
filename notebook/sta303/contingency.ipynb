{
 "cells": [
  {
   "cell_type": "raw",
   "metadata": {},
   "source": [
    "---\n",
    "title: Factor independence and Contingency Table\n",
    "order: 70\n",
    "---"
   ]
  },
  {
   "cell_type": "markdown",
   "metadata": {},
   "source": [
    "# Case Study: Framingham Heart Study\n",
    "\n",
    "Data considered:\n",
    "- n = 1329 men\n",
    "- X = Cholesterol measurement in 1948 (mg/dl)\n",
    "- Y = after 10 years, did they developed CVD (present/absernt)"
   ]
  },
  {
   "cell_type": "markdown",
   "metadata": {},
   "source": [
    "## Binomial Sampling\n",
    "Let $\\pi_H=p(present\\mid high),\\pi_L = P(present\\mid low)$.\n",
    "\n",
    "Hypothese: $H_0: \\pi_H = \\pi_L, H_a: \\pi_H \\neq \\pi_L$\n",
    "\n",
    "Assumptions: \n",
    " - depending on level of cholesterol, each person is a Bernoulli trial with chance of developing CVD as $n_H = 284, n_L = 1043$. \n",
    " - Then for fixed $n_H, n_L$, the count of the number of people who develop CVD $y_H\\sim Binomial(n_H=286,\\pi_H)$ $y_L\\sim Binomial(n_L=1043,\\pi_L)$\n",
    " - Then estimate of $\\pi_H-\\pi_L$ is $\\hat\\pi_H-\\hat\\pi_L$ where $\\hat\\pi_H = y_H/n_H, \\hat\\pi_L = y_L/n_L$ are the sample proportions.\n",
    " - $var(\\hat\\pi_H-\\hat\\pi_L) = var(\\hat\\pi_H) + var(\\hat\\pi_L)\\\\=n_H\\pi_H(1-\\pi_H)/n^2_H + n_L\\pi_L(1-\\pi_L)/n^2_L\\\\= \\pi_H(1-\\pi_H)/n_H+\\pi_L(1-\\pi_L)/n_L$\n",
    " - $se(\\hat\\pi_H-\\hat\\pi_L) = \\sqrt{\\hat\\pi_c(1-\\hat\\pi_c)(n_H^{-1}+n_L^{-1})}$ where $\\hat\\pi_c=\\frac{y_L+y_H}{n+L + n_H}$ is the combined sample proportion\n",
    " - By CLT, the test statistic $\\sim N(0,1)$"
   ]
  },
  {
   "cell_type": "markdown",
   "metadata": {},
   "source": [
    "Test statistic: $\\frac{\\hat\\pi_H-\\hat\\pi_L}{se(\\hat\\pi_H-\\hat\\pi_L)}=5.575$\n",
    "\n",
    "p-value $2P(Z\\geq 5.575)<0.05$\n",
    "\n",
    "Conclusion: We have strong evidence that the probability of developing CVD is not the same for High and Low cholesterol groups.\n"
   ]
  },
  {
   "cell_type": "code",
   "execution_count": 1,
   "metadata": {
    "ExecuteTime": {
     "end_time": "2019-03-19T19:46:27.636574Z",
     "start_time": "2019-03-19T19:46:27.512Z"
    }
   },
   "outputs": [
    {
     "name": "stdout",
     "output_type": "stream",
     "text": [
      "           Cardio Vascular Disease\n",
      "Cholesterol Present Absent\n",
      "       High      41    245\n",
      "       Low       51    992\n"
     ]
    }
   ],
   "source": [
    "cvd<-matrix(c(41,245,51,992), nrow=2,byrow=TRUE)\n",
    "dimnames(cvd)<-list(c(\"High\",\"Low\"), c(\"Present\",\"Absent\"))\n",
    "names(dimnames(cvd))<-c(\"Cholesterol\",\"Cardio Vascular Disease\")\n",
    "print(cvd)"
   ]
  },
  {
   "cell_type": "code",
   "execution_count": 2,
   "metadata": {
    "ExecuteTime": {
     "end_time": "2019-03-19T19:47:40.228645Z",
     "start_time": "2019-03-19T19:47:40.099Z"
    }
   },
   "outputs": [
    {
     "name": "stdout",
     "output_type": "stream",
     "text": [
      "[1] 0.1433566\n",
      "[1] 0.04889741\n"
     ]
    }
   ],
   "source": [
    "# estimate for pi\n",
    "pi_h = 41/(41+245)\n",
    "pi_l = 51/(51+992)\n",
    "print(pi_h)\n",
    "print(pi_l)"
   ]
  },
  {
   "cell_type": "code",
   "execution_count": 3,
   "metadata": {
    "ExecuteTime": {
     "end_time": "2019-03-19T19:48:23.613073Z",
     "start_time": "2019-03-19T19:48:23.486Z"
    },
    "scrolled": true
   },
   "outputs": [
    {
     "data": {
      "text/html": [
       "1.95996398454005"
      ],
      "text/latex": [
       "1.95996398454005"
      ],
      "text/markdown": [
       "1.95996398454005"
      ],
      "text/plain": [
       "[1] 1.959964"
      ]
     },
     "metadata": {},
     "output_type": "display_data"
    }
   ],
   "source": [
    "# sample size \n",
    "n_h = 41 + 245\n",
    "n_l = 51 + 992\n",
    "conf.level = 0.95\n",
    "crit.val = qnorm(1-(1-conf.level)/2)\n",
    "crit.val"
   ]
  },
  {
   "cell_type": "code",
   "execution_count": 4,
   "metadata": {
    "ExecuteTime": {
     "end_time": "2019-03-19T19:50:40.389805Z",
     "start_time": "2019-03-19T19:50:40.275Z"
    }
   },
   "outputs": [
    {
     "data": {
      "text/html": [
       "0.0217710596635901"
      ],
      "text/latex": [
       "0.0217710596635901"
      ],
      "text/markdown": [
       "0.0217710596635901"
      ],
      "text/plain": [
       "[1] 0.02177106"
      ]
     },
     "metadata": {},
     "output_type": "display_data"
    }
   ],
   "source": [
    "# standard error\n",
    "se.hat = sqrt(pi_h * (1 - pi_h)/n_h + pi_l * (1 - pi_l)/n_l)\n",
    "se.hat"
   ]
  },
  {
   "cell_type": "code",
   "execution_count": 5,
   "metadata": {
    "ExecuteTime": {
     "end_time": "2019-03-19T19:51:43.917281Z",
     "start_time": "2019-03-19T19:51:43.805Z"
    },
    "code_folding": [],
    "scrolled": true
   },
   "outputs": [
    {
     "data": {
      "text/html": [
       "<style>\n",
       ".list-inline {list-style: none; margin:0; padding: 0}\n",
       ".list-inline>li {display: inline-block}\n",
       ".list-inline>li:not(:last-child)::after {content: \"\\00b7\"; padding: 0 .5ex}\n",
       "</style>\n",
       "<ol class=list-inline><li>0.0517887391972153</li><li>0.137129724889034</li></ol>\n"
      ],
      "text/latex": [
       "\\begin{enumerate*}\n",
       "\\item 0.0517887391972153\n",
       "\\item 0.137129724889034\n",
       "\\end{enumerate*}\n"
      ],
      "text/markdown": [
       "1. 0.0517887391972153\n",
       "2. 0.137129724889034\n",
       "\n",
       "\n"
      ],
      "text/plain": [
       "[1] 0.05178874 0.13712972"
      ]
     },
     "metadata": {},
     "output_type": "display_data"
    }
   ],
   "source": [
    "# 95% CI\n",
    "c((pi_h-pi_l)-crit.val*se.hat, (pi_h-pi_l)+crit.val*se.hat)"
   ]
  },
  {
   "cell_type": "code",
   "execution_count": 6,
   "metadata": {
    "ExecuteTime": {
     "end_time": "2019-03-19T20:05:50.294798Z",
     "start_time": "2019-03-19T20:05:50.165Z"
    }
   },
   "outputs": [
    {
     "data": {
      "text/plain": [
       "\n",
       "\t2-sample test for equality of proportions without continuity\n",
       "\tcorrection\n",
       "\n",
       "data:  cvd\n",
       "X-squared = 31.082, df = 1, p-value = 2.474e-08\n",
       "alternative hypothesis: two.sided\n",
       "95 percent confidence interval:\n",
       " 0.05178874 0.13712972\n",
       "sample estimates:\n",
       "    prop 1     prop 2 \n",
       "0.14335664 0.04889741 \n"
      ]
     },
     "metadata": {},
     "output_type": "display_data"
    }
   ],
   "source": [
    "# easier way for bonimial sampling\n",
    "prop.test(cvd, correct=FALSE)"
   ]
  },
  {
   "cell_type": "code",
   "execution_count": 7,
   "metadata": {
    "ExecuteTime": {
     "end_time": "2019-03-19T20:07:55.091763Z",
     "start_time": "2019-03-19T20:07:54.979Z"
    }
   },
   "outputs": [
    {
     "data": {
      "text/plain": [
       "\n",
       "\tPearson's Chi-squared test\n",
       "\n",
       "data:  cvd\n",
       "X-squared = 31.082, df = 1, p-value = 2.474e-08\n"
      ]
     },
     "metadata": {},
     "output_type": "display_data"
    }
   ],
   "source": [
    "# or chisq test\n",
    "chisq.test(cvd, correct=F)"
   ]
  },
  {
   "cell_type": "code",
   "execution_count": 8,
   "metadata": {
    "ExecuteTime": {
     "end_time": "2019-03-19T20:06:44.532434Z",
     "start_time": "2019-03-19T20:06:44.419Z"
    }
   },
   "outputs": [
    {
     "data": {
      "text/plain": [
       "\n",
       "\t2-sample test for equality of proportions with continuity correction\n",
       "\n",
       "data:  cvd\n",
       "X-squared = 29.633, df = 1, p-value = 5.221e-08\n",
       "alternative hypothesis: two.sided\n",
       "95 percent confidence interval:\n",
       " 0.0495611 0.1393574\n",
       "sample estimates:\n",
       "    prop 1     prop 2 \n",
       "0.14335664 0.04889741 \n"
      ]
     },
     "metadata": {},
     "output_type": "display_data"
    }
   ],
   "source": [
    "# Don't use this, provide different result from the manual way\n",
    "prop.test(cvd)"
   ]
  },
  {
   "cell_type": "markdown",
   "metadata": {},
   "source": [
    "The CI does not include 0. "
   ]
  },
  {
   "cell_type": "markdown",
   "metadata": {},
   "source": [
    "# Contingency Table\n",
    "Have a row factor with $I$ levels and a column factor with $J$ levels\n",
    "\n",
    "Then, define $P(C=i,R=j)=\\pi_{ij}, P(C=i)=\\pi_{i\\cdot}, P(R=j)=\\pi_{\\cdot j}$\n",
    "\n",
    "Hypothesis: $H_0: \\pi_{ij} = \\pi_{i\\cdot}\\pi_{\\cdot j}, H_a: \\pi_{ij} \\neq\\pi_{i\\cdot}\\pi_{\\cdot j}$\n",
    "null: there is no relationship between the two factors"
   ]
  },
  {
   "cell_type": "markdown",
   "metadata": {},
   "source": [
    "For each cell, estimated expected cell count $\\hat\\mu_{ij} = n\\hat\\pi_i\\hat\\pi_j = y_{i\\cdot}y_{\\cdot j}/n$\n",
    "\n",
    "Test statistic: $X^2 = \\sum_{j=1}^J\\sum_{i=1}^I \\frac{(y_{ij}-\\hat\\mu_{ij})^2}{\\hat\\mu_{ij}}\\sim \\chi^2_{(I-1)(J-1)} $"
   ]
  },
  {
   "cell_type": "markdown",
   "metadata": {},
   "source": [
    "If $var(y)=E(y)=\\mu\\Rightarrow y\\sim Poisson(\\mu)$"
   ]
  },
  {
   "cell_type": "markdown",
   "metadata": {},
   "source": [
    "For this case, test statistic: $ 31.08\\sim \\chi^2_{(2-1)(2-1)}$, p-value $<0.0001$\n",
    "\n",
    "Strong evidence that the two factors are not independent, CVD status depends on cholesterol level."
   ]
  },
  {
   "cell_type": "markdown",
   "metadata": {},
   "source": [
    "When $I=J=2$, the chi-square test of independence is equivalent to comparing two proportions."
   ]
  },
  {
   "cell_type": "markdown",
   "metadata": {},
   "source": [
    "## Formal approach\n",
    "Let $Y_{ij}$ be r.v. representing the number of observations in cell $(i,j)$.\n",
    "\n",
    "Observe $y_{ij}$ be observed cell counts\n",
    "\n",
    "Then multinomial $$P(Y=y)=\\frac{n!\\pi_{11}^{y_{11}}\\pi_{12}^{y_{12}}\\pi_{21}^{y_{21}}\\pi_{22}^{y_{22}}} {y_{11}!y_{12}!y_{21}!y_{22}!}\\sim Multinomial(n,\\pi_{11},\\pi_{12},\\pi_{21},\\pi_{22})$$\n",
    "\n",
    "Log-likelihood is \n",
    "$$\\log\\mathcal{L}=\\sum_{j=1}^2\\sum_{i=1}^2 y_{ij}\\log\\pi_{ij}+\\log{n\\choose y_{11}y_{12}y_{21}y_{22}}$$\n",
    "\n",
    "Maximize $\\log\\mathcal{L}$ w.r.t. $\\pi$'s and $\\sum\\sum\\pi_{ij}=1$, then $\\hat\\pi_{ij}=y_{ij}/n$\n",
    "\n",
    "Under $H_0: \\pi_{ij}=\\pi_{i\\cdot}\\pi_{\\cdot j}$, can substitute $\\pi_{ij}$ and maximize the column and row $\\pi$'s. \n",
    "\n",
    "$$G^2 = -2\\log(\\mathcal{L}_R/\\mathcal{L}_F)\\sim\\chi^2_{(I-1)(J-1)}$$\n",
    "\n",
    "To obtain the d.f. \n",
    "df(Unrestrcited / FULL)-df(Independence/REDUCED)  \n",
    "=#parameters in FULL($\\pi_{ij}$) - #parameters in REDUCED($\\pi_{i\\cdot},\\pi_{\\cdot j}$)  \n",
    "= $IJ-1-(I+J-2)$  \n",
    "$-1$ because constraint $\\sum\\sum\\pi_{ij}=1$  \n",
    "$-2$ because constraint $\\sum\\pi_{i\\cdot}=1,\\sum\\pi_{\\cdot j}=1$"
   ]
  },
  {
   "cell_type": "markdown",
   "metadata": {},
   "source": [
    "# Case Study 7: Three Way Contingency\n",
    "\n",
    "__A__ alcohol use 1 = True, 2 = False  \n",
    "\n",
    "**M** marijuana use\n",
    "\n",
    "__C__ cigarette use"
   ]
  },
  {
   "cell_type": "code",
   "execution_count": 9,
   "metadata": {},
   "outputs": [
    {
     "data": {
      "text/html": [
       "<table>\n",
       "<caption>A matrix: 8 × 4 of type dbl</caption>\n",
       "<thead>\n",
       "\t<tr><th scope=col>A</th><th scope=col>C</th><th scope=col>M</th><th scope=col>Y</th></tr>\n",
       "</thead>\n",
       "<tbody>\n",
       "\t<tr><td>1</td><td>1</td><td>1</td><td>911</td></tr>\n",
       "\t<tr><td>1</td><td>1</td><td>2</td><td>538</td></tr>\n",
       "\t<tr><td>1</td><td>2</td><td>1</td><td> 44</td></tr>\n",
       "\t<tr><td>1</td><td>2</td><td>2</td><td>456</td></tr>\n",
       "\t<tr><td>2</td><td>1</td><td>1</td><td>  3</td></tr>\n",
       "\t<tr><td>2</td><td>1</td><td>2</td><td> 43</td></tr>\n",
       "\t<tr><td>2</td><td>2</td><td>1</td><td>  2</td></tr>\n",
       "\t<tr><td>2</td><td>2</td><td>2</td><td>279</td></tr>\n",
       "</tbody>\n",
       "</table>\n"
      ],
      "text/latex": [
       "A matrix: 8 × 4 of type dbl\n",
       "\\begin{tabular}{llll}\n",
       " A & C & M & Y\\\\\n",
       "\\hline\n",
       "\t 1 & 1 & 1 & 911\\\\\n",
       "\t 1 & 1 & 2 & 538\\\\\n",
       "\t 1 & 2 & 1 &  44\\\\\n",
       "\t 1 & 2 & 2 & 456\\\\\n",
       "\t 2 & 1 & 1 &   3\\\\\n",
       "\t 2 & 1 & 2 &  43\\\\\n",
       "\t 2 & 2 & 1 &   2\\\\\n",
       "\t 2 & 2 & 2 & 279\\\\\n",
       "\\end{tabular}\n"
      ],
      "text/markdown": [
       "\n",
       "A matrix: 8 × 4 of type dbl\n",
       "\n",
       "| A | C | M | Y |\n",
       "|---|---|---|---|\n",
       "| 1 | 1 | 1 | 911 |\n",
       "| 1 | 1 | 2 | 538 |\n",
       "| 1 | 2 | 1 |  44 |\n",
       "| 1 | 2 | 2 | 456 |\n",
       "| 2 | 1 | 1 |   3 |\n",
       "| 2 | 1 | 2 |  43 |\n",
       "| 2 | 2 | 1 |   2 |\n",
       "| 2 | 2 | 2 | 279 |\n",
       "\n"
      ],
      "text/plain": [
       "     A C M Y  \n",
       "[1,] 1 1 1 911\n",
       "[2,] 1 1 2 538\n",
       "[3,] 1 2 1  44\n",
       "[4,] 1 2 2 456\n",
       "[5,] 2 1 1   3\n",
       "[6,] 2 1 2  43\n",
       "[7,] 2 2 1   2\n",
       "[8,] 2 2 2 279"
      ]
     },
     "metadata": {},
     "output_type": "display_data"
    }
   ],
   "source": [
    "A=c(1,1,1,1,2,2,2,2)\n",
    "C=c(1,1,2,2,1,1,2,2)\n",
    "M=c(1,2,1,2,1,2,1,2)\n",
    "Y=c(911,538,44,456,3,43,2,279)\n",
    "A=as.factor(A)\n",
    "C=as.factor(C)\n",
    "M=as.factor(M)\n",
    "ACM=cbind(A,C,M, Y)\n",
    "ACM"
   ]
  },
  {
   "cell_type": "markdown",
   "metadata": {},
   "source": [
    "# Model 1. Complete Independence \n",
    "$P(ACM)=P(A)P(C)P(M)$ - the three factors are mutually independent\n",
    "\n",
    "$H_0: \\pi_{ijk} = \\pi_{i..}\\pi_{.j.}\\pi_{k..}$ for all $i,j,k$.   \n",
    "$H_a: \\pi_{ijk} \\neq \\pi_{i..}\\pi_{.j.}\\pi_{k..}$\n",
    "\n",
    "$\\log(\\mu_{ijk}) = \\beta_0+\\beta_1 \\mathbb{I}_C + \\beta_2 \\mathbb{I}_C + \\beta_3 \\mathbb{I}_M$\n",
    "\n",
    "MLE $$\\hat\\mu_{ijk}=n\\hat\\pi_{ijk} = n\\hat\\pi_{i..}\\hat\\pi_{.j.}\\hat\\pi_{..k}=\\frac{ny_{i..}y_{.j.}y_{..k}}{nnn}$$"
   ]
  },
  {
   "cell_type": "code",
   "execution_count": 10,
   "metadata": {},
   "outputs": [
    {
     "data": {
      "text/plain": [
       "\n",
       "Call:\n",
       "glm(formula = Y ~ A + C + M, family = poisson)\n",
       "\n",
       "Deviance Residuals: \n",
       "      1        2        3        4        5        6        7        8  \n",
       " 14.522   -7.817  -17.683    3.426  -12.440   -8.436   -8.832   19.639  \n",
       "\n",
       "Coefficients:\n",
       "            Estimate Std. Error z value Pr(>|z|)    \n",
       "(Intercept)  6.29154    0.03667 171.558  < 2e-16 ***\n",
       "A2          -1.78511    0.05976 -29.872  < 2e-16 ***\n",
       "C2          -0.64931    0.04415 -14.707  < 2e-16 ***\n",
       "M2           0.31542    0.04244   7.431 1.08e-13 ***\n",
       "---\n",
       "Signif. codes:  0 '***' 0.001 '**' 0.01 '*' 0.05 '.' 0.1 ' ' 1\n",
       "\n",
       "(Dispersion parameter for poisson family taken to be 1)\n",
       "\n",
       "    Null deviance: 2851.5  on 7  degrees of freedom\n",
       "Residual deviance: 1286.0  on 4  degrees of freedom\n",
       "AIC: 1343.1\n",
       "\n",
       "Number of Fisher Scoring iterations: 6\n"
      ]
     },
     "metadata": {},
     "output_type": "display_data"
    }
   ],
   "source": [
    "mod_A.C.M=glm(Y~A+C+M, family=poisson) # Additive\n",
    "summary(mod_A.C.M)"
   ]
  },
  {
   "cell_type": "markdown",
   "metadata": {},
   "source": [
    "## Model 2. Block Independence \n",
    "$P(AC\\mid M)= P(AC)$ - Joint probability of alcohol and cigarette use is independent of marijuana use; Alcohol and cigarette use\n",
    "are associated. \n",
    "\n",
    "$H_0: \\pi_{ijk} = \\pi_{ij.}\\pi_{k..}$ for all $i,j,k$.   \n",
    "$H_a: \\pi_{ijk} \\neq \\pi_{ij.}\\pi_{k..}$\n",
    "\n",
    "$\\log(\\mu_{ijk}) = \\beta_0+\\beta_1 \\mathbb{I}_C + \\beta_2 \\mathbb{I}_C + \\beta_3 \\mathbb{I}_M+\\beta_4\\mathbb{I}_A\\mathbb{I}_C$\n",
    "\n",
    "MLE\n",
    "$$\\hat\\mu_{ijk}=n\\hat\\pi_{ijk} = n\\hat\\pi_{ij.}\\hat\\pi_{..k}=\\frac{ny_{ij.}y_{..k}}{nn}$$"
   ]
  },
  {
   "cell_type": "code",
   "execution_count": 11,
   "metadata": {},
   "outputs": [
    {
     "data": {
      "text/plain": [
       "\n",
       "Call:\n",
       "glm(formula = Y ~ M + A * C, family = poisson)\n",
       "\n",
       "Deviance Residuals: \n",
       "      1        2        3        4        5        6        7        8  \n",
       " 11.297  -11.092  -13.996    9.045   -4.648    2.917  -14.721    8.286  \n",
       "\n",
       "Coefficients:\n",
       "            Estimate Std. Error z value Pr(>|z|)    \n",
       "(Intercept)  6.41539    0.03595 178.451  < 2e-16 ***\n",
       "M2           0.31542    0.04244   7.431 1.08e-13 ***\n",
       "A2          -3.44999    0.14976 -23.036  < 2e-16 ***\n",
       "C2          -1.06402    0.05187 -20.515  < 2e-16 ***\n",
       "A2:C2        2.87373    0.16730  17.178  < 2e-16 ***\n",
       "---\n",
       "Signif. codes:  0 '***' 0.001 '**' 0.01 '*' 0.05 '.' 0.1 ' ' 1\n",
       "\n",
       "(Dispersion parameter for poisson family taken to be 1)\n",
       "\n",
       "    Null deviance: 2851.46  on 7  degrees of freedom\n",
       "Residual deviance:  843.83  on 3  degrees of freedom\n",
       "AIC: 902.87\n",
       "\n",
       "Number of Fisher Scoring iterations: 6\n"
      ]
     },
     "metadata": {},
     "output_type": "display_data"
    }
   ],
   "source": [
    "mod_AC.M=glm(Y~M+A*C, family=poisson) #Block AC\n",
    "summary(mod_AC.M)"
   ]
  },
  {
   "cell_type": "code",
   "execution_count": 12,
   "metadata": {},
   "outputs": [
    {
     "data": {
      "text/plain": [
       "\n",
       "Call:\n",
       "glm(formula = Y ~ C + A * M, family = poisson)\n",
       "\n",
       "Deviance Residuals: \n",
       "       1         2         3         4         5         6         7         8  \n",
       " 10.6031   -4.6398  -19.7664    5.9142   -0.1592  -14.1425    0.2114   13.4104  \n",
       "\n",
       "Coefficients:\n",
       "            Estimate Std. Error z value Pr(>|z|)    \n",
       "(Intercept)  6.44142    0.03573 180.280   <2e-16 ***\n",
       "C2          -0.64931    0.04415 -14.707   <2e-16 ***\n",
       "A2          -5.25227    0.44838 -11.714   <2e-16 ***\n",
       "M2           0.04003    0.04531   0.883    0.377    \n",
       "A2:M2        4.12509    0.45294   9.107   <2e-16 ***\n",
       "---\n",
       "Signif. codes:  0 '***' 0.001 '**' 0.01 '*' 0.05 '.' 0.1 ' ' 1\n",
       "\n",
       "(Dispersion parameter for poisson family taken to be 1)\n",
       "\n",
       "    Null deviance: 2851.46  on 7  degrees of freedom\n",
       "Residual deviance:  939.56  on 3  degrees of freedom\n",
       "AIC: 998.61\n",
       "\n",
       "Number of Fisher Scoring iterations: 5\n"
      ]
     },
     "metadata": {},
     "output_type": "display_data"
    }
   ],
   "source": [
    "mod_AM.C=glm(Y~C+A*M, family=poisson) #Block AM\n",
    "summary(mod_AM.C)"
   ]
  },
  {
   "cell_type": "code",
   "execution_count": 13,
   "metadata": {},
   "outputs": [
    {
     "data": {
      "text/plain": [
       "\n",
       "Call:\n",
       "glm(formula = Y ~ A + C * M, family = poisson)\n",
       "\n",
       "Deviance Residuals: \n",
       "       1         2         3         4         5         6         7         8  \n",
       "  4.4691    1.7907    0.7207   -7.2723  -15.2958   -4.8889   -2.1064   13.9760  \n",
       "\n",
       "Coefficients:\n",
       "            Estimate Std. Error z value Pr(>|z|)    \n",
       "(Intercept)  6.66273    0.03417 194.969   <2e-16 ***\n",
       "A2          -1.78511    0.05976 -29.872   <2e-16 ***\n",
       "C2          -2.98919    0.15111 -19.782   <2e-16 ***\n",
       "M2          -0.45308    0.05306  -8.539   <2e-16 ***\n",
       "C2:M2        3.22431    0.16098  20.029   <2e-16 ***\n",
       "---\n",
       "Signif. codes:  0 '***' 0.001 '**' 0.01 '*' 0.05 '.' 0.1 ' ' 1\n",
       "\n",
       "(Dispersion parameter for poisson family taken to be 1)\n",
       "\n",
       "    Null deviance: 2851.46  on 7  degrees of freedom\n",
       "Residual deviance:  534.21  on 3  degrees of freedom\n",
       "AIC: 593.26\n",
       "\n",
       "Number of Fisher Scoring iterations: 6\n"
      ]
     },
     "metadata": {},
     "output_type": "display_data"
    }
   ],
   "source": [
    "mod_A.CM=glm(Y~A+C*M, family=poisson) #Block CM\n",
    "summary(mod_A.CM)"
   ]
  },
  {
   "cell_type": "markdown",
   "metadata": {},
   "source": [
    "## Model 3. Partial Independence\n",
    "$P(AC\\mid M)=P(A\\mid M)P(C\\mid M)$. Alcohol and cigarette use are conditionally independent given marijuana use; Alcohol and marijuana use are associated, and cigarette and marijuana use are associated\n",
    "\n",
    "$H_0:\\pi_{ijk} = \\pi_{i.k}\\pi_{.jk}/\\pi_{..k}$  \n",
    "$H_a:\\pi_{ijk} \\neq \\pi_{i.k}\\pi_{.jk}/\\pi_{..k}$\n",
    "\n",
    "$\\log(\\mu_{ijk}) = \\beta_0+\\beta_1 \\mathbb{I}_C + \\beta_2 \\mathbb{I}_C + \\beta_3 \\mathbb{I}_M+\\beta_4\\mathbb{I}_A\\mathbb{I}_M+\\beta_5\\mathbb{I}_C\\mathbb{I}_M$\n",
    "\n",
    "MLE\n",
    "$$\\hat\\mu_{ijk}=n\\hat\\pi_{ijk} = n\\hat\\pi_{.jk}\\hat\\pi_{i.k} / \\hat\\pi_{..k}=y_{ijk}y_{i.k}/y_{..k}$$\n"
   ]
  },
  {
   "cell_type": "code",
   "execution_count": 14,
   "metadata": {},
   "outputs": [
    {
     "data": {
      "text/plain": [
       "\n",
       "Call:\n",
       "glm(formula = Y ~ A * C + A * M, family = poisson)\n",
       "\n",
       "Deviance Residuals: \n",
       "       1         2         3         4         5         6         7         8  \n",
       "  7.2238   -7.7739  -15.8396   11.3171    2.0272   -0.3442   -1.2388    0.1379  \n",
       "\n",
       "Coefficients:\n",
       "            Estimate Std. Error z value Pr(>|z|)    \n",
       "(Intercept)  6.56527    0.03499 187.643   <2e-16 ***\n",
       "A2          -6.91715    0.46893 -14.751   <2e-16 ***\n",
       "C2          -1.06402    0.05187 -20.515   <2e-16 ***\n",
       "M2           0.04003    0.04531   0.883    0.377    \n",
       "A2:C2        2.87373    0.16730  17.178   <2e-16 ***\n",
       "A2:M2        4.12509    0.45294   9.107   <2e-16 ***\n",
       "---\n",
       "Signif. codes:  0 '***' 0.001 '**' 0.01 '*' 0.05 '.' 0.1 ' ' 1\n",
       "\n",
       "(Dispersion parameter for poisson family taken to be 1)\n",
       "\n",
       "    Null deviance: 2851.46  on 7  degrees of freedom\n",
       "Residual deviance:  497.37  on 2  degrees of freedom\n",
       "AIC: 558.41\n",
       "\n",
       "Number of Fisher Scoring iterations: 5\n"
      ]
     },
     "metadata": {},
     "output_type": "display_data"
    }
   ],
   "source": [
    "mod_AC.AM=glm(Y~A*C+A*M, family=poisson) #Partial A\n",
    "summary(mod_AC.AM)"
   ]
  },
  {
   "cell_type": "code",
   "execution_count": 15,
   "metadata": {},
   "outputs": [
    {
     "data": {
      "text/plain": [
       "\n",
       "Call:\n",
       "glm(formula = Y ~ A * C + C * M, family = poisson)\n",
       "\n",
       "Deviance Residuals: \n",
       "      1        2        3        4        5        6        7        8  \n",
       " 0.8401  -1.0667   2.4964  -0.6743  -6.0678   5.0235  -4.5440   0.8867  \n",
       "\n",
       "Coefficients:\n",
       "            Estimate Std. Error z value Pr(>|z|)    \n",
       "(Intercept)  6.78658    0.03340 203.212   <2e-16 ***\n",
       "A2          -3.44999    0.14976 -23.036   <2e-16 ***\n",
       "C2          -3.40390    0.15354 -22.170   <2e-16 ***\n",
       "M2          -0.45308    0.05306  -8.539   <2e-16 ***\n",
       "A2:C2        2.87373    0.16730  17.178   <2e-16 ***\n",
       "C2:M2        3.22431    0.16098  20.029   <2e-16 ***\n",
       "---\n",
       "Signif. codes:  0 '***' 0.001 '**' 0.01 '*' 0.05 '.' 0.1 ' ' 1\n",
       "\n",
       "(Dispersion parameter for poisson family taken to be 1)\n",
       "\n",
       "    Null deviance: 2851.461  on 7  degrees of freedom\n",
       "Residual deviance:   92.018  on 2  degrees of freedom\n",
       "AIC: 153.06\n",
       "\n",
       "Number of Fisher Scoring iterations: 6\n"
      ]
     },
     "metadata": {},
     "output_type": "display_data"
    }
   ],
   "source": [
    "mod_AC.CM=glm(Y~A*C+C*M, family=poisson) #Partial C\n",
    "summary(mod_AC.CM)"
   ]
  },
  {
   "cell_type": "code",
   "execution_count": 16,
   "metadata": {},
   "outputs": [
    {
     "data": {
      "text/plain": [
       "\n",
       "Call:\n",
       "glm(formula = Y ~ A * M + C * M, family = poisson)\n",
       "\n",
       "Deviance Residuals: \n",
       "      1        2        3        4        5        6        7        8  \n",
       " 0.0584   4.5702  -0.2619  -4.3441  -0.8663  -9.7716   2.2287   6.8353  \n",
       "\n",
       "Coefficients:\n",
       "            Estimate Std. Error z value Pr(>|z|)    \n",
       "(Intercept)  6.81261    0.03316 205.450   <2e-16 ***\n",
       "A2          -5.25227    0.44837 -11.714   <2e-16 ***\n",
       "M2          -0.72847    0.05538 -13.154   <2e-16 ***\n",
       "C2          -2.98919    0.15111 -19.782   <2e-16 ***\n",
       "A2:M2        4.12509    0.45294   9.107   <2e-16 ***\n",
       "M2:C2        3.22431    0.16098  20.029   <2e-16 ***\n",
       "---\n",
       "Signif. codes:  0 '***' 0.001 '**' 0.01 '*' 0.05 '.' 0.1 ' ' 1\n",
       "\n",
       "(Dispersion parameter for poisson family taken to be 1)\n",
       "\n",
       "    Null deviance: 2851.46  on 7  degrees of freedom\n",
       "Residual deviance:  187.75  on 2  degrees of freedom\n",
       "AIC: 248.8\n",
       "\n",
       "Number of Fisher Scoring iterations: 5\n"
      ]
     },
     "metadata": {},
     "output_type": "display_data"
    }
   ],
   "source": [
    "mod_AM.CM=glm(Y~A*M+C*M, family=poisson) #Partial M\n",
    "summary(mod_AM.CM)"
   ]
  },
  {
   "cell_type": "markdown",
   "metadata": {},
   "source": [
    "## Model 4. Uniform Association\n",
    "Association among all pairs\n",
    "\n",
    "$\\log(\\mu_{ijk}) = \\beta_0+\\beta_1 \\mathbb{I}_C + \\beta_2 \\mathbb{I}_C + \\beta_3 \\mathbb{I}_M+\\beta_4\\mathbb{I}_A\\mathbb{I}_M+\\beta_5\\mathbb{I}_C\\mathbb{I}_M + \\beta_6\\mathbb{I}_A\\mathbb{I}_C$"
   ]
  },
  {
   "cell_type": "code",
   "execution_count": 17,
   "metadata": {},
   "outputs": [
    {
     "data": {
      "text/plain": [
       "\n",
       "Call:\n",
       "glm(formula = Y ~ A * M + A * C + C * M, family = poisson)\n",
       "\n",
       "Deviance Residuals: \n",
       "       1         2         3         4         5         6         7         8  \n",
       " 0.02044  -0.02658  -0.09256   0.02890  -0.33428   0.09452   0.49134  -0.03690  \n",
       "\n",
       "Coefficients:\n",
       "            Estimate Std. Error z value Pr(>|z|)    \n",
       "(Intercept)  6.81387    0.03313 205.699  < 2e-16 ***\n",
       "A2          -5.52827    0.45221 -12.225  < 2e-16 ***\n",
       "M2          -0.52486    0.05428  -9.669  < 2e-16 ***\n",
       "C2          -3.01575    0.15162 -19.891  < 2e-16 ***\n",
       "A2:M2        2.98601    0.46468   6.426 1.31e-10 ***\n",
       "A2:C2        2.05453    0.17406  11.803  < 2e-16 ***\n",
       "M2:C2        2.84789    0.16384  17.382  < 2e-16 ***\n",
       "---\n",
       "Signif. codes:  0 '***' 0.001 '**' 0.01 '*' 0.05 '.' 0.1 ' ' 1\n",
       "\n",
       "(Dispersion parameter for poisson family taken to be 1)\n",
       "\n",
       "    Null deviance: 2851.46098  on 7  degrees of freedom\n",
       "Residual deviance:    0.37399  on 1  degrees of freedom\n",
       "AIC: 63.417\n",
       "\n",
       "Number of Fisher Scoring iterations: 4\n"
      ]
     },
     "metadata": {},
     "output_type": "display_data"
    }
   ],
   "source": [
    "mod_AM.AC.CM=glm(Y~A*M+A*C+C*M, family=poisson) #Uniform\n",
    "summary(mod_AM.AC.CM)"
   ]
  },
  {
   "cell_type": "markdown",
   "metadata": {},
   "source": [
    "## Saturated Model\n",
    "$\\log(\\mu_{ijk}) = \\beta_0+\\beta_1 \\mathbb{I}_C + \\beta_2 \\mathbb{I}_C + \\beta_3 \\mathbb{I}_M+\\beta_4\\mathbb{I}_A\\mathbb{I}_M+\\beta_5\\mathbb{I}_C\\mathbb{I}_M + \\beta_6\\mathbb{I}_A\\mathbb{I}_C + \\beta_7\\mathbb{I}_A\\mathbb{I}_C\\mathbb{I}_M$\n",
    "this always fits the data perfectly"
   ]
  },
  {
   "cell_type": "code",
   "execution_count": 18,
   "metadata": {},
   "outputs": [
    {
     "data": {
      "text/plain": [
       "\n",
       "Call:\n",
       "glm(formula = Y ~ A * C * M, family = poisson)\n",
       "\n",
       "Deviance Residuals: \n",
       "[1]  0  0  0  0  0  0  0  0\n",
       "\n",
       "Coefficients:\n",
       "            Estimate Std. Error z value Pr(>|z|)    \n",
       "(Intercept)  6.81454    0.03313 205.682  < 2e-16 ***\n",
       "A2          -5.71593    0.57830  -9.884  < 2e-16 ***\n",
       "C2          -3.03035    0.15435 -19.633  < 2e-16 ***\n",
       "M2          -0.52668    0.05437  -9.686  < 2e-16 ***\n",
       "A2:C2        2.62489    0.92583   2.835  0.00458 ** \n",
       "A2:M2        3.18927    0.59962   5.319 1.04e-07 ***\n",
       "C2:M2        2.86499    0.16696  17.159  < 2e-16 ***\n",
       "A2:C2:M2    -0.58951    0.94236  -0.626  0.53160    \n",
       "---\n",
       "Signif. codes:  0 '***' 0.001 '**' 0.01 '*' 0.05 '.' 0.1 ' ' 1\n",
       "\n",
       "(Dispersion parameter for poisson family taken to be 1)\n",
       "\n",
       "    Null deviance:  2.8515e+03  on 7  degrees of freedom\n",
       "Residual deviance: -4.1522e-14  on 0  degrees of freedom\n",
       "AIC: 65.043\n",
       "\n",
       "Number of Fisher Scoring iterations: 3\n"
      ]
     },
     "metadata": {},
     "output_type": "display_data"
    }
   ],
   "source": [
    "mod_ACM=glm(Y~A*C*M, family=poisson) #Saturated\n",
    "summary(mod_ACM)"
   ]
  },
  {
   "cell_type": "code",
   "execution_count": 19,
   "metadata": {},
   "outputs": [
    {
     "data": {
      "text/html": [
       "<table>\n",
       "<caption>A matrix: 8 × 5 of type dbl</caption>\n",
       "<thead>\n",
       "\t<tr><th></th><th scope=col>A</th><th scope=col>C</th><th scope=col>M</th><th scope=col>Y</th><th scope=col>muhats</th></tr>\n",
       "</thead>\n",
       "<tbody>\n",
       "\t<tr><th scope=row>1</th><td>1</td><td>1</td><td>1</td><td>911</td><td>910.38317</td></tr>\n",
       "\t<tr><th scope=row>2</th><td>1</td><td>1</td><td>2</td><td>538</td><td>538.61683</td></tr>\n",
       "\t<tr><th scope=row>3</th><td>1</td><td>2</td><td>1</td><td> 44</td><td> 44.61683</td></tr>\n",
       "\t<tr><th scope=row>4</th><td>1</td><td>2</td><td>2</td><td>456</td><td>455.38317</td></tr>\n",
       "\t<tr><th scope=row>5</th><td>2</td><td>1</td><td>1</td><td>  3</td><td>  3.61683</td></tr>\n",
       "\t<tr><th scope=row>6</th><td>2</td><td>1</td><td>2</td><td> 43</td><td> 42.38317</td></tr>\n",
       "\t<tr><th scope=row>7</th><td>2</td><td>2</td><td>1</td><td>  2</td><td>  1.38317</td></tr>\n",
       "\t<tr><th scope=row>8</th><td>2</td><td>2</td><td>2</td><td>279</td><td>279.61683</td></tr>\n",
       "</tbody>\n",
       "</table>\n"
      ],
      "text/latex": [
       "A matrix: 8 × 5 of type dbl\n",
       "\\begin{tabular}{r|lllll}\n",
       "  & A & C & M & Y & muhats\\\\\n",
       "\\hline\n",
       "\t1 & 1 & 1 & 1 & 911 & 910.38317\\\\\n",
       "\t2 & 1 & 1 & 2 & 538 & 538.61683\\\\\n",
       "\t3 & 1 & 2 & 1 &  44 &  44.61683\\\\\n",
       "\t4 & 1 & 2 & 2 & 456 & 455.38317\\\\\n",
       "\t5 & 2 & 1 & 1 &   3 &   3.61683\\\\\n",
       "\t6 & 2 & 1 & 2 &  43 &  42.38317\\\\\n",
       "\t7 & 2 & 2 & 1 &   2 &   1.38317\\\\\n",
       "\t8 & 2 & 2 & 2 & 279 & 279.61683\\\\\n",
       "\\end{tabular}\n"
      ],
      "text/markdown": [
       "\n",
       "A matrix: 8 × 5 of type dbl\n",
       "\n",
       "| <!--/--> | A | C | M | Y | muhats |\n",
       "|---|---|---|---|---|---|\n",
       "| 1 | 1 | 1 | 1 | 911 | 910.38317 |\n",
       "| 2 | 1 | 1 | 2 | 538 | 538.61683 |\n",
       "| 3 | 1 | 2 | 1 |  44 |  44.61683 |\n",
       "| 4 | 1 | 2 | 2 | 456 | 455.38317 |\n",
       "| 5 | 2 | 1 | 1 |   3 |   3.61683 |\n",
       "| 6 | 2 | 1 | 2 |  43 |  42.38317 |\n",
       "| 7 | 2 | 2 | 1 |   2 |   1.38317 |\n",
       "| 8 | 2 | 2 | 2 | 279 | 279.61683 |\n",
       "\n"
      ],
      "text/plain": [
       "  A C M Y   muhats   \n",
       "1 1 1 1 911 910.38317\n",
       "2 1 1 2 538 538.61683\n",
       "3 1 2 1  44  44.61683\n",
       "4 1 2 2 456 455.38317\n",
       "5 2 1 1   3   3.61683\n",
       "6 2 1 2  43  42.38317\n",
       "7 2 2 1   2   1.38317\n",
       "8 2 2 2 279 279.61683"
      ]
     },
     "metadata": {},
     "output_type": "display_data"
    }
   ],
   "source": [
    "muhats<-predict.glm(mod_AM.AC.CM, type=\"response\")\n",
    "cbind(A, C, M, Y, muhats)"
   ]
  },
  {
   "cell_type": "markdown",
   "metadata": {},
   "source": [
    "# Inference for log-linear models\n",
    "\n",
    "## Model assumptions\n",
    " - independent quantities being counted\n",
    " - Large enough sample size for MLE asymptotic tests to hold (most $\\hat\\mu_{ijk}\\geq 5$)\n",
    " - Cross-classified counts follow a Poisson distribution $var(y_{ijk})=\\mu_{ijk}$. If not, the deviance is very large(\"extra-Poisson\" variation)\n",
    " - Correct form \n",
    "  - $\\log(E(Y))$ is linear in $\\beta$'s\n",
    "  - All relevant variables included\n",
    "  - No outliers\n",
    "  - Agreement of predicted and observed count\n",
    "  - Check deviance GOF test"
   ]
  },
  {
   "cell_type": "markdown",
   "metadata": {},
   "source": [
    "## Model comparisons\n",
    "__Example__ For the uniform association model, is the CM interaction needed? / Does the (AC,CM) model fit just as well?\n",
    "\n",
    "Uniform association model\n",
    "$\\log(\\mu_{ijk}) = \\beta_0+\\beta_1 \\mathbb{I}_C + \\beta_2 \\mathbb{I}_C + \\beta_3 \\mathbb{I}_M+\\beta_4\\mathbb{I}_A\\mathbb{I}_M+\\beta_5\\mathbb{I}_C\\mathbb{I}_M + \\beta_6\\mathbb{I}_A\\mathbb{I}_C$\n",
    "\n",
    "$H_0: \\beta_6=0$, reduced model is better no CM interaction\n",
    "$H_a: \\beta\\neq 0$ full model is better\n",
    "\n",
    "Wald: test-statistic: 17.382.   \n",
    "$p<2\\times 10^{-16}$.\n",
    "\n",
    "LRT: test-statistic: 497.37 - 0.37399 = 497  \n",
    "$p<2\\times 10^{-16}$\n",
    "\n",
    "Conclusion: Very strong evidence that we should keep the CM interaction term. The uniform association model is better than the model without CM interaction term. \n"
   ]
  },
  {
   "cell_type": "code",
   "execution_count": 20,
   "metadata": {},
   "outputs": [
    {
     "data": {
      "text/plain": [
       "\n",
       "Call:\n",
       "glm(formula = Y ~ A + M + C + A:C + A * M, family = poisson)\n",
       "\n",
       "Deviance Residuals: \n",
       "       1         2         3         4         5         6         7         8  \n",
       "  7.2238   -7.7739  -15.8396   11.3171    2.0272   -0.3442   -1.2388    0.1379  \n",
       "\n",
       "Coefficients:\n",
       "            Estimate Std. Error z value Pr(>|z|)    \n",
       "(Intercept)  6.56527    0.03499 187.643   <2e-16 ***\n",
       "A2          -6.91715    0.46893 -14.751   <2e-16 ***\n",
       "M2           0.04003    0.04531   0.883    0.377    \n",
       "C2          -1.06402    0.05187 -20.515   <2e-16 ***\n",
       "A2:C2        2.87373    0.16730  17.178   <2e-16 ***\n",
       "A2:M2        4.12509    0.45294   9.107   <2e-16 ***\n",
       "---\n",
       "Signif. codes:  0 '***' 0.001 '**' 0.01 '*' 0.05 '.' 0.1 ' ' 1\n",
       "\n",
       "(Dispersion parameter for poisson family taken to be 1)\n",
       "\n",
       "    Null deviance: 2851.46  on 7  degrees of freedom\n",
       "Residual deviance:  497.37  on 2  degrees of freedom\n",
       "AIC: 558.41\n",
       "\n",
       "Number of Fisher Scoring iterations: 5\n"
      ]
     },
     "metadata": {},
     "output_type": "display_data"
    }
   ],
   "source": [
    "mod_AM.AC=glm(Y~A+M+C+A:C + A*M, family=poisson) #Uniform\n",
    "summary(mod_AM.AC)"
   ]
  },
  {
   "cell_type": "markdown",
   "metadata": {},
   "source": [
    "## Deviance GOF test\n",
    "Compare fitted model to saturated model\n",
    "Small deviance / large p-values\n",
    " - fitted model is adequate\n",
    " - test is not powerful enough to detect inadequacies\n",
    "Large deviance / small p-value\n",
    " - Fitted model is not adequate, consider a more complex model OR\n",
    " - underlying distribution is not adequately modeled by the Poisson distribution OR\n",
    " - There are severe outliers "
   ]
  },
  {
   "cell_type": "markdown",
   "metadata": {},
   "source": [
    "## Outliers\n",
    " - raw residual: $y_{ijk} - \\hat\\mu_{ijk}$\n",
    " - Pearson residuals: $(y_{ijk} - \\hat\\mu_{ijk})/\\sqrt{\\hat\\mu_{ijk}}$\n",
    " - Deviance residuals: $sign(y_{ijk} - \\hat\\mu_{ijk})\\sqrt{2(y_{ijk}\\log(y_{ijk}/\\hat\\mu_{ijk}))-y_{ijk}+\\hat\\mu_{ijk}}$\n",
    "\n",
    "Rule of thumb: outliers if Pearson or Deviance residual $>3$, is the sample size if small, then $>2$. "
   ]
  },
  {
   "cell_type": "markdown",
   "metadata": {},
   "source": [
    "## Extra-Poisson variation\n",
    " - Check if $Deviance/df > 1$\n",
    " - If other problems are ruled out, then include a dispersion paramter OR use negative binomial regression\n",
    " "
   ]
  }
 ],
 "metadata": {
  "hide_input": false,
  "kernelspec": {
   "display_name": "R",
   "language": "R",
   "name": "ir"
  },
  "language_info": {
   "codemirror_mode": "r",
   "file_extension": ".r",
   "mimetype": "text/x-r-source",
   "name": "R",
   "pygments_lexer": "r",
   "version": "4.0.2"
  }
 },
 "nbformat": 4,
 "nbformat_minor": 2
}
