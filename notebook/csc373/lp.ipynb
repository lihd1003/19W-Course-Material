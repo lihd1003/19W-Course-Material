{
 "cells": [
  {
   "cell_type": "raw",
   "metadata": {},
   "source": [
    "---\n",
    "title: Linear Programming\n",
    "order: 40\n",
    "---"
   ]
  },
  {
   "cell_type": "markdown",
   "metadata": {},
   "source": [
    "# Intuitive Example\n",
    "determine type of ridings difference  \n",
    "**Input** platforms issues to emphasize. Market research gives following table of voters (lost/grand for each $1 spending)\n",
    "\n",
    "<table>\n",
    "        <tr>\n",
    "                <th></th><th>urban</th><th>sub</th><th>rural</th>\n",
    "        </tr>\n",
    "        <tr>\n",
    "                <td>roads</td><td>-2</td><td>5</td><td>3</td>\n",
    "        </tr>\n",
    "        <tr>\n",
    "                <td>gun control</td><td>8</td><td>2</td><td>-5</td>\n",
    "        </tr>\n",
    "        <tr>\n",
    "                <td>farms</td><td>0</td><td>0</td><td>10</td>\n",
    "        </tr>\n",
    "        <tr>\n",
    "                <td>government</td><td>10</td><td>0</td><td>-2</td>\n",
    "        </tr>\n",
    "</table>\n",
    "\n",
    "**Goal** Achieve gains of at least 50k urban, 100 sub-urban, 25k rural while spending as little as possible, identify unknowns $x_1,x_2,x_3,x_4\\in\\mathbb{R^{\\geq 0}}$ is the spend on roads, gun control, farms, and government in advertising (unit is 1k), respectively, where $x_1+x_2+x_3+x_4$ minimized. \n",
    "Formalized: \n",
    "\n",
    "$$\\begin{bmatrix}\n",
    "        -2 & 8 & 0 & 10 \\\\\n",
    "        5 & 2 & 0 & 0 \\\\\n",
    "        3 & -5 & 10 & -2 \\\\\n",
    "        1 & 0 & 0 & 0 \\\\\n",
    "        0 & 1 & 0 & 0 \\\\\n",
    "        0 & 0 & 1 & 0 \\\\\n",
    "        0 & 0 & 0 & 1\n",
    "\\end{bmatrix} \\begin{bmatrix}\n",
    "        x_1 \\\\\n",
    "        x_2 \\\\\n",
    "        x_3 \\\\\n",
    "        x_4\n",
    "\\end{bmatrix} \\geq \n",
    "\\begin{bmatrix}\n",
    "        50 \\\\\n",
    "        100 \\\\\n",
    "        25 \\\\\n",
    "        0 \\\\ 0 \\\\ 0 \\\\ 0\n",
    "\\end{bmatrix}\n",
    "$$ \n",
    "minimize $\\sum_1^4 x_i$\n"
   ]
  },
  {
   "cell_type": "markdown",
   "metadata": {},
   "source": [
    "# Problem Definition\n",
    "a linear program consists of \n",
    " - variables $\\vec{X}\\in\\mathbb{R}^n$\n",
    " - objective function: min/maximization $\\vec{c}\\vec{X},\\vec{c}\\in\\mathbb{R^n}$\n",
    " - constraint $\\vec{a_j}\\vec{X} \\le | = |\\ge b_j, \\vec{a_j}\\in\\mathbb{R}^n, 1\\leq j\\leq m$. Note that the constraint are not strict (otherwise it cannot be solved as real number for open set). Matrix notation is used when all the constraints comparison relations are the same"
   ]
  },
  {
   "cell_type": "markdown",
   "metadata": {},
   "source": [
    "Any inequality can be translated as cutting on an infinite plane. Each constraint eliminates one-half plane. \n",
    "\n",
    "**Feasible region** is the collection of values that satisfy every constraint.\n",
    " - $\\emptyset$ - No solution \n",
    " - unbounded - No extremum, no solution\n",
    " - bounded - either exactly one solution or infinitely many solutions"
   ]
  },
  {
   "cell_type": "markdown",
   "metadata": {},
   "source": [
    "## Algorithm \n",
    "- Simplex algorithm worst-case exponential time (However, the edge case is very rare, commonly, it runs in polynomial with small constant)\n",
    "- Interior point methods (worst-case polynomial but has large constant)"
   ]
  },
  {
   "cell_type": "markdown",
   "metadata": {},
   "source": [
    "# Applications\n",
    "\n",
    "## Network Flow Problem\n",
    " - variables: $x(u,v) = f(u,v).\\forall (u,v)\\in E$\n",
    " - objective function: maximize $\\sum_{(s,v)\\in E} x(s,v)$\n",
    " - constraint: $0\\leq x(u,v)\\leq c(u,v)\\land \\sum_{(u,v)\\in E}x(u,v)=\\sum_{(v,u)\\in E} x(v,u). \\forall u\\in V-\\{s,t\\}$\n",
    " \n",
    " clearly, solutions to network flow problem corresponds to solutions to the linear program.   \n",
    " Note that the method does not guarantee integer-valued solution, even the actual solution is integer\n",
    " \n",
    "## Shortest Path (with $w(e)\\in\\mathbb{Z}^+$)\n",
    " - variables: $\\forall v\\in V. d_v=\\min\\{w(s\\sim v)\\}$\n",
    " - objective function: $\\max d_t$\n",
    " - constraints:  \n",
    "  $d_v\\geq 0. \\forall v\\in V. $  \n",
    "  $d_s=0$  \n",
    "  $d_v\\leq d_u+w(u,v) \\land d_u\\leq d_v+w(u,v) \\forall (u,v)\\in E$\n",
    "  \n",
    "## Vertex Cover\n",
    "given $G=(V,E)$ undirected, want $S\\subseteq V$ that $S$ covers all edges a.k.a. $\\forall (u,v)\\in E. u\\in S\\lor v\\in S$, $|S|$ minimized\n",
    " - variables: $\\mathbb{I}_v:=\\mathbb{I}(v\\in S). \\forall v\\in V.$\n",
    " - objective function: $\\min\\sum_{v\\in V}\\mathbb{I}_v$\n",
    " - constraint: $\\mathbb{I}_u + \\mathbb{I}_v \\geq 1 \\forall (u,v)\\in E$  \n",
    " hidden constraint: since $\\mathbb{I}_v$ is an indicator $\\mathbb{I}_v\\in\\{0,1\\}$, while in this case, this is not a linear program constraint. The program becomes an integer program.  \n",
    " **However, integer program is not in polynomial time!**"
   ]
  },
  {
   "cell_type": "markdown",
   "metadata": {},
   "source": [
    "# Example Problem 1\n",
    "\"Duckwheat\" is produced in Kansas and Mexico and consumed in New York    and California. Each month, Kansas produces 15 \"shnupells\" of duckwheat    and Mexico, 8, while New York consumes 10 shnupells and California, 13.    The monthly transportation costs per shnupell are \\\\$4 from Mexico to New York, \\\\$1 from Mexico to California, \\\\$2 from Kansas to New York, and \\\\$3 from Kansas to California.\n",
    "\n",
    "## Variables\n",
    "$x_1,x_2,x_3,x_4$ be the amount of Duckwheat from \n",
    " - $x_1$ K to N\n",
    " - $x_2$ K to C\n",
    " - $x_3$ M to N\n",
    " - $x_4$ M to C  \n",
    " \n",
    "## Objective\n",
    "minimize $2x_1 + 3x_2 + 4x_3 + x_4$\n",
    "\n",
    "## Constraint\n",
    " - $x_1 + x_2 = 15$\n",
    " - $x_3+x_4 = 8$\n",
    " - $x_1 + x_3 = 10$\n",
    " - $x_2+ x_4 = 13$\n",
    " - $x_1,x_2,x_3,x_4 \\geq 0$\n",
    " \n",
    "Then it equals to maximize\n",
    "$$2x + 3(15-x)+4(10-x)+(x-2)=-4x+93$$\n",
    "where $2\\leq x\\leq 10$, hence $x=2$\n",
    "\n",
    "# Example Problem 2\n",
    "Consider a set of mobile computing clients in a certain town who each need to be connected to one of several possible \"base stations\". We'll suppose there are $n$ clients, with the position of each client specified by its $(x,y)$ coordinates in the plane. There are also m base stations, each of whose position is specified by $(x,y)$ coordinates as well.  \n",
    "We wish to connect each client to exactly one base station. Our choice of connections is constrained in the following ways. There is a \"range parameter\" r −− a client can only be connected to a base station that is    within distance r. There is also a \"load parameter\" L −− no more than L clients can be connected to any single base station.   \n",
    "Show how to represent this problem as a linear program, and how to solve    it using linear programming algorithms. Justify carefully that your    solution is correct. Can you guarantee that your algorithm runs in    polytime?\n",
    "\n",
    "## Variables\n",
    "$I_{11},...,I_{nn}$ where $I_{ij}$ is the indicator that there is a connection between client $i$ and base station $j$.  \n",
    "## Objective \n",
    "minimize $\\sum_{i=1}^n\\sum_{j=1}^n d_{ij}I_{ij}$ where $d_{ij}$ is the distance between client $i$ and base station $j$.  \n",
    "## Constraint \n",
    "- $\\forall i\\in\\{1,2,...,n\\}. \\sum_{j=1}^n I_{ij} = 1$\n",
    "- $\\forall i,j. d_{ij}I_{ij}\\leq r_{ij}$\n",
    "- $\\forall j. \\sum_{i=1}^n I_{ij}\\leq L_j$\n",
    "\n",
    "Since $I_{ij}$ is a indicator function, this is an integer problem\n"
   ]
  }
 ],
 "metadata": {
  "hide_input": false,
  "kernelspec": {
   "display_name": "Python 3",
   "language": "python",
   "name": "python3"
  },
  "language_info": {
   "codemirror_mode": {
    "name": "ipython",
    "version": 3
   },
   "file_extension": ".py",
   "mimetype": "text/x-python",
   "name": "python",
   "nbconvert_exporter": "python",
   "pygments_lexer": "ipython3",
   "version": "3.7.6"
  }
 },
 "nbformat": 4,
 "nbformat_minor": 2
}
