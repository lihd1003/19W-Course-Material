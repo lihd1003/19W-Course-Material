{
 "cells": [
  {
   "cell_type": "raw",
   "metadata": {},
   "source": [
    "---\n",
    "title: Polynomial Fitting\n",
    "order: 50\n",
    "---"
   ]
  },
  {
   "cell_type": "code",
   "execution_count": 1,
   "metadata": {
    "ExecuteTime": {
     "end_time": "2019-10-22T21:38:22.618409Z",
     "start_time": "2019-10-22T21:38:21.505978Z"
    }
   },
   "outputs": [],
   "source": [
    "import numpy as np\n",
    "import matplotlib.pyplot as plt"
   ]
  },
  {
   "cell_type": "markdown",
   "metadata": {},
   "source": [
    "# Goal \n",
    "Since an image is a discrete mapping of pixels, while the real world is \"continuous\", we want to fit the pixels by a continuous functions so that we can extract information. \n",
    "\n",
    "# Sliding Window Algorithm\n",
    "- Define a \"pixel window\" centered at pixel $(x, y)$ so that an 1D patch can be $(0, y)\\sim (2x,y)$\n",
    "- Fit a n-degree polynomial to the intensities (commonly $n \\leq 2$)\n",
    "- Assign the poly's derivatives at $x=0$ to pixel at windows's center\n",
    "- Slide window one pixel over until window reaches border"
   ]
  },
  {
   "cell_type": "markdown",
   "metadata": {},
   "source": [
    "# Taylor-series Approximation of Images\n",
    "Consider a 1D patch from $(0,y)$ to $(2x,y)$  \n",
    "Consider the Taylor expansion of $I$ centered at $0$\n",
    "$$I(\\vec x) = \\sum_{i=0}^\\infty \\frac{d^iI}{d\\vec x^i}\\vec x^i I(0) \\approx \\sum_{i=0}^N \\frac{d^iI}{d\\vec x^i}\\vec x^i I(0) + R_{N+1}(x)$$\n",
    "Thus, we can write it as \n",
    "$$I(x) = [1, x, x^2/2, x^3/6,...,x^n/n!][I(0), d_xI(0), d^2_{x^2}I(0), ..., d^n_{x^n}I(0)]^T$$\n",
    "\n",
    "Note that we have $2x+1$ pixels in the patch, ranges from $-x$ to $x$, let their intensities be $I_x$. So that we have\n",
    "$$\n",
    "\\begin{bmatrix}\n",
    "I_{-x}\\\\\n",
    "I_{-x+1}\\\\\n",
    "...\\\\\n",
    "I_{x-1}\\\\\n",
    "I_{x}\n",
    "\\end{bmatrix}=\n",
    "\\begin{bmatrix}\n",
    "1 &-x &...&(-x)^n/n!\\\\\n",
    "1 &(-x+1) &...&(-x+1)^n/n!\\\\\n",
    "... &... &...&...\\\\\n",
    "1 &(x-1) &...&(x-1)^n/n!\\\\\n",
    "1 &x &...&x^n/n!\\\\\n",
    "\\end{bmatrix}  \n",
    "\\begin{bmatrix}\n",
    "I(0)\\\\d_xI(0)\\\\...\\\\d^{n-1}_{x^{n-1}}I(0)\\\\d^n_{x^n}I(0)\\end{bmatrix}$$\n",
    "$$I_{(2x+1)\\times 1}=X_{(2x+1)\\times n}d_{n\\times 1}$$\n",
    "where $I, X$ are known and we want to solve $d$"
   ]
  },
  {
   "cell_type": "markdown",
   "metadata": {},
   "source": [
    "Since this is not always have a solution. We want to minimize the \"fit error\" $\\|I-Xd\\|^2 = \\sqrt{\\sum^n I_i^2}$\n",
    "\n",
    "When $n = 0$, obviously $d$ is minimized at mean, i.e. $\\sum^{2x+1} I_i / (2x+1)$"
   ]
  },
  {
   "cell_type": "markdown",
   "metadata": {},
   "source": [
    "# Weighted least square estimation\n",
    "If we want to extract more information, or in favor of, the neighboring points, we can have $I' = \\Omega I$ where $\\Omega$ is the weight function. \n",
    "\n",
    "In 1-D case, let $\\Omega = diag(\\omega_1, ..., \\omega_{2x+1})$, we want to solve $\\Omega I = \\Omega X d$ which is to minimize $\\|\\Omega(I-Xd)\\|^2$"
   ]
  },
  {
   "cell_type": "markdown",
   "metadata": {},
   "source": [
    "# Random Sample Consensus (RANSAC)\n",
    "Suppose we have some outliers, then the line fitting with least square is not a good solution. "
   ]
  },
  {
   "cell_type": "code",
   "execution_count": 41,
   "metadata": {
    "ExecuteTime": {
     "end_time": "2019-10-22T21:46:36.301273Z",
     "start_time": "2019-10-22T21:46:36.143630Z"
    }
   },
   "outputs": [
    {
     "data": {
      "image/png": "[encoded data removed]",
      "text/plain": [
       "<Figure size 432x288 with 1 Axes>"
      ]
     },
     "metadata": {
      "needs_background": "light"
     },
     "output_type": "display_data"
    }
   ],
   "source": [
    "x = np.arange(-10, 10, 0.5)\n",
    "y = x * 0.5 + np.random.normal(0, 1, x.shape)\n",
    "y += (np.random.randn(y.shape[0]) < -1.5) * 8\n",
    "y -= (np.random.randn(y.shape[0]) < -1.5) * 8\n",
    "fit = np.polyfit(x, y, 1)\n",
    "f = fit[0] + fit[1] * x\n",
    "plt.scatter(x, y)\n",
    "plt.plot(x, f);"
   ]
  },
  {
   "cell_type": "markdown",
   "metadata": {},
   "source": [
    "## Algorithm \n",
    "Given:  \n",
    "$n=$ degree of freedom (unkonwn polynomial coefficients)  \n",
    "$p=$ fraction of inliers  \n",
    "$t = $ fit threshold  \n",
    "$P_s = $ success probability  \n",
    "$K=$ max number of iterations\n",
    "\n",
    "```python\n",
    "RANSAC:\n",
    "    for _ in K:\n",
    "        randomly choose n + 1 pixels\n",
    "        fit a n-degree polynomial\n",
    "        count pixels whose vertical distance from poly is < t\n",
    "        if there are >= (2w+1) * p pixels, mark them as inliers:\n",
    "            do n-degree poly fitting on inliers \n",
    "            return the fitting\n",
    "    # if there is insufficient inliers\n",
    "    return None\n",
    "```\n",
    "\n",
    "Consider the value for $K$:   \n",
    "Suppose inliers are independent distributed, hence \n",
    "$$P(\\text{choose n+1 inliers}) = p^{n+1}$$\n",
    "$$P(\\text{at least 1 outliers}) = 1 - p^{n+1}$$\n",
    "$$P(\\text{at least 1 outliers in all K trials}) = (1-p^{n+1})^K$$\n",
    "$$P_s = 1 - (1-p^{n+1})^K\\Rightarrow K = \\frac{\\log(1-P_s)}{\\log(1-p^{n+1})}$$"
   ]
  },
  {
   "cell_type": "markdown",
   "metadata": {},
   "source": [
    "# 2D Image Patch\n",
    "Given an image patch $I(1:W, 1:H), I\\in[0,1]$ is the intensity mapping"
   ]
  },
  {
   "cell_type": "markdown",
   "metadata": {},
   "source": [
    "## 2D Taylor Series Expansion\n",
    "Let $I(0,0)$ be the center\n",
    "\\begin{align*}\n",
    "I(x,y) &= I(0,0) + x\\partial_xI(0,0) + y\\partial_yI(0,0) \\\\\n",
    "& + \\frac{1}{2}(x^2\\frac{\\partial^2I}{\\partial x^2}(0,0) + y^2\\frac{\\partial^2I}{\\partial y^2}(0,0) + xy\\frac{\\partial^2I}{\\partial x\\partial y}(0,0)) + ...\n",
    "\\end{align*}\n",
    "\n",
    "## Directional Derivative\n",
    "Using 1st order Taylor series approximation.   \n",
    "Let $\\theta$ be the direction, $v=(\\cos \\theta, \\sin\\theta)$ be the unit vector in direction $\\theta$.  \n",
    "Consider the points $(t\\cos\\theta, t\\sin\\theta)$, i.e. $t$ units away from $(0,0)$ in the direction of $\\theta$\n",
    "$$I(t\\cos\\theta, t\\sin\\theta) = I(0,0) + I(0,0) + t\\cos\\theta\\partial_xI(0,0) + t\\sin\\theta\\partial_yI(0,0)$$\n",
    "Then consider the directional derivative \n",
    "\\begin{align*}\\partial_v I(0,0) &= \\frac{\\lim_{t\\rightarrow 0}I(t\\cos\\theta, t\\sin\\theta) - I(0,0)}{t}\\\\ &\\approx \\cos\\theta\\partial_xI(0,0) + \\sin\\theta\\partial_yI(0,0)\\\\\n",
    "&=\\begin{bmatrix}\\partial_xI(0,0)&\\partial_yI(0,0)\\end{bmatrix}\\begin{bmatrix}\\cos\\theta\\\\\\sin\\theta\\end{bmatrix}\n",
    "\\end{align*}\n",
    "Let $\\nabla I = (\\partial_xI, \\partial_yI)$. Note that \n",
    "$$\\partial_vI(0,0) = \\begin{cases}1 &v\\text{ is parallel to }\\nabla I(0,0) \\\\0 &v\\perp \\nabla I(0,0) (\\text{isophote})\\end{cases}$$\n",
    "\n",
    "Therefore, the gradient $\\nabla I$ tells the direction and magnitude of max changes in intensity. "
   ]
  },
  {
   "cell_type": "markdown",
   "metadata": {},
   "source": [
    "## Discrete Derivative\n",
    "Noting that the image are pixels, hence we can approximate the derivative by its limit definition. \n",
    "$$\\partial_xI(x,y) = \\frac{1}{2}(I(x+1,y) - f(x-1,y))$$\n",
    "$$\\partial_yI(x,y) = \\frac{1}{2}(I(x,y+1) - f(x,y-1))$$\n",
    "Or we can use forward difference $(x+1, x)$ or backward difference $(x,x-1)$ vs. $(x-1,x+1)/2$\n",
    "\n",
    "__Magnitude__ $\\|\\nabla I(x,y)\\| = \\sqrt{\\partial_xI(x,y)^2 + \\partial_yI(x,y)^2}$ is the $L_2$ norm  \n",
    "__Direction__ $\\Theta(x,y) = \\arctan(\\partial_xI / \\partial_yI)$\n",
    "\n",
    "## Laplacian\n",
    "Based on central difference, the approximation to the laplacian of $I$ is \n",
    "$$\\frac{d^2f}{dx^2} \\approx f(x+1)-2f(x) + f(x-1)$$\n",
    "For 2D functions, \n",
    "$$\\frac{\\partial^2f}{\\partial x^2} \\approx f(x+1, y)-2f(x,y) + f(x-1,y)$$\n",
    "Hence \n",
    "\\begin{align*}\n",
    "\\nabla^2 f &= \\frac{\\partial^2f}{\\partial x^2}+\\frac{\\partial^2f}{\\partial y^2}\\\\\n",
    "&= f(x+1, y)-2f(x,y) + f(x-1,y) + f(x, y+1)-2f(x,y) + f(x,y-1)\\\\\n",
    "&= f(x+1, y) + f(x-1,y) + f(x, y+1)+ f(x,y-1)-4f(x,y)\\\\\n",
    "&= \\begin{bmatrix}\n",
    "0&1&0\\\\1&-4&1\\\\0&1&0\n",
    "\\end{bmatrix}\n",
    "\\end{align*}"
   ]
  }
 ],
 "metadata": {
  "hide_input": false,
  "kernelspec": {
   "display_name": "Python 3",
   "language": "python",
   "name": "python3"
  },
  "language_info": {
   "codemirror_mode": {
    "name": "ipython",
    "version": 3
   },
   "file_extension": ".py",
   "mimetype": "text/x-python",
   "name": "python",
   "nbconvert_exporter": "python",
   "pygments_lexer": "ipython3",
   "version": "3.7.6"
  }
 },
 "nbformat": 4,
 "nbformat_minor": 2
}
