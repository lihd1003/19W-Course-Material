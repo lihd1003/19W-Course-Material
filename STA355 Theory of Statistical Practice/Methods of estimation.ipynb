{
 "cells": [
  {
   "cell_type": "markdown",
   "metadata": {},
   "source": [
    "## Method of moments estimation\n",
    "Want to find a statistic $T(X_1,...,X_n)$ s.t. $E_\\theta[T(X_1,...,X_n)] = h(\\theta)$ where $h$ has a well-defined inverse. Then, we can set $T(X_1,...,X_n) = h(\\hat\\theta)$ s.t. $\\hat\\theta = h^{-1}(T)$\n",
    "\n",
    "If $X_1,..., X_n$ indep. and $E_\\theta(X_i) = h(\\theta)$, then by substitution principle, we can estimate $E_\\theta(X_i)$ by $\\bar X$ and then $\\bar X = h(\\hat\\theta)$ and so $\\hat\\theta = h^{-1}(\\bar X)$"
   ]
  }
 ],
 "metadata": {
  "hide_input": false,
  "kernelspec": {
   "display_name": "R",
   "language": "R",
   "name": "ir"
  },
  "language_info": {
   "codemirror_mode": "r",
   "file_extension": ".r",
   "mimetype": "text/x-r-source",
   "name": "R",
   "pygments_lexer": "r",
   "version": "3.6.2"
  }
 },
 "nbformat": 4,
 "nbformat_minor": 2
}
