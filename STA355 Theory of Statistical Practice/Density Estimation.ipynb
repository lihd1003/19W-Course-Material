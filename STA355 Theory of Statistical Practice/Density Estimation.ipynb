{
 "cells": [
  {
   "cell_type": "markdown",
   "metadata": {},
   "source": [
    "## Histograms\n",
    "\n",
    "Given data $x_1,...,x_n$ and \"bins\" $B_k = [u_{k-1}, u_k), k=1,...,m$, then \n",
    "$$hist(x)=\\frac{1}{n(u_k-u_{k-1})}\\sum^n \\mathbb I(x_i \\in B_k)$$\n",
    "Note that $hist$ is a pdf since $hist(x)\\geq 0$ and \n",
    "\\begin{align*}\n",
    "\\int_{-\\infty}^\\infty hist(x)dx &= \\sum^m \\int_{B_k} hist(x)dx\\\\\n",
    "&= n^{-1}\\sum^n_{i=1}\\sum_{k=1}^m \\mathbb I(x_i \\in B_k) \\int_{B_k} \\frac{1}{u_k - u_{k-1}}dx \\\\\n",
    "&= 1\n",
    "\\end{align*}\n",
    "Histogram depends on number of bins and boundaries of the bins. "
   ]
  },
  {
   "cell_type": "markdown",
   "metadata": {},
   "source": [
    "## Substitution principle estimation\n",
    "Consider the empirical distribution function \n",
    "$$\\hat F(x) = \\frac{1}{n}\\sum_{i=1}^n \\mathbb I(X_i \\leq x)$$\n",
    "However, we cannot derive any $f$ since this is not differentiable. "
   ]
  },
  {
   "cell_type": "markdown",
   "metadata": {},
   "source": [
    "### Kernel Density estimation\n",
    "Start with a density function $w(x)$, i.e. a __kernel__\n",
    "\n",
    "Given $w$ and a __bandwidth__ $h$, define the kernel density estimator \n",
    "$$\\hat f_h (x) = \\frac{1}{nh}\\sum^n w(\\frac{x-xX_i}{h})$$\n",
    "bandwidth controls the amount of smoothing, as $h$ increases, the estimator $\\hat f_h(x)$ becomes smoother. \n",
    "\n",
    "Some examples of kernels are \n",
    "- Gaussian kernel $w(x) = \\sqrt{2\\pi}^{-1}\\exp(\\frac{-x^2}{2})$\n",
    "- Epanechinkov kernel $w(x) = \\frac{3}{4\\sqrt 5}(1-\\frac{x^2}{5}), |x|\\leq \\sqrt 5$\n",
    "- Rectangular $w(x) = \\frac{1}{2\\sqrt{3}}, |x| \\leq \\sqrt 3$\n",
    "- Triangular $w(x) = \\frac{1}{\\sqrt 6}(1-\\frac{|x|}{\\sqrt 6}), |x|\\leq \\sqrt 6$"
   ]
  },
  {
   "cell_type": "markdown",
   "metadata": {},
   "source": [
    "## Example \n",
    "Draw 500 observations from \n",
    "$$f(x) = \\begin{cases}\n",
    "\\sqrt{2\\pi}^{-1}\\exp(\\frac{-(x-2)^2}{2})&k\\leq 0.7 \\\\\n",
    "\\sqrt{2\\pi}^{-1}\\exp(\\frac{-(x+2)^2}{2})&k > 0.7\n",
    "\\end{cases}$$"
   ]
  },
  {
   "cell_type": "code",
   "execution_count": 22,
   "metadata": {},
   "outputs": [
    {
     "data": {
      "text/html": [],
      "text/latex": [],
      "text/markdown": [],
      "text/plain": [
       "numeric(0)"
      ]
     },
     "metadata": {},
     "output_type": "display_data"
    },
    {
     "data": {
      "text/html": [],
      "text/latex": [],
      "text/markdown": [],
      "text/plain": [
       "numeric(0)"
      ]
     },
     "metadata": {},
     "output_type": "display_data"
    },
    {
     "data": {
      "text/html": [],
      "text/latex": [],
      "text/markdown": [],
      "text/plain": [
       "numeric(0)"
      ]
     },
     "metadata": {},
     "output_type": "display_data"
    },
    {
     "data": {
      "text/html": [],
      "text/latex": [],
      "text/markdown": [],
      "text/plain": [
       "numeric(0)"
      ]
     },
     "metadata": {},
     "output_type": "display_data"
    },
    {
     "data": {
      "image/png": "[encoded data removed]",
      "text/plain": [
       "Plot with title \"density.default(x = x, bw = 0.2)\""
      ]
     },
     "metadata": {
      "image/png": {
       "height": 420,
       "width": 420
      },
      "text/plain": {
       "height": 420,
       "width": 420
      }
     },
     "output_type": "display_data"
    }
   ],
   "source": [
    "N <- 500\n",
    "components <- sample(1:2,prob=c(.7, .3),size=N,replace=TRUE)\n",
    "mus <- c(2, -2)\n",
    "\n",
    "x <- rnorm(n=N,mean=mus[components],sd=1)\n",
    "par(mfrow=c(2, 2))\n",
    ".5387 - plot(density(x))\n",
    ".8 - plot(density(x, bw=.8))\n",
    ".4 - plot(density(x, bw=.4))\n",
    ".2 - plot(density(x, bw=.2))"
   ]
  },
  {
   "cell_type": "markdown",
   "metadata": {},
   "source": [
    "#### Redistribution\n",
    "The empirical distribution function $\\hat F$ puts probability mass $1/n$ at each of the points $X_1,...,X_n$, use the kernel with bandwidth $h$ to redistribute this mass around each $X_i$, probability density around $X_i = \\frac{1}{nh}w(\\frac{x-X_i}{h})$ where \n",
    "$$\\int_{-\\infty}^\\infty \\frac{1}{nh}w(\\frac{x-X_i}{h})dx = \\frac{1}{n}\\int_{-\\infty}^\\infty w(t)dt = \\frac{1}{n}$$\n",
    "The density estimate is now simply the sum of these densities over all observations \n",
    "$$\\hat f_h(x) = \\frac{1}{nh}\\sum_{i=1}^n w(\\frac{x-X_i}{h})$$\n",
    "\n",
    "#### Convolution \n",
    "Look at the distribution of $Y_h = U+hV$ where $U\\sim \\hat F$ and $V$ has density $w$ with $V,U$ independent. If $h$ is small then $Y_h \\approx U \\sim \\hat F$. \n",
    "\n",
    "Unlike $U, Y_h$ is a continuous r.v. for each $h>0$: \n",
    "\\begin{align*}\n",
    "P(Y_h\\leq x) &= \\sum_{i=1}^n P(U+hV\\leq x \\mid U = X_i)\\underset{=1/n}{P(U=X_i)}\\\\\n",
    "&= \\frac{1}{n}\\sum_{i=1}^n P(hV\\leq x-X_i) &U,V\\text{ indep.}\\\\\n",
    "&= \\frac{1}{n}\\sum_{i=1}^n P(V\\leq \\frac{x-X_i}{h})\n",
    "\\end{align*}"
   ]
  }
 ],
 "metadata": {
  "hide_input": false,
  "kernelspec": {
   "display_name": "R",
   "language": "R",
   "name": "ir"
  },
  "language_info": {
   "codemirror_mode": "r",
   "file_extension": ".r",
   "mimetype": "text/x-r-source",
   "name": "R",
   "pygments_lexer": "r",
   "version": "3.6.2"
  }
 },
 "nbformat": 4,
 "nbformat_minor": 2
}
