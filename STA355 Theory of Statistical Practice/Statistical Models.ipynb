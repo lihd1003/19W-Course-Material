{
 "cells": [
  {
   "cell_type": "markdown",
   "metadata": {},
   "source": [
    "## Probability versus statistics"
   ]
  },
  {
   "cell_type": "markdown",
   "metadata": {},
   "source": [
    "### Statistical Models\n",
    "Assume that the data $x_1,...,x_n$ are outcomes of r.v. $X_1,...,X_n \\sim F$, which assumes to be unknown. \n",
    "\n",
    "A __statistical model__ is a family $\\mathcal F$ of probability distributions of $(X_1,...,X_n)$. \n",
    "\n",
    "Theoretically, $F\\in \\mathcal F$ but in practice this is not always true, we are to find some $F_0 \\in \\mathcal F$ close enough to $F$ so that $\\mathcal F$ is useful. "
   ]
  },
  {
   "cell_type": "markdown",
   "metadata": {},
   "source": [
    "#### Parametric models\n",
    "\n",
    "For a given $\\mathcal F$, we can parametrize as $\\mathcal F = \\{F_\\theta:\\theta \\in \\Theta\\}$\n",
    "\n",
    "If $\\Theta \\subset \\mathbb R^p$ then $\\mathcal F$ is a __parametric model__ and $\\theta \\in \\mathbb R^p = (\\theta_1,...,\\theta_p)$"
   ]
  },
  {
   "cell_type": "markdown",
   "metadata": {},
   "source": [
    "#### Non-parametric models\n",
    "\n",
    "If $\\Theta$ is not finite dimensional then the model is said to be __non-parametric__ (in this case, $\\in\\mathbb R^\\infty$)\n",
    "\n",
    "__Example__ $g(x)\\approx \\sum^p \\beta_k \\phi_k(x)$ for some functions $\\phi_1,...,\\phi_p$ and unknown parameters $\\beta_1,...,\\beta_p$"
   ]
  },
  {
   "cell_type": "markdown",
   "metadata": {},
   "source": [
    "#### Semi-parametric models\n",
    "Non-parametric models often have a finite dimensional parametric component. \n",
    "\n",
    "__Example__ $Y_i = g(x_i) + \\epsilon_i$ with $\\{\\epsilon_i\\}$ iid. $N(0,\\sigma^2)$ and $g,\\sigma^2$ are unknown"
   ]
  },
  {
   "cell_type": "markdown",
   "metadata": {},
   "source": [
    "#### Example\n",
    "\n",
    "Consider the linear regression $Y_i = \\beta_0 + \\beta_1x_i + \\epsilon_i$ for observations $(x_1,Y_1), ..., (x_n, Y_n)$ where $\\epsilon_i \\sim N(0,\\sigma^2)$ iid.  Such model is parametric model. \n",
    "\n",
    "However, if relax the assumption to $E(\\epsilon_i) = 0, E(\\epsilon_i^2) = \\sigma^2$, then this will be semi-parametric model. "
   ]
  },
  {
   "cell_type": "markdown",
   "metadata": {},
   "source": [
    "#### Example \n",
    "Let $X_1,...,X_n$ be iid. Exponential r.v. representing survival times.  \n",
    "$$f(x;\\lambda) = \\lambda e^{-\\lambda x}\\mathbb I(x\\geq 0)$$\n",
    "$\\lambda >0$ is unknown\n",
    "\n",
    "Let $C_1,...,C_n$ be independent with unknown cdf $G$ (or cdfs $G_i$)  \n",
    "\n",
    "Observe $Z_i = \\min(X_i, C_i), \\delta_i = \\mathbb I(X_i\\leq C_i)$\n",
    "\n",
    "parameters $\\lambda, G$ so that semi-parametric model."
   ]
  },
  {
   "cell_type": "markdown",
   "metadata": {},
   "source": [
    "### Bayesian models\n",
    "\n",
    "Assume a parametric model with $\\Theta \\subset \\mathbb R^p$, for each $\\theta \\in \\Theta$, think of the join cdf $F_\\theta$ as the conditional distribution of $\\mathcal X$ given $\\theta$. \n",
    "\n",
    "__Bayesian inference__ put a probability distribution on $\\Theta$, i.e. a prior. \n",
    "\n",
    "After observing $x_1,...,x_n$, we can use Bayes Theorem to obtain a __posterior distribution__ of $\\theta$ given $X_1 = x_1,...,X_n = x_n$"
   ]
  },
  {
   "cell_type": "markdown",
   "metadata": {},
   "source": [
    "### Statistical Functionals\n",
    "\n",
    "To estimate the characteristics of a model $F$, we often consider $\\theta(F)$, i.e. a mapping $\\theta: \\mathcal F\\rightarrow \\mathbb R$\n",
    "\n",
    "#### Examples\n",
    "$\\theta(F) = E_F(X_i)=E_F(h(X_i))$  \n",
    "$\\theta(F) = F^{-1}(\\tau)$ quantiles  \n",
    "$\\theta(F) = E_F\\big[\\frac{X_i}{\\mu(F)}\\ln(\\frac{X_i}{\\mu(F)})\\big], P(X_i > 0 ) = 1, \\mu(F) = E_F(X_i)$ Theil index"
   ]
  },
  {
   "cell_type": "markdown",
   "metadata": {},
   "source": [
    "#### Substitution principle \n",
    "First estimate $F\\rightarrow \\hat F$ and substitute $\\hat F$ into $\\theta (\\hat F)$  \n",
    "__If $\\theta$ is continuous__, Using continuous mapping theorem, $\\theta(\\hat F) \\approx \\theta(F)$\n",
    "\n",
    "__Example__ empirical distribution function (edf)  \n",
    "$$\\hat F(x) = \\frac{1}{n} \\sum^n \\mathbb I(X_i \\leq x) = \\text{proportion of observations } \\leq x$$\n",
    "\n",
    "Note that the edf is just a sample mean and WLLN, CLT holds, for each $\\mathbb I(X_i \\leq x)$ is iid. Bernoulli\n",
    "\n",
    "Therefore, \n",
    " - $E(\\hat F(x)) = F(x), var(\\hat F(x)) = \\frac{F(x)(1-F(x))}{n}$  \n",
    " - __WLLN__ $\\hat F(x) = \\hat F_n(x) \\rightarrow^p F(x), \\forall x$  \n",
    " - __CLT__ $\\sqrt n(\\hat F_n(x)-F(x))\\rightarrow^f N(0, F(x)(1-F(x)))$"
   ]
  },
  {
   "cell_type": "markdown",
   "metadata": {},
   "source": [
    "### Order Statistics\n",
    "\n",
    "Let $X_1,...,X_n$ indep. with unknown $F$\n",
    "\n",
    "order $X_1,...,X_n$ in increasing order $X_{(1)}\\leq ... \\leq X_{(n)}$. Due to the independence assumption, the order statistics carry the same info about $F$ as the unordered.  \n",
    "\n",
    "Also, the order statistics can be used to estimate the quantiles $F^{-1}(\\tau)$, such as median $$M = \\begin{cases}\n",
    "\\frac{1}{2}(X_\\frac n2 + X_{\\frac n2+1}) &\\text{even}\\\\\n",
    "\\frac 1 2 X_{\\frac{n+1}2} &\\text{odd}\n",
    "\\end{cases}\\approx F^{-1}(1/2)$$ \n",
    "Similarly, $F^{-1}(\\tau)\\approx X_{k}, k \\approx \\tau n$"
   ]
  },
  {
   "cell_type": "markdown",
   "metadata": {},
   "source": [
    "#### Quantile-quantile plot"
   ]
  }
 ],
 "metadata": {
  "kernelspec": {
   "display_name": "R",
   "language": "R",
   "name": "ir"
  },
  "language_info": {
   "codemirror_mode": "r",
   "file_extension": ".r",
   "mimetype": "text/x-r-source",
   "name": "R",
   "pygments_lexer": "r",
   "version": "3.6.2"
  }
 },
 "nbformat": 4,
 "nbformat_minor": 2
}
