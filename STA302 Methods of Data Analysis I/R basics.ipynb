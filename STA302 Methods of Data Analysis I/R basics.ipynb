{
 "cells": [
  {
   "cell_type": "markdown",
   "metadata": {},
   "source": [
    "# Vector"
   ]
  },
  {
   "cell_type": "code",
   "execution_count": 2,
   "metadata": {},
   "outputs": [
    {
     "name": "stdout",
     "output_type": "stream",
     "text": [
      "[1] 5\n"
     ]
    }
   ],
   "source": [
    "y <- 5\n",
    "y -> x\n",
    "print(x)"
   ]
  },
  {
   "cell_type": "code",
   "execution_count": 8,
   "metadata": {},
   "outputs": [
    {
     "name": "stdout",
     "output_type": "stream",
     "text": [
      "[1] 10 20 30\n"
     ]
    }
   ],
   "source": [
    "print(seq(10, 30, 10))"
   ]
  },
  {
   "cell_type": "code",
   "execution_count": 21,
   "metadata": {},
   "outputs": [
    {
     "name": "stdout",
     "output_type": "stream",
     "text": [
      "[1]  3  6 12  4\n",
      "[1]  6 12 24  8\n",
      "[1]  3  6 12  4  3  6 12  4\n",
      "[1]  8 13 35  7  8 13 35  7\n"
     ]
    }
   ],
   "source": [
    "# c()-> create a new vector obj\n",
    "print(x <- c(3, 6, 12, 4))\n",
    "\n",
    "# use operators on a vector will be processed one by one\n",
    "print(2*x)\n",
    "\n",
    "# can be further assigned\n",
    "print(y <- c(x, x))\n",
    "\n",
    "# the vector operations can be performed each element, \n",
    "# the shorter one will be recycled \n",
    "# one vector must be integer times of each other\n",
    "z <- c(1, 5)\n",
    "print(sum <- 2*x + y - z)"
   ]
  },
  {
   "cell_type": "markdown",
   "metadata": {},
   "source": [
    "# Math opetators"
   ]
  },
  {
   "cell_type": "code",
   "execution_count": 49,
   "metadata": {},
   "outputs": [
    {
     "name": "stdout",
     "output_type": "stream",
     "text": [
      "[1]     20.08554    403.42879 162754.79142     54.59815\n",
      "[1] 3\n",
      "[1]  3 12\n",
      "[1] 4\n",
      "[1]  25 864\n",
      "[1]  6.25 16.25\n",
      "[1]  3  4  6 12\n",
      "[1]   5 111  23  23\n",
      "[1] 0+4.123106i\n"
     ]
    }
   ],
   "source": [
    "x <- c(3, 6, 12, 4)\n",
    "\n",
    "# avaiable operations\n",
    "# + \\ - \\ * \\ / \\^:power\n",
    "# log exp sin cos tan sqrt\n",
    "print(exp(x)) #20.08554    403.42879 162754.79142     54.59815\n",
    "\n",
    "# min(vector) max(vector)\n",
    "print(min(x)) #3\n",
    "\n",
    "# range: c(min(x), max(x))\n",
    "print(range(x))#3 12\n",
    "\n",
    "# length\n",
    "print(length(x)) #4\n",
    "\n",
    "# sum, product\n",
    "print(c(sum(x), prod(x))) #25 864\n",
    "\n",
    "# mean, variance\n",
    "print(c(mean(x), var(x))) #6.25 16.25\n",
    "\n",
    "# sort\n",
    "print(sort(x)) #3  4  6 12\n",
    "\n",
    "# parallel max, min\n",
    "# return the max/min in each position\n",
    "# the length equals the longest (cause warning)\n",
    "a <- c(0, 4, 5, 23)\n",
    "b <- c(5,111,23,23)\n",
    "print(pmax(a, b)) #5 111  23  23\n",
    "\n",
    "# complex number need to add the imagery part\n",
    "print(sqrt(-17+0i)) #0+4.123106i"
   ]
  },
  {
   "cell_type": "markdown",
   "metadata": {},
   "source": [
    "# Sequences"
   ]
  },
  {
   "cell_type": "code",
   "execution_count": 69,
   "metadata": {},
   "outputs": [
    {
     "name": "stdout",
     "output_type": "stream",
     "text": [
      "[1] 1 2 3 4\n",
      "[1] 0 1 2 3\n",
      "[1] 1 2 3\n",
      "[1] 1.0 1.2 1.4 1.6 1.8 2.0\n",
      "[1]  1.0  5.5 10.0\n",
      "[1] 1 2 3 4\n",
      "[1] 1 3 4 5 1 3 4 5\n"
     ]
    }
   ],
   "source": [
    "# generate sequence\n",
    "print(1:4)\n",
    "print(1:4 -1)\n",
    "print(1:(4-1))\n",
    "\n",
    "# seq(from, to, *by, *length)\n",
    "# from, to: begin, end\n",
    "# by: the difference between each two number\n",
    "print(seq(1,2,0.2))\n",
    "# length: the length of the generated sequence\n",
    "print(seq(1, 10, length=3))\n",
    "# seq(along): create a indexing sequence of the given vector \n",
    "x <- c(1,3,4,5)\n",
    "print(seq(along=x))\n",
    "\n",
    "# rep(obj, times): replicate an obj times end-to-end\n",
    "print(rep(x, 2))"
   ]
  },
  {
   "cell_type": "markdown",
   "metadata": {},
   "source": [
    " # Logical operations\n",
    "&: and, |: or, !: not <br>\n",
    "Missing values: NA: null obj, NaN: not a number <br>\n",
    "is.na(x): checks if x is NA <br>\n",
    "example: NaN: 0/0, Inf-Inf <br>"
   ]
  },
  {
   "cell_type": "markdown",
   "metadata": {},
   "source": [
    "# Charater Vectors"
   ]
  },
  {
   "cell_type": "code",
   "execution_count": 74,
   "metadata": {},
   "outputs": [
    {
     "name": "stdout",
     "output_type": "stream",
     "text": [
      "[1] \"x 1\" \"x 2\" \"x 3\"\n",
      "[1] \"x 1\" \"y 2\" \"x 3\"\n",
      "[1] \"x:1\" \"x:2\" \"x:3\"\n"
     ]
    }
   ],
   "source": [
    "# paste(obj,...,obj, *sep=\" \")\n",
    "print(paste(\"x\",1:3))\n",
    "print(paste(c(\"x\",\"y\"), 1:3))\n",
    "print(paste(\"x\",1:3, sep=\":\"))"
   ]
  },
  {
   "cell_type": "markdown",
   "metadata": {},
   "source": [
    "# Indexing Vectors"
   ]
  },
  {
   "cell_type": "code",
   "execution_count": 93,
   "metadata": {},
   "outputs": [
    {
     "name": "stdout",
     "output_type": "stream",
     "text": [
      "[1] NA  2  2  2\n",
      "[1] 2 2 2\n",
      "a b \n",
      "1 2 \n"
     ]
    }
   ],
   "source": [
    "# x[condition]: recreate a vector that \n",
    "# contains all elements TRUE to conditions in the same order\n",
    "print(x <- c(NA, 2, 2, 2))\n",
    "print(y <- x[!is.na(x)])\n",
    "\n",
    "# x[num] returns the num's element of x\n",
    "# x[begin: end] returns elements in this range, inclusive\n",
    "# x[-(begin : end)] returns all elemtns thats not in the range\n",
    "\n",
    "# name(vector) <- vector give the elements names attribute to identify\n",
    "# x[names] returns all elements in the listed name\n",
    "x <- 1:5\n",
    "names(x) <- c(\"a\", \"b\", \"c\", \"d\", \"e\")\n",
    "print(x[c(\"a\",\"b\")])"
   ]
  },
  {
   "cell_type": "markdown",
   "metadata": {},
   "source": [
    "# Class (Mode)\n",
    "vectors must have their values all of the same mode. <br>"
   ]
  },
  {
   "cell_type": "code",
   "execution_count": 2,
   "metadata": {},
   "outputs": [
    {
     "name": "stdout",
     "output_type": "stream",
     "text": [
      "[1] \"0\" \"1\" \"2\" \"3\"\n",
      "[1] NA NA 17\n"
     ]
    }
   ],
   "source": [
    "#as.mode(vector): convert the objs in vector to the mode\n",
    "z <- 0:3\n",
    "print(as.character(z))\n",
    "\n",
    "# mode(): create a new empty vector with the given mode\n",
    "# the vector can be modified by putting elements into given slot\n",
    "e <- numeric()\n",
    "e[3] <- 17\n",
    "print(e)"
   ]
  },
  {
   "cell_type": "markdown",
   "metadata": {},
   "source": [
    "# Factor\n",
    "a vector used to specify a discrete classification o the components of other vectors of the same length. "
   ]
  },
  {
   "cell_type": "code",
   "execution_count": 18,
   "metadata": {},
   "outputs": [
    {
     "name": "stdout",
     "output_type": "stream",
     "text": [
      "[1] b  a  a  b  sd sd sd\n",
      "Levels: a b sd\n",
      "[1] \"a\"  \"b\"  \"sd\"\n",
      "  a   b  sd \n",
      "5.5 7.5 8.0 \n",
      "  a   b  sd \n",
      "3.5 4.5 3.0 \n"
     ]
    }
   ],
   "source": [
    "# factor(vector): make a new, unduplicated factor obj with level attribute\n",
    "# levels(factor): returns the levels of the factor\n",
    "x <- factor(c(\"b\", \"a\", \"a\", \"b\", \"sd\", \"sd\", \"sd\"))\n",
    "print(x)\n",
    "print(levels(x))\n",
    "\n",
    "# tapply(vector, factor, operation)\n",
    "y <- c(3, 2, 9, 12, 5, 5,14)\n",
    "print(tapply(y, x, mean))\n",
    "\n",
    "    # writing a function as an operation\n",
    "    standard_error <- function(x) sqrt(var(x)/length(x))\n",
    "\n",
    "print(tapply(y, x, standard_error))"
   ]
  },
  {
   "cell_type": "markdown",
   "metadata": {},
   "source": [
    "# Arrays\n",
    "a multiply subscripted collection of data entries <br>"
   ]
  },
  {
   "cell_type": "code",
   "execution_count": 31,
   "metadata": {},
   "outputs": [
    {
     "name": "stdout",
     "output_type": "stream",
     "text": [
      ", , 1\n",
      "\n",
      "     [,1] [,2]\n",
      "[1,]    1    3\n",
      "[2,]    2    4\n",
      "\n",
      ", , 2\n",
      "\n",
      "     [,1] [,2]\n",
      "[1,]    5    7\n",
      "[2,]    6    8\n",
      "\n",
      "[1] 1\n",
      "[1] 1 3\n",
      "     [,1] [,2] [,3] [,4] [,5]\n",
      "[1,]    1    5    9   13   17\n",
      "[2,]    2    6   10   14   18\n",
      "[3,]    3    7   11   15   19\n",
      "[4,]    4    8   12   16   20\n"
     ]
    }
   ],
   "source": [
    "x <- 1:8\n",
    "# dim(vector): create a dimension vector\n",
    "dim(x) <- c(2,2,2)\n",
    "print(x)\n",
    "# find elements by []\n",
    "print(x[1,1,1])\n",
    "# leave it empty for the entire dimension\n",
    "print(x[1,,1])\n",
    "\n",
    "# the array is indexed as each dimension is filled\n",
    "print(array(1:20, dim=c(4,5)))"
   ]
  },
  {
   "cell_type": "code",
   "execution_count": 37,
   "metadata": {},
   "outputs": [
    {
     "name": "stdout",
     "output_type": "stream",
     "text": [
      "     [,1] [,2] [,3] [,4] [,5]\n",
      "[1,]    1    5   NA   13   17\n",
      "[2,]    2   NA   10   14   18\n",
      "[3,]   NA    7   11   15   19\n",
      "[4,]    4    8   12   16   20\n"
     ]
    }
   ],
   "source": [
    "# to assign values for an array\n",
    "x <- array(1:20, dim=c(4,5))\n",
    "i <- array(c(1:3,3:1), dim=c(3,2))\n",
    "x[i] <- NA\n",
    "print(x)"
   ]
  },
  {
   "cell_type": "code",
   "execution_count": 45,
   "metadata": {},
   "outputs": [
    {
     "name": "stdout",
     "output_type": "stream",
     "text": [
      "     [,1] [,2] [,3]\n",
      "[1,]    1    3    2\n",
      "[2,]    2    1    3\n",
      "     [,1] [,2] [,3]\n",
      "[1,]    2    6    4\n",
      "[2,]    4    2    6\n",
      "     [,1] [,2] [,3]\n",
      "[1,]    4    6    5\n",
      "[2,]    4    3    5\n"
     ]
    }
   ],
   "source": [
    "# array(data_vector, dim_vector): create an array of given data and given dim\n",
    "# if the given data is shorter than the slots, data will be recycled from the beginning\n",
    "print(z <- array(c(1,2,3), c(2,3)))\n",
    "\n",
    "# array can take all operations if all arrays are similar\n",
    "print(2*z)\n",
    "x <- array(c(3,2), c(2,3))\n",
    "print(x+z)"
   ]
  },
  {
   "cell_type": "markdown",
   "metadata": {},
   "source": [
    "## The recycle rule\n",
    "expression is scanned from left to right <br>\n",
    "any short vector operands are extended by recycling values until match the size of others <br>\n",
    "The arrays must all have the same dim <br>"
   ]
  },
  {
   "cell_type": "markdown",
   "metadata": {},
   "source": [
    "## Outer product\n",
    "a,b being two arrays, their outer product is an array whose dimension is got by concatenating their two dimension vectors, and those data vector is got by forming all possible products of elements of the data vector of a with those of b"
   ]
  },
  {
   "cell_type": "code",
   "execution_count": 48,
   "metadata": {},
   "outputs": [
    {
     "name": "stdout",
     "output_type": "stream",
     "text": [
      ", , 1, 1\n",
      "\n",
      "     [,1] [,2] [,3]\n",
      "[1,]    2    6   10\n",
      "[2,]    4    8   12\n",
      "\n",
      ", , 2, 1\n",
      "\n",
      "     [,1] [,2] [,3]\n",
      "[1,]    3    9   15\n",
      "[2,]    6   12   18\n",
      "\n",
      ", , 3, 1\n",
      "\n",
      "     [,1] [,2] [,3]\n",
      "[1,]    4   12   20\n",
      "[2,]    8   16   24\n",
      "\n",
      ", , 1, 2\n",
      "\n",
      "     [,1] [,2] [,3]\n",
      "[1,]    5   15   25\n",
      "[2,]   10   20   30\n",
      "\n",
      ", , 2, 2\n",
      "\n",
      "     [,1] [,2] [,3]\n",
      "[1,]    6   18   30\n",
      "[2,]   12   24   36\n",
      "\n",
      ", , 3, 2\n",
      "\n",
      "     [,1] [,2] [,3]\n",
      "[1,]    7   21   35\n",
      "[2,]   14   28   42\n",
      "\n"
     ]
    }
   ],
   "source": [
    "#outer(array_a, array_b, operation)\n",
    "x <- array(1:6, c(2,3))\n",
    "y <- array(2:7, c(3,2))\n",
    "print(outer(x,y,\"*\"))"
   ]
  },
  {
   "cell_type": "markdown",
   "metadata": {},
   "source": [
    "## Matrices and special operations"
   ]
  },
  {
   "cell_type": "code",
   "execution_count": 1,
   "metadata": {},
   "outputs": [
    {
     "name": "stdout",
     "output_type": "stream",
     "text": [
      "     [,1] [,2] [,3]\n",
      "[1,]    1    3    5\n",
      "[2,]    2    4    6\n",
      "     [,1] [,2]\n",
      "[1,]    0    3\n",
      "[2,]    1    4\n",
      "[3,]    2    5\n",
      "     [,1] [,2]\n",
      "[1,]   13   40\n",
      "[2,]   16   52\n",
      "     [,1] [,2] [,3]\n",
      "[1,]    1    0    0\n",
      "[2,]    0    2    0\n",
      "[3,]    0    0    3\n",
      "[1] 1 4\n"
     ]
    }
   ],
   "source": [
    "print(A <-array(1:6, c(2,3)))\n",
    "print(B <- array(0:5, c(3,2)))\n",
    "\n",
    "# %*%: matrix multiplication\n",
    "print(A %*% B)\n",
    "\n",
    "# crossprod(matrix): crossproduct\n",
    "\n",
    "# diag(vector): gives a diagonal matrix with the vector being the diagonal\n",
    "print(diag(1:3))\n",
    "#diag(matrix): gives the vector of main diagonal entries\n",
    "print(diag(A))\n",
    "\n",
    "# eigen(symmetric_matrix)\n",
    "# return the eignvalues and eigenvectors as a list &val &vec"
   ]
  },
  {
   "cell_type": "markdown",
   "metadata": {},
   "source": [
    "# Lists\n",
    "an ordered collection of an objs in each components"
   ]
  },
  {
   "cell_type": "code",
   "execution_count": 8,
   "metadata": {},
   "outputs": [
    {
     "name": "stdout",
     "output_type": "stream",
     "text": [
      "[[1]]\n",
      "[1] \"Fred\"\n",
      "\n",
      "[[2]]\n",
      "[1] \"Fred\"\n",
      "\n",
      "$name\n",
      "[1] \"Fred\"\n",
      "\n",
      "[1] 3\n"
     ]
    }
   ],
   "source": [
    "# list(name_1 = obj_1, ...): create a new list \n",
    "lst <- list(name = \"Fred\", wife = \"Mary\", no.children = 3, child.age = c(4,7,9))\n",
    "\n",
    "# The index of a list is as each component\n",
    "# call the component by $component, or  [[\"component\"]]\n",
    "print(c(lst$name, lst[[\"name\"]], lst[1]))"
   ]
  },
  {
   "cell_type": "markdown",
   "metadata": {},
   "source": [
    "## Data frames\n",
    "a list with class \"data.frame\" and following the rules <br>\n",
    "\\- The components must be vectors, factors, num matrices, lists, or other data frames <br>\n",
    "\\- Matrices, lists, and data frames provide as many variables to the new data frame as they have columns, elements, or variables <br>\n",
    "\\- Numeric vectors and factors are included as is, and non-numeric vectors are coerced to be factors, whose levels are the unique values appearing in the vector <br>\n",
    "\\- Vector structures appearing as variables of the date frame must all have the same length, and matrix structures must have the same row size."
   ]
  },
  {
   "cell_type": "markdown",
   "metadata": {},
   "source": [
    "# Loops\n",
    "if (logical statement) expr_a else expr_b <br>\n",
    "for (name in expr_1) expr_2 <br>\n",
    "repeat expr_1: run the loop until a break, otherwise it will not stop <br>\n",
    "next: discontinue this loop and skip to the start of the next one <br>\n",
    "while (logical statement) expr <br>"
   ]
  },
  {
   "cell_type": "markdown",
   "metadata": {},
   "source": [
    "# Functions \n",
    "function_name <- function(parameter,...) { function_body }<br>\n",
    "called by function_name(parameter)\n",
    "\n",
    "\"%operation_name%\" <- function(x,y) {...} <br>\n",
    "called by x %operation_name% y\n",
    "\n",
    "<div style= \"color: red;\"> NOTE: any assignment by &lt;- will only be temporary as in the function, to assign things back to the actual variable, do &lt;&lt;- </div>"
   ]
  },
  {
   "cell_type": "code",
   "execution_count": null,
   "metadata": {},
   "outputs": [],
   "source": []
  }
 ],
 "metadata": {
  "kernelspec": {
   "display_name": "R",
   "language": "R",
   "name": "ir"
  },
  "language_info": {
   "codemirror_mode": "r",
   "file_extension": ".r",
   "mimetype": "text/x-r-source",
   "name": "R",
   "pygments_lexer": "r",
   "version": "3.5.1"
  }
 },
 "nbformat": 4,
 "nbformat_minor": 2
}
