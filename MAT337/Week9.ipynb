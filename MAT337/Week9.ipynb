{
 "cells": [
  {
   "cell_type": "markdown",
   "metadata": {},
   "source": [
    "__Pointwise convergence__ Given $\\{h_k\\}\\subset C(S,\\mathbb R)$. We say that they converge pointwise if $\\forall x\\in S. h_k(x)\\rightarrow h(x)$. \n",
    "$$\\forall \\epsilon > 0. \\forall x \\in S. \\exists N > 0. \\forall k \\geq N. |f_k(x)-f(x)|<\\epsilon$$\n",
    "\n",
    "__Convergence Uniformly__ $f_k\\rightarrow^{u.c.}f$ if $\\|f_k - f\\|_{\\infty}\\rightarrow 0$. \n",
    "$$\\forall \\epsilon > 0. \\exists N > 0. \\forall k\\geq N. \\sup_{x\\in S}|f_k(x)-f(x)|\\leq \\epsilon$$"
   ]
  },
  {
   "cell_type": "markdown",
   "metadata": {},
   "source": [
    "__Example__ consider \n",
    "$f_k(x):=\n",
    "    \\begin{cases}\n",
    "        k^2 x & 0\\leq x\\leq 1/k \\\\\n",
    "       k^2 x (\\frac{2}{k}-x) & 1/2 \\leq x \\leq 2/k \\\\\n",
    "       0 &2/k \\leq x \\leq 1\n",
    "    \\end{cases}$  \n",
    "__Claim__ $f_k \\rightarrow^{p.w.} 0$  \n",
    "_proof_. Let $x\\in[0,1]$. take $N > 0$ s.t. $2/N \\leq x$. Therefore, $\\forall k \\geq N, |f_k(x)-0|<\\epsilon$\n",
    "\n",
    "__Claim__ $f_k\\not\\rightarrow^{u.c.} 0$  \n",
    "_proof_. $\\sup_{x\\in[0,1]}|f_k(x)-0|=k\\rightarrow\\infty$\n",
    "\n",
    "__Claim__ $\\lim_{k\\rightarrow\\infty}\\int_0^1 f_k(x)dx \\neq \\int_0^1 \\lim_{k\\rightarrow\\infty}f_k(x)dx$  \n",
    "_proof_. $LHS=\\lim_{k\\rightarrow\\infty}\\int_0^{1/k} k^2 x dx + \\int_{1/k}^{2/k} k^2(\\frac{2}{k}-x)dx + 0 = \\lim_{k\\rightarrow\\infty}1=1$  \n",
    "$RHS = 0 \\neq 1$"
   ]
  },
  {
   "cell_type": "markdown",
   "metadata": {},
   "source": [
    "__Example__ Let $f_n:[0,A]\\rightarrow \\mathbb R, f(x):= \\frac{\\sin(nx)}{n}\\rightarrow^{u.c.}0$.  \n",
    "_proof_. $\\sup_{x\\in[0,A]}|\\frac{\\sin(nx)}{x} - 0| \\leq 1/n \\rightarrow 0$"
   ]
  },
  {
   "cell_type": "markdown",
   "metadata": {},
   "source": [
    "__Claim__ u.c. does not preserve derivatives  \n",
    "_proof_. $f'(x)=\\frac{n\\cos(nx)}{n} = cos(nx)$ doesn't converge to any function. "
   ]
  },
  {
   "cell_type": "markdown",
   "metadata": {},
   "source": [
    "__Dini's Theorem__ If $f,f_n\\in C([a,b]). (\\forall n \\geq 1. f_n \\leq f_{n+1} \\land f_n(x)\\rightarrow f(x))\\Rightarrow f_n\\rightarrow^{u.c.} f$\n",
    "\n",
    "_proof_. Since $f_n \\leq f_{n+1}\\land f_n \\rightarrow f \\Rightarrow g(x):=f(x)-f_n(x)\\geq 0$  \n",
    "(i) By continuity at $x_0$, take $\\delta_1 > 0, \\forall y\\in\\mathbb R. |x_0 - y|\\Rightarrow |g(x_0) - g(y)|\\leq \\epsilon/2$  \n",
    "(ii) By $f_n(x_0)\\rightarrow^{p.w.}f(x_0)$, take $N>0, \\forall n > N. |f_n(x_0)-f(x_0)|\\leq \\epsilon/2$  \n",
    "$|g(y)| = |f(y)-f_n(y)|$  \n",
    "$\\leq |f(x_0)-f_n(x_0)| + |g(x_0) - g(y)|$  \n",
    "$\\leq \\epsilon /2 + \\epsilon /2 = \\epsilon. \\forall y\\in (x_0-\\delta, x_0 + \\delta)$\n",
    "\n",
    "Then, suppose that we don't have u.c.  \n",
    "$\\Rightarrow \\sup_{x\\in[a,b]}|g(x)|=\\sup_{x\\in[a,b]} |f(x)-f_n(x)|\\geq d, d > 0$.  \n",
    "$\\|g\\|_{\\infty}>d\\Rightarrow \\forall n > 1. \\exists x_n \\in [a,b]. g_n(x_n)\\geq d$  \n",
    "By $\\{x_n\\}\\in[a,b]$, with bolzano weierstrass theorem, $x_{n_k}\\rightarrow x_0 \\in [a,b]$.  \n",
    "But we show for $\\epsilon < d. \\exists \\delta > 0. |x_0 - y|<\\delta\\Rightarrow |g(y)|< \\epsilon < d$.  \n",
    "For $\\delta, \\exists N>0$ so that $\\forall k\\geq N.|x_{n_k}-x_0|\\leq \\delta$. Take $y = x_{n_k}\\Rightarrow |g(x_{n_k})|<\\epsilon < d$ causes contradiction"
   ]
  },
  {
   "cell_type": "markdown",
   "metadata": {},
   "source": []
  }
 ],
 "metadata": {
  "hide_input": false,
  "kernelspec": {
   "display_name": "Python 3",
   "language": "python",
   "name": "python3"
  },
  "language_info": {
   "codemirror_mode": {
    "name": "ipython",
    "version": 3
   },
   "file_extension": ".py",
   "mimetype": "text/x-python",
   "name": "python",
   "nbconvert_exporter": "python",
   "pygments_lexer": "ipython3",
   "version": "3.7.3"
  }
 },
 "nbformat": 4,
 "nbformat_minor": 2
}
