{
 "cells": [
  {
   "cell_type": "markdown",
   "metadata": {},
   "source": [
    "__Pointwise convergence__ Given $\\{h_k\\}\\subset C(S,\\mathbb R)$. We say that they converge pointwise if $\\forall x\\in S. h_k(x)\\rightarrow h(x)$. \n",
    "$$\\forall \\epsilon > 0. \\forall x \\in S. \\exists N > 0. \\forall k \\geq N. |f_k(x)-f(x)|<\\epsilon$$\n",
    "\n",
    "__Convergence Uniformly__ $f_k\\rightarrow^{u.c.}f$ if $\\|f_k - f\\|_{\\infty}\\rightarrow 0$. \n",
    "$$\\forall \\epsilon > 0. \\exists N > 0. \\forall k\\geq N. \\sup_{x\\in S}|f_k(x)-f(x)|\\leq \\epsilon$$"
   ]
  },
  {
   "cell_type": "markdown",
   "metadata": {},
   "source": [
    "__Example__ consider \n",
    "$f_k(x):=\n",
    "    \\begin{cases}\n",
    "        k^2 x & 0\\leq x\\leq 1/k \\\\\n",
    "       k^2 x (\\frac{2}{k}-x) & 1/2 \\leq x \\leq 2/k \\\\\n",
    "       0 &2/k \\leq x \\leq 1\n",
    "    \\end{cases}$  \n",
    "__Claim__ $f_k \\rightarrow^{p.w.} 0$  \n",
    "_proof_. Let $x\\in[0,1]$. take $N > 0$ s.t. $2/N \\leq x$. Therefore, $\\forall k \\geq N, |f_k(x)-0|<\\epsilon$\n",
    "\n",
    "__Claim__ $f_k\\not\\rightarrow^{u.c.} 0$  \n",
    "_proof_. $\\sup_{x\\in[0,1]}|f_k(x)-0|=k\\rightarrow\\infty$\n",
    "\n",
    "__Claim__ $\\lim_{k\\rightarrow\\infty}\\int_0^1 f_k(x)dx \\neq \\int_0^1 \\lim_{k\\rightarrow\\infty}f_k(x)dx$  \n",
    "_proof_. $LHS=\\lim_{k\\rightarrow\\infty}\\int_0^{1/k} k^2 x dx + \\int_{1/k}^{2/k} k^2(\\frac{2}{k}-x)dx + 0 = \\lim_{k\\rightarrow\\infty}1=1$  \n",
    "$RHS = 0 \\neq 1$"
   ]
  },
  {
   "cell_type": "markdown",
   "metadata": {},
   "source": [
    "__Example__ Let $f_n:[0,A]\\rightarrow \\mathbb R, f(x):= \\frac{\\sin(nx)}{n}\\rightarrow^{u.c.}0$.  \n",
    "_proof_. $\\sup_{x\\in[0,A]}|\\frac{\\sin(nx)}{x} - 0| \\leq 1/n \\rightarrow 0$"
   ]
  },
  {
   "cell_type": "markdown",
   "metadata": {},
   "source": [
    "__Claim__ u.c. does not preserve derivatives  \n",
    "_proof_. $f'(x)=\\frac{n\\cos(nx)}{n} = cos(nx)$ doesn't converge to any function. "
   ]
  },
  {
   "cell_type": "markdown",
   "metadata": {},
   "source": [
    "__Dini's Theorem__ If $f,f_n\\in C([a,b]). (\\forall n \\geq 1. f_n \\leq f_{n+1} \\land f_n(x)\\rightarrow f(x))\\Rightarrow f_n\\rightarrow^{u.c.} f$\n",
    "\n",
    "_proof_. Since $f_n \\leq f_{n+1}\\land f_n \\rightarrow f \\Rightarrow g(x):=f(x)-f_n(x)\\geq 0$  \n",
    "(i) By continuity at $x_0$, take $\\delta_1 > 0, \\forall y\\in\\mathbb R. |x_0 - y|\\Rightarrow |g(x_0) - g(y)|\\leq \\epsilon/2$  \n",
    "(ii) By $f_n(x_0)\\rightarrow^{p.w.}f(x_0)$, take $N>0, \\forall n > N. |f_n(x_0)-f(x_0)|\\leq \\epsilon/2$  \n",
    "$|g(y)| = |f(y)-f_n(y)|$  \n",
    "$\\leq |f(x_0)-f_n(x_0)| + |g(x_0) - g(y)|$  \n",
    "$\\leq \\epsilon /2 + \\epsilon /2 = \\epsilon. \\forall y\\in (x_0-\\delta, x_0 + \\delta)$\n",
    "\n",
    "Then, suppose that we don't have u.c.  \n",
    "$\\Rightarrow \\sup_{x\\in[a,b]}|g(x)|=\\sup_{x\\in[a,b]} |f(x)-f_n(x)|\\geq d, d > 0$.  \n",
    "$\\|g\\|_{\\infty}>d\\Rightarrow \\forall n > 1. \\exists x_n \\in [a,b]. g_n(x_n)\\geq d$  \n",
    "By $\\{x_n\\}\\in[a,b]$, with bolzano weierstrass theorem, $x_{n_k}\\rightarrow x_0 \\in [a,b]$.  \n",
    "But we show for $\\epsilon < d. \\exists \\delta > 0. |x_0 - y|<\\delta\\Rightarrow |g(y)|< \\epsilon < d$.  \n",
    "For $\\delta, \\exists N>0$ so that $\\forall k\\geq N.|x_{n_k}-x_0|\\leq \\delta$. Take $y = x_{n_k}\\Rightarrow |g(x_{n_k})|<\\epsilon < d$ causes contradiction"
   ]
  },
  {
   "cell_type": "markdown",
   "metadata": {},
   "source": [
    "#### Uniform convergence and completeness\n",
    "__Theorem__ If $f_k\\in C([a,b]),f_k \\rightarrow^{u.c.}f$, then $f\\in C([a,b])$  \n",
    "_proof_. Let $\\epsilon > 0$, and $x_0\\in [a,b]$.  \n",
    "By uniform continuous, take $N_{\\epsilon/3} > 0, \\forall k > N_{\\epsilon/3}. \\sup_{x\\in[a,b]}|f_k(k)-f(x)|\\leq \\epsilon/3$  \n",
    "By continuity of $f_k$, take $\\delta_{\\epsilon/3} > 0, |x_0 - y|\\leq \\delta \\Rightarrow |f_{N_{\\epsilon/3}}(x_0) - f_{N_{\\epsilon/3}}(y)|\\leq \\epsilon/3$  \n",
    "Take $\\delta = \\delta_{\\epsilon/3}$,  \n",
    "$|f(x_0) - f(y)| \\leq $  \n",
    "$|f(x_0) - f_{N_{\\epsilon/3}}(x_0)| $ by uniform continuous   \n",
    "$+ |f_{N_{\\epsilon/3}}(x_0) - f_{N_{\\epsilon/3}}(y)|$ by continuity  \n",
    "$ + |f_{N_{\\epsilon/3}}(y) - f(y)|$ by uniform continuous  \n",
    "$= \\epsilon/3 + \\epsilon/3 + \\epsilon/3$"
   ]
  },
  {
   "cell_type": "markdown",
   "metadata": {},
   "source": [
    "__Example__ $f_n(x) = (1 + \\frac{x}{n})^n\\rightarrow^{u.c.} e^x := \\sum^\\infty \\frac{x^k}{k!}$ over any interval $[a,b]$  \n",
    "_proof_. $\\sup_{x\\in [a,b]} |(1+\\frac{x}{n})^n - e^x| =\\|\\sum_{k=1}^n {n\\choose k}\\frac{x^k}{n^k} - \\sum\\frac{x^k}{k!}\\|_\\infty$  \n",
    "$\\leq |\\sum^\\infty \\frac{x^k}{k!}|$ Since ${n\\choose k}/n^k \\leq \\frac{n}{k!}$  \n",
    "$\\leq |\\sum \\frac{b^k}{k!}|$ Since $x\\in [a,b]$  \n",
    "By big-oh, Take $N_\\epsilon > 0, \\forall n \\geq N. \\sum \\frac{b^k}{k!} \\leq \\epsilon$"
   ]
  },
  {
   "cell_type": "markdown",
   "metadata": {},
   "source": [
    "__Claim__ $\\lim_{n\\rightarrow\\infty}\\int_0^1 f_n(x)dx = \\int_0^1 \\lim_{n\\rightarrow\\infty}f_n(x)dx = \\int_0^1 e^x dx = e-1$  \n",
    "_proof_. $\\int_0^1 (1 + \\frac{x}{n})^n dx = \\big(\\frac{{n+x}^{n+1}}{(n+1)n^n}\\big)\\big|_0^1$  \n",
    "$ = \\frac{(n+1)^{n+1}}{(n+1)n^n} - \\frac{n^{n+1}}{(n+1)n^n}$  \n",
    "$ = (1 + \\frac{1}{n})^n - \\frac{n}{n+1}$  \n",
    "$\\lim_{n\\rightarrow \\infty} (1 + \\frac{1}{n})^n - \\frac{n}{n+1} = e - 1$\n"
   ]
  },
  {
   "cell_type": "markdown",
   "metadata": {},
   "source": [
    "__Example__ Point-wise convergence does not imply uniform continuous  \n",
    "_proof_. Take $f_n:[0,1]\\rightarrow \\mathbb{R} : = x^n$.  \n",
    "$f_n(x_0) \\rightarrow^{p.w.} \\mathbb I (x_0 = 1)$  \n",
    "But $\\sup_{x\\in[0,1]}|x_n - \\mathbb I(x = 1)| = \\sup_{x\\in(0,1)}|x^n|$.  \n",
    "Therefore, for $x_0 = 0.5^{1/n}, f_n(x_0) = 1/2 > 0$.  \n",
    "You will lose u.c. when you arbitrarily close to 1. "
   ]
  },
  {
   "cell_type": "markdown",
   "metadata": {},
   "source": [
    "__Claim__ $\\forall f,g\\in C(K). K$ compact, if $f_n \\rightarrow^{u.c.} f, g_n \\rightarrow^{u.c.} g$, then $f_n g_n \\rightarrow^{u.c.} f g$  \n",
    "_proof_. Let $\\epsilon > 0$, for all $x\\in K$  \n",
    "$|f_n(x)g_n(x) - f(x)g(x)| = |f_n(x)g_n(x) - g(x)f_n(x) + g(x)f_n(x) - f(x)g(x)|$  \n",
    "$\\leq |f_n(x)||g_n(x)-g(x)| + |g(x)||f_n(x)-f(x)|$  \n",
    "$< B_1 |g_n(x)-g(x)| + B_2 |f_n(x)-f(x)|$ By EVT on $f_n, g_n$, since $K$ compact  \n",
    "$\\leq B_1 \\|g_n - g\\|_\\infty + B_2 \\|f_n-f\\|_{\\infty}$ By u.c. of $f,g$  \n",
    "\n",
    "Take $N_1\\Rightarrow \\forall n \\geq N_1 . \\|g_n-g\\|_\\infty \\leq |\\frac{\\epsilon}{2B_1}|$  \n",
    "Take $N_2\\Rightarrow \\forall n \\geq N_2 . \\|f_n-f\\|_\\infty \\leq |\\frac{\\epsilon}{2B_2}|$  \n",
    "\n",
    "$\\leq \\epsilon$"
   ]
  },
  {
   "cell_type": "markdown",
   "metadata": {},
   "source": [
    "#### Integral Convergence Theorem\n",
    "If $f_n \\in ([a,b])\\land f_n \\rightarrow^{u.c.}f$,  \n",
    "then $\\forall [c,d]\\subseteq [a,b]. \\lim_{n\\rightarrow\\infty}\\int_c^d f_n(t)dt = \\int_c^d \\lim_{n\\rightarrow\\infty}f_n(t)dt$\n",
    "\n",
    "_proof_. \n",
    "\\begin{align}\n",
    "\\Big|\\int_c^d f_n(t) - f(t)dt\\Big| &\\leq \\int_c^d |f_n(t)-f(t)|dt  \\\\\n",
    "&\\leq \\int_c^d \\sup_{s\\in[a,b]}|f_n(s)-f(s)|dt \\\\\n",
    "&= \\sup_{s\\in[a,b]} |f_n(s)-f(s)| \\int_c^d d_t \\\\\n",
    "&= \\|f_n-f\\|_\\infty(d-c) \\\\\n",
    "&\\text{by u.c., take }\\tilde\\epsilon = \\frac{\\epsilon}{b-a} s.t. \\exists N_{\\tilde \\epsilon} \\geq 0. \\forall n\\geq N_{\\tilde\\epsilon}, \\|f_n-f\\|_\\infty \\leq \\tilde\\epsilon  \\\\\n",
    "&\\leq \\frac{d-c}{a-b}\\epsilon\n",
    "\\end{align}\n",
    "\n",
    "Note that if $[a,b]=[0,\\infty)$, then the proof breaks down.  \n",
    "because $\\int_c^d dt$ can be arbitrarily large, so one fix is to have a density $\\rho(x)$ so that $\\int_c^d \\rho(s)ds\\leq B$"
   ]
  },
  {
   "cell_type": "markdown",
   "metadata": {},
   "source": [
    "#### Leibriz's Rule (differentiation under the integral)\n",
    "$\\forall f(x,t), d_x f(x,t) \\in C([a,b]\\times[c,d])$. If $f(x) = \\int_c^d f(x,t)dt$, then $\\frac{dF}{dx} = \\int_c^d d_x f(x,t)dt$  \n",
    "\n",
    "_proof_. Fix $x_0\\in[a,b]$  \n",
    "$$F'(x_0) = \\lim_{h\\rightarrow 0}\\frac{F(x_0 + h) - F(x_0)}{h}$$\n",
    "Consider the RHS, \n",
    "\\begin{align}\n",
    "\\lim_{h\\rightarrow 0}\\frac{F(x_0 + h) - F(x_0)}{h} &= \\frac{1}{h}\\int_c^d f(x_0+h,t)-f(x_0, t)dt \\\\\n",
    "\\text{by MVT, take }\\xi(t,h)\\in [x_0, x_0+h], &\\frac{F(x_0 + h) - F(x_0)}{h} = d_x f(\\xi(t,h), t) \\\\\n",
    "&= \\int_c^d d_xf(\\xi(t,h),t)dt\n",
    "\\end{align}\n",
    "\n",
    "WTS given $\\epsilon$, can find $h$ small enough so that $|\\int_c^d d_xf(\\xi(t,h), t) - d_xf(x_0, t)dt|\\leq \\epsilon$  \n",
    "Using continuity of $d_xf(x_0, t)$, take $\\delta > 0. |x_0 - y|<\\delta \\Rightarrow |d_xf(y,t) - d_xf(x_0,t)|\\leq \\frac{\\epsilon}{d-c}$  \n",
    "\n",
    "Since $|\\xi(t,h)-x_0|<h$, take $\\delta < h$, then $|d_xf(\\xi(t,h), t) - d_xf(x_0, t)|\\leq \\frac{\\epsilon}{d-c}$,  \n",
    "\\begin{align}\n",
    " |\\int_c^d d_xf(\\xi(t,h), t)-d_xf(x_0, t)dt| &\\leq \\int_c^d |d_xf(\\xi(t,h), t)-d_xf(x_0, t)|dt \\\\\n",
    " &\\leq \\frac{\\epsilon}{d-c}\\int_c^d dt = \\epsilon\n",
    "\\end{align}\n",
    "\n",
    "Therefore, $\\epsilon>0, \\exists h$ small enough so that $|\\frac{F(x_0 + h, t) - F(x_0)}{h} - \\int_c^d d_xf(x_0,t)dt|\\leq \\epsilon$. \n",
    "Therefore, $F'(x_0)=\\lim_{h\\rightarrow 0} \\frac{F(x_0+h)-F(x)}{h} = \\int_c^d d_xf(x_0, t)dt$"
   ]
  },
  {
   "cell_type": "markdown",
   "metadata": {},
   "source": [
    "__Example__ Prove $\\int_0^\\infty e^{-x^2}dx = \\sqrt\\pi/2$  \n",
    "_proof_. Define $F(x,t) = \\int_0^1 \\frac{e^{-x}(1+t^2)}{1+t^2}dx = \\int_0^1 f(x,t)dt$, $f(x,t)$ is continuous on $[0,M]\\times[0,1]$.  \n",
    "By Leibiz' Rule, \n"
   ]
  }
 ],
 "metadata": {
  "hide_input": false,
  "kernelspec": {
   "display_name": "Python 3",
   "language": "python",
   "name": "python3"
  },
  "language_info": {
   "codemirror_mode": {
    "name": "ipython",
    "version": 3
   },
   "file_extension": ".py",
   "mimetype": "text/x-python",
   "name": "python",
   "nbconvert_exporter": "python",
   "pygments_lexer": "ipython3",
   "version": "3.7.3"
  }
 },
 "nbformat": 4,
 "nbformat_minor": 2
}
