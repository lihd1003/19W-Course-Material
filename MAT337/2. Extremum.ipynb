{
 "cells": [
  {
   "cell_type": "markdown",
   "metadata": {},
   "source": [
    "### Extremum"
   ]
  },
  {
   "cell_type": "markdown",
   "metadata": {},
   "source": [
    " __Bound__  A set $S\\subset\\mathbb{R}$ is  \n",
    "__bounded above__ $\\exists M\\in\\mathbb{R}. \\forall s \\in S. s\\leq M. $  \n",
    "__bounded below__ $\\exists L\\in\\mathbb{R}. \\forall s \\in S. s\\geq L. $\n",
    "\n",
    "__Supremum__ $sup(S)\\in\\mathbb{R}$ is a upper bound and $\\forall v. v\\geq sup(S)\\land v$ is upper bound.  \n",
    "__Infimum__ $inf(S)\\in\\mathbb{R}$ is a lower bound and $\\forall v. v\\leq inf(S)\\land v$ is lower bound. \n",
    "\n",
    "__Proposition__ $u$ is a supremum of $S$ IFF $u$ is a upper bound and $\\forall \\epsilon > 0. \\exists s_\\epsilon \\in S. u-\\epsilon < s_\\epsilon$"
   ]
  },
  {
   "cell_type": "markdown",
   "metadata": {},
   "source": [
    "#### Least upper bound principle\n",
    "$\\forall S\\neq \\emptyset, S$ bounded above. $S$ has a supremum.  \n",
    "\n",
    "_proof_.  Since bounded above, take $M\\in\\mathbb{R}$ where $\\forall s \\in S. M\\geq s$.   \n",
    "Pick $s'=s_0.s_1 \\in S\\Rightarrow M\\geq s'\\Rightarrow m_0 + 1 > s_0$.  \n",
    "Find lowest $a_0\\in \\{s_0, ..., m_0 + 1\\}$ that is an upper bound for $S$.  \n",
    "\n",
    "_Induction_ $y_n = \\sum_0^n a_i / 10^i$ where $a_i=\\min\\{a \\in \\{0, 1, ..., 9\\}\\mid y_i \\geq S\\}$. Take $x_n \\in S$ s.t. $a_0.a_1...a_n - 10^{-n}\\leq x_n \\leq y_n$\n",
    "\n",
    "_WTS_ $L = a_0.a_1... = sup(S)$  \n",
    "\n",
    "Upper bound property: start with any $s_0.s_1,... \\in S$ either  \n",
    "1. $\\forall i. s_i = a_i\\Rightarrow S = L$  \n",
    "2. $\\exists k$ be the first different digit and $s_k > a_k$\n",
    "Construct $y_k^* = a_0.a_1...a_{k-1}s_k$. then $L < y_k^*\\leq s_0.s_1$, while by the ordering this cannot happen. \n",
    "\n",
    "Subsequence Property: For each $\\epsilon$, you can pick $n > 0$ s.t. $L-\\epsilon \\leq L - 10^{-n} \\leq x_n \\leq y_n < L$\n",
    "\n",
    "\n",
    "\n",
    "\n"
   ]
  },
  {
   "cell_type": "markdown",
   "metadata": {},
   "source": [
    "__Claim__ Uniqueness of supremum\n",
    "\n",
    "_proof_ Assume $\\exists u,v$ be two supremums, $v < u$. Take $\\epsilon = u -v, \\forall \\epsilon > 0. \\exists s_\\epsilon \\in S \\Rightarrow u - (u-v) < s_\\epsilon \\Rightarrow v < s_\\epsilon$. "
   ]
  },
  {
   "cell_type": "markdown",
   "metadata": {},
   "source": [
    "__Claim__ For all bounded above set $A$ and $c\\geq 0$. $\\sup(cA) = c \\sup(A)$  \n",
    "\n",
    "_proof_. Let $M = \\sup(A)$.  \n",
    "Upper bound property: $\\forall s. s\\leq M \\Rightarrow cs \\leq cM$  \n",
    "Subsequence property: Let $\\epsilon \\geq 0$, take $s_{\\epsilon/c}$, then $cs_{\\epsilon/c}\\geq u - \\epsilon$\n",
    "\n"
   ]
  }
 ],
 "metadata": {
  "hide_input": false,
  "kernelspec": {
   "display_name": "Python 3",
   "language": "python",
   "name": "python3"
  },
  "language_info": {
   "codemirror_mode": {
    "name": "ipython",
    "version": 3
   },
   "file_extension": ".py",
   "mimetype": "text/x-python",
   "name": "python",
   "nbconvert_exporter": "python",
   "pygments_lexer": "ipython3",
   "version": "3.7.3"
  }
 },
 "nbformat": 4,
 "nbformat_minor": 2
}
