{
 "cells": [
  {
   "cell_type": "markdown",
   "metadata": {},
   "source": [
    "$f_n (x):=nx(1-x^2)^n$ on $[0,1], n\\geq 1$.\n",
    "\n",
    "Let $x_0 \\in [0,1]$  \n",
    "If $x_0 = 0, f_n(x) = 0$.  \n",
    "If $x_0 > 0$, since $0\\leq 1-x_0^2\\leq 1, nx_0(1-x^2)n \\rightarrow 0$  \n",
    "So $f_n(x)\\rightarrow^{p.w.} 0$  \n",
    "\n",
    "However, $f_n(x)\\not\\rightarrow^{u.c.} 0$.  \n",
    "i.e. $\\exists\\{x_n\\}\\subset[0,1], |f_n(x_n)|\\not\\rightarrow 0$  \n",
    "Take $x_n = \\frac{1}{\\sqrt n}$, $\\sqrt n (1-\\frac{1}{n})^n = e^{-1}\\sqrt n > 0$  \n",
    "\n",
    "\\begin{align}\n",
    "\\lim_{n\\rightarrow\\infty}\\int_0^1 f_n(x)dx &= \\lim_{n\\rightarrow\\infty}\\int_0^1 nx(1-x^2)^ndx\\\\\n",
    "&=^{u := nx^2} \\lim_{n\\rightarrow\\infty}\\int_0^n \\frac{1}{2}(1-\\frac{u}{n})^n du \\\\\n",
    "&= \\lim_{n\\rightarrow\\infty} \\frac{1}{2}\\int_0^n e^{-u}du\\\\\n",
    "&= \\lim_{n\\rightarrow\\infty} \\frac{1}{2}(-e^{-n}\\mid^n_0) \\\\\n",
    "&= \\frac{1}{2}\\neq 0 = \\int_0^1\\lim_{n\\rightarrow\\infty}f_n(x)dx\n",
    "\\end{align}"
   ]
  },
  {
   "cell_type": "markdown",
   "metadata": {},
   "source": [
    "$f_n(x):=nxe^{-nx}, x\\in [0,R]$  \n",
    "\n",
    "Consider $d_xf_n(x) = ne^{-nx} + nx(-n)e^{-nx} = (n-n^2x)e^{-nx}$, $f_n$ has critical point at $x=\\frac{1}{n}$, also, $f_n(x)\\geq 0$  \n",
    "$0\\leq f_n(x)\\leq e^{-1}$"
   ]
  }
 ],
 "metadata": {
  "hide_input": false,
  "kernelspec": {
   "display_name": "Python 3",
   "language": "python",
   "name": "python3"
  },
  "language_info": {
   "codemirror_mode": {
    "name": "ipython",
    "version": 3
   },
   "file_extension": ".py",
   "mimetype": "text/x-python",
   "name": "python",
   "nbconvert_exporter": "python",
   "pygments_lexer": "ipython3",
   "version": "3.7.3"
  }
 },
 "nbformat": 4,
 "nbformat_minor": 2
}
