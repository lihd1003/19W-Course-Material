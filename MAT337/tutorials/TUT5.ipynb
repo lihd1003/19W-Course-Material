{
 "cells": [
  {
   "cell_type": "markdown",
   "metadata": {},
   "source": [
    "1. prove __operator norm__ $\\|A\\|:= \\max_{\\|x\\|\\leq 1}\\|Ax\\|$ is a norm over the space of $n\\times n$ matrices. \n",
    "\n",
    "  - positive $\\|A\\|=\\max_{\\|x\\|\\leq 1} \\|Ax\\| = \\|y\\|\\geq 0$ where $y$ is some vector \n",
    "  - definite $\\|0\\| = \\max_{\\|x\\|\\leq 1} \\|0x\\| = 0$  \n",
    "  $\\|A\\|=0\\Rightarrow \\forall x. \\|x\\|\\leq 1,\\|Ax\\| \\leq 0 \\Rightarrow A=0$\n",
    "  - homogeneous $\\|aA\\| = \\max_{\\|x\\|\\leq 1} \\|aAx\\| = |a|\\max_{\\|x\\|\\leq 1} \\|Ax\\| = |a|\\|A\\|$\n",
    "  - triangle inequality  \n",
    "  $\\|A+B\\| = \\max_{\\|x\\|\\leq 1} \\|(A+B)x\\| $  \n",
    "  $= \\max_{\\|x\\|\\leq 1} \\|Ax + Bx\\|$  \n",
    "  $\\leq \\max_{\\|x\\|\\leq 1} \\|Ax\\| + \\max_{\\|x\\|\\leq 1} \\|Bx\\|$ by tri-ineq of Euclidean norm  \n",
    "  $=\\|A\\| + \\|B\\|$\n",
    " "
   ]
  },
  {
   "cell_type": "markdown",
   "metadata": {},
   "source": [
    "2. Prove $S=\\{f\\in C([0,1]): \\forall x \\in [0,1]. f(x) > 0\\}$ is open wrt $\\|f\\|_{\\infty, [0,1]}:=sup_{x\\in[0,1]}|f(x)|$  \n",
    "_proof_. let $g\\in S$, WTS $B_\\delta(g):=\\{h\\in C([0,1]): \\|h-g\\|_\\infty < \\delta\\}\\subset S$.  \n",
    "By EVT on $[0,1]$ and since $g\\in C([0,1])$ is continuous,  \n",
    "take $\\delta>0$ s.t. $\\delta < \\min(g([0,1]))$   \n",
    "$\\|h-g\\|_\\infty = sup_{x\\in[0,1]}|h(x)-g(x)|< \\delta$  \n",
    "$\\Rightarrow \\forall x\\in[0,1].|h(x) -g(x)| < \\delta$  \n",
    "$\\Rightarrow -\\delta + g(x)< h(x)$  \n",
    "$\\Rightarrow h(x) > \\delta -\\delta = 0$\n"
   ]
  },
  {
   "cell_type": "markdown",
   "metadata": {},
   "source": [
    "3. $S=\\{f\\in C([0,1]): f(0)=0\\}$ is closed wrt $\\|f\\|_{\\infty, [0,1]}$  \n",
    "_proof_. Take $(g_n)\\subseteq S. \\|g_n - g\\|_{\\infty, [0,1]}\\rightarrow 0$  \n",
    "$|g(0)| \\leq |g(0) - g_n(0)|+ g_n(0)\\leq sup|g_n - g|+ 0 = 0\\Rightarrow g(0)=0$"
   ]
  },
  {
   "cell_type": "markdown",
   "metadata": {},
   "source": [
    "5. $S = \\{f\\in C^2([0,1]): f(x)>0.\\|f'\\|_\\infty < 1, |f''(0)| > 2\\}$   \n",
    "is open wrt to $\\|f\\|_{2,\\infty,[0,1]}:= sup_{x\\in[0,1]}|f(x)| + sup_{x\\in[0,1]}|f'(x)| + sup_{x\\in[0,1]}|f''(x)|$  \n",
    "_proof_. let $g\\in S$.   \n",
    "$sup_{x\\in[0,1]}|g(x)-h(x)| + sup_{x\\in[0,1]}|g'(x)-h'(x)| + sup_{x\\in[0,1]}|h''(x)-h''(x)| < \\delta$  \n",
    "$\\Rightarrow |g(x)-h(x)|<\\delta \\Rightarrow h(x)>g(x)-\\delta$  \n",
    "$\\Rightarrow |g'(x)-h'(x)|< \\delta \\Rightarrow h'(x) < g'(x) + \\delta$  \n",
    "$\\Rightarrow |g''(x) - h''(x)| < \\delta \\Rightarrow h''(0) > g''(x) - \\delta$  \n",
    "Therefore, we can pick a buffer $\\delta$"
   ]
  }
 ],
 "metadata": {
  "hide_input": false,
  "kernelspec": {
   "display_name": "Python 3",
   "language": "python",
   "name": "python3"
  },
  "language_info": {
   "codemirror_mode": {
    "name": "ipython",
    "version": 3
   },
   "file_extension": ".py",
   "mimetype": "text/x-python",
   "name": "python",
   "nbconvert_exporter": "python",
   "pygments_lexer": "ipython3",
   "version": "3.6.8"
  }
 },
 "nbformat": 4,
 "nbformat_minor": 2
}
