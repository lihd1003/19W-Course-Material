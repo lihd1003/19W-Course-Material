{
 "cells": [
  {
   "cell_type": "markdown",
   "metadata": {},
   "source": [
    "#### Inner Products Spaces"
   ]
  },
  {
   "cell_type": "markdown",
   "metadata": {},
   "source": [
    "An inner product $\\langle \\cdot, \\cdot\\rangle :V\\rightarrow \\mathbb R$ is a function that satisfies \n",
    "\n",
    "- __positive definite__ $\\langle x,x\\rangle > 0$ and $\\langle x,x\\rangle =0$ IFF $x\\equiv0$\n",
    "- __symmetry__ $\\langle x,y\\rangle =\\langle y,x\\rangle $\n",
    "- __bilinear__ $\\langle ax+cy,z\\rangle =a\\langle x,z\\rangle +c\\langle y,z\\rangle $"
   ]
  },
  {
   "cell_type": "markdown",
   "metadata": {},
   "source": [
    "__Example__ On $\\mathbb R^n, x\\cdot y = \\sum_1^n x_i y_i$  \n",
    "- $x\\cdot x =\\sum^n x_i^2 \\geq 0$\n",
    "- $x\\cdot y = \\sum x_i y_i = \\sum y_i x_i = y\\cdot x$\n",
    "- $(ax+cy)\\cdot z = \\sum (ax_i + cy_i) z_i = a\\sum x_i z_i + c\\sum y_i z_i = ax\\cdot z + cy\\cdot z$ "
   ]
  },
  {
   "cell_type": "markdown",
   "metadata": {},
   "source": [
    "__Example__ Let $A_{n\\times n}$ be a positive definite symmetric matrix, i.e. all its eigenvalues are strictly positive. Then $\\langle x\\cdot y\\rangle _A = x A y^T$ is an inner product on $\\mathbb R^n$\n",
    "\n",
    "Note that such $A$ can be diagonalized into $A=PDP^T$\n",
    " - $\\langle x,x\\rangle _A = xAx^T = xPDPx^T = vDv^T = \\sum v_k^2 \\lambda_k \\rangle  0$ (since $A$ is definite, $\\lambda_k \\rangle  0$)  \n",
    " $\\langle x,x\\rangle =0$ IFF $\\sum v_k^2 \\lambda_k = 0\\Rightarrow v_k = 0 \\Rightarrow xP = 0$, since $P$ is orthogonal, $x=0$"
   ]
  },
  {
   "cell_type": "markdown",
   "metadata": {},
   "source": [
    "__Lemma Cauchy Schwartz__ For $x,y\\in (V,\\langle ,\\rangle ), |\\langle x,y\\rangle |\\leq \\langle x,x\\rangle ^2\\langle y,y\\rangle ^2$  \n",
    "\n",
    "_proof_. By positive definite, for $t\\in\\mathbb R$, $\\langle x-ty, x-ty\\rangle  \\geq 0$.  \n",
    "Take $t = \\frac{\\langle x,y\\rangle }{y,y}$,  \n",
    "$\\langle x,x\\rangle  - 2t |\\langle x,y\\rangle | + t^2 \\langle y,y\\rangle  $  \n",
    "$= \\langle x,x\\rangle  - 2\\frac{\\langle x,y\\rangle ^2}{\\langle y,y\\rangle} + \\frac{\\langle x,y\\rangle ^2}{\\langle y,y\\rangle }$  \n",
    "$=\\langle x,x\\rangle  - \\frac{\\langle x,y\\rangle ^2}{\\langle x,y\\rangle } \\geq 0$  \n",
    "$\\Rightarrow \\langle x,y\\rangle ^2 \\leq \\langle x,x\\rangle \\langle y,y\\rangle $\n"
   ]
  },
  {
   "cell_type": "markdown",
   "metadata": {},
   "source": [
    "__Example__ Over $C[a,b]$, $\\langle f,g\\rangle _{L^2} = \\int_a^b f g dx$\n",
    " - $\\langle f,f\\rangle _{L^2} = \\int_a^b f^2 dx \\geq 0$  \n",
    "  $\\langle f,f\\rangle _{L^2}=0$ IFF $\\int_a^b |f|^2 dx = 0$ IFF $f(x)=0$ because $f$ is continuous  \n",
    "  Assume $f(x_0) \\rangle  0$, then by continuity, take $I_\\delta(x_0):=[x_0-\\delta, x_0+\\delta], \\forall x\\in I_\\delta(x_0). f(x) \\rangle  \\epsilon \\rangle  0$ so that $\\int_a^b |f|^2 dx \\rangle  \\int_{I_\\delta(x_0)} |f(x)|^2 dx \\rangle  \\epsilon^2 $ contradicts with $\\langle f,f\\rangle _{L^2}=0$ (other details to be filled)\n",
    " \n",
    " \n",
    " By Cauchy Schwartz inequality, $\\int fg\\leq \\sqrt{\\int f^2}\\sqrt{\\int g^2}$  \n",
    " $\\Rightarrow \\langle f,g\\rangle _{L^2} \\leq \\|f\\|_{L^2}\\|g\\|_{L^2}$  \n",
    " $\\Rightarrow f\\in L^2([a,b]) \\Rightarrow f\\in L^1([a,b])$\n",
    " \n",
    " Therefore, every inner product gives rise to a norm $\\|x\\|_v := \\sqrt{\\langle x,x\\rangle }$"
   ]
  },
  {
   "cell_type": "markdown",
   "metadata": {},
   "source": [
    "__Hilbert space__ a complete inner product space is called Hilbert space\n",
    "\n",
    "__Completeness over inner product space__ A inner product space is complete if every Cauchy sequence $x_n$ has a limit in the space. i.e.  \n",
    "$\\|x_n - x\\|_V^2 = \\langle x_n - x, x_n - x\\rangle \\rightarrow 0$\n",
    "\n",
    "$L^2([a,b]):= \\{f:[a,b]\\rightarrow \\mathbb R: \\int_a^b |f|^2 \\langle  \\infty\\}$"
   ]
  },
  {
   "cell_type": "markdown",
   "metadata": {},
   "source": [
    "__Remark__ The space $S:=(C[a,b], \\|\\cdot\\|_{L^2})$ is not complete, but $L^2([a,b])$ is the completion of $S$. which means taking any Cauchy sequence, then it has a limit in $L^2$. In another words, continuous functions can approximate any square integrable function in $L^2$-norm."
   ]
  },
  {
   "cell_type": "markdown",
   "metadata": {},
   "source": [
    "__Monotone Convergence Theorem__ Take nonnegative $f_n(x)\\geq 0$, if  \n",
    " - $f_1(x)\\leq f_2(x) \\leq ...$  \n",
    " - point-wise limit $f_n(x)\\rightarrow f(x)$ i.e. $|f_n(x)-f(x)|\\rightarrow 0$\n",
    "\n",
    "__Corollary__ By MCT, $\\lim \\int f_n = \\int \\lim f_n = \\int f$"
   ]
  },
  {
   "cell_type": "markdown",
   "metadata": {},
   "source": [
    "__Dominated/Integral Convergence Theorem__ If $\\{h_n\\}$ satisfy \n",
    " - $|h_n(x)|\\leq B(x)$, which $B$ is an integrable function\n",
    " - $h_n(x)\\rightarrow^{\\text{point-wise}} h(x)$\n",
    " \n",
    "Then, $\\lim \\int f_n = \\int \\lim f_n = \\int f$"
   ]
  },
  {
   "cell_type": "markdown",
   "metadata": {},
   "source": [
    "__Theorem__ The space $(L^2, \\|\\cdot\\|_{L^2})$ is complete\n",
    "\n",
    "_proof_. Take Cauchy sequence $f_n \\in L^2([a,b])$. By Cauchy, take subsequence $f_{n,k}$ s.t. $\\|f_{n,k} - f_{n,k+1}\\| \\leq 2^{-k}$.  \n",
    "Let $f(x):=f_{n,1}(x) + \\sum (f_{n, k+1} - f_{n,k}(x))$. WTS $f\\in L^2 (i)$, $f_{n,k}\\rightarrow^{L^2} f (ii)$.  \n",
    "Define $g:= |f_n,1| + \\sum|f_{n,k+1}- f_{n,k}| $, $S_M(g) = |f_n,1| + \\sum^M|f_{n,k+1}- f_{n,k}|$, then $f\\leq g, S_M(f) \\leq S_M(g)$  \n",
    "Apply MCT to $\\{S_M(g)\\}, 0\\leq |f_{n,1}| \\leq |f_{n,2}-f_{n,1}|\\leq ..., S_1(g) \\leq S_2(g) \\leq S_3(g)$  \n",
    "\n",
    "Then, WTS $S_M(g)\\rightarrow g(x)$, which suffices to show that the sequence $g$ converges, a.k.a. $g\\in L^2$  \n",
    "By triangle inequality $\\|S_M(g)\\|_{L^2} \\leq \\|f_{n,1}\\|_{}L^2 + \\sum^M \\|f_{n,k+1} - f_{n,k}\\| \\leq \\|f_{n,1}\\| + \\sum^M 2^{-k} \\langle  \\infty$\n",
    "\n",
    "$\\int |g^2| dx = \\int \\lim_{M\\rightarrow \\infty} |S_M(g)^2|dx$  \n",
    "$=\\lim_{n\\rightarrow\\infty} \\int |S_M(g)|^2 dx$ by MCT  \n",
    "$\\leq \\lim_{M\\rightarrow \\infty} \\|f_{n,1}\\| + \\sum^M 2^{-k} \\leq \\|f_{n,1}\\| + 2 \\langle  \\infty $\n",
    "\n",
    "We have Cauchy seuqnce $f_n \\in L^2$, WTS $\\|f_n -f\\|_{L^2}\\rightarrow 0$  \n",
    "(i) Since $|f|\\leq g$ and $g\\in L^2, \\int |f|^2 \\leq \\int |g|^2 \\langle \\infty\\Rightarrow f\\in L^2$  \n",
    "\n",
    "(ii) $\\|f_n - f\\|_{L^2}^2 = \\int |f_n - f|^2 dx\\rightarrow 0$  \n",
    "Let $h_k:=|f_{n,k}- f|^2$, then  \n",
    "$h_k \\leq |S_k(g)| + |g| \\leq 2|g|\\in L^2$  \n",
    "$f_{n,k}\\rightarrow^{\\text{point-wise}} f$ since $g\\in L^2$ so $\\lim_{k\\rightarrow \\infty} f_{n,k}(x)=f(x)$ exists  \n",
    "BY DCT, $\\lim_{k\\rightarrow \\infty} \\int |h_k|^2 = \\int \\lim_{k\\rightarrow \\infty} |h_k|^2 =0$,  \n",
    "Therefore, $f_{n,k}\\rightarrow^{L^2}f$\n",
    "\n",
    "Then, expansion $f_{n,k} $ to $f_n$. i.e. $f_n \\rightarrow^{L^2} f$.  \n",
    "By Cauchy sequence of $f_n$, if the sub-sequence converges to some limit, so that the whole sequence will do so. "
   ]
  },
  {
   "cell_type": "markdown",
   "metadata": {},
   "source": [
    "__Orthogonal__ Given $x,y\\ in (V,\\langle\\cdot, \\cdot\\rangle)$, x,y are orthogonal if $\\langle x,y\\rangle  = 0$  \n",
    "\n",
    "__Example__ $x\\circ y = cos(\\theta) |x||y|$, so when $\\theta = \\pi /2, x\\circ y = 0$"
   ]
  },
  {
   "cell_type": "markdown",
   "metadata": {},
   "source": [
    "__Orthonormal__ A collection of $\\{e_k\\}$ is called orthonormal if $\\langle e_k,e_m\\rangle  = 1\\mathbb I(k=m)$"
   ]
  },
  {
   "cell_type": "markdown",
   "metadata": {},
   "source": [
    "__Theorem__ Every Hilbert space has orthonormal basis, i.e. $\\forall x\\in H. x = \\sum^\\infty \\langle x,e_k\\rangle  e_k$"
   ]
  },
  {
   "cell_type": "markdown",
   "metadata": {},
   "source": [
    "__Example__ Take $e_k = (0,...,0,1,0)$ where $1$ is at $k$th position, $\\{e_k\\}$ is orthonormal set. \n",
    "\n",
    "_proof_. $e_k \\cdot e_m = \\sum^n (e_k)_i (e_m)_i = 1\\mathbb I(k=m)$"
   ]
  },
  {
   "cell_type": "markdown",
   "metadata": {},
   "source": [
    "__Example__ $\\{1, \\sqrt2\\cos(n\\theta), \\sqrt2\\sin(n\\theta)\\}$ is orthogonal for $(C([-\\pi, \\pi]), \\|\\cdot\\|_{L^2})$\n",
    "\n",
    "_proof_. $\\frac{\\sqrt2}{\\pi}\\int_{-\\pi}^\\pi \\cos(n\\theta)\\cos(k\\theta) = 1\\mathbb I(n=k)$ and  \n",
    "$\\frac{\\sqrt2}{\\pi}\\int_{-\\pi}^\\pi \\sin(n\\theta)\\sin(k\\theta) = 1\\mathbb I(n=k)$  and   \n",
    "$\\frac{\\sqrt2}{\\pi}\\int_{-\\pi}^\\pi \\sin(n\\theta)\\cos(k\\theta) = 0$"
   ]
  },
  {
   "cell_type": "markdown",
   "metadata": {},
   "source": [
    "__Fourier Series__ For function $f\\in L^2([a,b])$, the Fourier series is defined to be \n",
    "$$f(x):= a_0 + \\sum a_n \\frac{\\cos(n\\pi x)}{L} + b_n \\frac{\\sin(n\\pi x)}{L}$$ where\n",
    "$$a_n = \\langle f, \\frac{\\cos(n\\pi x)}{L})\\rangle _{L^2}, b_n = \\langle f, \\frac{\\sin(n\\pi x)}{L}\\rangle _{L^2}$$\n",
    "\n",
    "__Carleson Hunt Theorem__ If $f\\in L^2([-L,L])$, then $f$ equals its Fourier series _almost everywhere_.  \n",
    "_almost everywhere_ outside a measure zero set\n"
   ]
  }
 ],
 "metadata": {
  "hide_input": false,
  "kernelspec": {
   "display_name": "Python 3",
   "language": "python",
   "name": "python3"
  },
  "language_info": {
   "codemirror_mode": {
    "name": "ipython",
    "version": 3
   },
   "file_extension": ".py",
   "mimetype": "text/x-python",
   "name": "python",
   "nbconvert_exporter": "python",
   "pygments_lexer": "ipython3",
   "version": "3.7.3"
  }
 },
 "nbformat": 4,
 "nbformat_minor": 2
}
