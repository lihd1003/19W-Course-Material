{
 "cells": [
  {
   "cell_type": "markdown",
   "metadata": {},
   "source": [
    "### Cauchy sequence \n",
    "$\\forall \\epsilon > 0. \\exists N >0 .\\forall m,n \\geq N. |a_m - a_n| \\leq \\epsilon$\n",
    "\n",
    "Any convergent sequence is Cauchy  \n",
    "Every Cauchy sequence is bounded"
   ]
  },
  {
   "cell_type": "markdown",
   "metadata": {},
   "source": [
    "### Completeness\n",
    "__Metric space__ a space X plus a notion of distance\n",
    "\n",
    "__Complete__ a metric space $S$ is complete if Cauchy sequence in $S$ converges to some point in that space.\n"
   ]
  },
  {
   "cell_type": "markdown",
   "metadata": {},
   "source": [
    "__Claim__ (D\\&D 2.8.5) every Cauchy sequence of reals converges. i.e. $\\mathbb{R}$ is complete.  \n",
    "\n",
    "_proof_. Let $(x_n)\\in\\mathbb{R}$ be Cauchy and $x_n\\rightarrow L$. WTS $L\\in\\mathbb{R}$  \n",
    "\n",
    "We'll use diagonalization argument: For fixed $x_n\\in\\mathbb{R}, \\exists (r_{n,k})$ be rational Cauchy s.t. $\\lim_{k\\rightarrow\\infty}r_{n,k}=x_n$. \n",
    "Let $a_n$ be s.t. $|a_n - x_n|\\leq 1/n$ by choosing a candidate for each $n$. \n",
    "$\\Rightarrow |a_n-L|\\leq |a_n-x_n| + |x_n-L|\\leq 1/n + \\epsilon_n$  \n",
    "$\\Rightarrow \\lim_{n\\rightarrow\\infty} a_n = L \\in\\mathbb{R}$"
   ]
  },
  {
   "cell_type": "markdown",
   "metadata": {},
   "source": [
    "### Mean Value Theorem  \n",
    "$|f(x)-f(y)| = |f'(\\xi)||x-y|$ for $\\xi\\in(x,y)$"
   ]
  },
  {
   "cell_type": "markdown",
   "metadata": {},
   "source": [
    "__Example__ $a_1 = 1, a_{n+1} = cos(a_n)$ show that $a_n\\rightarrow L$.   \n",
    "_proof._ WTS $(a_n)$ is Cauchy  \n",
    "$|\\cos(a_{n - 1})-\\cos(a_n)|\\leq |\\sin(\\xi)||a_{n-1}-a_n|$ for $\\xi\\in(a_n,a_{n-1})$  \n",
    "$\\Rightarrow |a_n - a_{n+1}|\\leq r|a_{n-1}-a_n|$  \n",
    "$\\leq r^n|a_2 - a_1|$ by doing such recursively\n",
    "\n",
    "If $r < 1$, then $\\lim|a_n - a_{n-1}|=0$"
   ]
  },
  {
   "cell_type": "markdown",
   "metadata": {},
   "source": [
    "### Close and Open"
   ]
  },
  {
   "cell_type": "markdown",
   "metadata": {},
   "source": [
    "__Limit point__ For a sequence $(x_n)\\in\\mathbb{R}$, its limit point $x\\in\\mathbb{R}$ satisfies $\\lim_{n\\rightarrow\\infty}x_n = x$.  \n",
    "\n",
    "__Closed__ if it contains all its limit points\n",
    "\n",
    "__Example__ $\\mathbb{R}^n$ is closed because $\\mathbb{R}$ is complete \n",
    "\n",
    "__Claim__ Finite union of closed sets is closed  "
   ]
  },
  {
   "cell_type": "markdown",
   "metadata": {},
   "source": [
    "__Open__ if $\\forall x\\in U.\\exists r_{x,v}>0. B_r(x)\\subseteq U$\n",
    "\n",
    "$U$ open, $f$ continuous $\\Rightarrow f^{-1}(U)$ is open\n",
    "\n",
    "__Claim__ (D\\&D 4.3.8) $U$ open IFF $\\mathbb{R}-U\\rightarrow U^c$ is closed \n"
   ]
  },
  {
   "cell_type": "markdown",
   "metadata": {},
   "source": [
    "__Theorem__ finite intersection of open sets is open.  \n",
    "\n",
    "_proof_. $(\\cap^M U_i)^{c^c} = (\\cup^M U_i^c)^c$  \n",
    "Since $U_i$ open, $U_i^c$ closed, $\\cup^M U_i^c$ closed. "
   ]
  },
  {
   "cell_type": "markdown",
   "metadata": {},
   "source": [
    "### Compactness"
   ]
  },
  {
   "cell_type": "markdown",
   "metadata": {},
   "source": [
    "__Compact Defn 1__ $C\\subseteq\\mathbb{R}$ is compact if all sequence $\\{x_n\\}\\subseteq C$ has a converging subsequence $\\{x_{n_k}\\}\\subseteq C$  \n",
    "$\\forall \\{x_n\\}\\subseteq C. \\exists \\{x_{n_k}\\}\\subseteq \\{x_n\\}. x_{n_k}\\rightarrow x\\in C$\n",
    "\n",
    "__Compact Defn 2__ A set $C$ is compact if every open cover of $C$ has a finite subcover that covers $C$. \n",
    "\n",
    "__Open cover__ A collection of open balls $\\{U_a\\}_{a\\geq 1}$ is an open cover if $c\\subseteq \\cup^\\infty U_a$"
   ]
  },
  {
   "cell_type": "markdown",
   "metadata": {},
   "source": [
    "__Claim__  $[a,b]\\subseteq \\mathbb{R}$ is compact.  \n",
    "\n",
    "_proof_. By Bolzano Weierstrass Theorem. every bounded sequence has a convergent subsequence. Since $[a,b]$ closed, such limit falls in $[a,b]$. "
   ]
  },
  {
   "cell_type": "markdown",
   "metadata": {},
   "source": [
    "__Continuous mapping theorem__ For continous $f, x_n\\rightarrow x\\Rightarrow f(x_n)\\rightarrow f(x)$. \n",
    "\n",
    "__Corollary__ $f:U\\rightarrow V$, if $C\\subseteq U$ is compact, then $f(C)$ is also compact.  "
   ]
  },
  {
   "cell_type": "markdown",
   "metadata": {},
   "source": [
    "### Heine-Borel Theorem\n",
    "$C\\subseteq \\mathbb{R}$ is compact IFF closed and bounded. \n",
    "\n",
    "__Claim 1__ compact $\\Rightarrow$ bounded\n",
    "\n",
    "_proof_. Suppose compact but not bounded. Then take $\\{x_n\\}\\subset C$, wlop, $x_n\\rightarrow \\infty$. Then, we can take a monotone increasing subsequence $y_n$ of $x_n$. Then by compactness, take $y_{n_k}\\rightarrow y\\in C$. But a monotone divergent sequence cannot have convergent subsequence. \n",
    "\n",
    "__Claim 2__ compact $\\Rightarrow$ closed  \n",
    "\n",
    "_proof_. Let $\\{x_n\\}\\subseteq C. x_n\\rightarrow x$, WTS $x\\in C$.  \n",
    "By compactness, take $\\{x_{n_k}\\}\\rightarrow L$. We can show that \n",
    "$|x-L| = |x - x_{n_k} + x_{n_k} - L| \\leq |x - x_{n_k}| + |x_{n_k} - L| \\rightarrow 0$\n",
    "\n",
    "__Claim 3__ closed & bounded $\\Rightarrow$ compact  \n",
    "\n",
    "_proof_. Let $\\{x_n\\}\\subseteq C$. Since bounded, by BWT, take $\\{x_{n_k}\\}$ where $x_{n_k}\\rightarrow L\\in\\mathbb{R}$.  \n",
    "Since $C$ closed, its limit point is in $C$. "
   ]
  },
  {
   "cell_type": "markdown",
   "metadata": {},
   "source": [
    "### Extreme value theorem\n",
    "\n",
    "If a function $f:K\\rightarrow R$ is continous and $K$ is compact, then $f(K)$ is compact and $\\exists a,b\\in K. \\forall k\\in K. f(a)\\leq f(k)\\leq f(b)$\n",
    "\n",
    "__Part1__ $f(K)$ compact  \n",
    "_proof_. Let $(y_k)\\subseteq f(K)$, take $(x_k)\\subseteq K s.t. f(x_k)=y_k$. By compactness of $K$, take $(x_{k_n})\\subseteq (x_k)$ and $x_k\\rightarrow x\\in K.$ Then by continuous mapping theorem, $f(x_{k_n})\\rightarrow f(x)\\in f(K)$\n",
    "\n",
    "__Part2__ $f(K)$ has max and min  \n",
    "_proof_. By compactness and least bound principle, take $M,m$ be the supremum and infimum of $f(X)$. WTS thats contained in $f(K)$.  \n",
    "Construct a sequence $(d_n)\\subset K$ s.t. $M-\\frac{1}{n}\\leq f(d_n)\\leq M$ (since M is the supremum we can do such construction).  \n",
    "Since $K$ is compact, by Bolz. Weis. Theorem, take $(d_{n_k})\\subseteq (d_n), d_{n_k}\\rightarrow d$ is convergent. \n",
    "\n",
    "Then by squeeze theorem, $M-\\frac{1}{n}\\leq f(d_{n_k})\\leq M$ is squeezed by $M$, $\\lim f(d_{n_k}) = f(\\lim f(d_{n_k})) = M$. By compactness of $f(K), M\\in f(K)$."
   ]
  },
  {
   "cell_type": "markdown",
   "metadata": {},
   "source": [
    "__Example__ $f$ continuous on $[a,b]\\subseteq \\mathbb{R}$ has no local extremum, then $f$ is monotone.  \n",
    "__local maxmimum/minimum__ $x_0$ is local max/min if $\\exists \\epsilon > 0. \\forall x\\in [x_0-\\epsilon, x_0+\\epsilon], f(x)\\leq | \\geq f(x_0)$.\n",
    "\n"
   ]
  },
  {
   "cell_type": "markdown",
   "metadata": {},
   "source": [
    "### Uniform Continuilty \n",
    "$f:S\\rightarrow R$ is uniformly continuous if $\\forall \\epsilon > 0. \\exists \\delta > 0. \\forall x,y. |x-y|\\leq \\delta \\Rightarrow |f(x)-f(y)|<\\epsilon$"
   ]
  },
  {
   "cell_type": "markdown",
   "metadata": {},
   "source": [
    "__Sequential criterion__ A function $f:S\\rightarrow R$ is not uniform continuous if $\\exists (x_n), (y_n)\\subseteq S$ s.t. $|x_n - y_n|\\rightarrow 0$ but $\\exists \\epsilon_0 >0 s.t. |f(x_n)-f(y_n)|\\geq \\epsilon_0 > 0$\n",
    "\n",
    "_proof_. negation of the uniform continuous definition \n",
    "\n",
    "__Example__ $f(x):=x^2$  \n",
    "Let $x_n = n + n^{-1}, y_n = n$. Then $|x_n-y_n|= n^{-1}\\rightarrow 0$, but $|(n+n^{-1})^2 - n^2| = |-2|+n^{-2}\\rightarrow 2 > 0$"
   ]
  },
  {
   "cell_type": "markdown",
   "metadata": {},
   "source": [
    "__$\\alpha$-Holder__ $f:S\\rightarrow R$ is a-Holder if $|f(x)-f(y)|\\leq c |x-y|^\\alpha, \\alpha\\in[0,1]. \\forall x,y\\in S$.  \n",
    "\n",
    "__Example__ $f(x)=x^p, p\\in(0,1)$ is call p-Holder and is uniform continuous.  \n",
    "\n",
    "_proof_. Let $\\epsilon > 0$, take $\\delta = (\\epsilon / c)^{a^{-1}} < 1$ because $\\alpha \\leq 1$  \n",
    "$|f(x)-f(y)|\\leq c|x-y|^\\alpha \\leq c\\delta^\\alpha =\\epsilon$\n",
    "\n",
    "When $\\alpha = 1, i.e. |f(x)-f(y)|\\leq c|x-y|$, they are called Lipschitz.\n",
    "\n",
    "__Example__ Any differentiable functions are Lipschitz (bounded derivative)  \n",
    "\n",
    "_proof_. by MVT, $|f(x)-f(y)| = |f'(c)||x-y|\\leq B|x-y|$"
   ]
  },
  {
   "cell_type": "markdown",
   "metadata": {},
   "source": [
    "### Heine-Cantar Theorem \n",
    "if $K$ compact, and $f:K\\rightarrow R$ is continuous, then $f$ is also uniform continuous.  \n",
    "\n",
    "_proof_. Suppose $f$ is not uniform continuous  \n",
    "Take $(x_n), (y_n)$ and for $\\epsilon > 0$ s.t. $|x_n - y_n|\\leq 1/n$ but $|f(x_n)-f(y_n)|\\geq \\epsilon > 0$. By $K$ compact, take $(x_{n_k})\\rightarrow x\\in K$。  \n",
    "However, $|y_{n_k}-x|\\leq |y_{n_k}-x_{n_k}| + |x_{n_k}-x| \\leq n_k^{-1} + \\epsilon_k \\rightarrow 0$ i.e. $y_{n_k}\\rightarrow x$  \n",
    "$\\forall n_k > N_{\\epsilon_0/4}|f(x_n)-f(y_n)|\\leq |f(x_n)-f(x)| + |f(x)-f(y)| \\leq \\epsilon_0/2$ causes contradiction"
   ]
  },
  {
   "cell_type": "markdown",
   "metadata": {},
   "source": [
    "### Intermediate value theorem\n",
    "If $f:[a,b]\\rightarrow \\mathbb{R}$ is continuous and $z\\in\\mathbb{R}$ satisfy $f(a)\\leq z\\leq f(b)$, then $\\exists c \\in [a,b]$ s.t. $f(c)=z$. \n",
    "\n",
    "_proof_. Let $A = \\{x\\in[a,b]: f(x) < z\\}$, then $A$ is upper bounded. Then, take $c = sup(A)$.\n",
    "\n",
    "$\\forall \\epsilon_n = n^{-1}$, take $a_n \\in A$ s.t. $c - n^{-1} \\leq a_n \\leq c$ and  $f(a_n)\\leq z$ so $f(c) = \\lim_{n\\rightarrow \\infty} f(a_n)\\leq z$ (1).  \n",
    "Explicitly assume $c < b$ (otherwise we've done), then take $\\exists b_n$ s.t. $c < b_n \\leq b, \\lim_\\infty b_n =c$.  \n",
    "Since $z$ is upper bound for $A, b_n\\not\\in A, f(b_n)\\leq z$ (2). \n",
    "By (1)(2) $f(c)=z$"
   ]
  },
  {
   "cell_type": "markdown",
   "metadata": {},
   "source": [
    "### Connected \n",
    "__Disconnected__ $A\\subseteq \\mathbb{R}$ is disconnected $U,V$ open cover s.t. $A = U\\sqcup V$  \n",
    "__Connected__ $A$ is connected if $\\forall U,V. A\\neq U\\sqcup V$  \n",
    "__Path connected__ of $\\forall a,b \\in A. \\exists \\gamma:[0,1]\\rightarrow A$ be a continuous path i.e. $\\gamma(0)=a, \\gamma(1)=b, \\gamma([0,1])\\subseteq A$  "
   ]
  }
 ],
 "metadata": {
  "hide_input": false,
  "kernelspec": {
   "display_name": "Python 3",
   "language": "python",
   "name": "python3"
  },
  "language_info": {
   "codemirror_mode": {
    "name": "ipython",
    "version": 3
   },
   "file_extension": ".py",
   "mimetype": "text/x-python",
   "name": "python",
   "nbconvert_exporter": "python",
   "pygments_lexer": "ipython3",
   "version": "3.7.3"
  }
 },
 "nbformat": 4,
 "nbformat_minor": 2
}
