{
 "cells": [
  {
   "cell_type": "markdown",
   "metadata": {},
   "source": [
    "__Monotonic__ A sequence $(a_n)$ is (strictly) monotone increasing is $a_n\\leq a_{n+1}(a_n<a_{n+1}), \\forall n\\geq 1$. "
   ]
  },
  {
   "cell_type": "markdown",
   "metadata": {},
   "source": [
    "__Monotone Convergence Theorem__  \n",
    "Monotone increasing and bounded above $\\Rightarrow$ converges to supremum. \n",
    "\n",
    "WTS $\\lim_{n\\rightarrow\\infty}a_n = \\inf(a_n)$. i.e.  \n",
    "$\\forall \\epsilon. \\exists N. \\forall n \\geq N. |a_n - L| \\leq \\epsilon$\n",
    "\n",
    "_proof._  Let $L=\\inf(a_n)$. Let $\\epsilon > 0$, take $a_N \\in (a_n)$ s.t. $L-\\epsilon < a_N$. Then $L-\\epsilon < a_N \\leq a_n \\leq L$ for all $n\\geq N. \\Rightarrow \\forall n\\geq N. |a_n-L|<\\epsilon$"
   ]
  },
  {
   "cell_type": "markdown",
   "metadata": {},
   "source": [
    "__Corollary__ consider closed, non-empty nested intervals $I_n\\supseteq I_{n+1}\\supseteq I_{n+2}...$, then then $\\cap^\\infty_n I_n\\neq \\emptyset$\n",
    "\n",
    "_proof._ Let $I_n=[a_n,b_n]$, then we have two monotone sequence $(a_n)$ is increasing, $(b_n)$ is decreasing. Then, $\\forall k\\geq 1. a_k \\leq \\lim_\\infty a_n\\leq \\lim_\\infty b_n \\leq b_k$\n",
    "\n",
    "Then, we can show $\\Rightarrow [lim_\\infty a_n, \\lim_\\infty b_n]=[\\sup(a_n),\\inf(b_n)]\\subseteq \\cap_{n\\geq 1} I_n$"
   ]
  },
  {
   "cell_type": "markdown",
   "metadata": {},
   "source": [
    "__Example 2.6.B__ Let $a_1 = 0, a_{n+1}=\\sqrt{5 + a_n}$, find whether it's convergent and if convergent what's the limit. \n",
    "\n",
    "__Monotone__ $a_{n+1}\\geq a_n$  \n",
    "_proof_  \n",
    "$a_2 = \\sqrt 5 > 0 = a_1$  \n",
    "$a_{n+1} = \\sqrt{5 + a_n} > \\sqrt{5 + a_{n-1}}=a_n$\n",
    "\n",
    "__Bounded above__ \n",
    "$a^2_{n+1} =5 + a_n < 5 + a_{n+1}$. Let $x = a_{n+1}\\Rightarrow x^2 < 5 + x\\Rightarrow x^2 -x -5 < 0$.  \n",
    "$x\\in [\\frac{1-\\sqrt{21}}{2}, \\frac{1+\\sqrt{21}}{2}]\\Rightarrow a_{n+1}=x$ is bounded above.  \n",
    "but in fact, $L = \\lim\\sqrt{5 + a_{n-1}}=\\sqrt{5+L} \\Rightarrow L^2 = L - 5$. solve and take $L > 0$ since monotone increasing, then $L=\\frac{1+\\sqrt{21}}{2}$"
   ]
  },
  {
   "cell_type": "markdown",
   "metadata": {},
   "source": [
    "__Example 2.6.I__ Let $(a_n)$ be bounded, define $\\lim\\sup a_n = b_n = \\sup\\{a_k: k\\geq n\\}$ for $n\\geq 1$. Prove that $(b_n)$ converges. \n",
    "\n",
    "__Monotone__ $b_n\\leq b_{n+1}$  \n",
    "since $b_n = \\max(a_n, \\sup\\{a_k: k\\geq n+1\\})=\\max(a_n,b_{n+1})\\geq b_{n+1}$\n",
    "\n",
    "__Bounded below__ $\\forall n \\geq 1. a_n\\geq M, b_n = \\sup(a_k:k\\geq n )\\geq M$\n",
    "\n",
    "$$\\exists L<\\infty.  \\lim b_n = \\lim_{n\\rightarrow\\infty}\\sup_{k\\geq n} a_nL$$.\n",
    "\n",
    "__Remark__ $L_u = \\lim\\sup a_k \\geq \\lim\\inf a_k = L_l$, if $L_u = L_l = L\\Rightarrow \\lim a_k = L$\n"
   ]
  },
  {
   "cell_type": "markdown",
   "metadata": {},
   "source": [
    "__Subsequence__ a subsequence of $(a_n)$ is a sequence $(a_{n_k})$ where $n_1<n_2<...$\n"
   ]
  },
  {
   "cell_type": "markdown",
   "metadata": {},
   "source": [
    "__Bolzano-Weierstrass Theorem 2.7.2.__ Every bounded sequence of real numbers has a convergent subsequence\n",
    "\n",
    "_proof._ Let $(a_n)\\subseteq [-M, M]$.  \n",
    "Construct the subsequence by \n",
    "- picking $I_1\\subset [-M,M]$ that contains infinitely many $a_n$ s.t. $|I_1|\\leq M/2$\n",
    "- ...\n",
    "- picking $I_n\\subset I_{n-1}$ that contains infinitely many $a_n$ s.t. $|I_n| \\leq |I_{n-1}|/2 \\leq M/2^n$. \n",
    "\n",
    "By Nested interval lemma, $\\cap_{n\\geq 1}I_n \\neq\\emptyset$, take $L\\in \\cap I_n$. \n",
    "\n",
    "Pick $a_n\\in I_n, \\forall n \\geq 1$ Since $L\\in I_n\\Rightarrow |a_n - L|\\leq |I_n|<M/2^n$. \n",
    "\n",
    "Then $\\forall \\epsilon > 0$, take $N_\\epsilon$ s.t. $\\epsilon > M/2^{N_\\epsilon} > |a_{N_\\epsilon} - L|$  \n",
    "but $|a_n - L | \\leq |I_n|\\leq |I_{N_\\epsilon}| / 2^{n-N_\\epsilon}, \\forall n\\geq N_\\epsilon$\n",
    "\n",
    "$\\epsilon > M / 2^{N_\\epsilon} > |a_n - L|. \\forall n\\geq N_\\epsilon\\Rightarrow \\lim{a_n} = L$"
   ]
  },
  {
   "cell_type": "markdown",
   "metadata": {},
   "source": [
    "__Example 2.7.I. Cantor diagonalization__ Suppose $(x_n)\\subset \\mathbb{R}$, and that $L_k$ are real numbers with $\\lim_{k\\rightarrow\\infty} = L$. If for each $k\\geq 1$, there is a subsequence of $(x_n)$ converging to $L_k$, show that some subsequence converges to $L$. \n",
    "\n",
    "__Claim.__ the sequence $(x_{1n})$ is eventually bounded.  \n",
    "\n",
    "Taking $\\epsilon = 1$, using limit definition. $\\min(-M_{N_\\epsilon}, L_1 - 1)\\leq x_{1n}\\leq \\max(M_{N_\\epsilon}, 1+ L_1)$\n",
    "\n",
    "So for sequence $(x_{k_n})$ and $x_{k_n}\\rightarrow L_k$, you can pick $x_{m_{k_n}}$ s.t. $|x_{m_{k_n}} - L_k|\\leq 1/k$, then we can prove\n"
   ]
  },
  {
   "cell_type": "markdown",
   "metadata": {},
   "source": [
    "## TH"
   ]
  },
  {
   "cell_type": "markdown",
   "metadata": {},
   "source": [
    "#### Cauchy sequence \n",
    "$\\forall \\epsilon > 0. \\exists N >0 .\\forall m,n \\geq N. |a_m - a_n| \\leq \\epsilon$\n",
    "\n",
    "Any convergent sequence is Cauchy \n",
    "\n",
    "Every Cauchy sequence is bounded"
   ]
  },
  {
   "cell_type": "markdown",
   "metadata": {},
   "source": [
    "### Construction of reals"
   ]
  },
  {
   "cell_type": "markdown",
   "metadata": {},
   "source": [
    "Consider the space of Cauchy sequence $C_Q = \\{(y_n): y_n\\in \\mathbb{Q}\\}$  \n",
    "\n",
    "$x_n, y_n$ Cauchy  THEN\n",
    "__Proposition 1__ $x_n + y_n$ Cauchy.   \n",
    "_proof._ Let $\\epsilon > 0, N_\\epsilon = max(N^x_{\\epsilon/2}, N^y_{\\epsilon/2})$\n",
    "\n",
    "__Proposition 2__ $x_ny_n$ Cauchy  \n",
    "_proof._  \n",
    "$|x_ny_n - x_my_m| = |x_ny_m - x_my_n + x_my_n - x_my_m|$  \n",
    "$\\leq |y_n(x_n-x_m)| + |x_m(y_n - y_m)|$  \n",
    "$\\leq B_2|x_n - x_m|  B_1|y_n - y_m|$ since Cauchy sequences are bounded  \n",
    "Want this to be less than $\\epsilon > 0$\n",
    "Therefore, take $|x_n - x_m| \\leq \\epsilon / 2B_2, |y_n - y_m|\\leq \\epsilon/2B_1$\n",
    "\n",
    "__Proposition 3__ Additive identity $r_0=(0,0,0,...)$, multiplicative identity $r_1 = (1,1,1,...)$  \n",
    "$a+r_o = \\{a_1 + 0, a_2 + 0,...\\}=\\{a_n\\} = a$  \n",
    "$ar_1 = \\{a_11, a_21,...\\} = \\{a_n\\} = a$  \n",
    "\n",
    "\n"
   ]
  },
  {
   "cell_type": "markdown",
   "metadata": {},
   "source": [
    "__Equivalence Class__\n",
    "$(x_n)\\sim (y_n)$ IFF $\\lim_{n\\rightarrow \\infty}|x_n -y_n| = 0$  \n",
    "\n",
    "__Example__ $x_n = 1/n, y_n = 0$  \n",
    "__Example__ Let $\\pi=p_0.p_1p_2...$, take $x_n = p_0.p_1...p_n, y_n = p_0.p_1...p_n1 = x_n + 10^{-(n+1)}$. \n",
    "\n",
    "Let $\\mathbb{R}:=$equivalence class on $C_Q$, so for any $x\\in\\mathbb{R}$ you can find a Cauchy sequence $(x_n)$ in $\\mathbb{Q}$ s.t. $\\lim_{n\\rightarrow\\infty}|x_n - x| = 0$"
   ]
  },
  {
   "cell_type": "markdown",
   "metadata": {},
   "source": [
    "### Completeness"
   ]
  },
  {
   "cell_type": "markdown",
   "metadata": {},
   "source": [
    "__Metric space__ a space X plus a notion of distance\n",
    "\n",
    "__Complete__ a metric space $S$ is complete if Cauchy sequence in $S$ converges to some point in that space.\n",
    "\n"
   ]
  },
  {
   "cell_type": "markdown",
   "metadata": {},
   "source": [
    "__Theorem 2.8.5__ every Cauchy sequence of reals converges. i.e. $\\mathbb{R}$ is complete.  \n",
    "\n",
    "_proof._ Let $(x_n)\\in\\mathbb{R}$ be Cauchy and $x_n\\rightarrow L$. WTS $L\\in\\mathbb{R}$  \n",
    "\n",
    "We'll use diagonalization argument: For fixed $x_n\\in\\mathbb{R}, \\exists (r_{n,k})$ be rational Cauchy s.t. $\\lim_{k\\rightarrow\\infty}r_{n,k}=x_n$. \n",
    "Let $a_n$ be s.t. $|a_n - x_n|\\leq 1/n$ by choosing a candidate for each $n$. \n",
    "$\\Rightarrow |a_n-L|\\leq |a_n-x_n| + |x_n-L|\\leq 1/n + \\epsilon_n$  \n",
    "$\\Rightarrow \\lim_{n\\rightarrow\\infty} a_n = L \\in\\mathbb{R}$"
   ]
  },
  {
   "cell_type": "markdown",
   "metadata": {},
   "source": [
    "__MVT__ $|f(x)-f(y)| = |f'(\\xi)||x-y|$ for $\\xi\\in(x,y)$"
   ]
  },
  {
   "cell_type": "markdown",
   "metadata": {},
   "source": [
    "__Example__ $a_1 = 1, a_{n+1} = cos(a_n)$ show that $a_n\\rightarrow L$.   \n",
    "_proof._ WTS $(a_n)$ is Cauchy  \n",
    "$|\\cos(a_n - 1)-\\cos(a_n)\\leq |\\sin(\\xi)||a_{n-1}-a_n|$ for $\\xi\\in(a_n,a_{n-1})$  \n",
    "$\\Rightarrow |a_n - a_{n+1}|\\leq r|a_{n-1}-a_n|$  \n",
    "$\\leq r^n|a_2 - a_1|$ by doing such recursively\n",
    "\n",
    "If $r < 1$, then $\\lim|a_n - a_{n-1}|=0$"
   ]
  }
 ],
 "metadata": {
  "hide_input": false,
  "kernelspec": {
   "display_name": "Python 3",
   "language": "python",
   "name": "python3"
  },
  "language_info": {
   "codemirror_mode": {
    "name": "ipython",
    "version": 3
   },
   "file_extension": ".py",
   "mimetype": "text/x-python",
   "name": "python",
   "nbconvert_exporter": "python",
   "pygments_lexer": "ipython3",
   "version": "3.7.3"
  }
 },
 "nbformat": 4,
 "nbformat_minor": 2
}
