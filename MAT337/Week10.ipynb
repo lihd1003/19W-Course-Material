{
 "cells": [
  {
   "cell_type": "markdown",
   "metadata": {},
   "source": [
    "#### Series\n",
    "__Claim__ For $S_n(x)= \\sum_{k=1}^n a_k(x)$, $(S_n,\\|\\cdot\\|_\\infty)$ Cacuhy IFF $S_n \\rightarrow^{u.c.}S$  \n",
    "_proof_. $\\Rightarrow$  \n",
    "Find $S(x)$ s.t. $S_k(x)\\rightarrow^{p.w.}S(x)$.  \n",
    "\\begin{align*}\n",
    "|S_k(x)-S(x)| &\\leq |S_k(x)-s_n(x)| + |s_n(x)-S(x)| \\\\\n",
    "&\\leq \\epsilon + |S_n(x)-S(x)| &\\text{by p.w. convergence} \\\\\n",
    "&\\leq \\epsilon + \\sup_{x\\in\\mathbb{R}} |S_n(x)-S(x)|\\\\\n",
    "\\end{align*}\n",
    "Apply limit on $n\\rightarrow\\infty$, since $n$ is independent on $k$, \n",
    "$|S_k(x)-S(x)|\\leq \\epsilon + \\lim_{n\\rightarrow\\infty}\\sup_{x\\in\\mathbb{R}} |S_n(x)-S(x)| = \\epsilon + 0\\Rightarrow \\|S_k-S\\|_\\infty \\leq \\epsilon$"
   ]
  },
  {
   "cell_type": "markdown",
   "metadata": {},
   "source": [
    "__Example__ $S_n :=\\sum_{k=1}^n \\frac{x^k}{k!}\\rightarrow^{u.c.}\\sum^\\infty \\frac{x^k}{k!},x\\in [-R,R]$  \n",
    "\\begin{align*}\n",
    "\\|S_k - S_n\\|_\\infty &= \\sup_{|x|\\leq R} |\\sum^{n+m}\\frac{x^k}{k!} - \\sum^n \\frac{x^k}{k!}| \\\\\n",
    "&= \\sup|\\sum_{n+1}^{n+m}\\frac{x^k}{k!}| \\\\\n",
    "&\\leq \\sum \\frac{R^k}{k!} = e^R - \\sum^n \\frac{R^k}{k!}\\rightarrow 0\n",
    "\\end{align*}"
   ]
  },
  {
   "cell_type": "markdown",
   "metadata": {},
   "source": [
    "__Example__ $S_n = \\sum^n \\frac{x^2}{k(k+x^2)}, x\\in \\mathbb R$  \n",
    "_proof_. $S_n\\rightarrow^{p.w.}S$ but $S_n \\not\\rightarrow^{u.c.}S$  \n",
    "Fix $x_0$, $S_n \\leq x^2 \\sum_{k=1}^n k^{-2} \\leq x^2\\pi^2/6 < \\infty$\n",
    "\n",
    "\\begin{align*}\n",
    "\\|S_n-S\\|_\\infty &= \\|\\sum_{k\\geq n}\\frac{x^2}{k(k+x^2)}\\|_\\infty \\\\\n",
    "&= \\sup_{x\\in\\mathbb R}|\\sum_{k\\geq n}\\frac{x^2}{k(k+x^2)}| \\\\\n",
    "&\\geq \\sup_{|x|\\leq N}|\\sum_{k\\geq n} \\frac{1}{k}\\frac{x^2}{k+x^2}|\\\\\n",
    "\\text{take N large so that }\\frac{x^2}{k+x^2}&\\geq 1-\\epsilon \\text{ and k is fixed} \\\\\n",
    "&\\geq \\sum_{k\\geq n}\\frac{1-\\epsilon}{k} = \\infty\n",
    "\\end{align*}"
   ]
  },
  {
   "cell_type": "markdown",
   "metadata": {},
   "source": [
    "__M-Test__ For $S_n(x) = \\sum_{k=1}^n a_k(x), \\|a_k\\|_\\infty \\leq M_k \\land \\sum M_k < \\infty \\Rightarrow S_n \\rightarrow^{u.c.}S < \\infty$.  \n",
    "_proof_. We'll show Cauchy so that uniform convergent.  \n",
    "\\begin{align*}\n",
    "\\|S_n - S_{n+m}\\|_\\infty &= \\sup|\\sum_{n+1}^{n+m}a_k(x)| \\\\ \n",
    "&\\leq \\sum_{n+1}^{n+m} \\sup|a_k(x)| \\\\\n",
    "&\\leq \\sum_{n+1}^{n+m} M_k < \\epsilon \\text{ for N large}\n",
    "\\end{align*}"
   ]
  },
  {
   "cell_type": "markdown",
   "metadata": {},
   "source": [
    "__Example__ $S_n = \\sum_{k=1}^n (-x^2)^k\\rightarrow^{u.c.}S, x\\in [-r,r]\\subset (-1,1)$ but not for $x\\in(-1,1)$  \n",
    "_proof_. For $x\\in [-r,r]$.  \n",
    "$$\\|(-x^2)^k\\| \\leq r^{2k} =:M_k$$\n",
    "Since $\\sum^\\infty r^{2k} = (1-r^2)^{-1}-1 < \\infty$, apply M-test, $S_n\\rightarrow^{u.c.}S$\n",
    "\n",
    "However, take $x\\in(-1,1)$\n",
    "\\begin{align*}\n",
    "\\|S_n - S_{m+n}\\|_\\infty &= \\sup_{x\\in(-1,1)}|\\sum_n^{n+m}(-x^2)^k| \\\\\n",
    "\\text{take }x_0 = 0.5^{1/2N} &\\in (-1,1) \\text{ and }n + m\\leq N \\\\\n",
    "&\\geq |\\sum_n^{n+m} (-1)^k 0.5^{k/N}| \\\\\n",
    "&= |0.5^{n/N} + (-1)^{n+1}0.5^{\\frac{n+1}{N}}| \\\\\n",
    "&\\sim 0.5^{n/N} &\\text{ for N large} \\\\\n",
    "&> \\epsilon &\\text{since }N\\rightarrow\\infty, 0.5^{n/N}\\rightarrow 1\n",
    "\\end{align*}\n",
    "\n",
    "Alternatively, take $\\lim_{N\\rightarrow\\infty} = |-1+1-1+1...| = 1$ when $n+m$ is odd"
   ]
  },
  {
   "cell_type": "markdown",
   "metadata": {},
   "source": [
    "__Example__ For the series for $\\arctan(x)$\n",
    "\\begin{align*}\n",
    "\\arctan(x) &= \\int_0^x \\frac{1}{1+t^2}dt \\\\\n",
    "&= \\int_0^x \\sum (-t^2)^k dt &|x|<1 \\\\\n",
    "&= \\sum \\int_0^x (-t^2)^k dt &\\text{ICT} \\\\\n",
    "&= \\sum (-1)^k (\\frac{t^{2k+1}}{2k+1}\\Big|_0^x) \\\\\n",
    "&= \\sum (-1)^k (\\frac{x^{2k+1}}{2k+1})\n",
    "\\end{align*}"
   ]
  },
  {
   "cell_type": "markdown",
   "metadata": {},
   "source": [
    "$\\arctan(1)$ is defined and $\\arctan(1) = \\pi/4$  \n",
    "\n",
    "if $a_k \\geq a_{k+1} > 0, |\\sum^\\infty a_k(-1)^k| \\leq a_n$  \n",
    "\n",
    "_proof_. \n",
    "\\begin{align*}\n",
    "\\sup_{x\\in[-1,1]}|S_n(x)-S(x)| &= \\sup_{|x|\\leq 1}|\\sum^\\infty_n (-1)^k \\frac{x^{2k+1}}{2k+1}| \\\\\n",
    "&= \\sup_{|x|\\leq 1} |\\frac{x^{2n+1}}{2n+1}(-1)^n)|&\\text{since }\\frac{x^{2k+1}}{2k+1} \\text{ decreasing} \\\\\n",
    "&= \\frac{1}{2n+1} \\leq \\epsilon\n",
    "\\end{align*}"
   ]
  }
 ],
 "metadata": {
  "hide_input": false,
  "kernelspec": {
   "display_name": "Python 3",
   "language": "python",
   "name": "python3"
  },
  "language_info": {
   "codemirror_mode": {
    "name": "ipython",
    "version": 3
   },
   "file_extension": ".py",
   "mimetype": "text/x-python",
   "name": "python",
   "nbconvert_exporter": "python",
   "pygments_lexer": "ipython3",
   "version": "3.7.3"
  }
 },
 "nbformat": 4,
 "nbformat_minor": 2
}
