{
 "cells": [
  {
   "cell_type": "markdown",
   "metadata": {},
   "source": [
    "#### Taylor Series\n",
    "$f\\in C^n(\\mathbb R)$, then $P_{n,a}(x):= \\sum_{i=0}^n \\frac{f^{(i)}(a)(x-a)^i}{i!}$ is the Taylor polynomial around $a$\n",
    "\n",
    "__Taylor Form remainder__ $f\\in C^n(\\mathbb R)$ and $f^{(n+1)}$ exists, then $f(x) = P_{n,a}(x) + \\frac{f^{(n+1)}(c)}{(n+1)!}(x-a)^{n+1}, c\\in [a,x]$\n",
    "\n",
    "__Claim__. Taylor polynomial is unique  \n",
    "_proof_. Suppose $f(x) = \\sum a_k(x-a)^k + \\epsilon_1(x-a)^n = \\sum b_k(x-a)^k + \\epsilon_2(x-a)$,  \n",
    "then $\\sum(a_k-b_k)(x-a)^k + (\\epsilon_1-\\epsilon_2)(x-a)^n = 0$,  \n",
    "by independence of the system of equations, $a_n = b_n, \\epsilon_1 = \\epsilon_2$\n",
    "\n",
    "__Claim__. For $x,a\\in [-R,R], P_{a,n}\\rightarrow^{u.c.}f$  \n",
    "_proof_. \\begin{align*}\n",
    "\\|f(x)-P_{a,n}(x)\\| &\\leq \\frac{|f^{(n+1)(c)}|}{(n+1)!}|x-a|^{n+1}\\\\\n",
    "&\\leq \\frac{|f^{(n+1)(c)}|}{(n+1)!}|2R|^{n+1} \\\\\n",
    "&\\leq \\frac{M}{(n+1)!}(2R)^{n+1} &\\text{by EVT}\\\\\n",
    "&\\leq \\frac{M}{n^ne^{-n}\\sqrt{2\\pi n}}(2R)^{n+1} &\\text{Stirling's formula}\\\\\n",
    "&\\leq M(\\frac{2Re}{n+1})^{n+1}\\rightarrow 0 \\text{ for large }n\n",
    "\\end{align*}\n",
    "\n"
   ]
  },
  {
   "cell_type": "markdown",
   "metadata": {},
   "source": [
    "#### Weierstrass Theorem"
   ]
  },
  {
   "cell_type": "markdown",
   "metadata": {},
   "source": [
    "__Example__ For any $a<b, f\\in C[a,b]$, exists $p_n\\rightarrow^{u.c.}f$  \n",
    "\n",
    "_proof_. Define $g(x):[0,1]\\rightarrow \\mathbb R := f(a+x(b-a))$.  \n",
    "Take $q_n\\rightarrow^{u.c.}g$, consider $y=a+x(b-a)$, i.e. $x = \\frac{y-a}{b-a}$  \n",
    "Define $p_n(y):=q_n(\\frac{y-a}{b-a}) = q_n(x)\\rightarrow^{u.c.}f(y)$"
   ]
  }
 ],
 "metadata": {
  "hide_input": false,
  "kernelspec": {
   "display_name": "Python 3",
   "language": "python",
   "name": "python3"
  },
  "language_info": {
   "codemirror_mode": {
    "name": "ipython",
    "version": 3
   },
   "file_extension": ".py",
   "mimetype": "text/x-python",
   "name": "python",
   "nbconvert_exporter": "python",
   "pygments_lexer": "ipython3",
   "version": "3.7.3"
  }
 },
 "nbformat": 4,
 "nbformat_minor": 2
}
