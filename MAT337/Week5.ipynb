{
 "cells": [
  {
   "cell_type": "markdown",
   "metadata": {},
   "source": [
    "#### Intermediate value theorem\n",
    "If $f:[a,b]\\rightarrow \\mathbb{R}$ is continuous and $z\\in\\mathbb{R}$ satisfy $f(a)\\leq z\\leq f(b)$, then $\\exists c \\in [a,b]$ s.t. $f(c)=z$. "
   ]
  },
  {
   "cell_type": "markdown",
   "metadata": {},
   "source": [
    "_proof_. Let $A = \\{x\\in[a,b]: f(x) < z\\}$, then $A$ is upper bounded. Then, take $c = sup(A)$.\n",
    "\n",
    "$\\forall \\epsilon_n = n^{-1}$, take $a_n \\in A$ s.t. $c - n^{-1} \\leq a_n \\leq c$ and  $f(a_n)\\leq z$ so $f(c) = \\lim_{n\\rightarrow \\infty} f(a_n)\\leq z$ (1).  \n",
    "Explicitly assume $c < b$ (otherwise we've done), then take $\\exists b_n$ s.t. $c < b_n \\leq b, \\lim_\\infty b_n =c$.  \n",
    "Since $z$ is upper bound for $A, b_n\\not\\in A, f(b_n)\\leq z$ (2). \n",
    "By (1)(2) $f(c)=z$"
   ]
  },
  {
   "cell_type": "markdown",
   "metadata": {},
   "source": [
    "__Disconnected__ $A\\subseteq \\mathbb{R}$ is disconnected $U,V$ open cover s.t. $A = U\\sqcup V$  \n",
    "__Connected__ $A$ is connected if $\\forall U,V. A\\neq U\\sqcup V$  \n",
    "__Path connected__ of $\\forall a,b \\in A. \\exists \\gamma:[0,1]\\rightarrow A$ be a continuous path i.e. $\\gamma(0)=a, \\gamma(1)=b, \\gamma([0,1])\\subseteq A$  "
   ]
  },
  {
   "cell_type": "markdown",
   "metadata": {},
   "source": [
    "#### Norm\n",
    "Let $V$ be a vector space over $\\mathbb{R}$, a norm $\\|\\cdot\\|$ over $V$ is a function $V\\rightarrow \\mathbb{R}^+$ s.t. \n",
    " - positive definite: $\\|x\\|\\geq 0 \\land \\|x\\| = 0 IFF x\\equiv 0 \\in V$  \n",
    " - homogeneous $\\|ax\\| = |a|\\|x\\|. \\forall a\\in \\mathbb{R}$\n",
    " - triangular inequality $\\|x+y\\| = \\|x\\| + \\|y\\|$\n",
    " \n",
    "__Euclidean space over $\\mathbb{R}^n$__ $\\|x\\|_2 = \\sqrt{\\sum |x_k|^2}$ \n",
    " - positive definite  \n",
    " $|x_k|^2 \\geq 0 \\Rightarrow \\sqrt{\\sum |x_k|^2} \\geq 0$  \n",
    " $\\|x\\| = 0\\Rightarrow x = 0$\n",
    " - homogeneous $\\|ax\\| = \\sqrt{\\sum |ax_k|^2} = \\sqrt{|a|^2\\sum |x_k|^2} = |a|\\|x\\|$\n",
    " - Tri-ineq  \n",
    " By Cauchy Swartz Inequality  \n",
    " $\\|x+y\\|^2 = \\sum |x_k + y_k|^2 \\leq \\sum |x_k|^2 + |y_k|^2 = \\sum |x_k|^2 + \\sum|y_k|^2 = \\|x\\|^2 + \\|y\\|^2$"
   ]
  },
  {
   "cell_type": "markdown",
   "metadata": {},
   "source": [
    "__Example__ Some norms are  \n",
    "- __p-norm__ $\\|x\\|_p:=(\\sum |x_k|^p)^{p^{-1}}, p\\geq 1$\n",
    "- __Lp-norm__ $\\|f\\|_{L_p} := (\\int_S f(x)^p dx)^{p^{-1}}, p\\geq 1$ is a norm over $C:=$ the set of all continuous functions\n",
    "- __sup-norm__ $\\|f\\|_\\infty:= sup\\{|f(x)|:x\\in S\\}$ is a norm over $C_b(S):=$ the set of all continuous bounded functions or over $C(S)$ if $S$ is compact. \n"
   ]
  },
  {
   "cell_type": "markdown",
   "metadata": {},
   "source": [
    "__Claim__. Sup-norm is a norm  \n",
    "_proof_.   \n",
    "1. $|f(x)| \\geq 0$, $f(x):= 0 \\Rightarrow \\|f\\|_\\infty = 0, \\|f\\|_\\infty=0\\Rightarrow |f(x)|\\leq 0\\Rightarrow f(x)=0$\n",
    "2. $\\|af\\|_\\infty = sup|af(S)| = |a|sup|f(S)|= |a|\\|f\\|_\\infty$  \n",
    "3. $\\|f+g\\|=sup(|f+g|) \\leq sup(|f| + |g|) \\leq sup|f| + sup|g| = \\|f\\| + \\|g\\|$"
   ]
  },
  {
   "cell_type": "markdown",
   "metadata": {},
   "source": [
    "__$C^k(S):=$__ The set of all real number functions whose k-first derivative exists and continuous\n",
    "\n",
    "Some norms are defined on $C^k$, such as $\\|f\\|':= \\max\\|f^{(n)}\\|_\\infty; \\|f\\|_{C^k} = \\sum \\|f^{(n)}\\|_\\infty$"
   ]
  },
  {
   "cell_type": "markdown",
   "metadata": {},
   "source": [
    "__Remark__ $C^\\infty$ a.k.a. __smooth__ are normed space that obey completeness"
   ]
  }
 ],
 "metadata": {
  "hide_input": false,
  "kernelspec": {
   "display_name": "Python 3",
   "language": "python",
   "name": "python3"
  },
  "language_info": {
   "codemirror_mode": {
    "name": "ipython",
    "version": 3
   },
   "file_extension": ".py",
   "mimetype": "text/x-python",
   "name": "python",
   "nbconvert_exporter": "python",
   "pygments_lexer": "ipython3",
   "version": "3.7.3"
  }
 },
 "nbformat": 4,
 "nbformat_minor": 2
}
