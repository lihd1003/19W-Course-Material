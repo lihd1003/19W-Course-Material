{
 "cells": [
  {
   "cell_type": "markdown",
   "metadata": {},
   "source": [
    "#### Discrete Dynamical Systems\n",
    "__Discrete Dynamical Systems__ Let $X\\subseteq (V,\\|\\cdot\\|), T:X\\rightarrow X$ continuous. $(X,T)$ is a discrete dynamical system  \n",
    "__Forward orbit__ $\\forall x\\in X$, forward orbit of x is the sequence $O(x):=\\{T^n_x\\}_{n\\geq 0}$, $T^n_x=T(T...T(x))$\n",
    "\n",
    "__Fixed Point__ $x^*$ is   \n",
    "__attractive fixed point (sink)__ if $\\exists (a,b)\\ni x^*$ s.t. $\\forall x \\in (a,b). T^N_x\\rightarrow x^*$   \n",
    "__repelling fixed point (source)__ if $\\forall x\\neq x^*$, $O(x)$ leaves $(a,b)$\n",
    "\n",
    "__Contraction__ $X\\subseteq (V,\\|\\cdot\\|),T:X\\rightarrow X$ is a contraction on $X$ if \n",
    "$$\\exists c < 1. \\forall x,y\\in X. \\|Tx-Ty\\|\\leq c\\|x-y\\|$$\n",
    "i.e. $T$ is $c$-Lipschitz $c<1$"
   ]
  },
  {
   "cell_type": "markdown",
   "metadata": {},
   "source": [
    "#### Banach Contraction Principle\n",
    "Let $X\\subseteq (V,\\|\\cdot\\|)$ be a closed subset of a complete normed vector space,  \n",
    "IF $T:X\\rightarrow X$ is a contraction on $X$  \n",
    "THEN   \n",
    "(i) $T$ has unique fixed point $x^*$  \n",
    "(ii) $\\forall x\\in X. x^* = \\lim_{n\\rightarrow\\infty} T^nx$  \n",
    "(iii) $\\|T^nx-x^*\\|\\leq c^n\\|x-x^*\\|\\leq \\frac{c^n}{1-c}\\|x-Tx\\|, c$ is the Lipschitz constant \n",
    "\n",
    "_proof_. Let $x_0\\in X$, recursively define $x_{n+1} = Tx_n$, hence form a sequence $\\{x_n\\}$.  \n",
    "Then, we can show that $\\{x_n\\}$ is Cauchy by observing\n",
    "\\begin{align*}\n",
    "\\|x_{n+m} - x_n\\| &\\leq \\sum_0^{m-1}\\|x_{n+i-1}-x_{n+i}\\| &\\text{triangle inequality} \\\\\n",
    "&= \\sum_{i=0}^{m-1} \\|Tx_{n+i}-Tx_{n+i-1}\\| \\\\\n",
    "&\\leq \\sum_{i=0}^{m-1} c\\|x_{n+i}-x_{n+i-1}\\|&\\text{by contraction}\\\\\n",
    "&\\leq \\sum^{m-1}c^{n+i}\\|x_1-x_0\\| &\\text{recursively repeat such process} \\\\\n",
    "&<\\sum^\\infty c^{n+i}\\|x_1-x_0\\| \\\\\n",
    "&= \\frac{c^n\\|x_1-x_0\\|}{1-c}\n",
    "\\end{align*}\n",
    "Since $c^n\\rightarrow 0$, we can choose $N$ sufficiently large to have $\\|x_{n+m}-x_n\\|\\rightarrow 0$  \n",
    "\n",
    "_Existence_ By completeness of the normed space, Cauchy implies convergent to some $x^*\\in V$, by $X$ closed, $x^*\\in X$. By Lipshitz, hence continuous of $T$, $Tx^* = T(\\lim x_n) = \\lim Tx_n = x^*\\Rightarrow x^*$ is the fixed point.  \n",
    "\n",
    "_Uniqueness_ Suppose $y\\in X$ is also fixed point, $\\|x^*-y\\| = \\|Tx^* - Ty\\| \\leq c\\|x^*-y\\|\\Rightarrow \\|x^*-y\\| = 0\\Rightarrow x^*=y$\n",
    "\n",
    "$$\\|T^Nx-x^*\\| = \\|T^n x-T^nx^*\\|\\leq c^n\\|x-x^*\\|= c^n lim \\|x-x_m\\|\\leq \\frac{c^n}{1-c}\\|Tx-x\\|$$"
   ]
  }
 ],
 "metadata": {
  "hide_input": false,
  "kernelspec": {
   "display_name": "Python 3",
   "language": "python",
   "name": "python3"
  },
  "language_info": {
   "codemirror_mode": {
    "name": "ipython",
    "version": 3
   },
   "file_extension": ".py",
   "mimetype": "text/x-python",
   "name": "python",
   "nbconvert_exporter": "python",
   "pygments_lexer": "ipython3",
   "version": "3.7.3"
  }
 },
 "nbformat": 4,
 "nbformat_minor": 2
}
