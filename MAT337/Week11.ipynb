{
 "cells": [
  {
   "cell_type": "markdown",
   "metadata": {},
   "source": [
    "__Equicontinuous__ A family of function $\\mathcal F \\subset C(K,\\mathbb R^m)$ is equicontinuous at $a\\in K$  \n",
    "$$\\forall f \\in \\mathcal F. \\forall \\epsilon > 0. \\exists \\delta > 0. \\|x-a\\|<\\delta \\Rightarrow \\|f(x)-f(a)\\|<\\epsilon$$\n",
    "Then $\\mathcal F$ is equicontinuous on $K$ is $\\mathcal F$ is equicontinuous $\\forall a\\in K$. "
   ]
  },
  {
   "cell_type": "markdown",
   "metadata": {},
   "source": [
    "__Uniformly equicontinuous__ $\\mathcal F$ is uniformly equicontinuous if \n",
    "$$\\forall \\epsilon > 0. \\exists \\delta > 0. \\forall f\\in\\mathcal F. \\forall x,y\\in K. \\|x-y\\|<\\delta \\Rightarrow \\|f(x)-f(y)\\|<\\epsilon$$"
   ]
  },
  {
   "cell_type": "markdown",
   "metadata": {},
   "source": [
    "__Theorem__ $\\mathcal G := \\{g_n\\}_{n\\geq 1}\\cup \\{g\\}$ where $g_n \\in C(K,\\mathbb R^m), g_n\\rightarrow^{u.c.}g$, then $\\mathcal G$ is equicontinuous.\n",
    "\n",
    "_proof_. Let $a\\in K, \\epsilon > 0$,  \n",
    "By completeness and uniform continuous, $g$ is also continuous,  \n",
    "take $\\delta' > 0$ s.t. $\\forall x\\in K. \\|x-a\\|<\\delta' \\Rightarrow \\|g(x)-g(a)\\|<\\epsilon/3$.  \n",
    "By uniform continuous, take $N\\geq 0$ s.t. $\\forall n\\geq N. \\|g_n-g\\|_\\infty <\\epsilon/3$.  \n",
    "Then, $\\forall n\\geq N. \\forall x, \\|x-a\\|<\\delta'$  \n",
    "$\\|g_n(x)-g_n(a)\\| \\leq \\|g_n(x)-g(x)\\| + \\|g(x)-g(a)\\| + \\|g(a)-g_n(a)\\| \\leq 3(\\epsilon/3)=\\epsilon$\n",
    "\n",
    "Then, for each $g_k \\in \\{g_1,g_2,...,g_N\\}$, take $\\delta_k$ by continuity of each $g_k$, \n",
    "take $\\delta = \\min\\{\\delta_1,..,\\delta_k, \\delta'\\}$  \n",
    "$\\forall f \\in \\mathcal F. \\forall \\epsilon > 0. \\exists \\delta > 0. \\|x-a\\|<\\delta \\Rightarrow \\|f(x)-f(a)\\|<\\epsilon$"
   ]
  },
  {
   "cell_type": "markdown",
   "metadata": {},
   "source": [
    "__Example__ $f_n(x)=x^n, x\\in [0,1], \\mathcal F = \\{f_n\\}_{n\\geq 1}$ is not equicontinuous at 1.\n",
    "\n",
    "_proof_. Take $\\epsilon =1/2$, let $\\delta > 0$, wlog, $\\delta < 1$.  \n",
    "Take $y = 1-\\delta/2<1$, then $y^n \\rightarrow 0$, hence we can take $N$ s.t. $\\forall n\\geq N, 1-y^n > 1/2$  \n",
    "Therefore, $|1-y|=\\delta/2 < \\delta$ but $|f_n(1)-f_n(y)|= 1-y^n > 1/2$"
   ]
  },
  {
   "cell_type": "markdown",
   "metadata": {},
   "source": [
    "__Lemma 1__ If $\\mathcal F$ compact, then $\\mathcal F$ equicontinuous on $K$.  \n",
    "\n",
    "_proof_. Suppose $\\mathcal F$ is not equicontinuous,   \n",
    "take $a\\in K, \\epsilon > 0$ s.t. $\\forall n\\geq 1. \\exists f_n\\in\\mathcal F. \\exists x_n\\in K$ s.t. $\\|x_n-a\\|<1/n$ but $\\|f_n(x_n) - f_n(a)\\| \\geq \\epsilon$, hence we construct sequences $\\{x_n\\}, \\{f_n\\}$  \n",
    "Then, any subset of $\\{f_n\\}$ cannot be equicontinuous $(i)$  \n",
    "However, since $\\mathcal F$ is compact, take $\\{f_{n_k}\\}$ converges uniformly to some $f\\in\\mathcal F$, and $\\{f_{n_k}\\}\\cup \\{f\\}$\n",
    "is equicontinuous, this contradicts with $(i)$"
   ]
  },
  {
   "cell_type": "markdown",
   "metadata": {},
   "source": [
    "__Lemma 2__ equicontinuous implies uniformly equicontinuous\n",
    "\n",
    "_proof_. Suppose $\\mathcal F$ not u.e.c.  \n",
    "Take $\\epsilon > 0$ s.t. $\\forall n\\geq 1, \\exists x_n,y_n \\in K. \\exists f_n\\in \\mathcal F. \\|x_n-y_n\\| < 1/n \\land \\|f_n(x_n)-f_n(y_n)\\|\\geq \\epsilon$ hence we construct sequence $\\{x_n\\}, \\{y_n\\}, \\{f_n\\}$  \n",
    "Since $K$ is compact, take $x_{n_k}\\rightarrow a \\in K$, then $y_{n_k} = x_{n_k}-(x_{n_k}-y_{n_k})\\rightarrow a$\n",
    "\n",
    "$\\mathcal F$ is equicontinous at $a\\in K\\Rightarrow \\exists \\delta > 0, \\|f_n(x)-f_n(a)\\|\\leq \\epsilon/2$ for all $\\|x-a\\|<\\delta, f\\in\\mathcal F$.  \n",
    "Since $x_{n_k}\\rightarrow a, y_{n_k}\\rightarrow a, \\exists M\\in \\mathbb N, \\forall m \\geq M. \\|x_{n_m}-a\\|<\\delta\\land \\|y_{n_m}-a\\|<\\delta$  \n",
    "Therefore, $\\forall m\\geq M$  \n",
    "$\\|f_{n_m}(x_{n_m})- f_{n_m}(y_{n_m})\\|\\leq \\|f_{n_m}(x_{n_m})- f_{n_m}(a)\\| + \\|f_{n_m}(a)- f_{n_m}(y_{n_m})\\|< 2(\\epsilon/2)=\\epsilon$  \n",
    "contradicts with assumption\n"
   ]
  },
  {
   "cell_type": "markdown",
   "metadata": {},
   "source": [
    "__Totally bouded__ $S\\subseteq K$ is an $\\epsilon$-net of $K$ if $K\\subseteq \\cup_{a\\in S}B_\\epsilon(a)$  \n",
    "$K$ is totally bounded if it has a finite $\\epsilon$-net $\\forall \\epsilon > 0$"
   ]
  }
 ],
 "metadata": {
  "hide_input": false,
  "kernelspec": {
   "display_name": "Python 3",
   "language": "python",
   "name": "python3"
  },
  "language_info": {
   "codemirror_mode": {
    "name": "ipython",
    "version": 3
   },
   "file_extension": ".py",
   "mimetype": "text/x-python",
   "name": "python",
   "nbconvert_exporter": "python",
   "pygments_lexer": "ipython3",
   "version": "3.7.3"
  }
 },
 "nbformat": 4,
 "nbformat_minor": 2
}
