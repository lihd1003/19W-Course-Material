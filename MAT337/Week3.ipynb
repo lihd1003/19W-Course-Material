{
 "cells": [
  {
   "cell_type": "markdown",
   "metadata": {},
   "source": [
    "### Closed and open sets\n",
    "__Limit point__ For a sequence $(x_n)\\in\\mathbb{R}$, its limit point $x\\in\\mathbb{R}$ satisfies $\\lim_{n\\rightarrow\\infty}x_n = x$.  \n",
    "\n",
    "__Closed__ if it contains all its limit points\n",
    "\n",
    "__Example__ $\\mathbb{R}^n$ is closed because $\\mathbb{R}$ is complete \n"
   ]
  },
  {
   "cell_type": "markdown",
   "metadata": {},
   "source": [
    "__Theorem__ Finite union of closed sets is closed  "
   ]
  },
  {
   "cell_type": "markdown",
   "metadata": {},
   "source": [
    "__Open__ if $\\forall x\\in U.\\exists r_{x,v}>0. B_r(x)\\subseteq U$\n",
    "\n",
    "$U$ open, $f$ continuous $\\Rightarrow f^{-1}(U)$ is open\n",
    "\n",
    "__Theorem 4.3.8__. $U$ open IFF $\\mathbb{R}-U\\rightarrow U^c$ is closed \n"
   ]
  },
  {
   "cell_type": "markdown",
   "metadata": {},
   "source": [
    "__Theorem__ finite intersection of open sets is open.  \n",
    "_proof_. $(\\cap^M U_i)^{c^c} = (\\cup^M U_i^c)^c$  \n",
    "Since $U_i$ open, $U_i^c$ closed, $\\cup^M U_i^c$ closed. "
   ]
  },
  {
   "cell_type": "markdown",
   "metadata": {},
   "source": [
    "### Compact sets"
   ]
  },
  {
   "cell_type": "markdown",
   "metadata": {},
   "source": [
    "__Compact Def'n 1__ $C\\subseteq\\mathbb{R}$ is compact if all sequence $\\{x_n\\}\\subseteq C$ has a converging subsequence $\\{x_{n_k}\\}\\subseteq C$  \n",
    "$\\forall \\{x_n\\}\\subseteq C. \\exists \\{x_{n_k}\\}\\subseteq \\{x_n\\}. x_{n_k}\\rightarrow x\\in C$\n",
    "\n",
    "__Compact Def'n 2__ A set $C$ is compact if every open cover of $C$ has a finte subcover that covers $C$. \n",
    "\n",
    "__open cover__ A collection of open balls $\\{U_a\\}_{a\\geq 1}$ is an open cover if $c\\subseteq \\cup^\\infty U_a$"
   ]
  },
  {
   "cell_type": "markdown",
   "metadata": {},
   "source": [
    "__Theorem__  $[a,b]\\subseteq \\mathbb{R}$ is compact  \n",
    "_proof_. By Bolzano Weierstrass Theorem. every bounded sequence has a convergent subsequence. Since $[a,b]$ closed, such limit falls in $[a,b]$. "
   ]
  },
  {
   "cell_type": "markdown",
   "metadata": {},
   "source": [
    "__Continuous mapping theorem__ For continous $f, x_n\\rightarrow x\\Rightarrow f(x_n)\\rightarrow f(x)$. \n",
    "\n",
    "__Corollary__ $f:U\\rightarrow V$, if $C\\subseteq U$ is compact, then $f(C)$ is also compact.  "
   ]
  },
  {
   "cell_type": "markdown",
   "metadata": {},
   "source": [
    "__Heine-Borel Theorem__  $C\\subseteq \\mathbb{R}$ is compact IFF closed and bounded. \n",
    "\n",
    "__Claim 1__ compact $\\Rightarrow$ bounded  \n",
    "_proof_. Suppose compact but not bounded. Then take $\\{x_n\\}\\subset C$, wlop, $x_n\\rightarrow \\infty$. Then, we can take a monotone increasing subsequence $y_n$ of $x_n$. Then by compactness, take $y_{n_k}\\rightarrow y\\in C$. But a monotone divergent sequence cannot have convergent subsequence. \n",
    "\n",
    "__Claim 2__ compact $\\Rightarrow$ closed  \n",
    "_proof_. Let $\\{x_n\\}\\subseteq C. x_n\\rightarrow x$, WTS $x\\in C$.  \n",
    "By compactness, take $\\{x_{n_k}\\}\\rightarrow L$. We can show that \n",
    "$|x-L| = |x - x_{n_k} + x_{n_k} - L| \\leq |x - x_{n_k}| + |x_{n_k} - L| \\rightarrow 0$\n",
    "\n",
    "__Claim 3__ closed & bounded $\\Rightarrow$ compact  \n",
    "_proof_. Let $\\{x_n\\}\\subseteq C$. Since bounded, by BWT, take $\\{x_{n_k}\\}$ where $x_{n_k}\\rightarrow L\\in\\mathbb{R}$.  \n",
    "Since $C$ closed, its limit point is in $C$. "
   ]
  }
 ],
 "metadata": {
  "hide_input": false,
  "kernelspec": {
   "display_name": "Python 3",
   "language": "python",
   "name": "python3"
  },
  "language_info": {
   "codemirror_mode": {
    "name": "ipython",
    "version": 3
   },
   "file_extension": ".py",
   "mimetype": "text/x-python",
   "name": "python",
   "nbconvert_exporter": "python",
   "pygments_lexer": "ipython3",
   "version": "3.7.3"
  }
 },
 "nbformat": 4,
 "nbformat_minor": 2
}
