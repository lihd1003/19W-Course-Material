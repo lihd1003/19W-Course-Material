{
 "cells": [
  {
   "cell_type": "markdown",
   "metadata": {},
   "source": [
    "### Closed and open sets\n",
    "__Limit point__ For a sequence $(x_n)\\in\\mathbb{R}$, its limit point $x\\in\\mathbb{R}$ satisfies $\\lim_{n\\rightarrow\\infty}x_n = x$.  \n",
    "\n",
    "__Closed__ if it contains all its limit points\n",
    "\n",
    "__Example__ \n",
    " - $\\mathbb{R}^n$ is closed because $\\mathbb{R}$ is complete\n",
    " - __Continuous mapping theorem__ For $f:U\\rightarrow V$, if $C\\subseteq U$ is closed and bounded, then $f(C)$ is also closed.  \n",
    " \n",
    "__Theorem4.3.3.__ A finite union of closed sets is closed. "
   ]
  },
  {
   "cell_type": "markdown",
   "metadata": {},
   "source": [
    "__Open__ if $\\forall x\\in U.\\exists r_{x,v}>0. Br_r(x)\\subseteq U$\n",
    "\n",
    "$U$ open, $f$ continuous $\\Rightarrow f^{-1}(U)$ is open\n",
    "\n",
    "__Theorem 4.3.8__. $U$ open IFF $\\mathbb{R}-U\\rightarrow U^c$ is closed \n"
   ]
  },
  {
   "cell_type": "markdown",
   "metadata": {},
   "source": [
    "__Complement__ "
   ]
  }
 ],
 "metadata": {
  "hide_input": false,
  "kernelspec": {
   "display_name": "Python 3",
   "language": "python",
   "name": "python3"
  },
  "language_info": {
   "codemirror_mode": {
    "name": "ipython",
    "version": 3
   },
   "file_extension": ".py",
   "mimetype": "text/x-python",
   "name": "python",
   "nbconvert_exporter": "python",
   "pygments_lexer": "ipython3",
   "version": "3.6.8"
  }
 },
 "nbformat": 4,
 "nbformat_minor": 2
}
