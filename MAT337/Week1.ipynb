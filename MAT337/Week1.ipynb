{
 "cells": [
  {
   "cell_type": "markdown",
   "metadata": {},
   "source": [
    "__Decimal expansion__  \n",
    "Given $r\\in\\mathbb{R}^+$  \n",
    " 1. find $q\\in\\mathbb{N}^+, q\\leq r\\le q+1$  \n",
    " 2. So we find next decimal place $d_1/10 \\leq r- q < d_1 / 10 + 1/10$  \n",
    " 3. repeat $\\frac{d_k}{10^k} \\leq r - q - \\sum _1^{k-1} \\frac{d^m}{10^m} < \\frac{d_k}{10^k} + 10^{-k}$\n",
    "So that $r = q.d_1d_2d_3...$\n",
    "\n",
    "Two types  \n",
    "terminating decimal expansion $q.d_1d_2...d_{m_0}$  \n",
    "repeating decimal expansion $q.d_1...d_k\\overline{d_{k+1}...d_n}$(ex. $1/35 = 0.0287154\\overline{287154}$)\n"
   ]
  },
  {
   "cell_type": "markdown",
   "metadata": {},
   "source": [
    "__Proposition__ $\\forall x\\in \\mathbb{R}^+$ is rational IFF $x$ has a decimal expansion that is either terminating or repeating  \n",
    "_proof_   \n",
    "$\\Leftarrow$  \n",
    "Assume $x$ is terminating, $x = q.d_1...d_{n_0} = q + \\sum_1^n \\frac{d_m}{10^m} \\in \\mathbb{Q}$  \n",
    "\n",
    "Assume $x$ is repeating, $q.d_1...d_k\\overline{d_{k+1}...d_m}$.  \n",
    "Known that $d_1...d_k$ part is rational, the remaining $0.0...0\\overline{d_{k+1}...d_m}$  \n",
    "\n",
    "$ = 10^{-k}(\\sum_{m=1}^n \\sum_{l=0}^\\infty \\frac{d'_m}{10^{nl + m}})$ since the number is repeating, we denote $d'_0,...,d'_n$ be the repeated digits  \n",
    "\n",
    "$= 10^{-k}\\sum_{m=1}^n d'_m 10^{-m} (\\sum_{l=0}^\\infty 10^{-nl})$ decompose\n",
    "\n",
    "$= 10^{-k}\\sum_{m=1}^n d'_m 10^{-m} (1 - 10^{-n})^{-1}$ geometric series\n",
    "\n",
    "$ = \\sum_{m=1}^n\\frac{d'_m 10^n}{10^{m+k}(10^n - 1)}$ make it looks nicer\n",
    "\n",
    "$\\Rightarrow$  \n",
    "take $l, m \\in\\mathbb{Z}^+， x = l/m$. \n",
    "\n",
    "By Euclidean division, $l = d_0m + r_0/m$ where $d_0\\in\\mathbb{Z}^+$ is the quotient, $r_0\\in\\mathbb{Z}^+$ is the remainder, $r_0<m$.  \n",
    "\n",
    "__lemma__ $\\forall n\\in \\mathbb{N}. l/m = \\sum_{m=0}^n \\frac{d_m}{ 10^{m}} + \\frac{r_n} {10^{n}m}$  (induction by further Euclidean division)\n",
    "\n",
    "Suppose $\\exists i, r_i = 0$, then is terminated  \n",
    "Suppose $\\forall k$ WTS repeating.  \n",
    " - since $r_k$ is a remainder, it can only choose from $r_k \\in \\{1, ..., m - 1\\}$. Then $\\exists k_1, k_2. r_{k_1} = r_{k_2}$.  \n",
    " Then by uniqueness of Euclidean division, it is repeated. \n",
    "\n"
   ]
  },
  {
   "cell_type": "markdown",
   "metadata": {},
   "source": [
    "__Irrational Numbers__ $x$ is irrational if $x\\in\\mathbb{Q}^c$, i.e. $\\not\\exists l, m\\in\\mathbb{Z}^+ s.t. x = l/m$"
   ]
  },
  {
   "cell_type": "markdown",
   "metadata": {},
   "source": [
    "__Proposition__ $\\forall x, y \\in \\mathbb{R}, x < y \\Rightarrow \\exists r\\in\\mathbb{R}. x < r < y$ and $r$ is terminating.  \n",
    "_proof_ consider the decimal expansions of $x = x_0.x_1..., y = y_0.y_1...$, then exists the smallest $k$ where $x_k + 1 \\leq y_k$ (since they are digit, it implies $x_k \\leq 8$).\n",
    "Then construct $r = x_0.x_1...[x_k + 1]y_{k+1}y_{k+2}...$"
   ]
  },
  {
   "cell_type": "markdown",
   "metadata": {},
   "source": [
    "__Bound__  A set $S\\subset\\mathbb{R}$ is  \n",
    "__bounded above__ $\\exists M\\in\\mathbb{R}. \\forall s \\in S. s\\leq M. $  \n",
    "__bounded below__ $\\exists L\\in\\mathbb{R}. \\forall s \\in S. s\\geq L. $\n",
    "\n",
    "__Supremum__ $sup(S)\\in\\mathbb{R}$ is a upper bound and $\\forall v. v\\geq sup(S)\\land v$ is upper bound.  \n",
    "__Infimum__ $inf(S)\\in\\mathbb{R}$ is a lower bound and $\\forall v. v\\leq inf(S)\\land v$ is lower bound. \n",
    "\n",
    "__Proposition__ $u$ is a supremum of $S$ IFF $u$ is a upper bound and $\\forall \\epsilon > 0. \\exists s_\\epsilon \\in S. u-\\epsilon < s_\\epsilon$"
   ]
  },
  {
   "cell_type": "markdown",
   "metadata": {},
   "source": [
    "__Least upper bound principle__ $\\forall S\\neq \\emptyset, S$ bounded above. $S$ has a supremum.  \n",
    "_proof_  Since bounded above, take $M\\in\\mathbb{R}$ where $\\forall s \\in S. M\\geq s$.   \n",
    "Pick $s'=s_0.s_1 \\in S\\Rightarrow M\\geq s'\\Rightarrow m_0 + 1 > s_0$.  \n",
    "Find lowest $a_0\\in \\{s_0, ..., m_0 + 1\\}$ that is an upper bound for $S$.  \n",
    "\n",
    "_Induction_ $y_n = \\sum_0^n a_i / 10^i$ where $a_i=\\min\\{a \\in \\{0, 1, ..., 9\\}\\mid y_i \\geq S\\}$. Take $x_n \\in S$ s.t. $a_0.a_1...a_n - 10^{-n}\\leq x_n \\leq y_n$\n",
    "\n",
    "_WTS_ $L = a_0.a_1... = = sup(S)$  \n",
    "\n",
    "Upper bound property: start with any $s_0.s_1,... \\in S$ either  \n",
    "1. $\\forall i. s_i = a_i\\Rightarrow S = L$  \n",
    "2. $\\exists k$ be the first different digit and $s_k > a_k$\n",
    "Construct $y_k^* = a_0.a_1...a_{k-1}s_k. y_k^*\\leq s_0.s_1$\n",
    "\n",
    "Subsequence Property: For each $\\epsilon$, you can pick $n > 0$ s.t. $L-\\epsilon \\leq L - 10^{-n} \\leq x_n \\leq y_n < L$\n",
    "\n",
    "\n",
    "\n",
    "\n"
   ]
  },
  {
   "cell_type": "markdown",
   "metadata": {},
   "source": [
    "__Proposition__ Uniqueness of supremum\n",
    "_proof_ Assume $\\exists u,v$ be two supremums, $v < u$. Take $\\epsilon = u -v, \\forall \\epsilon > 0. \\exists s_\\epsilon \\in S \\Rightarrow u - (u-v) < s_\\epsilon \\Rightarrow v < s_\\epsilon$. "
   ]
  },
  {
   "cell_type": "markdown",
   "metadata": {},
   "source": [
    "__Proposition__ For all bounded above set $A$ and $c\\geq 0$. $sup(cA) = c sup(A)$  \n",
    "_proof_ Let $M = sup(A)$.  \n",
    "Upper bound property: $\\forall s. s\\leq M \\Rightarrow cs \\leq cM$\n",
    "Subsequence property: Let $\\epsilon \\geq 0$, take $s_{\\epsilon/c}$, then $cs_{\\epsilon/c}\\geq u - \\epsilon$\n",
    "\n"
   ]
  }
 ],
 "metadata": {
  "kernelspec": {
   "display_name": "Python 3",
   "language": "python",
   "name": "python3"
  },
  "language_info": {
   "codemirror_mode": {
    "name": "ipython",
    "version": 3
   },
   "file_extension": ".py",
   "mimetype": "text/x-python",
   "name": "python",
   "nbconvert_exporter": "python",
   "pygments_lexer": "ipython3",
   "version": "3.6.8"
  }
 },
 "nbformat": 4,
 "nbformat_minor": 2
}
