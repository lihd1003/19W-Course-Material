{
 "cells": [
  {
   "cell_type": "markdown",
   "metadata": {},
   "source": [
    "#### Extreme value theorem\n",
    "\n",
    "If a function $f:K\\rightarrow R$ is continous and $K$ is compact, then $f(K)$ is compact and $\\exists a,b\\in K. \\forall k\\in K. f(a)\\leq f(k)\\leq f(b)$\n",
    "\n",
    "__Part1__ $f(K)$ compact  \n",
    "_proof_. Let $(y_k)\\subseteq f(K)$, take $(x_k)\\subseteq K s.t. f(x_k)=y_k$. By compactness of $K$, take $(x_{k_n})\\subseteq (x_k)$ and $x_k\\rightarrow x\\in K.$ Then by continuous mapping theorem, $f(x_{k_n})\\rightarrow f(x)\\in f(K)$\n",
    "\n",
    "__Part2__ $f(K)$ has max and min  \n",
    "_proof_. By compactness and least bound principle, take $M,m$ be the supremum and infimum of $f(X)$. WTS thats contained in $f(K)$.  \n",
    "Construct a sequence $(d_n)\\subset K$ s.t. $M-\\frac{1}{n}\\leq f(d_n)\\leq M$ (since M is the supremum we can do such construction).  \n",
    "Since $K$ is compact, by Bolz. Weis. Theorem, take $(d_{n_k})\\subseteq (d_n), d_{n_k}\\rightarrow d$ is convergent. \n",
    "\n",
    "Then by squeeze theorem, $M-\\frac{1}{n}\\leq f(d_{n_k})\\leq M$ is squeezed by $M$, $\\lim f(d_{n_k}) = f(\\lim f(d_{n_k})) = M$. By compactness of $f(K), M\\in f(K)$."
   ]
  },
  {
   "cell_type": "markdown",
   "metadata": {},
   "source": [
    "__Example__ $f$ continuous on $[a,b]\\subseteq \\mathbb{R}$ has no local extremum, then $f$ is monotone.  \n",
    "__local maxmimum/minimum__ $x_0$ is local max/min if $\\exists \\epsilon > 0. \\forall x\\in [x_0-\\epsilon, x_0+\\epsilon], f(x)\\leq | \\geq f(x_0)$.\n",
    "\n"
   ]
  }
 ],
 "metadata": {
  "hide_input": false,
  "kernelspec": {
   "display_name": "Python 3",
   "language": "python",
   "name": "python3"
  },
  "language_info": {
   "codemirror_mode": {
    "name": "ipython",
    "version": 3
   },
   "file_extension": ".py",
   "mimetype": "text/x-python",
   "name": "python",
   "nbconvert_exporter": "python",
   "pygments_lexer": "ipython3",
   "version": "3.7.3"
  }
 },
 "nbformat": 4,
 "nbformat_minor": 2
}
