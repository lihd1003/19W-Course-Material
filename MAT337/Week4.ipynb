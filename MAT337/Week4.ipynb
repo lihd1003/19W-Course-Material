{
 "cells": [
  {
   "cell_type": "markdown",
   "metadata": {},
   "source": [
    "#### Extreme value theorem\n",
    "\n",
    "If a function $f:K\\rightarrow R$ is continous and $K$ is compact, then $f(K)$ is compact and $\\exists a,b\\in K. \\forall k\\in K. f(a)\\leq f(k)\\leq f(b)$\n",
    "\n",
    "__Part1__ $f(K)$ compact  \n",
    "_proof_. Let $(y_k)\\subseteq f(K)$, take $(x_k)\\subseteq K s.t. f(x_k)=y_k$. By compactness of $K$, take $(x_{k_n})\\subseteq (x_k)$ and $x_k\\rightarrow x\\in K.$ Then by continuous mapping theorem, $f(x_{k_n})\\rightarrow f(x)\\in f(K)$\n",
    "\n",
    "__Part2__ $f(K)$ has max and min  \n",
    "_proof_. By compactness and least bound principle, take $M,m$ be the supremum and infimum of $f(X)$. WTS thats contained in $f(K)$.  \n",
    "Construct a sequence $(d_n)\\subset K$ s.t. $M-\\frac{1}{n}\\leq f(d_n)\\leq M$ (since M is the supremum we can do such construction).  \n",
    "Since $K$ is compact, by Bolz. Weis. Theorem, take $(d_{n_k})\\subseteq (d_n), d_{n_k}\\rightarrow d$ is convergent. \n",
    "\n",
    "Then by squeeze theorem, $M-\\frac{1}{n}\\leq f(d_{n_k})\\leq M$ is squeezed by $M$, $\\lim f(d_{n_k}) = f(\\lim f(d_{n_k})) = M$. By compactness of $f(K), M\\in f(K)$."
   ]
  },
  {
   "cell_type": "markdown",
   "metadata": {},
   "source": [
    "__Example__ $f$ continuous on $[a,b]\\subseteq \\mathbb{R}$ has no local extremum, then $f$ is monotone.  \n",
    "__local maxmimum/minimum__ $x_0$ is local max/min if $\\exists \\epsilon > 0. \\forall x\\in [x_0-\\epsilon, x_0+\\epsilon], f(x)\\leq | \\geq f(x_0)$.\n",
    "\n"
   ]
  },
  {
   "cell_type": "markdown",
   "metadata": {},
   "source": [
    "#### Uniform Continuilty \n",
    "$f:S\\rightarrow R$ is uniformly continuous if $\\forall \\epsilon > 0. \\exists \\delta > 0. \\forall x,y. |x-y|\\leq \\delta \\Rightarrow |f(x)-f(y)|<\\epsilon$"
   ]
  },
  {
   "cell_type": "markdown",
   "metadata": {},
   "source": [
    "__Sequential criterion__ A function $f:S\\rightarrow R$ is not uniform continuous if $\\exists (x_n), (y_n)\\subseteq S$ s.t. $|x_n - y_n|\\rightarrow 0$ but $\\exists \\epsilon_0 >0 s.t. |f(x_n)-f(y_n)|\\geq \\epsilon_0 > 0$\n",
    "\n",
    "_proof_. negation of the uniform continuous definition \n",
    "\n",
    "__Example__ $f(x):=x^2$  \n",
    "Let $x_n = n + n^{-1}, y_n = n$. Then $|x_n-y_n|= n^{-1}\\rightarrow 0$, but $|(n+n^{-1})^2 - n^2| = |-2|+n^{-2}\\rightarrow 2 > 0$"
   ]
  },
  {
   "cell_type": "markdown",
   "metadata": {},
   "source": [
    "__$\\alpha$-Holder__ $f:S\\rightarrow R$ is a-Holder if $|f(x)-f(y)|\\leq c |x-y|^\\alpha, \\alpha\\in[0,1]. \\forall x,y\\in S$.  \n",
    "\n",
    "__Example__ $f(x)=x^p, p\\in(0,1)$ is call p-Holder and is uniform continuous.  \n",
    "_proof_. Let $\\epsilon > 0$, take $\\delta = (\\epsilon / c)^{a^{-1}} < 1$ because $\\alpha \\leq 1$  \n",
    "$|f(x)-f(y)|\\leq c|x-y|^\\alpha \\leq c\\delta^\\alpha =\\epsilon$\n",
    "\n",
    "When $\\alpha = 1, i.e. |f(x)-f(y)|\\leq c|x-y|$, they are called Lipschitz.\n",
    "\n",
    "__Example__ Any differentiable functions are Lipschitz (bounded derivative)  \n",
    "_proof_. by MVT, $|f(x)-f(y)| = |f'(c)||x-y|\\leq B|x-y|$"
   ]
  },
  {
   "cell_type": "markdown",
   "metadata": {},
   "source": [
    "__Heine-Cantar Theorem__ if $K$ compact, and $f:K\\rightarrow R$ is continuous, then $f$ is also uniform continuous.  \n",
    "_proof_. Suppose $f$ is not uniform continuous  \n",
    "Take $(x_n), (y_n)$ and for $\\epsilon > 0$ s.t. $|x_n - y_n|\\leq 1/n$ but $|f(x_n)-f(y_n)|\\geq \\epsilon > 0$. By $K$ compact, take $(x_{n_k})\\rightarrow x\\in K$。  \n",
    "However, $|y_{n_k}-x|\\leq |y_{n_k}-x_{n_k}| + |x_{n_k}-x| \\leq n_k^{-1} + \\epsilon_k \\rightarrow 0$ i.e. $y_{n_k}\\rightarrow x$  \n",
    "$\\forall n_k > N_{\\epsilon_0/4}|f(x_n)-f(y_n)|\\leq |f(x_n)-f(x)| + |f(x)-f(y)| \\leq \\epsilon_0/2$ causes contradiction"
   ]
  }
 ],
 "metadata": {
  "hide_input": false,
  "kernelspec": {
   "display_name": "Python 3",
   "language": "python",
   "name": "python3"
  },
  "language_info": {
   "codemirror_mode": {
    "name": "ipython",
    "version": 3
   },
   "file_extension": ".py",
   "mimetype": "text/x-python",
   "name": "python",
   "nbconvert_exporter": "python",
   "pygments_lexer": "ipython3",
   "version": "3.7.3"
  }
 },
 "nbformat": 4,
 "nbformat_minor": 2
}
