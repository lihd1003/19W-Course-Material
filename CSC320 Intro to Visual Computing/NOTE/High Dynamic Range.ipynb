{
 "cells": [
  {
   "cell_type": "markdown",
   "metadata": {},
   "source": [
    "### Dynamic Range\n",
    "$DR := \\frac{L_{max}}{L_{min}}$ where $L$ is the the brightness of the visible in the photo  \n",
    "Measured in $EV := \\lg(DR)$"
   ]
  },
  {
   "cell_type": "markdown",
   "metadata": {},
   "source": [
    "#### Problem with DR\n",
    "Human perception can detect $\\sim 14 EV$ stops, while 8-bit image can only represent $\\sim 6$ stops (due to the $\\gamma$-function), even the best sensor can capture $14$ bits.pixel, and TV can only display $6-10$ stops\n",
    "\n",
    "On the images, bright pixels will saturate the sensor, while the dark pixels are below the the threshold required to be represented"
   ]
  },
  {
   "cell_type": "markdown",
   "metadata": {},
   "source": [
    "#### General Ideas of HDR\n",
    "__Capturing__ taking photos at multiple EV to capture more  \n",
    "__Display__ find a mapping function that can display more tones from HDR images in 8-bit LDR display"
   ]
  },
  {
   "cell_type": "markdown",
   "metadata": {},
   "source": [
    "### Inverse Camera Response Function\n",
    "\n",
    "Let $\\Phi$ represent the scene irradiance, $Z(x,y)$ be the camera recorded value on $(x,y)$. \n",
    "Consider $\\Delta t$ be he different exposure time. Then, $$Z = f_{camera}(\\Phi\\Delta_t)$$\n",
    "where $f_{camera}$ is all the remapping from RAW (i.e. gamma function). \n",
    "Then if we know how to approximate the inverse of $f_{camera}$, then we can know the original $\\Phi\\Delta_t$, then the algorithm is to\n",
    "\n",
    "```python\n",
    "for (x, y) in all image pixel:\n",
    "    for j in photos with exposure time delta_t(j):\n",
    "        estimate Phi_ij by Z(x,y) and delta_t(j)\n",
    "estimate Phi_i by Phi_ij's\n",
    "output Phi_i with image response function\n",
    "```"
   ]
  },
  {
   "cell_type": "markdown",
   "metadata": {},
   "source": [
    "#### Log-inverse Response Function\n",
    "$$g(Z) = log(f^{-1}(Z)) = \\log\\Phi + \\log\\Delta_t$$\n",
    "i.e. the log of inverse response function  \n",
    "Also, note $Z\\in \\mathbb N. Z \\leq 255$, thus we only need to approximate $256$ values\n",
    "\n",
    "Then, note that we have $N$ pixels and $P$ images, i.e. $NP$ equations and $N + 256$ unknowns. i.e.  \n",
    "\n",
    "$$g(Z_{ij}) - \\log \\Phi_i = \\log \\Delta t_{j}$$ \n",
    "where $Z_{ij}, \\log\\Delta t_j$ are known, $g, \\log\\Phi_i$ are unknown\n",
    "Then, denote $g_{ij} = g(Z_{ij}), \\phi_i = \\log \\Phi_i, \\delta_j = \\log \\Delta t_j$  \n",
    "Let \n",
    "$$\\vec x = [g(0), g(1), ..., g(255), \\phi_1,...,\\phi_N]^T$$  \n",
    "$$\\vec b = [\\underset{j\\text{ times}}{\\delta_1,...,\\delta_1},...,\\underset{j\\text{ times}}{\\delta_i,...,\\delta_i}]$$\n",
    "$$A_{NP\\times 256+N}$$\n",
    "where for the $ij$th row, $A[Z_{ij}+1] = 1, A[256+i] = -1$"
   ]
  },
  {
   "cell_type": "markdown",
   "metadata": {},
   "source": [
    "#### Smoothness Constraints\n",
    "Since we know that $g$ is a smoothly increasing function, i.e. \n",
    "$$g_{z+1} - g_z \\approx g_{z} - g_{z-i}\\Rightarrow 2g_z - g_{z+1} - g_{z-1}\\approx 0$$ \n",
    "so we add the $254$ equations"
   ]
  },
  {
   "cell_type": "markdown",
   "metadata": {},
   "source": [
    "#### Final Equation\n",
    "$$\\Phi_i = \\exp(\\frac{\\sum^P w(Z_{ij} \\log \\phi_{ij})}{\\sum^P w(Z_{ij})})$$\n",
    "$w$ is a weighting factor that depends on the pixel value, i.e. the integer approximation of $g$"
   ]
  }
 ],
 "metadata": {
  "hide_input": false,
  "kernelspec": {
   "display_name": "Python 3",
   "language": "python",
   "name": "python3"
  },
  "language_info": {
   "codemirror_mode": {
    "name": "ipython",
    "version": 3
   },
   "file_extension": ".py",
   "mimetype": "text/x-python",
   "name": "python",
   "nbconvert_exporter": "python",
   "pygments_lexer": "ipython3",
   "version": "3.7.4"
  }
 },
 "nbformat": 4,
 "nbformat_minor": 2
}
