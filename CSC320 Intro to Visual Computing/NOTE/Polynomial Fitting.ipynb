{
 "cells": [
  {
   "cell_type": "markdown",
   "metadata": {},
   "source": [
    "#### Goal \n",
    "Since an image is a discrete mapping of pixels, while the real world is \"continuous\", we want to fit the pixels by a continuous functions so that we can extract information. \n",
    "\n",
    "#### Sliding Window Algorithm\n",
    "- Define a \"pixel window\" centered at pixel $(x, y)$ so that an 1D patch can be $(0, y)\\sim (2x,y)$\n",
    "- Fit a n-degree polynomial to the intensities (commonly $n \\leq 2$)\n",
    "- Assign the poly's derivatives at $x=0$ to pixel at windows's center\n",
    "- Slide window one pixel over until window reaches border"
   ]
  },
  {
   "cell_type": "markdown",
   "metadata": {},
   "source": [
    "#### Taylor-series Approximation of Images\n",
    "Consider a 1D patch from $(0,y)$ to $(2x,y)$  \n",
    "Consider the Taylor expansion of $I$ centered at $0$\n",
    "$$I(\\vec x) = \\sum_{i=0}^\\infty \\frac{d^iI}{d\\vec x^i}\\vec x^i I(0) \\approx \\sum_{i=0}^N \\frac{d^iI}{d\\vec x^i}\\vec x^i I(0) + R_{N+1}(x)$$\n",
    "Thus, we can write it as \n",
    "$$I(x) = [1, x, x^2/2, x^3/6,...,x^n/n!][I(0), d_xI(0), d^2_{x^2}I(0), ..., d^n_{x^n}I(0)]^T$$\n",
    "\n",
    "Note that we have $2x+1$ pixels in the patch, ranges from $-x$ to $x$, let their intensities be $I_x$. So that we have\n",
    "$$\n",
    "\\begin{bmatrix}\n",
    "I_{-x}\\\\\n",
    "I_{-x+1}\\\\\n",
    "...\\\\\n",
    "I_{x-1}\\\\\n",
    "I_{x}\n",
    "\\end{bmatrix}=\n",
    "\\begin{bmatrix}\n",
    "1 &-x &...&(-x)^n/n!\\\\\n",
    "1 &(-x+1) &...&(-x+1)^n/n!\\\\\n",
    "... &... &...&...\\\\\n",
    "1 &(x-1) &...&(x-1)^n/n!\\\\\n",
    "1 &x &...&x^n/n!\\\\\n",
    "\\end{bmatrix}  \n",
    "\\begin{bmatrix}\n",
    "I(0)\\\\d_xI(0)\\\\...\\\\d^{n-1}_{x^{n-1}}I(0)\\\\d^n_{x^n}I(0)\\end{bmatrix}$$\n",
    "$$I_{(2x+1)\\times 1}=X_{(2x+1)\\times n}d_{n\\times 1}$$\n",
    "where $I, X$ are known and we want to solve $d$"
   ]
  },
  {
   "cell_type": "markdown",
   "metadata": {},
   "source": [
    "Since this is not always have a solution. We want to minimize the \"fit error\" $\\|I-Xd\\|^2 = \\sqrt{\\sum^n I_i^2}$\n",
    "\n",
    "When $n = 1$, obviously $d$ is minimized at mean, i.e. $\\sum^{2x+1} I_i / (2x+1)$"
   ]
  },
  {
   "cell_type": "markdown",
   "metadata": {},
   "source": [
    "#### Weighted least square estimation\n",
    "If we want to extract more information, or in favor of, the neighboring points, we can have $I' = \\Omega I$ where $\\Omega$ is the weight function. \n",
    "\n",
    "In 1-D case, let $\\Omega = diag(\\omega_1, ..., \\omega_{2x+1})$, we want to solve $\\Omega I = \\Omega X d$ which is to minimize $\\|\\Omega(I-Xd)\\|^2$"
   ]
  },
  {
   "cell_type": "markdown",
   "metadata": {},
   "source": [
    "#### RANSAC\n",
    "See CSC420 Notes"
   ]
  }
 ],
 "metadata": {
  "hide_input": false,
  "kernelspec": {
   "display_name": "Python 3",
   "language": "python",
   "name": "python3"
  },
  "language_info": {
   "codemirror_mode": {
    "name": "ipython",
    "version": 3
   },
   "file_extension": ".py",
   "mimetype": "text/x-python",
   "name": "python",
   "nbconvert_exporter": "python",
   "pygments_lexer": "ipython3",
   "version": "3.7.3"
  }
 },
 "nbformat": 4,
 "nbformat_minor": 2
}
