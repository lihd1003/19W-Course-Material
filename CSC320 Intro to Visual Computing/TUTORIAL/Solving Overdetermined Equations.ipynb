{
 "cells": [
  {
   "cell_type": "markdown",
   "metadata": {},
   "source": [
    "Given $\\vec b_{n\\times 1}, A_{m\\times n}$, to solve $\\vec x_{m\\times 1}, A\\vec x = \\vec b$\n",
    "\n",
    "$$\\begin{align*}A^T \\vec b &= A^T A \\vec x \\\\ (A^T A)^{-1}A^T \\vec b &= \\vec x\\end{align*}$$\n",
    "\n",
    "$(A^TA)^{-1}A$ is called __pseudo inverse__, which can be computed by SVD\n",
    "\n",
    "#### Singular Value Decomposition <a href=\"https://en.wikipedia.org/wiki/Singular_value_decomposition\">wiki</a>\n",
    "For a matrix $A$, we can decompose \n",
    "$A_{m\\times n} = U_{m\\times m}\\Sigma_{m\\times n} V^T_{n\\times n}$ where $\\Sigma$ is diagonal with non-negative $\\sigma$'s, $U,V$ are unary, i.e. $U^T = U^{-1}, V^T = V^{-1}$ "
   ]
  },
  {
   "cell_type": "markdown",
   "metadata": {},
   "source": [
    "__Claim__ $A^+ := (A^T A)^{-1}A^T = V(\\Sigma^T \\Sigma)^{-1}\\Sigma U^T$\n",
    "\n",
    "_proof_. \n",
    "$$\\begin{align*}\n",
    "(A^T A)^{-1}A^T &= (V\\Sigma^T U^T U\\Sigma V^T)^{-1}V\\Sigma^T U^T\\\\\n",
    "&= (V^{-1})^T\\Sigma^{-1}U^{-1}(U^{-1})^T(\\Sigma^{-1})^TV^{-1}V\\Sigma^T U^T \\\\\n",
    "&= V\\Sigma^{-1}U^{-1}U(\\Sigma^{-1})^T V^{-1}V\\Sigma^T U^T &U,V\\text{ unary} \\\\\n",
    "&= V\\Sigma^{-1} I (\\Sigma^{-1})^TI\\Sigma^T U^T \\\\\n",
    "&= V\\Sigma^{-1} U^T &\\text{since }\\Sigma \\text{ is diagonal}\n",
    "\\end{align*}$$"
   ]
  }
 ],
 "metadata": {
  "hide_input": false,
  "kernelspec": {
   "display_name": "Python 3",
   "language": "python",
   "name": "python3"
  },
  "language_info": {
   "codemirror_mode": {
    "name": "ipython",
    "version": 3
   },
   "file_extension": ".py",
   "mimetype": "text/x-python",
   "name": "python",
   "nbconvert_exporter": "python",
   "pygments_lexer": "ipython3",
   "version": "3.7.3"
  }
 },
 "nbformat": 4,
 "nbformat_minor": 2
}
