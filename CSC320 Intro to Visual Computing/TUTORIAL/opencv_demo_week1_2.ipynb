{
 "cells": [
  {
   "cell_type": "code",
   "execution_count": 3,
   "metadata": {
    "ExecuteTime": {
     "end_time": "2019-09-19T00:41:09.301789Z",
     "start_time": "2019-09-19T00:41:09.297768Z"
    },
    "colab": {},
    "colab_type": "code",
    "id": "_2AJ8hjTw5fA"
   },
   "outputs": [],
   "source": [
    "import numpy as np\n",
    "import cv2\n",
    "from IPython.display import Image\n",
    "\n",
    "def imshow(img):\n",
    "    # use cv2.imshow(\"windows name\",img) when not in colab\n",
    "    cv2_imshow(img)\n",
    "    cv2.waitKey(0)"
   ]
  },
  {
   "cell_type": "code",
   "execution_count": 2,
   "metadata": {
    "ExecuteTime": {
     "end_time": "2019-09-18T23:32:24.143162Z",
     "start_time": "2019-09-18T23:32:24.139173Z"
    },
    "colab": {},
    "colab_type": "code",
    "id": "lNFQm8KFF2ko"
   },
   "outputs": [],
   "source": [
    "# change to current image name\n",
    "img_name = \"apple-pie.jpg\""
   ]
  },
  {
   "cell_type": "markdown",
   "metadata": {
    "colab_type": "text",
    "id": "jgNp9KB7E4yv"
   },
   "source": [
    "# Read an image using imread"
   ]
  },
  {
   "cell_type": "code",
   "execution_count": null,
   "metadata": {
    "ExecuteTime": {
     "end_time": "2019-09-18T23:32:07.398070Z",
     "start_time": "2019-09-18T23:32:06.473Z"
    },
    "colab": {},
    "colab_type": "code",
    "id": "NFzMm7ZwBrz9"
   },
   "outputs": [],
   "source": [
    "img = cv2.imread(img_name)"
   ]
  },
  {
   "cell_type": "markdown",
   "metadata": {
    "colab_type": "text",
    "id": "MYWXFC1kE3Ic"
   },
   "source": [
    "# Show an image"
   ]
  },
  {
   "cell_type": "code",
   "execution_count": null,
   "metadata": {
    "ExecuteTime": {
     "end_time": "2019-09-18T23:32:07.399067Z",
     "start_time": "2019-09-18T23:32:06.476Z"
    },
    "colab": {},
    "colab_type": "code",
    "id": "7YXJIxyJxT0v"
   },
   "outputs": [],
   "source": [
    "imshow(img)\n",
    "print(img.shape)"
   ]
  },
  {
   "cell_type": "markdown",
   "metadata": {
    "colab_type": "text",
    "id": "ieILGrZGE8B4"
   },
   "source": [
    "we can get some subarea of the image"
   ]
  },
  {
   "cell_type": "code",
   "execution_count": null,
   "metadata": {
    "ExecuteTime": {
     "end_time": "2019-09-18T23:32:07.400064Z",
     "start_time": "2019-09-18T23:32:06.479Z"
    },
    "colab": {},
    "colab_type": "code",
    "id": "b3pQCOUB8lPQ"
   },
   "outputs": [],
   "source": [
    "imshow(img[100:200, 100:200, :])"
   ]
  },
  {
   "cell_type": "markdown",
   "metadata": {
    "colab_type": "text",
    "id": "zxDnT4_kE_Nd"
   },
   "source": [
    "we can also change the intensity of some area on the image"
   ]
  },
  {
   "cell_type": "code",
   "execution_count": null,
   "metadata": {
    "ExecuteTime": {
     "end_time": "2019-09-18T23:32:07.401061Z",
     "start_time": "2019-09-18T23:32:06.483Z"
    },
    "colab": {},
    "colab_type": "code",
    "id": "_-Y1t_-PFAz-"
   },
   "outputs": [],
   "source": [
    "img[100:150, 50:100, :] = np.zeros([50, 50, 3])\n",
    "imshow(img)\n"
   ]
  },
  {
   "cell_type": "markdown",
   "metadata": {
    "colab_type": "text",
    "id": "5TTn1n1KFHNK"
   },
   "source": [
    "or make the area white\n"
   ]
  },
  {
   "cell_type": "code",
   "execution_count": null,
   "metadata": {
    "ExecuteTime": {
     "end_time": "2019-09-18T23:32:07.403056Z",
     "start_time": "2019-09-18T23:32:06.485Z"
    },
    "colab": {},
    "colab_type": "code",
    "id": "1-1a43mpFJBR"
   },
   "outputs": [],
   "source": [
    "img[100:150, 50:100, :] = 255\n",
    "imshow(img)"
   ]
  },
  {
   "cell_type": "markdown",
   "metadata": {
    "colab_type": "text",
    "id": "ezAmBRn4FKpg"
   },
   "source": [
    "or red\n"
   ]
  },
  {
   "cell_type": "code",
   "execution_count": null,
   "metadata": {
    "ExecuteTime": {
     "end_time": "2019-09-18T23:32:07.404053Z",
     "start_time": "2019-09-18T23:32:06.488Z"
    },
    "colab": {},
    "colab_type": "code",
    "id": "05qjVlLjFM5-"
   },
   "outputs": [],
   "source": [
    "img[100:150, 50:100, 0] = 0 # the 0 before \"]\" stands for blue channel\n",
    "img[100:150, 50:100, 1] = 0 # the 1 before \"]\" stands for green channel, and 2 stands for red channel\n",
    "# Note that the color channels are in order blue, green and red, although we generally use RGB (red, green, blue)\n",
    "imshow(img)"
   ]
  },
  {
   "cell_type": "markdown",
   "metadata": {
    "colab_type": "text",
    "id": "TuTmY8SEFPId"
   },
   "source": [
    "# Read an image in greyscale using imread"
   ]
  },
  {
   "cell_type": "code",
   "execution_count": null,
   "metadata": {
    "ExecuteTime": {
     "end_time": "2019-09-18T23:32:07.406048Z",
     "start_time": "2019-09-18T23:32:06.490Z"
    },
    "colab": {},
    "colab_type": "code",
    "id": "8bKGn_zqyhm9"
   },
   "outputs": [],
   "source": [
    "\n",
    "img = cv2.imread(img_name, cv2.IMREAD_GRAYSCALE)\n",
    "print(img.dtype) # uint8, which means \"unsigned integer 8 bits\", so each value must between 0 and 255\n",
    "imshow(img)\n",
    "print(img.shape) # 2 dimentional since color dimension is removed"
   ]
  },
  {
   "cell_type": "markdown",
   "metadata": {
    "colab_type": "text",
    "id": "QSRytQQnGQYs"
   },
   "source": [
    "imread function will read an image in to an array, so we can do array operation on the image"
   ]
  },
  {
   "cell_type": "markdown",
   "metadata": {
    "colab_type": "text",
    "id": "nQ6Eb6DZGUL5"
   },
   "source": [
    "# Flip the image upside-down"
   ]
  },
  {
   "cell_type": "code",
   "execution_count": null,
   "metadata": {
    "ExecuteTime": {
     "end_time": "2019-09-18T23:32:07.407045Z",
     "start_time": "2019-09-18T23:32:06.492Z"
    },
    "colab": {},
    "colab_type": "code",
    "id": "SLQv4TWGGAID"
   },
   "outputs": [],
   "source": [
    "img_flipped = img[::-1, :]\n",
    "imshow(img_flipped)"
   ]
  },
  {
   "cell_type": "markdown",
   "metadata": {
    "colab_type": "text",
    "id": "xYdNr2DTGXEj"
   },
   "source": [
    "# Make the image brighter"
   ]
  },
  {
   "cell_type": "code",
   "execution_count": null,
   "metadata": {
    "ExecuteTime": {
     "end_time": "2019-09-18T23:32:07.408043Z",
     "start_time": "2019-09-18T23:32:06.494Z"
    },
    "colab": {},
    "colab_type": "code",
    "id": "2Q6xZFD7GaAS"
   },
   "outputs": [],
   "source": [
    "img_brighter = img + 100  # will overflow since the max possible intensity for a pixel is 255\n",
    "imshow(img_brighter)\n",
    "img_brighter_2 = img + (255 - img) / 2  # will make the image brighter, but with lower contrast\n",
    "imshow(img_brighter_2)"
   ]
  },
  {
   "cell_type": "markdown",
   "metadata": {
    "colab_type": "text",
    "id": "LDVZ3QdAT1q5"
   },
   "source": [
    "# Make the image darker"
   ]
  },
  {
   "cell_type": "code",
   "execution_count": null,
   "metadata": {
    "ExecuteTime": {
     "end_time": "2019-09-18T23:32:07.411036Z",
     "start_time": "2019-09-18T23:32:06.496Z"
    },
    "colab": {},
    "colab_type": "code",
    "id": "ES7LgU3BT3VQ"
   },
   "outputs": [],
   "source": [
    "img_darker = img.astype(np.uint16) # changing the value type will make the image much darker\n",
    "imshow(img_darker)"
   ]
  },
  {
   "cell_type": "markdown",
   "metadata": {
    "colab_type": "text",
    "id": "Y7E6Jf4RGk5u"
   },
   "source": [
    "# Drawing on the image"
   ]
  },
  {
   "cell_type": "code",
   "execution_count": null,
   "metadata": {
    "ExecuteTime": {
     "end_time": "2019-09-18T23:32:07.413033Z",
     "start_time": "2019-09-18T23:32:06.498Z"
    },
    "colab": {},
    "colab_type": "code",
    "id": "Z7XSB65MyeVo"
   },
   "outputs": [],
   "source": [
    "img = cv2.imread(img_name) # Note that this is a colored image"
   ]
  },
  {
   "cell_type": "markdown",
   "metadata": {
    "colab_type": "text",
    "id": "vvKPDc6fGrS8"
   },
   "source": [
    "We can draw a rectangle on the image"
   ]
  },
  {
   "cell_type": "code",
   "execution_count": null,
   "metadata": {
    "ExecuteTime": {
     "end_time": "2019-09-18T23:32:07.415026Z",
     "start_time": "2019-09-18T23:32:06.501Z"
    },
    "colab": {},
    "colab_type": "code",
    "id": "IRyXdKZIGs_M"
   },
   "outputs": [],
   "source": [
    "img_rectangle = img.copy()\n",
    "# (50, 50) is the top left corner, (100, 200) is the lower right corner,\n",
    "# (255, 0, 0) is the color (and brightness), 5 is the thickness of the sides\n",
    "cv2.rectangle(img_rectangle, (50, 50), (100, 200), (255, 0, 0), 5)\n",
    "imshow(img_rectangle)"
   ]
  },
  {
   "cell_type": "markdown",
   "metadata": {
    "colab_type": "text",
    "id": "BXqSFmITG0q2"
   },
   "source": [
    "Or a line\n"
   ]
  },
  {
   "cell_type": "code",
   "execution_count": null,
   "metadata": {
    "ExecuteTime": {
     "end_time": "2019-09-18T23:32:07.417020Z",
     "start_time": "2019-09-18T23:32:06.504Z"
    },
    "colab": {},
    "colab_type": "code",
    "id": "h91nV0NCG2bK"
   },
   "outputs": [],
   "source": [
    "img_line = img.copy()\n",
    "# (50, 50) and (100, 200) are the two end points of the line segment, (255, 0, 0) is the color, 5 is the thickness\n",
    "cv2.line(img_line, (50, 50), (100, 200), (255, 0, 0), 5)\n",
    "imshow(img_line)"
   ]
  },
  {
   "cell_type": "markdown",
   "metadata": {
    "colab_type": "text",
    "id": "Uj_8gWBsHOoT"
   },
   "source": [
    "Or a circle"
   ]
  },
  {
   "cell_type": "code",
   "execution_count": null,
   "metadata": {
    "ExecuteTime": {
     "end_time": "2019-09-18T23:32:07.420028Z",
     "start_time": "2019-09-18T23:32:06.507Z"
    },
    "colab": {},
    "colab_type": "code",
    "id": "pbGEGY8ZyZqz"
   },
   "outputs": [],
   "source": [
    "\n",
    "img_circle = np.zeros([300, 300], dtype=np.uint8) # create a black image of size 300*300, note that we don't have color channel, so this is a grayscale image\n",
    "imshow(img_circle)\n",
    "# (150, 120) is the center of the circle, 50 is the radius, 150 is the brightness, and -1 stands for making the circle a solid one\n",
    "cv2.circle(img_circle, (150, 120), 50, 150, -1)\n",
    "imshow(img_circle)\n"
   ]
  },
  {
   "cell_type": "markdown",
   "metadata": {
    "colab_type": "text",
    "id": "3x2w7Ki5HR-H"
   },
   "source": [
    "similar as before, but the last parameter 10 is the thickness\n"
   ]
  },
  {
   "cell_type": "code",
   "execution_count": null,
   "metadata": {
    "ExecuteTime": {
     "end_time": "2019-09-18T23:32:07.422006Z",
     "start_time": "2019-09-18T23:32:06.510Z"
    },
    "colab": {},
    "colab_type": "code",
    "id": "PaozrxAyHUb7"
   },
   "outputs": [],
   "source": [
    "cv2.circle(img_circle, (150, 120), 100, 255, 10)\n",
    "imshow(img_circle)\n",
    "\n",
    "# create a new image file on the computer, file name is circle, type is jpg, and the image content is from matrix circle\n",
    "cv2.imwrite(\"circle.jpg\", img_circle)"
   ]
  }
 ],
 "metadata": {
  "colab": {
   "collapsed_sections": [],
   "name": "week1_2.ipynb",
   "provenance": [],
   "version": "0.3.2"
  },
  "hide_input": false,
  "kernelspec": {
   "display_name": "Python 3",
   "language": "python",
   "name": "python3"
  },
  "language_info": {
   "codemirror_mode": {
    "name": "ipython",
    "version": 3
   },
   "file_extension": ".py",
   "mimetype": "text/x-python",
   "name": "python",
   "nbconvert_exporter": "python",
   "pygments_lexer": "ipython3",
   "version": "3.7.3"
  }
 },
 "nbformat": 4,
 "nbformat_minor": 1
}
