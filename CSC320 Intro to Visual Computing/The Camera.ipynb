{
 "cells": [
  {
   "cell_type": "markdown",
   "metadata": {},
   "source": [
    "#### Depth of Field\n",
    "Range of distances where blur < 1 sensor pixel. \n",
    "\n",
    "$DOF \\approx \\frac{2u^2 NC}{f^2}$ where  \n",
    "$C=$ given circle of confusion (pixel size)  \n",
    "$f=$ focal length  \n",
    "$N=$ f-stop  \n",
    "$u=$ subject distance \n",
    "\n",
    "Typically, callphone camera has wider-angle lens (short focal length), hence larger DoF"
   ]
  },
  {
   "cell_type": "markdown",
   "metadata": {},
   "source": [
    "#### Camera controls\n",
    "__Aperture__ expressed as $f/N$,the relative size of the area in which light is collected through the lens\n",
    "\n",
    "__Shutter speed__ $\\Delta t$, the duration of the exposure, often expressed as fractions of a second\n",
    "\n",
    "\n",
    "##### DoF vs. Aperture and Shutter Speed"
   ]
  }
 ],
 "metadata": {
  "hide_input": false,
  "kernelspec": {
   "display_name": "Python 3",
   "language": "python",
   "name": "python3"
  },
  "language_info": {
   "codemirror_mode": {
    "name": "ipython",
    "version": 3
   },
   "file_extension": ".py",
   "mimetype": "text/x-python",
   "name": "python",
   "nbconvert_exporter": "python",
   "pygments_lexer": "ipython3",
   "version": "3.7.3"
  }
 },
 "nbformat": 4,
 "nbformat_minor": 2
}
